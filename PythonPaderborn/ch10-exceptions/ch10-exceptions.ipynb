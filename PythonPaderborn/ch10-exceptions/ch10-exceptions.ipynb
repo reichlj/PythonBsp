{
"cells": [
 {
     "cell_type": "markdown",
     "metadata": {
        "slideshow": {
           "slide_type": "slide"
         } 
     }, 
     "source": ["<h1>Kapitel 10: Fehlerbehandlung (Exceptions)</h1>\n",
"<p>Grundlagen der Programmierung 1<p><h2>Holger Karl</h2>\n",
" "
]
    },{
     "cell_type": "markdown",
     "metadata": {
        "slideshow": {
           "slide_type": "slide"
         } 
     }, 
     "source": ["<h1>Overview</h1> \n",
"\n",
"1. Überblick\n",
"1. Fehlerbehandlung durch Rückgabewerte\n",
"1. Ausnahmebehandlung (Exceptions)\n",
"1. Exceptions in Python -- Basics\n",
"1. Geschachtelte Exceptions\n",
"1. Exceptions: Typische Nutzung\n",
"1. Exceptions in Python -- Advanced Features\n",
"1. Zusammenfassung \n",
" \n",
""
]
    },{
     "cell_type": "markdown",
     "metadata": {
        "slideshow": {
           "slide_type": "slide"
         } 
     }, 
     "source": ["<h1>Overview</h1> \n",
"\n",
"1. **<font color=\"red\">Überblick</font>**\n",
"1. Fehlerbehandlung durch Rückgabewerte\n",
"1. Ausnahmebehandlung (Exceptions)\n",
"1. Exceptions in Python -- Basics\n",
"1. Geschachtelte Exceptions\n",
"1. Exceptions: Typische Nutzung\n",
"1. Exceptions in Python -- Advanced Features\n",
"1. Zusammenfassung"
]
    },{
     "cell_type": "markdown",
     "metadata": {
        "slideshow": {
           "slide_type": "skip"
         } 
     }, 
     "source": ["# Setup\n",
"\n",
"Main point here is to set up warnings properly for presentation and to\n",
"load tutormagic, so that we can later on use pythontutor for code\n",
"animations. "
]
    },{
     "cell_type": "code",
     "metadata": {
        "slideshow": {
           "slide_type": "skip"
         } 
     }, 
"outputs": [],
"execution_count": null,
     "source": ["%load_ext tutormagic\n",
"import warnings\n",
"warnings.filterwarnings('ignore', category=DeprecationWarning, module='.*/IPython/.*')"
]
    },{
     "cell_type": "markdown",
     "metadata": {
        "slideshow": {
           "slide_type": "slide"
         } 
     }, 
     "source": ["# Was bisher geschah\n",
"\n",
"-   Wir hatten in Funktionen, Klassen mit Sonderfällen zu tun\n",
"    -   Fehlende oder sinnlose Eingaben\n",
"    -   Unmögliche Ausführung\n",
"-   Wir haben versucht, Probleme durch Rückgabewerte dem Aufrufer\n",
"    mitzuteilen\n",
"-   Das funktioniert bestenfalls kläglich"
]
    },{
     "cell_type": "markdown",
     "metadata": {
        "slideshow": {
           "slide_type": "slide"
         } 
     }, 
     "source": ["# Dieses Kapitel\n",
"\n",
"-   Ein konsistentes Vorgehen, um mit Fehler und Ausnahmen umzugehen\n",
"    -   Fehler zu signalisieren\n",
"    -   Fehler zu behandeln, weiter zu reichen oder zu ignorieren\n",
"-   Objektorientiert, also Fehler sind ebenfalls Objekte"
]
    },{
     "cell_type": "markdown",
     "metadata": {
        "slideshow": {
           "slide_type": "slide"
         } 
     }, 
     "source": ["<h1>Overview</h1> \n",
"\n",
"1. Überblick\n",
"1. **<font color=\"red\">Fehlerbehandlung durch Rückgabewerte</font>**\n",
"1. Ausnahmebehandlung (Exceptions)\n",
"1. Exceptions in Python -- Basics\n",
"1. Geschachtelte Exceptions\n",
"1. Exceptions: Typische Nutzung\n",
"1. Exceptions in Python -- Advanced Features\n",
"1. Zusammenfassung"
]
    },{
     "cell_type": "markdown",
     "metadata": {
        "slideshow": {
           "slide_type": "slide"
         } 
     }, 
     "source": ["# Vorgehen bisher: Fehlercode\n",
"\n",
"-   Kann eine Funktion nicht weiter arbeiten, gibt sie einen besonderen\n",
"    Rückgabewert zurück &#x2013; einen *Fehlercode* \n",
"    -   Den String `Error`, die Zahl -1, &#x2026;\n",
"    -   Je nach Funktion; hoffentlich ordentlich dokumentiert\n",
"-   Der Aufrufer muss diesen Fehlercode abfragen und entsprechend\n",
"    weitermachen"
]
    },{
     "cell_type": "markdown",
     "metadata": {
        "slideshow": {
           "slide_type": "slide"
         } 
     }, 
     "source": ["# Probleme bei Fehlercodes\n",
"\n",
"-   Wie Fehlercodes von normalen Rückgabewerte unterscheiden?\n",
"    -   Immer zwei Werte zurückgeben? Fehlercode und eigentliches\n",
"        Resultat?\n",
"        -   Geht nicht in allen Programmiersprachen\n",
"-   Fehlerbehandlung im Aufrufer bei aufeinander folgenden Aufrufen?\n",
"-   Was, wenn der Aufrufer nicht alle Fehler selbst behandeln kann,\n",
"    sondern an seinen Aufrufer nach oben weitergeben muss?"
]
    },{
     "cell_type": "markdown",
     "metadata": {
        "slideshow": {
           "slide_type": "slide"
         } 
     }, 
     "source": ["# Probleme bei Fehlercodes &#x2013; Beispiel"
]
    },{
     "cell_type": "markdown",
     "metadata": {
        "slideshow": {
           "slide_type": "-"
         } 
     }, 
     "source": ["## Code ohne Fehlerbehandlung<a id=\"orgheadline14\"></a>"
]
    },{
     "cell_type": "code",
     "metadata": {
        "slideshow": {
           "slide_type": "-"
         } 
     }, 
"outputs": [],
"execution_count": null,
     "source": ["f()\n",
"g()\n",
"h()"
]
    },{
     "cell_type": "markdown",
     "metadata": {
        "slideshow": {
           "slide_type": "fragment"
         } 
     }, 
     "source": ["## Code mit Fehlerbehandlung<a id=\"orgheadline15\"></a>"
]
    },{
     "cell_type": "code",
     "metadata": {
        "slideshow": {
           "slide_type": "-"
         } 
     }, 
"outputs": [],
"execution_count": null,
     "source": ["myresult = \"ok\"      # das gebe ich an meinen Aufrufer zurück \n",
"\n",
"result = f()\n",
"if result == \"ok\":\n",
"    result = g()\n",
"    if result == \"ok\" or result == \"nicht schlimm\":\n",
"        if result == \"nicht schlimm\":\n",
"            # Fehler reparieren\n",
"            ...\n",
"        result = h()\n",
"        if result == \"ok\":\n",
"            ...\n",
"        else:\n",
"            # kann ich nicht reparieren\n",
"            myresult = \"h failed\"\n",
"    else:\n",
"        # schlimme Fehler von g \n",
"        ...\n",
"else:\n",
"    ... \n",
"return myresult"
]
    },{
     "cell_type": "markdown",
     "metadata": {
        "slideshow": {
           "slide_type": "slide"
         } 
     }, 
     "source": ["# Probleme bei Fehlercodes &#x2013; Analyse\n",
"\n",
"-   Man erkennt nicht mehr die Struktur\n",
"-   Das Programm ist nicht wartbar\n",
"-   Z.B. Fehlerbehandlung von `g` an verschiedenen Stellen\n",
"-   Mit dem gleichen Fehler aus verschiedenen Aufrufen kann man\n",
"    praktisch nicht umgehen"
]
    },{
     "cell_type": "markdown",
     "metadata": {
        "slideshow": {
           "slide_type": "fragment"
         } 
     }, 
     "source": ["<div class=\"alertblock-head\" style=\"border:3px; border-style:solid; border-color:#f96900; padding: 5px; background-color:#f96900;  line-height:1.5em; text-align:center; border-radius: 15px 15px 0px 0px; margin-bottom: 0; width: 100%;\"><b>Achtung! Fehlercodes<a id=\"orgheadline17\"></a></b></div>\n",
"\n",
"Kein Wunder, dass niemand Fehlerbehandlung schreibt! \n",
"\n",
"<div class=\"alertblock-content\" style=\"border:3px; border-style:solid; border-color:#f96900; padding: 5px; margin-top: 0;  line-height:1.5em; border-radius: 0px 0px 15px 15px; width: 100%; text-align:left\"></div> "
]
    },{
     "cell_type": "markdown",
     "metadata": {
        "slideshow": {
           "slide_type": "slide"
         } 
     }, 
     "source": ["<h1>Overview</h1> \n",
"\n",
"1. Überblick\n",
"1. Fehlerbehandlung durch Rückgabewerte\n",
"1. **<font color=\"red\">Ausnahmebehandlung (Exceptions)</font>**\n",
"1. Exceptions in Python -- Basics\n",
"1. Geschachtelte Exceptions\n",
"1. Exceptions: Typische Nutzung\n",
"1. Exceptions in Python -- Advanced Features\n",
"1. Zusammenfassung"
]
    },{
     "cell_type": "markdown",
     "metadata": {
        "slideshow": {
           "slide_type": "slide"
         } 
     }, 
     "source": ["# Anforderungen Fehlerbehandlung\n",
"\n",
"-   Die Darstellung des fehlerfreien Ablaufs möglichst nicht\n",
"    unterbrechen\n",
"-   Meldung des Fehlers *nicht* über Rückgabewert\n",
"-   Nicht nach jedem Aufruf einen Fehler auswerten\n",
"-   Reaktion auf Fehler an beliebiger Stelle in Aufruferkette möglich"
]
    },{
     "cell_type": "markdown",
     "metadata": {
        "slideshow": {
           "slide_type": "slide"
         } 
     }, 
     "source": ["# Mechanismus: Ausnahmen\n",
"\n",
"Idee: Wir führen eine neue Art von Blocks ein \n",
"\n",
"-   Einen *geschützten Block*\n",
"    -   Fehler in diesem Block werden behandelt\n",
"-   Eine *Ausnahme* repräsentiert einen aufgetretenen Fehler\n",
"-   Solche Blöcke haben eigenen Code zur Behandlung einer Ausnahme &#x2013;\n",
"    einen *exception handler*"
]
    },{
     "cell_type": "markdown",
     "metadata": {
        "slideshow": {
           "slide_type": "slide"
         } 
     }, 
     "source": ["# Was will man über eine Ausnahme wissen?\n",
"\n",
"-   Wäre es nicht nützlich zu wissen: \n",
"    -   Welcher Fehler vorlag?\n",
"    -   Wo der Fehler auftrat?\n",
"-   Und beim Behandeln der Ausnahme dieses Wissen zu benutzen?\n",
"-   Ggf. Ähnlichkeiten zwischen Fehler auszunutzen?\n",
"    -   Eigene Fehlerkategorien zu definieren, zu verfeinern?"
]
    },{
     "cell_type": "markdown",
     "metadata": {
        "slideshow": {
           "slide_type": "slide"
         } 
     }, 
     "source": ["# Ausnahmen als Objekte\n",
"\n",
"Also naheliegend: \n",
"\n",
"-   Ausnahmen als Objekte repräsentieren\n",
"-   Eine geeignete Klassenhierarchie entwerfen\n",
"-   Eigene Unterklassen erlauben\n",
"-   Beim Behandeln Unterklassen/Oberklassen unterscheiden und `is-a`\n",
"      Beziehungen ausnutzen\n",
"    -   Manchmal den speziellen Fehler, manchmal den allgemeineren Fall\n",
"        behandeln"
]
    },{
     "cell_type": "markdown",
     "metadata": {
        "slideshow": {
           "slide_type": "slide"
         } 
     }, 
     "source": ["# Ausnahmen und Ausführungsmodell"
]
    },{
     "cell_type": "markdown",
     "metadata": {
        "slideshow": {
           "slide_type": "-"
         } 
     }, 
     "source": ["<div class=\"definition-head\" style=\"border:3px; border-style:solid; border-color:#5da9e9; padding: 5px; background-color:#5da9e9;  line-height:1.5em; text-align:center; border-radius: 15px 15px 0px 0px; margin-bottom: 0; width: 100%;\"><b>Definition: Ausnahme<a id=\"orgheadline23\"></a></b></div>\n",
"\n",
"Eine Ausnahme ist eine Repräsentation eines Fehlerzustands in einem\n",
"Objekt einer geeigneten Klasse. \n",
"\n",
"Eine eintretende Ausnahme *verändert das Ausführungsmodell*: Es wird\n",
"nicht die nächste Anweisung ausgeführt, sondern die Folge der\n",
"Anweisungen abgebrochen und der zugehörige Ausnahmebehandler (exception\n",
"handler) zur Ausführung gebracht. \n",
"\n",
"<div class=\"definition-content\" style=\"border:3px; border-style:solid; border-color:#5da9e9; padding: 5px; margin-top: 0; border-radius: 0px 0px 15px 15px; width: 100%; text-align:left\"></div>"
]
    },{
     "cell_type": "markdown",
     "metadata": {
        "slideshow": {
           "slide_type": "slide"
         } 
     }, 
     "source": ["<h1>Overview</h1> \n",
"\n",
"1. Überblick\n",
"1. Fehlerbehandlung durch Rückgabewerte\n",
"1. Ausnahmebehandlung (Exceptions)\n",
"1. Exceptions in Python -- Basics\n",
"1. Geschachtelte Exceptions\n",
"1. Exceptions: Typische Nutzung\n",
"1. Exceptions in Python -- Advanced Features\n",
"1. Zusammenfassung"
]
    },{
     "cell_type": "markdown",
     "metadata": {
        "slideshow": {
           "slide_type": "slide"
         } 
     }, 
     "source": ["# Ausnahmen: Objekte von `Exception`\n",
"\n",
"-   Ausnahmen werden in Python durch Objekte der Klasse `BaseException` oder\n",
"    abgeleiteter Klassen dargestellt\n",
"-   Siehe [Klassenhierarchie der Ausnahmen](https://docs.python.org/3/library/exceptions.html#exception-hierarchy)\n",
"-   Einige Beispiele:\n",
"    -   `ArithmeticError`\n",
"        -   `ZeroDivisionError`\n",
"    -   `LookupError`\n",
"        -   `IndexError`: Index ausserhalb des gültigen Bereichs\n",
"        -   `KeyError`: Schlüssel in `dict` nicht vorhanden"
]
    },{
     "cell_type": "markdown",
     "metadata": {
        "slideshow": {
           "slide_type": "slide"
         } 
     }, 
     "source": ["# Auftreten von Exceptions\n",
"\n",
"Schreiben wir ein paar fehlerhafte Programme "
]
    },{
     "cell_type": "markdown",
     "metadata": {
        "slideshow": {
           "slide_type": "-"
         } 
     }, 
     "source": ["## Division durch 0<a id=\"orgheadline26\"></a>"
]
    },{
     "cell_type": "code",
     "metadata": {
        "slideshow": {
           "slide_type": "-"
         } 
     }, 
"outputs": [],
"execution_count": null,
     "source": ["x = 5/0"
]
    },{
     "cell_type": "markdown",
     "metadata": {
        "slideshow": {
           "slide_type": "-"
         } 
     }, 
     "source": ["## Zugriff auf nicht vorhandenen Index<a id=\"orgheadline27\"></a>"
]
    },{
     "cell_type": "code",
     "metadata": {
        "slideshow": {
           "slide_type": "-"
         } 
     }, 
"outputs": [],
"execution_count": null,
     "source": ["l = [4, 5, 6]\n",
"l[22]"
]
    },{
     "cell_type": "markdown",
     "metadata": {
        "slideshow": {
           "slide_type": "slide"
         } 
     }, 
     "source": ["# Auftreten von Exceptions (2)"
]
    },{
     "cell_type": "markdown",
     "metadata": {
        "slideshow": {
           "slide_type": "-"
         } 
     }, 
     "source": ["## Nachschlagen eines nicht vorhandenen Schlüssels in `dict`<a id=\"orgheadline29\"></a>"
]
    },{
     "cell_type": "code",
     "metadata": {
        "slideshow": {
           "slide_type": "-"
         } 
     }, 
"outputs": [],
"execution_count": null,
     "source": ["d = {'a': 17, 'b': 42}\n",
"d['c']"
]
    },{
     "cell_type": "markdown",
     "metadata": {
        "slideshow": {
           "slide_type": "slide"
         } 
     }, 
     "source": ["# Unbehandelte Exceptions\n",
"\n",
"Verhalten: \n",
"\n",
"-   Die Exception trat auf\n",
"-   Sie wurde nicht behandelt\n",
"-   Also wird das Programm mit der Fehlerausgabe abgebrochen"
]
    },{
     "cell_type": "markdown",
     "metadata": {
        "slideshow": {
           "slide_type": "slide"
         } 
     }, 
     "source": ["# Unbehandelte Exceptions an Halloween\n",
"\n",
"<center>![img](./figures/foxtrot_bluescreenofdeath.png \"An Halloween kann es sinnvoll sein, Exceptions nicht zu behandeln\")</center>\n",
"\n",
"Abbildung [61](#orgparagraph1)"
]
    },{
     "cell_type": "markdown",
     "metadata": {
        "slideshow": {
           "slide_type": "slide"
         } 
     }, 
     "source": ["# Exceptions behandeln: geschützter Block\n",
"\n",
"Wir brauchen neue Schlüsselworte: \n",
"\n",
"-   `try`: Definiere einen geschützten Block\n",
"-   `except`: Nach einem geschützten Block; Code zur Fehlerbehandlung\n",
"    -   Code selbst: ein Block!\n",
"-   Assoziation von `try` und `except`: Gleiche Einrückung"
]
    },{
     "cell_type": "code",
     "metadata": {
        "slideshow": {
           "slide_type": "-"
         } 
     }, 
"outputs": [],
"execution_count": null,
     "source": ["try:\n",
"    d = {'a': 17, 'b': 42}\n",
"    d['c']\n",
"except:\n",
"    print(\"Ein Fehler ist aufgetreten\")\n",
"\n",
"print(\"Es geht hier weiter\")"
]
    },{
     "cell_type": "markdown",
     "metadata": {
        "slideshow": {
           "slide_type": "slide"
         } 
     }, 
     "source": ["# Semantik von `try` / `except`, Fehlerfall\n",
"\n",
"-   Anweisung im Block von `try` ausführen\n",
"-   Bei Auftreten von Fehler:\n",
"    -   Mit Anweisungen nach `except` weitermachen\n",
"    -   Effekte der Anweisung des `try`-Blocks bleiben erhalten"
]
    },{
     "cell_type": "code",
     "metadata": {
        "slideshow": {
           "slide_type": "-"
         } 
     }, 
"outputs": [],
"execution_count": null,
     "source": ["x = 17\n",
"try:\n",
"    x = 42\n",
"    y = 5/0\n",
"except:\n",
"    print(\"Aufgefangen\")\n",
"print(\"x: \", x)"
]
    },{
     "cell_type": "markdown",
     "metadata": {
        "slideshow": {
           "slide_type": "slide"
         } 
     }, 
     "source": ["# Nur Fehler bestimmten Typs behandeln\n",
"\n",
"`except` kann Klasse der zu behandelnden  Exception als Parameter bekommen "
]
    },{
     "cell_type": "code",
     "metadata": {
        "slideshow": {
           "slide_type": "-"
         } 
     }, 
"outputs": [],
"execution_count": null,
     "source": ["try:\n",
"    d = {'a': 17, 'b': 42}\n",
"    d['c']\n",
"except KeyError:\n",
"    print(\"Ein Fehler ist aufgetreten\")\n",
"\n",
"print(\"Es geht hier weiter\")"
]
    },{
     "cell_type": "markdown",
     "metadata": {
        "slideshow": {
           "slide_type": "slide"
         } 
     }, 
     "source": ["# Nur Fehler bestimmten Typs behandeln (2)\n",
"\n",
"Falls Fehler anderen Typs auftritt: Programm wird abgebrochen; keine\n",
"Ausgabe in diesem Beispiel "
]
    },{
     "cell_type": "code",
     "metadata": {
        "slideshow": {
           "slide_type": "-"
         } 
     }, 
"outputs": [],
"execution_count": null,
     "source": ["try:\n",
"    d = {'a': 17, 'b': 42}\n",
"    d['c']\n",
"except IndexError:\n",
"    print(\"Ein Fehler ist aufgetreten\")\n",
"\n",
"print(\"Es geht hier weiter\")"
]
    },{
     "cell_type": "markdown",
     "metadata": {
        "slideshow": {
           "slide_type": "slide"
         } 
     }, 
     "source": ["# Auf mehrere Fehlerklassen vorbereitet sein\n",
"\n",
"Auf einen `try`-Block dürfen mehrere `except`-Anweisungen folgen "
]
    },{
     "cell_type": "code",
     "metadata": {
        "slideshow": {
           "slide_type": "-"
         } 
     }, 
"outputs": [],
"execution_count": null,
     "source": ["try:\n",
"    d = {'a': 17, 'b': 42}\n",
"    d['c']\n",
"except KeyError:\n",
"    print(\"Ein Schlüssel-Fehler ist aufgetreten\")\n",
"except IndexError:\n",
"    print(\"Ein Index-Fehler ist aufgetreten\")\n",
"\n",
"print(\"Es geht hier weiter\")"
]
    },{
     "cell_type": "markdown",
     "metadata": {
        "slideshow": {
           "slide_type": "slide"
         } 
     }, 
     "source": ["# Reihenfolge mehrerer `except`\n",
"\n",
"Semantik der Reihenfolge? \n",
"\n",
"-   Nimm den *ersten*  `except`-Block, der der aufgetretenen Exception entspricht"
]
    },{
     "cell_type": "markdown",
     "metadata": {
        "slideshow": {
           "slide_type": "-"
         } 
     }, 
     "source": ["## LookupError vor KeyError<a id=\"orgheadline38\"></a>"
]
    },{
     "cell_type": "code",
     "metadata": {
        "slideshow": {
           "slide_type": "-"
         } 
     }, 
"outputs": [],
"execution_count": null,
     "source": ["try:\n",
"    d = {'a': 17, 'b': 42}\n",
"    d['c']\n",
"except LookupError:\n",
"    print(\"Ein Lookup-Fehler ist aufgetreten\")\n",
"except KeyError:\n",
"    print(\"Ein Schlüssel-Fehler ist aufgetreten\")\n",
"\n",
"print(\"Es geht hier weiter\")"
]
    },{
     "cell_type": "markdown",
     "metadata": {
        "slideshow": {
           "slide_type": "slide"
         } 
     }, 
     "source": ["# Reihenfolge mehrerer `except`"
]
    },{
     "cell_type": "markdown",
     "metadata": {
        "slideshow": {
           "slide_type": "-"
         } 
     }, 
     "source": ["## KeyError vor LookupError<a id=\"orgheadline40\"></a>"
]
    },{
     "cell_type": "code",
     "metadata": {
        "slideshow": {
           "slide_type": "-"
         } 
     }, 
"outputs": [],
"execution_count": null,
     "source": ["try:\n",
"    d = {'a': 17, 'b': 42}\n",
"    d['c']\n",
"except KeyError:\n",
"    print(\"Ein Schlüssel-Fehler ist aufgetreten\")\n",
"except LookupError:\n",
"    print(\"Ein Lookup-Fehler ist aufgetreten\")\n",
"\n",
"print(\"Es geht hier weiter\")"
]
    },{
     "cell_type": "markdown",
     "metadata": {
        "slideshow": {
           "slide_type": "slide"
         } 
     }, 
     "source": ["# Mehrere `except`-Blöcke\n",
"\n",
"Also: Die allgemeineren Exception-Klassen *nach* den spezielleren\n",
"Exception-Klassen abfangen "
]
    },{
     "cell_type": "markdown",
     "metadata": {
        "slideshow": {
           "slide_type": "fragment"
         } 
     }, 
     "source": ["<div class=\"alertblock-head\" style=\"border:3px; border-style:solid; border-color:#f96900; padding: 5px; background-color:#f96900;  line-height:1.5em; text-align:center; border-radius: 15px 15px 0px 0px; margin-bottom: 0; width: 100%;\"><b>Achtung! Leeres `except`<a id=\"orgheadline42\"></a></b></div>\n",
"\n",
"Vorsicht bei der Nutzung eines *leeren* `except`; damit werden *alle*\n",
"Exceptions abgefangen. Unter anderem auch der Versuch, das Programm\n",
"abzubrechen. Das ist in der Regel nicht gewünscht. \n",
"\n",
"Üblicherweise ist es besser, ein `except Exception` hier zu nutzen;\n",
"die Klasse `Exception` fasst die nicht-system-bezogenen Exceptions\n",
"zusammen ([Klassenhierarchie der Ausnahmen](https://docs.python.org/3/library/exceptions.html#exception-hierarchy)). Aber auch so ein *catch\n",
"all* ist mit Vorsicht zu benutzen (siehe später).\n",
"\n",
"<div class=\"alertblock-content\" style=\"border:3px; border-style:solid; border-color:#f96900; padding: 5px; margin-top: 0;  line-height:1.5em; border-radius: 0px 0px 15px 15px; width: 100%; text-align:left\"></div> "
]
    },{
     "cell_type": "markdown",
     "metadata": {
        "slideshow": {
           "slide_type": "slide"
         } 
     }, 
     "source": ["# Exception-Objekt: Aufbewahren und Auswerten\n",
"\n",
"Wenn eine Exception als ein Objekt repräsentiert wird: \n",
"\n",
"-   Wie kommen wir an das Objekt?\n",
"-   Was kann uns das sagen?"
]
    },{
     "cell_type": "markdown",
     "metadata": {
        "slideshow": {
           "slide_type": "fragment"
         } 
     }, 
     "source": ["## Syntax für Exception-Objekt<a id=\"orgheadline44\"></a>"
]
    },{
     "cell_type": "code",
     "metadata": {
        "slideshow": {
           "slide_type": "-"
         } 
     }, 
"outputs": [],
"execution_count": null,
     "source": ["try: \n",
"    ...\n",
"except ExceptionClass as e:\n",
"    # werte Objekt e aus"
]
    },{
     "cell_type": "markdown",
     "metadata": {
        "slideshow": {
           "slide_type": "slide"
         } 
     }, 
     "source": ["# Exception-Objekt: Beispiel"
]
    },{
     "cell_type": "code",
     "metadata": {
        "slideshow": {
           "slide_type": "-"
         } 
     }, 
"outputs": [],
"execution_count": null,
     "source": ["try:\n",
"    x = 5/0\n",
"except Exception as exc:\n",
"    print(exc)\n",
"    print(dir(exc))\n",
"    print(exc.args)"
]
    },{
     "cell_type": "markdown",
     "metadata": {
        "slideshow": {
           "slide_type": "slide"
         } 
     }, 
     "source": ["# Vorsicht: Exception-Objekt geht out of scope!"
]
    },{
     "cell_type": "code",
     "metadata": {
        "slideshow": {
           "slide_type": "-"
         } 
     }, 
"outputs": [],
"execution_count": null,
     "source": ["try:\n",
"    x = 5/0\n",
"except Exception as exc:\n",
"    print(exc)\n",
"    print(dir(exc))\n",
"    print(exc.args)\n",
"\n",
"print(exc)"
]
    },{
     "cell_type": "markdown",
     "metadata": {
        "slideshow": {
           "slide_type": "fragment"
         } 
     }, 
     "source": ["## Wie aufbewahren?<a id=\"orgheadline47\"></a>"
]
    },{
     "cell_type": "markdown",
     "metadata": {
        "slideshow": {
           "slide_type": "slide"
         } 
     }, 
     "source": ["# Fehlerfreier Fall: `else`\n",
"\n",
"Was, wenn keine Exception auftrat? Code für diesen Fall? \n",
"\n",
"-   `else`-Anweisung!\n",
"-   Ähnlich wie bei Schleifen!"
]
    },{
     "cell_type": "code",
     "metadata": {
        "slideshow": {
           "slide_type": "-"
         } 
     }, 
"outputs": [],
"execution_count": null,
     "source": ["try:\n",
"    x = 5/1\n",
"except Exception as exc:\n",
"    print(exc)\n",
"else:\n",
"    print(\"Alles gut\")"
]
    },{
     "cell_type": "markdown",
     "metadata": {
        "slideshow": {
           "slide_type": "slide"
         } 
     }, 
     "source": ["# `else`: Semantik?\n",
"\n",
"Wozu braucht man `else`? Warum nicht einfach ans Ende des  `try`\n",
"Blocks? "
]
    },{
     "cell_type": "markdown",
     "metadata": {
        "slideshow": {
           "slide_type": "-"
         } 
     }, 
     "source": ["## Äquivalenz?<a id=\"orgheadline50\"></a>"
]
    },{
     "cell_type": "code",
     "metadata": {
        "slideshow": {
           "slide_type": "-"
         } 
     }, 
"outputs": [],
"execution_count": null,
     "source": ["# Version 1:\n",
"try:\n",
"    ...\n",
"except:\n",
"    ...\n",
"else:\n",
"    Anweisungsfolge\n",
"\n",
"# Version 2:\n",
"try:\n",
"    ...\n",
"    Anweisungsfolge\n",
"except:\n",
"    ..."
]
    },{
     "cell_type": "markdown",
     "metadata": {
        "slideshow": {
           "slide_type": "slide"
         } 
     }, 
     "source": ["# `else`: Typisches Muster\n",
"\n",
"Häufig genutzt für eigentliche Aktion\n",
"\n",
"-   Beispiel: Datei einlesen\n",
"-   (Beispiel hier noch nicht ganz verständlich; mehr später)"
]
    },{
     "cell_type": "code",
     "metadata": {
        "slideshow": {
           "slide_type": "-"
         } 
     }, 
"outputs": [],
"execution_count": null,
     "source": ["try:\n",
"    f = open(arg, 'r')\n",
"except IOError:\n",
"    print('cannot open', arg)\n",
"else:\n",
"    print(arg, 'has', len(f.readlines()), 'lines')\n",
"    f.close()"
]
    },{
     "cell_type": "markdown",
     "metadata": {
        "slideshow": {
           "slide_type": "slide"
         } 
     }, 
     "source": ["# Und zum Abschluss eines Blocks: `finally`\n",
"\n",
"Und schließlich: Code, der nach `try` immer ausgeführt werden soll \n",
"\n",
"-   Egal, ob Exception auftrat oder nicht\n",
"-   `finally`-Abschnitt: Wird stets nach `except` oder `else` aufgeführt\n",
"-   Zweck: Aufräumen, z.B. Datei schließen"
]
    },{
     "cell_type": "code",
     "metadata": {
        "slideshow": {
           "slide_type": "-"
         } 
     }, 
"outputs": [],
"execution_count": null,
     "source": ["try:\n",
"    ...\n",
"except:\n",
"    ...\n",
"else:\n",
"    ...\n",
"finally:\n",
"    ..."
]
    },{
     "cell_type": "markdown",
     "metadata": {
        "slideshow": {
           "slide_type": "slide"
         } 
     }, 
     "source": ["# `finally` und Exceptions\n",
"\n",
"Trat eine Exception auf, die von keinem `except` behandelt wurde, so\n",
"wird `finally` ausgeführt und die Exception tritt danach wieder auf! \n",
"\n",
"-   Beispiel:"
]
    },{
     "cell_type": "code",
     "metadata": {
        "slideshow": {
           "slide_type": "-"
         } 
     }, 
"outputs": [],
"execution_count": null,
     "source": ["def divide(x, y):\n",
"    try:\n",
"        result = x / y\n",
"    except ZeroDivisionError:\n",
"        print(\"division by zero!\")\n",
"    else:\n",
"        print(\"result is\", result)\n",
"    finally:\n",
"        print(\"executing finally clause\")\n",
"\n",
"divide(2, 1)\n",
"divide(2, 0)\n",
"# divide(\"2\", \"1\")"
]
    },{
     "cell_type": "markdown",
     "metadata": {
        "slideshow": {
           "slide_type": "slide"
         } 
     }, 
     "source": ["# Exceptions auslösen\n",
"\n",
"Manchmal sinnvoll: Exceptions bewusst auslösen \n",
"\n",
"-   Für Tests, gezieltes Auslösen von Fehlerbehandlung woanders\n",
"-   Schlüsselwort `raise` mit Argument Exceptionklasse \n",
"    -   Konstruktor-Parameter werden aufbewahrt und durch `print`\n",
"            ausgegeben\n",
"    -   Nützlich bei Fehlersuche!"
]
    },{
     "cell_type": "code",
     "metadata": {
        "slideshow": {
           "slide_type": "-"
         } 
     }, 
"outputs": [],
"execution_count": null,
     "source": ["raise NameError('HiThere')"
]
    },{
     "cell_type": "markdown",
     "metadata": {
        "slideshow": {
           "slide_type": "slide"
         } 
     }, 
     "source": ["# Exceptions in Funktionsaufrufen\n",
"\n",
"Was passiert, wenn \n",
"\n",
"-   in Funktion eine Exception aufritt,\n",
"-   Aufruf in `try`-Bock war?"
]
    },{
     "cell_type": "code",
     "metadata": {
        "slideshow": {
           "slide_type": "-"
         } 
     }, 
"outputs": [],
"execution_count": null,
     "source": ["def f(nenner):\n",
"    x = 5/nenner\n",
"    print(\"nach Division\")\n",
"    return x\n",
"\n",
"try:\n",
"    x = f(0)\n",
"except ArithmeticError:\n",
"    print(\"Hoppala\")\n",
"    x = 42"
]
    },{
     "cell_type": "markdown",
     "metadata": {
        "slideshow": {
           "slide_type": "slide"
         } 
     }, 
     "source": ["# `try` &#x2013; Definition"
]
    },{
     "cell_type": "markdown",
     "metadata": {
        "slideshow": {
           "slide_type": "-"
         } 
     }, 
     "source": ["<div class=\"definition-head\" style=\"border:3px; border-style:solid; border-color:#5da9e9; padding: 5px; background-color:#5da9e9;  line-height:1.5em; text-align:center; border-radius: 15px 15px 0px 0px; margin-bottom: 0; width: 100%;\"><b>Definition: `try`<a id=\"orgheadline57\"></a></b></div>\n",
"\n",
"Eine `try`-Anweisung besteht aus \n",
"\n",
"-   dem ~try-Block an sich\n",
"-   keinem, einem oder mehreren `except`\n",
"-   einem optionalen `else`-Teil\n",
"-   einem optionalen `finally`-Teil\n",
"\n",
"Wenn ein `else` auftaucht, muss mindestens ein `except` vorhanden\n",
"sein.  Die Reihenfolge ist wie angeben.\n",
"\n",
"Tritt eine Exception in einem Funktionsaufruf auf, so wird die\n",
"Aufruffolge so lange abgebrochen, bis ein `try`-Block mit passendem\n",
"`except` gefunden wird. Wird keiner gefunden, wird das Programm\n",
"abgebrochen. \n",
"\n",
"<div class=\"definition-content\" style=\"border:3px; border-style:solid; border-color:#5da9e9; padding: 5px; margin-top: 0; border-radius: 0px 0px 15px 15px; width: 100%; text-align:left\"></div>"
]
    },{
     "cell_type": "markdown",
     "metadata": {
        "slideshow": {
           "slide_type": "slide"
         } 
     }, 
     "source": ["<h1>Overview</h1> \n",
"\n",
"1. Überblick\n",
"1. Fehlerbehandlung durch Rückgabewerte\n",
"1. Ausnahmebehandlung (Exceptions)\n",
"1. Exceptions in Python -- Basics\n",
"1. **<font color=\"red\">Geschachtelte Exceptions</font>**\n",
"1. Exceptions: Typische Nutzung\n",
"1. Exceptions in Python -- Advanced Features\n",
"1. Zusammenfassung"
]
    },{
     "cell_type": "markdown",
     "metadata": {
        "slideshow": {
           "slide_type": "slide"
         } 
     }, 
     "source": ["# `try` in `try` ?\n",
"\n",
"-   Ein `try`-Block hat Anweisungen\n",
"-   `try` selbst ist eine Anweisung\n",
"-   Also verschachteln möglich?"
]
    },{
     "cell_type": "code",
     "metadata": {
        "slideshow": {
           "slide_type": "-"
         } 
     }, 
"outputs": [],
"execution_count": null,
     "source": ["try:\n",
"    ...\n",
"    try:\n",
"        ...\n",
"    except ExceptionClass2:\n",
"        ...\n",
"    ...\n",
"except ExceptionClass1:\n",
"    ..."
]
    },{
     "cell_type": "markdown",
     "metadata": {
        "slideshow": {
           "slide_type": "slide"
         } 
     }, 
     "source": ["# `try` in `try` !\n",
"\n",
"-   Warum auch nicht!\n",
"-   Semantik ist naheliegend:\n",
"    -   Exceptions im inneren `try` werden zunächst durch dessen\n",
"        `except`-Anweisungen behandelt\n",
"    -   Falls dort nicht behandelt, eskaliert die Exception zur äußeren\n",
"        `except`-Anweisung"
]
    },{
     "cell_type": "markdown",
     "metadata": {
        "slideshow": {
           "slide_type": "slide"
         } 
     }, 
     "source": ["# `try` in `try` : Beispiel"
]
    },{
     "cell_type": "code",
     "metadata": {
        "slideshow": {
           "slide_type": "-"
         } 
     }, 
"outputs": [],
"execution_count": null,
     "source": ["try:\n",
"    # nenner = 0 \n",
"    nenner = 10**-10000\n",
"    try:\n",
"        x = 5/nenner\n",
"    except OverflowError:\n",
"        print(\"das wird zu groß\")\n",
"        x = 0\n",
"except ArithmeticError as e:\n",
"    print(\"irgendwas arithmatisches ging schief: \", e)\n",
"    x = 42\n",
"\n",
"print(x)"
]
    },{
     "cell_type": "markdown",
     "metadata": {
        "slideshow": {
           "slide_type": "slide"
         } 
     }, 
     "source": ["# `try`, Funktionsaufruf, `try`\n",
"\n",
"-   Typisch: \n",
"    -   In `try`-Block Funktion aufrufen\n",
"    -   Diese Funktion hat selbst einen `try`-Block\n",
"-   Spannender Punkt:  In Funktion nicht behandelte Exception\n",
"-   Erwartungshaltung: Äußerer `try`-Block zum Zug?\n",
"    -   Funktionsausführung abgebrochen"
]
    },{
     "cell_type": "markdown",
     "metadata": {
        "slideshow": {
           "slide_type": "slide"
         } 
     }, 
     "source": ["# `try`, Funktionsaufruf, `try`  : Beispiel"
]
    },{
     "cell_type": "code",
     "metadata": {
        "slideshow": {
           "slide_type": "-"
         } 
     }, 
"outputs": [],
"execution_count": null,
     "source": ["def f(nenner):\n",
"    try:\n",
"        x = 5/nenner\n",
"    except OverflowError:\n",
"        print(\"das wird zu groß\")\n",
"        x = 0\n",
"    return x\n",
"\n",
"try:\n",
"    # nenner = 0 \n",
"    nenner = 10**-10000\n",
"    val = f(nenner)\n",
"except ArithmeticError as e:\n",
"    print(\"irgendwas arithmatisches ging schief: \", e)\n",
"    val = 42\n",
"\n",
"print(val)"
]
    },{
     "cell_type": "markdown",
     "metadata": {
        "slideshow": {
           "slide_type": "slide"
         } 
     }, 
     "source": ["# Ein `except`, alle `finally`\n",
"\n",
"-   Eine Exception wird nur durch *ein* ~except behandelt\n",
"-   Aber es werden *alle* umschließenden *finally*-Klauseln ausgeführt"
]
    },{
     "cell_type": "markdown",
     "metadata": {
        "slideshow": {
           "slide_type": "fragment"
         } 
     }, 
     "source": ["## Beispiel<a id=\"orgheadline64\"></a>"
]
    },{
     "cell_type": "code",
     "metadata": {
        "slideshow": {
           "slide_type": "-"
         } 
     }, 
"outputs": [],
"execution_count": null,
     "source": ["try:\n",
"    # irgendwas\n",
"    try:\n",
"        try:\n",
"            raise Exception(\"meine!\")\n",
"        except:\n",
"            print(\"im dritten except\")\n",
"        finally:\n",
"            print(\"im dritten finally\")\n",
"    except:\n",
"        print(\"im zweiten except\")\n",
"    finally:\n",
"        print(\"im zweiten finally\")\n",
"except:\n",
"    print(\"im ersten except\")\n",
"finally:\n",
"    print(\"im ersten finally\")"
]
    },{
     "cell_type": "markdown",
     "metadata": {
        "slideshow": {
           "slide_type": "slide"
         } 
     }, 
     "source": ["# Ein `except`, alle `finally` &#x2013; Beispiel 2\n",
"\n",
"Egal, ob direkt geschachtelt oder in Funktionen &#x2013; gleiches Verhalten "
]
    },{
     "cell_type": "code",
     "metadata": {
        "slideshow": {
           "slide_type": "-"
         } 
     }, 
"outputs": [],
"execution_count": null,
     "source": ["def action2():\n",
"    print(1 + [])            # Generate TypeError\n",
"\n",
"def action1():\n",
"    try:\n",
"        action2()\n",
"    except TypeError:        # Most recent matching try\n",
"        print('inner except')\n",
"    finally:\n",
"        print('inner finally')\n",
"\n",
"try:\n",
"    action1()\n",
"except TypeError:            # Here, only if action1 re-raises\n",
"    print('outer except')\n",
"finally:\n",
"    print('outer finally')"
]
    },{
     "cell_type": "markdown",
     "metadata": {
        "slideshow": {
           "slide_type": "slide"
         } 
     }, 
     "source": ["# Geschachtelte `try`: Realisierung\n",
"\n",
"-   Intern werden `try`-Kontexte auf einem Stack organisiert\n",
"    -   Ähnlich zu Unterprogrammaufrufen\n",
"    -   In einem Kontext sind u.a. die `except`-Stellen abgelegt &#x2013; welche\n",
"        Klassen, an welcher Stelle wird fortgesetzt?\n",
"-   Bei Auftreten einer Exception wird dieser Stack durchsucht"
]
    },{
     "cell_type": "markdown",
     "metadata": {
        "slideshow": {
           "slide_type": "slide"
         } 
     }, 
     "source": ["<h1>Overview</h1> \n",
"\n",
"1. Überblick\n",
"1. Fehlerbehandlung durch Rückgabewerte\n",
"1. Ausnahmebehandlung (Exceptions)\n",
"1. Exceptions in Python -- Basics\n",
"1. Geschachtelte Exceptions\n",
"1. **<font color=\"red\">Exceptions: Typische Nutzung</font>**\n",
"1. Exceptions in Python -- Advanced Features\n",
"1. Zusammenfassung"
]
    },{
     "cell_type": "markdown",
     "metadata": {
        "slideshow": {
           "slide_type": "slide"
         } 
     }, 
     "source": ["# Typische Muster, wie Exceptions genutzt werden\n",
"\n",
"-   Bisher: Mechanik der Exceptions, mit ein paar Beispielen\n",
"-   Schauen wir uns typische Muster an, wie Exceptions häufig eingesetzt\n",
"    werden\n",
"    -   Fehlerfälle behandeln\n",
"    -   Programmfluss steuern\n",
"-   Benutzen Sie das mit Vorsicht; nicht alles hier ist immer sinnvoll\n",
"    -   Aber Sie müssen solche Muster zumindest wiedererkennen können"
]
    },{
     "cell_type": "markdown",
     "metadata": {
        "slideshow": {
           "slide_type": "slide"
         } 
     }, 
     "source": ["# Exceptions für Fehlerfälle im eigentlichen Sinne\n",
"\n",
"Ziel kann nicht erreicht werden, wir brauchen Sonderbehandlung: \n",
"\n",
"-   Arithmetische Fehler: Division durch Null, &#x2026;\n",
"-   Ein-/Ausgabe: Datei nicht vorhanden, keine Berechtigung, &#x2026;\n",
"    -   Unterschiedliche Fehler können gleich behandelt werden!"
]
    },{
     "cell_type": "markdown",
     "metadata": {
        "slideshow": {
           "slide_type": "slide"
         } 
     }, 
     "source": ["# Exceptions anstelle besonderer  Rückgabewerte\n",
"\n",
"-   Funktion, die\n",
"    -   bestimmtes Ereignis kommunizieren muss\n",
"    -   aber keinen besonderen Wert (*sentinel value*)  verwenden kann, weil alle Werte\n",
"        vorkommen könnten\n",
"-   Beispiel: Suchfunktion"
]
    },{
     "cell_type": "code",
     "metadata": {
        "slideshow": {
           "slide_type": "-"
         } 
     }, 
"outputs": [],
"execution_count": null,
     "source": ["class Found(Exception): pass\n",
"\n",
"def searcher():\n",
"    if ...success...:\n",
"        raise Found()            # Raise exceptions instead of returning flags\n",
"    else:\n",
"        return\n",
"\n",
"try:\n",
"    searcher()\n",
"except Found:                    # Exception if item was found\n",
"    ...success...\n",
"else:                            # else returned: not found\n",
"    ...failure..."
]
    },{
     "cell_type": "markdown",
     "metadata": {
        "slideshow": {
           "slide_type": "slide"
         } 
     }, 
     "source": ["# Mehrere geschachtelte Schleifen abbrechen\n",
"\n",
"-   `break` bricht nur die innerste Schleife ab\n",
"-   Mit Exceptions:"
]
    },{
     "cell_type": "code",
     "metadata": {
        "slideshow": {
           "slide_type": "-"
         } 
     }, 
"outputs": [],
"execution_count": null,
     "source": ["class Exitloop(Exception): pass\n",
"\n",
"try:\n",
"    while True:\n",
"        while True:\n",
"            for i in range(10):\n",
"                # break would just not do the job \n",
"                if i > 3: raise Exitloop          \n",
"                print('loop3: %s' % i)\n",
"            print('loop2')\n",
"        print('loop1')\n",
"except Exitloop:\n",
"    print('continuing')\n",
"\n",
"Anmerkung: Zeigen Sie das keinem Software-Techniker :-) "
]
    },{
     "cell_type": "markdown",
     "metadata": {
        "slideshow": {
           "slide_type": "slide"
         } 
     }, 
     "source": ["# Exceptions als Anzeichen für erwartetes Verhalten\n",
"\n",
"-   Typisch: Mit Exception auf das Ende einer Eingabe reagieren"
]
    },{
     "cell_type": "code",
     "metadata": {
        "slideshow": {
           "slide_type": "-"
         } 
     }, 
"outputs": [],
"execution_count": null,
     "source": ["while True:\n",
"    try:\n",
"        # Eingabe einlesen (z.B. von Tastatur, Datei)\n",
"        line = input()           \n",
"    except EOFError:\n",
"        # EOFError: keine Eingabe mehr vorhanden \n",
"        break                    \n",
"    else:\n",
"        # hier nächste Zeile verarbeiten\n",
"        ..."
]
    },{
     "cell_type": "markdown",
     "metadata": {
        "slideshow": {
           "slide_type": "slide"
         } 
     }, 
     "source": ["# Was gehört in `try`?\n",
"\n",
"Zusammenfassend: Was sollte in einem `try`-Block ausgeführt werden? \n",
"\n",
"-   Anweisungen, bei denen häufig Fehler auftreten: Interaktion mit\n",
"    Nutzer oder Betriebssystem\n",
"-   Lange Funktionen: Viele `try` in Funktion, oder ein `try` beim\n",
"    Aufruf?\n",
"    -   Viele `try`: Exception an der richtigen Stelle; Code wird\n",
"        unleserlich\n",
"    -   Ein `try` für Aufruf: Gefahr den zu vergessen!\n",
"        Ggf. Wrapper-Funktion (insbes. sinnvoll in Klasse mit eigentlicher\n",
"        Funktion als Unterstrich-Version)"
]
    },{
     "cell_type": "markdown",
     "metadata": {
        "slideshow": {
           "slide_type": "slide"
         } 
     }, 
     "source": ["# Was abfangen?\n",
"\n",
"-   Nicht zu viel: Klasse nicht zu allgemein \n",
"    -   Ein bloßes `except:` ohne Klasse ist gefährlich; behandelt auch\n",
"        Fehler, die eigentlich nicht behandelt werden sollen an dieser\n",
"        Stelle\n",
"        -   Z.B. Programmabbruch\n",
"        -   Fehler die weiter außen sinnvoller behandelt werden können\n",
"    -   In der Regel sollte mindestens auf `except Exception` eingeschränkt\n",
"        werden, um Programmablauf-Exceptions nicht zu behandeln\n",
"-   Nicht zu wenig: Klasse nicht zu speziell\n",
"    -   Insbes. wenn eigene Exceptions als normal behandelt werden sollen\n",
"    -   Was passiert, wenn man weitere normale Exceptions hinzufügt?\n",
"    -   Über Klassenhierarchie der eigenen Exceptions nachdenken!"
]
    },{
     "cell_type": "markdown",
     "metadata": {
        "slideshow": {
           "slide_type": "slide"
         } 
     }, 
     "source": ["# Coding Style: EAFP vs. LBYL\n",
"\n",
"Sprachen mit Exceptions (nicht nur Python) führen oft zu einem Coding-Style, der diese\n",
"umfassend benutzt: \n",
"\n",
"-   Der Normalfall wird in einem `try` aufgeschrieben\n",
"-   Dann kommen ggf. viele `except` mit Reparatur-Code\n",
"-   Zusammengefasst: *Easier to ask forgiveness than permission* (EAFP)\n",
"\n",
"Alternative in Sprachen ohne Exceptions: Vor einer Aktion prüfen, ob\n",
"diese durchgeführt werden kann \n",
"\n",
"-   Durch viele, viele `if`-Anweisungen charakterisiert\n",
"-   Zusammengefasst: *Look before you leap* (LBYL)"
]
    },{
     "cell_type": "markdown",
     "metadata": {
        "slideshow": {
           "slide_type": "slide"
         } 
     }, 
     "source": ["<h1>Overview</h1> \n",
"\n",
"1. Überblick\n",
"1. Fehlerbehandlung durch Rückgabewerte\n",
"1. Ausnahmebehandlung (Exceptions)\n",
"1. Exceptions in Python -- Basics\n",
"1. Geschachtelte Exceptions\n",
"1. Exceptions: Typische Nutzung\n",
"1. Exceptions in Python -- Advanced Features\n",
"1. Zusammenfassung"
]
    },{
     "cell_type": "markdown",
     "metadata": {
        "slideshow": {
           "slide_type": "slide"
         } 
     }, 
     "source": ["# Eigene Exceptions\n",
"\n",
"-   Fehlersuche in einem komplexen Programm wird kompliziert\n",
"-   Wir würden gerne mehr Information aufbewahren und ausgeben\n",
"-   Und mehr Klassen von Exceptions unterscheiden können, zur genaueren\n",
"    Fehlerbehandlung\n",
"\n",
"Lösung: Exceptions sind Objekt; Klassenhierarchie erweitern! "
]
    },{
     "cell_type": "markdown",
     "metadata": {
        "slideshow": {
           "slide_type": "slide"
         } 
     }, 
     "source": ["# Eigene Exception-Klassen\n",
"\n",
"Beispiel: Detaillierte Ausgabe von Parametern "
]
    },{
     "cell_type": "code",
     "metadata": {
        "slideshow": {
           "slide_type": "-"
         } 
     }, 
"outputs": [],
"execution_count": null,
     "source": ["class MyExcp(Exception):\n",
"    def __str__(self):\n",
"        return (\"MyExcept deals with this: {}, {}. {}\".format(\n",
"            self.args[0], self.args[1], self.args[2])\n",
"            )\n",
"\n",
"try:\n",
"    raise MyExcp(\"a\", 2, 3)\n",
"except MyExcp as e:\n",
"    print(e)"
]
    },{
     "cell_type": "markdown",
     "metadata": {
        "slideshow": {
           "slide_type": "slide"
         } 
     }, 
     "source": ["# Eigene Exception-Klassen (2)\n",
"\n",
"Beispiel: Exceptions in Datei mitprotokollieren "
]
    },{
     "cell_type": "code",
     "metadata": {
        "slideshow": {
           "slide_type": "-"
         } 
     }, 
"outputs": [],
"execution_count": null,
     "source": ["class MyExcp(Exception):\n",
"    logfile = \"mylogs.txt\"\n",
"    def logerror(self):\n",
"        log = open(self.logfile, 'a')\n",
"        print(\"MyExcept deals with this: {}, {}. {}\".format(\n",
"            self.args[0], self.args[1], self.args[2]),\n",
"            file=log)\n",
"        log.close()\n",
"\n",
"try:\n",
"    raise MyExcp(\"a\", 2, 3)\n",
"except MyExcp as e:\n",
"    # let's log this:\n",
"    e.logerror()"
]
    },{
     "cell_type": "markdown",
     "metadata": {
        "slideshow": {
           "slide_type": "slide"
         } 
     }, 
     "source": ["# Exceptions in `except`?\n",
"\n",
"Was passiert, wenn der Code in `except` selbst wieder einen Fehler\n",
"produziert? \n",
"\n",
"-   Option 1: Weitere `except`-Klauseln des gleichen `try` werden\n",
"    benutzt\n",
"    -   Unübersichtlich&#x2026;\n",
"-   Option 2: `finally` ausführen, und danach die Exception als neu\n",
"    aufgetreten ansehen\n",
"    -   Und natürlich den `except`-Block nach Fehler abbrechen"
]
    },{
     "cell_type": "markdown",
     "metadata": {
        "slideshow": {
           "slide_type": "slide"
         } 
     }, 
     "source": ["# Exceptions in `except`? &#x2013; Beispiel"
]
    },{
     "cell_type": "code",
     "metadata": {
        "slideshow": {
           "slide_type": "-"
         } 
     }, 
"outputs": [],
"execution_count": null,
     "source": ["try:\n",
"    try:\n",
"        x = 5/0\n",
"    except ArithmeticError:\n",
"        print(\"Anfang ArithmeticError Handler\")\n",
"        raise IndexError\n",
"        print(\"Ende ArithmeticError Handler\")\n",
"    except IndexError:\n",
"        print(\"im inneren IndexError Handler\")\n",
"    finally:\n",
"        print(\"Finally im inneren try\")\n",
"except:\n",
"    print(\"Im outer exception handler\")"
]
    },{
     "cell_type": "markdown",
     "metadata": {
        "slideshow": {
           "slide_type": "slide"
         } 
     }, 
     "source": ["# Exceptions in `except`  &#x2013; Vorsicht\n",
"\n",
"<center>![img](./figures/exception-in-except.png \"Exceptions beim Behandeln von Exceptions\")</center>"
]
    },{
     "cell_type": "markdown",
     "metadata": {
        "slideshow": {
           "slide_type": "slide"
         } 
     }, 
     "source": ["# `sys.exc_info` und Tracebacks\n",
"\n",
"Es gibt mehr über eine Exception zu erfahren! \n",
"\n",
"-   Information über gerade behandelte  Exception: eingebaute Funktion `sys.ecx_info`\n",
"    -   Liefert 3-Tuple (type, value, traceback):\n",
"        -   Type: Die Klasse der aufgetretenen Exception\n",
"        -   Value: Das Objekt dieser Klasse\n",
"        -   Traceback: siehe unten\n",
"    -   Nur sinnvoll in except-Klausel, sonst (None, None, None)"
]
    },{
     "cell_type": "markdown",
     "metadata": {
        "slideshow": {
           "slide_type": "slide"
         } 
     }, 
     "source": ["# `sys.exc_info`: Beispiel"
]
    },{
     "cell_type": "code",
     "metadata": {
        "slideshow": {
           "slide_type": "-"
         } 
     }, 
"outputs": [],
"execution_count": null,
     "source": ["# import machen wir in folgendem Kapitel \n",
"import sys\n",
"try:\n",
"    raise IndexError(\"ein absichtlicher Fehler\")\n",
"except Exception:\n",
"    print(sys.exc_info())"
]
    },{
     "cell_type": "markdown",
     "metadata": {
        "slideshow": {
           "slide_type": "fragment"
         } 
     }, 
     "source": ["## Beobachtung<a id=\"orgheadline83\"></a>\n",
"\n",
"Obwohl wir nur nach `Exception` fragen, bekommen wir über\n",
"`sys.exc_info()` genauere Informationen über die tatsächliche Klasse "
]
    },{
     "cell_type": "markdown",
     "metadata": {
        "slideshow": {
           "slide_type": "slide"
         } 
     }, 
     "source": ["# Traceback\n",
"\n",
"-   Traceback: Folge der Aufrufe, die zu der Exception geführt haben\n",
"    -   Welche Funktionsaufrufe?\n",
"    -   Welche Zeilen?\n",
"-   Haben wir schon in den Beispielen oben gesehen!\n",
"-   Steht als eigenes Objekt in `sys.exc_info` zur Verfügung\n",
"-   Zur Verarbeitung braucht man Hilfsfunktionen"
]
    },{
     "cell_type": "markdown",
     "metadata": {
        "slideshow": {
           "slide_type": "slide"
         } 
     }, 
     "source": ["# Traceback &#x2013; Beispiel"
]
    },{
     "cell_type": "code",
     "metadata": {
        "slideshow": {
           "slide_type": "-"
         } 
     }, 
"outputs": [],
"execution_count": null,
     "source": ["import sys\n",
"import traceback \n",
"def f():\n",
"    print(\"Anfang f\")\n",
"    try:\n",
"        g()\n",
"    except IndexError:\n",
"        print(\"Index Error\")\n",
"    print(\"Ende f\")\n",
"\n",
"def g():\n",
"    raise ArithmeticError \n",
"\n",
"try:\n",
"    f()\n",
"except Exception:\n",
"    exc = sys.exc_info()\n",
"    tb = traceback.extract_tb(exc[2])\n",
"    print(tb)"
]
    },{
     "cell_type": "markdown",
     "metadata": {
        "slideshow": {
           "slide_type": "slide"
         } 
     }, 
     "source": ["# Aufräumarbeiten: Context managers\n",
"\n",
"Häufiges Muster bei `finally`: Aufräumarbeiten durchführen \n",
"\n",
"-   Datei schließen und ähnliches\n",
"-   Auch oft: Aufräumarbeiten hängen von einem bestimmten Objekt ab, das\n",
"    in `try` benutzt wird\n",
"    -   Und sind immer die gleichen, egal was sonst passiert\n",
"\n",
"Also Muster: "
]
    },{
     "cell_type": "code",
     "metadata": {
        "slideshow": {
           "slide_type": "-"
         } 
     }, 
"outputs": [],
"execution_count": null,
     "source": ["try:\n",
"    # erzeuge ein Objekt \n",
"    obj = ...\n",
"    # Verarbeite\n",
"    ...\n",
"finally:\n",
"    obj.aufraeum()"
]
    },{
     "cell_type": "markdown",
     "metadata": {
        "slideshow": {
           "slide_type": "slide"
         } 
     }, 
     "source": ["# Aufräumarbeiten: Context managers\n",
"\n",
"-   Idee: Wir legen fest, wie man bei einem Objekt (genauer: bei der\n",
"    Klasse) die Aufräumarbeiten identifizieren kann\n",
"    -   Z.B.: eine Methode `__exit__`\n",
"-   Dann: Kompakte Version möglich durch neues Schlüsselwort: `with ... as`\n",
"    -   Wichtige Fälle verdienen explizite Unterstützung durch Sprache!\n",
"-   [Details](http://proquest.tech.safaribooksonline.de/book/programming/python/9781449355722/34dot-exception-coding-details/ch34s06_html) sind umfangreicher"
]
    },{
     "cell_type": "markdown",
     "metadata": {
        "slideshow": {
           "slide_type": "slide"
         } 
     }, 
     "source": ["# `with ... as` als Ersatz für `try`-Muster"
]
    },{
     "cell_type": "markdown",
     "metadata": {
        "slideshow": {
           "slide_type": "-"
         } 
     }, 
     "source": ["## Kompakt mit `with`<a id=\"orgheadline89\"></a>"
]
    },{
     "cell_type": "code",
     "metadata": {
        "slideshow": {
           "slide_type": "-"
         } 
     }, 
"outputs": [],
"execution_count": null,
     "source": ["with Ausdruck as variable:\n",
"    ..."
]
    },{
     "cell_type": "markdown",
     "metadata": {
        "slideshow": {
           "slide_type": "-"
         } 
     }, 
     "source": ["## Entspricht `try`<a id=\"orgheadline90\"></a>"
]
    },{
     "cell_type": "code",
     "metadata": {
        "slideshow": {
           "slide_type": "-"
         } 
     }, 
"outputs": [],
"execution_count": null,
     "source": ["try:\n",
"    variable = Ausdruck\n",
"    ...\n",
"finally:\n",
"    variable.__exit__()"
]
    },{
     "cell_type": "markdown",
     "metadata": {
        "slideshow": {
           "slide_type": "slide"
         } 
     }, 
     "source": ["<h1>Overview</h1> \n",
"\n",
"1. Überblick\n",
"1. Fehlerbehandlung durch Rückgabewerte\n",
"1. Ausnahmebehandlung (Exceptions)\n",
"1. Exceptions in Python -- Basics\n",
"1. Geschachtelte Exceptions\n",
"1. Exceptions: Typische Nutzung\n",
"1. Exceptions in Python -- Advanced Features\n",
"1. **<font color=\"red\">Zusammenfassung</font>**"
]
    },{
     "cell_type": "markdown",
     "metadata": {
        "slideshow": {
           "slide_type": "slide"
         } 
     }, 
     "source": ["# Zusammenfassung\n",
"\n",
"-   Exceptions sind ein Mittel, den Programmablauf in Fehlerfällen und\n",
"    Sonderfällen gezielt zu beeinflussen\n",
"-   Exceptions können an einer Stelle eines Programms auftreten und an\n",
"    anderen Stellen behandelt werden\n",
"    -   Insbes. bei geschachtelten Funktionsaufrufen\n",
"-   Exceptions werden häufig in bestimmten Mustern benutzt (Lesbarkeit!)\n",
"\n",
"  "
]
 }
],
 "metadata": {
  "celltoolbar": "Slideshow",
  "livereveal": {
        "theme": "simple",
        "transition": "none"
    },
  "kernelspec": {
   "display_name": "Python 3",
   "language": "python",
   "name": "python3"
  },
  "language_info": {
   "codemirror_mode": {
    "name": "ipython",
    "version": 3
   },
   "file_extension": ".py",
   "mimetype": "text/x-python",
   "name": "python",
   "nbconvert_exporter": "python",
   "pygments_lexer": "ipython3",
   "version": "3.5.1"
  }
 },
 "nbformat": 4,
 "nbformat_minor": 0
}