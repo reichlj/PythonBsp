{
"cells": [
 {
     "cell_type": "markdown",
     "metadata": {
        "slideshow": {
           "slide_type": "slide"
         } 
     }, 
     "source": ["<h1>Kapitel 5: Weitere Datentypen</h1>\n",
"<p>Grundlagen der Programmierung 1<p><h2>Holger Karl</h2>\n",
" "
]
    },{
     "cell_type": "markdown",
     "metadata": {
        "slideshow": {
           "slide_type": "slide"
         } 
     }, 
     "source": ["<h1>Overview</h1> \n",
"\n",
"1. Überblick\n",
"1. Aufzählungen\n",
"1. Veränderliche Aufzählungen: Listen\n",
"1. Veränderliche Aufzählungen: Mengen\n",
"1. Abbildungstypen\n",
"1. Zusammenhang der Datentypen\n",
"1. Zusammenfassung \n",
" \n",
""
]
    },{
     "cell_type": "markdown",
     "metadata": {
        "slideshow": {
           "slide_type": "slide"
         } 
     }, 
     "source": ["<h1>Overview</h1> \n",
"\n",
"1. **<font color=\"red\">Überblick</font>**\n",
"1. Aufzählungen\n",
"1. Veränderliche Aufzählungen: Listen\n",
"1. Veränderliche Aufzählungen: Mengen\n",
"1. Abbildungstypen\n",
"1. Zusammenhang der Datentypen\n",
"1. Zusammenfassung"
]
    },{
     "cell_type": "markdown",
     "metadata": {
        "slideshow": {
           "slide_type": "skip"
         } 
     }, 
     "source": ["# Setup\n",
"\n",
"Main point here is to set up warnings properly for presentation and to\n",
"load tutormagic, so that we can later on use pythontutor for code\n",
"animations. "
]
    },{
     "cell_type": "code",
     "metadata": {
        "slideshow": {
           "slide_type": "skip"
         } 
     }, 
"outputs": [],
"execution_count": null,
     "source": ["%load_ext tutormagic\n",
"import warnings\n",
"warnings.filterwarnings('ignore', category=DeprecationWarning, module='.*/IPython/.*')\n",
"\n",
"\n",
"import requests\n",
"import webbrowser\n",
"from IPython.core.magic import register_line_magic\n",
"\n",
"pingo_token = \"BRx9QJP7rjdUGBq3x4hP\"\n",
"\n",
"# Test-Session: \n",
"pingo_url = \"https://pingo.upb.de/events/311055/quick_start.json\"\n",
"# Produktiv-Session: \n",
"# pingo_url = \"https://pingo.upb.de/events/204051/quick_start.json\"\n",
"\n",
"pingo_duration = '120'\n",
"pingo_type = \"single\"\n",
"\n",
"\n",
"@register_line_magic\n",
"def pingo(line):\n",
"    params = {'survey_name': pingo_title, \n",
"              'predef_options': pingo_questions, \n",
"              'q_type': pingo_type,\n",
"              'duration': pingo_duration, \n",
"              'auth_token': pingo_token}\n",
"\n",
"    r = requests.post(pingo_url, json=params)\n",
"    webbrowser.open_new_tab(\"https://pingo.upb.de\" + r.headers['Location'])"
]
    },{
     "cell_type": "markdown",
     "metadata": {
        "slideshow": {
           "slide_type": "slide"
         } 
     }, 
     "source": ["# Dieses Kapitel\n",
"\n",
"-   Bisher: einfache, *unveränderliche* Datentypen\n",
"-   Hier:\n",
"    -   Zusammengesetzte unveränderliche Typen\n",
"        -   Tuples, Mengen\n",
"    -   *Veränderliche* Datentypen\n",
"        -   Aufzählungen!"
]
    },{
     "cell_type": "markdown",
     "metadata": {
        "slideshow": {
           "slide_type": "slide"
         } 
     }, 
     "source": ["<h1>Overview</h1> \n",
"\n",
"1. Überblick\n",
"1. **<font color=\"red\">Aufzählungen</font>**\n",
"1. Veränderliche Aufzählungen: Listen\n",
"1. Veränderliche Aufzählungen: Mengen\n",
"1. Abbildungstypen\n",
"1. Zusammenhang der Datentypen\n",
"1. Zusammenfassung"
]
    },{
     "cell_type": "markdown",
     "metadata": {
        "slideshow": {
           "slide_type": "slide"
         } 
     }, 
     "source": ["# Zeichenkette\n",
"\n",
"-   Erinnern wir uns an `str`:  Eine *Aufzählung* einzelner Zeichen\n",
"-   Warum geht das nur mit Zeichen?\n",
"-   Andere Objekte aufzählen?\n",
"    -   Zahlen? Funktionen?\n",
"-   Und einer solchen Aufzählung einen Namen geben?\n",
"    -   Also wie bei `str`?"
]
    },{
     "cell_type": "markdown",
     "metadata": {
        "slideshow": {
           "slide_type": "slide"
         } 
     }, 
     "source": ["# Aufzählung: Wunschliste\n",
"\n",
"Was hätten wir gerne? \n",
"\n",
"-   Beliebige Objekte aufzählen, nicht nur Zeichen\n",
"-   Reihenfolge!\n",
"-   Zugriff auf einzelne Elemente\n",
"    -   Zugriff auf der 1., 2., 3. Element"
]
    },{
     "cell_type": "markdown",
     "metadata": {
        "slideshow": {
           "slide_type": "slide"
         } 
     }, 
     "source": ["# Aufzählungen von Aufzählungen?\n",
"\n",
"-   Auch: Aufzählungen von Aufzählungen?\n",
"-   Also: Aufzählungen müssten Objekte sein!\n",
"-   Ansatz: eine Aufzählung merkt sich **Referenzen** auf Objekte"
]
    },{
     "cell_type": "markdown",
     "metadata": {
        "slideshow": {
           "slide_type": "slide"
         } 
     }, 
     "source": ["# Tuple\n",
"\n",
"-   Wunschliste mit sog. *Tuples* erfüllt"
]
    },{
     "cell_type": "markdown",
     "metadata": {
        "slideshow": {
           "slide_type": "fragment"
         } 
     }, 
     "source": ["## Eine Aufzählung von drei Zahlen:<a id=\"orgheadline13\"></a>"
]
    },{
     "cell_type": "code",
     "metadata": {
        "slideshow": {
           "slide_type": "-"
         } 
     }, 
"outputs": [],
"execution_count": null,
     "source": ["t = (17, 42, 101) \n",
"print(t)"
]
    },{
     "cell_type": "markdown",
     "metadata": {
        "slideshow": {
           "slide_type": "fragment"
         } 
     }, 
     "source": ["## Eine Aufzählung von Zeichenketten:<a id=\"orgheadline14\"></a>"
]
    },{
     "cell_type": "code",
     "metadata": {
        "slideshow": {
           "slide_type": "-"
         } 
     }, 
"outputs": [],
"execution_count": null,
     "source": ["t = (\"Hallo\", \"GP1\", \"!\")\n",
"print(t)"
]
    },{
     "cell_type": "markdown",
     "metadata": {
        "slideshow": {
           "slide_type": "fragment"
         } 
     }, 
     "source": ["## Eine gemischte Aufzählung<a id=\"orgheadline15\"></a>"
]
    },{
     "cell_type": "code",
     "metadata": {
        "slideshow": {
           "slide_type": "-"
         } 
     }, 
"outputs": [],
"execution_count": null,
     "source": ["t = (\"Hallo\", \"GP1\", 16, 17) \n",
"print(t)"
]
    },{
     "cell_type": "markdown",
     "metadata": {
        "slideshow": {
           "slide_type": "fragment"
         } 
     }, 
     "source": ["## Eine Aufzählung von Aufzählung<a id=\"orgheadline16\"></a>"
]
    },{
     "cell_type": "code",
     "metadata": {
        "slideshow": {
           "slide_type": "-"
         } 
     }, 
"outputs": [],
"execution_count": null,
     "source": ["t = (\"Hallo\", \"GP1\", (1, 2, 3, 9, 8, 7) ) \n",
"print(t)"
]
    },{
     "cell_type": "markdown",
     "metadata": {
        "slideshow": {
           "slide_type": "subslide"
         } 
     }, 
     "source": ["# Tuples und Objekte: Visualisierung\n",
"\n",
"Tuple: Aufzählung von Referenzen auf Objekte "
]
    },{
     "cell_type": "code",
     "metadata": {
        "slideshow": {
           "slide_type": "-"
         } 
     }, 
"outputs": [],
"execution_count": null,
     "source": ["%%tutor \n",
"t = (\"Hallo\", \"GP1\", 1, 2, 3)"
]
    },{
     "cell_type": "markdown",
     "metadata": {
        "slideshow": {
           "slide_type": "subslide"
         } 
     }, 
     "source": ["# Tuple und Objekte: Visualisierung (2)\n",
"\n",
"Tuple von Tuple: Aufzählung von Referenzen auf Referenzen auf Objekte  "
]
    },{
     "cell_type": "code",
     "metadata": {
        "slideshow": {
           "slide_type": "-"
         } 
     }, 
"outputs": [],
"execution_count": null,
     "source": ["%%tutor -t\n",
"t = ((\"Hallo\", \"GP1\"),  (1, 2, 3))"
]
    },{
     "cell_type": "markdown",
     "metadata": {
        "slideshow": {
           "slide_type": "subslide"
         } 
     }, 
     "source": ["# Tuple und Objekte: Visualisierung (3)\n",
"\n",
"Was passiert, wenn das gleiche Element mehrfach im Tuple enthalten ist? "
]
    },{
     "cell_type": "code",
     "metadata": {
        "slideshow": {
           "slide_type": "-"
         } 
     }, 
"outputs": [],
"execution_count": null,
     "source": ["%%tutor -t\n",
"t = (1, 2, 3, 1, 2, 1, 1, 1)"
]
    },{
     "cell_type": "markdown",
     "metadata": {
        "slideshow": {
           "slide_type": "slide"
         } 
     }, 
     "source": ["# Einfache Subskripts\n",
"\n",
"-   Wie bekommt man an die Werte in einem Tuple heran?\n",
"-   *Subscript*-Notation: Index mit `[`, `]`\n",
"    -   Nummer des gewünschten Elements\n",
"    -   Ab 0 beginnend!"
]
    },{
     "cell_type": "markdown",
     "metadata": {
        "slideshow": {
           "slide_type": "subslide"
         } 
     }, 
     "source": ["# Einfache Subskripts  &#x2013; Beispiele"
]
    },{
     "cell_type": "markdown",
     "metadata": {
        "slideshow": {
           "slide_type": "-"
         } 
     }, 
     "source": ["## Beispiel<a id=\"orgheadline22\"></a>"
]
    },{
     "cell_type": "code",
     "metadata": {
        "slideshow": {
           "slide_type": "-"
         } 
     }, 
"outputs": [],
"execution_count": null,
     "source": ["t = (\"Hallo\", \"GP1\", (1, 2, 3, 9, 8, 7) ) \n",
"print(\"t[1]: \", t[1])\n",
"print(\"t[2]: \", t[2])"
]
    },{
     "cell_type": "markdown",
     "metadata": {
        "slideshow": {
           "slide_type": "fragment"
         } 
     }, 
     "source": ["## Beispiel: Verkettete Subskripts<a id=\"orgheadline23\"></a>"
]
    },{
     "cell_type": "code",
     "metadata": {
        "slideshow": {
           "slide_type": "-"
         } 
     }, 
"outputs": [],
"execution_count": null,
     "source": ["t = (\"Hallo\", \"GP1\", (1, 2, 3, 9, 8, 7) ) \n",
"print(t[2][3])"
]
    },{
     "cell_type": "markdown",
     "metadata": {
        "slideshow": {
           "slide_type": "fragment"
         } 
     }, 
     "source": ["## Beispiel: Fehler<a id=\"orgheadline24\"></a>"
]
    },{
     "cell_type": "code",
     "metadata": {
        "slideshow": {
           "slide_type": "-"
         } 
     }, 
"outputs": [],
"execution_count": null,
     "source": ["t = (\"Hallo\", \"GP1\", (1, 2, 3, 9, 8, 7) ) \n",
"print(t[5])"
]
    },{
     "cell_type": "markdown",
     "metadata": {
        "slideshow": {
           "slide_type": "slide"
         } 
     }, 
     "source": ["# Mehrzuweisung von Tuples\n",
"\n",
"-   Mehrfachzuweisung bisher: Anzahl links == Anzahl rechts \n",
"    -   `x, y = 1, 2`\n",
"-   Was, wenn rechts ein Tuple steht? Und links mehrere Namen?"
]
    },{
     "cell_type": "markdown",
     "metadata": {
        "slideshow": {
           "slide_type": "-"
         } 
     }, 
     "source": ["## Beispiel<a id=\"orgheadline26\"></a>"
]
    },{
     "cell_type": "code",
     "metadata": {
        "slideshow": {
           "slide_type": "-"
         } 
     }, 
"outputs": [],
"execution_count": null,
     "source": ["x, y = (1, 2) \n",
"print(x)\n",
"print(y)"
]
    },{
     "cell_type": "markdown",
     "metadata": {
        "slideshow": {
           "slide_type": "-"
         } 
     }, 
     "source": ["## Unpacking<a id=\"orgheadline27\"></a>\n",
"\n",
"Man spricht von **unpacking** des Tuples in einzelne Variablen "
]
    },{
     "cell_type": "markdown",
     "metadata": {
        "slideshow": {
           "slide_type": "slide"
         } 
     }, 
     "source": ["# Unpacking &#x2013; weitere Beispiele"
]
    },{
     "cell_type": "markdown",
     "metadata": {
        "slideshow": {
           "slide_type": "-"
         } 
     }, 
     "source": ["## Mehrere Namen<a id=\"orgheadline29\"></a>"
]
    },{
     "cell_type": "code",
     "metadata": {
        "slideshow": {
           "slide_type": "-"
         } 
     }, 
"outputs": [],
"execution_count": null,
     "source": ["x, y, z = (1, 2, (4, 5, 6)) \n",
"print(x)\n",
"print(y) \n",
"print(z)"
]
    },{
     "cell_type": "markdown",
     "metadata": {
        "slideshow": {
           "slide_type": "slide"
         } 
     }, 
     "source": ["# Unpacking &#x2013; weitere Beispiele"
]
    },{
     "cell_type": "markdown",
     "metadata": {
        "slideshow": {
           "slide_type": "-"
         } 
     }, 
     "source": ["## Unterschiedliche Anzahl<a id=\"orgheadline31\"></a>"
]
    },{
     "cell_type": "code",
     "metadata": {
        "slideshow": {
           "slide_type": "-"
         } 
     }, 
"outputs": [],
"execution_count": null,
     "source": ["x, y = (1, 2, 3, 4, 5, 6, 7) \n",
"print(x)\n",
"print(y)\n",
"\n",
"Scheitert &#x2013; Aufteilung wäre unklar"
]
    },{
     "cell_type": "markdown",
     "metadata": {
        "slideshow": {
           "slide_type": "fragment"
         } 
     }, 
     "source": ["## Unterschiedliche Anzahl mit Hilfe<a id=\"orgheadline32\"></a>"
]
    },{
     "cell_type": "code",
     "metadata": {
        "slideshow": {
           "slide_type": "-"
         } 
     }, 
"outputs": [],
"execution_count": null,
     "source": ["t = (1, 2, 3, 4)\n",
"x, *u,  y = (1, 2, 3, 4, 5)\n",
"print(x, u, y)\n",
"\n",
"-   Das geht &#x2013; Stern `*` zeigt die variable Elementanzahl an\n",
"-   Siehe [PEP 3132](https://www.python.org/dev/peps/pep-3132/)"
]
    },{
     "cell_type": "markdown",
     "metadata": {
        "slideshow": {
           "slide_type": "slide"
         } 
     }, 
     "source": ["# Unpacking &#x2013; weitere Beispiele\n",
"\n",
"Häufige Muster: Kopf eines Tuples abtrennen"
]
    },{
     "cell_type": "code",
     "metadata": {
        "slideshow": {
           "slide_type": "-"
         } 
     }, 
"outputs": [],
"execution_count": null,
     "source": ["l = (1, 2, 3, 4)\n",
"head, *l = l\n",
"print(head)\n",
"print(l)"
]
    },{
     "cell_type": "markdown",
     "metadata": {
        "slideshow": {
           "slide_type": "slide"
         } 
     }, 
     "source": ["# Zugriff und Namen\n",
"\n",
"Bei Zugriff: Namen an entsprechendes Objekt binden "
]
    },{
     "cell_type": "code",
     "metadata": {
        "slideshow": {
           "slide_type": "-"
         } 
     }, 
"outputs": [],
"execution_count": null,
     "source": ["%%tutor\n",
"t = (\"Hallo\", \"GP1\")\n",
"s = t[0]"
]
    },{
     "cell_type": "markdown",
     "metadata": {
        "slideshow": {
           "slide_type": "slide"
         } 
     }, 
     "source": ["# Slicing\n",
"\n",
"-   Aus einem Tuple kann man Teil-Tuple ausschneiden: *Slicing*\n",
"-   Start- und Endindex angeben, mit Doppelpunkt `:` getrennt\n",
"    -   **Einschließlich** Start, **ausschließlich** Ende!\n",
"-   Ergebnis: Tuple"
]
    },{
     "cell_type": "markdown",
     "metadata": {
        "slideshow": {
           "slide_type": "-"
         } 
     }, 
     "source": ["## Beispiel: Slicing<a id=\"orgheadline36\"></a>"
]
    },{
     "cell_type": "code",
     "metadata": {
        "slideshow": {
           "slide_type": "-"
         } 
     }, 
"outputs": [],
"execution_count": null,
     "source": ["t = ('a', 'b', 'c', 'd', 'e', 'f')\n",
"print(t[2:4])"
]
    },{
     "cell_type": "markdown",
     "metadata": {
        "slideshow": {
           "slide_type": "subslide"
         } 
     }, 
     "source": ["# Slicing, Sonderfälle"
]
    },{
     "cell_type": "markdown",
     "metadata": {
        "slideshow": {
           "slide_type": "-"
         } 
     }, 
     "source": ["## Slicing über Ende hinaus<a id=\"orgheadline38\"></a>\n",
"\n",
"Kein Problem, liefert bis zum Ende "
]
    },{
     "cell_type": "code",
     "metadata": {
        "slideshow": {
           "slide_type": "-"
         } 
     }, 
"outputs": [],
"execution_count": null,
     "source": ["t = ('a', 'b', 'c', 'd', 'e', 'f')\n",
"print(t[2:100])"
]
    },{
     "cell_type": "markdown",
     "metadata": {
        "slideshow": {
           "slide_type": "fragment"
         } 
     }, 
     "source": ["## Slicing von rechts<a id=\"orgheadline39\"></a>"
]
    },{
     "cell_type": "code",
     "metadata": {
        "slideshow": {
           "slide_type": "-"
         } 
     }, 
"outputs": [],
"execution_count": null,
     "source": ["t = ('a', 'b', 'c', 'd', 'e', 'f')\n",
"print(\"t[-1]: \", t[-1])\n",
"print(\"t[-2]: \", t[-2])"
]
    },{
     "cell_type": "markdown",
     "metadata": {
        "slideshow": {
           "slide_type": "-"
         } 
     }, 
     "source": ["## Slicing mit mehreren Elementen:<a id=\"orgheadline40\"></a>"
]
    },{
     "cell_type": "code",
     "metadata": {
        "slideshow": {
           "slide_type": "-"
         } 
     }, 
"outputs": [],
"execution_count": null,
     "source": ["t = ('a', 'b', 'c', 'd', 'e', 'f')\n",
"print(t[-4:-1])"
]
    },{
     "cell_type": "markdown",
     "metadata": {
        "slideshow": {
           "slide_type": "subslide"
         } 
     }, 
     "source": ["# Slicing, Sonderfälle"
]
    },{
     "cell_type": "markdown",
     "metadata": {
        "slideshow": {
           "slide_type": "-"
         } 
     }, 
     "source": ["## Slicing mit einem Wert: [n:]<a id=\"orgheadline42\"></a>\n",
"\n",
"Von gegebenem Index bis zum Ende "
]
    },{
     "cell_type": "code",
     "metadata": {
        "slideshow": {
           "slide_type": "-"
         } 
     }, 
"outputs": [],
"execution_count": null,
     "source": ["t = ('a', 'b', 'c', 'd', 'e', 'f')\n",
"print(t[2:])"
]
    },{
     "cell_type": "code",
     "metadata": {
        "slideshow": {
           "slide_type": "-"
         } 
     }, 
"outputs": [],
"execution_count": null,
     "source": ["t = ('a', 'b', 'c', 'd', 'e', 'f')  \n",
"print(t[-2:])"
]
    },{
     "cell_type": "markdown",
     "metadata": {
        "slideshow": {
           "slide_type": "fragment"
         } 
     }, 
     "source": ["## Spezialfall:<a id=\"orgheadline43\"></a>"
]
    },{
     "cell_type": "code",
     "metadata": {
        "slideshow": {
           "slide_type": "-"
         } 
     }, 
"outputs": [],
"execution_count": null,
     "source": ["t = ('a', 'b', 'c', 'd', 'e', 'f') \n",
"print(t)   \n",
"t = t[1:]\n",
"print(t)   \n",
"t = t[1:]\n",
"print(t)  \n",
"t = t[1:]\n",
"print(t)"
]
    },{
     "cell_type": "markdown",
     "metadata": {
        "slideshow": {
           "slide_type": "fragment"
         } 
     }, 
     "source": ["## Slicing mit einem Wert: [:n]<a id=\"orgheadline44\"></a>\n",
"\n",
"Vom Anfang bis zu gegebenem Index"
]
    },{
     "cell_type": "code",
     "metadata": {
        "slideshow": {
           "slide_type": "-"
         } 
     }, 
"outputs": [],
"execution_count": null,
     "source": ["t = ('a', 'b', 'c', 'd', 'e', 'f')\n",
"print(t[:2])"
]
    },{
     "cell_type": "code",
     "metadata": {
        "slideshow": {
           "slide_type": "-"
         } 
     }, 
"outputs": [],
"execution_count": null,
     "source": ["t = ('a', 'b', 'c', 'd', 'e', 'f')\n",
"print(t[:-2])"
]
    },{
     "cell_type": "markdown",
     "metadata": {
        "slideshow": {
           "slide_type": "slide"
         } 
     }, 
     "source": ["# Komplexeres Beispiel\n",
"\n",
"Was gibt das aus? "
]
    },{
     "cell_type": "code",
     "metadata": {
        "slideshow": {
           "slide_type": "-"
         } 
     }, 
"outputs": [],
"execution_count": null,
     "source": ["t = (\"Hallo\", \"GP1\", (1, 2, 3, 9, 8, 7) ) \n",
"print(t[t[2][0:1][0]-1:t[2][1]])"
]
    },{
     "cell_type": "markdown",
     "metadata": {
        "slideshow": {
           "slide_type": "-"
         } 
     }, 
     "source": ["## Pingo<a id=\"orgheadline46\"></a>"
]
    },{
     "cell_type": "code",
     "metadata": {
        "slideshow": {
           "slide_type": "-"
         } 
     }, 
"outputs": [],
"execution_count": null,
     "source": ["pingo_title = \"Ausgabe von print(t[t[2][0:1][0]-1:t[2][1]])?\" \n",
"pingo_questions = [\"'Hallo', 'GP1'\", \"('Hallo', 'GP1')\", \n",
"                       \"(1, 2, 3)\", \"('GP1', '1', '2')\" ]\n",
"pingo_duration = \"180\"\n",
"\n",
"%pingo"
]
    },{
     "cell_type": "markdown",
     "metadata": {
        "slideshow": {
           "slide_type": "slide"
         } 
     }, 
     "source": ["# Verknüpfungen\n",
"\n",
"Operationen mit Tuples "
]
    },{
     "cell_type": "markdown",
     "metadata": {
        "slideshow": {
           "slide_type": "-"
         } 
     }, 
     "source": ["## Zwei Tuples addieren<a id=\"orgheadline48\"></a>"
]
    },{
     "cell_type": "code",
     "metadata": {
        "slideshow": {
           "slide_type": "-"
         } 
     }, 
"outputs": [],
"execution_count": null,
     "source": ["t1 = (1, 2, 3)\n",
"t2 = (\"a\", \"b\", \"c\", \"d\") \n",
"print(t1+t2)"
]
    },{
     "cell_type": "markdown",
     "metadata": {
        "slideshow": {
           "slide_type": "fragment"
         } 
     }, 
     "source": ["## Tuple mit ganzer Zahl multiplizieren<a id=\"orgheadline49\"></a>"
]
    },{
     "cell_type": "code",
     "metadata": {
        "slideshow": {
           "slide_type": "-"
         } 
     }, 
"outputs": [],
"execution_count": null,
     "source": ["t1 = (1, 2, 3)\n",
"print(t1 * 4)"
]
    },{
     "cell_type": "markdown",
     "metadata": {
        "slideshow": {
           "slide_type": "slide"
         } 
     }, 
     "source": ["# Randfälle"
]
    },{
     "cell_type": "markdown",
     "metadata": {
        "slideshow": {
           "slide_type": "-"
         } 
     }, 
     "source": ["## Das leere Tupel<a id=\"orgheadline51\"></a>"
]
    },{
     "cell_type": "code",
     "metadata": {
        "slideshow": {
           "slide_type": "-"
         } 
     }, 
"outputs": [],
"execution_count": null,
     "source": ["t = ()"
]
    },{
     "cell_type": "markdown",
     "metadata": {
        "slideshow": {
           "slide_type": "-"
         } 
     }, 
     "source": ["## Tupel mit einem Element<a id=\"orgheadline52\"></a>\n",
"\n",
"Komma am Ende ist entscheidend &#x2013; Unterschied zu Ausdruck! "
]
    },{
     "cell_type": "code",
     "metadata": {
        "slideshow": {
           "slide_type": "-"
         } 
     }, 
"outputs": [],
"execution_count": null,
     "source": ["# Ein Tupel mit einem Element:\n",
"t = (\"a\",)\n",
"print(\"Ein Tuple: \", t)\n",
"# Ein einzelner String: \n",
"t = (\"a\")\n",
"print(\"Ein String: \", t)"
]
    },{
     "cell_type": "markdown",
     "metadata": {
        "slideshow": {
           "slide_type": "slide"
         } 
     }, 
     "source": ["# Weitere Eigenschaften: Länge\n",
"\n",
"`len` Funktion mit Parameter tuple:  Anzahl Elemente "
]
    },{
     "cell_type": "code",
     "metadata": {
        "slideshow": {
           "slide_type": "-"
         } 
     }, 
"outputs": [],
"execution_count": null,
     "source": ["t = (1, 2, 3, 4, 5, 6)\n",
"l = len(t)\n",
"print(l)"
]
    },{
     "cell_type": "markdown",
     "metadata": {
        "slideshow": {
           "slide_type": "subslide"
         } 
     }, 
     "source": ["# Wo ist ein Element in Tuple?\n",
"\n",
"Wo im Tupel befindet sich ein bestimmtes Element ? \n",
"\n",
"-   Funktion `index`, Parameter: gesuchtes Element\n",
"-   Gewissermaßen Umkehrung des Zugriffs"
]
    },{
     "cell_type": "code",
     "metadata": {
        "slideshow": {
           "slide_type": "-"
         } 
     }, 
"outputs": [],
"execution_count": null,
     "source": ["t = (-1, 0, 17, 1, 2, 3, 4, 5, 6)\n",
"l = t.index(3)\n",
"print(l)"
]
    },{
     "cell_type": "markdown",
     "metadata": {
        "slideshow": {
           "slide_type": "subslide"
         } 
     }, 
     "source": ["# Notation bei `index`?\n",
"\n",
"Eigentlich doch erwartet:  `index(t, e)` ? \n",
"\n",
"Kleine syntaktische Variation für Funktionsaufruf: `t.index(e)` \n",
"\n",
"-   Ziehe das erste Argument der Funktion aus der Klammer\n",
"-   Vor den Funktionsnamen\n",
"-   Verbinde mit Punkt `.`\n",
"\n",
"Gleicher Effekt; manchmal besser lesbar"
]
    },{
     "cell_type": "markdown",
     "metadata": {
        "slideshow": {
           "slide_type": "subslide"
         } 
     }, 
     "source": ["# Wieviele Elemente mit bestimmtem Wert?\n",
"\n",
"Auch hier: Notation mit Tuple vor dem Funktionsnamen "
]
    },{
     "cell_type": "code",
     "metadata": {
        "slideshow": {
           "slide_type": "-"
         } 
     }, 
"outputs": [],
"execution_count": null,
     "source": ["t = (1, 2, 3, 4, 5, 1, 2, 3, 4, 1, 2, 3, 1, 2, 1)\n",
"n = t.count(2)\n",
"print(n)"
]
    },{
     "cell_type": "markdown",
     "metadata": {
        "slideshow": {
           "slide_type": "slide"
         } 
     }, 
     "source": ["# Zuweisung an Element?\n",
"\n",
"-   Tuple verändert? Ein Element des Tuples verändern?\n",
"-   Naheliegender Versuch:"
]
    },{
     "cell_type": "code",
     "metadata": {
        "slideshow": {
           "slide_type": "-"
         } 
     }, 
"outputs": [],
"execution_count": null,
     "source": ["t = (1, 2, 3, 4) \n",
"t[2] = 17"
]
    },{
     "cell_type": "markdown",
     "metadata": {
        "slideshow": {
           "slide_type": "fragment"
         } 
     }, 
     "source": ["## Fehlermeldung<a id=\"orgheadline58\"></a>\n",
"\n",
"`TypeError: 'tuple' object does not support item assignment`"
]
    },{
     "cell_type": "markdown",
     "metadata": {
        "slideshow": {
           "slide_type": "subslide"
         } 
     }, 
     "source": ["# Keine Zuweisung an Tuple-Elemente\n",
"\n",
"-   Offenbar keine Zuweisungen erlaubt!\n",
"-   Tuple sind ***unverändlich*** : Einmal definiert zeigen die Elemente\n",
"    des Tuples immer auf die gleichen Objekte"
]
    },{
     "cell_type": "markdown",
     "metadata": {
        "slideshow": {
           "slide_type": "slide"
         } 
     }, 
     "source": ["# Und Zeichenketten (`str`)?\n",
"\n",
"-   Zeichenketten benehmen sich sehr ähnlich zu Tupeln\n",
"    -   Zugriff auf Element, Slicing, &#x2026;\n",
"    -   Ebenfalls unveränderlich\n",
"-   Experimentieren Sie!\n",
"-   Beispiel:"
]
    },{
     "cell_type": "code",
     "metadata": {
        "slideshow": {
           "slide_type": "-"
         } 
     }, 
"outputs": [],
"execution_count": null,
     "source": ["s = \"Hallo GP1\"\n",
"print(s[6:-1])"
]
    },{
     "cell_type": "markdown",
     "metadata": {
        "slideshow": {
           "slide_type": "slide"
         } 
     }, 
     "source": ["# Unveränderliche Datentypen\n",
"\n",
"-   Bisher sind alle Datentypen (Zahlen, Zeichenketten, Tuple)\n",
"    unveränderlich \n",
"    -   Nützlich: Verlässlichkeit\n",
"-   Aber manchmal Veränderung doch schön?\n",
"    -   Muss ich ein komplett neues Tuple erzeugen, um einen Wert zu\n",
"        verändern??\n",
"    -   Und wäre das wirklich der  gleiche Effekt???"
]
    },{
     "cell_type": "markdown",
     "metadata": {
        "slideshow": {
           "slide_type": "slide"
         } 
     }, 
     "source": ["# Tuple als Funktionsparameter\n",
"\n",
"Parameter sind Referenzen auf Objekte &#x2013; also Referenz auf ein Tuple\n",
"kein Problem "
]
    },{
     "cell_type": "code",
     "metadata": {
        "slideshow": {
           "slide_type": "-"
         } 
     }, 
"outputs": [],
"execution_count": null,
     "source": ["def quersumme3(t):\n",
"    \"\"\"Berechne die Quersumme aus einem 3-Tuple\"\"\"\n",
"\n",
"    return t[0] + t[1] + t[2]\n",
"\n",
"# Tupel direkt als Parameter angeben: \n",
"q = quersumme3((17, 42, 99))\n",
"print(q)"
]
    },{
     "cell_type": "markdown",
     "metadata": {
        "slideshow": {
           "slide_type": "slide"
         } 
     }, 
     "source": ["# Definition Tuple"
]
    },{
     "cell_type": "markdown",
     "metadata": {
        "slideshow": {
           "slide_type": "-"
         } 
     }, 
     "source": ["<div class=\"definition-head\" style=\"border:3px; border-style:solid; border-color:#5da9e9; padding: 5px; background-color:#5da9e9;  line-height:1.5em; text-align:center; border-radius: 15px 15px 0px 0px; margin-bottom: 0; width: 100%;\"><b>Definition: Tuple<a id=\"orgheadline64\"></a></b></div>\n",
"\n",
"*Tuple* sind ***unveränderliche*** Aufzählungen von Referenzen auf beliebige\n",
"Objekte; verkürzt und vereinfachend sagt man auch *Aufzählung von\n",
"Objekten*.\n",
"\n",
"-   Tuple ist  ein Datentyp\n",
"-   Sie haben eine feste Reihenfolge\n",
"-   Auf Elemente kann durch die Angabe der Position (des Indexes)\n",
"    zugegriffen werden.\n",
"-   Sie unterstützen das sog. *Slicing*\n",
"-   Sie unterstützen Verknüpfungen wie Addition, Multiplikation mit\n",
"    Skalar und die Funktionen `len`, `count`, `index` (mit leicht\n",
"    unterschiedlicher Notation)\n",
"-   Tuple werden syntaktisch geschrieben als eine durch Komma\n",
"    getrennte Liste von Ausdrücken, in *runde* Klammern eingeschlossen\n",
"    -   Besteht ein Tupel aus nur einem Element, so muss ein Komma dem\n",
"        Element folgen, vor der schließenden Klammer\n",
"    -   Am Ende darf ein Komma stehen\n",
"\n",
"<div class=\"definition-content\" style=\"border:3px; border-style:solid; border-color:#5da9e9; padding: 5px; margin-top: 0; border-radius: 0px 0px 15px 15px; width: 100%; text-align:left\"></div>"
]
    },{
     "cell_type": "markdown",
     "metadata": {
        "slideshow": {
           "slide_type": "slide"
         } 
     }, 
     "source": ["<h1>Overview</h1> \n",
"\n",
"1. Überblick\n",
"1. Aufzählungen\n",
"1. **<font color=\"red\">Veränderliche Aufzählungen: Listen</font>**\n",
"1. Veränderliche Aufzählungen: Mengen\n",
"1. Abbildungstypen\n",
"1. Zusammenhang der Datentypen\n",
"1. Zusammenfassung"
]
    },{
     "cell_type": "markdown",
     "metadata": {
        "slideshow": {
           "slide_type": "slide"
         } 
     }, 
     "source": ["# Liste\n",
"\n",
"-   Listen sind die veränderliche Variante von Tuplen\n",
"-   Unterschied\n",
"    -   Einzelne Elemente können geändert werden\n",
"    -   Elemente können hinzugefügt und entfernt werden\n",
"-   Gleich/ähnlich:\n",
"    -   Reihenfolge\n",
"    -   Beliebige Objekte\n",
"        -   Auch Listen, alles geschachtelte Listen möglich\n",
"    -   Zugriff wie Tuple: `[]`, slicing"
]
    },{
     "cell_type": "markdown",
     "metadata": {
        "slideshow": {
           "slide_type": "subslide"
         } 
     }, 
     "source": ["# Syntax\n",
"\n",
"Listen durch Aufzählung in eckigen Klammern hinschreiben\n",
"\n",
"-   Elemente der Aufzählung mit Komma  trennen"
]
    },{
     "cell_type": "code",
     "metadata": {
        "slideshow": {
           "slide_type": "-"
         } 
     }, 
"outputs": [],
"execution_count": null,
     "source": ["%%tutor -t\n",
"# eine Liste mit vier Zahlen: \n",
"L = [1, 2, 42, 17]\n",
"# die leere Liste: \n",
"L = []\n",
"# eine heterogene Liste: \n",
"L = [1, 2, \"Hallo\", \"GP1\"]\n",
"# eine geschachtelte Liste: \n",
"L = [1, 2, [\"Hallo\", \"GP1\"], (42, 17)]"
]
    },{
     "cell_type": "markdown",
     "metadata": {
        "slideshow": {
           "slide_type": "subslide"
         } 
     }, 
     "source": ["# Zugriff\n",
"\n",
"Zugriff wie bei Tuple "
]
    },{
     "cell_type": "code",
     "metadata": {
        "slideshow": {
           "slide_type": "-"
         } 
     }, 
"outputs": [],
"execution_count": null,
     "source": ["%%tutor -t\n",
"L = [1, 2, [\"Hallo\", \"GP1\"], (42, 17)]\n",
"print(\"L: \", L)\n",
"print(\"L[1]: \", L[1]) \n",
"print(\"L[2][0]: \", L[2][0]) \n",
"print(\"Laenge von L: \", len(L))"
]
    },{
     "cell_type": "markdown",
     "metadata": {
        "slideshow": {
           "slide_type": "slide"
         } 
     }, 
     "source": ["# Verknüpfungen und Funktionen à la Tuple"
]
    },{
     "cell_type": "code",
     "metadata": {
        "slideshow": {
           "slide_type": "-"
         } 
     }, 
"outputs": [],
"execution_count": null,
     "source": ["L = [1, 2, 3, 1, 2]\n",
"print(L + [7, 8, 9])\n",
"print(L * 3)\n",
"# L hat sich nicht veraendert\n",
"print(L)\n",
"# Funktionen fuer Liste\n",
"print(len(L))\n",
"print(L.count(1))\n",
"print(L.index(2))"
]
    },{
     "cell_type": "markdown",
     "metadata": {
        "slideshow": {
           "slide_type": "-"
         } 
     }, 
     "source": ["## Pingo<a id=\"orgheadline69\"></a>"
]
    },{
     "cell_type": "code",
     "metadata": {
        "slideshow": {
           "slide_type": "-"
         } 
     }, 
"outputs": [],
"execution_count": null,
     "source": ["pingo_title = \"Was gibt print(L.index(2)) aus?\" \n",
"pingo_questions = [\"1\", \"2\", \"3\", \"4\"]\n",
"pingo_duration = \"120\"\n",
"\n",
"%pingo"
]
    },{
     "cell_type": "markdown",
     "metadata": {
        "slideshow": {
           "slide_type": "subslide"
         } 
     }, 
     "source": ["# Veränderung von Listenelementen\n",
"\n",
"Ziel war: Listenelemente verändern "
]
    },{
     "cell_type": "code",
     "metadata": {
        "slideshow": {
           "slide_type": "-"
         } 
     }, 
"outputs": [],
"execution_count": null,
     "source": ["%%tutor \n",
"L = [1, 2, 3, 1, 2]\n",
"L[1] = 42\n",
"print(L)"
]
    },{
     "cell_type": "markdown",
     "metadata": {
        "slideshow": {
           "slide_type": "fragment"
         } 
     }, 
     "source": ["## Tada!<a id=\"orgheadline71\"></a>\n",
"\n",
"<center>![img](./figures/tada.png \"Tada: Write access to list elements works\")</center>"
]
    },{
     "cell_type": "markdown",
     "metadata": {
        "slideshow": {
           "slide_type": "slide"
         } 
     }, 
     "source": ["# Listen vergrößern"
]
    },{
     "cell_type": "markdown",
     "metadata": {
        "slideshow": {
           "slide_type": "-"
         } 
     }, 
     "source": ["## Anhängen<a id=\"orgheadline73\"></a>\n",
"\n",
"Gegebenen Wert an Liste anhängen "
]
    },{
     "cell_type": "code",
     "metadata": {
        "slideshow": {
           "slide_type": "-"
         } 
     }, 
"outputs": [],
"execution_count": null,
     "source": ["L = [1, 2, 3]\n",
"L.append(4)\n",
"print(L)"
]
    },{
     "cell_type": "code",
     "metadata": {
        "slideshow": {
           "slide_type": "-"
         } 
     }, 
"outputs": [],
"execution_count": null,
     "source": ["L = [1, 2, 3]\n",
"L.append([4, 5])\n",
"print(L)"
]
    },{
     "cell_type": "markdown",
     "metadata": {
        "slideshow": {
           "slide_type": "subslide"
         } 
     }, 
     "source": ["# Listen vergrößern (2)"
]
    },{
     "cell_type": "markdown",
     "metadata": {
        "slideshow": {
           "slide_type": "-"
         } 
     }, 
     "source": ["## Erweitern<a id=\"orgheadline75\"></a>\n",
"\n",
"Eine Liste mit einer anderen Liste erweitern "
]
    },{
     "cell_type": "code",
     "metadata": {
        "slideshow": {
           "slide_type": "-"
         } 
     }, 
"outputs": [],
"execution_count": null,
     "source": ["L = [1, 2, 3]\n",
"L.extend([4, 5])\n",
"print(L)"
]
    },{
     "cell_type": "markdown",
     "metadata": {
        "slideshow": {
           "slide_type": "-"
         } 
     }, 
     "source": ["## Einfügen<a id=\"orgheadline76\"></a>\n",
"\n",
"**Vor** Position einen Wert einfügen: "
]
    },{
     "cell_type": "code",
     "metadata": {
        "slideshow": {
           "slide_type": "-"
         } 
     }, 
"outputs": [],
"execution_count": null,
     "source": ["L = [1, 2, 3]\n",
"L.insert(1, 17)\n",
"print(L)"
]
    },{
     "cell_type": "markdown",
     "metadata": {
        "slideshow": {
           "slide_type": "slide"
         } 
     }, 
     "source": ["# Pingo: `append` oder `extend`?"
]
    },{
     "cell_type": "code",
     "metadata": {
        "slideshow": {
           "slide_type": "-"
         } 
     }, 
"outputs": [],
"execution_count": null,
     "source": ["L1 = [1, 2, 3]\n",
"L2 = [4, 5, 6]\n",
"L1.???(L2) \n",
"L1.???(7)\n",
"# gewünschtes Ergenis: [1, 2, 3, 4, 5, 6, 7]"
]
    },{
     "cell_type": "code",
     "metadata": {
        "slideshow": {
           "slide_type": "-"
         } 
     }, 
"outputs": [],
"execution_count": null,
     "source": ["pingo_title = \"append oder extend?\" \n",
"pingo_questions = [\"append, dann extend\", \"extend, dann append\"]\n",
"pingo_duration = \"180\"\n",
"\n",
"%pingo"
]
    },{
     "cell_type": "markdown",
     "metadata": {
        "slideshow": {
           "slide_type": "subslide"
         } 
     }, 
     "source": ["# Listen verkleinern"
]
    },{
     "cell_type": "markdown",
     "metadata": {
        "slideshow": {
           "slide_type": "-"
         } 
     }, 
     "source": ["## `pop`: Element entnehmen und als Wert zurückgeben<a id=\"orgheadline79\"></a>"
]
    },{
     "cell_type": "code",
     "metadata": {
        "slideshow": {
           "slide_type": "-"
         } 
     }, 
"outputs": [],
"execution_count": null,
     "source": ["L = [1, 2, 3]\n",
"print(\"L vor pop: \", L)   \n",
"x = L.pop(0)\n",
"print(\"erstes Element: \", x)\n",
"print(\"L nach pop: \", L)"
]
    },{
     "cell_type": "markdown",
     "metadata": {
        "slideshow": {
           "slide_type": "fragment"
         } 
     }, 
     "source": ["## `remove`: Erstes Auftauchen eines Wertes entfernen<a id=\"orgheadline80\"></a>"
]
    },{
     "cell_type": "code",
     "metadata": {
        "slideshow": {
           "slide_type": "-"
         } 
     }, 
"outputs": [],
"execution_count": null,
     "source": ["L = [1, 2, 3, 1, 2, 3]\n",
"L.remove(2)\n",
"print(L)"
]
    },{
     "cell_type": "markdown",
     "metadata": {
        "slideshow": {
           "slide_type": "slide"
         } 
     }, 
     "source": ["# Liste kopieren\n",
"\n",
"Wichtiges Beispiel: Liste kopieren. "
]
    },{
     "cell_type": "code",
     "metadata": {
        "slideshow": {
           "slide_type": "-"
         } 
     }, 
"outputs": [],
"execution_count": null,
     "source": ["%%tutor -t \n",
"L = [1, 2, 3]\n",
"L1 = L \n",
"print(L1)\n",
"L2 = L.copy()\n",
"print(L2)"
]
    },{
     "cell_type": "markdown",
     "metadata": {
        "slideshow": {
           "slide_type": "subslide"
         } 
     }, 
     "source": ["# Liste von Liste kopieren\n",
"\n",
"Kopieren einer Liste, die selbst Liste beinhaltet? "
]
    },{
     "cell_type": "code",
     "metadata": {
        "slideshow": {
           "slide_type": "-"
         } 
     }, 
"outputs": [],
"execution_count": null,
     "source": ["%%tutor -t \n",
"L = [1, [17, 18, 19], 3]\n",
"L1 = L \n",
"print(\"L1: \", L1)\n",
"L2 = L.copy()\n",
"print(\"L2: \", L2)"
]
    },{
     "cell_type": "markdown",
     "metadata": {
        "slideshow": {
           "slide_type": "slide"
         } 
     }, 
     "source": ["# Pingo: Kopie einer Liste von Listen\n",
"\n",
"Was wird hier ausgegeben? "
]
    },{
     "cell_type": "code",
     "metadata": {
        "slideshow": {
           "slide_type": "-"
         } 
     }, 
"outputs": [],
"execution_count": null,
     "source": ["L = [1, [2, 3], 4]\n",
"M = L.copy()\n",
"L[1][1] = 17\n",
"print(M)"
]
    },{
     "cell_type": "code",
     "metadata": {
        "slideshow": {
           "slide_type": "-"
         } 
     }, 
"outputs": [],
"execution_count": null,
     "source": ["pingo_title = \"Ausgabe nach Kopie einer Liste von Listen\" \n",
"pingo_questions = [\"[1, [2, 3], 4]\", \"[17, [2, 3], 4]\", \"[1, [2, 17], 4]\"]\n",
"pingo_duration = \"180\"\n",
"\n",
"%pingo"
]
    },{
     "cell_type": "markdown",
     "metadata": {
        "slideshow": {
           "slide_type": "slide"
         } 
     }, 
     "source": ["# Identität?\n",
"\n",
"Aber wann sind zwei Listen dann eigentlich gleich? \n",
"\n",
"-   Wenn die *Namen* auf das gleiche Listenobjekt referenzieren?\n",
"-   Oder wenn die Inhalte übereinstimmen, egal, welches Objekt das ist?"
]
    },{
     "cell_type": "markdown",
     "metadata": {
        "slideshow": {
           "slide_type": "fragment"
         } 
     }, 
     "source": ["## Je nachdem!<a id=\"orgheadline85\"></a>\n",
"\n",
"-   Beides kann relevant sein!\n",
"-   Zwei verschiedene Vergleichsoperationen dafür"
]
    },{
     "cell_type": "markdown",
     "metadata": {
        "slideshow": {
           "slide_type": "subslide"
         } 
     }, 
     "source": ["# Identität: Zwei Vergleiche"
]
    },{
     "cell_type": "markdown",
     "metadata": {
        "slideshow": {
           "slide_type": "-"
         } 
     }, 
     "source": ["## Identisches Objekt, nur unterschiedlicher Name<a id=\"orgheadline87\"></a>"
]
    },{
     "cell_type": "code",
     "metadata": {
        "slideshow": {
           "slide_type": "-"
         } 
     }, 
"outputs": [],
"execution_count": null,
     "source": ["L = [1, 2, 3]\n",
"L1 = L\n",
"L2 = L.copy()\n",
"print(\"L1 is L? \", L1 is L) \n",
"print(\"L2 is L? \", L2 is L)"
]
    },{
     "cell_type": "markdown",
     "metadata": {
        "slideshow": {
           "slide_type": "-"
         } 
     }, 
     "source": ["## Gleiche Werte enthalten<a id=\"orgheadline88\"></a>"
]
    },{
     "cell_type": "code",
     "metadata": {
        "slideshow": {
           "slide_type": "-"
         } 
     }, 
"outputs": [],
"execution_count": null,
     "source": ["L = [1, 2, 3]\n",
"L1 = L\n",
"L2 = L.copy()\n",
"print(\"L1 == L? \", L1 == L) \n",
"print(\"L2 == L? \", L2 == L)"
]
    },{
     "cell_type": "markdown",
     "metadata": {
        "slideshow": {
           "slide_type": "slide"
         } 
     }, 
     "source": ["# Warum Liste und Tuple?\n",
"\n",
"Tuple geben ein Versprechen: **Unveränderlichkeit** \n",
"\n",
"-   Programmierer kann sich darauf verlassen\n",
"-   Listen könnten irgendwie manipuliert werden &#x2013; z.B. durch\n",
"    Unterprogramm"
]
    },{
     "cell_type": "markdown",
     "metadata": {
        "slideshow": {
           "slide_type": "slide"
         } 
     }, 
     "source": ["# Definition Liste"
]
    },{
     "cell_type": "markdown",
     "metadata": {
        "slideshow": {
           "slide_type": "-"
         } 
     }, 
     "source": ["<div class=\"definition-head\" style=\"border:3px; border-style:solid; border-color:#5da9e9; padding: 5px; background-color:#5da9e9;  line-height:1.5em; text-align:center; border-radius: 15px 15px 0px 0px; margin-bottom: 0; width: 100%;\"><b>Definition: Liste<a id=\"orgheadline91\"></a></b></div>\n",
"\n",
"*Listen* sind ***veränderliche*** Aufzählungen von Referenzen auf beliebige\n",
"Objekte; verkürzt und vereinfachend sagt man auch *Aufzählung von\n",
"Objekten*. \n",
"\n",
"-   Liste ist ein Datentyp\n",
"-   Sie haben eine feste Reihenfolge\n",
"-   Auf Elemente kann durch die Angabe der Position (des Indexes)\n",
"    zugegriffen werden.\n",
"-   Sie unterstützen das sog. *Slicing* und *unpacking*\n",
"-   Sie unterstützen Verknüpfungen wie Addition, Multiplikation mit\n",
"    Skalar und die Funktionen `len`, `count`, `index` (mit leicht\n",
"    unterschiedlicher Notation)\n",
"-   Sie können manipuliert werden, z.B. durch Löschen oder Einfügen \n",
"    von Elementen; Referenzen in einer Liste können verändert werden\n",
"-   Listen werden syntaktisch geschrieben als eine durch Komma\n",
"    getrennte Folge von Ausdrücken, in *eckige* Klammern eingeschlossen\n",
"    -   Am Ende darf ein Komma stehen\n",
"\n",
"<div class=\"definition-content\" style=\"border:3px; border-style:solid; border-color:#5da9e9; padding: 5px; margin-top: 0; border-radius: 0px 0px 15px 15px; width: 100%; text-align:left\"></div>"
]
    },{
     "cell_type": "markdown",
     "metadata": {
        "slideshow": {
           "slide_type": "slide"
         } 
     }, 
     "source": ["# Liste als Funktionsparameter\n",
"\n",
"Wie erwartet: "
]
    },{
     "cell_type": "code",
     "metadata": {
        "slideshow": {
           "slide_type": "-"
         } 
     }, 
"outputs": [],
"execution_count": null,
     "source": ["def quersumme3(t):\n",
"    \"\"\"Berechne die Quersumme aus einem 3-Tuple\"\"\"\n",
"\n",
"    return t[0] + t[1] + t[2]\n",
"\n",
"# Tupel direkt als Parameter angeben: \n",
"q = quersumme3([17, 42, 99])\n",
"print(q)"
]
    },{
     "cell_type": "markdown",
     "metadata": {
        "slideshow": {
           "slide_type": "subslide"
         } 
     }, 
     "source": ["# Liste als Funktionsparameter &#x2013; Beobachtung?\n",
"\n",
"-   Wir haben die gleiche Funktion `quersumme3` benutzt wie im\n",
"    Tuple-Beispiel\n",
"-   Der Funktion `quersumme3` war das offenbar egal\n",
"    -   Tuple und Liste gleich benutzbar, Zugriff durch `[]`"
]
    },{
     "cell_type": "markdown",
     "metadata": {
        "slideshow": {
           "slide_type": "fragment"
         } 
     }, 
     "source": ["## Ist das sinnvoll?<a id=\"orgheadline94\"></a>\n",
"\n",
"-   Python: **Ja!**\n",
"-   Andere Sprachen: aeehhh?"
]
    },{
     "cell_type": "markdown",
     "metadata": {
        "slideshow": {
           "slide_type": "slide"
         } 
     }, 
     "source": ["# Duck Typing\n",
"\n",
"Die Austauschbarkeit von Tuple und Liste ist unser erstes Beispiel\n",
"für ***duck typing***"
]
    },{
     "cell_type": "markdown",
     "metadata": {
        "slideshow": {
           "slide_type": "-"
         } 
     }, 
     "source": ["<div class=\"definition-head\" style=\"border:3px; border-style:solid; border-color:#5da9e9; padding: 5px; background-color:#5da9e9;  line-height:1.5em; text-align:center; border-radius: 15px 15px 0px 0px; margin-bottom: 0; width: 100%;\"><b>Definition: Duck Typing<a id=\"orgheadline96\"></a></b></div>\n",
"\n",
"Zwei Typen sind austauschbar wenn sie nach dem ***Duck Test*** identisch\n",
"sind. \n",
"\n",
"<div class=\"definition-content\" style=\"border:3px; border-style:solid; border-color:#5da9e9; padding: 5px; margin-top: 0; border-radius: 0px 0px 15px 15px; width: 100%; text-align:left\"></div>"
]
    },{
     "cell_type": "markdown",
     "metadata": {
        "slideshow": {
           "slide_type": "fragment"
         } 
     }, 
     "source": ["<div class=\"definition-head\" style=\"border:3px; border-style:solid; border-color:#5da9e9; padding: 5px; background-color:#5da9e9;  line-height:1.5em; text-align:center; border-radius: 15px 15px 0px 0px; margin-bottom: 0; width: 100%;\"><b>Definition: Duck Test<a id=\"orgheadline97\"></a></b></div>\n",
"\n",
"Wenn es wie eine Ente watschelt und wie eine Ente schwimmt und wie eine\n",
"Ente quakt, dann kann man es als Ente akzeptieren. \n",
"\n",
"<div class=\"definition-content\" style=\"border:3px; border-style:solid; border-color:#5da9e9; padding: 5px; margin-top: 0; border-radius: 0px 0px 15px 15px; width: 100%; text-align:left\"></div>"
]
    },{
     "cell_type": "markdown",
     "metadata": {
        "slideshow": {
           "slide_type": "subslide"
         } 
     }, 
     "source": ["# Duck Typing\n",
"\n",
"Prinzip: Ein Objekt hat den richtigen Typ, wenn es sich richtig\n",
"verhält \n",
"\n",
"-   Erst zur Laufzeit entscheidbar\n",
"-   Reicht das? Situations-/Ansichtssache&#x2026;"
]
    },{
     "cell_type": "markdown",
     "metadata": {
        "slideshow": {
           "slide_type": "subslide"
         } 
     }, 
     "source": ["# Duck Typing &#x2013; Risiken\n",
"\n",
"<center>![img](./figures/duck-typing.png \"Auch Duck Typing bringt seine eigenen Risiken mit sich\")</center>"
]
    },{
     "cell_type": "markdown",
     "metadata": {
        "slideshow": {
           "slide_type": "slide"
         } 
     }, 
     "source": ["# Liste als Funktionsparameter &#x2013; Veränderung?\n",
"\n",
"Wenn eine Liste veränderlich ist, dann könnte eine Funktion sie doch\n",
"auch verändern? \n",
"\n",
"-   Genauer: die Inhalte der Liste"
]
    },{
     "cell_type": "code",
     "metadata": {
        "slideshow": {
           "slide_type": "-"
         } 
     }, 
"outputs": [],
"execution_count": null,
     "source": ["def modify_list(ll):\n",
"    ll[1] = 17\n",
"\n",
"l = [1, 2, 3]\n",
"modify_list(l)\n",
"print(l)"
]
    },{
     "cell_type": "markdown",
     "metadata": {
        "slideshow": {
           "slide_type": "subslide"
         } 
     }, 
     "source": ["# Liste als Funktionsparameter &#x2013; Ergebnisse transportieren?\n",
"\n",
"Wenn also eine Funktion den *Inhalt* einer Liste manipulieren kann, \n",
"\n",
"ist das dann ein geeigneter Weg, um Ergebnisse von Funktionen an\n",
"Aufrufer zu transportieren? \n",
"\n",
"-   Im Prinzip geht das\n",
"-   Manchmal sinnvoll und auch angewandt\n",
"    -   Spezialfall: eine Liste als Argument, diese wird verändert\n",
"        -   Sog. *in situ* Operation\n",
"        -   Als Alternative zur Ergebnisrückgabe\n",
"-   Kann aber überraschend sein, erfordert *sorgfältige* Dokumentation\n",
"    des Verhaltens\n",
"\n",
"***Kein*** Widerspruch zu Kapitel 4! "
]
    },{
     "cell_type": "markdown",
     "metadata": {
        "slideshow": {
           "slide_type": "slide"
         } 
     }, 
     "source": ["# Ergebnisse transportieren &#x2013; Beispiel"
]
    },{
     "cell_type": "code",
     "metadata": {
        "slideshow": {
           "slide_type": "-"
         } 
     }, 
"outputs": [],
"execution_count": null,
     "source": ["def verdopple(l):\n",
"    \"\"\"Verdopple das erste Element der Liste\"\"\"\n",
"    l[0] = l[0] * 2\n",
"\n",
"l = [3, 4, 5]\n",
"verdopple(l)\n",
"print(l)\n",
"l = [\"ab\", 7, 8]\n",
"verdopple(l)\n",
"print(l)"
]
    },{
     "cell_type": "markdown",
     "metadata": {
        "slideshow": {
           "slide_type": "slide"
         } 
     }, 
     "source": ["# Von Liste zu Tuple und umgekehrt"
]
    },{
     "cell_type": "markdown",
     "metadata": {
        "slideshow": {
           "slide_type": "-"
         } 
     }, 
     "source": ["## Von Tuple zu Liste<a id=\"orgheadline104\"></a>"
]
    },{
     "cell_type": "code",
     "metadata": {
        "slideshow": {
           "slide_type": "-"
         } 
     }, 
"outputs": [],
"execution_count": null,
     "source": ["T = ('a', 'b', 'c' ) \n",
"L = list(T)\n",
"print(L)"
]
    },{
     "cell_type": "markdown",
     "metadata": {
        "slideshow": {
           "slide_type": "-"
         } 
     }, 
     "source": ["## Von Liste zu Tuple<a id=\"orgheadline105\"></a>"
]
    },{
     "cell_type": "code",
     "metadata": {
        "slideshow": {
           "slide_type": "-"
         } 
     }, 
"outputs": [],
"execution_count": null,
     "source": ["L = ['a', 'b', 'c']\n",
"T = tuple(L)\n",
"print(T)"
]
    },{
     "cell_type": "markdown",
     "metadata": {
        "slideshow": {
           "slide_type": "slide"
         } 
     }, 
     "source": ["<h1>Overview</h1> \n",
"\n",
"1. Überblick\n",
"1. Aufzählungen\n",
"1. Veränderliche Aufzählungen: Listen\n",
"1. **<font color=\"red\">Veränderliche Aufzählungen: Mengen</font>**\n",
"1. Abbildungstypen\n",
"1. Zusammenhang der Datentypen\n",
"1. Zusammenfassung"
]
    },{
     "cell_type": "markdown",
     "metadata": {
        "slideshow": {
           "slide_type": "slide"
         } 
     }, 
     "source": ["# Menge &#x2013; `set`\n",
"\n",
"-   Listen können Duplikate enthalten\n",
"-   Nicht immer erwünscht\n",
"-   Weiterer Datentyp: `set`\n",
"    -   Veränderlich, ohne Duplikate, keine Reihenfolge\n",
"        -   Also kein Index-Zugriff!\n",
"    -   Enthält nur *unveränderliche* Elemente\n",
"        -   Also keine Mengen von Listen o.ä."
]
    },{
     "cell_type": "markdown",
     "metadata": {
        "slideshow": {
           "slide_type": "slide"
         } 
     }, 
     "source": ["# Operationen auf Mengen\n",
"\n",
"-   Wie üblich: Schnitt, Vereinigung, Differenz\n",
"-   Konvertierung von Listen und Tuples\n",
"-   Test auf enthalten-sein: `in`"
]
    },{
     "cell_type": "code",
     "metadata": {
        "slideshow": {
           "slide_type": "-"
         } 
     }, 
"outputs": [],
"execution_count": null,
     "source": ["a = set( (1,2,3,4,3,2) )\n",
"print(a)\n",
"print(2 in a)\n",
"print(5 in a)"
]
    },{
     "cell_type": "markdown",
     "metadata": {
        "slideshow": {
           "slide_type": "slide"
         } 
     }, 
     "source": ["# Zugriff ohne Index?"
]
    },{
     "cell_type": "code",
     "metadata": {
        "slideshow": {
           "slide_type": "-"
         } 
     }, 
"outputs": [],
"execution_count": null,
     "source": ["a = set( (1,2,3,4,3,2) )\n",
"a[1]"
]
    },{
     "cell_type": "markdown",
     "metadata": {
        "slideshow": {
           "slide_type": "fragment"
         } 
     }, 
     "source": ["## Fehler<a id=\"orgheadline109\"></a>\n",
"\n",
"-   `TypeError: 'set' object does not support indexing`\n",
"\n",
"-   Eine Menge, ohne Möglichkeit auf Elemente zuzugreifen? \n",
"    -   Muss ich alle *möglichen* Elemente durchgehen??\n",
"\n",
"-   Unsinn &#x2013; wir brauchen einen **neuen Mechanismus**\n",
"    -   ***Iteration*** über Aufzählungstypen &#x2013; siehe nächstes Kapitel"
]
    },{
     "cell_type": "markdown",
     "metadata": {
        "slideshow": {
           "slide_type": "slide"
         } 
     }, 
     "source": ["<h1>Overview</h1> \n",
"\n",
"1. Überblick\n",
"1. Aufzählungen\n",
"1. Veränderliche Aufzählungen: Listen\n",
"1. Veränderliche Aufzählungen: Mengen\n",
"1. **<font color=\"red\">Abbildungstypen</font>**\n",
"1. Zusammenhang der Datentypen\n",
"1. Zusammenfassung"
]
    },{
     "cell_type": "markdown",
     "metadata": {
        "slideshow": {
           "slide_type": "slide"
         } 
     }, 
     "source": ["# Aufzählen?\n",
"\n",
"-   Aufzählungen mit Reihenfolge (`list`, `tuple`) ordnen einer laufenden\n",
"    Nummer (dem Index) ein Objekt zu\n",
"-   Was, wenn ich mir ein Objekt\n",
"    -   nicht für eine Nummer, sondern einen anderen Wert merken will?\n",
"    -   nicht für fortlaufende Nummer, sondern nur für manche Nummern\n",
"        einen Wert habe?"
]
    },{
     "cell_type": "markdown",
     "metadata": {
        "slideshow": {
           "slide_type": "subslide"
         } 
     }, 
     "source": ["# Aufzählen  oder abbilden?\n",
"\n",
"-   Wäre es nicht elegant,\n",
"    -   für beliebige Werte eine Zuordnung zu einem Objekt herstellen zu\n",
"        können?\n",
"    -   und das veränderlich zu haben?\n",
"\n",
"Wir brauchen eine ***Abbildung*** von Werten auf Objekte! "
]
    },{
     "cell_type": "markdown",
     "metadata": {
        "slideshow": {
           "slide_type": "subslide"
         } 
     }, 
     "source": ["# Abbildung: Beispiele\n",
"\n",
"-   Von Matrikelnummer auf Klausurresultat\n",
"-   Von Name auf Telefonnummer\n",
"-   Von Wörtern im Wörterbuch zur Audiodatei mit Aussprache\n",
"-   Von geographischem Ort auf umliegende Restaurants\n",
"-   Von URL auf Text der Webseite\n",
"-   Von Daumenabdruck auf Zugangsberechtigung\n",
"\n",
"usw. "
]
    },{
     "cell_type": "markdown",
     "metadata": {
        "slideshow": {
           "slide_type": "slide"
         } 
     }, 
     "source": ["# Abbildung in Python: `dict`\n",
"\n",
"-   `dict` für dictionary (Wörterbuch, Verzeichnis, Abbildung)\n",
"-   Ein ungeordneter, veränderlicher Aufzählungstyp\n",
"-   Ordnet ***Schlüsseln*** (keys)  Objekte  (Werte, values) zu\n",
"    -   Ein sog. ***key-value***-Typ"
]
    },{
     "cell_type": "markdown",
     "metadata": {
        "slideshow": {
           "slide_type": "subslide"
         } 
     }, 
     "source": ["# `dict`: Beispiel"
]
    },{
     "cell_type": "markdown",
     "metadata": {
        "slideshow": {
           "slide_type": "-"
         } 
     }, 
     "source": ["## Ein leeres `dict`: geschweifte Klammern<a id=\"orgheadline115\"></a>"
]
    },{
     "cell_type": "code",
     "metadata": {
        "slideshow": {
           "slide_type": "-"
         } 
     }, 
"outputs": [],
"execution_count": null,
     "source": ["D = {}\n",
"print(D)"
]
    },{
     "cell_type": "markdown",
     "metadata": {
        "slideshow": {
           "slide_type": "fragment"
         } 
     }, 
     "source": ["## Ein `dict` mit ein paar key/value Paaren<a id=\"orgheadline116\"></a>"
]
    },{
     "cell_type": "code",
     "metadata": {
        "slideshow": {
           "slide_type": "-"
         } 
     }, 
"outputs": [],
"execution_count": null,
     "source": ["%%tutor -t\n",
"D = {}\n",
"D[\"name\"] = \"Holger\"\n",
"D[\"berufung\"] = \"GP1-Vorleser\" \n",
"D[\"telefon\"] = 605375\n",
"D[1] = 17 \n",
"D[42] = \"GP1\" \n",
"D[\"Vorlesungen\"] = [\"GP1\", \"KMS\", \"Rechnernetze\"]\n",
"print(D)\n",
"print(D[42])"
]
    },{
     "cell_type": "markdown",
     "metadata": {
        "slideshow": {
           "slide_type": "subslide"
         } 
     }, 
     "source": ["# `dict`: Definition"
]
    },{
     "cell_type": "markdown",
     "metadata": {
        "slideshow": {
           "slide_type": "-"
         } 
     }, 
     "source": ["<div class=\"definition-head\" style=\"border:3px; border-style:solid; border-color:#5da9e9; padding: 5px; background-color:#5da9e9;  line-height:1.5em; text-align:center; border-radius: 15px 15px 0px 0px; margin-bottom: 0; width: 100%;\"><b>Definition: `dict`<a id=\"orgheadline118\"></a></b></div>\n",
"\n",
"`dict` ist ein  ungeordneter, veränderlicher Aufzählungstyp, der\n",
"beliebige andere Datentypen (auch `dict`) enthalten kann. \n",
"\n",
"-   Ein leeres `dict` wird erzeugt durch `{}`\n",
"-   Bildet Schlüssel auf Werte ab \n",
"    -   Schlüssel (keys): Beliebige *unveränderliche* Werte (auch Tuple!) \n",
"        -   (Präziser: *hashable type* &#x2013; später)\n",
"    -   Einträge (values): Beliebige Objekte, auch Listen, etc.\n",
"-   Zugriff auf Einträge\n",
"    -   syntaktisch wie bei Tuple, Liste: Schlüssel in eckigen\n",
"        Klammern\n",
"    -   aber nicht durch Position sondern durch Schlüssel\n",
"\n",
"<div class=\"definition-content\" style=\"border:3px; border-style:solid; border-color:#5da9e9; padding: 5px; margin-top: 0; border-radius: 0px 0px 15px 15px; width: 100%; text-align:left\"></div>"
]
    },{
     "cell_type": "markdown",
     "metadata": {
        "slideshow": {
           "slide_type": "subslide"
         } 
     }, 
     "source": ["# `dict`: Werte angeben, Kurznotation\n",
"\n",
"Da `dict` sehr häufig  vorkommen gibt es eine Kurznotation,\n",
"ähnlich zur Definition von Mengen\n",
"\n",
"-   In geschweiften Klammern, die Schlüssel/Wert-Paare aufzählen, mit\n",
"    Komma getrennt\n",
"-   Schlüssel und Wert durch Doppelpunkt getrennt\n",
"-   Entspricht der Ausgabe eines `dict` durch `print`"
]
    },{
     "cell_type": "code",
     "metadata": {
        "slideshow": {
           "slide_type": "-"
         } 
     }, 
"outputs": [],
"execution_count": null,
     "source": ["D = {\"a\": 17, \"x\": \"Hallo\"}\n",
"print(D)"
]
    },{
     "cell_type": "markdown",
     "metadata": {
        "slideshow": {
           "slide_type": "subslide"
         } 
     }, 
     "source": ["# `dict`: Werte angeben\n",
"\n",
"-   Alternative: An Funktion `dict` eine *Liste von 2-Tupeln* übergeben \n",
"    -   Jedes Tupel: Schlüssel, dann zugeordneter Wert\n",
"    -   Liefert entsprechendes `dict`\n",
"-   Diese Darstellung entspricht gut der internen Darstellung eines\n",
"    `dict`\n",
"-   Unterschied: Kurznotation oft praktisch einzutippen; diese Notation\n",
"    oft praktisch zur Verarbeitung von Ergebnissen"
]
    },{
     "cell_type": "code",
     "metadata": {
        "slideshow": {
           "slide_type": "-"
         } 
     }, 
"outputs": [],
"execution_count": null,
     "source": ["D = dict([(\"a\", 17), (\"x\", \"hallo\")])"
]
    },{
     "cell_type": "markdown",
     "metadata": {
        "slideshow": {
           "slide_type": "subslide"
         } 
     }, 
     "source": ["# `dict`: Fehlerfall\n",
"\n",
"Zugriff auf nicht vorhandenen Schlüssel führt zu Fehler "
]
    },{
     "cell_type": "code",
     "metadata": {
        "slideshow": {
           "slide_type": "-"
         } 
     }, 
"outputs": [],
"execution_count": null,
     "source": ["D = {}\n",
"D['a'] = 1\n",
"x = D['b']"
]
    },{
     "cell_type": "markdown",
     "metadata": {
        "slideshow": {
           "slide_type": "fragment"
         } 
     }, 
     "source": ["## Fehler<a id=\"orgheadline122\"></a>\n",
"\n",
"-   KeyError: 'b'\n",
"-   Der Schlüssel `b` ist nicht im dict enthalten"
]
    },{
     "cell_type": "markdown",
     "metadata": {
        "slideshow": {
           "slide_type": "subslide"
         } 
     }, 
     "source": ["# `dict`: Test auf enthalten-sein\n",
"\n",
"Analog zu `set`: Mit `in` testen "
]
    },{
     "cell_type": "code",
     "metadata": {
        "slideshow": {
           "slide_type": "-"
         } 
     }, 
"outputs": [],
"execution_count": null,
     "source": ["D = {}\n",
"D['a'] = 1\n",
"print('a' in D)\n",
"print('b' in D)"
]
    },{
     "cell_type": "markdown",
     "metadata": {
        "slideshow": {
           "slide_type": "subslide"
         } 
     }, 
     "source": ["# Operation auf `dict`\n",
"\n",
"Reichhaltige Operationen auf `dicts`: \n",
"\n",
"-   `len(D)`: Anzahl der Einträge\n",
"-   `D.keys()`: Liste aller Schlüssel\n",
"-   `D.values()`: Liste aller eingetragenen Werte\n",
"-   `D.items()`: Liste von Tupeln der vorhandenen Schlüssel/Wert-Paare"
]
    },{
     "cell_type": "code",
     "metadata": {
        "slideshow": {
           "slide_type": "-"
         } 
     }, 
"outputs": [],
"execution_count": null,
     "source": ["# Was liefert das hier? \n",
"# D ein beliebiges dict \n",
"D = dict([ (\"a\", 17), (\"x\", \"hallo\")])\n",
"print(\"D als Liste Schluessel/Wert: \", D.items())\n",
"D1 = dict(D.items())\n",
"print(\"Aus Liste wieder ein dict: \", D1)"
]
    },{
     "cell_type": "markdown",
     "metadata": {
        "slideshow": {
           "slide_type": "slide"
         } 
     }, 
     "source": ["# Identität?\n",
"\n",
"Vorheriges Beispiel: `dict(D.items())` ist doch wieder D? \n",
"\n",
"-   Aber ist es D selbst, oder eine Kopie?"
]
    },{
     "cell_type": "code",
     "metadata": {
        "slideshow": {
           "slide_type": "-"
         } 
     }, 
"outputs": [],
"execution_count": null,
     "source": ["%%tutor \n",
"D = dict([ (\"a\", 17), (\"x\", \"hallo\")])\n",
"D1 = dict(D.items())"
]
    },{
     "cell_type": "markdown",
     "metadata": {
        "slideshow": {
           "slide_type": "slide"
         } 
     }, 
     "source": ["<h1>Overview</h1> \n",
"\n",
"1. Überblick\n",
"1. Aufzählungen\n",
"1. Veränderliche Aufzählungen: Listen\n",
"1. Veränderliche Aufzählungen: Mengen\n",
"1. Abbildungstypen\n",
"1. **<font color=\"red\">Zusammenhang der Datentypen</font>**\n",
"1. Zusammenfassung"
]
    },{
     "cell_type": "markdown",
     "metadata": {
        "slideshow": {
           "slide_type": "slide"
         } 
     }, 
     "source": ["# Verschachtelung\n",
"\n",
"Python erlaubt beliebige Verschachtelung unterschiedlicher Datentypen \n",
"\n",
"-   Mit ganz einfacher Syntax für Erzeugung und Zugriff\n",
"-   Naheliegender Semantik\n",
"\n",
"Beispiel: Ein Verzeichnis, bestehend aus\n",
"\n",
"-   einem Verzeichnis mit zwei Schlüssel/Wert-Paaren\n",
"-   einer Liste\n",
"-   und einer einzelnen Zahl"
]
    },{
     "cell_type": "code",
     "metadata": {
        "slideshow": {
           "slide_type": "-"
         } 
     }, 
"outputs": [],
"execution_count": null,
     "source": ["%%tutor -t\n",
"rec = {'name': {'first': 'Bob', 'last': 'Smith'},\n",
"       'jobs': ['dev', 'mgr'],\n",
"       'age':  40.5}\n",
"print(rec)"
]
    },{
     "cell_type": "markdown",
     "metadata": {
        "slideshow": {
           "slide_type": "slide"
         } 
     }, 
     "source": ["# Konvertierung\n",
"\n",
"-   Oben bereits einige Beispiele: Manche Typen können in andere\n",
"    *konvertiert* werden\n",
"    -   Genauer: Objekte eines Typs können in ein Objekt eines anderen\n",
"        Typs konvertiert werden\n",
"    -   Begriff: *Type casting*\n",
"    -   Dabei entsteht ein *neues* Objekt des gewünschten Typs mit\n",
"        entsprechendem Inhalt\n",
"-   Beispiele\n",
"    -   Aufzählungen \n",
"        -   Tuple und Listen\n",
"        -   Tuple und Sets\n",
"    -   Zahlen und Strings: `int(\"12\")`\n",
"        -   Aber: `int(\"12.34\")` scheitert!"
]
    },{
     "cell_type": "markdown",
     "metadata": {
        "slideshow": {
           "slide_type": "slide"
         } 
     }, 
     "source": ["# Konvertierung: Syntax"
]
    },{
     "cell_type": "markdown",
     "metadata": {
        "slideshow": {
           "slide_type": "-"
         } 
     }, 
     "source": ["<div class=\"definition-head\" style=\"border:3px; border-style:solid; border-color:#5da9e9; padding: 5px; background-color:#5da9e9;  line-height:1.5em; text-align:center; border-radius: 15px 15px 0px 0px; margin-bottom: 0; width: 100%;\"><b>Definition: Syntax der Typkonvertierung<a id=\"orgheadline129\"></a></b></div>\n",
"\n",
"Soll ein Objekt in ein Objekt eines anderen Typs konvertiert werden,\n",
"so ist das Objekt als Parameter des gewünschten Typs anzugeben. Die\n",
"Syntax sieht aus wie ein Funktionsaufruf mit dem Typ als\n",
"Funktionsname. \n",
"\n",
"Je nach neuem Typ und gewünschtem Objekt kann die Konvertierung\n",
"gelingen oder scheitern (was zu einer Fehlermeldung führt).\n",
"\n",
"<div class=\"definition-content\" style=\"border:3px; border-style:solid; border-color:#5da9e9; padding: 5px; margin-top: 0; border-radius: 0px 0px 15px 15px; width: 100%; text-align:left\"></div>"
]
    },{
     "cell_type": "markdown",
     "metadata": {
        "slideshow": {
           "slide_type": "slide"
         } 
     }, 
     "source": ["<h1>Overview</h1> \n",
"\n",
"1. Überblick\n",
"1. Aufzählungen\n",
"1. Veränderliche Aufzählungen: Listen\n",
"1. Veränderliche Aufzählungen: Mengen\n",
"1. Abbildungstypen\n",
"1. Zusammenhang der Datentypen\n",
"1. **<font color=\"red\">Zusammenfassung</font>**"
]
    },{
     "cell_type": "markdown",
     "metadata": {
        "slideshow": {
           "slide_type": "slide"
         } 
     }, 
     "source": ["# Python-Keywords: Liste bis jetzt\n",
"\n",
"-   Aus Kapitel 4: \n",
"    -   `True`, `False`, `and`, `or`,  `def`,  `return`, `None`\n",
"-   Neu:\n",
"    -   `in`"
]
    },{
     "cell_type": "markdown",
     "metadata": {
        "slideshow": {
           "slide_type": "subslide"
         } 
     }, 
     "source": ["# Python: eingebaute Funktionen\n",
"\n",
"-   Allgemein \n",
"    -   `print`\n",
"-   Typ-bezogen\n",
"    -   `len`\n",
"-   Datentypen erzeugen\n",
"    -   `tuple`\n",
"    -   `list`\n",
"    -   `set`\n",
"    -   `dict`"
]
    },{
     "cell_type": "markdown",
     "metadata": {
        "slideshow": {
           "slide_type": "subslide"
         } 
     }, 
     "source": ["# Python-Syntax: Klammern\n",
"\n",
"-   Runde Klammern `(` und `)`\n",
"    -   In Ausdrücken, um Vorrang auszudrücken\n",
"    -   Bei Definition und Aufruf von Funktionen\n",
"    -   Bei *Definition* von Tuplen, *nicht* bei Zugriff\n",
"-   Eckige Klammern `[` und `]`\n",
"    -   *Zugriff* auf Element von Tuple, Liste oder Abbildung (`dict`)\n",
"    -   Mit einfachem Index\n",
"    -   Zusätzlich mit  Slicing bei geordneten Aufzählungen\n",
"-   Geschweifte Klammern `{` und `}`\n",
"    -   Definition von `set` oder `dict`\n",
"-   Klammern dürfen sich über mehrere Zeilen erstrecken\n",
"    -   Zeilenumbruch empfohlen nach Komma oder Operatoren"
]
    },{
     "cell_type": "markdown",
     "metadata": {
        "slideshow": {
           "slide_type": "subslide"
         } 
     }, 
     "source": ["# Python Datentypen\n",
"\n",
"Wir haben unterschiedliche Datentypen kennengelernt: \n",
"\n",
"-   Verschiedene Sorten von Zahlen\n",
"-   Aufzählungen mit unterschiedlichen Charakteristiken\n",
"    -   Veränderlich oder nicht\n",
"    -   Mit oder ohne Reihenfolge\n",
"\n",
"Gemeinsamkeiten? Ordnung ins Chaos? "
]
    },{
     "cell_type": "markdown",
     "metadata": {
        "slideshow": {
           "slide_type": "slide"
         } 
     }, 
     "source": ["# Python Datentypen &#x2013; Übersicht (bis jetzt)\n",
"\n",
"<center>![img](figures/type-hierachy.png \"Die wesentlichen Typen in Python\")</center>"
]
    },{
     "cell_type": "markdown",
     "metadata": {
        "slideshow": {
           "slide_type": "slide"
         } 
     }, 
     "source": ["# Zusammenfassung\n",
"\n",
"-   Flexibilität: Tuple, Listen und Verzeichnisse können beliebige\n",
"    Objekte aufnehmen, auch verschachtelt \n",
"    -   Mengen können nur unveränderliche Objekte aufnehmen\n",
"-   Veränderlichkeit: Liste, Verzeichnisse und Mengen können beliebig\n",
"    wachsen und schrumpfen\n",
"-   Insgesamt: Reichhaltige Möglichkeiten für Datenstrukturen\n",
"\n",
"  "
]
 }
],
 "metadata": {
  "celltoolbar": "Slideshow",
  "livereveal": {
        "theme": "simple",
        "transition": "none"
    },
  "kernelspec": {
   "display_name": "Python 3",
   "language": "python",
   "name": "python3"
  },
  "language_info": {
   "codemirror_mode": {
    "name": "ipython",
    "version": 3
   },
   "file_extension": ".py",
   "mimetype": "text/x-python",
   "name": "python",
   "nbconvert_exporter": "python",
   "pygments_lexer": "ipython3",
   "version": "3.5.1"
  }
 },
 "nbformat": 4,
 "nbformat_minor": 0
}