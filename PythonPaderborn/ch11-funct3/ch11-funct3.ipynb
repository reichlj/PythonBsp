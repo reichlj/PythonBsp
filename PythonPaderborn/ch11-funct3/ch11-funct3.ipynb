{
"cells": [
 {
     "cell_type": "markdown",
     "metadata": {
        "slideshow": {
           "slide_type": "slide"
         } 
     }, 
     "source": ["<h1>Kapitel 11: Funktionen (Teil 3): Verschachtelung und funktionale Programmierung</h1>\n",
"<p>Grundlagen der Programmierung 1<p><h2>Holger Karl</h2>\n",
" "
]
    },{
     "cell_type": "markdown",
     "metadata": {
        "slideshow": {
           "slide_type": "slide"
         } 
     }, 
     "source": ["<h1>Overview</h1> \n",
"\n",
"1. Überblick\n",
"1. Verschachtelte Funktionen\n",
"1. Closures\n",
"1. Anonyme Funktionen: lambda-Ausdrücke\n",
"1. Funktionaler Programmierstil\n",
"1. Generatoren\n",
"1. Decorators\n",
"1. Zusammenfassung \n",
" \n",
""
]
    },{
     "cell_type": "markdown",
     "metadata": {
        "slideshow": {
           "slide_type": "slide"
         } 
     }, 
     "source": ["<h1>Overview</h1> \n",
"\n",
"1. **<font color=\"red\">Überblick</font>**\n",
"1. Verschachtelte Funktionen\n",
"1. Closures\n",
"1. Anonyme Funktionen: lambda-Ausdrücke\n",
"1. Funktionaler Programmierstil\n",
"1. Generatoren\n",
"1. Decorators\n",
"1. Zusammenfassung"
]
    },{
     "cell_type": "markdown",
     "metadata": {
        "slideshow": {
           "slide_type": "skip"
         } 
     }, 
     "source": ["# Setup\n",
"\n",
"Main point here is to set up warnings properly for presentation and to\n",
"load tutormagic, so that we can later on use pythontutor for code\n",
"animations. "
]
    },{
     "cell_type": "code",
     "metadata": {
        "slideshow": {
           "slide_type": "skip"
         } 
     }, 
"outputs": [],
"execution_count": null,
     "source": ["%load_ext tutormagic\n",
"import warnings\n",
"warnings.filterwarnings('ignore', category=DeprecationWarning, module='.*/IPython/.*')"
]
    },{
     "cell_type": "markdown",
     "metadata": {
        "slideshow": {
           "slide_type": "slide"
         } 
     }, 
     "source": ["# Was bisher geschah\n",
"\n",
"-   Wir haben uns grundlegende Techniken zur Gestaltung und Nutzung von\n",
"    Funktionen angeschaut\n",
"-   Wir haben Funktionen im Kontext von Klassen als Methoden verwendet\n",
"    (eine Funktion, die an/mit einem Objekt arbeitet)\n",
"-   Wir haben angedeutet, dass eine Funktion eigentlich auch nur ein\n",
"    Objekt (von einem recht speziellen Typ) ist"
]
    },{
     "cell_type": "markdown",
     "metadata": {
        "slideshow": {
           "slide_type": "slide"
         } 
     }, 
     "source": ["# Dieses Kapitel\n",
"\n",
"-   Wir erweitern die Möglichkeiten, wie man mit Funktionen arbeiten\n",
"    kann\n",
"    -   Insbes. die Vorstellung, dass eine Funktion ein Objekt ist, auf\n",
"        das man eine Referenz erzeugen und herumreichen kann\n",
"-   Darauf aufbauend erarbeiten wir typische Programmiertechniken zur\n",
"    *funktionalen Programmierung*"
]
    },{
     "cell_type": "markdown",
     "metadata": {
        "slideshow": {
           "slide_type": "slide"
         } 
     }, 
     "source": ["<h1>Overview</h1> \n",
"\n",
"1. Überblick\n",
"1. **<font color=\"red\">Verschachtelte Funktionen</font>**\n",
"1. Closures\n",
"1. Anonyme Funktionen: lambda-Ausdrücke\n",
"1. Funktionaler Programmierstil\n",
"1. Generatoren\n",
"1. Decorators\n",
"1. Zusammenfassung"
]
    },{
     "cell_type": "markdown",
     "metadata": {
        "slideshow": {
           "slide_type": "slide"
         } 
     }, 
     "source": ["# Vorüberlegung: `def` ist eine Anweisung\n",
"\n",
"-   `def` ist eine Anweisung, die eine Funktion mit einem Namen versieht\n",
"    -   Der Code der Funktion wird intern abgelegt\n",
"    -   In einem Objekt einer geeigneten Klasse gespeichert\n",
"-   Im Block einer Funktion stehen Anweisungen\n",
"-   Darf dann dort auch ein `def` stehen?"
]
    },{
     "cell_type": "markdown",
     "metadata": {
        "slideshow": {
           "slide_type": "slide"
         } 
     }, 
     "source": ["# `def` in Funktionsblock\n",
"\n",
"Syntaktisch geht das natürlich &#x2013; Semantik? "
]
    },{
     "cell_type": "code",
     "metadata": {
        "slideshow": {
           "slide_type": "-"
         } 
     }, 
"outputs": [],
"execution_count": null,
     "source": ["%%tutor -t \n",
"def f():\n",
"    print(\"f1\") \n",
"\n",
"    def g():\n",
"        print(\"g!\")\n",
"\n",
"    g()\n",
"    print(\"f2\") \n",
"\n",
"f()\n",
"print(\"nach f\")"
]
    },{
     "cell_type": "markdown",
     "metadata": {
        "slideshow": {
           "slide_type": "slide"
         } 
     }, 
     "source": ["# `def` in Funktionsblock: Semantik\n",
"\n",
"Bei geschachtelter Funktionsdefinition: \n",
"\n",
"-   Der Name der inneren Funktion ist im Namensraum der äußeren Funktion\n",
"    nach Ausführung der inneren `def`-Anweisung bekannt\n",
"-   Dieser Name kann &#x2013; wie jeder andere Funktionsname auch &#x2013; zum Aufruf\n",
"    benutzt werden\n",
"-   Nach Rückkehr der äußeren Funktion verschwindet der Name `g`\n",
"    -   Im Beispiel: damit ist diese Funktion auch nicht aufrufbar!"
]
    },{
     "cell_type": "markdown",
     "metadata": {
        "slideshow": {
           "slide_type": "slide"
         } 
     }, 
     "source": ["# Verschachtelte Funktionen: Argumente, Rückgabewert\n",
"\n",
"Argumentübergabe und Rückgabewert funktionieren ganz normal "
]
    },{
     "cell_type": "code",
     "metadata": {
        "slideshow": {
           "slide_type": "-"
         } 
     }, 
"outputs": [],
"execution_count": null,
     "source": ["def f():\n",
"    def g(x):\n",
"        print(x+1)\n",
"        return x+2\n",
"\n",
"    y = g(22)\n",
"    print(y)\n",
"\n",
"f()"
]
    },{
     "cell_type": "markdown",
     "metadata": {
        "slideshow": {
           "slide_type": "slide"
         } 
     }, 
     "source": ["# Verschachtelte Funktionen: Zugriff auf Name?\n",
"\n",
"-   Wie funktioniert der Zugriff auf Namen außerhalb des eigenen\n",
"    Namensraum aus einer inneren Funktion heraus?\n",
"-   Im wesentlichen: Regeln wie bisher"
]
    },{
     "cell_type": "markdown",
     "metadata": {
        "slideshow": {
           "slide_type": "slide"
         } 
     }, 
     "source": ["# Zugriff auf globale Namen, lesend\n",
"\n",
"Ohne besondere Vorkehrungen, wenn nur lesen "
]
    },{
     "cell_type": "code",
     "metadata": {
        "slideshow": {
           "slide_type": "-"
         } 
     }, 
"outputs": [],
"execution_count": null,
     "source": ["def f():\n",
"    def g():\n",
"        print(x)\n",
"    g()\n",
"\n",
"x = 1\n",
"f()"
]
    },{
     "cell_type": "markdown",
     "metadata": {
        "slideshow": {
           "slide_type": "slide"
         } 
     }, 
     "source": ["# Zugriff auf globale Namen, schreiben\n",
"\n",
"Schreibender Zugriff: Erfordert Deklaration mit `global`"
]
    },{
     "cell_type": "code",
     "metadata": {
        "slideshow": {
           "slide_type": "-"
         } 
     }, 
"outputs": [],
"execution_count": null,
     "source": ["def f():\n",
"    def g():\n",
"        global x\n",
"        x = x + 1 \n",
"        print(x)\n",
"    g()\n",
"\n",
"x = 1\n",
"f()"
]
    },{
     "cell_type": "markdown",
     "metadata": {
        "slideshow": {
           "slide_type": "slide"
         } 
     }, 
     "source": ["# Zugriff auf Namen der äußeren Funktion? `global`?\n",
"\n",
"Spannender Punkt: Was ist mit Namen, die nicht global, aber in der\n",
"äußeren Funktion vereinbart ist? "
]
    },{
     "cell_type": "markdown",
     "metadata": {
        "slideshow": {
           "slide_type": "-"
         } 
     }, 
     "source": ["## Zugriff mit `global`?<a id=\"orgheadline19\"></a>"
]
    },{
     "cell_type": "code",
     "metadata": {
        "slideshow": {
           "slide_type": "-"
         } 
     }, 
"outputs": [],
"execution_count": null,
     "source": ["def f():\n",
"    def g():\n",
"        global x\n",
"        x = x + 1 \n",
"        print(x)\n",
"    x = 1\n",
"    g()\n",
"\n",
"f()"
]
    },{
     "cell_type": "markdown",
     "metadata": {
        "slideshow": {
           "slide_type": "slide"
         } 
     }, 
     "source": ["# Zugriff auf Namen der äußeren Funktion? Direkt?"
]
    },{
     "cell_type": "code",
     "metadata": {
        "slideshow": {
           "slide_type": "-"
         } 
     }, 
"outputs": [],
"execution_count": null,
     "source": ["def f():\n",
"    def g():\n",
"        x = x + 1 \n",
"        print(x)\n",
"    x = 1\n",
"    g()\n",
"\n",
"f()"
]
    },{
     "cell_type": "markdown",
     "metadata": {
        "slideshow": {
           "slide_type": "slide"
         } 
     }, 
     "source": ["# Zugriff auf Namen der äußeren Funktion &#x2013; Reihenfolge?\n",
"\n",
"Liegt es vielleicht an der Reihenfolge? \n",
"\n",
"-   Im Beispiel eben war bei der *Definition* von `g` der Namen `x`\n",
"      noch gar nicht existent\n",
"-   Muss es das `x` schon geben, wenn `g` definiert wird? Damit `g`\n",
"      darauf zugreifen kann?"
]
    },{
     "cell_type": "code",
     "metadata": {
        "slideshow": {
           "slide_type": "-"
         } 
     }, 
"outputs": [],
"execution_count": null,
     "source": ["def f():\n",
"    x = 1 \n",
"    def g():\n",
"        print(x)\n",
"    g()\n",
"\n",
"f()"
]
    },{
     "cell_type": "markdown",
     "metadata": {
        "slideshow": {
           "slide_type": "fragment"
         } 
     }, 
     "source": ["## Ja!<a id=\"orgheadline22\"></a>\n",
"\n",
"Offenbar wird auch der Namensraum einer umschließenden Funktion\n",
"durchsucht! "
]
    },{
     "cell_type": "markdown",
     "metadata": {
        "slideshow": {
           "slide_type": "slide"
         } 
     }, 
     "source": ["# Modifizierender Zugriff auf Namen der äußeren Funktion?\n",
"\n",
"Kann man solche \"umschließenden Namen\" auch verändern? \n",
"\n",
"-   Kurz für \"Namen aus umschließendem Namensraum\""
]
    },{
     "cell_type": "code",
     "metadata": {
        "slideshow": {
           "slide_type": "-"
         } 
     }, 
"outputs": [],
"execution_count": null,
     "source": ["def f():\n",
"    x = 1 \n",
"    def g():\n",
"        x += 1\n",
"        print(x)\n",
"    g()\n",
"\n",
"f()"
]
    },{
     "cell_type": "markdown",
     "metadata": {
        "slideshow": {
           "slide_type": "fragment"
         } 
     }, 
     "source": ["## Offenbar nein<a id=\"orgheadline24\"></a>\n",
"\n",
"Das ist analog zur Situation bei `global`"
]
    },{
     "cell_type": "markdown",
     "metadata": {
        "slideshow": {
           "slide_type": "slide"
         } 
     }, 
     "source": ["# Neues Schlüsselwort: `nonlocal`\n",
"\n",
"Analog zu `global`: Neues Schlüsselwort, um umschließende Namen zu\n",
"verändern\n",
"\n",
"-   `nonlocal`\n",
"-   Unterschied zu `global`: Der Name muss schon existieren! (durch\n",
"    Zuweisung, siehe oben)"
]
    },{
     "cell_type": "code",
     "metadata": {
        "slideshow": {
           "slide_type": "-"
         } 
     }, 
"outputs": [],
"execution_count": null,
     "source": ["def f():\n",
"    x = 1 \n",
"    def g():\n",
"        nonlocal x\n",
"        x += 1\n",
"        print(x)\n",
"    g()\n",
"\n",
"f()"
]
    },{
     "cell_type": "markdown",
     "metadata": {
        "slideshow": {
           "slide_type": "slide"
         } 
     }, 
     "source": ["# Beispiel: Tiefere Verschachtelung (1)"
]
    },{
     "cell_type": "code",
     "metadata": {
        "slideshow": {
           "slide_type": "-"
         } 
     }, 
"outputs": [],
"execution_count": null,
     "source": ["def f():\n",
"    x = 1 \n",
"    def g():\n",
"        def h():\n",
"            nonlocal x\n",
"            x += 1\n",
"            print(\"x in h:\", x)\n",
"        h()\n",
"        print(\"x in g:\", x)\n",
"    g()\n",
"    print(\"x in f:\", x)\n",
"\n",
"f()"
]
    },{
     "cell_type": "markdown",
     "metadata": {
        "slideshow": {
           "slide_type": "slide"
         } 
     }, 
     "source": ["# Beispiel: Tiefere Verschachtelung (2)"
]
    },{
     "cell_type": "code",
     "metadata": {
        "slideshow": {
           "slide_type": "-"
         } 
     }, 
"outputs": [],
"execution_count": null,
     "source": ["%%tutor -t\n",
"def f():\n",
"    x = 1 \n",
"    def g():\n",
"        x = 42\n",
"        def h():\n",
"            nonlocal x\n",
"            x += 1\n",
"            print(\"x in h:\", x)\n",
"        h()\n",
"        print(\"x in g:\", x)\n",
"    g()\n",
"    print(\"x in f:\", x)\n",
"\n",
"f()"
]
    },{
     "cell_type": "markdown",
     "metadata": {
        "slideshow": {
           "slide_type": "fragment"
         } 
     }, 
     "source": ["## Anmerkung: `x` aus `f`?<a id=\"orgheadline28\"></a>\n",
"\n",
"Es gibt keine Möglichkeit, von `h` aus auf das von `f` angelegte `x`\n",
"zuzugreifen. Dieses `x` wird durch das `x` von `g` verdeckt! "
]
    },{
     "cell_type": "markdown",
     "metadata": {
        "slideshow": {
           "slide_type": "slide"
         } 
     }, 
     "source": ["# Nachschlageregel: LEGB\n",
"\n",
"-   Bisher einfache Nachschlagregel für Namensräume: Erst lokal, dann global\n",
"-   Tatsächlich etwas umfangreicher"
]
    },{
     "cell_type": "markdown",
     "metadata": {
        "slideshow": {
           "slide_type": "-"
         } 
     }, 
     "source": ["<div class=\"definition-head\" style=\"border:3px; border-style:solid; border-color:#5da9e9; padding: 5px; background-color:#5da9e9;  line-height:1.5em; text-align:center; border-radius: 15px 15px 0px 0px; margin-bottom: 0; width: 100%;\"><b>Definition: Nachschlageregel für Namen: LEGB<a id=\"orgheadline30\"></a></b></div>\n",
"\n",
"Python sucht Namen in diesen Namensräumen, in dieser Reihenfolge: \n",
"\n",
"1.  dem lokalen Namensraum (einer Funktion): **L**\n",
"2.  dem Namensraum umgebender (*enclosing*) Funktionen: **E**\n",
"3.  dem globalen Namensraum: **G**\n",
"4.  dem Namensraum eingebauter (vordefinierter) Namen (build-in): **B**\n",
"\n",
"Kurz: Die Reihenfolge ist **LEGB** \n",
"\n",
"<div class=\"definition-content\" style=\"border:3px; border-style:solid; border-color:#5da9e9; padding: 5px; margin-top: 0; border-radius: 0px 0px 15px 15px; width: 100%; text-align:left\"></div>"
]
    },{
     "cell_type": "markdown",
     "metadata": {
        "slideshow": {
           "slide_type": "slide"
         } 
     }, 
     "source": ["# Nachschlageregel: LEGB &#x2013; Illustration\n",
"\n",
"<center>![img](./uml/legb.png \"Nachschlageregel LEGB\")</center>"
]
    },{
     "cell_type": "markdown",
     "metadata": {
        "slideshow": {
           "slide_type": "slide"
         } 
     }, 
     "source": ["<h1>Overview</h1> \n",
"\n",
"1. Überblick\n",
"1. Verschachtelte Funktionen\n",
"1. **<font color=\"red\">Closures</font>**\n",
"1. Anonyme Funktionen: lambda-Ausdrücke\n",
"1. Funktionaler Programmierstil\n",
"1. Generatoren\n",
"1. Decorators\n",
"1. Zusammenfassung"
]
    },{
     "cell_type": "markdown",
     "metadata": {
        "slideshow": {
           "slide_type": "slide"
         } 
     }, 
     "source": ["# Vorüberlegung: Referenzen auf Funktionen?\n",
"\n",
"-   Kann man Funktionsnamen wie normale Namen behandeln?\n",
"-   Kann man diese kopieren, und trotzdem noch aufrufen?"
]
    },{
     "cell_type": "code",
     "metadata": {
        "slideshow": {
           "slide_type": "-"
         } 
     }, 
"outputs": [],
"execution_count": null,
     "source": ["def f():\n",
"    print(\"f!\")\n",
"\n",
"g = f\n",
"g()"
]
    },{
     "cell_type": "markdown",
     "metadata": {
        "slideshow": {
           "slide_type": "fragment"
         } 
     }, 
     "source": ["## Was passiert hier?<a id=\"orgheadline33\"></a>\n",
"\n",
"-   `f` ist ein Name für ein Funktionsobjekt\n",
"-   Die Anweisung `g = f` lässt den Namen `g` auf das gleiche Objekt\n",
"    referenzieren\n",
"-   Also wird der Aufruf `g()` auch die gleiche Funktion aufrufen\n",
"    -   Der referenzierende Name  ist *irrelevant*!"
]
    },{
     "cell_type": "markdown",
     "metadata": {
        "slideshow": {
           "slide_type": "slide"
         } 
     }, 
     "source": ["# Vorüberlegung 2: Funktionsreferenzen als Rückgabewert?\n",
"\n",
"-   Wenn man Funktionsreferenzen kopieren kann\n",
"-   Dann kann man sie doch bestimmt auch als Rückgabewert einer Funktion\n",
"    verwenden?"
]
    },{
     "cell_type": "code",
     "metadata": {
        "slideshow": {
           "slide_type": "-"
         } 
     }, 
"outputs": [],
"execution_count": null,
     "source": ["%%tutor -t\n",
"def f():\n",
"    def g():\n",
"        print(\"innere Funktion!\")\n",
"    return g\n",
"\n",
"h = f()\n",
"h()"
]
    },{
     "cell_type": "markdown",
     "metadata": {
        "slideshow": {
           "slide_type": "fragment"
         } 
     }, 
     "source": ["## Natürlich!<a id=\"orgheadline35\"></a>\n",
"\n",
"-   Die Semantik ist ganz banal!\n",
"-   Nach Aufruf von `f` ist `h` ein\n",
"    weiterer Name für das Funktionsobjekt geworden, das ursprünglich\n",
"    unter dem Namen `g` eingeführt wurde"
]
    },{
     "cell_type": "markdown",
     "metadata": {
        "slideshow": {
           "slide_type": "slide"
         } 
     }, 
     "source": ["# Analogie: Normales Objekt als Rückgabewert\n",
"\n",
"Zur Analogie: Dieser Code ist ja klar \n",
"\n",
"-   Eine Liste kann man nicht aufrufen, sondern ausgeben\n",
"-   Aber sonst ist das *genau das gleiche*!"
]
    },{
     "cell_type": "code",
     "metadata": {
        "slideshow": {
           "slide_type": "-"
         } 
     }, 
"outputs": [],
"execution_count": null,
     "source": ["def f():\n",
"    g = [\"ein\", \"Beispiel\", \"Objekt\"]\n",
"    return g\n",
"\n",
"h = f()\n",
"print(h)"
]
    },{
     "cell_type": "markdown",
     "metadata": {
        "slideshow": {
           "slide_type": "slide"
         } 
     }, 
     "source": ["# Funktionen mit Parametern als Rückgabe?\n",
"\n",
"Was passiert, wenn wir eine Funktion zurückgeben, die\n",
"Parameter benutzt? "
]
    },{
     "cell_type": "code",
     "metadata": {
        "slideshow": {
           "slide_type": "-"
         } 
     }, 
"outputs": [],
"execution_count": null,
     "source": ["def f():\n",
"    def g(x):\n",
"        print(\"innere Funktion!\", x)\n",
"    return g\n",
"\n",
"h = f()\n",
"h(\"Wert für x\")"
]
    },{
     "cell_type": "markdown",
     "metadata": {
        "slideshow": {
           "slide_type": "-"
         } 
     }, 
     "source": ["## Parameter bleibt bestehen<a id=\"orgheadline38\"></a>\n",
"\n",
"Dann hat die Funktion natürlich einen Parameter \n",
"\n",
"-   Aufruf unter neuem Namen erfordert diesen Parameter"
]
    },{
     "cell_type": "markdown",
     "metadata": {
        "slideshow": {
           "slide_type": "slide"
         } 
     }, 
     "source": ["# Funktion mit Zugriff auf nichtlokalen Namen als Rückgabe\n",
"\n",
"Spannender: \n",
"\n",
"-   Innere Funktion greift auf Parameter der äußeren Funktion zu\n",
"-   Innere Funktion wird zurückgeben\n",
"-   und dann aufgerufen\n",
"\n",
"Erwartetes Verhalten? "
]
    },{
     "cell_type": "code",
     "metadata": {
        "slideshow": {
           "slide_type": "-"
         } 
     }, 
"outputs": [],
"execution_count": null,
     "source": ["%%tutor -t\n",
"def f():\n",
"    n = 5\n",
"    def g(x):\n",
"        print(\"innere Funktion!\", x*n)\n",
"    return g\n",
"\n",
"h = f()\n",
"h(\"Wert für x\")"
]
    },{
     "cell_type": "markdown",
     "metadata": {
        "slideshow": {
           "slide_type": "fragment"
         } 
     }, 
     "source": ["## Äußerer Parameter bleibt erhalten!<a id=\"orgheadline40\"></a>\n",
"\n",
"-   Offenbar behält die Funktion, die unter `h` im globalen Scope\n",
"    bekannt ist, Zugriff auf den Namen `n`\n",
"-   **Erstaunlich**! `n` im Namensraum von `f`, aber `f` schon beendet!?"
]
    },{
     "cell_type": "markdown",
     "metadata": {
        "slideshow": {
           "slide_type": "slide"
         } 
     }, 
     "source": ["# Nicht-lokaler Name selbst als Parameter\n",
"\n",
"-   In obigem Beispiel: `n` hatte einen festen Wert\n",
"-   Aber wo der Wert für `n` herkommt ist egal\n",
"    -   Er muss lediglich vor dem `def` von `g` vorhanden sein\n",
"-   Es könnte selbst ein Funktionsparameter sein?"
]
    },{
     "cell_type": "code",
     "metadata": {
        "slideshow": {
           "slide_type": "-"
         } 
     }, 
"outputs": [],
"execution_count": null,
     "source": ["def f(n):\n",
"    def g(x):\n",
"        print(\"innere Funktion!\", x*n)\n",
"    return g\n",
"\n",
"h = f(3)\n",
"h(\"Wert für x\")"
]
    },{
     "cell_type": "markdown",
     "metadata": {
        "slideshow": {
           "slide_type": "slide"
         } 
     }, 
     "source": ["# Beispiel &#x2013; Aufgeräumt"
]
    },{
     "cell_type": "code",
     "metadata": {
        "slideshow": {
           "slide_type": "-"
         } 
     }, 
"outputs": [],
"execution_count": null,
     "source": ["%%tutor -t\n",
"def vervielfacher_fabrik(n):\n",
"    def vervielfacher(x):\n",
"        return x*n\n",
"\n",
"    return vervielfacher\n",
"\n",
"doppler = vervielfacher_fabrik(2)\n",
"fuenffacher = vervielfacher_fabrik(5) \n",
"\n",
"print(doppler(\"Mehrfach ausgeben! \"))\n",
"print(fuenffacher(\"Mehrfach ausgeben! \"))"
]
    },{
     "cell_type": "markdown",
     "metadata": {
        "slideshow": {
           "slide_type": "slide"
         } 
     }, 
     "source": ["# Muster: Fabrik (*Factory*)\n",
"\n",
"-   Beispiel hatte mehrere Bestandteile\n",
"    -   Eine `...-fabrik` Funktion: Sie erzeugt eine andere Funktion,\n",
"        richtig parametriert\n",
"    -   Der Bauplan für die zu erzeugende Funktion (hier: `vervielfacher`)\n",
"        -   Bauplan wird konkretisiert durch Einsetzen von Werten für\n",
"            Parameter (hier: `n`)\n",
"    -   Mehrfacher Aufruf der Fabrik mit unterschiedlichen Parametern\n",
"        -   Ergibt maßgeschneiderte Funktionen, die aufgerufen werden\n",
"-   Das sog. *factory pattern*"
]
    },{
     "cell_type": "markdown",
     "metadata": {
        "slideshow": {
           "slide_type": "slide"
         } 
     }, 
     "source": ["# Realisierung: Closures\n",
"\n",
"-   Das erstaunliche: Die produzierten Funktionen merken sich die Werte\n",
"    der Parameter der Fabrik-Funktion!\n",
"-   Dazu werden die Frames (Namensräume) dieser Fabrikfunktionsaufrufe\n",
"    nicht entsorgt, sondern an die produzierte Funktion (`doppler`,\n",
"    `fuenffacher`, &#x2026;) gekoppelt\n",
"-   Diese Datenstruktur (Kopplung von Frames an einen Funktionsnamen)\n",
"    heißt *Closure*\n",
"-   Closure merken sich den relevanten Zustand &#x2013; ein *state retention*\n",
"      Ansatz"
]
    },{
     "cell_type": "markdown",
     "metadata": {
        "slideshow": {
           "slide_type": "fragment"
         } 
     }, 
     "source": ["<div class=\"definition-head\" style=\"border:3px; border-style:solid; border-color:#5da9e9; padding: 5px; background-color:#5da9e9;  line-height:1.5em; text-align:center; border-radius: 15px 15px 0px 0px; margin-bottom: 0; width: 100%;\"><b>Definition: Closure<a id=\"orgheadline45\"></a></b></div>\n",
"\n",
"Ein Closure ist eine Funktion, deren nicht-lokale Namen an Objekte\n",
"gebunden wurden. \n",
"\n",
"<div class=\"definition-content\" style=\"border:3px; border-style:solid; border-color:#5da9e9; padding: 5px; margin-top: 0; border-radius: 0px 0px 15px 15px; width: 100%; text-align:left\"></div>"
]
    },{
     "cell_type": "markdown",
     "metadata": {
        "slideshow": {
           "slide_type": "slide"
         } 
     }, 
     "source": ["# Nutzen: Fabriken und Closures\n",
"\n",
"-   Beispiel oben ist zugeben etwas künstlich\n",
"-   Typischer Einsatz von Closures:\n",
"    -   Graphische Nutzerschnittstellen: Funktionen, die abhängig von\n",
"        Nutzereingabe erzeugt werden\n",
"    -   Web-Anwendungen: Funktionen erzeugen, die auf Veränderungen\n",
"        reagiert (sog. *callbacks*)\n",
"        -   Häufig in event handlers in Javascript!"
]
    },{
     "cell_type": "markdown",
     "metadata": {
        "slideshow": {
           "slide_type": "slide"
         } 
     }, 
     "source": ["<h1>Overview</h1> \n",
"\n",
"1. Überblick\n",
"1. Verschachtelte Funktionen\n",
"1. Closures\n",
"1. **<font color=\"red\">Anonyme Funktionen: lambda-Ausdrücke</font>**\n",
"1. Funktionaler Programmierstil\n",
"1. Generatoren\n",
"1. Decorators\n",
"1. Zusammenfassung"
]
    },{
     "cell_type": "markdown",
     "metadata": {
        "slideshow": {
           "slide_type": "slide"
         } 
     }, 
     "source": ["# Funktionsdefinition bisher: `def`\n",
"\n",
"-   `def` ist Anweisung\n",
"    -   Erzeugt ein Funktionsobjekt\n",
"    -   Legt einen Namen im entsprechenden Namensraum an\n",
"    -   Verbindet Namen mit erzeugtem Objekt\n",
"-   Was, wenn man den Namen eigentlich gar nicht braucht?\n",
"    -   Sondern nur das Funktionsobjekt an sich?\n",
"    -   Z.B., weil es in einer Factory sowieso direkt zurückgegeben wird?\n",
"    -   Oder nur an einer einzigen Stelle gebraucht wird, z.B. in einer\n",
"        list comprehension?"
]
    },{
     "cell_type": "markdown",
     "metadata": {
        "slideshow": {
           "slide_type": "slide"
         } 
     }, 
     "source": ["# Funktionsname in Factory: Nötig?\n",
"\n",
"Beispiel oben: Name `vervielfacher` eigentlich nicht sehr nützlich  "
]
    },{
     "cell_type": "code",
     "metadata": {
        "slideshow": {
           "slide_type": "-"
         } 
     }, 
"outputs": [],
"execution_count": null,
     "source": ["def vervielfacher_fabrik(n):\n",
"    def vervielfacher(x):\n",
"        return x*n\n",
"\n",
"    return vervielfacher\n",
"\n",
"doppler = vervielfacher_fabrik(2)\n",
"fuenffacher = vervielfacher_fabrik(5) \n",
"\n",
"print(doppler(\"Mehrfach ausgeben! \"))\n",
"print(fuenffacher(\"Mehrfach ausgeben! \"))"
]
    },{
     "cell_type": "markdown",
     "metadata": {
        "slideshow": {
           "slide_type": "slide"
         } 
     }, 
     "source": ["# Anonyme Funktionen: &lambda;-Ausdrücke\n",
"\n",
"-   Das kommt häufig vor, verdient also Sprachunterstützung"
]
    },{
     "cell_type": "markdown",
     "metadata": {
        "slideshow": {
           "slide_type": "-"
         } 
     }, 
     "source": ["<div class=\"definition-head\" style=\"border:3px; border-style:solid; border-color:#5da9e9; padding: 5px; background-color:#5da9e9;  line-height:1.5em; text-align:center; border-radius: 15px 15px 0px 0px; margin-bottom: 0; width: 100%;\"><b>Definition: &lambda;-Ausdrücke: `lambda`<a id=\"orgheadline50\"></a></b></div>\n",
"\n",
"-   *Ausdruck*, der eine *anonyme Funktion* vereinbart\n",
"    -   Keine Anweisung!\n",
"    -   Präziser: der ein Funktionsobjekt erzeugt und eine Referenz auf\n",
"        dieses Objekt zurückgibt\n",
"-   Eigenschaften\n",
"    -   Anonyme Funktion darf beliebig viele Parameter haben\n",
"    -   Aber die Funktion darf nur aus einem *Ausdruck* bestehen; sie darf\n",
"        *keine Anweisungen* nutzen\n",
"-   Syntax:\n",
"    -   `lambda Liste von Parameter : Zu berechnender Ausdruck`\n",
"\n",
"<div class=\"definition-content\" style=\"border:3px; border-style:solid; border-color:#5da9e9; padding: 5px; margin-top: 0; border-radius: 0px 0px 15px 15px; width: 100%; text-align:left\"></div>"
]
    },{
     "cell_type": "markdown",
     "metadata": {
        "slideshow": {
           "slide_type": "slide"
         } 
     }, 
     "source": ["# &lambda;-Ausdrücke &#x2013; Beispiele"
]
    },{
     "cell_type": "markdown",
     "metadata": {
        "slideshow": {
           "slide_type": "-"
         } 
     }, 
     "source": ["## Funktion, die drei Zahlen addiert<a id=\"orgheadline52\"></a>"
]
    },{
     "cell_type": "code",
     "metadata": {
        "slideshow": {
           "slide_type": "-"
         } 
     }, 
"outputs": [],
"execution_count": null,
     "source": ["adder = lambda a, b, c : a + b + c \n",
"print(adder(1, 2, 3))"
]
    },{
     "cell_type": "markdown",
     "metadata": {
        "slideshow": {
           "slide_type": "-"
         } 
     }, 
     "source": ["## `lambda` in Factory<a id=\"orgheadline53\"></a>\n",
"\n",
"Viel besser lesbare Closure-Version: "
]
    },{
     "cell_type": "code",
     "metadata": {
        "slideshow": {
           "slide_type": "-"
         } 
     }, 
"outputs": [],
"execution_count": null,
     "source": ["def vervielfacher_fabrik(n):\n",
"    return lambda x: x*n\n",
"\n",
"doppler = vervielfacher_fabrik(2)\n",
"fuenffacher = vervielfacher_fabrik(5) \n",
"\n",
"print(doppler(\"Mehrfach ausgeben! \"))\n",
"print(fuenffacher(\"Mehrfach ausgeben! \"))"
]
    },{
     "cell_type": "markdown",
     "metadata": {
        "slideshow": {
           "slide_type": "slide"
         } 
     }, 
     "source": ["# &lambda;-Ausdrücke &#x2013; Funktionen an Objekte übergeben\n",
"\n",
"-   Objekte brauchen manchmal eine Funktion, die sie aufrufen können \n",
"    -   Häufig: GUI-Frameworks\n",
"-   Funktion wird nur als Referenz in Objekt gespeichert\n",
"-   Funktion bei Methodenaufruf bei `lambda` erzeugen"
]
    },{
     "cell_type": "code",
     "metadata": {
        "slideshow": {
           "slide_type": "-"
         } 
     }, 
"outputs": [],
"execution_count": null,
     "source": ["class SomeClass:\n",
"    def __init__(self, name, fct):\n",
"        self.name = name\n",
"        self.fct = fct\n",
"\n",
"    def do(self):\n",
"        self.fct()\n",
"\n",
"\n",
"o = SomeClass(name=\"somename\",\n",
"              fct = lambda: some expression here)\n",
"o.do()"
]
    },{
     "cell_type": "markdown",
     "metadata": {
        "slideshow": {
           "slide_type": "slide"
         } 
     }, 
     "source": ["<h1>Overview</h1> \n",
"\n",
"1. Überblick\n",
"1. Verschachtelte Funktionen\n",
"1. Closures\n",
"1. Anonyme Funktionen: lambda-Ausdrücke\n",
"1. **<font color=\"red\">Funktionaler Programmierstil</font>**\n",
"1. Generatoren\n",
"1. Decorators\n",
"1. Zusammenfassung"
]
    },{
     "cell_type": "markdown",
     "metadata": {
        "slideshow": {
           "slide_type": "slide"
         } 
     }, 
     "source": ["# Beobachtung: Funktionen sind first-class citizens\n",
"\n",
"-   Python behandelt Funktionen wie ganz normale Objekte, mit allerlei\n",
"    Operationen darauf\n",
"    -   Funktionen als Parameter, als Rückgabewerte, merken mittels Namen\n",
"        oder Datenstrukturen, &#x2026;\n",
"-   Solche Funktionen sind *first-class citizens*\n",
"-   Dies erlaubt *funktionale Programmierung* als Programmierparadigma"
]
    },{
     "cell_type": "markdown",
     "metadata": {
        "slideshow": {
           "slide_type": "slide"
         } 
     }, 
     "source": ["# Funktionale Programmierung &#x2013; Typische Merkmale\n",
"\n",
"-   Funktionen sind first-class citizens\n",
"    -   Impliziert: Funktionen können auf Funktionen angewendet werden\n",
"-   Rekursion\n",
"-   Keine Seiteneffekte"
]
    },{
     "cell_type": "markdown",
     "metadata": {
        "slideshow": {
           "slide_type": "slide"
         } 
     }, 
     "source": ["# Beispiel: map, filter\n",
"\n",
"-   Häufiger Stil in funktionalen Sprachen:\n",
"    -   Daten in Listen ablegen\n",
"    -   Listen filtern gemäß einer Filterfunktion\n",
"    -   Funktion auf jedes Element einer Aufzählung (iterable) anwenden\n",
"    -   Liste zu einem einzelnen Wert reduzieren\n",
"-   Sog. **map/filter/reduce**-Muster"
]
    },{
     "cell_type": "markdown",
     "metadata": {
        "slideshow": {
           "slide_type": "slide"
         } 
     }, 
     "source": ["# Iterables\n",
"\n",
"-   Idee nicht nur auf Listen eingeschränkt\n",
"-   Warum nicht auf Tuple, Mengen, &#x2026; ?\n",
"-   Alles, was man der Reihe nach durchlaufen kann\n",
"-   Formalisiert: Klasse `Iterable`\n",
"    -   Unterklassen: `list`, `str`, `tuple`, `dict`, Dateien, &#x2026;"
]
    },{
     "cell_type": "markdown",
     "metadata": {
        "slideshow": {
           "slide_type": "slide"
         } 
     }, 
     "source": ["# `filter`\n",
"\n",
"-   `filter`: eingebaute Funktion\n",
"-   Signatur: `filter(function, iterable)`\n",
"    -   Wende die Funktion `function` auf jedes Element einer Aufzählung an\n",
"    -   Resultat: Aufzählung mit den Elementen, bei denen die Funktion\n",
"        `True` ergab"
]
    },{
     "cell_type": "markdown",
     "metadata": {
        "slideshow": {
           "slide_type": "-"
         } 
     }, 
     "source": ["## Beispiel<a id=\"orgheadline60\"></a>"
]
    },{
     "cell_type": "code",
     "metadata": {
        "slideshow": {
           "slide_type": "-"
         } 
     }, 
"outputs": [],
"execution_count": null,
     "source": ["l = [1, 2, 3, 4, 5]\n",
"l2 = filter(lambda x: x % 2 == 1, l)\n",
"print(list(l2))"
]
    },{
     "cell_type": "markdown",
     "metadata": {
        "slideshow": {
           "slide_type": "slide"
         } 
     }, 
     "source": ["# `map`\n",
"\n",
"-   `map`: eingebaute Funktion\n",
"-   Signatur: `map(function, iterable)`\n",
"    -   Wende die Funktion `function` auf jedes Element eines Objektes an,\n",
"        dass zu einer von `iterable` abgeleiteten Klasse gehört\n",
"    -   Resultat: Aufzählung der Funktionsergebnisse"
]
    },{
     "cell_type": "markdown",
     "metadata": {
        "slideshow": {
           "slide_type": "-"
         } 
     }, 
     "source": ["## Beispiel<a id=\"orgheadline62\"></a>"
]
    },{
     "cell_type": "code",
     "metadata": {
        "slideshow": {
           "slide_type": "-"
         } 
     }, 
"outputs": [],
"execution_count": null,
     "source": ["l = [1, 2, 3, 4, 5]\n",
"l2 = map(lambda x: x*x, l)\n",
"print(list(l2))\n",
"\n",
"print(\" -- \".join(map(str,l)))"
]
    },{
     "cell_type": "markdown",
     "metadata": {
        "slideshow": {
           "slide_type": "fragment"
         } 
     }, 
     "source": ["## Anmerkung<a id=\"orgheadline63\"></a>\n",
"\n",
"Konvertierung in Liste nur nötig für `print`"
]
    },{
     "cell_type": "markdown",
     "metadata": {
        "slideshow": {
           "slide_type": "slide"
         } 
     }, 
     "source": ["# Weitere Operationen auf iterables\n",
"\n",
"Reichlich Beispiele, siehe Übungen: \n",
"\n",
"-   zip\n",
"-   reduce"
]
    },{
     "cell_type": "markdown",
     "metadata": {
        "slideshow": {
           "slide_type": "slide"
         } 
     }, 
     "source": ["# &lambda;-Ausdrücke und flexible Argumente\n",
"\n",
"Eine Funktion, die beliebig viele Argumente beliebigen Types mit & dazwischen ausgibt? "
]
    },{
     "cell_type": "code",
     "metadata": {
        "slideshow": {
           "slide_type": "-"
         } 
     }, 
"outputs": [],
"execution_count": null,
     "source": ["out = lambda *x: print(\" & \".join(map(str, x)))\n",
"out(1, 2, 3, \"hallo\", \"gp1\")"
]
    },{
     "cell_type": "markdown",
     "metadata": {
        "slideshow": {
           "slide_type": "slide"
         } 
     }, 
     "source": ["# Vergleich: list comprehensions und map/filter\n",
"\n",
"-   Die Beispiele oben sind in Python einfacher und kompakter als list\n",
"    comprehensions aufzuschreiben\n",
"-   Allerdings: dadurch wird die komplette Liste erzeugt &#x2013; Sinnvoll?"
]
    },{
     "cell_type": "code",
     "metadata": {
        "slideshow": {
           "slide_type": "-"
         } 
     }, 
"outputs": [],
"execution_count": null,
     "source": ["l = [x for x in range(100000) if x < 2][0:1]\n",
"print(l)"
]
    },{
     "cell_type": "markdown",
     "metadata": {
        "slideshow": {
           "slide_type": "slide"
         } 
     }, 
     "source": ["# Evolution funktionaler Sprache: Großvater LISP\n",
"\n",
"<center>![img](./figures/lisp_cycles.png \"LISP\")</center>"
]
    },{
     "cell_type": "markdown",
     "metadata": {
        "slideshow": {
           "slide_type": "slide"
         } 
     }, 
     "source": ["# Rein funktionale Sprachen\n",
"\n",
"<center>![img](./figures/haskell.png \"Popularität reiner funktionaler Sprachen\")</center>"
]
    },{
     "cell_type": "markdown",
     "metadata": {
        "slideshow": {
           "slide_type": "slide"
         } 
     }, 
     "source": ["<h1>Overview</h1> \n",
"\n",
"1. Überblick\n",
"1. Verschachtelte Funktionen\n",
"1. Closures\n",
"1. Anonyme Funktionen: lambda-Ausdrücke\n",
"1. Funktionaler Programmierstil\n",
"1. **<font color=\"red\">Generatoren</font>**\n",
"1. Decorators\n",
"1. Zusammenfassung"
]
    },{
     "cell_type": "markdown",
     "metadata": {
        "slideshow": {
           "slide_type": "slide"
         } 
     }, 
     "source": ["# Funktionen auf *große* Listen anwenden?\n",
"\n",
"-   Große Eingaben brauchen viel Platz\n",
"    -   Ggf. kann das Erzeugen der Eingabe schon allen Speicherplatz\n",
"        verbrauchen\n",
"-   Mit endlichen Listen kann man keine unendlichen Folgen erzeugen\n",
"    -   Beispiel: Alle Primzahlen\n",
"-   Vielleicht"
]
    },{
     "cell_type": "markdown",
     "metadata": {
        "slideshow": {
           "slide_type": "-"
         } 
     }, 
     "source": ["## Idee: Werte nach und nach erzeugen<a id=\"orgheadline70\"></a>\n",
"\n",
"-   Statt komplette Liste zu berechnen, nur jeweils den *nächsten* Wert\n",
"-   Auf Aufforderung &#x2013; als Funktionsaufruf?"
]
    },{
     "cell_type": "markdown",
     "metadata": {
        "slideshow": {
           "slide_type": "slide"
         } 
     }, 
     "source": ["# Werte auf Aufforderung &#x2013; Skizze?"
]
    },{
     "cell_type": "code",
     "metadata": {
        "slideshow": {
           "slide_type": "-"
         } 
     }, 
"outputs": [],
"execution_count": null,
     "source": ["def magic_prime_production(start):\n",
"    if erster Aufruf: \n",
"        letzte_zahl = start\n",
"    res = nächste Primzahl größer als letzte_zahl\n",
"    letzte_zahl = res\n",
"    return res\n",
"\n",
"# Nutzung in for Schleife??\n",
"for p in magic_prime_production():\n",
"    print(p)"
]
    },{
     "cell_type": "markdown",
     "metadata": {
        "slideshow": {
           "slide_type": "slide"
         } 
     }, 
     "source": ["# Werte auf Aufforderung &#x2013; Realisierung?\n",
"\n",
"-   Mit Funktionsaufruf wie bisher geht das so nicht\n",
"-   Funktion hat keine Vorstellung, was der *letzte Wert* ist\n",
"-   Wir müssten das der Funktion beibringen? &#x2026;?\n",
"    -   Analogie: Closures? Hat sich auch Zustand gemerkt?"
]
    },{
     "cell_type": "markdown",
     "metadata": {
        "slideshow": {
           "slide_type": "fragment"
         } 
     }, 
     "source": ["## Realisierung: Closure-artig<a id=\"orgheadline73\"></a>\n",
"\n",
"-   Mit Closure-artiger Zustandsspeicherung lässt sich das Problem lösen\n",
"-   Siehe auch Programmieraufgabe!\n",
"-   Aber syntaktisch unhandlich &#x2013; also Anweisung!"
]
    },{
     "cell_type": "markdown",
     "metadata": {
        "slideshow": {
           "slide_type": "slide"
         } 
     }, 
     "source": ["# Werte auf Aufforderung &#x2013; Generatoren\n",
"\n",
"Syntaktischer Zucker: Generatoren \n",
"\n",
"-   Schlüsselwort: `yield` und Generatorenfunktionen\n",
"-   Idee: Ersetze in einer Funktion  `return` durch `yield` \n",
"    -   Liefert Wert an Aufrufer\n",
"    -   **und** merkt sich Zustand für nächsten Aufruf!\n",
"        -   Zustand: Werte lokaler Namen; Zeilennummer; &#x2026;"
]
    },{
     "cell_type": "markdown",
     "metadata": {
        "slideshow": {
           "slide_type": "slide"
         } 
     }, 
     "source": ["# Generator: Einfaches Beispiel\n",
"\n",
"Generator wird die Werte 1, 2, 3 liefern. Danach nichts. "
]
    },{
     "cell_type": "code",
     "metadata": {
        "slideshow": {
           "slide_type": "-"
         } 
     }, 
"outputs": [],
"execution_count": null,
     "source": ["def gen():\n",
"    yield 1\n",
"    yield 2\n",
"    yield 3"
]
    },{
     "cell_type": "markdown",
     "metadata": {
        "slideshow": {
           "slide_type": "slide"
         } 
     }, 
     "source": ["# Generatoren: Nutzung\n",
"\n",
"-   Aufruf: Unterscheidung erster und folgende Aufrufe notwendig\n",
"    -   Erster Aufruf: normaler Funktionsaufruf, initialisiert\n",
"        -   Gibt ein Generator-Objekt\n",
"    -   Folgender Aufruf: Funktion `next` auf dieses Generator-Objekt\n",
"        anwenden"
]
    },{
     "cell_type": "markdown",
     "metadata": {
        "slideshow": {
           "slide_type": "slide"
         } 
     }, 
     "source": ["# Generator: Einfaches Beispiel &#x2013; Nutzung\n",
"\n",
"Generator wird die Werte 1, 2, 3. Danach `StopIteration`-Exception. "
]
    },{
     "cell_type": "code",
     "metadata": {
        "slideshow": {
           "slide_type": "-"
         } 
     }, 
"outputs": [],
"execution_count": null,
     "source": ["def gen():\n",
"    yield 1\n",
"    yield 2\n",
"    yield 3\n",
"\n",
"g = gen()\n",
"print(g)\n",
"print(next(g))\n",
"print(next(g))\n",
"print(next(g))\n",
"try:\n",
"    print(next(g))\n",
"except StopIteration:\n",
"    print(\"da kommt nichts mehr\")"
]
    },{
     "cell_type": "markdown",
     "metadata": {
        "slideshow": {
           "slide_type": "slide"
         } 
     }, 
     "source": ["# Generator: Nutzung in Schleife\n",
"\n",
"Spannender Punkt: Generatoren können wie Iterables in Schleife benutzt\n",
"werden \n",
"\n",
"-   Syntax dadurch deutlich einfacher\n",
"-   `StopIteration` führt zum Schleifenende"
]
    },{
     "cell_type": "code",
     "metadata": {
        "slideshow": {
           "slide_type": "-"
         } 
     }, 
"outputs": [],
"execution_count": null,
     "source": ["def gen():\n",
"    yield 1\n",
"    yield 2\n",
"    yield 3\n",
"\n",
"for v in gen():\n",
"    print(v)"
]
    },{
     "cell_type": "markdown",
     "metadata": {
        "slideshow": {
           "slide_type": "slide"
         } 
     }, 
     "source": ["# Beispiel: Unendlicher Generator\n",
"\n",
"Produziere **alle** Vielfachen von 3 ab Startwert: "
]
    },{
     "cell_type": "code",
     "metadata": {
        "slideshow": {
           "slide_type": "-"
         } 
     }, 
"outputs": [],
"execution_count": null,
     "source": ["def gen(start):\n",
"    # wir wollen alle Vielfache, also Endlosschleife: \n",
"    while True:\n",
"        if start % 3 == 0:\n",
"            yield start\n",
"            print(\"Restarting with value: \", start)\n",
"        start += 1\n",
"\n",
"for v, i in zip(gen(16), range(5)):\n",
"    print(\"Wert: \", v)"
]
    },{
     "cell_type": "markdown",
     "metadata": {
        "slideshow": {
           "slide_type": "fragment"
         } 
     }, 
     "source": ["## Verständnisfragen<a id=\"orgheadline80\"></a>\n",
"\n",
"-   Wozu `range` und `zip` in Beispiel?\n",
"-   Wann werden Aufrufe von `gen` durchgeführt?\n",
"-   Wieviele Schleifendurchläufe?"
]
    },{
     "cell_type": "markdown",
     "metadata": {
        "slideshow": {
           "slide_type": "slide"
         } 
     }, 
     "source": ["# Beispiel: Generator als Closure"
]
    },{
     "cell_type": "code",
     "metadata": {
        "slideshow": {
           "slide_type": "-"
         } 
     }, 
"outputs": [],
"execution_count": null,
     "source": ["def gengen(multiplier):\n",
"    def gen(start):\n",
"        while True:\n",
"            if start % multiplier == 0:\n",
"                yield start\n",
"            start += 1\n",
"\n",
"    return gen\n",
"\n",
"dreis = gengen(3)\n",
"viers = gengen(4)\n",
"\n",
"for d, v, i in zip(dreis(10), viers(17), range(2)):\n",
"    print (d, v)"
]
    },{
     "cell_type": "markdown",
     "metadata": {
        "slideshow": {
           "slide_type": "fragment"
         } 
     }, 
     "source": ["## Ausgabe?<a id=\"orgheadline82\"></a>"
]
    },{
     "cell_type": "code",
     "metadata": {
        "slideshow": {
           "slide_type": "-"
         } 
     }, 
"outputs": [],
"execution_count": null,
     "source": ["pingo_title = \"WAs wird hier ausgebenen?\" \n",
"pingo_type = \"single\"\n",
"pingo_questions = [\"12, 15 und 20, 24\", \"12, 20 und 15, 24\", \"10, 17 und 13, 21\"]\n",
"pingo_duration = \"60\"\n",
"\n",
"%pingo"
]
    },{
     "cell_type": "markdown",
     "metadata": {
        "slideshow": {
           "slide_type": "slide"
         } 
     }, 
     "source": ["# Wesentlicher Punkt: Speicherverbrauch\n",
"\n",
"-   Natürlich kann man das auch über eine list comprehension\n",
"    hinschreiben\n",
"-   Aber Speicherverbrauch:\n",
"    -   List comprehension erzeugt die **gesamte Liste** vor Verarbeitung;\n",
"        muss im Speicher stehen\n",
"    -   Generator: nur Platz für eine einzige Iteration notwendig\n",
"        -   Also: `start`, und die Closure für den Generator"
]
    },{
     "cell_type": "markdown",
     "metadata": {
        "slideshow": {
           "slide_type": "slide"
         } 
     }, 
     "source": ["# Generators für List comprehensions\n",
"\n",
"Kombination der Vorteile? \n",
"\n",
"-   Elegante Syntax der List comprehension?\n",
"-   Ohne den Speicherverbrauch?"
]
    },{
     "cell_type": "markdown",
     "metadata": {
        "slideshow": {
           "slide_type": "-"
         } 
     }, 
     "source": ["## Generatoren statt Listen!<a id=\"orgheadline85\"></a>\n",
"\n",
"Kleine syntaktische Änderung: Wir ersetzen `[]` durch `()` in\n",
"Schleifen"
]
    },{
     "cell_type": "code",
     "metadata": {
        "slideshow": {
           "slide_type": "-"
         } 
     }, 
"outputs": [],
"execution_count": null,
     "source": ["print(\"Mit Liste: \")  \n",
"for i in [x for x in range(17, 40) if x % 3 == 0]:\n",
"    print(i, end=\", \")\n",
"\n",
"print(\"\nMit Generator: \")  \n",
"for i in (x for x in range(17, 40) if x % 3 == 0):\n",
"    print(i, end=\", \")"
]
    },{
     "cell_type": "markdown",
     "metadata": {
        "slideshow": {
           "slide_type": "slide"
         } 
     }, 
     "source": ["<h1>Overview</h1> \n",
"\n",
"1. Überblick\n",
"1. Verschachtelte Funktionen\n",
"1. Closures\n",
"1. Anonyme Funktionen: lambda-Ausdrücke\n",
"1. Funktionaler Programmierstil\n",
"1. Generatoren\n",
"1. **<font color=\"red\">Decorators</font>**\n",
"1. Zusammenfassung"
]
    },{
     "cell_type": "markdown",
     "metadata": {
        "slideshow": {
           "slide_type": "slide"
         } 
     }, 
     "source": ["# Ausgangspunkt\n",
"\n",
"Wir haben folgende Eigenschaften kennengelernt: \n",
"\n",
"-   Funktionen sind first-class citizens in Python\n",
"-   Funktionsnamen sind eigentlich auch nur Namen, die  ein\n",
"    Funktionsobjekt referenzieren\n",
"-   Solche Referenzen können aus Funktionen zurückgegeben werden\n",
"-   Und Referenzen können  Funktionsnamen zugewiesen werden\n",
"\n",
"Was kann man damit anstellen? "
]
    },{
     "cell_type": "markdown",
     "metadata": {
        "slideshow": {
           "slide_type": "slide"
         } 
     }, 
     "source": ["# Überlegung 1: Wir können aus einer Funktion eine neue Funktion bauen\n",
"\n",
"-   Beispiel: Wir möchten die Ausgaben einer Funktion `f` mit `==` einrahmen\n",
"-   Ansatz: Baue eine neue Funktion, die\n",
"    -   `=` ausgibt\n",
"    -   `f` aufruft\n",
"    -   und nochmal `=` ausgibt\n",
"-   Diese neue Funktion bauen wir als Closure und geben eine Referenz\n",
"    darauf zurück\n",
"\n",
"Schauen wir uns den Code in mehreren Schritten an! "
]
    },{
     "cell_type": "markdown",
     "metadata": {
        "slideshow": {
           "slide_type": "slide"
         } 
     }, 
     "source": ["# Eingerahmte Ausgabe &#x2013; Version 1\n",
"\n",
"Version 1: Eine einfache factory "
]
    },{
     "cell_type": "code",
     "metadata": {
        "slideshow": {
           "slide_type": "-"
         } 
     }, 
"outputs": [],
"execution_count": null,
     "source": ["def f():\n",
"    print(\"Ausgabe von f\")\n",
"\n",
"def einrahmer_fabrik():\n",
"    def einrahmer():\n",
"        print(\"=====\")\n",
"        f()\n",
"        print(\"=====\")\n",
"\n",
"    return einrahmer\n",
"\n",
"f_neu = einrahmer_fabrik()\n",
"f_neu()"
]
    },{
     "cell_type": "markdown",
     "metadata": {
        "slideshow": {
           "slide_type": "slide"
         } 
     }, 
     "source": ["# Eingerahmte Ausgabe &#x2013; Version 2\n",
"\n",
"Version 1 ist unnötig speziell\n",
"\n",
"-   Factory-Muster kann doch Parameter nehmen (Closures!)"
]
    },{
     "cell_type": "code",
     "metadata": {
        "slideshow": {
           "slide_type": "-"
         } 
     }, 
"outputs": [],
"execution_count": null,
     "source": ["def f():\n",
"    print(\"Ausgabe von f\")\n",
"\n",
"def g():\n",
"    print(\"Ausgabe von g\")\n",
"\n",
"def einrahmer_fabrik(fct):\n",
"    def einrahmer():\n",
"        print(\"=====\")\n",
"        fct()\n",
"        print(\"=====\")\n",
"\n",
"    return einrahmer\n",
"\n",
"f_neu = einrahmer_fabrik(f) \n",
"g_neu = einrahmer_fabrik(g) \n",
"\n",
"f_neu() \n",
"g_neu()"
]
    },{
     "cell_type": "markdown",
     "metadata": {
        "slideshow": {
           "slide_type": "slide"
         } 
     }, 
     "source": ["# Eingerahmte Ausgabe &#x2013; Version 3\n",
"\n",
"Den einrahmenden Text kann man auch zum Parameter machen"
]
    },{
     "cell_type": "code",
     "metadata": {
        "slideshow": {
           "slide_type": "-"
         } 
     }, 
"outputs": [],
"execution_count": null,
     "source": ["def f():\n",
"    print(\"Ausgabe von f\")\n",
"\n",
"def g():\n",
"    print(\"Ausgabe von g\")\n",
"\n",
"def einrahmer_fabrik(fct, s=\"===========\"):\n",
"    def einrahmer():\n",
"        print(s)\n",
"        fct()\n",
"        print(s)\n",
"\n",
"    return einrahmer\n",
"\n",
"f_neu = einrahmer_fabrik(f, \"***********\") \n",
"g_neu = einrahmer_fabrik(g) \n",
"\n",
"f_neu() \n",
"g_neu()"
]
    },{
     "cell_type": "markdown",
     "metadata": {
        "slideshow": {
           "slide_type": "slide"
         } 
     }, 
     "source": ["# Eingerahmte Ausgabe &#x2013; Version 4\n",
"\n",
"Brauchen wir die ursprüngliche Version von `f` noch? Nein? \n",
"\n",
"-   Dann brauchen wir auch keinen neuen Namen!"
]
    },{
     "cell_type": "code",
     "metadata": {
        "slideshow": {
           "slide_type": "-"
         } 
     }, 
"outputs": [],
"execution_count": null,
     "source": ["def f():\n",
"    print(\"Ausgabe von f\")\n",
"\n",
"def einrahmer_fabrik(fct, s=\"===========\"):\n",
"    def einrahmer():\n",
"        print(s)\n",
"        fct()\n",
"        print(s)\n",
"\n",
"    return einrahmer\n",
"\n",
"# Wir lassen den Namen f auf ein neues Funktionsobjekt verweisen:\n",
"f = einrahmer_fabrik(f, \"***********\") \n",
"\n",
"f()"
]
    },{
     "cell_type": "markdown",
     "metadata": {
        "slideshow": {
           "slide_type": "slide"
         } 
     }, 
     "source": ["# Muster\n",
"\n",
"Dieses Muster tritt häufig auf, ist extrem nützlich \n",
"\n",
"-   Einer Funktion wird neues Verhalten hinzugefügt, ohne dass dies für einen\n",
"    Nutzer der Funktion sichtbar ist!\n",
"-   Die Signatur der Funktion verändert sich nicht; nicht einmal der Name\n",
"-   Nützlich, um vorhandenen Code anzupassen"
]
    },{
     "cell_type": "markdown",
     "metadata": {
        "slideshow": {
           "slide_type": "slide"
         } 
     }, 
     "source": ["# Dekoration (*decorator*)"
]
    },{
     "cell_type": "markdown",
     "metadata": {
        "slideshow": {
           "slide_type": "-"
         } 
     }, 
     "source": ["<div class=\"definition-head\" style=\"border:3px; border-style:solid; border-color:#5da9e9; padding: 5px; background-color:#5da9e9;  line-height:1.5em; text-align:center; border-radius: 15px 15px 0px 0px; margin-bottom: 0; width: 100%;\"><b>Definition: Das Decorator-Muster<a id=\"orgheadline94\"></a></b></div>\n",
"\n",
"Das Decorator-Muster beschreibt eine typische Struktur, mit der eine\n",
"Funktion mit weiterer Funktionalität versehen werden kann, ohne die\n",
"Funktion oder den nutzenden Code zu verändern. \n",
"\n",
"<div class=\"definition-content\" style=\"border:3px; border-style:solid; border-color:#5da9e9; padding: 5px; margin-top: 0; border-radius: 0px 0px 15px 15px; width: 100%; text-align:left\"></div>"
]
    },{
     "cell_type": "markdown",
     "metadata": {
        "slideshow": {
           "slide_type": "slide"
         } 
     }, 
     "source": ["# Decorators: Anwendungen\n",
"\n",
"-   Vorhandenen Code verändern, patchen\n",
"-   Fehlersuche, Leistungsmessung\n",
"-   Komplexere Code-Strukturen\n",
"    -   GUI-Frameworks\n",
"        -   Beispiel: einer Funktion zum Zeichnen eines Fenster werden als\n",
"            decorators Funktionen zum Zeichnen von Scrollbars hinzugefügt\n",
"            -   Funktion selbst und Aufrufer merken nicht, dass das Fenster\n",
"                Scrollbars hat\n",
"    -   Webframework (Beispiel: Django)\n",
"        -   Die Handhabung von URLs wird durch Dekoratoren angepasst"
]
    },{
     "cell_type": "markdown",
     "metadata": {
        "slideshow": {
           "slide_type": "slide"
         } 
     }, 
     "source": ["# Decorators für Methoden\n",
"\n",
"-   Methoden einer Klasse sind Funktion\n",
"-   Also können sie dekoriert werden"
]
    },{
     "cell_type": "markdown",
     "metadata": {
        "slideshow": {
           "slide_type": "slide"
         } 
     }, 
     "source": ["# Decorators: Syntaktischer Zucker\n",
"\n",
"-   Decorators stellen sich als extrem nützlich und vielseitig heraus\n",
"-   Aber auch unhandlich \n",
"    -   Beispiel oben: Die Funktion `f` wird 3x erwähnt? DRY?\n",
"    -   Die Dekoration kann an ganz anderer Stelle geschehen;\n",
"        unübersichtlich\n",
"-   Kompakter? Sprachunterstützung?"
]
    },{
     "cell_type": "markdown",
     "metadata": {
        "slideshow": {
           "slide_type": "slide"
         } 
     }, 
     "source": ["# Decorators: Syntaktischer Zucker (2)\n",
"\n",
"Syntax: \n",
"\n",
"-   Die dekorierende Funktion wird wie üblich vereinbart\n",
"-   Sie nimmt einen Parameter: die aufzurufende (zu dekorierende)\n",
"    Funktion\n",
"-   Die zu dekorierende Funktion wird durch voranstellen von\n",
"    **@Dekoratorfunktion** dekoriert"
]
    },{
     "cell_type": "markdown",
     "metadata": {
        "slideshow": {
           "slide_type": "slide"
         } 
     }, 
     "source": ["# Decorator: kompakte Syntax &#x2013; Beispiel"
]
    },{
     "cell_type": "code",
     "metadata": {
        "slideshow": {
           "slide_type": "-"
         } 
     }, 
"outputs": [],
"execution_count": null,
     "source": ["def einrahmer_fabrik(fct):\n",
"    def einrahmer():\n",
"        print(\"=====\")\n",
"        fct()\n",
"        print(\"=====\")\n",
"\n",
"    return einrahmer\n",
"\n",
"@einrahmer_fabrik\n",
"def f():\n",
"    print(\"Ausgabe von f\")\n",
"\n",
"f()"
]
    },{
     "cell_type": "markdown",
     "metadata": {
        "slideshow": {
           "slide_type": "slide"
         } 
     }, 
     "source": ["# Decorator: kompakte Syntax &#x2013; Beispiel mit typischen Namen\n",
"\n",
"Die `_fabrik`-Terminologie wird bei Dekoratoren typischerweise\n",
"weggelassen "
]
    },{
     "cell_type": "code",
     "metadata": {
        "slideshow": {
           "slide_type": "-"
         } 
     }, 
"outputs": [],
"execution_count": null,
     "source": ["def einrahmer(fct):\n",
"    def _einrahmer():\n",
"        print(\"=====\")\n",
"        fct()\n",
"        print(\"=====\")\n",
"\n",
"    return _einrahmer\n",
"\n",
"@einrahmer\n",
"def f():\n",
"    print(\"Ausgabe von f\")\n",
"\n",
"f()"
]
    },{
     "cell_type": "markdown",
     "metadata": {
        "slideshow": {
           "slide_type": "slide"
         } 
     }, 
     "source": ["# Decorators: Syntaktischer Zucker (3)\n",
"\n",
"`@`-Syntax:\n",
"\n",
"-   Kompakt, leicht lesbar, elegant, häufig benutzt\n",
"    -   Sie werden kaum ein nicht-triviales Python-Programm ohne\n",
"        decorators finden\n",
"-   Nachteil: Parameter an dekorierende Funktion übergeben ist\n",
"    umständlich"
]
    },{
     "cell_type": "markdown",
     "metadata": {
        "slideshow": {
           "slide_type": "slide"
         } 
     }, 
     "source": ["# @-Decorators: Beispiel Benchmarking\n",
"\n",
"Wie bestimmt man Zeitverbrauch einer Funktion? \n",
"\n",
"-   Man schaut in einem Dekorator vor und nach dem Aufruf der Funktion\n",
"    auf die Uhr!"
]
    },{
     "cell_type": "code",
     "metadata": {
        "slideshow": {
           "slide_type": "-"
         } 
     }, 
"outputs": [],
"execution_count": null,
     "source": ["import time\n",
"\n",
"def benchmark(fct):\n",
"    def _benchmark(*args, **kwargs):\n",
"        tstart = time.time()\n",
"        r = fct(*args, **kwargs)\n",
"        tend = time.time()\n",
"\n",
"        print(\"{} (args: {}, kwargs: {}) verbrauchte {} Sekunden\".format(\n",
"            fct.__name__, args, kwargs, tend-tstart))\n",
"\n",
"        return r \n",
"\n",
"    return _benchmark\n",
"\n",
"@benchmark \n",
"def f1(s):\n",
"    print(\"Anfang f1\")\n",
"    time.sleep(s)\n",
"    print(\"Ende f1\")\n",
"\n",
"\n",
"f1(0.2)\n",
"f1(0.6)"
]
    },{
     "cell_type": "markdown",
     "metadata": {
        "slideshow": {
           "slide_type": "slide"
         } 
     }, 
     "source": ["# @-Decorator: Property\n",
"\n",
"Tatsächlich kennen wir schon einen Decorator: Property \n",
"\n",
"-   Bisher nur als eingebaute Funktion `property`\n",
"-   Es fehlt also nur noch der Zucker\n",
"    -   Getter: mit `@property` dekorieren; Funktionsname wird Name der\n",
"        Property\n",
"    -   Setter: mit `@Propertyname.setter` dekorieren; Funktionsname muss\n",
"        Name der Property sein, mit value"
]
    },{
     "cell_type": "code",
     "metadata": {
        "slideshow": {
           "slide_type": "-"
         } 
     }, 
"outputs": [],
"execution_count": null,
     "source": ["class Temperature:\n",
"    def __init__(self, temp=0):\n",
"        # auch Methoden der Klasse greifen normal auf das Attribut zu: \n",
"        self._temperature = temp\n",
"\n",
"    @property\n",
"    def temperature(self):\n",
"        print(\"Lesender Zugriff\")\n",
"        return self._temperature\n",
"\n",
"    @temperature.setter\n",
"    def temperature(self, value):\n",
"        print(\"Schreibender Zugriff\")\n",
"        if value < 0:\n",
"            raise ValueError(\"Keine negativen Temperaturen in Kelvin!\")\n",
"        else:\n",
"            self._temperature = value\n",
"\n",
"t1 = Temperature(17)\n",
"print(t1.temperature) \n",
"t1.temperature = 42 \n",
"print(t1.temperature)"
]
    },{
     "cell_type": "markdown",
     "metadata": {
        "slideshow": {
           "slide_type": "slide"
         } 
     }, 
     "source": ["# @-Decoratoren verketten?\n",
"\n",
"Siehe auch: [Quelle des Beispiels](http://www.programiz.com/python-programming/decorator)"
]
    },{
     "cell_type": "code",
     "metadata": {
        "slideshow": {
           "slide_type": "-"
         } 
     }, 
"outputs": [],
"execution_count": null,
     "source": ["def star(func):\n",
"    def inner(*args, **kwargs):\n",
"        print(\"*\" * 30)\n",
"        func(*args, **kwargs)\n",
"        print(\"*\" * 30)\n",
"    return inner\n",
"\n",
"def percent(func):\n",
"    def inner(*args, **kwargs):\n",
"        print(\"%\" * 30)\n",
"        func(*args, **kwargs)\n",
"        print(\"%\" * 30)\n",
"    return inner\n",
"\n",
"@star\n",
"@percent\n",
"def printer(msg):\n",
"    print(msg)\n",
"\n",
"printer(\"Hallo GP1!\")"
]
    },{
     "cell_type": "markdown",
     "metadata": {
        "slideshow": {
           "slide_type": "slide"
         } 
     }, 
     "source": ["# Decorators: Ausblick\n",
"\n",
"-   Das Dekorieren von Methoden einer Klasse ist typisch (siehe auch \n",
"    `@property`)\n",
"-   Man kann auch Klassen zu decorators machen, nicht nur Funktionen\n",
"-   Siehe auch [eine lange Liste mit Beispielen](https://wiki.python.org/moin/PythonDecoratorLibrary)"
]
    },{
     "cell_type": "markdown",
     "metadata": {
        "slideshow": {
           "slide_type": "slide"
         } 
     }, 
     "source": ["# War doch gar nicht so schwer\n",
"\n",
"<center>![img](./figures/phd-hard-code.png \"Master of a tiny universe\")</center>"
]
    },{
     "cell_type": "markdown",
     "metadata": {
        "slideshow": {
           "slide_type": "slide"
         } 
     }, 
     "source": ["<h1>Overview</h1> \n",
"\n",
"1. Überblick\n",
"1. Verschachtelte Funktionen\n",
"1. Closures\n",
"1. Anonyme Funktionen: lambda-Ausdrücke\n",
"1. Funktionaler Programmierstil\n",
"1. Generatoren\n",
"1. Decorators\n",
"1. **<font color=\"red\">Zusammenfassung</font>**"
]
    },{
     "cell_type": "markdown",
     "metadata": {
        "slideshow": {
           "slide_type": "slide"
         } 
     }, 
     "source": ["# Zusammenfassung\n",
"\n",
"-   Funktionen können Funktionen definieren\n",
"    -   Erfordert Erweiterung der Nachschlageregel für Namen: LEGB\n",
"-   Macht ein Programmierparadigma Funktionen zu *first-class citizens*,\n",
"    eröffnen sich viele elegante Möglichkeiten\n",
"    -   Fabriken / Closures, um Funktionen zur Laufzeit zu erzeugen\n",
"    -   Generatoren, um große (unendliche) Aufzählungen bei Bedarf zu\n",
"        erzeugen\n",
"    -   Decorators, um Funktionen zur Laufzeit zu modifizieren\n",
"-   Eine elegante Syntax ist dabei für praktische Nützlichkeit wichtig\n",
"    -   `lambda`-Ausdrücke für anonyme Funktionen, `@`-Notation für\n",
"        Decorators"
]
    },{
     "cell_type": "markdown",
     "metadata": {
        "slideshow": {
           "slide_type": "slide"
         } 
     }, 
     "source": ["# Und nun?\n",
"\n",
"-   Was waren diese seltsamen `import`-Anweisungen??\n",
"\n",
"  "
]
 }
],
 "metadata": {
  "celltoolbar": "Slideshow",
  "livereveal": {
        "theme": "simple",
        "transition": "none"
    },
  "kernelspec": {
   "display_name": "Python 3",
   "language": "python",
   "name": "python3"
  },
  "language_info": {
   "codemirror_mode": {
    "name": "ipython",
    "version": 3
   },
   "file_extension": ".py",
   "mimetype": "text/x-python",
   "name": "python",
   "nbconvert_exporter": "python",
   "pygments_lexer": "ipython3",
   "version": "3.5.1"
  }
 },
 "nbformat": 4,
 "nbformat_minor": 0
}