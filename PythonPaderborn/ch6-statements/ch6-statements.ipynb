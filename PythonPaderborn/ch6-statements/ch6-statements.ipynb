{
"cells": [
 {
     "cell_type": "markdown",
     "metadata": {
        "slideshow": {
           "slide_type": "slide"
         } 
     }, 
     "source": ["<h1>Kapitel 6: Anweisungen</h1>\n",
"<p>Grundlagen der Programmierung 1<p><h2>Holger Karl</h2>\n",
" "
]
    },{
     "cell_type": "markdown",
     "metadata": {
        "slideshow": {
           "slide_type": "slide"
         } 
     }, 
     "source": ["<h1>Overview</h1> \n",
"\n",
"1. Überblick\n",
"1. Programm\n",
"1. Bedingte Ausführung: if\n",
"1. Schleifen: while\n",
"1. Schleifen: for\n",
"1. List comprehensions\n",
"1. Geschachtelte Schleifen\n",
"1. Zusammenfassung \n",
" \n",
""
]
    },{
     "cell_type": "markdown",
     "metadata": {
        "slideshow": {
           "slide_type": "slide"
         } 
     }, 
     "source": ["<h1>Overview</h1> \n",
"\n",
"1. **<font color=\"red\">Überblick</font>**\n",
"1. Programm\n",
"1. Bedingte Ausführung: if\n",
"1. Schleifen: while\n",
"1. Schleifen: for\n",
"1. List comprehensions\n",
"1. Geschachtelte Schleifen\n",
"1. Zusammenfassung"
]
    },{
     "cell_type": "markdown",
     "metadata": {
        "slideshow": {
           "slide_type": "skip"
         } 
     }, 
     "source": ["# Setup\n",
"\n",
"Main point here is to set up warnings properly for presentation and to\n",
"load tutormagic, so that we can later on use pythontutor for code\n",
"animations. "
]
    },{
     "cell_type": "code",
     "metadata": {
        "slideshow": {
           "slide_type": "skip"
         } 
     }, 
"outputs": [],
"execution_count": null,
     "source": ["%load_ext tutormagic\n",
"import warnings\n",
"warnings.filterwarnings('ignore', category=DeprecationWarning, module='.*/IPython/.*')\n",
"\n",
"import requests\n",
"import webbrowser\n",
"from IPython.core.magic import register_line_magic\n",
"\n",
"pingo_token = \"BRx9QJP7rjdUGBq3x4hP\"\n",
"\n",
"# Test-Session: \n",
"pingo_url = \"https://pingo.upb.de/events/311055/quick_start.json\"\n",
"# Produktiv-Session: \n",
"# pingo_url = \"https://pingo.upb.de/events/204051/quick_start.json\"\n",
"\n",
"pingo_duration = '120'\n",
"pingo_type = \"single\"\n",
"\n",
"\n",
"@register_line_magic\n",
"def pingo(line):\n",
"    params = {'survey_name': pingo_title, \n",
"              'predef_options': pingo_questions, \n",
"              'q_type': pingo_type,\n",
"              'duration': pingo_duration, \n",
"              'auth_token': pingo_token}\n",
"\n",
"    r = requests.post(pingo_url, json=params)\n",
"    webbrowser.open_new_tab(\"https://pingo.upb.de\" + r.headers['Location'])"
]
    },{
     "cell_type": "markdown",
     "metadata": {
        "slideshow": {
           "slide_type": "slide"
         } 
     }, 
     "source": ["# Was bisher geschah\n",
"\n",
"-   Wir können bis jetzt \n",
"    -   Werte aufschreiben, was Objekte erzeugt\n",
"    -   aus Objekten Ausdrücke für neue Objekte bilden\n",
"        -   mit Aufruf von Funktionen als Beispiel\n",
"    -   mit Namen auf Objekte verweisen \n",
"        -   mit der Definition einer Funktion als Sonderfall\n",
"-   Also: Folgen von Zuweisungen\n",
"    -   Die eine nach der anderen ausgeführt werden\n",
"\n",
"Aber: *Kein Einfluss auf Reihenfolge der Ausführung!*"
]
    },{
     "cell_type": "markdown",
     "metadata": {
        "slideshow": {
           "slide_type": "slide"
         } 
     }, 
     "source": ["# Dieses Kapitel\n",
"\n",
"-   Wir nehmen Einfluss auf die Reihenfolge der Ausführung von\n",
"    Anweisungen\n",
"-   Dazu brauchen wir weitere Anweisungen\n",
"    -   Bedingungen, Schleifen\n",
"-   Wir verallgemeinern die Vorstellung, was eine Anweisung ist"
]
    },{
     "cell_type": "markdown",
     "metadata": {
        "slideshow": {
           "slide_type": "slide"
         } 
     }, 
     "source": ["<h1>Overview</h1> \n",
"\n",
"1. Überblick\n",
"1. **<font color=\"red\">Programm</font>**\n",
"1. Bedingte Ausführung: if\n",
"1. Schleifen: while\n",
"1. Schleifen: for\n",
"1. List comprehensions\n",
"1. Geschachtelte Schleifen\n",
"1. Zusammenfassung"
]
    },{
     "cell_type": "markdown",
     "metadata": {
        "slideshow": {
           "slide_type": "slide"
         } 
     }, 
     "source": ["# Ein Programm\n",
"\n",
"-   Ein Programm ist eine Folge von Anweisungen (oder Ausdrücken)\n",
"    -   Ausgeführt entsprechend des *Ausführungsmodells*\n",
"    -   Bis jetzt: Sequentiell, Funktionsaufruf\n",
"-   Um die Reihenfolge der Anweisungen zu beeinflussen, müssen wir das\n",
"    Ausführungsmodell erweitern"
]
    },{
     "cell_type": "markdown",
     "metadata": {
        "slideshow": {
           "slide_type": "slide"
         } 
     }, 
     "source": ["# Anweisungen &#x2013; bis jetzt\n",
"\n",
"-   Die Zuweisung `=`\n",
"-   Die Funktionsdefinition `def`\n",
"-   Die Rückkehr aus einer Funktion `return`\n",
"\n",
"Und die Folge von Anweisungen \n",
"\n",
"-   Erinnerung: Eine Zeile, eine Anweisung!"
]
    },{
     "cell_type": "markdown",
     "metadata": {
        "slideshow": {
           "slide_type": "slide"
         } 
     }, 
     "source": ["# Bedingte Folge von Anweisungen\n",
"\n",
"Idee: \n",
"\n",
"-   Programms nicht immer  bei der nächsten Anweisung fortsetzen\n",
"-   Sondern die Wahl der nächsten *auszuführenden* Anweisung von dem\n",
"    Wert eines Ausdrucks abhängig machen\n",
"-   *Alternativen* im Programm vorsehen"
]
    },{
     "cell_type": "markdown",
     "metadata": {
        "slideshow": {
           "slide_type": "slide"
         } 
     }, 
     "source": ["# Schleifen von Anweisungen\n",
"\n",
"Idee: \n",
"\n",
"-   In der Fortsetzung des Programms erlauben, zu vorherigen Anweisungen\n",
"    zurückzukehren\n",
"-   Meist (nicht unbedingt) abhängig vom Wert eines Ausdrucks\n",
"-   *Wiederholungen* oder *Schleifen* erlauben"
]
    },{
     "cell_type": "markdown",
     "metadata": {
        "slideshow": {
           "slide_type": "slide"
         } 
     }, 
     "source": ["<h1>Overview</h1> \n",
"\n",
"1. Überblick\n",
"1. Programm\n",
"1. **<font color=\"red\">Bedingte Ausführung: if</font>**\n",
"1. Schleifen: while\n",
"1. Schleifen: for\n",
"1. List comprehensions\n",
"1. Geschachtelte Schleifen\n",
"1. Zusammenfassung"
]
    },{
     "cell_type": "markdown",
     "metadata": {
        "slideshow": {
           "slide_type": "slide"
         } 
     }, 
     "source": ["# Neue Anweisung: `if`\n",
"\n",
"-   Die Anweisung `if` besteht aus zwei Teilen:\n",
"    -   Einem Ausdruck, der auf wahr oder falsch ausgewertet wird\n",
"    -   Eine Folge von Anweisungen &#x2013; der so genannte ***block***\n",
"-   Semantik: die angegebene Folge von Anweisungen nur ausführen, wenn\n",
"    der Ausdruck *zum Zeitpunkt der Ausführung* den Wert wahr hat\n",
"    -   Auswertung des Ausdrucks einmal *vor* Ausführung des Blocks"
]
    },{
     "cell_type": "markdown",
     "metadata": {
        "slideshow": {
           "slide_type": "slide"
         } 
     }, 
     "source": ["# Definition: Block"
]
    },{
     "cell_type": "markdown",
     "metadata": {
        "slideshow": {
           "slide_type": "fragment"
         } 
     }, 
     "source": ["<div class=\"definition-head\" style=\"border:3px; border-style:solid; border-color:#5da9e9; padding: 5px; background-color:#5da9e9;  line-height:1.5em; text-align:center; border-radius: 15px 15px 0px 0px; margin-bottom: 0; width: 100%;\"><b>Definition: Block<a id=\"orgheadline17\"></a></b></div>\n",
"\n",
"Ein Block ist eine Folge beliebiger Anweisungen (mindestens eine\n",
"Anweisung).  Die Zustandsänderung, die ein Block bewirkt, ist die\n",
"Zustandsänderung, die sich durch die sequentielle Ausführung der\n",
"Anweisungen des Blocks ergibt. Sequentiell bezieht sich hier auf die\n",
"Reihenfolge der Anweisung im Programmcode. \n",
"\n",
"<div class=\"definition-content\" style=\"border:3px; border-style:solid; border-color:#5da9e9; padding: 5px; margin-top: 0; border-radius: 0px 0px 15px 15px; width: 100%; text-align:left\"></div>"
]
    },{
     "cell_type": "markdown",
     "metadata": {
        "slideshow": {
           "slide_type": "slide"
         } 
     }, 
     "source": ["# `if`: Syntax"
]
    },{
     "cell_type": "code",
     "metadata": {
        "slideshow": {
           "slide_type": "-"
         } 
     }, 
"outputs": [],
"execution_count": null,
     "source": ["if Ausdruck:\n",
"    Anweisung1\n",
"    Anweisung2\n",
"    usw.\n",
"\n",
"# if hier zu Ende\n",
"Anweisung nach if"
]
    },{
     "cell_type": "markdown",
     "metadata": {
        "slideshow": {
           "slide_type": "-"
         } 
     }, 
     "source": ["## Beobachtung<a id=\"orgheadline19\"></a>\n",
"\n",
"-   Das Ende des Ausdrucks wird durch Doppelpunkt `:` markiert\n",
"-   Die durch `if` kontrollierten Anweisungen werden *unterhalb* von\n",
"    `if` *eingerückt* aufgeschrieben\n",
"-   Der Block endet dort, wo die Einrückung endet"
]
    },{
     "cell_type": "markdown",
     "metadata": {
        "slideshow": {
           "slide_type": "slide"
         } 
     }, 
     "source": ["# `if`: Syntax im Vergleich mit `def`\n",
"\n",
"-   Syntax ist der von `def` sehr ähnlich\n",
"    -   Schlüsselwort, dann ein Ausdruck, dann ein Doppelpunkt\n",
"    -   Dann *eingerückt* die kontrollierten Anweisungen\n",
"    -   Ende der Einrückung = Ende des Blocks (`if`, `def`,\n",
"        etc.)\n",
"\n",
"-   Typisches Muster der Syntax von Python!"
]
    },{
     "cell_type": "markdown",
     "metadata": {
        "slideshow": {
           "slide_type": "slide"
         } 
     }, 
     "source": ["# Warum Einrückung?\n",
"\n",
"-   Einrückung ist kompakt, leicht lesbar\n",
"-   *Erzwingt* ordentliche Struktur des Codes\n",
"    -   Keine Variationsmöglichkeiten wie in anderen Sprachen\n",
"-   *Readability counts* (PEP 20)"
]
    },{
     "cell_type": "markdown",
     "metadata": {
        "slideshow": {
           "slide_type": "slide"
         } 
     }, 
     "source": ["# Alternative: Wahr oder falsch?\n",
"\n",
"-   Erweiterung: Zwei Code-Blöcke, für den Wahr- und den Falsch-Fall"
]
    },{
     "cell_type": "code",
     "metadata": {
        "slideshow": {
           "slide_type": "-"
         } 
     }, 
"outputs": [],
"execution_count": null,
     "source": ["if Ausdruck:\n",
"    # Block für wahr: \n",
"    Anweisung1\n",
"    Anweisung2\n",
"    ...\n",
"else:\n",
"    # Block für falsch:\n",
"    Anweisung1\n",
"    Anweisung2\n",
"    ...\n",
"\n",
"# Anweisungen nach if/else\n",
"Anweisung1\n",
"..."
]
    },{
     "cell_type": "markdown",
     "metadata": {
        "slideshow": {
           "slide_type": "-"
         } 
     }, 
     "source": ["## Achtung<a id=\"orgheadline23\"></a>\n",
"\n",
"Doppelpunkt nach `else`!"
]
    },{
     "cell_type": "markdown",
     "metadata": {
        "slideshow": {
           "slide_type": "slide"
         } 
     }, 
     "source": ["# Alternative: Semantik\n",
"\n",
"-   Der `Ausdruck` wird einmal ausgewertet und auf wahr oder falsch\n",
"    überprüft\n",
"-   Danach wird *entweder* der Wahr-Block *oder* der Falsch-Block\n",
"    ausgeführt"
]
    },{
     "cell_type": "markdown",
     "metadata": {
        "slideshow": {
           "slide_type": "slide"
         } 
     }, 
     "source": ["# `if`: Beispiele"
]
    },{
     "cell_type": "code",
     "metadata": {
        "slideshow": {
           "slide_type": "-"
         } 
     }, 
"outputs": [],
"execution_count": null,
     "source": ["if True:\n",
"    print(\"Ja!\")"
]
    },{
     "cell_type": "code",
     "metadata": {
        "slideshow": {
           "slide_type": "-"
         } 
     }, 
"outputs": [],
"execution_count": null,
     "source": ["if not True:\n",
"    print(\"Ja!\")\n",
"else:\n",
"    print(\"Nein!\")"
]
    },{
     "cell_type": "markdown",
     "metadata": {
        "slideshow": {
           "slide_type": "slide"
         } 
     }, 
     "source": ["# `if`: Beispiel Betrag\n",
"\n",
"Wie Code ergänzen, um den Betrag einer Zahl zu bestimmen?"
]
    },{
     "cell_type": "code",
     "metadata": {
        "slideshow": {
           "slide_type": "-"
         } 
     }, 
"outputs": [],
"execution_count": null,
     "source": ["def betrag(x):\n",
"    \"\"\"Liefere Absolutbetrag von x\"\"\"\n",
"    if (???):\n",
"        return ???\n",
"    else:\n",
"        return ???\n",
"\n",
"print(\"Betrag von 5: \", betrag(5))\n",
"print(\"Betrag von -3: \", betrag(-3))"
]
    },{
     "cell_type": "markdown",
     "metadata": {
        "slideshow": {
           "slide_type": "slide"
         } 
     }, 
     "source": ["# Ausflug: Code testen\n",
"\n",
"Wie sind Sie *sicher*, dass Ihre Lösung stimmt? \n",
"\n",
"-   Erste Idee: Testfälle ausprobieren\n",
"-   Von Hand? Automatisch!\n",
"-   Insbesondere: Randfälle\n",
"\n",
"Aber: *sicher*? Nein&#x2026; "
]
    },{
     "cell_type": "markdown",
     "metadata": {
        "slideshow": {
           "slide_type": "subslide"
         } 
     }, 
     "source": ["# Test-Anweisung: `assert`\n",
"\n",
"`assert`: Anweisung, der ein Ausdruck folgt\n",
"\n",
"-   Wenn Ausdruck wahr, weitermachen\n",
"-   Wenn Ausdruck falsch, mit Fehler abbrechen"
]
    },{
     "cell_type": "code",
     "metadata": {
        "slideshow": {
           "slide_type": "-"
         } 
     }, 
"outputs": [],
"execution_count": null,
     "source": ["def betrag(x):\n",
"    if (x>0):\n",
"        return x\n",
"    else:\n",
"        return -1 * x\n",
"\n",
"assert 5 == betrag(5)\n",
"assert 7 == betrag(-7)\n",
"assert 0 == betrag(0)\n",
"assert \"abc\" == betrag(\"abc\")"
]
    },{
     "cell_type": "markdown",
     "metadata": {
        "slideshow": {
           "slide_type": "subslide"
         } 
     }, 
     "source": ["# Tests für `quersumme3`\n",
"\n",
"Was wären gute `assert`-Anweisungen für die Funktion `quersumme3` aus\n",
"vorherigem Kapitel? "
]
    },{
     "cell_type": "code",
     "metadata": {
        "slideshow": {
           "slide_type": "-"
         } 
     }, 
"outputs": [],
"execution_count": null,
     "source": ["def quersumme3(t):\n",
"    return t[0] + t[1] + t[2]\n",
"\n",
"# Nuetzliche asserts? \n",
"assert True"
]
    },{
     "cell_type": "markdown",
     "metadata": {
        "slideshow": {
           "slide_type": "slide"
         } 
     }, 
     "source": ["# Geschachtelte `if/else`\n",
"\n",
"Beobachtung: \n",
"\n",
"-   `if/else` ist eine Anweisung\n",
"-   Im Block von `if` bzw. `else` dürfen Anweisungen stehen"
]
    },{
     "cell_type": "markdown",
     "metadata": {
        "slideshow": {
           "slide_type": "fragment"
         } 
     }, 
     "source": ["## Darf dann da auch ein `if/else` stehen ?<a id=\"orgheadline31\"></a>\n",
"\n",
"-   Die Logik der Syntax gibt das her\n",
"-   Also: **JA!**"
]
    },{
     "cell_type": "markdown",
     "metadata": {
        "slideshow": {
           "slide_type": "subslide"
         } 
     }, 
     "source": ["# Geschachtelte `if/else`: Allgemeiner Fall"
]
    },{
     "cell_type": "code",
     "metadata": {
        "slideshow": {
           "slide_type": "-"
         } 
     }, 
"outputs": [],
"execution_count": null,
     "source": ["if Bedingung1:\n",
"    Teilblock1\n",
"    if Bedingung2:\n",
"        Teilblock2\n",
"    else:\n",
"        Teilblock3\n",
"    # Ende des inneren if \n",
"    Teilblock4\n",
"else:\n",
"    Teilblock5\n",
"    if Bedingung3:\n",
"        Teilblock6\n",
"    else:\n",
"        Teilblock7\n",
"    # Ende des zweiten inneren if\n",
"    Teilblock8\n",
"# Ende von if"
]
    },{
     "cell_type": "markdown",
     "metadata": {
        "slideshow": {
           "slide_type": "subslide"
         } 
     }, 
     "source": ["# Geschachtelte `if/else`: Einfachere Fälle\n",
"\n",
"-   Braucht man alle Teilböcke?\n",
"-   Leerer Teilblock nach `else`?\n",
"    -   Dann kann man das `else` auch weglassen und nur das `if` schreiben"
]
    },{
     "cell_type": "markdown",
     "metadata": {
        "slideshow": {
           "slide_type": "slide"
         } 
     }, 
     "source": ["# Leerer Teilblock nach `if`?\n",
"\n",
"Würde das gehen? "
]
    },{
     "cell_type": "code",
     "metadata": {
        "slideshow": {
           "slide_type": "-"
         } 
     }, 
"outputs": [],
"execution_count": null,
     "source": ["if Bedingung:\n",
"else:\n",
"    Anweisung"
]
    },{
     "cell_type": "markdown",
     "metadata": {
        "slideshow": {
           "slide_type": "fragment"
         } 
     }, 
     "source": ["## Kein leerer Block nach `if`!<a id=\"orgheadline35\"></a>\n",
"\n",
"Nein, nach `if` **muss** Anweisung folgen! \n",
"\n",
"-   Aber wenn da nichts zu tun ist?\n",
"    -   Weil Code noch kommt, &#x2026; ?\n",
"-   Sonderanweisung: `pass`"
]
    },{
     "cell_type": "markdown",
     "metadata": {
        "slideshow": {
           "slide_type": "slide"
         } 
     }, 
     "source": ["# `pass`: Beispiel\n",
"\n",
"Angenommen, Sie wollen den Wert des Namens `laenge` auf mindestens 100\n",
"aber höchstens 200 eingrenzen:"
]
    },{
     "cell_type": "code",
     "metadata": {
        "slideshow": {
           "slide_type": "-"
         } 
     }, 
"outputs": [],
"execution_count": null,
     "source": ["laenge = 252\n",
"if laenge >= 100:\n",
"    if laenge <= 200:\n",
"        pass\n",
"    else:\n",
"        laenge = 200\n",
"else:\n",
"    laenge = 100\n",
"print(laenge)"
]
    },{
     "cell_type": "markdown",
     "metadata": {
        "slideshow": {
           "slide_type": "subslide"
         } 
     }, 
     "source": ["# Anweisung: `pass`"
]
    },{
     "cell_type": "markdown",
     "metadata": {
        "slideshow": {
           "slide_type": "-"
         } 
     }, 
     "source": ["<div class=\"definition-head\" style=\"border:3px; border-style:solid; border-color:#5da9e9; padding: 5px; background-color:#5da9e9;  line-height:1.5em; text-align:center; border-radius: 15px 15px 0px 0px; margin-bottom: 0; width: 100%;\"><b>Definition: `pass`<a id=\"orgheadline38\"></a></b></div>\n",
"\n",
"`pass` ist die leere Anweisung: Sie verändert den Zustand des\n",
"Programms nicht und geht zur folgenden Anweisung über. \n",
"\n",
"`pass` wird typischerweise benutzt \n",
"\n",
"-   wo die Syntax eine Anweisung vorschreibt aber keine sinnvolle Handlung möglich ist oder\n",
"-   als  ein Platzhalter für noch zu ergänzenden Code.\n",
"\n",
"<div class=\"definition-content\" style=\"border:3px; border-style:solid; border-color:#5da9e9; padding: 5px; margin-top: 0; border-radius: 0px 0px 15px 15px; width: 100%; text-align:left\"></div>"
]
    },{
     "cell_type": "markdown",
     "metadata": {
        "slideshow": {
           "slide_type": "slide"
         } 
     }, 
     "source": ["# Eindeutigkeit von `else`?\n",
"\n",
"Ist immer eindeutig klar, zu welchem `if` ein `else` gehört? "
]
    },{
     "cell_type": "markdown",
     "metadata": {
        "slideshow": {
           "slide_type": "-"
         } 
     }, 
     "source": ["## Beispiel 1<a id=\"orgheadline40\"></a>"
]
    },{
     "cell_type": "code",
     "metadata": {
        "slideshow": {
           "slide_type": "-"
         } 
     }, 
"outputs": [],
"execution_count": null,
     "source": ["if Bedingung1:\n",
"    if Bedingung 2:\n",
"        Block1\n",
"else:\n",
"    Block2"
]
    },{
     "cell_type": "markdown",
     "metadata": {
        "slideshow": {
           "slide_type": "fragment"
         } 
     }, 
     "source": ["## Beispiel 2<a id=\"orgheadline41\"></a>"
]
    },{
     "cell_type": "code",
     "metadata": {
        "slideshow": {
           "slide_type": "-"
         } 
     }, 
"outputs": [],
"execution_count": null,
     "source": ["if Bedingung1:\n",
"    if Bedingung 2:\n",
"        Block1\n",
"    else:\n",
"        Block2"
]
    },{
     "cell_type": "markdown",
     "metadata": {
        "slideshow": {
           "slide_type": "-"
         } 
     }, 
     "source": ["## Unproblematisch<a id=\"orgheadline42\"></a>\n",
"\n",
"Dank Einrückung ist die Syntax eindeutig "
]
    },{
     "cell_type": "markdown",
     "metadata": {
        "slideshow": {
           "slide_type": "slide"
         } 
     }, 
     "source": ["# Häufiger Fall: Nach `else` wieder ein `if`\n",
"\n",
"-   Szenario: *Wenn nicht das, ist dann das der Fall? Und wenn das nicht,\n",
"    dann das? &#x2026;?*\n",
"-   Mit `if/else` ausdrückbar, aber schrecklich lesbar"
]
    },{
     "cell_type": "code",
     "metadata": {
        "slideshow": {
           "slide_type": "-"
         } 
     }, 
"outputs": [],
"execution_count": null,
     "source": ["if Bedingung1:\n",
"    Anweisung1\n",
"else:\n",
"    if Bedingung2:\n",
"        Anweisung2\n",
"    else:\n",
"        if Bedingung3:\n",
"            Anweisung3\n",
"        else:\n",
"            Anweisung4"
]
    },{
     "cell_type": "markdown",
     "metadata": {
        "slideshow": {
           "slide_type": "slide"
         } 
     }, 
     "source": ["# Allgemeine Form: `if/elif/else`\n",
"\n",
"Gleicher Effekt, aber knapper: `elif` "
]
    },{
     "cell_type": "code",
     "metadata": {
        "slideshow": {
           "slide_type": "-"
         } 
     }, 
"outputs": [],
"execution_count": null,
     "source": ["if Bedingung1:\n",
"    Anweisung1\n",
"elif Bedingung2:\n",
"    Anweisung2\n",
"elif Bedingung3:\n",
"    Anweisung3\n",
"else:\n",
"    Anweisung4"
]
    },{
     "cell_type": "markdown",
     "metadata": {
        "slideshow": {
           "slide_type": "-"
         } 
     }, 
     "source": ["## Doppelpunkt<a id=\"orgheadline45\"></a>\n",
"\n",
"Auf Doppelpunkt nach elif-Bedingung achten! "
]
    },{
     "cell_type": "markdown",
     "metadata": {
        "slideshow": {
           "slide_type": "slide"
         } 
     }, 
     "source": ["# `if/elif/else`: Beispiel"
]
    },{
     "cell_type": "code",
     "metadata": {
        "slideshow": {
           "slide_type": "-"
         } 
     }, 
"outputs": [],
"execution_count": null,
     "source": ["L = [1, 2, 17, 42]\n",
"if len(L) < 3:\n",
"    print(\"zu kurz\")\n",
"elif len(L) > 5:\n",
"    print(\"zu lang\")\n",
"elif len(L) == 4:\n",
"    print(\"ausgereizt\")\n",
"else:\n",
"    print(\"knapp\")"
]
    },{
     "cell_type": "markdown",
     "metadata": {
        "slideshow": {
           "slide_type": "slide"
         } 
     }, 
     "source": ["# Definition: `if/elif/else`"
]
    },{
     "cell_type": "markdown",
     "metadata": {
        "slideshow": {
           "slide_type": "-"
         } 
     }, 
     "source": ["<div class=\"definition-head\" style=\"border:3px; border-style:solid; border-color:#5da9e9; padding: 5px; background-color:#5da9e9;  line-height:1.5em; text-align:center; border-radius: 15px 15px 0px 0px; margin-bottom: 0; width: 100%;\"><b>Definition: Anweisung: `if/elif/else`<a id=\"orgheadline48\"></a></b></div>\n",
"\n",
"Die Anweisung `if/elif/else` ermöglichen die alternative Ausführung\n",
"einer Folge von Anweisungen &#x2013; eines ***Blocks*** &#x2013; in Abhängigkeit des\n",
"Wahrheitswertes eines Ausdrucks (`if`) bzw. mehrerer Ausrücke (`if` und\n",
"folgende `elif` Ausdrücke). Dem `if` kann optional ein oder mehrere\n",
"`elif` und optional höchstens ein `else`-Teil folgen. \n",
"\n",
"Die Blöcke werden durch Einrückung den jeweiligen Bedingungen bzw. dem\n",
"`else` zugeordnet. \n",
"\n",
"<div class=\"definition-content\" style=\"border:3px; border-style:solid; border-color:#5da9e9; padding: 5px; margin-top: 0; border-radius: 0px 0px 15px 15px; width: 100%; text-align:left\"></div>"
]
    },{
     "cell_type": "markdown",
     "metadata": {
        "slideshow": {
           "slide_type": "slide"
         } 
     }, 
     "source": ["<h1>Overview</h1> \n",
"\n",
"1. Überblick\n",
"1. Programm\n",
"1. Bedingte Ausführung: if\n",
"1. **<font color=\"red\">Schleifen: while</font>**\n",
"1. Schleifen: for\n",
"1. List comprehensions\n",
"1. Geschachtelte Schleifen\n",
"1. Zusammenfassung"
]
    },{
     "cell_type": "markdown",
     "metadata": {
        "slideshow": {
           "slide_type": "slide"
         } 
     }, 
     "source": ["# Allgemeine Schleifen\n",
"\n",
"-   Idee: Wiederhole einen Block solange, wie eine Bedingung wahr ist\n",
"-   Typisch: Anweisungen im Block werden Einfluss auf den Test haben\n",
"-   Grundform:"
]
    },{
     "cell_type": "code",
     "metadata": {
        "slideshow": {
           "slide_type": "-"
         } 
     }, 
"outputs": [],
"execution_count": null,
     "source": ["while Test\n",
"    Block"
]
    },{
     "cell_type": "markdown",
     "metadata": {
        "slideshow": {
           "slide_type": "slide"
         } 
     }, 
     "source": ["# `while`: Flussdiagramm\n",
"\n",
"<center>![img](figures/while-flowchart.png \"Flussdiagramm einer einfachen While-Schleife\")</center>"
]
    },{
     "cell_type": "markdown",
     "metadata": {
        "slideshow": {
           "slide_type": "slide"
         } 
     }, 
     "source": ["# `while`: Beispiel Zählschleife"
]
    },{
     "cell_type": "code",
     "metadata": {
        "slideshow": {
           "slide_type": "-"
         } 
     }, 
"outputs": [],
"execution_count": null,
     "source": ["a=0\n",
"b=5\n",
"while a < b:              \n",
"    print(a, end=\" \")\n",
"    a += 1"
]
    },{
     "cell_type": "markdown",
     "metadata": {
        "slideshow": {
           "slide_type": "slide"
         } 
     }, 
     "source": ["# Beobachtung: Sichtbarkeit von Namen\n",
"\n",
"-   Vorheriges Beispiel: Auf Namen `a` wurde innerhalb der Schleife\n",
"    zugegriffen\n",
"-   Offenbar unproblematisch\n",
"-   Regel: Schon *vor* der Schleife bekannte Namen bleiben innerhalb\n",
"    des Blocks *sichtbar*\n",
"    -   Sie sind im gleichen *Scope* (und auch im gleichen Namensraum)"
]
    },{
     "cell_type": "markdown",
     "metadata": {
        "slideshow": {
           "slide_type": "subslide"
         } 
     }, 
     "source": ["# Beobachtung: Sichtbarkeit von Namen (2)\n",
"\n",
"-   Was ist umgekehrt? Namen wird erst in Schleife erzeugt?"
]
    },{
     "cell_type": "code",
     "metadata": {
        "slideshow": {
           "slide_type": "-"
         } 
     }, 
"outputs": [],
"execution_count": null,
     "source": ["i = 0\n",
"while i < 2:\n",
"    i += 1\n",
"    x = 2*i\n",
"print(x)"
]
    },{
     "cell_type": "markdown",
     "metadata": {
        "slideshow": {
           "slide_type": "fragment"
         } 
     }, 
     "source": ["## Name nach Schleife sichtbar<a id=\"orgheadline54\"></a>\n",
"\n",
"-   Name bleibt nach der Schleife erhalten und zeigt auf\n",
"    entsprechenden Wert\n",
"-   Also: Schleife schafft keinen Namensraum (im Gegensatz zu Funktionen)"
]
    },{
     "cell_type": "markdown",
     "metadata": {
        "slideshow": {
           "slide_type": "slide"
         } 
     }, 
     "source": ["# Schleifen: Terminierung\n",
"\n",
"Gefahr: Schleifenbedingung stets wahr \n",
"\n",
"-   Schleife wird nicht verlassen\n",
"-   Programm *in Endlosschleife*"
]
    },{
     "cell_type": "markdown",
     "metadata": {
        "slideshow": {
           "slide_type": "slide"
         } 
     }, 
     "source": ["# Einfache Regeln für Terminierung\n",
"\n",
"Schleife terminiert bestimmt, wenn es\n",
"\n",
"-   einen Wert gibt, der in jedem Schleifendurchlauf *streng monoton*\n",
"      wächst und\n",
"-   der Wert *diskret* wächst und\n",
"-   die Schleifenbedingung eine obere Schranke für den Wert darstellt\n",
"\n",
"Analog: Wert schrumpft, untere Schranke "
]
    },{
     "cell_type": "markdown",
     "metadata": {
        "slideshow": {
           "slide_type": "subslide"
         } 
     }, 
     "source": ["# Terminierung ist kritisch!\n",
"\n",
"Q. How did the programmer die in the shower?\n",
"\n",
"A. He read the shampoo bottle instructions: Lather. Rinse. Repeat."
]
    },{
     "cell_type": "markdown",
     "metadata": {
        "slideshow": {
           "slide_type": "slide"
         } 
     }, 
     "source": ["# Beispiel: GGT\n",
"\n",
"Bestimme den größten gemeinsamen Teiler "
]
    },{
     "cell_type": "code",
     "metadata": {
        "slideshow": {
           "slide_type": "-"
         } 
     }, 
"outputs": [],
"execution_count": null,
     "source": ["a = 18\n",
"b = 12\n",
"while (a != b):\n",
"    if a>b:\n",
"        a = a-b\n",
"    else:\n",
"        b = b-a\n",
"\n",
"Terminiert für alle Eingaben? "
]
    },{
     "cell_type": "markdown",
     "metadata": {
        "slideshow": {
           "slide_type": "slide"
         } 
     }, 
     "source": ["# `while`: Schleife über Feld\n",
"\n",
"Beispiel: Werte in einer Liste aufaddieren "
]
    },{
     "cell_type": "code",
     "metadata": {
        "slideshow": {
           "slide_type": "-"
         } 
     }, 
"outputs": [],
"execution_count": null,
     "source": ["L = [1, 2, 3, 4]\n",
"i = 0\n",
"sum = 0\n",
"while i < len(L):\n",
"    sum = sum + L[i]\n",
"    i = i + 1\n",
"print(sum)"
]
    },{
     "cell_type": "markdown",
     "metadata": {
        "slideshow": {
           "slide_type": "-"
         } 
     }, 
     "source": ["<div class=\"alertblock-head\" style=\"border:3px; border-style:solid; border-color:#f96900; padding: 5px; background-color:#f96900;  line-height:1.5em; text-align:center; border-radius: 15px 15px 0px 0px; margin-bottom: 0; width: 100%;\"><b>Achtung! Nicht pythonisch<a id=\"orgheadline60\"></a></b></div>\n",
"\n",
"Das ist nicht Python-Style (*pythonic*). Hier nur als didaktischer\n",
"Zwischenschritt!\n",
"\n",
"<div class=\"alertblock-content\" style=\"border:3px; border-style:solid; border-color:#f96900; padding: 5px; margin-top: 0;  line-height:1.5em; border-radius: 0px 0px 15px 15px; width: 100%; text-align:left\"></div> "
]
    },{
     "cell_type": "markdown",
     "metadata": {
        "slideshow": {
           "slide_type": "slide"
         } 
     }, 
     "source": ["# `while`: Beispiel Suchschleife\n",
"\n",
"Szenario: \n",
"\n",
"-   Wir haben eine Liste (oder Tuple)\n",
"-   Wir suchen ein Element mit einer bestimmten Eigenschaft\n",
"    -   Allgemeiner als mit `index` machbar: da nur Identität als\n",
"        Eigenschaft möglich\n",
"\n",
"Idee: \n",
"\n",
"-   Mit einer Schleife die Elemente ablaufen\n",
"-   Testen, ob Eigenschaft erfüllt\n",
"    -   Merken, dass gefunden"
]
    },{
     "cell_type": "markdown",
     "metadata": {
        "slideshow": {
           "slide_type": "subslide"
         } 
     }, 
     "source": ["# `while`: Beispiel Suchschleife  (2)"
]
    },{
     "cell_type": "code",
     "metadata": {
        "slideshow": {
           "slide_type": "-"
         } 
     }, 
"outputs": [],
"execution_count": null,
     "source": ["# ist eine ungerade Zahl in L? \n",
"def ungerade_in_liste(L):\n",
"    gefunden = False\n",
"    i = 0\n",
"    while i < len(L):\n",
"        if L[i] % 2 == 1:\n",
"            gefunden = True\n",
"        i = i + 1\n",
"    return gefunden\n",
"\n",
"print(ungerade_in_liste([2, 18, 6, 5, 9]))\n",
"print(ungerade_in_liste([2, 18, 6, 10, 22]))"
]
    },{
     "cell_type": "markdown",
     "metadata": {
        "slideshow": {
           "slide_type": "fragment"
         } 
     }, 
     "source": ["## Beobachtung<a id=\"orgheadline63\"></a>\n",
"\n",
"-   *Alle* Elemente untersuchen?\n",
"    -   Nein, nach erstem Finden aufhören?"
]
    },{
     "cell_type": "markdown",
     "metadata": {
        "slideshow": {
           "slide_type": "subslide"
         } 
     }, 
     "source": ["# `while`: Beispiel Suchschleife  (3)\n",
"\n",
"Zusätzliches Abbruchkriterium: `not gefunden`"
]
    },{
     "cell_type": "code",
     "metadata": {
        "slideshow": {
           "slide_type": "-"
         } 
     }, 
"outputs": [],
"execution_count": null,
     "source": ["# ist eine ungerade Zahl in L? \n",
"def ungerade_in_liste(L):\n",
"    gefunden = False\n",
"    i = 0\n",
"    while (not gefunden) and (i < len(L)):\n",
"        if L[i] % 2 == 1:\n",
"            gefunden = True\n",
"        i = i + 1\n",
"    return gefunden\n",
"\n",
"print(ungerade_in_liste([2, 18, 6, 5, 9]))\n",
"print(ungerade_in_liste([2, 18, 6, 10, 22]))"
]
    },{
     "cell_type": "markdown",
     "metadata": {
        "slideshow": {
           "slide_type": "slide"
         } 
     }, 
     "source": ["# Schleifenbedingungen finden?\n",
"\n",
"Inspiration? Oder strukturiertes Vorgehen? \n",
"\n",
"-   Idee: **Nach** der Schleife soll irgendeine Zielbedingung gelten\n",
"-   **Während** der Schleife gilt die Schleifenbedingung\n",
"-   Schön wäre: Negation der Schleifenbedingung ist Zielbedingung?\n",
"    -   Oder: impliziert Zielbedingung?"
]
    },{
     "cell_type": "code",
     "metadata": {
        "slideshow": {
           "slide_type": "-"
         } 
     }, 
"outputs": [],
"execution_count": null,
     "source": ["while SCHLEIFENBEDINGUNG == True: \n",
"    ...\n",
"\n",
"# Es gilt: ZIELBEDINGUNG == True"
]
    },{
     "cell_type": "markdown",
     "metadata": {
        "slideshow": {
           "slide_type": "subslide"
         } 
     }, 
     "source": ["# Schleifenbedingungen finden? (2)\n",
"\n",
"Oft praktisch: Schleifenbedingung konstruieren aus zwei Teilen\n",
"\n",
"-   Die *Zielbedingung* an sich: Was wollen wir nach der Schleife\n",
"    erreicht haben? \n",
"    -   Oder eine stärkere Variante davon\n",
"-   Eine *Invariante*: Gilt vor, während, nach der Schleife\n",
"    -   Stellt sicher, dass alle Anweisungen innerhalb der Anweisung\n",
"        korrekt ausgeführt werden können\n",
"    -   Beispiel: Index für Listenzugriffe gültig"
]
    },{
     "cell_type": "markdown",
     "metadata": {
        "slideshow": {
           "slide_type": "fragment"
         } 
     }, 
     "source": ["## Schleifenbedingung zusammensetzen<a id=\"orgheadline67\"></a>\n",
"\n",
"`Schleifenbedingung = (not Zielbedingung) and Invariante`\n",
"\n",
"-   `Invariante` kann oft entfallen, aber hilfreich zum Nachdenken"
]
    },{
     "cell_type": "markdown",
     "metadata": {
        "slideshow": {
           "slide_type": "subslide"
         } 
     }, 
     "source": ["# Schleifenbedingung finden? (3)\n",
"\n",
"Mit `Schleifenbedingung = (not Zielbedingung) and Invariante` nach\n",
"Schleife gilt: \n",
"\n",
"`Zielbedingung or (not Invariante)` "
]
    },{
     "cell_type": "markdown",
     "metadata": {
        "slideshow": {
           "slide_type": "fragment"
         } 
     }, 
     "source": ["## Was gilt also?<a id=\"orgheadline69\"></a>\n",
"\n",
"D.h.: Nach Schleife **nicht** klar, was eigentlich der Fall ist!? \n",
"\n",
"-   Es könnte die Zielbedingung gelten\n",
"-   Es könnte aber auch die Invariante verletzt sein\n",
"\n",
"Also unklar! "
]
    },{
     "cell_type": "markdown",
     "metadata": {
        "slideshow": {
           "slide_type": "slide"
         } 
     }, 
     "source": ["# Nach Schleife: Prüfen!\n",
"\n",
"Wenn also unklar ist, weswegen die Schleife beendet wurde\n",
"\n",
"-   also wegen Erreichen der Zielbedingung\n",
"-   oder Verletzten der Invariante\n",
"\n",
"Dann muss man ggf. nach der Schleife nachprüfen! \n",
"\n",
"-   **Häufiges Muster**: Zielbedingung durch Wert/Namen explizit darstellen\n",
"-   Wie im Beispiel oben: `gefunden`"
]
    },{
     "cell_type": "markdown",
     "metadata": {
        "slideshow": {
           "slide_type": "slide"
         } 
     }, 
     "source": ["# Beispiel umformuliert"
]
    },{
     "cell_type": "code",
     "metadata": {
        "slideshow": {
           "slide_type": "-"
         } 
     }, 
"outputs": [],
"execution_count": null,
     "source": ["# ist eine ungerade Zahl in L? \n",
"def ungerade_in_liste(L):\n",
"    i = 0\n",
"\n",
"    ZIELBEDINGUNG = False\n",
"    INVARIANTE = i < len(L)\n",
"\n",
"    while (not ZIELBEDINGUNG) and INVARIANTE:\n",
"        ZIELBEDINGUNG = (L[i] % 2 == 1)\n",
"        i = i + 1\n",
"        INVARIANTE = i < len(L)\n",
"\n",
"    return ZIELBEDINGUNG\n",
"\n",
"print(ungerade_in_liste([2, 18, 6, 5, 9]))\n",
"print(ungerade_in_liste([2, 18, 6, 10, 22]))"
]
    },{
     "cell_type": "markdown",
     "metadata": {
        "slideshow": {
           "slide_type": "slide"
         } 
     }, 
     "source": ["# Schleifen: Hilfskonstrukte\n",
"\n",
"Innerhalb einer Schleife kann viel passieren \n",
"\n",
"-   Wirklich jede Iteration komplett durchlaufen?\n",
"-   Eine Schleife abbrechen?"
]
    },{
     "cell_type": "markdown",
     "metadata": {
        "slideshow": {
           "slide_type": "subslide"
         } 
     }, 
     "source": ["# Schleifeniterationen nicht komplett durchlaufen\n",
"\n",
"Typisches Muster:  Umständlich "
]
    },{
     "cell_type": "code",
     "metadata": {
        "slideshow": {
           "slide_type": "-"
         } 
     }, 
"outputs": [],
"execution_count": null,
     "source": ["while Schleifenbedingung:\n",
"    Anweisungen\n",
"    if Andere_Bedingung:\n",
"        # Lasse den Rest der Schleife aus \n",
"        pass\n",
"    else:\n",
"        Restliche Anweisungen"
]
    },{
     "cell_type": "markdown",
     "metadata": {
        "slideshow": {
           "slide_type": "subslide"
         } 
     }, 
     "source": ["# Schleifeniterationen nicht komplett durchlaufen: `continue`\n",
"\n",
"Gleich, aber knapper: "
]
    },{
     "cell_type": "code",
     "metadata": {
        "slideshow": {
           "slide_type": "-"
         } 
     }, 
"outputs": [],
"execution_count": null,
     "source": ["while Schleifenbedingung:\n",
"    Anweisungen\n",
"    if Andere_Bedingung:\n",
"        continue\n",
"    Restliche Anweisungen"
]
    },{
     "cell_type": "markdown",
     "metadata": {
        "slideshow": {
           "slide_type": "subslide"
         } 
     }, 
     "source": ["# Schleife abbrechen\n",
"\n",
"Typisches Muster:  Umständlich "
]
    },{
     "cell_type": "code",
     "metadata": {
        "slideshow": {
           "slide_type": "-"
         } 
     }, 
"outputs": [],
"execution_count": null,
     "source": ["while (not Abbruchsbedingung) and WeitereBedingung:\n",
"    Anweisungen\n",
"    if Abbruchsbedingung:\n",
"        pass\n",
"    else:\n",
"        Restliche Anweisungen"
]
    },{
     "cell_type": "markdown",
     "metadata": {
        "slideshow": {
           "slide_type": "subslide"
         } 
     }, 
     "source": ["# Schleife abbrechen: `break`\n",
"\n",
"Gleich, aber knapper: "
]
    },{
     "cell_type": "code",
     "metadata": {
        "slideshow": {
           "slide_type": "-"
         } 
     }, 
"outputs": [],
"execution_count": null,
     "source": ["while WeitereBedingung:\n",
"    Anweisungen\n",
"    if Abbruchsbedingung:\n",
"        break\n",
"    Restliche Anweisungen"
]
    },{
     "cell_type": "markdown",
     "metadata": {
        "slideshow": {
           "slide_type": "-"
         } 
     }, 
     "source": ["<div class=\"alertblock-head\" style=\"border:3px; border-style:solid; border-color:#f96900; padding: 5px; background-color:#f96900;  line-height:1.5em; text-align:center; border-radius: 15px 15px 0px 0px; margin-bottom: 0; width: 100%;\"><b>Achtung! Bedingung genau beachten<a id=\"orgheadline77\"></a></b></div>\n",
"\n",
"Vorsicht, das Weglassen der Abbruchsbedingung aus der\n",
"Schleifenbedingung im Einzelfall genau überlegen. \n",
"\n",
"<div class=\"alertblock-content\" style=\"border:3px; border-style:solid; border-color:#f96900; padding: 5px; margin-top: 0;  line-height:1.5em; border-radius: 0px 0px 15px 15px; width: 100%; text-align:left\"></div> "
]
    },{
     "cell_type": "markdown",
     "metadata": {
        "slideshow": {
           "slide_type": "subslide"
         } 
     }, 
     "source": ["# Reguläre Beendigung vs. `break`: Reaktion\n",
"\n",
"Unterschiedliches Beenden einer Schleife kann unterschiedliche\n",
"Reaktionen erfordern &#x2013; siehe oben \n",
"\n",
"Unterstützung: `else` für Schleife! "
]
    },{
     "cell_type": "markdown",
     "metadata": {
        "slideshow": {
           "slide_type": "slide"
         } 
     }, 
     "source": ["# `else` bei Schleifen\n",
"\n",
"Beispiel: "
]
    },{
     "cell_type": "code",
     "metadata": {
        "slideshow": {
           "slide_type": "-"
         } 
     }, 
"outputs": [],
"execution_count": null,
     "source": ["def is_prime(n):\n",
"    \"\"\"Ist n eine Primzahl?\"\"\"\n",
"    x = n // 2                                # For some n > 1\n",
"    while x > 1:\n",
"        if n % x == 0:                        # Remainder\n",
"            print(n, 'hat Teiler', x)\n",
"            break                             # Skip else\n",
"        x -= 1\n",
"    else:                                     # Normal exit\n",
"        print(n, 'ist eine Primzahl')\n",
"\n",
"print(\"Ist 5 eine Primzahl?\")        \n",
"is_prime(5)\n",
"print(\"Ist 9 eine Primzahl?\")        \n",
"is_prime(9)"
]
    },{
     "cell_type": "markdown",
     "metadata": {
        "slideshow": {
           "slide_type": "subslide"
         } 
     }, 
     "source": ["# `else` bei Schleifen (2)\n",
"\n",
"-   Vorteil: Keine Namen für Test-Wert nötig\n",
"    -   Vereinfacht Schleifenbedingung\n",
"    -   Vereinfacht Anweisungen in der Schleife\n",
"    -   Wohldefinierte Art, Anweisungen für einen typischen Fall zu\n",
"        platzieren &#x2013; leichte Lesbarkeit durch Konvention"
]
    },{
     "cell_type": "markdown",
     "metadata": {
        "slideshow": {
           "slide_type": "subslide"
         } 
     }, 
     "source": ["# `while`: Suchschleife mit `else`"
]
    },{
     "cell_type": "code",
     "metadata": {
        "slideshow": {
           "slide_type": "-"
         } 
     }, 
"outputs": [],
"execution_count": null,
     "source": ["# ist eine ungerade Zahl in L? \n",
"def ungerade_in_liste(L):\n",
"    i = 0\n",
"    while (i < len(L)):\n",
"        if L[i] % 2 == 1:\n",
"            break\n",
"        i = i + 1\n",
"    else:\n",
"        print(\"nix ungerades!\")\n",
"        return False\n",
"\n",
"    return True \n",
"\n",
"print(ungerade_in_liste([2, 18, 6, 5, 9]))\n",
"print(ungerade_in_liste([2, 18, 6, 10, 22]))"
]
    },{
     "cell_type": "markdown",
     "metadata": {
        "slideshow": {
           "slide_type": "slide"
         } 
     }, 
     "source": ["# Stil: `continue`, `break` ?\n",
"\n",
"Ist das überhaupt guter Stil? Wird das Programm unstrukturiert? \n",
"\n",
"-   Das ist beinahe Glaubenssache\n",
"-   Aber `break` und `continue` haben klar definiertes Verhalten\n",
"-   Insbesondere in Verbindung mit `else` alle Fälle eines\n",
"    Schleifenendes im Programmcode klar identifizierbar\n",
"\n",
"Also: Ja, das ist ok! Mit Verständnis!  "
]
    },{
     "cell_type": "markdown",
     "metadata": {
        "slideshow": {
           "slide_type": "subslide"
         } 
     }, 
     "source": ["# Stil: goto\n",
"\n",
"-   In alten Sprachen (und in Maschinensprache): `goto`\n",
"    -   Springe an beliebige Stelle im Programm\n",
"-   Aber: Goto considered harmful\n",
"\n",
"<center>![img](./figures/goto.png \"goto considered harmful\")</center>"
]
    },{
     "cell_type": "markdown",
     "metadata": {
        "slideshow": {
           "slide_type": "slide"
         } 
     }, 
     "source": ["# Definition: `while`"
]
    },{
     "cell_type": "markdown",
     "metadata": {
        "slideshow": {
           "slide_type": "-"
         } 
     }, 
     "source": ["<div class=\"definition-head\" style=\"border:3px; border-style:solid; border-color:#5da9e9; padding: 5px; background-color:#5da9e9;  line-height:1.5em; text-align:center; border-radius: 15px 15px 0px 0px; margin-bottom: 0; width: 100%;\"><b>Definition: `while`<a id=\"orgheadline85\"></a></b></div>\n",
"\n",
"Eine `while`-Schleife besteht aus einem Ausdruck als *Test*\n",
"(*Schleifenbedingung*) und einem *Rumpf* (*Schleifenrumpf*,\n",
"*Schleifenkörper*). Beim Einreichen der `while`-Anweisung wird der\n",
"Test-Ausdruck ausgewertet und mit dem booleschen Wert `True`\n",
"verglichen. Ist der Test-Ausdruck wahr, wird der Rumpf einmal\n",
"ausgeführt. Das Testen des Ausdrucks und eine Ausführung des Rumpfes\n",
"werden als *(Schleifen-)Iteration* bezeichnet.  Die Veränderungen des\n",
"Zustands durch die Anweisungen des Rumpfs sind (natürlich) wirksam.\n",
"\n",
"Danach wird wie beim Erreichen der `while`-Anweisung verfahren: Der\n",
"Test wird (mit den Namen gebunden an die neuen Werten) ausgewertet und\n",
"ggf. der Rumpf ausgeführt. \n",
"\n",
"Der Rest einer Schleifeniteration kann durch die Anweisung `continue`\n",
"übersprungen werden und mit der folgenden Iteration begonnen\n",
"werden. Eine Schleife kann mit der Anweisung `break` abgebrochen\n",
"werden. \n",
"\n",
"Am Ende einer regulär (nicht durch `break`) beendeten Schleife wird\n",
"ein ggf. vorhandener Block nach der Anweisung `else` ausgeführt. Bei\n",
"Beendung der Schleife durch `break` wird dieser Block ignoriert. \n",
"\n",
"<div class=\"definition-content\" style=\"border:3px; border-style:solid; border-color:#5da9e9; padding: 5px; margin-top: 0; border-radius: 0px 0px 15px 15px; width: 100%; text-align:left\"></div>"
]
    },{
     "cell_type": "markdown",
     "metadata": {
        "slideshow": {
           "slide_type": "slide"
         } 
     }, 
     "source": ["# `while`: Komplettes Flussdiagramm\n",
"\n",
"<center>![img](figures/while-flowchart-complete.png \"Flussdiagramm einer While-Schleife mit `continue`, `break` und `else`\")</center>"
]
    },{
     "cell_type": "markdown",
     "metadata": {
        "slideshow": {
           "slide_type": "slide"
         } 
     }, 
     "source": ["<h1>Overview</h1> \n",
"\n",
"1. Überblick\n",
"1. Programm\n",
"1. Bedingte Ausführung: if\n",
"1. Schleifen: while\n",
"1. **<font color=\"red\">Schleifen: for</font>**\n",
"1. List comprehensions\n",
"1. Geschachtelte Schleifen\n",
"1. Zusammenfassung"
]
    },{
     "cell_type": "markdown",
     "metadata": {
        "slideshow": {
           "slide_type": "slide"
         } 
     }, 
     "source": ["# Häufiger Fall: Schleife über Aufzählung\n",
"\n",
"Häufig: Eine Aufzählung (Liste, Tuple, usw) Element für Element\n",
"verarbeiten \n",
"\n",
"Skizze: "
]
    },{
     "cell_type": "code",
     "metadata": {
        "slideshow": {
           "slide_type": "-"
         } 
     }, 
"outputs": [],
"execution_count": null,
     "source": ["L = [1, 2, 3, 4, 5]\n",
"while L is not []:\n",
"    aktuellesElement = L[0]\n",
"    # mache etwas mit aktuellem Element\n",
"    # ...\n",
"    # betrachte die restlichte Liste: \n",
"    L = L[1:]"
]
    },{
     "cell_type": "markdown",
     "metadata": {
        "slideshow": {
           "slide_type": "fragment"
         } 
     }, 
     "source": ["<div class=\"alertblock-head\" style=\"border:3px; border-style:solid; border-color:#f96900; padding: 5px; background-color:#f96900;  line-height:1.5em; text-align:center; border-radius: 15px 15px 0px 0px; margin-bottom: 0; width: 100%;\"><b>Achtung! Keine korrekte Schleife!<a id=\"orgheadline88\"></a></b></div>\n",
"\n",
"Dies ist **keine** korrekte Schleife; sie hat mindestens **zwei**\n",
"Probleme. Siehe Details in der Übungsaufgabe. \n",
"\n",
"<div class=\"alertblock-content\" style=\"border:3px; border-style:solid; border-color:#f96900; padding: 5px; margin-top: 0;  line-height:1.5em; border-radius: 0px 0px 15px 15px; width: 100%; text-align:left\"></div> "
]
    },{
     "cell_type": "markdown",
     "metadata": {
        "slideshow": {
           "slide_type": "slide"
         } 
     }, 
     "source": ["# Häufige Fälle verdienen eigene Anweisung: `for`\n",
"\n",
"Schleifen über Aufzählungen vereinfacht schreiben"
]
    },{
     "cell_type": "code",
     "metadata": {
        "slideshow": {
           "slide_type": "-"
         } 
     }, 
"outputs": [],
"execution_count": null,
     "source": ["# Sei A eine Referenz auf \n",
"# ein Objekt eines Aufzählungsdatentyp\n",
"for element in A:\n",
"    Anweisung1\n",
"    Anweisung2\n",
"    ...\n",
"\n",
"# Beispiel: \n",
"L = [1, 2, 3]\n",
"for l in L:\n",
"    print(l, end=\" \")"
]
    },{
     "cell_type": "markdown",
     "metadata": {
        "slideshow": {
           "slide_type": "slide"
         } 
     }, 
     "source": ["# `for`: Definition"
]
    },{
     "cell_type": "markdown",
     "metadata": {
        "slideshow": {
           "slide_type": "-"
         } 
     }, 
     "source": ["<div class=\"definition-head\" style=\"border:3px; border-style:solid; border-color:#5da9e9; padding: 5px; background-color:#5da9e9;  line-height:1.5em; text-align:center; border-radius: 15px 15px 0px 0px; margin-bottom: 0; width: 100%;\"><b>Definition: `for`-Schleife<a id=\"orgheadline91\"></a></b></div>\n",
"\n",
"-   Mit jeder Iteration einer `for` Schleife wird das jeweils nächste\n",
"    Element der gegeben Aufzählung der *Schleifenvariable* (auch\n",
"    *Laufvariable*, *Laufname*?) zugewiesen\n",
"    (im Beispiel: `element`; Name ist frei wählbar)\n",
"-   Nach Bearbeitung des letzten Elements der Aufzählung wird die\n",
"    Schleife verlassen\n",
"-   Ist die Aufzählung leer (z.B. `[]`), so wird die Schleife nicht\n",
"    betreten und keine Iteration ausgeführt\n",
"-   Die Anweisungen `break`, `continue` und `else` verhalten sich genau wie bei\n",
"    `while`-Schleifen\n",
"\n",
"<div class=\"definition-content\" style=\"border:3px; border-style:solid; border-color:#5da9e9; padding: 5px; margin-top: 0; border-radius: 0px 0px 15px 15px; width: 100%; text-align:left\"></div>"
]
    },{
     "cell_type": "markdown",
     "metadata": {
        "slideshow": {
           "slide_type": "slide"
         } 
     }, 
     "source": ["# Zuweisung an Aufzählung?\n",
"\n",
"Was passiert, wenn der Aufzählung einer neuer Wert zugewiesen wird?\n",
"\n",
"-   Ändert das den Schleifenverlauf?\n",
"-   Beispiel:"
]
    },{
     "cell_type": "code",
     "metadata": {
        "slideshow": {
           "slide_type": "-"
         } 
     }, 
"outputs": [],
"execution_count": null,
     "source": ["L = [1, 2, 3]\n",
"for l in L:\n",
"    print(l, end=\" \")\n",
"    L = [17, 18, 19]"
]
    },{
     "cell_type": "markdown",
     "metadata": {
        "slideshow": {
           "slide_type": "subslide"
         } 
     }, 
     "source": ["# Zuweisung an Aufzählung &#x2013; es passiert gar nicht!\n",
"\n",
"-   Tatsächlich kann an die Aufzählung, die für die Schleife verwendet\n",
"    wird, gar nicht zugewiesen werden\n",
"-   Zu Beginn der `for`-Schleife wird ein  verborgener Name für die\n",
"    Aufzählung angelegt \n",
"    -   Anhand diesen Namens wird iteriert!\n",
"-   Weißt man also einem Namen, der im Schleifenkopf benutzt wird,\n",
"    einen neuen Wert zu, so beeinflusst das nicht den Schleifenablauf\n",
"    -   Der ursprüngliche Wert steht ja weiterhin zur Verfügung"
]
    },{
     "cell_type": "markdown",
     "metadata": {
        "slideshow": {
           "slide_type": "slide"
         } 
     }, 
     "source": ["# Zuweisung an Elemente der Aufzählung?\n",
"\n",
"Was passiert also hier? "
]
    },{
     "cell_type": "code",
     "metadata": {
        "slideshow": {
           "slide_type": "-"
         } 
     }, 
"outputs": [],
"execution_count": null,
     "source": ["L = [1, 2, 3]\n",
"for l in L:\n",
"    print(l, end=\" \")\n",
"    L[1] = 17"
]
    },{
     "cell_type": "markdown",
     "metadata": {
        "slideshow": {
           "slide_type": "fragment"
         } 
     }, 
     "source": ["## Pingo!<a id=\"orgheadline95\"></a>"
]
    },{
     "cell_type": "code",
     "metadata": {
        "slideshow": {
           "slide_type": "-"
         } 
     }, 
"outputs": [],
"execution_count": null,
     "source": ["pingo_title = \"Ausgabe nach Zuweisung an Schleifenvariable\" \n",
"pingo_questions = [\"1, 2, 3\", \"1, 17, 3\"]\n",
"\n",
"%pingo"
]
    },{
     "cell_type": "markdown",
     "metadata": {
        "slideshow": {
           "slide_type": "subslide"
         } 
     }, 
     "source": ["# Zuweisung an Schleifenvariable\n",
"\n",
"Was passiert, wenn der Schleifenvariable etwas zugewiesen wird? \n",
"\n",
"-   Ändert das die Aufzählung? Den Schleifenverlauf?\n",
"-   Beispiel:"
]
    },{
     "cell_type": "code",
     "metadata": {
        "slideshow": {
           "slide_type": "-"
         } 
     }, 
"outputs": [],
"execution_count": null,
     "source": ["L = [1, 2, 3, 4, 5]\n",
"for x in L:\n",
"    x += 1\n",
"print(L)"
]
    },{
     "cell_type": "markdown",
     "metadata": {
        "slideshow": {
           "slide_type": "fragment"
         } 
     }, 
     "source": ["## Nein!<a id=\"orgheadline97\"></a>\n",
"\n",
"Auch hier ist die ursprüngliche Aufzählung nicht betroffen \n",
"\n",
"-   Die Schleifenvariable `x` ist ein Name für den Wert; zeigt nicht in\n",
"    die Aufzählungsstruktur\n",
"-   `x` wird  bei erneutem Betreten der Schleife einfach den nächsten\n",
"    Wert aus der Aufzählung zugewiesen"
]
    },{
     "cell_type": "markdown",
     "metadata": {
        "slideshow": {
           "slide_type": "subslide"
         } 
     }, 
     "source": ["# Schleifenvariable nach Schleifenende?\n",
"\n",
"Bleibt Schleifenvariable erhalten nach Schleifenende? "
]
    },{
     "cell_type": "code",
     "metadata": {
        "slideshow": {
           "slide_type": "-"
         } 
     }, 
"outputs": [],
"execution_count": null,
     "source": ["for i in [1, 2, 3]:\n",
"    print(\"in schleife\")\n",
"print(\"Wert von i nach Schleife: \", i)"
]
    },{
     "cell_type": "markdown",
     "metadata": {
        "slideshow": {
           "slide_type": "fragment"
         } 
     }, 
     "source": ["## Ja<a id=\"orgheadline99\"></a>\n",
"\n",
"-   Mit Wert des letzten Durchlaufs"
]
    },{
     "cell_type": "markdown",
     "metadata": {
        "slideshow": {
           "slide_type": "slide"
         } 
     }, 
     "source": ["# `for`-Schleifen über andere Aufzählungen\n",
"\n",
"-   Beispiele bisher: `for` über Liste\n",
"-   Laut Kapitel 5: Andere Aufzählungen sind `str`, `tuple`, `set`\n",
"    -   Und eigentlich auch `dict`\n",
"-   `for`-Schleifen darüber?"
]
    },{
     "cell_type": "markdown",
     "metadata": {
        "slideshow": {
           "slide_type": "subslide"
         } 
     }, 
     "source": ["# `for`-Schleifen über andere Aufzählungen &#x2013; Beispiele"
]
    },{
     "cell_type": "code",
     "metadata": {
        "slideshow": {
           "slide_type": "-"
         } 
     }, 
"outputs": [],
"execution_count": null,
     "source": ["s = \"Hallo GP1\"\n",
"for ss in s:\n",
"    print(ss, end=\" \")"
]
    },{
     "cell_type": "code",
     "metadata": {
        "slideshow": {
           "slide_type": "-"
         } 
     }, 
"outputs": [],
"execution_count": null,
     "source": ["t = (1, 2, 3, 4)\n",
"for tt in t:\n",
"    print(tt, end=\" \")"
]
    },{
     "cell_type": "markdown",
     "metadata": {
        "slideshow": {
           "slide_type": "subslide"
         } 
     }, 
     "source": ["# `for`-Schleifen über andere Aufzählungen &#x2013; Beispiele\n",
"\n",
"-   Überraschend? Nein!\n",
"    -   Principle of least surprise"
]
    },{
     "cell_type": "code",
     "metadata": {
        "slideshow": {
           "slide_type": "-"
         } 
     }, 
"outputs": [],
"execution_count": null,
     "source": ["s = {1, 2, 3, 4, 2, 3, 4}\n",
"for ss in s:\n",
"    print(ss, end=\" \")\n",
"\n",
"-   Überraschend? Nein!\n",
"    -   Semantik einer Menge"
]
    },{
     "cell_type": "markdown",
     "metadata": {
        "slideshow": {
           "slide_type": "slide"
         } 
     }, 
     "source": ["# `for`-Schleife über verschachtelte Datentypen\n",
"\n",
"Beispiel: Liste von Tupeln "
]
    },{
     "cell_type": "code",
     "metadata": {
        "slideshow": {
           "slide_type": "-"
         } 
     }, 
"outputs": [],
"execution_count": null,
     "source": ["L = [ (1,2), (3, 4), (5, 6)]\n",
"for t in L:\n",
"    print(t, end=\" \")"
]
    },{
     "cell_type": "markdown",
     "metadata": {
        "slideshow": {
           "slide_type": "slide"
         } 
     }, 
     "source": ["# `for`-Schleife mit erweiterter Zuweisung?\n",
"\n",
"-   Eigentlich macht ja eine `for`-Schleife jeweils eine Zuweisung an\n",
"    die Schleifenvariable\n",
"-   Python kennt erweiterte Zuweisungen und unpacking: `x, y = (1, 2)`\n",
"-   Funktioniert das bei `for`?"
]
    },{
     "cell_type": "code",
     "metadata": {
        "slideshow": {
           "slide_type": "-"
         } 
     }, 
"outputs": [],
"execution_count": null,
     "source": ["L = [ (1,2), (3, 4), (5, 6)]\n",
"for a, b in L:\n",
"    print(a, b)\n",
"    print(\"---\")"
]
    },{
     "cell_type": "markdown",
     "metadata": {
        "slideshow": {
           "slide_type": "slide"
         } 
     }, 
     "source": ["# `for`-Schleife über `dict` ?\n",
"\n",
"-   Iterieren über ein `dict` liefert die Schlüssel"
]
    },{
     "cell_type": "code",
     "metadata": {
        "slideshow": {
           "slide_type": "-"
         } 
     }, 
"outputs": [],
"execution_count": null,
     "source": ["D = {\"a\": 1, \"b\": 2, \"c\": 3, \"d\": \"abc\"}\n",
"for key in D:\n",
"    print(key, end=\" \")"
]
    },{
     "cell_type": "markdown",
     "metadata": {
        "slideshow": {
           "slide_type": "subslide"
         } 
     }, 
     "source": ["# `for`-Schleife über `dict` &#x2013; Key und Value?\n",
"\n",
"Wir bekommen eine Liste von Schlüssel-/Wert-Tuple eines `dicts` mit\n",
"Aufruf  von `items`\n",
"\n",
"-   Mit implizitem unpacking der Tuple in separate Namen `k` (für\n",
"    *key*)  und   `v` (für *value*)"
]
    },{
     "cell_type": "code",
     "metadata": {
        "slideshow": {
           "slide_type": "-"
         } 
     }, 
"outputs": [],
"execution_count": null,
     "source": ["D = {\"a\": 1, \"b\": 2, \"c\": 3, \"d\": \"abc\"}\n",
"for k, v in D.items():\n",
"    print(k, v)\n",
"    print(\"----\")"
]
    },{
     "cell_type": "markdown",
     "metadata": {
        "slideshow": {
           "slide_type": "fragment"
         } 
     }, 
     "source": ["## Beobachtung: Reihenfolge<a id=\"orgheadline107\"></a>\n",
"\n",
"-   Es gibt keine Garantie für die Reihenfolge in `D.items()`!"
]
    },{
     "cell_type": "markdown",
     "metadata": {
        "slideshow": {
           "slide_type": "slide"
         } 
     }, 
     "source": ["# `for` über Folge von Zahlen: `range`\n",
"\n",
"-   Häufig: Liste über eine Folge Zahlen \n",
"    -   Z.B. 1 &#x2026; 10, 1 &#x2026; n für Name n, usw\n",
"-   Mit `for` so nicht unmittelbar darstellbar\n",
"    -   Mit `while` schon, aber umständlich"
]
    },{
     "cell_type": "markdown",
     "metadata": {
        "slideshow": {
           "slide_type": "-"
         } 
     }, 
     "source": ["<div class=\"definition-head\" style=\"border:3px; border-style:solid; border-color:#5da9e9; padding: 5px; background-color:#5da9e9;  line-height:1.5em; text-align:center; border-radius: 15px 15px 0px 0px; margin-bottom: 0; width: 100%;\"><b>Definition: Hilfsfunktion: `range`<a id=\"orgheadline109\"></a></b></div>\n",
"\n",
"`range(stop)` liefert eine Aufzählung der Zahlen von 0 bis\n",
"(ausschliesslich) `stop`\n",
"\n",
"<div class=\"definition-content\" style=\"border:3px; border-style:solid; border-color:#5da9e9; padding: 5px; margin-top: 0; border-radius: 0px 0px 15px 15px; width: 100%; text-align:left\"></div>"
]
    },{
     "cell_type": "markdown",
     "metadata": {
        "slideshow": {
           "slide_type": "subslide"
         } 
     }, 
     "source": ["# `range`: Beispiel"
]
    },{
     "cell_type": "code",
     "metadata": {
        "slideshow": {
           "slide_type": "-"
         } 
     }, 
"outputs": [],
"execution_count": null,
     "source": ["for i in range(11):\n",
"    print(i, end=\" \")"
]
    },{
     "cell_type": "markdown",
     "metadata": {
        "slideshow": {
           "slide_type": "subslide"
         } 
     }, 
     "source": ["# `range`: Wie viele Durchläufe?\n",
"\n",
"Fencepost-Problem: Wie viele Pfähle braucht man für einen 100m langen\n",
"Zaun mit Pfählen im Abstand von 10m? \n",
"\n",
"-   9, 10, 11?"
]
    },{
     "cell_type": "markdown",
     "metadata": {
        "slideshow": {
           "slide_type": "fragment"
         } 
     }, 
     "source": ["## Also für `range`?<a id=\"orgheadline112\"></a>"
]
    },{
     "cell_type": "code",
     "metadata": {
        "slideshow": {
           "slide_type": "-"
         } 
     }, 
"outputs": [],
"execution_count": null,
     "source": ["pingo_title = \"Parameter von range für Zaun?\" \n",
"pingo_questions = [\"9\", \"10\", \"11\"]\n",
"\n",
"%pingo"
]
    },{
     "cell_type": "markdown",
     "metadata": {
        "slideshow": {
           "slide_type": "subslide"
         } 
     }, 
     "source": ["# Terminierung von `for` und  `range`\n",
"\n",
"Terminiert das hier? "
]
    },{
     "cell_type": "code",
     "metadata": {
        "slideshow": {
           "slide_type": "-"
         } 
     }, 
"outputs": [],
"execution_count": null,
     "source": ["for i in range(5):\n",
"    i -= 1"
]
    },{
     "cell_type": "markdown",
     "metadata": {
        "slideshow": {
           "slide_type": "fragment"
         } 
     }, 
     "source": ["## Terminierung von range<a id=\"orgheadline114\"></a>\n",
"\n",
"Natürlich terminiert das. Der Schleifenstruktur ist egal, was\n",
"innerhalb der Schleife mit dem Namen `i` gemacht wird (genauer: auf\n",
"welchen Wert der Name `i` referenziert). Am Ende der Schleife wird der\n",
"nächste Wert aus der Aufzählung verwendet. "
]
    },{
     "cell_type": "markdown",
     "metadata": {
        "slideshow": {
           "slide_type": "subslide"
         } 
     }, 
     "source": ["# `range`: Aufzählung verändern\n",
"\n",
"Erinnerung: Das hier verändert die Aufzählung `L` **nicht** "
]
    },{
     "cell_type": "code",
     "metadata": {
        "slideshow": {
           "slide_type": "-"
         } 
     }, 
"outputs": [],
"execution_count": null,
     "source": ["L = [1, 2, 3, 4, 5]\n",
"for x in L:\n",
"    x += 1\n",
"print(L)"
]
    },{
     "cell_type": "markdown",
     "metadata": {
        "slideshow": {
           "slide_type": "fragment"
         } 
     }, 
     "source": ["## `L` verändern?<a id=\"orgheadline116\"></a>\n",
"\n",
"Was aber, wenn Schleife doch `L` verändern soll? "
]
    },{
     "cell_type": "markdown",
     "metadata": {
        "slideshow": {
           "slide_type": "subslide"
         } 
     }, 
     "source": ["# `range`: Aufzählung verändern\n",
"\n",
"Dann brauchen wir eine `for`-Schleife mit Zugriff auf `L` durch den\n",
"Index "
]
    },{
     "cell_type": "code",
     "metadata": {
        "slideshow": {
           "slide_type": "-"
         } 
     }, 
"outputs": [],
"execution_count": null,
     "source": ["L = [1, 2, 3, 4, 5]\n",
"for i in range(len(L)):\n",
"    L[i] += 1\n",
"print(L)"
]
    },{
     "cell_type": "markdown",
     "metadata": {
        "slideshow": {
           "slide_type": "fragment"
         } 
     }, 
     "source": ["## Muster<a id=\"orgheadline118\"></a>\n",
"\n",
"Typisches Muster für den Einsatz von `range` und `len` in\n",
"`for`-Schleifen \n",
"\n",
"-   Durch Struktur der `for`-Schleife Indiz an Leser des Codes!"
]
    },{
     "cell_type": "markdown",
     "metadata": {
        "slideshow": {
           "slide_type": "slide"
         } 
     }, 
     "source": ["# Aufzählung in `for` &#x2013; duck typing?\n",
"\n",
"Im Kopf der `for`-Schleife: \n",
"\n",
"-   Muss es eine Aufzählung sein?\n",
"-   Oder &#x2013; nach duck typing-Prinzip &#x2013; reicht etwas, dass sich wie eine\n",
"    Aufzählung benimmt?\n",
"    -   Dafür haben wir noch kein Beispiel &#x2013; aber vielleicht ein\n",
"        interessanter Gedanke!"
]
    },{
     "cell_type": "markdown",
     "metadata": {
        "slideshow": {
           "slide_type": "slide"
         } 
     }, 
     "source": ["# Beispiel: Sieb des Erathostenes\n",
"\n",
"-   Bestimme alle Primzahlen bis zu einer gegebenen Obergrenze `n`\n",
"-   Idee:\n",
"    -   Schreibe alle Zahlen von 2 bis `n`\n",
"    -   Nimm die erste Zahl (die 2); streiche alle Vielfachen dieser Zahl\n",
"        aus der Tabelle\n",
"    -   Nimm die nächste noch nicht gestrichene Zahl und wiederhole\n",
"        Prozedur\n",
"    -   Bis keine nicht gestrichene Zahl mehr übrig"
]
    },{
     "cell_type": "markdown",
     "metadata": {
        "slideshow": {
           "slide_type": "subslide"
         } 
     }, 
     "source": ["# Eratostenes: Umsetzung\n",
"\n",
"-   Wie Tabelle repräsentieren?\n",
"    -   Als Liste der Zahlen: `[2, 3, 4, 5, ... ]`\n",
"        -   Möglich, aber dann Suche nach Vielfachen aufwändig\n",
"    -   Als Liste von gestrichen/nicht gestrichen Werte, mit Zugriff per\n",
"        Index\n",
"        -   nicht/gestrichen als `True` oder `False` repräsentieren"
]
    },{
     "cell_type": "markdown",
     "metadata": {
        "slideshow": {
           "slide_type": "subslide"
         } 
     }, 
     "source": ["# Erathostenes: Code"
]
    },{
     "cell_type": "code",
     "metadata": {
        "slideshow": {
           "slide_type": "-"
         } 
     }, 
"outputs": [],
"execution_count": null,
     "source": ["n = 20\n",
"prim = [True] * n\n",
"for i in range(n):\n",
"    if i==0 or i==1:\n",
"        prim[i] = False\n",
"    elif prim[i] == True:\n",
"        for streich in range(2*i, n, i):\n",
"            prim[streich] = False\n",
"\n",
"print(prim)"
]
    },{
     "cell_type": "markdown",
     "metadata": {
        "slideshow": {
           "slide_type": "-"
         } 
     }, 
     "source": ["## `range` mit drei Parametern<a id=\"orgheadline123\"></a>\n",
"\n",
"Parameter: Start, Stop, Schrittweite! "
]
    },{
     "cell_type": "markdown",
     "metadata": {
        "slideshow": {
           "slide_type": "slide"
         } 
     }, 
     "source": ["# `while` oder `for` ?\n",
"\n",
"-   Ist eine Aufzählung abzuarbeiten; ist eine feste Anzahl an\n",
"    Durchläufen bekannt? Dann `for`\n",
"-   Ist nur eine Abbruchbedingung bekannt, bei unklarer Anzahl an\n",
"    Durchläufen? Dann `while`"
]
    },{
     "cell_type": "markdown",
     "metadata": {
        "slideshow": {
           "slide_type": "slide"
         } 
     }, 
     "source": ["<h1>Overview</h1> \n",
"\n",
"1. Überblick\n",
"1. Programm\n",
"1. Bedingte Ausführung: if\n",
"1. Schleifen: while\n",
"1. Schleifen: for\n",
"1. **<font color=\"red\">List comprehensions</font>**\n",
"1. Geschachtelte Schleifen\n",
"1. Zusammenfassung"
]
    },{
     "cell_type": "markdown",
     "metadata": {
        "slideshow": {
           "slide_type": "slide"
         } 
     }, 
     "source": ["# Listen in Schleife konstruieren\n",
"\n",
"-   Häufiges Muster:\n",
"    -   Eine Schleife produziert Ergebnis pro Druchlauf\n",
"    -   Ergebnisse werden in Liste aufgesammelt\n",
"-   Einfachster Fall: Einen Ausdruck für jedes Element der Aufzählung\n",
"    berechnen"
]
    },{
     "cell_type": "code",
     "metadata": {
        "slideshow": {
           "slide_type": "-"
         } 
     }, 
"outputs": [],
"execution_count": null,
     "source": ["# leere Liste zum Ergebnisse sammeln: \n",
"ergebnis = []\n",
"for x in aufzaehlung:\n",
"    ergebnis.append(Ausdruck ueber x)"
]
    },{
     "cell_type": "markdown",
     "metadata": {
        "slideshow": {
           "slide_type": "subslide"
         } 
     }, 
     "source": ["# Listen in Schleife konstruieren &#x2013; Beispiel\n",
"\n",
"Beispiel: Wir verdoppeln jeden Eintrag der Liste "
]
    },{
     "cell_type": "code",
     "metadata": {
        "slideshow": {
           "slide_type": "-"
         } 
     }, 
"outputs": [],
"execution_count": null,
     "source": ["ergebnis = []\n",
"for x in [1, 2, 3, \"abc\", \"xyz\"]:\n",
"    ergebnis.append(x * 2)\n",
"print(ergebnis)"
]
    },{
     "cell_type": "markdown",
     "metadata": {
        "slideshow": {
           "slide_type": "slide"
         } 
     }, 
     "source": ["# Listen in Schleifen bedingt konstruieren\n",
"\n",
"-   Auch häufig: Pro Durchlauf Ergbnis nur bei bestimmer Bedingung\n",
"    konstruieren"
]
    },{
     "cell_type": "code",
     "metadata": {
        "slideshow": {
           "slide_type": "-"
         } 
     }, 
"outputs": [],
"execution_count": null,
     "source": ["# leere Liste zum Ergebnisse sammeln: \n",
"ergebnis = []\n",
"for x in aufzaehlung:\n",
"    if x erfuellt Bedingung: \n",
"        ergebnis.append(Ausdruck ueber x)"
]
    },{
     "cell_type": "markdown",
     "metadata": {
        "slideshow": {
           "slide_type": "subslide"
         } 
     }, 
     "source": ["# Listen in Schleifen bedingt konstruieren &#x2013; Beispiel\n",
"\n",
"Verdopple Eintrag nur wenn gerade Zahl: "
]
    },{
     "cell_type": "code",
     "metadata": {
        "slideshow": {
           "slide_type": "-"
         } 
     }, 
"outputs": [],
"execution_count": null,
     "source": ["ergebnis = []\n",
"for x in [1, 2, 3, 17, 42, 99]:\n",
"    if x % 2 == 0:\n",
"        ergebnis.append(x * 2)\n",
"print(ergebnis)"
]
    },{
     "cell_type": "markdown",
     "metadata": {
        "slideshow": {
           "slide_type": "slide"
         } 
     }, 
     "source": ["# List comprehensions\n",
"\n",
"Wie üblich: Häufige Muster verdienen eigene Syntax! \n",
"\n",
"List comprehension: \n",
"\n",
"-   Konstruieren einer Liste aus einer anderen Liste\n",
"-   mit einer kompakten `for`-Formulierung"
]
    },{
     "cell_type": "code",
     "metadata": {
        "slideshow": {
           "slide_type": "-"
         } 
     }, 
"outputs": [],
"execution_count": null,
     "source": ["[Ausdruck ueber x  for x in Liste if x erfuellt Bedingung]"
]
    },{
     "cell_type": "markdown",
     "metadata": {
        "slideshow": {
           "slide_type": "fragment"
         } 
     }, 
     "source": ["## Schleifenvariable<a id=\"orgheadline130\"></a>\n",
"\n",
"Natürlich auch andere Namen als `x` möglich "
]
    },{
     "cell_type": "markdown",
     "metadata": {
        "slideshow": {
           "slide_type": "subslide"
         } 
     }, 
     "source": ["# List comprehension &#x2013; Beispiel 1\n",
"\n",
"Verdopple Eintrag nur wenn gerade Zahl: "
]
    },{
     "cell_type": "code",
     "metadata": {
        "slideshow": {
           "slide_type": "-"
         } 
     }, 
"outputs": [],
"execution_count": null,
     "source": ["# Zeilenumbruch nur für Lesbarkeit\n",
"ergebnis = [x * 2\n",
"            for x in [1, 2, 3, 17, 42, 99]\n",
"            if x % 2 == 0]\n",
"print(ergebnis)"
]
    },{
     "cell_type": "markdown",
     "metadata": {
        "slideshow": {
           "slide_type": "subslide"
         } 
     }, 
     "source": ["# Beispiel 2\n",
"\n",
"-   Liste der Noten von Austauschstudierenden"
]
    },{
     "cell_type": "code",
     "metadata": {
        "slideshow": {
           "slide_type": "-"
         } 
     }, 
"outputs": [],
"execution_count": null,
     "source": ["# Liste mit Matrikelnummern: \n",
"austausch = [11, 22, 33]\n",
"# Dict mit Matrikelnummer: Note Abbildung \n",
"noten = {11: 2.0, 17: 1.7, 20: 3.3, 22: 1.0, 27: 5.0, 33: 2.3}\n",
"# Liste der Noten der Austauschstudierenden:\n",
"austauschnoten = [noten[a] for a in austausch]\n",
"print(austauschnoten)"
]
    },{
     "cell_type": "markdown",
     "metadata": {
        "slideshow": {
           "slide_type": "fragment"
         } 
     }, 
     "source": ["## Fehler?<a id=\"orgheadline133\"></a>\n",
"\n",
"Was passiert, wenn Matrikelnummer fehlt? "
]
    },{
     "cell_type": "markdown",
     "metadata": {
        "slideshow": {
           "slide_type": "slide"
         } 
     }, 
     "source": ["# List comprehsion mit Wahrheitswerten\n",
"\n",
"-   Man kann natürlich `True`, `False` als Ausdruck berechnen"
]
    },{
     "cell_type": "code",
     "metadata": {
        "slideshow": {
           "slide_type": "-"
         } 
     }, 
"outputs": [],
"execution_count": null,
     "source": ["ergebnis = [x % 2 == 0 \n",
"            for x in [1, 2, 3, 17, 42, 99]\n",
"           ]\n",
"print(ergebnis)"
]
    },{
     "cell_type": "markdown",
     "metadata": {
        "slideshow": {
           "slide_type": "slide"
         } 
     }, 
     "source": ["# List comprehsion mit Wahrheitswerten: Reduzieren?\n",
"\n",
"-   Schön wäre: Und bzw. Oder-Verknüpfung für solche Listen mit\n",
"    Wahrheitswerten\n",
"-   Eingebaute Funktionen: `any`, `all`\n",
"    -   `any`: `True` wenn mindestens ein Element `True` ist\n",
"    -   `all`: `True` wenn alle Elemente `True` sind"
]
    },{
     "cell_type": "code",
     "metadata": {
        "slideshow": {
           "slide_type": "-"
         } 
     }, 
"outputs": [],
"execution_count": null,
     "source": ["ergebnis = [x % 2 == 0 \n",
"            for x in [1, 2, 3, 17, 42, 99]\n",
"           ]\n",
"print(any(ergebnis))\n",
"\n",
"-   Anmerkung: Mit `short-circuit` Auswertung"
]
    },{
     "cell_type": "markdown",
     "metadata": {
        "slideshow": {
           "slide_type": "slide"
         } 
     }, 
     "source": ["# Damit: Suchschleife ganz pythonisch"
]
    },{
     "cell_type": "code",
     "metadata": {
        "slideshow": {
           "slide_type": "-"
         } 
     }, 
"outputs": [],
"execution_count": null,
     "source": ["def ungerade_in_liste(L):\n",
"    return any([x % 2 == 1 or x in L])\n",
"\n",
"(Mit einer noch fehlenden Modifikation, siehe später)"
]
    },{
     "cell_type": "markdown",
     "metadata": {
        "slideshow": {
           "slide_type": "slide"
         } 
     }, 
     "source": ["<h1>Overview</h1> \n",
"\n",
"1. Überblick\n",
"1. Programm\n",
"1. Bedingte Ausführung: if\n",
"1. Schleifen: while\n",
"1. Schleifen: for\n",
"1. List comprehensions\n",
"1. **<font color=\"red\">Geschachtelte Schleifen</font>**\n",
"1. Zusammenfassung"
]
    },{
     "cell_type": "markdown",
     "metadata": {
        "slideshow": {
           "slide_type": "slide"
         } 
     }, 
     "source": ["# Geschachtelte Schleifen\n",
"\n",
"-   Schleifenrumpf: Folge von Anweisungen\n",
"-   Schleifen (`while` und `for`) sind Anweisungen\n",
"-   Also: Schleifen in Schleifen möglich!?\n",
"\n",
"-   Na klar!"
]
    },{
     "cell_type": "markdown",
     "metadata": {
        "slideshow": {
           "slide_type": "slide"
         } 
     }, 
     "source": ["# Paarweise Operation\n",
"\n",
"-   Angenommen, wir wollen Elemente zweier Listen paarweise miteinander\n",
"    vergleichen \n",
"    -   Schleife 1 (*äußere* Schleife): Iteriere über eine Liste\n",
"    -   Schleife 2 (*innere* Schleife): In jeder Iteration der äußeren\n",
"        Schleife, iteriere über die zweite Schleife\n",
"        -   Führe Operation durch"
]
    },{
     "cell_type": "code",
     "metadata": {
        "slideshow": {
           "slide_type": "-"
         } 
     }, 
"outputs": [],
"execution_count": null,
     "source": ["for l1 in liste1:\n",
"    for l2 in liste2:\n",
"        operation auf l1, l2"
]
    },{
     "cell_type": "markdown",
     "metadata": {
        "slideshow": {
           "slide_type": "subslide"
         } 
     }, 
     "source": ["# Paarweise Operation: Beispiel 1 &#x2013; Summe der Produkte\n",
"\n",
"Berechne Summe der Produkte jedes Elements von Liste 1 mit jedem\n",
"Element von Liste 2 \n",
"\n",
"-   Also: $\\sum_{i=0}^{\\mathrm{len}(L_1)-1} \\sum_{j=0}\n",
"      ^{\\mathrm{len}(L_2)-1} L_1[i] L_2[j]$"
]
    },{
     "cell_type": "code",
     "metadata": {
        "slideshow": {
           "slide_type": "-"
         } 
     }, 
"outputs": [],
"execution_count": null,
     "source": ["L1 = [1, 2, 3]\n",
"L2 = [17, 18, 19]\n",
"summe = 0\n",
"for l1 in L1:\n",
"    for l2 in L2:\n",
"        summe += l1 * l2\n",
"print(summe)"
]
    },{
     "cell_type": "markdown",
     "metadata": {
        "slideshow": {
           "slide_type": "subslide"
         } 
     }, 
     "source": ["# Paarweise Operation: Beispiel 2 &#x2013; Test auf enthalten\n",
"\n",
"Welche  Elemente von `tests` sind in der Liste `items`? \n",
"\n",
"-   Innere Schleife abbrechen wenn Ergebnis feststeht"
]
    },{
     "cell_type": "code",
     "metadata": {
        "slideshow": {
           "slide_type": "-"
         } 
     }, 
"outputs": [],
"execution_count": null,
     "source": ["items = [\"aaa\", 111, (4, 5), 2.01]      # Eine Liste von Daten \n",
"tests = [(4, 5), 3.14]                  # Wonach suchen wir? \n",
"\n",
"for key in tests:                       # Fuer alle zu suchenden Daten\n",
"    for item in items:                  # Fuer alle vorhandenen Daten \n",
"        if item == key:                 # Gleich? \n",
"            print(key, \"gefunden in Daten\")\n",
"            break                       # Brich die innere Schleife ab \n",
"    else:\n",
"        print(key, \"nicht in Daten\")    # Nur ausgefuehrt wenn innere Schleife \n",
"                                        # nichts gefunden hat"
]
    },{
     "cell_type": "markdown",
     "metadata": {
        "slideshow": {
           "slide_type": "slide"
         } 
     }, 
     "source": ["# Beispiel mit geschachteltem `range`\n",
"\n",
"Berechne $\\sum_{i=0}^{10} \\sum_{j=0}^i i \\cdot j$"
]
    },{
     "cell_type": "code",
     "metadata": {
        "slideshow": {
           "slide_type": "-"
         } 
     }, 
"outputs": [],
"execution_count": null,
     "source": ["summe = 0\n",
"for i in range(11):\n",
"    for j in range(i+1):\n",
"        summe += i*j\n",
"print(summe)"
]
    },{
     "cell_type": "markdown",
     "metadata": {
        "slideshow": {
           "slide_type": "subslide"
         } 
     }, 
     "source": ["# Beispiel mit geschachteltem `range` und list comprehension\n",
"\n",
"List comprehensions erlauben direkt geschachtelte Schleifen: "
]
    },{
     "cell_type": "code",
     "metadata": {
        "slideshow": {
           "slide_type": "-"
         } 
     }, 
"outputs": [],
"execution_count": null,
     "source": ["quadrate = [i*j\n",
"             # aeußere Schleife: \n",
"             for i in range(5)\n",
"             # innere Schleife: \n",
"             for j in range(i+1)\n",
"             ]\n",
"print(quadrate)"
]
    },{
     "cell_type": "markdown",
     "metadata": {
        "slideshow": {
           "slide_type": "slide"
         } 
     }, 
     "source": ["# Eingebaute Funktion: `sum`\n",
"\n",
"Hilfsfunktion `sum`: Addiere alle Elemente einer Aufzählung auf "
]
    },{
     "cell_type": "code",
     "metadata": {
        "slideshow": {
           "slide_type": "-"
         } 
     }, 
"outputs": [],
"execution_count": null,
     "source": ["summe = sum([i*j\n",
"             # aeußere Schleife: \n",
"             for i in range(11)\n",
"             # innere Schleife: \n",
"             for j in range(i+1)\n",
"             ])\n",
"print(summe)"
]
    },{
     "cell_type": "markdown",
     "metadata": {
        "slideshow": {
           "slide_type": "slide"
         } 
     }, 
     "source": ["# Beispiel: Sortieren\n",
"\n",
"-   Gegeben: Eine Liste mit Zahlen\n",
"-   Gesucht: Eine Liste mit den gleichen Zahlen, aber aufsteigend\n",
"    sortiert"
]
    },{
     "cell_type": "markdown",
     "metadata": {
        "slideshow": {
           "slide_type": "-"
         } 
     }, 
     "source": ["## Idee: Suche die kleinste Zahl aus Restliste<a id=\"orgheadline145\"></a>\n",
"\n",
"-   Schritt 1: Suche die kleinste Zahl aus der ganzen Liste\n",
"    -   Vertausche mit Element am Anfang\n",
"-   Schritt 2: Genauso, mit der Liste ab Position 2\n",
"-   Usw."
]
    },{
     "cell_type": "markdown",
     "metadata": {
        "slideshow": {
           "slide_type": "fragment"
         } 
     }, 
     "source": ["## Selection Sort<a id=\"orgheadline146\"></a>\n",
"\n",
"Sog. **Selection Sort**\n",
"\n",
"-   Achtung: Für Praxis ungeeignet; viel zu langsam; aber schön einfach\n",
"-   Besser: siehe VL Datenstrukturen und Algorithmen"
]
    },{
     "cell_type": "markdown",
     "metadata": {
        "slideshow": {
           "slide_type": "subslide"
         } 
     }, 
     "source": ["# Selection Sort: Vorüberlegung\n",
"\n",
"-   Wie viele, welche Schleifen?\n",
"    -   Eine Schleife, um das erste, zweite, &#x2026; Element zu bestimmen:\n",
"        `for`\n",
"    -   Um ein Element zu bestimmen, den Rest absuchen: noch eine `for`,\n",
"        geschachtelt"
]
    },{
     "cell_type": "markdown",
     "metadata": {
        "slideshow": {
           "slide_type": "subslide"
         } 
     }, 
     "source": ["# Selection Sort: Code"
]
    },{
     "cell_type": "code",
     "metadata": {
        "slideshow": {
           "slide_type": "-"
         } 
     }, 
"outputs": [],
"execution_count": null,
     "source": ["%%tutor -t\n",
"liste = [17, 1, 42, 99, 33]\n",
"for pos in range(len(liste)):\n",
"    tausch = pos\n",
"    for such in range(pos+1, len(liste)):\n",
"        if liste[such] < liste[tausch]:\n",
"            tausch = such\n",
"    liste[pos], liste[tausch] = liste[tausch], liste[pos]\n",
"\n",
"print(liste)"
]
    },{
     "cell_type": "markdown",
     "metadata": {
        "slideshow": {
           "slide_type": "subslide"
         } 
     }, 
     "source": ["# Sortieren in Python: Eingebaut\n",
"\n",
"-   Niemand schreibt so eine Sortier-Funktion von Hand\n",
"-   Das ist als eingebaute Funktion verfügbar: `l.sort()` für eine Liste `l`"
]
    },{
     "cell_type": "markdown",
     "metadata": {
        "slideshow": {
           "slide_type": "slide"
         } 
     }, 
     "source": ["# Beispiel: Mischen zweier Listen\n",
"\n",
"-   Gegeben: Zwei sortierte Listen (beliebiger Länge)\n",
"-   Gesucht: Eine sortierte Liste, die die Elemente der beiden Listen\n",
"    enthält"
]
    },{
     "cell_type": "markdown",
     "metadata": {
        "slideshow": {
           "slide_type": "subslide"
         } 
     }, 
     "source": ["# Mischen: Vorüberlegung\n",
"\n",
"-   Triviale Idee: Listen hintereinander kopieren, dann sortieren \n",
"    -   Verschwenderisch &#x2013; wir können die Sortierung der Listen ja\n",
"        ausnutzen\n",
"-   Bessere Idee: Gehe Listen elementweise durch und nimm jeweils das\n",
"    kleinere Element"
]
    },{
     "cell_type": "markdown",
     "metadata": {
        "slideshow": {
           "slide_type": "subslide"
         } 
     }, 
     "source": ["# Mischen konventionell"
]
    },{
     "cell_type": "code",
     "metadata": {
        "slideshow": {
           "slide_type": "-"
         } 
     }, 
"outputs": [],
"execution_count": null,
     "source": ["a = [1, 3, 6, 9, 12, 23, 27, 35]\n",
"b = [2, 4, 5, 10, 11, 17, 18]\n",
"r = []\n",
"\n",
"aindex = 0\n",
"bindex = 0\n",
"\n",
"while (aindex < len(a)) and (bindex < len(b)):\n",
"    print(\"Index a und b:\", aindex, bindex) \n",
"    if a[aindex] < b[bindex]:\n",
"        r.append(a[aindex])\n",
"        aindex += 1\n",
"    else:\n",
"        r.append(b[bindex])\n",
"        bindex += 1\n",
"\n",
"print(\"Index a und b nach Schleife:\", aindex, bindex) \n",
"\n",
"if aindex == len(a):\n",
"    r.extend(b[bindex:])\n",
"else:\n",
"    r.extend(a[aindex:])\n",
"\n",
"print(\"Resultat: \", r)"
]
    },{
     "cell_type": "markdown",
     "metadata": {
        "slideshow": {
           "slide_type": "subslide"
         } 
     }, 
     "source": ["# Mischen mit Slicing"
]
    },{
     "cell_type": "code",
     "metadata": {
        "slideshow": {
           "slide_type": "-"
         } 
     }, 
"outputs": [],
"execution_count": null,
     "source": ["a = [1, 3, 6, 9, 12, 23]\n",
"b = [2, 4, 5, 10, 11, 17, 18]\n",
"r = []\n",
"while (len(a) > 0) and (len(b) > 0):\n",
"    print(a, b) \n",
"    if a[0] < b[0]:\n",
"        r.append(a[0])\n",
"        a = a[1:]\n",
"    else:\n",
"        r.append(b[0])\n",
"        b = b[1:]\n",
"\n",
"if len(a) == 0:\n",
"    r.extend(b)\n",
"else:\n",
"    r.extend(a)\n",
"\n",
"print(\"Resultat: \", r)"
]
    },{
     "cell_type": "markdown",
     "metadata": {
        "slideshow": {
           "slide_type": "slide"
         } 
     }, 
     "source": ["# Beispiel: Binäre Suche\n",
"\n",
"-   Gegeben:\n",
"    -   Sortierte Liste mit Werten\n",
"    -   Gesuchter Wert\n",
"-   Gesucht:\n",
"    -   Index des Wertes in Liste, falls vorhanden\n",
"    -   Information dass nicht vorhanden, andernfalls"
]
    },{
     "cell_type": "markdown",
     "metadata": {
        "slideshow": {
           "slide_type": "subslide"
         } 
     }, 
     "source": ["# Binäre Suche, Vorüberlegung\n",
"\n",
"-   Liste linear absuchen?\n",
"    -   Funktioniert, aber wir können Sortierung ausnutzen!\n",
"-   Idee:\n",
"    -   Prüfe Wert in der Mitte der Liste\n",
"        -   Falls gefunden: fertig\n",
"        -   Wenn größer: Suche oben; wenn kleiner: suche unten\n",
"    -   Wenn kein Wert mehr übrig, fertig\n",
"-   Welche Schleifen?"
]
    },{
     "cell_type": "markdown",
     "metadata": {
        "slideshow": {
           "slide_type": "subslide"
         } 
     }, 
     "source": ["# Binäre Suche, Code"
]
    },{
     "cell_type": "code",
     "metadata": {
        "slideshow": {
           "slide_type": "-"
         } 
     }, 
"outputs": [],
"execution_count": null,
     "source": ["l = [2, 4, 5, 10, 11, 17, 18]\n",
"wert = 11\n",
"gefunden = False\n",
"unten = 0\n",
"oben = len(l)\n",
"\n",
"while ((not gefunden) and\n",
"       (unten <= oben) and\n",
"       (unten < len(l))):\n",
"    mitte = int((unten+oben)/2)\n",
"    if l[mitte] == wert:\n",
"        gefunden = True\n",
"    elif l[mitte] < wert:\n",
"        unten = mitte + 1\n",
"    else:\n",
"        oben = mitte -1\n",
"\n",
"print(gefunden, mitte)"
]
    },{
     "cell_type": "markdown",
     "metadata": {
        "slideshow": {
           "slide_type": "fragment"
         } 
     }, 
     "source": ["## Frage<a id=\"orgheadline157\"></a>\n",
"\n",
"Wozu braucht man die Schleifenbedingung `unten < len(l)` ?     "
]
    },{
     "cell_type": "markdown",
     "metadata": {
        "slideshow": {
           "slide_type": "slide"
         } 
     }, 
     "source": ["<h1>Overview</h1> \n",
"\n",
"1. Überblick\n",
"1. Programm\n",
"1. Bedingte Ausführung: if\n",
"1. Schleifen: while\n",
"1. Schleifen: for\n",
"1. List comprehensions\n",
"1. Geschachtelte Schleifen\n",
"1. **<font color=\"red\">Zusammenfassung</font>**"
]
    },{
     "cell_type": "markdown",
     "metadata": {
        "slideshow": {
           "slide_type": "slide"
         } 
     }, 
     "source": ["# Zusammenfassung\n",
"\n",
"-   Wiederholte Ausführung von Anweisungen ist extrem nützlich\n",
"-   Unterschiedliche Kontrollmechanismen existieren \n",
"    -   `while`-Schleife: Kontrolle durch einen Ausdruck, der\n",
"        Wahrheitswert liefert\n",
"    -   `for`-Schleife: In jeder Wiederholung nimmt eine (oder mehrere)\n",
"        Schleifenvariable einen Wert aus einer vorgegebenen Aufzählung an\n",
"-   Schleifen erlauben Ausnahmen (`break`, `continue`) und Code für\n",
"    reguläres Ende (`else`)\n",
"-   Zusammen mit ein paar Hilfsfunktionen (vor allem `range`) sind\n",
"    insbes. `for`-Schleifen in Python extrem praktisch"
]
    },{
     "cell_type": "markdown",
     "metadata": {
        "slideshow": {
           "slide_type": "slide"
         } 
     }, 
     "source": ["# Python-Keywords: Liste bis jetzt\n",
"\n",
"-   Bis jetzt:\n",
"    -   `True`, `False`, `and`, `or`,  `def`,  `return`, `None`\n",
"    -   `in`\n",
"-   Neu:\n",
"    -   `if`, `else`, `pass`, `elif`, `while`, `for`, `break`, `continue`, `assert`"
]
    },{
     "cell_type": "markdown",
     "metadata": {
        "slideshow": {
           "slide_type": "slide"
         } 
     }, 
     "source": ["# Python: eingebaute Funktionen\n",
"\n",
"-   Allgemein \n",
"    -   `print`, **`range`**, **`zip`**\n",
"-   Typ-bezogen\n",
"    -   `len`\n",
"-   Datentypen erzeugen\n",
"    -   `tuple`\n",
"    -   `list`\n",
"    -   `set`\n",
"    -   `dict`\n",
"\n",
"  "
]
 }
],
 "metadata": {
  "celltoolbar": "Slideshow",
  "livereveal": {
        "theme": "simple",
        "transition": "none"
    },
  "kernelspec": {
   "display_name": "Python 3",
   "language": "python",
   "name": "python3"
  },
  "language_info": {
   "codemirror_mode": {
    "name": "ipython",
    "version": 3
   },
   "file_extension": ".py",
   "mimetype": "text/x-python",
   "name": "python",
   "nbconvert_exporter": "python",
   "pygments_lexer": "ipython3",
   "version": "3.5.1"
  }
 },
 "nbformat": 4,
 "nbformat_minor": 0
}