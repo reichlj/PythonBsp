{
"cells": [
 {
     "cell_type": "markdown",
     "metadata": {
        "slideshow": {
           "slide_type": "slide"
         } 
     }, 
     "source": ["<h1>Kapitel 7: Funktionen (Teil 2): Rekursion, Namensräume, Scopes</h1>\n",
"<p>Grundlagen der Programmierung 1<p><h2>Holger Karl</h2>\n",
" "
]
    },{
     "cell_type": "markdown",
     "metadata": {
        "slideshow": {
           "slide_type": "slide"
         } 
     }, 
     "source": ["<h1>Overview</h1> \n",
"\n",
"1. Überblick\n",
"1. Flexible Funktionsparameter und Rückgabewerte\n",
"1. Funktionen rufen Funktionen auf\n",
"1. Indirekte Rekursion\n",
"1. Direkte Rekursion\n",
"1. Funktionen und Software-Entwurf\n",
"1. Zusammenfassung \n",
" \n",
""
]
    },{
     "cell_type": "markdown",
     "metadata": {
        "slideshow": {
           "slide_type": "slide"
         } 
     }, 
     "source": ["<h1>Overview</h1> \n",
"\n",
"1. **<font color=\"red\">Überblick</font>**\n",
"1. Flexible Funktionsparameter und Rückgabewerte\n",
"1. Funktionen rufen Funktionen auf\n",
"1. Indirekte Rekursion\n",
"1. Direkte Rekursion\n",
"1. Funktionen und Software-Entwurf\n",
"1. Zusammenfassung"
]
    },{
     "cell_type": "markdown",
     "metadata": {
        "slideshow": {
           "slide_type": "skip"
         } 
     }, 
     "source": ["# Setup\n",
"\n",
"Main point here is to set up warnings properly for presentation and to\n",
"load tutormagic, so that we can later on use pythontutor for code\n",
"animations. "
]
    },{
     "cell_type": "code",
     "metadata": {
        "slideshow": {
           "slide_type": "skip"
         } 
     }, 
"outputs": [],
"execution_count": null,
     "source": ["%load_ext tutormagic\n",
"import warnings\n",
"warnings.filterwarnings('ignore', category=DeprecationWarning, module='.*/IPython/.*')\n",
"\n",
"import requests\n",
"import webbrowser\n",
"from IPython.core.magic import register_line_magic\n",
"\n",
"pingo_token = \"BRx9QJP7rjdUGBq3x4hP\"\n",
"\n",
"# Test-Session: \n",
"pingo_url = \"https://pingo.upb.de/events/311055/quick_start.json\"\n",
"# Produktiv-Session: \n",
"# pingo_url = \"https://pingo.upb.de/events/204051/quick_start.json\"\n",
"\n",
"pingo_duration = '120'\n",
"pingo_type = \"single\"\n",
"\n",
"\n",
"@register_line_magic\n",
"def pingo(line):\n",
"    params = {'survey_name': pingo_title, \n",
"              'predef_options': pingo_questions, \n",
"              'q_type': pingo_type,\n",
"              'duration': pingo_duration, \n",
"              'auth_token': pingo_token}\n",
"\n",
"    r = requests.post(pingo_url, json=params)\n",
"    webbrowser.open_new_tab(\"https://pingo.upb.de\" + r.headers['Location'])"
]
    },{
     "cell_type": "markdown",
     "metadata": {
        "slideshow": {
           "slide_type": "slide"
         } 
     }, 
     "source": ["# Was bisher geschah\n",
"\n",
"Wir haben: \n",
"\n",
"-   Ausdrücke und Anweisungen\n",
"-   Namen verweisen auf Werte\n",
"-   Kontrollstrukturen für Ablauf: `if`, `while`, `for`\n",
"-   Funktionen als Zusammenfassung von Anweisungen\n",
"    -   Definition und Aufruf"
]
    },{
     "cell_type": "markdown",
     "metadata": {
        "slideshow": {
           "slide_type": "slide"
         } 
     }, 
     "source": ["# Dieses Kapitel\n",
"\n",
"Wir kehren noch einmal zu Funktionen zurück und betrachten: \n",
"\n",
"-   Aufruf durch flexible Parameter\n",
"-   Funktionen rufen andere Funktionen (oder sich selbst) auf\n",
"-   Funktionsdefinition innerhalb anderer Funktionen\n",
"-   Die Regeln für Namensräume und  *Scopes*"
]
    },{
     "cell_type": "markdown",
     "metadata": {
        "slideshow": {
           "slide_type": "slide"
         } 
     }, 
     "source": ["<h1>Overview</h1> \n",
"\n",
"1. Überblick\n",
"1. **<font color=\"red\">Flexible Funktionsparameter und Rückgabewerte</font>**\n",
"1. Funktionen rufen Funktionen auf\n",
"1. Indirekte Rekursion\n",
"1. Direkte Rekursion\n",
"1. Funktionen und Software-Entwurf\n",
"1. Zusammenfassung"
]
    },{
     "cell_type": "markdown",
     "metadata": {
        "slideshow": {
           "slide_type": "slide"
         } 
     }, 
     "source": ["# Erinnerung: Parameter von `print`\n",
"\n",
"An `print` können Parameter flexibler übergeben werden als an selbst\n",
"definierte Funktionen: \n",
"\n",
"-   Beliebige Anzahl\n",
"-   Parameter können mit Namen versehen werden\n",
"\n",
"Wäre das nicht auch für eigene Funktionen praktisch? "
]
    },{
     "cell_type": "markdown",
     "metadata": {
        "slideshow": {
           "slide_type": "slide"
         } 
     }, 
     "source": ["# Erinnerung: Welche formale Parameter bekommen welchen Wert?\n",
"\n",
"Mehrere formale Parameter in Funktionsdefinition: \n",
"\n",
"-   Argumente und formale Parameter werden von links nach rechts\n",
"    zugeordnet: a wird zu Namen für Wert von x, b für y, c für z\n",
"-   Sogenannte *Positionsparameter* (*positional arguments*)"
]
    },{
     "cell_type": "code",
     "metadata": {
        "slideshow": {
           "slide_type": "-"
         } 
     }, 
"outputs": [],
"execution_count": null,
     "source": ["def f(a, b, c):\n",
"    # ... \n",
"\n",
"f(x, y, z)"
]
    },{
     "cell_type": "markdown",
     "metadata": {
        "slideshow": {
           "slide_type": "slide"
         } 
     }, 
     "source": ["# Variable Anzahl an Positionsparametern?\n",
"\n",
"-   Bisherige Syntax von `def`: Feste Anzahl Parameter vorgegeben\n",
"-   Erweiterte Syntax: Beliebige Parameteranzahl erlauben\n",
"    -   Wie Funktionsrumpf die Werte zur Verfügung stellen?\n",
"        -   Als Aufzählung!\n",
"    -   In Funktionsdefinition: **einem** Parameter einen Stern \n",
"        voranstellen\n",
"        -   Häufig: `*args` als formaler Parametername (nur Konvention!)\n",
"    -   Nach Stern-Parameter darf kein normaler Parameter folgen"
]
    },{
     "cell_type": "markdown",
     "metadata": {
        "slideshow": {
           "slide_type": "slide"
         } 
     }, 
     "source": ["# Variable Anzahl an Positionsparametern &#x2013; Beispiel"
]
    },{
     "cell_type": "code",
     "metadata": {
        "slideshow": {
           "slide_type": "-"
         } 
     }, 
"outputs": [],
"execution_count": null,
     "source": ["def f(a, b, *args):\n",
"    # a und b sind normale Parameter\n",
"    # args ist eine Aufzählung mit ggf. weiteren Parameter\n",
"    print(\"a:\", a, \"b:\", b)\n",
"    print(\"Anzahl weitere Parameter:\", len(args))\n",
"    print(\"weitere Parameter:\", args)\n",
"    print(\"-------------\")\n",
"\n",
"# f mit zwei Parametern aufrufen:     \n",
"f(1, 2)\n",
"# f mit zusätzlichen, optionalen Parametern aufrufen:\n",
"f(3, 4, \"a\")\n",
"f(5, 6, \"b\", 17, \"c\")\n",
"# das würde scheitern: \n",
"# f(1)"
]
    },{
     "cell_type": "markdown",
     "metadata": {
        "slideshow": {
           "slide_type": "slide"
         } 
     }, 
     "source": ["# Formale Parameter mit vorbelegten Werten (*default*)\n",
"\n",
"-   Möglicherweise haben manche formale Parameter häufig vorkommende,\n",
"    typische Werte (*defaults*)\n",
"-   Die der Funktionsentwickler kennt\n",
"-   Und die der Aufrufer nicht jedes Mal neu hinschreiben will\n",
"-   Syntax für defaults: Im Funktionskopf default mit `=` notieren\n",
"    -   Müssen bei Aufruf nicht vorhanden sein"
]
    },{
     "cell_type": "code",
     "metadata": {
        "slideshow": {
           "slide_type": "-"
         } 
     }, 
"outputs": [],
"execution_count": null,
     "source": ["def f(a, b=42):\n",
"    \"\"\"Parameter b hat default-Wert 42, wenn nicht\n",
"    explizit anders übergeben.\"\"\"\n",
"    print(\"a:\", a, end=\", \")\n",
"    print(\"b:\", b)\n",
"\n",
"# Aufruf ohne default-Parameter\n",
"f(1)\n",
"# Parameter nach Reihenfolge\n",
"f(2, 3)"
]
    },{
     "cell_type": "markdown",
     "metadata": {
        "slideshow": {
           "slide_type": "slide"
         } 
     }, 
     "source": ["# Argument bei Aufruf benennen\n",
"\n",
"-   Formale Parameter haben Namen\n",
"-   Möglicherweise bei Aufruf angenehmer, die Namen zu nennen, statt die\n",
"    Position zu wissen?\n",
"-   Sogenannte Schlüssel/Wert-Paare (***keyword arguments***)\n",
"    -   Überschreiben ggf. vorhandene default-Werte\n",
"-   Syntax: Als Zuweisung bei Aufruf\n",
"-   Beispiel:"
]
    },{
     "cell_type": "code",
     "metadata": {
        "slideshow": {
           "slide_type": "-"
         } 
     }, 
"outputs": [],
"execution_count": null,
     "source": ["def f(a, b=42):\n",
"    print(\"a:\", a, end=\", \")\n",
"    print(\"b:\", b)\n",
"\n",
"# Aufruf nach Position:\n",
"f(1, 2)\n",
"# Aufruf mit Nennung der Parameter:\n",
"f(a=3, b=4)\n",
"# Bei Nennung der formalen Parameter Reihenfolge unwichtig:\n",
"f(b=5, a=6)"
]
    },{
     "cell_type": "markdown",
     "metadata": {
        "slideshow": {
           "slide_type": "slide"
         } 
     }, 
     "source": ["# `dict` als Schlüssel-/Wert-Paare übergeben\n",
"\n",
"-   Keyword arguments: Abbildung von Namen auf Wert\n",
"-   Das kennen wir von `dict`!\n",
"    -   Kann man ein `dict` als Folge Schlüssel-Wert-Paaren an Funktion\n",
"        übergeben?\n",
"-   Syntax: Ein dict mit **zwei** vorangestellten Sternen wird als Folge\n",
"    von entsprechenden Argumenten aufgefasst"
]
    },{
     "cell_type": "code",
     "metadata": {
        "slideshow": {
           "slide_type": "-"
         } 
     }, 
"outputs": [],
"execution_count": null,
     "source": ["def f(a, b, c):\n",
"    print(\"a:\", a, end=\", \")\n",
"    print(\"b:\", b, end=\", \")\n",
"    print(\"c:\", c)\n",
"\n",
"d = {'a': 17, 'b': 42, 'c': 99}\n",
"# Kann das funktionieren? \n",
"# f(d)\n",
"# Besondere Aufrufssyntax: \n",
"f(**d)"
]
    },{
     "cell_type": "markdown",
     "metadata": {
        "slideshow": {
           "slide_type": "slide"
         } 
     }, 
     "source": ["# `dict` als Schlüssel-/Wert-Paare übergeben &#x2013; Fehlende Schlüssel\n",
"\n",
"Was passiert hier, was muss man ändern? "
]
    },{
     "cell_type": "code",
     "metadata": {
        "slideshow": {
           "slide_type": "-"
         } 
     }, 
"outputs": [],
"execution_count": null,
     "source": ["def f(a, b, c):\n",
"    print(\"a:\", a, end=\", \")\n",
"    print(\"b:\", b, end=\", \")\n",
"    print(\"c:\", c)\n",
"\n",
"d = {'a': 17, 'b': 42}\n",
"# Besondere Aufrufssyntax: \n",
"f(**d)"
]
    },{
     "cell_type": "markdown",
     "metadata": {
        "slideshow": {
           "slide_type": "slide"
         } 
     }, 
     "source": ["# `dict` als Schlüssel-/Wert-Paare übergeben &#x2013; Zu viele Schlüssel?"
]
    },{
     "cell_type": "code",
     "metadata": {
        "slideshow": {
           "slide_type": "-"
         } 
     }, 
"outputs": [],
"execution_count": null,
     "source": ["def f(a, b, c):\n",
"    print(\"a:\", a, end=\", \")\n",
"    print(\"b:\", b, end=\", \")\n",
"    print(\"c:\", c)\n",
"\n",
"d = {'a': 17, 'b': 42, 'c': 99, 'd': 1}\n",
"\n",
"# Das scheitert: \n",
"f(**d)"
]
    },{
     "cell_type": "markdown",
     "metadata": {
        "slideshow": {
           "slide_type": "slide"
         } 
     }, 
     "source": ["# `dict` als Schlüssel-/Wert-Paare übergeben &#x2013; Optionale Schlüssel?\n",
"\n",
"-   Wir brauchen eine Vorkehrung, um beliebige Schlüssel/Wert-Paare\n",
"    aufzunehmen\n",
"    -   Ähnlich wie bei beliebigen Positionsparametern mit `*args`\n",
"-   Syntax entsprechend angelehnt:\n",
"    -   In Funktionskopf, einen Parameter mit **zwei** Sternen versehen\n",
"        -   Konvention: oft `**kwargs` (für keyword arguments)\n",
"    -   Alle überzähligen Schlüssel-/Wert-Paare werden in diesem Parameter\n",
"        als `dict` abgelegt"
]
    },{
     "cell_type": "code",
     "metadata": {
        "slideshow": {
           "slide_type": "-"
         } 
     }, 
"outputs": [],
"execution_count": null,
     "source": ["def f(a, **kwargs):\n",
"    print(\"a:\", a, end=\", \")\n",
"    print(\"kwargs:\", kwargs)\n",
"\n",
"d = {'a': 17, 'b': 42, 'c': 99, 'd': 1}\n",
"# Besondere Aufrufssyntax: \n",
"f(**d)"
]
    },{
     "cell_type": "markdown",
     "metadata": {
        "slideshow": {
           "slide_type": "slide"
         } 
     }, 
     "source": ["# Beispiel"
]
    },{
     "cell_type": "code",
     "metadata": {
        "slideshow": {
           "slide_type": "-"
         } 
     }, 
"outputs": [],
"execution_count": null,
     "source": ["def f(a, b, *args, **kwargs):\n",
"    if 'x' in kwargs:\n",
"        return args[1], kwargs['y']\n",
"    else:\n",
"        return str(len(args)) * kwargs['z'] \n",
"\n",
"print(f(\"hallo\", 3, 17, \"gp1\", **{'y': 17, 'z': 3}))"
]
    },{
     "cell_type": "markdown",
     "metadata": {
        "slideshow": {
           "slide_type": "fragment"
         } 
     }, 
     "source": ["## Pingo!<a id=\"orgheadline21\"></a>"
]
    },{
     "cell_type": "code",
     "metadata": {
        "slideshow": {
           "slide_type": "-"
         } 
     }, 
"outputs": [],
"execution_count": null,
     "source": ["pingo_title = \"Was gibt obiger Code aus?\" \n",
"pingo_questions = [\"hallo gp1\", \"222\",  '(\"gp1\", 17)', \"1717\"]\n",
"pingo_duration = \"180\"\n",
"\n",
"%pingo"
]
    },{
     "cell_type": "markdown",
     "metadata": {
        "slideshow": {
           "slide_type": "slide"
         } 
     }, 
     "source": ["# Zusammenfassung formale Parameter und Argumente &#x2013; Syntax\n",
"\n",
"<table border=\"2\" cellspacing=\"0\" cellpadding=\"6\" rules=\"groups\" frame=\"hsides\">\n",
"\n",
"\n",
"<colgroup>\n",
"<col  class=\"org-left\" />\n",
"\n",
"<col  class=\"org-left\" />\n",
"</colgroup>\n",
"<thead>\n",
"<tr>\n",
"<th scope=\"col\" class=\"org-left\">Definitions-Syntax</th>\n",
"<th scope=\"col\" class=\"org-left\">Interpretation</th>\n",
"</tr>\n",
"</thead>\n",
"\n",
"<tbody>\n",
"<tr>\n",
"<td class=\"org-left\">`def f(a, b)`</td>\n",
"<td class=\"org-left\">Positionsparameter</td>\n",
"</tr>\n",
"\n",
"\n",
"<tr>\n",
"<td class=\"org-left\">`def f(a=17)`</td>\n",
"<td class=\"org-left\">Parameter mit default</td>\n",
"</tr>\n",
"\n",
"\n",
"<tr>\n",
"<td class=\"org-left\">`def f(*args)`</td>\n",
"<td class=\"org-left\">Parameter für überzählige Positions-Argumente (als Tuple)</td>\n",
"</tr>\n",
"\n",
"\n",
"<tr>\n",
"<td class=\"org-left\">`def f(**kwargs)`</td>\n",
"<td class=\"org-left\">Parameter für überzählige benannte Argumente (als Dict)</td>\n",
"</tr>\n",
"</tbody>\n",
"\n",
"<tbody>\n",
"<tr>\n",
"<td class=\"org-left\">Aufruf-Syntax</td>\n",
"<td class=\"org-left\">Interpretation</td>\n",
"</tr>\n",
"</tbody>\n",
"\n",
"<tbody>\n",
"<tr>\n",
"<td class=\"org-left\">`f(x, y)`</td>\n",
"<td class=\"org-left\">Positionsargument</td>\n",
"</tr>\n",
"\n",
"\n",
"<tr>\n",
"<td class=\"org-left\">`f(a=5)`</td>\n",
"<td class=\"org-left\">Argument explizit benennen</td>\n",
"</tr>\n",
"\n",
"\n",
"<tr>\n",
"<td class=\"org-left\">`f(*l)`</td>\n",
"<td class=\"org-left\">Siehe Übungsblatt</td>\n",
"</tr>\n",
"\n",
"\n",
"<tr>\n",
"<td class=\"org-left\">`f(**d)`</td>\n",
"<td class=\"org-left\">Dict d ist Liste der benannten Argumente</td>\n",
"</tr>\n",
"</tbody>\n",
"</table>\n",
"\n",
"Bemerkung: Python 3 hat noch ein paar weitere Feinheiten; brauchen wir\n",
"zunächst nicht "
]
    },{
     "cell_type": "markdown",
     "metadata": {
        "slideshow": {
           "slide_type": "slide"
         } 
     }, 
     "source": ["# Tuple als Rückgabewerte\n",
"\n",
"Eigentlich selbstverständlich: Tuple sind legale Rückgabewerte \n",
"\n",
"-   Damit einfache Möglichkeit, aus Funktion mehr als einen Wert\n",
"    zurückzugeben\n",
"-   `return` Tuple\n",
"-   Automatisches unpacking bei Funktionsaufruf"
]
    },{
     "cell_type": "code",
     "metadata": {
        "slideshow": {
           "slide_type": "-"
         } 
     }, 
"outputs": [],
"execution_count": null,
     "source": ["def mehrfache_rueckgabe():\n",
"    x = 10\n",
"    y = [1, 2, 3]\n",
"    return x, y\n",
"\n",
"# Tuple entgegennehmen:\n",
"t = mehrfache_rueckgabe()\n",
"print(\"t:\", t)\n",
"# Unpacking des tuples: \n",
"a, b = mehrfache_rueckgabe()\n",
"print(\"a:\", a, \"b:\", b)"
]
    },{
     "cell_type": "markdown",
     "metadata": {
        "slideshow": {
           "slide_type": "slide"
         } 
     }, 
     "source": ["<h1>Overview</h1> \n",
"\n",
"1. Überblick\n",
"1. Flexible Funktionsparameter und Rückgabewerte\n",
"1. **<font color=\"red\">Funktionen rufen Funktionen auf</font>**\n",
"1. Indirekte Rekursion\n",
"1. Direkte Rekursion\n",
"1. Funktionen und Software-Entwurf\n",
"1. Zusammenfassung"
]
    },{
     "cell_type": "markdown",
     "metadata": {
        "slideshow": {
           "slide_type": "slide"
         } 
     }, 
     "source": ["# Funktionen rufen Funktionen auf\n",
"\n",
"-   Bis jetzt: lediglich eine Funktion, die aufgerufen wurde\n",
"    -   Stimmt nicht ganz: Unsere Funktion hat auch schon die Funktion\n",
"        `print` aufgerufen\n",
"-   Was passiert genau, wenn eine Funktion eine andere aufruft?\n",
"    -   Insbesondere: Welche Namen sind sichtbar?"
]
    },{
     "cell_type": "markdown",
     "metadata": {
        "slideshow": {
           "slide_type": "slide"
         } 
     }, 
     "source": ["# Ausführungsmodell\n",
"\n",
"Das Ausführungsmodell ist ganz naheliegend\n",
"\n",
"-   Aufrufende Funktion unterbricht Ablauf bei Aufruf\n",
"-   Aufgerufene Funktion wird ausgeführt\n",
"-   Rückgabewert nimmt den Platz des Aufrufs in der aufrufenden\n",
"    Funktion ein\n",
"-   Aufrufer macht weiter"
]
    },{
     "cell_type": "markdown",
     "metadata": {
        "slideshow": {
           "slide_type": "slide"
         } 
     }, 
     "source": ["# Illustration"
]
    },{
     "cell_type": "code",
     "metadata": {
        "slideshow": {
           "slide_type": "-"
         } 
     }, 
"outputs": [],
"execution_count": null,
     "source": ["%%tutor \n",
"def f():\n",
"    print(\"in f, vor g\")\n",
"    x = g()\n",
"    print(\"in f, nach g\", \"x: \", x)\n",
"\n",
"def g():\n",
"    y = 42\n",
"    return y\n",
"\n",
"f()"
]
    },{
     "cell_type": "markdown",
     "metadata": {
        "slideshow": {
           "slide_type": "slide"
         } 
     }, 
     "source": ["# Beispiel: Matrix ausgeben\n",
"\n",
"Beispiel: Zwei Funktionen, um eine Matix auszugeben "
]
    },{
     "cell_type": "code",
     "metadata": {
        "slideshow": {
           "slide_type": "-"
         } 
     }, 
"outputs": [],
"execution_count": null,
     "source": ["# eine verschachtelte Liste: \n",
"matrix = [[1, 2, 3], [4, 5, 6], [7, 8, 9], [10, 11, 12]]\n",
"# matrix wollen wir als eine 4x3 Matrix ausgeben \n",
"\n",
"def print_matrix(m):\n",
"    for zeile in m:\n",
"        print_zeile(zeile)\n",
"        # Neue Zeile\n",
"        print()\n",
"\n",
"def print_zeile(z):\n",
"    for c in z:\n",
"        print(c, end=\" \")\n",
"\n",
"print_matrix(matrix)"
]
    },{
     "cell_type": "markdown",
     "metadata": {
        "slideshow": {
           "slide_type": "slide"
         } 
     }, 
     "source": ["# Beobachtung: Reihenfolge Definition und Aufruf\n",
"\n",
"-   Im Programmcode steht ein Aufruf von `print_zeile` bevor\n",
"    `print_zeile` definiert wurde\n",
"-   Hier offenbar unproblematisch\n",
"    -   Weil `def print_matrix` eine Anweisung ist, die lediglich den\n",
"        Namen der Funktion mit dem Programmcode verbindet\n",
"    -   Dabei wird noch nichts ausgeführt!\n",
"-   Entscheidend ist der Zeitpunkt der Ausführung des Aufrufs!\n",
"    -   Dann muss der Funktionsname `def`-iniert worden sein"
]
    },{
     "cell_type": "markdown",
     "metadata": {
        "slideshow": {
           "slide_type": "slide"
         } 
     }, 
     "source": ["# Beobachtung: Reihenfolge Definition und Aufruf\n",
"\n",
"Funktionsname vor Aufruf definiert &#x2013; das hier scheitert: \n",
"\n",
"-   Fehlermeldung: `NameError: name 'f' is not defined`"
]
    },{
     "cell_type": "code",
     "metadata": {
        "slideshow": {
           "slide_type": "-"
         } 
     }, 
"outputs": [],
"execution_count": null,
     "source": ["f()\n",
"\n",
"def f():\n",
"    print(\"Hallo\")"
]
    },{
     "cell_type": "markdown",
     "metadata": {
        "slideshow": {
           "slide_type": "slide"
         } 
     }, 
     "source": ["# Namen und Sichtbarkeit?\n",
"\n",
"Auf welche Namen kann man in einer Funktion zugreifen? \n",
"\n",
"-   Natürlich auf die selbst zugewiesenen\n",
"-   Andere?"
]
    },{
     "cell_type": "markdown",
     "metadata": {
        "slideshow": {
           "slide_type": "slide"
         } 
     }, 
     "source": ["# Sichtbarkeit von Namen außerhalb der Funktion?"
]
    },{
     "cell_type": "markdown",
     "metadata": {
        "slideshow": {
           "slide_type": "-"
         } 
     }, 
     "source": ["## Beispiel 1: Name vor Funktionsdefinition zugewiesen<a id=\"orgheadline32\"></a>"
]
    },{
     "cell_type": "code",
     "metadata": {
        "slideshow": {
           "slide_type": "-"
         } 
     }, 
"outputs": [],
"execution_count": null,
     "source": ["%%tutor -t\n",
"x = 5\n",
"def f():\n",
"    y = x \n",
"    print(y)\n",
"f()"
]
    },{
     "cell_type": "markdown",
     "metadata": {
        "slideshow": {
           "slide_type": "-"
         } 
     }, 
     "source": ["## Beispiel 2: Name **nach** Funktionsdefinition zugewiesen<a id=\"orgheadline33\"></a>"
]
    },{
     "cell_type": "code",
     "metadata": {
        "slideshow": {
           "slide_type": "-"
         } 
     }, 
"outputs": [],
"execution_count": null,
     "source": ["def f():\n",
"    y = x \n",
"    print(y)\n",
"x = 5 \n",
"f()"
]
    },{
     "cell_type": "markdown",
     "metadata": {
        "slideshow": {
           "slide_type": "slide"
         } 
     }, 
     "source": ["# Offenbar sichtbar!\n",
"\n",
"-   Bei Zugriff auf `x` stellt `f` fest, dass es kein `x` im eigenen\n",
"    Scope gibt\n",
"-   Dann beginnt Suche: gibt es ein `x` im Scope des aufrufenden\n",
"    Programmteils?\n",
"    -   Ja!\n",
"    -   Dann benutzen wird doch das `x`!\n",
"-   Diese Suche findet während der **Ausführung** von `f` statt, nicht\n",
"    während der **Definition** von `f`\n",
"    -   Deswegen ist es hier egal, ob `x` vor oder nach def Definition von\n",
"        `f` belegt wird"
]
    },{
     "cell_type": "markdown",
     "metadata": {
        "slideshow": {
           "slide_type": "slide"
         } 
     }, 
     "source": ["# Offenbar sichtbar! &#x2013; Beispiel\n",
"\n",
"Was wird hier ausgegeben? "
]
    },{
     "cell_type": "code",
     "metadata": {
        "slideshow": {
           "slide_type": "-"
         } 
     }, 
"outputs": [],
"execution_count": null,
     "source": ["x = 3\n",
"def f():\n",
"   y = x\n",
"   print(y)\n",
"x = 5\n",
"f()\n",
"x = 7"
]
    },{
     "cell_type": "markdown",
     "metadata": {
        "slideshow": {
           "slide_type": "-"
         } 
     }, 
     "source": ["## Pingo<a id=\"orgheadline36\"></a>"
]
    },{
     "cell_type": "code",
     "metadata": {
        "slideshow": {
           "slide_type": "-"
         } 
     }, 
"outputs": [],
"execution_count": null,
     "source": ["pingo_title = \"Ausgabe?\" \n",
"pingo_questions = [\"3\", \"5\", \"7\", \"42\"]\n",
"\n",
"%pingo"
]
    },{
     "cell_type": "markdown",
     "metadata": {
        "slideshow": {
           "slide_type": "slide"
         } 
     }, 
     "source": ["# Sichtbarkeit bei schreibendem Zugriff?\n",
"\n",
"Funktioniert das hier?  \n",
"\n",
"-   Nur minimale Änderung zu oben!"
]
    },{
     "cell_type": "code",
     "metadata": {
        "slideshow": {
           "slide_type": "-"
         } 
     }, 
"outputs": [],
"execution_count": null,
     "source": ["x = 5\n",
"def f():\n",
"    x = x + 1\n",
"    print(x)\n",
"f()"
]
    },{
     "cell_type": "markdown",
     "metadata": {
        "slideshow": {
           "slide_type": "slide"
         } 
     }, 
     "source": ["# Scope durch Zuweisung\n",
"\n",
"-   **Zuweisung** an Name bestimmt ihren Scope"
]
    },{
     "cell_type": "markdown",
     "metadata": {
        "slideshow": {
           "slide_type": "slide"
         } 
     }, 
     "source": ["# Sichtbarkeit von Namen **zwischen** zwei Funktionen?\n",
"\n",
"-   Aufruf von `g` durch `f` oben hatte keine Namen\n",
"-   Was passiert, wenn wir das hinzufügen?"
]
    },{
     "cell_type": "code",
     "metadata": {
        "slideshow": {
           "slide_type": "-"
         } 
     }, 
"outputs": [],
"execution_count": null,
     "source": ["def f():\n",
"    x = 17\n",
"    g()\n",
"\n",
"def g():\n",
"    z = a\n",
"    z += x\n",
"    print(z)\n",
"\n",
"a = 42\n",
"f()"
]
    },{
     "cell_type": "markdown",
     "metadata": {
        "slideshow": {
           "slide_type": "fragment"
         } 
     }, 
     "source": ["## Fehlermeldung<a id=\"orgheadline40\"></a>\n",
"\n",
"-   In Funktion `g`:  `NameError: global name 'x' is not defined`"
]
    },{
     "cell_type": "markdown",
     "metadata": {
        "slideshow": {
           "slide_type": "slide"
         } 
     }, 
     "source": ["# Unterschied der beiden Fälle?\n",
"\n",
"Offenbar unterschiedliches Verhalten \n",
"\n",
"-   Namen innerhalb oder außerhalb einer Funktion definiert\n",
"-   Namen außerhalb *aller* Funktionen existieren in einem besonderem Scope:\n",
"    dem *global scope*\n",
"-   Namen innerhalb einer Funktion existieren nur im Scope der Funktion\n",
"    -   Der *local scope* der Funktion\n",
"    -   Local scopes zweier Funktionen haben nichts miteinander zu tun!\n",
"        -   Genauer: Die Scopes der Namensräume der Funktionen&#x2026;\n",
"        -   (Scheinbar) gleicher Name in unterschiedlichen Scopes:\n",
"            Unterschiedlicher Namer!"
]
    },{
     "cell_type": "markdown",
     "metadata": {
        "slideshow": {
           "slide_type": "slide"
         } 
     }, 
     "source": ["# Disjunkte local scopes &#x2013; Beispiel"
]
    },{
     "cell_type": "code",
     "metadata": {
        "slideshow": {
           "slide_type": "-"
         } 
     }, 
"outputs": [],
"execution_count": null,
     "source": ["%%tutor -t\n",
"x = 99\n",
"\n",
"def f():\n",
"    x = 17\n",
"    print(\"x in f:\", x)\n",
"    g()\n",
"    print(\"x in f:\", x)\n",
"\n",
"def g():\n",
"    x = 42\n",
"    print(\"x in g:\", x)\n",
"\n",
"f()"
]
    },{
     "cell_type": "markdown",
     "metadata": {
        "slideshow": {
           "slide_type": "slide"
         } 
     }, 
     "source": ["# Disjunkte local scopes &#x2013; Beispiel 2\n",
"\n",
"-   Fast das gleiche Beispiel wie eben\n",
"-   Allerdings wird in `g` nicht an `x` zugewiesen\n",
"-   Was gibt `g` aus? Erklärung?"
]
    },{
     "cell_type": "code",
     "metadata": {
        "slideshow": {
           "slide_type": "-"
         } 
     }, 
"outputs": [],
"execution_count": null,
     "source": ["%%tutor -t\n",
"x = 99\n",
"\n",
"def f():\n",
"    x = 17\n",
"    print(\"x in f:\", x)\n",
"    g()\n",
"    print(\"x in f:\", x)\n",
"\n",
"def g():\n",
"    print(\"x in g:\", x)\n",
"\n",
"f()"
]
    },{
     "cell_type": "markdown",
     "metadata": {
        "slideshow": {
           "slide_type": "slide"
         } 
     }, 
     "source": ["# Modifizierende Nutzung globaler Namen\n",
"\n",
"-   Zuweisung erzeugt einen Namen im lokalen Scope\n",
"    -   Genauer: Im Namensraum des lokalen Scopes\n",
"-   Was passiert, wenn an  einen globale Namen zugewiesen wird?"
]
    },{
     "cell_type": "markdown",
     "metadata": {
        "slideshow": {
           "slide_type": "-"
         } 
     }, 
     "source": ["## Zuweisung erzeugt lokalen Namen<a id=\"orgheadline45\"></a>\n",
"\n",
"Wie oben &#x2013;  das hier funktioniert nicht: "
]
    },{
     "cell_type": "code",
     "metadata": {
        "slideshow": {
           "slide_type": "-"
         } 
     }, 
"outputs": [],
"execution_count": null,
     "source": ["x = 5\n",
"def f():\n",
"    x = x + 1\n",
"\n",
"f()"
]
    },{
     "cell_type": "markdown",
     "metadata": {
        "slideshow": {
           "slide_type": "slide"
         } 
     }, 
     "source": ["# Modifikation eines globalen  Namens\n",
"\n",
"Das hier funktioniert: "
]
    },{
     "cell_type": "code",
     "metadata": {
        "slideshow": {
           "slide_type": "-"
         } 
     }, 
"outputs": [],
"execution_count": null,
     "source": ["L = [1, 2]\n",
"def f():\n",
"    L.append(3)\n",
"\n",
"f()\n",
"print(L)"
]
    },{
     "cell_type": "markdown",
     "metadata": {
        "slideshow": {
           "slide_type": "-"
         } 
     }, 
     "source": ["## Beobachtung<a id=\"orgheadline47\"></a>\n",
"\n",
"-   An `L` wird nicht zugewiesen, also wird das globale `L` benutzt\n",
"-   Es wird nicht der Name `L` verändert, sondern das referenzierte\n",
"    Objekt, die Liste selbst!"
]
    },{
     "cell_type": "markdown",
     "metadata": {
        "slideshow": {
           "slide_type": "slide"
         } 
     }, 
     "source": ["# Modifikation einer globalen Variablen\n",
"\n",
"-   Eigentlich geht das nicht!\n",
"    -   Funktionen kommunizieren Ergebnisse durch\n",
"        -   Rückgabewerte (gut!)\n",
"        -   Ggf. durch Veränderung globaler Objekte (zweischneidig!)\n",
"-   Aber wenn doch nötig?\n",
"\n",
"<center>![img](./figures/DangerWillRobinson.png \"Danger, danger!\")</center>"
]
    },{
     "cell_type": "markdown",
     "metadata": {
        "slideshow": {
           "slide_type": "slide"
         } 
     }, 
     "source": ["# Modifikation eines globalen Namens\n",
"\n",
"-   Eigenes Schlüsselwort: `global`\n",
"    -   Deklariert einen Namen als dem globalen Scope zugehörig\n",
"-   **Extrem bedenklich**!!\n",
"    -   Schwer lesbar, schlecht wartbar, unübersichtlich, fehleranfällig,\n",
"        &#x2026;"
]
    },{
     "cell_type": "code",
     "metadata": {
        "slideshow": {
           "slide_type": "-"
         } 
     }, 
"outputs": [],
"execution_count": null,
     "source": ["x = 5\n",
"def f():\n",
"    global x\n",
"    x = x + 1\n",
"\n",
"f()\n",
"print(x)"
]
    },{
     "cell_type": "markdown",
     "metadata": {
        "slideshow": {
           "slide_type": "slide"
         } 
     }, 
     "source": ["# Die Gefahr globaler Namen\n",
"\n",
"-   Die Modifikation globaler Namen wird durch den  Sprachentwurf bewusst\n",
"    **erschwert**\n",
"-   Kernproblem: Programm ist nicht mehr verständlich, indem man nur den\n",
"    jeweiligen Ausschnitt betrachtet"
]
    },{
     "cell_type": "markdown",
     "metadata": {
        "slideshow": {
           "slide_type": "fragment"
         } 
     }, 
     "source": ["## Beispiel: Welchen Wert hat `X`?<a id=\"orgheadline51\"></a>"
]
    },{
     "cell_type": "code",
     "metadata": {
        "slideshow": {
           "slide_type": "-"
         } 
     }, 
"outputs": [],
"execution_count": null,
     "source": ["X = 99\n",
"def func1():\n",
"    global X\n",
"    X = 88\n",
"\n",
"def func2():\n",
"    global X\n",
"    X = 77\n",
"\n",
"func2()\n",
"print(X)"
]
    },{
     "cell_type": "markdown",
     "metadata": {
        "slideshow": {
           "slide_type": "fragment"
         } 
     }, 
     "source": ["## Pingo<a id=\"orgheadline52\"></a>"
]
    },{
     "cell_type": "code",
     "metadata": {
        "slideshow": {
           "slide_type": "-"
         } 
     }, 
"outputs": [],
"execution_count": null,
     "source": ["pingo_title = \"Welcher Wert wird ausgegeben?\" \n",
"pingo_questions = [\"77\", \"88\", \"99\"]\n",
"\n",
"%pingo"
]
    },{
     "cell_type": "markdown",
     "metadata": {
        "slideshow": {
           "slide_type": "slide"
         } 
     }, 
     "source": ["# Zusammenfassung: Scope von Namen  in Funktionen"
]
    },{
     "cell_type": "markdown",
     "metadata": {
        "slideshow": {
           "slide_type": "-"
         } 
     }, 
     "source": ["<div class=\"definition-head\" style=\"border:3px; border-style:solid; border-color:#5da9e9; padding: 5px; background-color:#5da9e9;  line-height:1.5em; text-align:center; border-radius: 15px 15px 0px 0px; margin-bottom: 0; width: 100%;\"><b>Definition: Scope von Namen<a id=\"orgheadline54\"></a></b></div>\n",
"\n",
"Der Scope eines Namen bestimmt sich daraus, wo an diesen Namen \n",
"eine **Zuweisung** erfolgt. \n",
"\n",
"-   Namen, an die innerhalb eines `def` zugewiesen wurde, sind im\n",
"    local scope dieser Funktion\n",
"-   Namen, an die außerhalb aller Funktionen zugewiesen wurde, sind\n",
"    im global scope\n",
"    -   Verweist ein Name im global scope auf ein Objekt, so kann das\n",
"        Objekt durchaus verändert werden!\n",
"-   Auf Namen im global scope kann von einer Funktion aus nur lesend\n",
"    zugegriffen werden \n",
"    -   Es sei denn, ein solcher Name ist vorher als  `global` deklariert\n",
"\n",
"<div class=\"definition-content\" style=\"border:3px; border-style:solid; border-color:#5da9e9; padding: 5px; margin-top: 0; border-radius: 0px 0px 15px 15px; width: 100%; text-align:left\"></div>"
]
    },{
     "cell_type": "markdown",
     "metadata": {
        "slideshow": {
           "slide_type": "slide"
         } 
     }, 
     "source": ["<h1>Overview</h1> \n",
"\n",
"1. Überblick\n",
"1. Flexible Funktionsparameter und Rückgabewerte\n",
"1. Funktionen rufen Funktionen auf\n",
"1. **<font color=\"red\">Indirekte Rekursion</font>**\n",
"1. Direkte Rekursion\n",
"1. Funktionen und Software-Entwurf\n",
"1. Zusammenfassung"
]
    },{
     "cell_type": "markdown",
     "metadata": {
        "slideshow": {
           "slide_type": "slide"
         } 
     }, 
     "source": ["# Funktionen rufen sich gegenseitig auf\n",
"\n",
"-   Bisher: `f` hat `g` aufgerufen.\n",
"    -   Und würde `g` eine Funktion `h` aufrufen, so ginge das genauso\n",
"-   Was passiert, wenn `g` dann wieder `f` aufruft?\n",
"\n",
"Zwei Fragen: \n",
"\n",
"-   Terminierung?\n",
"-   Scope?"
]
    },{
     "cell_type": "markdown",
     "metadata": {
        "slideshow": {
           "slide_type": "slide"
         } 
     }, 
     "source": ["# Wechselseitiger Aufruf: (Inkorrektes) Beispiel"
]
    },{
     "cell_type": "code",
     "metadata": {
        "slideshow": {
           "slide_type": "-"
         } 
     }, 
"outputs": [],
"execution_count": null,
     "source": ["def f():\n",
"    print(\"f\")\n",
"    g()\n",
"\n",
"def g()\n",
"    print(\"g\")\n",
"    f()\n",
"\n",
"f()"
]
    },{
     "cell_type": "markdown",
     "metadata": {
        "slideshow": {
           "slide_type": "fragment"
         } 
     }, 
     "source": ["## Problem<a id=\"orgheadline57\"></a>\n",
"\n",
"Endlos, terminiert nicht!"
]
    },{
     "cell_type": "markdown",
     "metadata": {
        "slideshow": {
           "slide_type": "slide"
         } 
     }, 
     "source": ["# Wechselseitiger Aufruf: Terminierung\n",
"\n",
"-   Ziel: Stelle sicher, dass die Folge von Aufrufen terminiert\n",
"-   Idee: Ähnlich wie Terminierung von Schleifen \n",
"    -   Finde einen Ausdruck, der mit jedem Ausdruck streng monoton und\n",
"        diskret fällt\n",
"    -   Zeige, dass Aufrufe enden, wenn Ausdruck einen Wert erreicht\n",
"        (z.B. 0)"
]
    },{
     "cell_type": "markdown",
     "metadata": {
        "slideshow": {
           "slide_type": "slide"
         } 
     }, 
     "source": ["# Wechselseitiger Aufruf: Beispiel\n",
"\n",
"Was tut dieses Programm? "
]
    },{
     "cell_type": "code",
     "metadata": {
        "slideshow": {
           "slide_type": "-"
         } 
     }, 
"outputs": [],
"execution_count": null,
     "source": ["def is_even(x):\n",
"    print(\"is_even checks:\", x)\n",
"    if x == 0:\n",
"        return True\n",
"    else:\n",
"        y = x - 1\n",
"        return is_odd(y)\n",
"\n",
"def is_odd(x):\n",
"    print(\"is_odd checks:\", x)\n",
"    if x == 0:\n",
"        return False\n",
"    else:\n",
"        y = x - 1\n",
"        return is_even(y)\n",
"\n",
"result = is_even(5)\n",
"print(result)"
]
    },{
     "cell_type": "markdown",
     "metadata": {
        "slideshow": {
           "slide_type": "slide"
         } 
     }, 
     "source": ["# Wechselseitiger Aufruf: Scopes und Namensräume\n",
"\n",
"Schauen wir uns die Scopes bzw. Namensräume genauer an: \n",
"\n",
"-   Beide Funktionen `is_even` und `is_odd` haben Namen `x` und `y`\n",
"-   Diese `x` und `y` sind in unterschiedlichen Scopes, also kein\n",
"    Problem\n",
"-   Aber was passiert mit einem `x` von `is_even`, wenn `is_even` erneut\n",
"    aufgerufen wird? Gleicher Scope???\n",
"-   Was würden Sie sinnvollerweise erwarten?"
]
    },{
     "cell_type": "markdown",
     "metadata": {
        "slideshow": {
           "slide_type": "slide"
         } 
     }, 
     "source": ["# Wechselseitiger Aufruf: Animation"
]
    },{
     "cell_type": "code",
     "metadata": {
        "slideshow": {
           "slide_type": "-"
         } 
     }, 
"outputs": [],
"execution_count": null,
     "source": ["%%tutor -t\n",
"def is_even(x):\n",
"    print(\"is_even checks:\", x)\n",
"    if x == 0:\n",
"        return True\n",
"    else:\n",
"        y = x - 1\n",
"        return is_odd(y)\n",
"\n",
"def is_odd(x):\n",
"    print(\"is_odd checks:\", x)\n",
"    if x == 0:\n",
"        return False\n",
"    else:\n",
"        y = x - 1\n",
"        return is_even(y)\n",
"\n",
"result = is_even(5)\n",
"print(result)"
]
    },{
     "cell_type": "markdown",
     "metadata": {
        "slideshow": {
           "slide_type": "slide"
         } 
     }, 
     "source": ["# Zugriff auf Namen in anderem Namensraum?\n",
"\n",
"-   Im oben Beispiel mit `f` und `g` gelang es nicht, auf eine Variable\n",
"    `x` in einem anderen Namensraum zuzugreifen\n",
"-   Geht das hier?\n",
"    -   Kann eine Funktion `is_even` auf eine Variable `x` *von sich\n",
"        selbst* zugreifen? In einem anderen Namensraum von `is_even`\n",
"        (allerdings im gleichen Scope)?\n",
"    -   **Nein!**\n",
"        -   Man kann das nicht einmal hinschreiben\n",
"        -   Welches `x` würde man auch meinen?"
]
    },{
     "cell_type": "markdown",
     "metadata": {
        "slideshow": {
           "slide_type": "slide"
         } 
     }, 
     "source": ["# Rekursion und Namensraum"
]
    },{
     "cell_type": "markdown",
     "metadata": {
        "slideshow": {
           "slide_type": "-"
         } 
     }, 
     "source": ["<div class=\"definition-head\" style=\"border:3px; border-style:solid; border-color:#5da9e9; padding: 5px; background-color:#5da9e9;  line-height:1.5em; text-align:center; border-radius: 15px 15px 0px 0px; margin-bottom: 0; width: 100%;\"><b>Definition: Jeder Funktionsaufruf hat einen eigenen Namensraum<a id=\"orgheadline64\"></a></b></div>\n",
"\n",
"Jeder rekursive **Funktionsaufruf** hat einen eigenen Namensraum. Die\n",
"Namen in einem Namensraum haben nichts mit Namen in einem\n",
"anderen Namensraum zu tun, selbst wenn es sich um den gleichen Scope\n",
"handeln sollte. \n",
"\n",
"<div class=\"definition-content\" style=\"border:3px; border-style:solid; border-color:#5da9e9; padding: 5px; margin-top: 0; border-radius: 0px 0px 15px 15px; width: 100%; text-align:left\"></div>"
]
    },{
     "cell_type": "markdown",
     "metadata": {
        "slideshow": {
           "slide_type": "slide"
         } 
     }, 
     "source": ["<h1>Overview</h1> \n",
"\n",
"1. Überblick\n",
"1. Flexible Funktionsparameter und Rückgabewerte\n",
"1. Funktionen rufen Funktionen auf\n",
"1. Indirekte Rekursion\n",
"1. **<font color=\"red\">Direkte Rekursion</font>**\n",
"1. Funktionen und Software-Entwurf\n",
"1. Zusammenfassung"
]
    },{
     "cell_type": "markdown",
     "metadata": {
        "slideshow": {
           "slide_type": "slide"
         } 
     }, 
     "source": ["# Direkte Rekursion\n",
"\n",
"-   Sonderfall der Rekursion: Eine Funktion ruft sich selbst auf \n",
"    -   Terminierung sicherstellen!\n",
"-   Allgemeiner: *Definition nimmt auf sich selbst Bezug*"
]
    },{
     "cell_type": "markdown",
     "metadata": {
        "slideshow": {
           "slide_type": "slide"
         } 
     }, 
     "source": ["# Rekursion in der Kunst\n",
"\n",
"Abbildung [152](#orgparagraph1) illustriert Rekursion. \n",
"\n",
"<center>![img](./figures/bild-rekursion.png \"Bild im Bild\")</center>"
]
    },{
     "cell_type": "markdown",
     "metadata": {
        "slideshow": {
           "slide_type": "slide"
         } 
     }, 
     "source": ["# Rekursion in der Kunst\n",
"\n",
"Abbildung [154](#orgparagraph2) illustriert Rekursion. \n",
"\n",
"<center>![img](./figures/escher.png \"Rekursion: Zeichnende Hände\")</center>"
]
    },{
     "cell_type": "markdown",
     "metadata": {
        "slideshow": {
           "slide_type": "slide"
         } 
     }, 
     "source": ["# Beispiel: Fakultät"
]
    },{
     "cell_type": "markdown",
     "metadata": {
        "slideshow": {
           "slide_type": "-"
         } 
     }, 
     "source": ["## Definition, nicht-rekursiv<a id=\"orgheadline69\"></a>\n",
"\n",
"Für $n\\geq 1$: \n",
"\n",
"$\\mathrm{fak}(n) = \\Pi _{i=1}^n i = 1 \\cdot \\ldots \\cdot n$ "
]
    },{
     "cell_type": "markdown",
     "metadata": {
        "slideshow": {
           "slide_type": "-"
         } 
     }, 
     "source": ["## Definition, rekursiv<a id=\"orgheadline70\"></a>\n",
"\n",
"$$\\mathrm{fak}(n) = \\begin{cases}\n",
"1 & n = 0 \\\\ \n",
"1 & n = 1 \\\\\n",
"n \\cdot \\mathrm{fak}(n-1) & \\mathrm{sonst.}  \n",
"\\end{cases}$$ "
]
    },{
     "cell_type": "markdown",
     "metadata": {
        "slideshow": {
           "slide_type": "slide"
         } 
     }, 
     "source": ["# Beispiel: Fakultät &#x2013; Code"
]
    },{
     "cell_type": "code",
     "metadata": {
        "slideshow": {
           "slide_type": "-"
         } 
     }, 
"outputs": [],
"execution_count": null,
     "source": ["%%tutor -t\n",
"def fak(n):\n",
"    if n==1:\n",
"        return 1\n",
"    else:\n",
"        return n*fak(n-1)\n",
"\n",
"res = fak(5)\n",
"print(res)"
]
    },{
     "cell_type": "markdown",
     "metadata": {
        "slideshow": {
           "slide_type": "slide"
         } 
     }, 
     "source": ["# Randfälle?\n",
"\n",
"Was passiert hier? Notwendige Änderungen? "
]
    },{
     "cell_type": "code",
     "metadata": {
        "slideshow": {
           "slide_type": "-"
         } 
     }, 
"outputs": [],
"execution_count": null,
     "source": ["fak(0)\n",
"fak(-5)"
]
    },{
     "cell_type": "markdown",
     "metadata": {
        "slideshow": {
           "slide_type": "slide"
         } 
     }, 
     "source": ["# Fakultät: Scope und Namensraum\n",
"\n",
"Um das nochmals zu betonen: \n",
"\n",
"-   Der *Namensraum* eines  lokalen Namens  `n` in einer Funktion\n",
"    `fak`  ist bei jedem Aufruf von `fak` ein neuer; jeder\n",
"    Aufruf hat einen eigenen Namensraum\n",
"-   Der *Scope* des Namens `n` ist bei allen Aufrufen von `fak` der\n",
"    gleiche: die Zeilen 2&#x2013;6"
]
    },{
     "cell_type": "markdown",
     "metadata": {
        "slideshow": {
           "slide_type": "slide"
         } 
     }, 
     "source": ["# Beispiel: String umdrehen\n",
"\n",
"-   Gegeben: Zeichenkette\n",
"-   Gesucht: Die Zeichenkette, rückwärts gelesen"
]
    },{
     "cell_type": "markdown",
     "metadata": {
        "slideshow": {
           "slide_type": "fragment"
         } 
     }, 
     "source": ["## Rekursive Idee<a id=\"orgheadline75\"></a>\n",
"\n",
"-   Die einfachen Fälle: \n",
"    -   Eine leere Zeichenkette rückwärts: die leere Zeichenkette\n",
"    -   Eine Zeichenkette der Länge 1 rückwärts: die Zeichenkette selbst\n",
"-   Die interessanten Fälle: eine längere Kette\n",
"    -   Nimm das erste Zeichen von der Kette weg\n",
"    -   Drehe die verkürzte Kette um\n",
"    -   Hänge das erste Zeichen ans Ende der umkehrten, verkürzten Kette\n",
"        an"
]
    },{
     "cell_type": "markdown",
     "metadata": {
        "slideshow": {
           "slide_type": "slide"
         } 
     }, 
     "source": ["# Beispiel: String umdrehen &#x2013; Code"
]
    },{
     "cell_type": "code",
     "metadata": {
        "slideshow": {
           "slide_type": "-"
         } 
     }, 
"outputs": [],
"execution_count": null,
     "source": ["def reverse(s):\n",
"    if len(s)<=1:\n",
"        return s\n",
"    else:\n",
"        first = s[0]\n",
"        rest = reverse(s[1:])\n",
"        return rest + first\n",
"\n",
"print(reverse(\"Hallo GP1\"))"
]
    },{
     "cell_type": "markdown",
     "metadata": {
        "slideshow": {
           "slide_type": "slide"
         } 
     }, 
     "source": ["# Rekursion &#x2013; Muster\n",
"\n",
"-   Rekursion beruht auf\n",
"    -   der Berechnung einfacherer Teilprobleme\n",
"    -   Zusammensetzen der Lösung dieser Teilprobleme zur Gesamtlösung\n",
"    -   Ganz einfache Teilprobleme werden direkt gelöst\n",
"-   Typisches Muster:"
]
    },{
     "cell_type": "code",
     "metadata": {
        "slideshow": {
           "slide_type": "-"
         } 
     }, 
"outputs": [],
"execution_count": null,
     "source": ["def rekursive_Funktion(parameter):\n",
"    if (parameter einfach genug für direkte Loesung):\n",
"        return Funktionswert beruhend auf parameter\n",
"    else:\n",
"        Bestimme einfacherere(s) Teilproblem(e)\n",
"        Rufe rekursive_Funktion fuer Teilprobleme auf\n",
"        Berechne Funktionswert beruhend auf Loesungen der Teilprobleme"
]
    },{
     "cell_type": "markdown",
     "metadata": {
        "slideshow": {
           "slide_type": "slide"
         } 
     }, 
     "source": ["# Rekursion &#x2013; Entwurf?\n",
"\n",
"Wie entwirft man rekursive Algorithmen? \n",
"\n",
"-   Suche einfache **Grenzfälle**: Für welche Eingaben kann man das Ergebnis\n",
"    direkt angeben?\n",
"-   Suche **Zerteilung**: Wie kann man kompliziertere Eingaben in einfachere\n",
"    Eingaben zerteilen, komplexe Probleme in einfachere Teilprobleme\n",
"    zerlegen?\n",
"-   Suche **Zusammensetzung**: Wie kann man Lösungen der Teilprobleme zur\n",
"    Lösung des Gesamtproblems zusammensetzen?"
]
    },{
     "cell_type": "markdown",
     "metadata": {
        "slideshow": {
           "slide_type": "slide"
         } 
     }, 
     "source": ["# Entwurfsbeispiel: Türme von Hanoi\n",
"\n",
"-   Auf einem Turm liegt ein Stapel Scheiben unterschiedlicher Größe\n",
"    -   Kleinere Scheiben müssen auf größeren Scheiben liegen\n",
"-   Dieser Scheibenstapel soll auf einen anderen Turm transportiert\n",
"    werden\n",
"-   Es kann immer nur eine Scheibe bewegt werden\n",
"    -   Kleinere nur auf größeren, nicht umgekehrt!\n",
"-   Es gibt einen dritten Turm, der als Zwischenablage verwendet werden\n",
"    kann"
]
    },{
     "cell_type": "markdown",
     "metadata": {
        "slideshow": {
           "slide_type": "slide"
         } 
     }, 
     "source": ["# Türme von Hanoi &#x2013; Start\n",
"\n",
"<center>![img](figures/hanoi.png \"Türme von Hanoi: Start\")</center>"
]
    },{
     "cell_type": "markdown",
     "metadata": {
        "slideshow": {
           "slide_type": "slide"
         } 
     }, 
     "source": ["# Türme von Hanoi &#x2013; Ziel\n",
"\n",
"<center>![img](figures/hanoi2.png \"Türme von Hanoi: Ziel\")</center>"
]
    },{
     "cell_type": "markdown",
     "metadata": {
        "slideshow": {
           "slide_type": "slide"
         } 
     }, 
     "source": ["# Türme von Hanoi &#x2013; Möglicher Zwischenstand\n",
"\n",
"<center>![img](figures/hanoi3.png \"Türme von Hanoi: Zwischenstand\")</center>"
]
    },{
     "cell_type": "markdown",
     "metadata": {
        "slideshow": {
           "slide_type": "slide"
         } 
     }, 
     "source": ["# Türme von Hanoi &#x2013; Fragen\n",
"\n",
"Also: \n",
"\n",
"-   Grenzfall?\n",
"-   Zerteilung?\n",
"-   Zusammensetzung?"
]
    },{
     "cell_type": "markdown",
     "metadata": {
        "slideshow": {
           "slide_type": "subslide"
         } 
     }, 
     "source": ["# Türme von Hanoi &#x2013; Code"
]
    },{
     "cell_type": "code",
     "metadata": {
        "slideshow": {
           "slide_type": "-"
         } 
     }, 
"outputs": [],
"execution_count": null,
     "source": ["def hanoi(hoehe, von, nach, ablage):\n",
"    if hoehe==1:\n",
"        print(\"Lege Scheibe von\", von, \"nach\", nach)\n",
"    else:\n",
"        hanoi(hoehe-1, von, ablage, nach)\n",
"        print(\"Lege Scheibe von\", von, \"nach\", nach)\n",
"        hanoi(hoehe-1, ablage, nach, von)\n",
"\n",
"hanoi(3, \"start\", \"ziel\", \"ablage\")"
]
    },{
     "cell_type": "markdown",
     "metadata": {
        "slideshow": {
           "slide_type": "slide"
         } 
     }, 
     "source": ["# Wie oft wird eine Scheibe bewegt?\n",
"\n",
"-   Wie könnten wir das mitzählen? \n",
"    -   Ordentliche Lösung?\n",
"    -   Unordentlich?"
]
    },{
     "cell_type": "markdown",
     "metadata": {
        "slideshow": {
           "slide_type": "slide"
         } 
     }, 
     "source": ["# Rekursion oder Iteration?\n",
"\n",
"-   Fakultät lässt sich natürlich auch trivial iterativ (ohne rekursive\n",
"    Funktionsaufrufe) implementieren\n",
"-   Häufig:\n",
"    -   Rekursive Variante einfacher, übersichtlicher\n",
"    -   Iterative Variante schneller, komplizierter\n",
"-   Allgemein: Rekursiv und iterativ ineinander überführbar\n",
"-   Wann nimmt man was?\n",
"    -   Je nach Problem, Struktur, Relevanz der Lösungszeit\n",
"    -   Vgl. VL Datenstrukturen und Algorithmen"
]
    },{
     "cell_type": "markdown",
     "metadata": {
        "slideshow": {
           "slide_type": "slide"
         } 
     }, 
     "source": ["# Rekursion zur Definition\n",
"\n",
"-   Grundidee der Rekursion auch für Definitionen anwendbar\n",
"    -   Für Funktionen, wie oben\n",
"    -   Für Datenstrukturen: Bäume , Listen\n",
"    -   Für Programmiersprachen:\n",
"        -   Eine Anweisung besteht aus&#x2026;\n",
"        -   Ein Ausdruck besteht aus&#x2026; anderen Ausdrücken!\n",
"-   Mehr dazu in VL Modellierung, VL DuA, und im ganzen Rest des\n",
"    Studiums!"
]
    },{
     "cell_type": "markdown",
     "metadata": {
        "slideshow": {
           "slide_type": "slide"
         } 
     }, 
     "source": ["# Rekursion: Realisierung?\n",
"\n",
"-   Jeder Aufruf einer Funktion &#x2013; sei es normal, durch indirekte oder\n",
"    direkte Rekursion &#x2013; hat also einen eigenen Namensraum, eigene Version\n",
"    des Zustands der Funktion\n",
"    -   Zustand: Werte der Parameter, der lokalen Namen, des Rückgabewertes\n",
"-   Konzeptionell schön, aber wie wird das realisiert?\n",
"-   Kernidee: Ein *Stapel* von *Frames*\n",
"    -   Datenstruktur, auf der andere Daten abgelegt werden können\n",
"    -   Kann wachsen und schrumpfen\n",
"    -   Stellt Platz für die Namensräume bereit\n",
"    -   Details: VL GPS"
]
    },{
     "cell_type": "markdown",
     "metadata": {
        "slideshow": {
           "slide_type": "slide"
         } 
     }, 
     "source": ["<h1>Overview</h1> \n",
"\n",
"1. Überblick\n",
"1. Flexible Funktionsparameter und Rückgabewerte\n",
"1. Funktionen rufen Funktionen auf\n",
"1. Indirekte Rekursion\n",
"1. Direkte Rekursion\n",
"1. **<font color=\"red\">Funktionen und Software-Entwurf</font>**\n",
"1. Zusammenfassung"
]
    },{
     "cell_type": "markdown",
     "metadata": {
        "slideshow": {
           "slide_type": "slide"
         } 
     }, 
     "source": ["# Wie nutzt man Funktionen sinnvoll?\n",
"\n",
"-   Bis jetzt: Syntax und Semantik für Funktionen\n",
"    -   (Noch nicht vollständig)\n",
"-   Aber wie entwirft man Programme sinnvoll?\n",
"    -   Regel für die Nutzung von Funktionen?\n",
"-   Hier: einige erste Faustregeln\n",
"    -   Später: VL Software-Entwurf"
]
    },{
     "cell_type": "markdown",
     "metadata": {
        "slideshow": {
           "slide_type": "slide"
         } 
     }, 
     "source": ["# Funktionen und Coupling"
]
    },{
     "cell_type": "markdown",
     "metadata": {
        "slideshow": {
           "slide_type": "-"
         } 
     }, 
     "source": ["## Eingabe mit Argumenten, Ausgabe mit return<a id=\"orgheadline91\"></a>\n",
"\n",
"-   Funktionen sollten Eingaben nur durch die Argumente erhalten\n",
"-   Resultate nur durch `return`\n",
"-   Unabhängig von Werten um die Funktion herum\n",
"-   *Isolation* der Funktion erhöht Wiederverwendbarkeit"
]
    },{
     "cell_type": "markdown",
     "metadata": {
        "slideshow": {
           "slide_type": "fragment"
         } 
     }, 
     "source": ["## Globale Namen nur wenn nicht anders möglich<a id=\"orgheadline92\"></a>\n",
"\n",
"-   Globale Namen erzeugen Abhängigkeiten und Komplexität\n",
"-   Nur als letzter Ausweg! In 99.9999% **nicht** nötig"
]
    },{
     "cell_type": "markdown",
     "metadata": {
        "slideshow": {
           "slide_type": "slide"
         } 
     }, 
     "source": ["# Funktionen und Coupling (2)"
]
    },{
     "cell_type": "markdown",
     "metadata": {
        "slideshow": {
           "slide_type": "-"
         } 
     }, 
     "source": ["## Veränderbare Argumente nicht verändern<a id=\"orgheadline94\"></a>\n",
"\n",
"-   Bekommt eine Funktion veränderbare Typen (Listen, Mengen, Dicts) als\n",
"    Argumente, so sollte sie  diese typischerweise nicht verändern\n",
"-   Nur, wenn dies der Aufrufer offensichtlich erwarten muss\n",
"-   Klar dokumentieren, wenn dies passiert!\n",
"-   Meist besser: Veränderte Werte mit `return` zurückgeben\n",
"    -   Aufrufer entscheidet, was passiert"
]
    },{
     "cell_type": "markdown",
     "metadata": {
        "slideshow": {
           "slide_type": "slide"
         } 
     }, 
     "source": ["# Funktionen und Kohesion\n",
"\n",
"-   Eine Funktion erledigt genau eine Aufgabe\n",
"-   Aufgabe typischerweise in einem knappen Satz beschreibbar\n",
"-   Wenn zu kompliziert, zu viele unterschiedliche Aspekte: Funktion \n",
"    in Teilfunktionen aufteilen!"
]
    },{
     "cell_type": "markdown",
     "metadata": {
        "slideshow": {
           "slide_type": "slide"
         } 
     }, 
     "source": ["# Funktionen und Größe\n",
"\n",
"-   Funktion sollte relativ klein sein (Anzahl Code-Zeilen)\n",
"-   Faustregel: zwei Bildschirmseiten als Maximum\n",
"-   Wenn größer: Funktion \n",
"    in Teilfunktionen aufteilen!"
]
    },{
     "cell_type": "markdown",
     "metadata": {
        "slideshow": {
           "slide_type": "slide"
         } 
     }, 
     "source": ["<h1>Overview</h1> \n",
"\n",
"1. Überblick\n",
"1. Flexible Funktionsparameter und Rückgabewerte\n",
"1. Funktionen rufen Funktionen auf\n",
"1. Indirekte Rekursion\n",
"1. Direkte Rekursion\n",
"1. Funktionen und Software-Entwurf\n",
"1. **<font color=\"red\">Zusammenfassung</font>**"
]
    },{
     "cell_type": "markdown",
     "metadata": {
        "slideshow": {
           "slide_type": "slide"
         } 
     }, 
     "source": ["# Zusammenfassung\n",
"\n",
"-   Funktionen können Parameter in flexibler Form entgegen nehmen:\n",
"    default-Werte, variable Parameteranzahl, Aufruf mit Parameter-Namen\n",
"-   Funktionen können beliebige Typen zurückgeben, insbesondere Tuple\n",
"    -   Nützlich um mehrere unterschiedliche Werte als Resultat zu\n",
"        verwenden\n",
"-   Jeder **Funktionsaufruf** hat einen eigenen Namensraum, in dem Namen\n",
"    lokal existieren\n",
"    -   Entsteht bei Funktionsaufruf, zerstört bei Funktionsende\n",
"-   Der **Scope** eines Namens ist lexikalisch durch den Ort der Zuweisung\n",
"    an den Namen bestimmt\n",
"    -   Bei Nutzung eines Namens wird zunächst der lokale, dann der\n",
"        globale Scope besucht\n",
"-   Funktionen können direkte oder indirekte Rekursion nutzen\n",
"    -   Jeweils mit eigenem Namensraum"
]
    },{
     "cell_type": "markdown",
     "metadata": {
        "slideshow": {
           "slide_type": "slide"
         } 
     }, 
     "source": ["# Python-Keywords: Liste bis jetzt\n",
"\n",
"-   Bis jetzt:\n",
"    -   `True`, `False`, `and`, `or`,  `def`,  `return`, `None`\n",
"    -   `in`\n",
"    -   `if`, `else`, `pass`, `elif`, `while`, `for`, `break`, `continue`, `assert`\n",
"-   Neu:\n",
"    -   `global`\n",
"\n",
"  "
]
 }
],
 "metadata": {
  "celltoolbar": "Slideshow",
  "livereveal": {
        "theme": "simple",
        "transition": "none"
    },
  "kernelspec": {
   "display_name": "Python 3",
   "language": "python",
   "name": "python3"
  },
  "language_info": {
   "codemirror_mode": {
    "name": "ipython",
    "version": 3
   },
   "file_extension": ".py",
   "mimetype": "text/x-python",
   "name": "python",
   "nbconvert_exporter": "python",
   "pygments_lexer": "ipython3",
   "version": "3.5.1"
  }
 },
 "nbformat": 4,
 "nbformat_minor": 0
}