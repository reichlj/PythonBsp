{
"cells": [
 {
     "cell_type": "markdown",
     "metadata": {
        "slideshow": {
           "slide_type": "slide"
         } 
     }, 
     "source": ["<h1>Kapitel 13: Dateien, Module, Bibliotheken</h1>\n",
"<p>Grundlagen der Programmierung 1<p><h2>Holger Karl</h2>\n",
" "
]
    },{
     "cell_type": "markdown",
     "metadata": {
        "slideshow": {
           "slide_type": "slide"
         } 
     }, 
     "source": ["<h1>Overview</h1> \n",
"\n",
"1. Überblick\n",
"1. Dateien und Interpreter\n",
"1. Module\n",
"1. Standard-Bibliothek\n",
"1. Zusammenfassung \n",
" \n",
""
]
    },{
     "cell_type": "markdown",
     "metadata": {
        "slideshow": {
           "slide_type": "slide"
         } 
     }, 
     "source": ["<h1>Overview</h1> \n",
"\n",
"1. **<font color=\"red\">Überblick</font>**\n",
"1. Dateien und Interpreter\n",
"1. Module\n",
"1. Standard-Bibliothek\n",
"1. Zusammenfassung"
]
    },{
     "cell_type": "markdown",
     "metadata": {
        "slideshow": {
           "slide_type": "skip"
         } 
     }, 
     "source": ["# Setup\n",
"\n",
"Main point here is to set up warnings properly for presentation and to\n",
"load tutormagic, so that we can later on use pythontutor for code\n",
"animations. "
]
    },{
     "cell_type": "code",
     "metadata": {
        "slideshow": {
           "slide_type": "skip"
         } 
     }, 
"outputs": [],
"execution_count": null,
     "source": ["%load_ext tutormagic\n",
"import warnings\n",
"warnings.filterwarnings('ignore', category=DeprecationWarning, module='.*/IPython/.*')"
]
    },{
     "cell_type": "markdown",
     "metadata": {
        "slideshow": {
           "slide_type": "slide"
         } 
     }, 
     "source": ["# Was bisher geschah\n",
"\n",
"-   Wir haben (fast) alle wesentlichen Sprachmerkmale einer modernen\n",
"    Programmiersprache besprochen!\n",
"-   Wir haben wesentliche Programmiertechniken kennengelernt\n",
"-   Alles passierte bisher in Jupyter Notebooks"
]
    },{
     "cell_type": "markdown",
     "metadata": {
        "slideshow": {
           "slide_type": "slide"
         } 
     }, 
     "source": ["# Dieses Kapitel\n",
"\n",
"-   Wir verlassen den Schutz und Komfort von Jupyter Notebooks\n",
"-   Wir lassen Python Skripte in einem Rechner aus einer Datei laufen\n",
"-   Wir  nutzen Module, um Skripte wiederverwendbar zu machen\n",
"-   Wir schauen uns an\n",
"    -   die Python-Standardbibliothek\n",
"    -   Entwicklungsumgebungen\n",
"-   [Details hierzu in Python Doc](https://docs.python.org/3.5/tutorial/modules.html)"
]
    },{
     "cell_type": "markdown",
     "metadata": {
        "slideshow": {
           "slide_type": "slide"
         } 
     }, 
     "source": ["<h1>Overview</h1> \n",
"\n",
"1. Überblick\n",
"1. **<font color=\"red\">Dateien und Interpreter</font>**\n",
"1. Module\n",
"1. Standard-Bibliothek\n",
"1. Zusammenfassung"
]
    },{
     "cell_type": "markdown",
     "metadata": {
        "slideshow": {
           "slide_type": "slide"
         } 
     }, 
     "source": ["# Von Notebooks zu Dateien\n",
"\n",
"-   Bisher: All unser Code war in Notebooks abgelegt\n",
"-   Prima, aber doch eingeschränkt\n",
"-   Oft braucht man:\n",
"    -   Code wird in einer Datei abgelegt\n",
"    -   Von dort ausgeführt\n",
"    -   Ein *Skript*"
]
    },{
     "cell_type": "markdown",
     "metadata": {
        "slideshow": {
           "slide_type": "slide"
         } 
     }, 
     "source": ["# Python-Dateien: Skripte (*scripts*)\n",
"\n",
"Ein Skript ist: \n",
"\n",
"-   Eine Textdatei im Dateisystem eines Rechners\n",
"    -   Konvention: Endet mit `.py`\n",
"-   Besteht aus einer Folge von Anweisungen oder Ausdrücken\n",
"    -   Definition von Funktionen, Klassen\n",
"    -   Zuweisungen an Namen\n",
"    -   Instantiieren von Klassen\n",
"    -   Aufruf von Funktionen, Methoden\n",
"    -   &#x2026;\n",
"-   Gehorcht den Syntax-Regeln von Python\n",
"    -   Insbes.: Einrückungen durch vier Leerzeichen"
]
    },{
     "cell_type": "markdown",
     "metadata": {
        "slideshow": {
           "slide_type": "slide"
         } 
     }, 
     "source": ["# Skript ausführen\n",
"\n",
"-   Eine Textdatei kann nicht direkt ausgeführt werden\n",
"    -   (Solange es keine Mikroprozessoren gibt, die Python benutzen :-)\n",
"-   Wir brauchen ein ausführbares Programm, dass dieses Skript\n",
"    verarbeitet\n",
"-   Also: einen *Interpreter* für Python"
]
    },{
     "cell_type": "markdown",
     "metadata": {
        "slideshow": {
           "slide_type": "slide"
         } 
     }, 
     "source": ["# Interpreter"
]
    },{
     "cell_type": "markdown",
     "metadata": {
        "slideshow": {
           "slide_type": "-"
         } 
     }, 
     "source": ["<div class=\"definition-head\" style=\"border:3px; border-style:solid; border-color:#5da9e9; padding: 5px; background-color:#5da9e9;  line-height:1.5em; text-align:center; border-radius: 15px 15px 0px 0px; margin-bottom: 0; width: 100%;\"><b>Definition: Interpreter<a id=\"orgheadline12\"></a></b></div>\n",
"\n",
"Ein *Interpreter* ist ein direkt ausführbares Programm. Seine Aufgabe\n",
"ist es, Anweisungen in einer Sprache entgegen zu nehmen (z.B. Skripte\n",
"für Python) und zu verarbeiten. Das bedeutet, dass die Anweisungen\n",
"Schritt für Schritt analysiert werden und der Semantik der Sprache in\n",
"Aktionen umgesetzt werden (z.B. in Manipulation des Zustandes). \n",
"\n",
"Interpreter sind in der Regel auf eine Eingabesprache festgelegt. Man\n",
"spricht dann von einem *Python-Interpreter*, ein *Perl-Interpreter*,\n",
"etc. \n",
"\n",
"<div class=\"definition-content\" style=\"border:3px; border-style:solid; border-color:#5da9e9; padding: 5px; margin-top: 0; border-radius: 0px 0px 15px 15px; width: 100%; text-align:left\"></div>"
]
    },{
     "cell_type": "markdown",
     "metadata": {
        "slideshow": {
           "slide_type": "slide"
         } 
     }, 
     "source": ["# Compiler"
]
    },{
     "cell_type": "markdown",
     "metadata": {
        "slideshow": {
           "slide_type": "-"
         } 
     }, 
     "source": ["<div class=\"definition-head\" style=\"border:3px; border-style:solid; border-color:#5da9e9; padding: 5px; background-color:#5da9e9;  line-height:1.5em; text-align:center; border-radius: 15px 15px 0px 0px; margin-bottom: 0; width: 100%;\"><b>Definition: Compiler (im weiteren Sinne)<a id=\"orgheadline14\"></a></b></div>\n",
"\n",
"Ein Compiler nimmt, ähnlich wie ein Interpreter, ein Programm in einer\n",
"Sprache als Eingabe entgegen.  Er produziert daraus eine semantisch\n",
"identische Repräsentation des Programms in einer anderen Sprache. Man\n",
"sagt, das Programm wird *compiliert*. \n",
"\n",
"<div class=\"definition-content\" style=\"border:3px; border-style:solid; border-color:#5da9e9; padding: 5px; margin-top: 0; border-radius: 0px 0px 15px 15px; width: 100%; text-align:left\"></div>"
]
    },{
     "cell_type": "markdown",
     "metadata": {
        "slideshow": {
           "slide_type": "fragment"
         } 
     }, 
     "source": ["<div class=\"definition-head\" style=\"border:3px; border-style:solid; border-color:#5da9e9; padding: 5px; background-color:#5da9e9;  line-height:1.5em; text-align:center; border-radius: 15px 15px 0px 0px; margin-bottom: 0; width: 100%;\"><b>Definition: Compiler (im engeren Sinne)<a id=\"orgheadline15\"></a></b></div>\n",
"\n",
"Im engeren Sinne spricht man von einem Compiler, wenn die\n",
"Ausgabesprache des Compilers gleich der Maschinensprache eines\n",
"Mikroprozessors ist. Solche Compiler produzieren durch einen Rechner\n",
"direkt ausführbare Programme, die nicht mehr interpretiert werden\n",
"müssen. \n",
"\n",
"<div class=\"definition-content\" style=\"border:3px; border-style:solid; border-color:#5da9e9; padding: 5px; margin-top: 0; border-radius: 0px 0px 15px 15px; width: 100%; text-align:left\"></div>"
]
    },{
     "cell_type": "markdown",
     "metadata": {
        "slideshow": {
           "slide_type": "slide"
         } 
     }, 
     "source": ["# Interpreter mit Zwischensprache\n",
"\n",
"Häufige Technik: \n",
"\n",
"-   Interpreter übersetzt Programm zunächst in eine\n",
"    kompakte, effizient ausführbare Zwischenrepräsentation\n",
"    -   Führt also eine Compilation durch\n",
"-   Im zweiten Schritt wird dann diese Zwischenrepräsentation ausgeführt\n",
"-   Python-Interpreter nutzen in der Regal diese Technik"
]
    },{
     "cell_type": "markdown",
     "metadata": {
        "slideshow": {
           "slide_type": "slide"
         } 
     }, 
     "source": ["# Python-Interpreter\n",
"\n",
"-   Python-Interpreter für praktisch alle Betriebssysteme verfügbar\n",
"-   Namenskonvention\n",
"    -   `python` für eine `default`-Version\n",
"    -   `python2.6`, `python3.5`, usw für spezifische Versionen\n",
"    -   Wir brauchen eine `python3.3` oder neuer!"
]
    },{
     "cell_type": "markdown",
     "metadata": {
        "slideshow": {
           "slide_type": "slide"
         } 
     }, 
     "source": ["# Python-Skript ausführen\n",
"\n",
"-   Angenommen, wir haben ein Python Skript `skript.py` in einem\n",
"    Verzeichnis\n",
"-   Ausführung je nach Betriebssystem\n",
"-   Beispiel Linux/OS x:\n",
"    -   Kommandozeile: In einer *shell* in das Verzeichnis wechseln\n",
"        -   `$> python skript.py`\n",
"        -   Ausgabe erfolgt in die shell (sog. Standard-Ausgabe)\n",
"    -   Grafisch: Je nach Konfiguration Doppelklick auf Skript in einem\n",
"        Dateimanager\n",
"        -   Ausgabe: je nach Konfiguration :-(\n",
"-   Beispiel Windows:  [Viel Glück](https://docs.python.org/3.3/using/windows.html)\n",
"-   Siehe auch [Using the Python Interpreter](https://docs.python.org/3.5/tutorial/index.html)"
]
    },{
     "cell_type": "markdown",
     "metadata": {
        "slideshow": {
           "slide_type": "slide"
         } 
     }, 
     "source": ["# Python-Interpreter: Interaktiv\n",
"\n",
"Großer Vorteil einer interpretierten Sprache: Interaktive Nutzung!\n",
"\n",
"-   Interpreter als Programm *ohne* Skriptnamen starten\n",
"-   Interpreter erwartet als Eingabe eine Anweisung/Ausdruck\n",
"    -   Wird diese Ausführen\n",
"    -   Ergebnis ausgeben\n",
"    -   Auf nächste Anweisung/Ausdruck warten\n",
"-   Sog. **read/evaluate/print**-Schleife\n",
"    -   `help()` (mit Return) ist ein guter erster Schritt!"
]
    },{
     "cell_type": "code",
     "metadata": {
        "slideshow": {
           "slide_type": "-"
         } 
     }, 
"outputs": [],
"execution_count": null,
     "source": ["(jupyter) ~/tmp> python\n",
"Python 3.5.1 (v3.5.1:37a07cee5969, Dec  5 2015, 21:12:44)\n",
"[GCC 4.2.1 (Apple Inc. build 5666) (dot 3)] on darwin\n",
"Type \"help\", \"copyright\", \"credits\" or \"license\" for more information."
]
    },{
     "cell_type": "markdown",
     "metadata": {
        "slideshow": {
           "slide_type": "slide"
         } 
     }, 
     "source": ["<h1>Overview</h1> \n",
"\n",
"1. Überblick\n",
"1. Dateien und Interpreter\n",
"1. **<font color=\"red\">Module</font>**\n",
"1. Standard-Bibliothek\n",
"1. Zusammenfassung"
]
    },{
     "cell_type": "markdown",
     "metadata": {
        "slideshow": {
           "slide_type": "slide"
         } 
     }, 
     "source": ["# Code reuse?\n",
"\n",
"Wenn ein Skript nützlichen Code enthält, kann man diesen Code von\n",
"einem anderen Skript aus nutzen? \n",
"\n",
"-   Ohne den Code neu zu schreiben, ins neue Skript zu kopieren, &#x2026;"
]
    },{
     "cell_type": "markdown",
     "metadata": {
        "slideshow": {
           "slide_type": "slide"
         } 
     }, 
     "source": ["# Importieren\n",
"\n",
"Mechanismus: *Importieren*  von Code \n",
"\n",
"-   Syntax: `import dateiname`\n",
"    -   OHNE `.py`!\n",
"-   Semantik von `import`:\n",
"    -   Führe die Anweisung in der importierten Datei aus\n",
"    -   Füge die dabei entstehenden Namen aber *nicht* in den globalen\n",
"        Namensraum ein\n",
"    -   Sondern in einen Namensraum, der dem Dateinamen entspricht"
]
    },{
     "cell_type": "markdown",
     "metadata": {
        "slideshow": {
           "slide_type": "slide"
         } 
     }, 
     "source": ["# Importieren: Beispiel"
]
    },{
     "cell_type": "markdown",
     "metadata": {
        "slideshow": {
           "slide_type": "-"
         } 
     }, 
     "source": ["## Datei `bla.py`<a id=\"orgheadline23\"></a>"
]
    },{
     "cell_type": "code",
     "metadata": {
        "slideshow": {
           "slide_type": "-"
         } 
     }, 
"outputs": [],
"execution_count": null,
     "source": ["x = 42\n",
"def f():\n",
"    print(\"f aus Datei bla\")"
]
    },{
     "cell_type": "markdown",
     "metadata": {
        "slideshow": {
           "slide_type": "-"
         } 
     }, 
     "source": ["## Import<a id=\"orgheadline24\"></a>"
]
    },{
     "cell_type": "code",
     "metadata": {
        "slideshow": {
           "slide_type": "-"
         } 
     }, 
"outputs": [],
"execution_count": null,
     "source": ["import bla \n",
"\n",
"# es gibt kein globales x oder f; \n",
"# das hier würde zu Exceptions führen: \n",
"print(x) \n",
"f()\n",
"\n",
"# es gibt aber x und f im Namensraum bla\n",
"# also Zugriff wie üblich bei Namensräumen: \n",
"print(bla.x)\n",
"bla.f()"
]
    },{
     "cell_type": "markdown",
     "metadata": {
        "slideshow": {
           "slide_type": "slide"
         } 
     }, 
     "source": ["# Terminologie: Module vs. Skript\n",
"\n",
"Wird eine Datei:\n",
"\n",
"-   ausgeführt (`python skript.py`): Ein Skript\n",
"-   importiert (`import skript`): Ein *Modul*\n",
"\n",
"Die gleiche Datei kann beides sein  (und in der Regel: ist!) \n",
"\n",
"-   Nutzung entscheidet!"
]
    },{
     "cell_type": "markdown",
     "metadata": {
        "slideshow": {
           "slide_type": "slide"
         } 
     }, 
     "source": ["# Modul als Skript? Skript als Modul?\n",
"\n",
"Wenn die Nutzung entscheidet &#x2013; kann eine Datei sich\n",
"ggf. unterschiedlich verhalten? \n",
"\n",
"-   Beispiele\n",
"    -   Testen:\n",
"        -   Datei ist eigentlich ein Modul; stellt Funktionen/Klassen\n",
"            zur Verfügung\n",
"        -   Bei Aufruf als Skript: Testfunktionen laufen lassen\n",
"    -   Double-Use:\n",
"        -   Datei ist primär zum Einsatz  als Skript gedacht\n",
"        -   Hat aber Funktionen entwickelt, die auch allgemein nützlich sein\n",
"            könnten"
]
    },{
     "cell_type": "markdown",
     "metadata": {
        "slideshow": {
           "slide_type": "slide"
         } 
     }, 
     "source": ["# Modul vs. Skript: `__name__`\n",
"\n",
"Einfache Unterscheidung: Der (vordefinierte) Name  `__name__` hat\n",
"unterschiedliche Werte: \n",
"\n",
"-   Als Skript: `__name__` referenziert die Zeichenkette `__main__`\n",
"-   Als Modul, bei `import`:  `__name__` referenziert den Dateinamen\n",
"    (ohne `.py`)\n",
"\n",
"Häufiges Idiom: "
]
    },{
     "cell_type": "code",
     "metadata": {
        "slideshow": {
           "slide_type": "-"
         } 
     }, 
"outputs": [],
"execution_count": null,
     "source": ["# ... allgemeiner Code für Modul\n",
"# Klassen, Funktionen definiernen,\n",
"# allgemeine Namen festlegen \n",
"\n",
"if __name__ = \"__main__\": \n",
"    # Code für Skript \n",
"    # Nutzt meist oben festgelegte Funktionen, ...\n",
"    # Namensraum: global!"
]
    },{
     "cell_type": "markdown",
     "metadata": {
        "slideshow": {
           "slide_type": "slide"
         } 
     }, 
     "source": ["# Nur bestimmte Namen importieren: `from ... import`\n",
"\n",
"Manchmal sinnvoll: Nur einzelne Namen eines Moduls importieren \n",
"\n",
"-   Und diese dann in den `global`-Namensraum integrieren\n",
"-   Anweisung: `from modulname import gewünschter Name`\n",
"\n",
"Beispiel (`sys` ist ein vordefiniertes Modul, siehe unten): "
]
    },{
     "cell_type": "code",
     "metadata": {
        "slideshow": {
           "slide_type": "-"
         } 
     }, 
"outputs": [],
"execution_count": null,
     "source": ["from sys import argv\n",
"print(argv)"
]
    },{
     "cell_type": "markdown",
     "metadata": {
        "slideshow": {
           "slide_type": "slide"
         } 
     }, 
     "source": ["# Welche Namen hat ein Modul?\n",
"\n",
"Man kann ein Modul nach seinen Namen fragen:  `dir(modulname)`\n",
"\n",
"-   Nachdem es importiert wurde (dynamische Namen!)"
]
    },{
     "cell_type": "code",
     "metadata": {
        "slideshow": {
           "slide_type": "-"
         } 
     }, 
"outputs": [],
"execution_count": null,
     "source": ["import sys, builtins\n",
"print(dir(sys))\n",
"print(dir(builtins))"
]
    },{
     "cell_type": "markdown",
     "metadata": {
        "slideshow": {
           "slide_type": "slide"
         } 
     }, 
     "source": ["# Hilfe zu einem Modul\n",
"\n",
"Umfangreiche Module bieten oft direkt Hilfe an: `help` eingebaute\n",
"Funktion "
]
    },{
     "cell_type": "code",
     "metadata": {
        "slideshow": {
           "slide_type": "-"
         } 
     }, 
"outputs": [],
"execution_count": null,
     "source": ["import sys\n",
"help(sys)"
]
    },{
     "cell_type": "markdown",
     "metadata": {
        "slideshow": {
           "slide_type": "slide"
         } 
     }, 
     "source": ["# Suchregeln  für Module\n",
"\n",
"Wo werden die Dateien für Module bei `import` gesucht? \n",
"\n",
"1.  Unter den eingebauten Namen (`builtins`)\n",
"2.  Suche in den Verzeichnissen, die in Aufzählung `sys.path` enthalten; defaults\n",
"    dafür: \n",
"    1.  Verzeichnis, aus dem das gerade laufende  Skript stammt\n",
"    2.  Verzeichnisse in der Umgebungsvariable `PYTHONPATH`\n",
"    3.  Weitere defaults, je nach Installation"
]
    },{
     "cell_type": "markdown",
     "metadata": {
        "slideshow": {
           "slide_type": "slide"
         } 
     }, 
     "source": ["# Packages\n",
"\n",
"-   Ein Modul fasst Code zu einer Datei zusammen; erlaubt\n",
"    Wiederbenutzung\n",
"-   Muss ich dann allen Code für Wiederbenutzung in eine Datei packen?\n",
"    -   Zu groß?\n",
"-   Packages: Fassen mehrere Module zu einer wiederbenutzbaren Einheit\n",
"    zusammen\n",
"    -   Insbes.: Packages haben eigenen Namensraum, analog zu Moulden\n",
"-   Siehe  [Python  Doc zu Packages](https://docs.python.org/3.5/tutorial/modules.html#packages) für Details"
]
    },{
     "cell_type": "markdown",
     "metadata": {
        "slideshow": {
           "slide_type": "slide"
         } 
     }, 
     "source": ["<h1>Overview</h1> \n",
"\n",
"1. Überblick\n",
"1. Dateien und Interpreter\n",
"1. Module\n",
"1. **<font color=\"red\">Standard-Bibliothek</font>**\n",
"1. Zusammenfassung"
]
    },{
     "cell_type": "markdown",
     "metadata": {
        "slideshow": {
           "slide_type": "slide"
         } 
     }, 
     "source": ["# Standard-Module\n",
"\n",
"-   Schon einige Beispiele vordefinierter Module: `sys`, `builtins`\n",
"-   Das sind ganz normale Module (oder Packages); sie sind nur schon in\n",
"    einer Installation enthalten\n",
"-   Python zeichnet sich durch sehr umfangreichen Satz an\n",
"    Standard-Modulen aus\n",
"    -   Motto: *Batteries included*\n",
"-   Hier einige Beispiele; siehe [Tutorial 1](https://docs.python.org/3.5/tutorial/stdlib.html), [Tutorial 2](https://docs.python.org/3.5/tutorial/stdlib2.html) und\n",
"    [umfangreiche Referenz](https://docs.python.org/3.5/library/index.html) für Details"
]
    },{
     "cell_type": "markdown",
     "metadata": {
        "slideshow": {
           "slide_type": "slide"
         } 
     }, 
     "source": ["# Standard-Modul: `os`, `shutil`\n",
"\n",
"Interaktion mit Betriebssystem\n",
"\n",
"-   `os`: Arbeiten mit Dateien, Prozessen, &#x2026;\n",
"-   `shutil`: Bildet typische Aktionen der Shell nach"
]
    },{
     "cell_type": "markdown",
     "metadata": {
        "slideshow": {
           "slide_type": "slide"
         } 
     }, 
     "source": ["# Standard-Modul: Kommandozeilen-Argumente\n",
"\n",
"Starten eines Skripts aus Kommandozeile einer Shell\n",
"\n",
"-   Option:  Parameter an das Programm übergeben\n",
"-   Durch Modul `sys` via Name `sys.argv` verfügbar"
]
    },{
     "cell_type": "markdown",
     "metadata": {
        "slideshow": {
           "slide_type": "slide"
         } 
     }, 
     "source": ["# Standard-Modul: Reguläre Ausdrücke\n",
"\n",
"Schweitzer Taschenmesser zur Textmanipulation: `re` \n",
"\n",
"-   Alternative für einfache Fälle: Methode der Klasse `string` benutzen"
]
    },{
     "cell_type": "code",
     "metadata": {
        "slideshow": {
           "slide_type": "-"
         } 
     }, 
"outputs": [],
"execution_count": null,
     "source": ["import re\n",
"print(re.findall(r'f[a-z]*', 'which foot or hand fell fastest'))\n",
"print(re.sub('([a-z]+) \\1', '\\1', 'cat in the the hat'))\n",
"print('tea for too'.replace('too', 'two'))"
]
    },{
     "cell_type": "markdown",
     "metadata": {
        "slideshow": {
           "slide_type": "slide"
         } 
     }, 
     "source": ["# Behold the power of regular expressions\n",
"\n",
"<center>![img](./figures/xkcd-regex_golf.png \"Regular expressions golf\")</center>"
]
    },{
     "cell_type": "markdown",
     "metadata": {
        "slideshow": {
           "slide_type": "slide"
         } 
     }, 
     "source": ["# Weitere Standard-Module\n",
"\n",
"-   Datum und Zeit: `datetime`, `time`\n",
"-   Testing: `doctest`, `unittest`\n",
"-   Mathe: `math`, `random`, `statistics`\n",
"-   Ausgabe: `pprint`\n",
"-   Template, Multi-Threading, Logging, &#x2026;"
]
    },{
     "cell_type": "markdown",
     "metadata": {
        "slideshow": {
           "slide_type": "slide"
         } 
     }, 
     "source": ["<h1>Overview</h1> \n",
"\n",
"1. Überblick\n",
"1. Dateien und Interpreter\n",
"1. Module\n",
"1. Standard-Bibliothek\n",
"1. **<font color=\"red\">Zusammenfassung</font>**"
]
    },{
     "cell_type": "markdown",
     "metadata": {
        "slideshow": {
           "slide_type": "slide"
         } 
     }, 
     "source": ["# Zusammenfassung\n",
"\n",
"-   Python-Programme in Dateien: als Skripte oder  Module nutzen\n",
"-   Ausführung zweistufig:\n",
"    -   Übersetzung in Zwischensprache\n",
"    -   Interpretation dieser Sprache\n",
"-   *Batteries included*: Umfangreiche, sehr nützliche Sammlung von\n",
"    Standard-Modulen\n",
"    -   Plus zahlreiche weitere Module\n",
"\n",
"  "
]
 }
],
 "metadata": {
  "celltoolbar": "Slideshow",
  "livereveal": {
        "theme": "simple",
        "transition": "none"
    },
  "kernelspec": {
   "display_name": "Python 3",
   "language": "python",
   "name": "python3"
  },
  "language_info": {
   "codemirror_mode": {
    "name": "ipython",
    "version": 3
   },
   "file_extension": ".py",
   "mimetype": "text/x-python",
   "name": "python",
   "nbconvert_exporter": "python",
   "pygments_lexer": "ipython3",
   "version": "3.5.1"
  }
 },
 "nbformat": 4,
 "nbformat_minor": 0
}