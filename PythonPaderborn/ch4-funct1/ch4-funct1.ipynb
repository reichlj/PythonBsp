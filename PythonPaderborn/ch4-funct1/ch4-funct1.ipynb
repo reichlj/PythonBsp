{
"cells": [
 {
     "cell_type": "markdown",
     "metadata": {
        "slideshow": {
           "slide_type": "slide"
         } 
     }, 
     "source": ["<h1>Kapitel 4: Funktionen, Teil 1</h1>\n",
"<p>Grundlagen der Programmierung 1<p><h2>Holger Karl</h2>\n",
" "
]
    },{
     "cell_type": "markdown",
     "metadata": {
        "slideshow": {
           "slide_type": "slide"
         } 
     }, 
     "source": ["<h1>Overview</h1> \n",
"\n",
"1. Überblick\n",
"1. Wiederkehrende Anweisungen\n",
"1. Funktionen definieren\n",
"1. Aufruf\n",
"1. Rückgabewert\n",
"1. Parameter\n",
"1. Seiteneffekt\n",
"1. Randbemerkungen, Zusammenfassung \n",
" \n",
""
]
    },{
     "cell_type": "markdown",
     "metadata": {
        "slideshow": {
           "slide_type": "slide"
         } 
     }, 
     "source": ["<h1>Overview</h1> \n",
"\n",
"1. **<font color=\"red\">Überblick</font>**\n",
"1. Wiederkehrende Anweisungen\n",
"1. Funktionen definieren\n",
"1. Aufruf\n",
"1. Rückgabewert\n",
"1. Parameter\n",
"1. Seiteneffekt\n",
"1. Randbemerkungen, Zusammenfassung"
]
    },{
     "cell_type": "markdown",
     "metadata": {
        "slideshow": {
           "slide_type": "slide"
         } 
     }, 
     "source": ["# Dieses Kapitel\n",
"\n",
"-   Wir fassen wiederkehrende Anweisungen zu ***Funktionen*** zusammen\n",
"-   Funktionen können ***aufgerufen*** werden\n",
"-   An einen Funktionsaufruf kann man ***Argumente*** übergeben\n",
"-   Dieses Kapitel: nur einfache Formen des Aufrufs\n",
"    -   Wir erweitern diese Konzepte in einem späteren Kapitel"
]
    },{
     "cell_type": "markdown",
     "metadata": {
        "slideshow": {
           "slide_type": "skip"
         } 
     }, 
     "source": ["# Setup\n",
"\n",
"Main point here is to set up warnings properly for presentation and to\n",
"load tutormagic, so that we can later on use pythontutor for code\n",
"animations. "
]
    },{
     "cell_type": "code",
     "metadata": {
        "slideshow": {
           "slide_type": "skip"
         } 
     }, 
"outputs": [],
"execution_count": null,
     "source": ["%load_ext tutormagic\n",
"import warnings\n",
"warnings.filterwarnings('ignore', category=DeprecationWarning, module='.*/IPython/.*')\n",
"\n",
"import requests\n",
"import webbrowser\n",
"from IPython.core.magic import register_line_magic\n",
"\n",
"pingo_token = \"BRx9QJP7rjdUGBq3x4hP\"\n",
"\n",
"# Test-Session: \n",
"pingo_url = \"https://pingo.upb.de/events/311055/quick_start.json\"\n",
"# Produktiv-Session: \n",
"# pingo_url = \"https://pingo.upb.de/events/204051/quick_start.json\"\n",
"\n",
"pingo_duration = '120'\n",
"pingo_type = \"single\"\n",
"\n",
"\n",
"@register_line_magic\n",
"def pingo(line):\n",
"    params = {'survey_name': pingo_title, \n",
"              'predef_options': pingo_questions, \n",
"              'q_type': pingo_type,\n",
"              'duration': pingo_duration, \n",
"              'auth_token': pingo_token}\n",
"\n",
"    r = requests.post(pingo_url, json=params)\n",
"    webbrowser.open_new_tab(\"https://pingo.upb.de\" + r.headers['Location'])"
]
    },{
     "cell_type": "markdown",
     "metadata": {
        "slideshow": {
           "slide_type": "slide"
         } 
     }, 
     "source": ["<h1>Overview</h1> \n",
"\n",
"1. Überblick\n",
"1. **<font color=\"red\">Wiederkehrende Anweisungen</font>**\n",
"1. Funktionen definieren\n",
"1. Aufruf\n",
"1. Rückgabewert\n",
"1. Parameter\n",
"1. Seiteneffekt\n",
"1. Randbemerkungen, Zusammenfassung"
]
    },{
     "cell_type": "markdown",
     "metadata": {
        "slideshow": {
           "slide_type": "slide"
         } 
     }, 
     "source": ["# Wiederkehrende Anweisungen\n",
"\n",
"-   Angenommen, die gleiche Folge von Anweisungen taucht immer wieder\n",
"    auf \n",
"    -   Eventuell mit kleinen Variationen\n",
"-   Beispiele:\n",
"    -   Mathematische Funktionen ausrechnen ($\\sin$ etc.)\n",
"    -   Datei zeilenweise auslesen\n",
"    -   &#x2026;\n",
"-   Jedes Mal neu eintippen?\n",
"    -   Programming by Copy/Paste??"
]
    },{
     "cell_type": "markdown",
     "metadata": {
        "slideshow": {
           "slide_type": "slide"
         } 
     }, 
     "source": ["# Funktionen\n",
"\n",
"-   Idee: Wiederkehrende Anweisungen nur ein Mal aufschreiben\n",
"-   Von verschiedenen Stellen eines Programs aus nutzbar machen\n",
"-   Gründe:\n",
"    -   Wiederbenutzung erhöhen\n",
"    -   Redundanz verringern\n",
"    -   Zerteilen eines Problems in kleinere Teile"
]
    },{
     "cell_type": "markdown",
     "metadata": {
        "slideshow": {
           "slide_type": "subslide"
         } 
     }, 
     "source": ["# Problem zerteilen: Kuchen backen\n",
"\n",
"-   Mache den Teig\n",
"-   Mache den Belag\n",
"-   Buttere die Form\n",
"-   Stelle Form in Ofen"
]
    },{
     "cell_type": "markdown",
     "metadata": {
        "slideshow": {
           "slide_type": "subslide"
         } 
     }, 
     "source": ["# Problem zerteilen: Kuchen backen\n",
"\n",
"-   Mache den Teig\n",
"    -   Wiege das Mehl\n",
"    -   Wiege den Zucker\n",
"    -   Trenne die Eier\n",
"    -   Schlage Eischnee\n",
"    -   Schlage Eigelb und Zucker\n",
"    -   &#x2026;\n",
"-   Mache den Belag \n",
"    -   &#x2026;\n",
"-   Buttere die Form\n",
"-   Stelle Form in Ofen"
]
    },{
     "cell_type": "markdown",
     "metadata": {
        "slideshow": {
           "slide_type": "subslide"
         } 
     }, 
     "source": ["# Problem zerteilen: Programmiertechnik\n",
"\n",
"-   Die meisten Programmieraufgaben sind zu groß, um direkt gelöst zu\n",
"    werden\n",
"-   Stattdessen: Suche eine Aufteilung in kleinere Teile\n",
"-   Die möglicherweise immer noch zu groß sind\n",
"    -   Dann diese weiter unterteilen\n",
"    -   Bis handhabbar\n",
"-   Schließlich: Setze die Lösung aus den Einzelteilen zusammen\n",
"\n",
"Sog. ***prozedurale Dekomposition***"
]
    },{
     "cell_type": "markdown",
     "metadata": {
        "slideshow": {
           "slide_type": "slide"
         } 
     }, 
     "source": ["# Funktionen\n",
"\n",
"-   Teillösungen sind ***Funktionen***\n",
"-   Wir müssen uns überlegen:\n",
"    -   Wie erstellen wir eine neue Funktion?\n",
"    -   Wie benutzen wir eine vorhandene Funktion?"
]
    },{
     "cell_type": "markdown",
     "metadata": {
        "slideshow": {
           "slide_type": "slide"
         } 
     }, 
     "source": ["<h1>Overview</h1> \n",
"\n",
"1. Überblick\n",
"1. Wiederkehrende Anweisungen\n",
"1. **<font color=\"red\">Funktionen definieren</font>**\n",
"1. Aufruf\n",
"1. Rückgabewert\n",
"1. Parameter\n",
"1. Seiteneffekt\n",
"1. Randbemerkungen, Zusammenfassung"
]
    },{
     "cell_type": "markdown",
     "metadata": {
        "slideshow": {
           "slide_type": "slide"
         } 
     }, 
     "source": ["# Name für Folge von Anweisungen\n",
"\n",
"Wir brauchen: \n",
"\n",
"-   Einen Namen für eine Folge von Anweisungen &#x2013; ein Namensschild\n",
"-   Ähnlich wie Zuweisung: Ein Name für einen Wert\n",
"    -   `Name = Wert`\n",
"\n",
"Also: \n",
"\n",
"-   `Name für Funktion = Folge von Anweisungen` ?\n",
"-   Aber Gleichheitszeichen `=` ja schon benutzt??"
]
    },{
     "cell_type": "markdown",
     "metadata": {
        "slideshow": {
           "slide_type": "slide"
         } 
     }, 
     "source": ["# Neue Anweisung: `def`\n",
"\n",
"Wir brauchen eine neue Anweisung: `def`\n",
"\n",
"-   Unsere zweite Anweisung nach `=`\n",
"-   Ähnlich: Name, Wert"
]
    },{
     "cell_type": "markdown",
     "metadata": {
        "slideshow": {
           "slide_type": "slide"
         } 
     }, 
     "source": ["# Beispiel für `def`"
]
    },{
     "cell_type": "code",
     "metadata": {
        "slideshow": {
           "slide_type": "-"
         } 
     }, 
"outputs": [],
"execution_count": null,
     "source": ["def meine_funktion():\n",
"    x = 42\n",
"    y = x/2\n",
"    # usw... weitere Anweisungen"
]
    },{
     "cell_type": "markdown",
     "metadata": {
        "slideshow": {
           "slide_type": "slide"
         } 
     }, 
     "source": ["# `def`"
]
    },{
     "cell_type": "markdown",
     "metadata": {
        "slideshow": {
           "slide_type": "-"
         } 
     }, 
     "source": ["<div class=\"definition-head\" style=\"border:3px; border-style:solid; border-color:#5da9e9; padding: 5px; background-color:#5da9e9;  line-height:1.5em; text-align:center; border-radius: 15px 15px 0px 0px; margin-bottom: 0; width: 100%;\"><b>Definition: Anweisung zur Definition einer Funktion<a id=\"orgheadline20\"></a></b></div>\n",
"\n",
"Die Anweisung `def` verbindet einen (ggf. neuen) Namen (für eine Funktion) mit\n",
"einer Folge von Anweisungen.  \n",
"\n",
"-   Der Name *referenziert* diese Anweisungsfolge.\n",
"-   Durch die Schaffung dieses Namens wird der Programmzustand geändert.\n",
"-   Namen für Funktionen folgen den Syntaxregeln der Namen \n",
"    (gleiche Bezeichner).\n",
"\n",
"<div class=\"definition-content\" style=\"border:3px; border-style:solid; border-color:#5da9e9; padding: 5px; margin-top: 0; border-radius: 0px 0px 15px 15px; width: 100%; text-align:left\"></div>"
]
    },{
     "cell_type": "markdown",
     "metadata": {
        "slideshow": {
           "slide_type": "slide"
         } 
     }, 
     "source": ["# `def`: Syntaxregel  (1)"
]
    },{
     "cell_type": "markdown",
     "metadata": {
        "slideshow": {
           "slide_type": "-"
         } 
     }, 
     "source": ["<div class=\"definition-head\" style=\"border:3px; border-style:solid; border-color:#5da9e9; padding: 5px; background-color:#5da9e9;  line-height:1.5em; text-align:center; border-radius: 15px 15px 0px 0px; margin-bottom: 0; width: 100%;\"><b>Definition: Syntax für `def` (Teil 1)<a id=\"orgheadline22\"></a></b></div>\n",
"\n",
"-   Der Anweisung `def` folgt in der gleichen Zeile \n",
"    -   der zu definierende Funktionsname\n",
"    -   ein Klammerpaar `()`\n",
"    -   und ein Doppelpunkt `:`\n",
"-   Die Anweisungsfolge kommt in den folgenden Zeilen\n",
"    -   **eingerückt** um vier Leerzeichen\n",
"\n",
"<div class=\"definition-content\" style=\"border:3px; border-style:solid; border-color:#5da9e9; padding: 5px; margin-top: 0; border-radius: 0px 0px 15px 15px; width: 100%; text-align:left\"></div>"
]
    },{
     "cell_type": "markdown",
     "metadata": {
        "slideshow": {
           "slide_type": "slide"
         } 
     }, 
     "source": ["# Namenskonvention für Funktionsnamen\n",
"\n",
"-   Syntaxregel für Funktionsnamen: Wie für sonstige Namen\n",
"-   Konvention: \n",
"    -   Kleinbuchstaben am Anfang\n",
"    -   Mehrere Worte durch `_` verbunden"
]
    },{
     "cell_type": "markdown",
     "metadata": {
        "slideshow": {
           "slide_type": "subslide"
         } 
     }, 
     "source": ["# Schlüsselwort: `def`\n",
"\n",
"-   `def` hat offenbar Sonderrolle\n",
"-   Als normaler Name benutzbar?\n",
"-   **Nein!** \n",
"    -   Ein weiteres Schlüsselwort!"
]
    },{
     "cell_type": "markdown",
     "metadata": {
        "slideshow": {
           "slide_type": "subslide"
         } 
     }, 
     "source": ["# Python-Schlüsselworte bis jetzt\n",
"\n",
"-   `True`, `False`\n",
"-   `and`, `or`\n",
"-   `def`"
]
    },{
     "cell_type": "markdown",
     "metadata": {
        "slideshow": {
           "slide_type": "slide"
         } 
     }, 
     "source": ["# Einrückung?\n",
"\n",
"-   Durch die Einrückung sind die Anweisungen bestimmt, die mit dem\n",
"    Funktionsnamen verbunden werden\n",
"-   Ende der Einrückung: Ende der Funktionsdefinition\n",
"-   Darauf folgt: Einrückungen wichtig für Struktur\n",
"    -   Python: Willkürliches Ein-/Ausrücken fehlerhaft!"
]
    },{
     "cell_type": "markdown",
     "metadata": {
        "slideshow": {
           "slide_type": "slide"
         } 
     }, 
     "source": ["# Visuelle Struktur\n",
"\n",
"-   Python-Programme sind durch Einrückungen strukturiert\n",
"-   Wir brauchen keine zusätzlichen Strukturelemente\n",
"    -   Wie beispielsweise Klammern `{` oder `}`\n",
"\n",
"-   Kompakte, leicht zu lesende Ausdrucksweise!"
]
    },{
     "cell_type": "markdown",
     "metadata": {
        "slideshow": {
           "slide_type": "slide"
         } 
     }, 
     "source": ["# Einrückung: Beispiel"
]
    },{
     "cell_type": "code",
     "metadata": {
        "slideshow": {
           "slide_type": "-"
         } 
     }, 
"outputs": [],
"execution_count": null,
     "source": ["%%tutor -t\n",
"def f():\n",
"    x = 5\n",
"    y = 17\n",
"    # weitere Anweisungen\n",
"\n",
"# Definition von f zu Ende!\n",
"\n",
"def g():\n",
"    a = 1\n",
"    b = a+1\n",
"    # usw\n",
"\n",
"# Definition von g zu Ende!\n",
"z = 42"
]
    },{
     "cell_type": "markdown",
     "metadata": {
        "slideshow": {
           "slide_type": "fragment"
         } 
     }, 
     "source": ["## Wieviele Anweisungen hier ausgeführt?<a id=\"orgheadline29\"></a>"
]
    },{
     "cell_type": "code",
     "metadata": {
        "slideshow": {
           "slide_type": "-"
         } 
     }, 
"outputs": [],
"execution_count": null,
     "source": ["pingo_title = \"Wieviele Anweisungen hier ausgeführt?\" \n",
"pingo_questions = [\"1\", \"2\", \"3\", \"7\"]\n",
"\n",
"%pingo"
]
    },{
     "cell_type": "markdown",
     "metadata": {
        "slideshow": {
           "slide_type": "slide"
         } 
     }, 
     "source": ["# Visualisierung: Was passiert?\n",
"\n",
"-   Beim Ablauf des obigen Beispiels: **drei** Anweisungen ausgeführt!\n",
"    1.  Die Definition von `f` und Herstellung der Referenz auf\n",
"        Anweisungen\n",
"    2.  Entsprechend: die Definition von `g`\n",
"    3.  Die Zuweisung `z = 42`\n",
"-   Zustand des Programms: Namen `f`, `g` und `z` referenzieren Werte"
]
    },{
     "cell_type": "markdown",
     "metadata": {
        "slideshow": {
           "slide_type": "slide"
         } 
     }, 
     "source": ["# Starke Analogie: Name, Funktionsname\n",
"\n",
"-   Die Analogie zwischen Zuweisung und Funktionsdefinition ist sehr eng!\n",
"\n",
"-   Funktionsnamen benehmen sich nahezu identisch zu Namen für Werte\n",
"\n",
"-   Aber Notation doch recht unterschiedlich?"
]
    },{
     "cell_type": "markdown",
     "metadata": {
        "slideshow": {
           "slide_type": "slide"
         } 
     }, 
     "source": ["# Sprechweise: Objekt\n",
"\n",
"-   Wir haben Namen für Werte, für Folgen von Anweisungen, usw.\n",
"-   Das wird unübersichtlich!"
]
    },{
     "cell_type": "markdown",
     "metadata": {
        "slideshow": {
           "slide_type": "fragment"
         } 
     }, 
     "source": ["## Verallgemeinerung: Objekt<a id=\"orgheadline33\"></a>\n",
"\n",
"-   Verallgemeinern wir die Sprechweise: Objekte\n",
"    -   Wenn es auf die Unterscheidung nicht ankommt\n",
"    -   Werte sind Objekte\n",
"    -   Folgen von Anweisungen sind Objekte\n",
"    -   &#x2026;\n",
"-   Wir haben: Namen für ***Objekte***"
]
    },{
     "cell_type": "markdown",
     "metadata": {
        "slideshow": {
           "slide_type": "slide"
         } 
     }, 
     "source": ["# `def` definiert ein Objekt\n",
"\n",
"-   Damit Analogie zwischen `=` und `def` noch enger\n",
"    -   Eine Zuweisung `=` erzeugt ein Objekt und bindet den Namen daran\n",
"        -   Das Objekt ist hier der Wert\n",
"    -   Eine Funktionsdefinition erzeugt ein Objekt und bindet den Namen\n",
"        daran\n",
"        -   Das Objekt ist hier die Folge von Anweisungen\n",
"\n",
"-   Funktionen (=Folge der Anweisungen) benehmen sich nur wenig anders\n",
"    als normale Werte!"
]
    },{
     "cell_type": "markdown",
     "metadata": {
        "slideshow": {
           "slide_type": "slide"
         } 
     }, 
     "source": ["<h1>Overview</h1> \n",
"\n",
"1. Überblick\n",
"1. Wiederkehrende Anweisungen\n",
"1. Funktionen definieren\n",
"1. **<font color=\"red\">Aufruf</font>**\n",
"1. Rückgabewert\n",
"1. Parameter\n",
"1. Seiteneffekt\n",
"1. Randbemerkungen, Zusammenfassung"
]
    },{
     "cell_type": "markdown",
     "metadata": {
        "slideshow": {
           "slide_type": "slide"
         } 
     }, 
     "source": ["# Aufruf einer Funktion\n",
"\n",
"-   Funktionsfolgen mit Namen versehen: Toll!\n",
"-   Aber wie nutzen?\n",
"-   Genauer: Wie dafür sorgen, dass die Anweisungen einer Funktion an\n",
"    einer Stelle im Programm ausgeführt werden?\n",
"    -   Einen *Funktionsaufruf* durchführen"
]
    },{
     "cell_type": "markdown",
     "metadata": {
        "slideshow": {
           "slide_type": "slide"
         } 
     }, 
     "source": ["# Aufruf einer Funktion: Syntax\n",
"\n",
"-   Einfache Syntax: Den Funktionsnamen und ein Klammerpaar hinschreiben\n",
"-   Als Teil eines Ausdrucks\n",
"-   Beispiel:"
]
    },{
     "cell_type": "code",
     "metadata": {
        "slideshow": {
           "slide_type": "-"
         } 
     }, 
"outputs": [],
"execution_count": null,
     "source": ["%%tutor -t \n",
"def f():\n",
"    x = 42\n",
"    y = 17\n",
"\n",
"# hier wird aufgerufen\n",
"z = \"vorher\"\n",
"f()\n",
"z = \"nachher\""
]
    },{
     "cell_type": "markdown",
     "metadata": {
        "slideshow": {
           "slide_type": "slide"
         } 
     }, 
     "source": ["# Aufruf einer Funktion: Semantik\n",
"\n",
"Wir erweitern das Ausführungsmodell:"
]
    },{
     "cell_type": "markdown",
     "metadata": {
        "slideshow": {
           "slide_type": "-"
         } 
     }, 
     "source": ["<div class=\"definition-head\" style=\"border:3px; border-style:solid; border-color:#5da9e9; padding: 5px; background-color:#5da9e9;  line-height:1.5em; text-align:center; border-radius: 15px 15px 0px 0px; margin-bottom: 0; width: 100%;\"><b>Definition: Aufruf einer Funktion: Semantik (v1)<a id=\"orgheadline38\"></a></b></div>\n",
"\n",
"-   Aufruf der Funktion: Programm mit den Anweisungen der Funktion\n",
"    fortsetzen\n",
"    -   Vorstellung: Der Aufruf der Funktion wird durch die Anweisungen\n",
"        der Funktion ersetzt und wird dann ausgeführt\n",
"-   Nach Ausführung der letzten Anweisung der Funktion: Mit der\n",
"    Anweisung nach dem Aufruf weitermachen\n",
"\n",
"<div class=\"definition-content\" style=\"border:3px; border-style:solid; border-color:#5da9e9; padding: 5px; margin-top: 0; border-radius: 0px 0px 15px 15px; width: 100%; text-align:left\"></div>"
]
    },{
     "cell_type": "markdown",
     "metadata": {
        "slideshow": {
           "slide_type": "slide"
         } 
     }, 
     "source": ["# Aufruf einer Funktion: Semantik"
]
    },{
     "cell_type": "markdown",
     "metadata": {
        "slideshow": {
           "slide_type": "-"
         } 
     }, 
     "source": ["<div class=\"alertblock-head\" style=\"border:3px; border-style:solid; border-color:#f96900; padding: 5px; background-color:#f96900;  line-height:1.5em; text-align:center; border-radius: 15px 15px 0px 0px; margin-bottom: 0; width: 100%;\"><b>Achtung! Das ist nur eine erste Vorstellung<a id=\"orgheadline40\"></a></b></div>\n",
"\n",
"Die Definition hier ist unvollständig und nicht ganz korrekt. Wir\n",
"brauchen dazu noch ein paar Erweiterungen! \n",
"\n",
"<div class=\"alertblock-content\" style=\"border:3px; border-style:solid; border-color:#f96900; padding: 5px; margin-top: 0;  line-height:1.5em; border-radius: 0px 0px 15px 15px; width: 100%; text-align:left\"></div> "
]
    },{
     "cell_type": "markdown",
     "metadata": {
        "slideshow": {
           "slide_type": "slide"
         } 
     }, 
     "source": ["# Namen: Lebensdauer\n",
"\n",
"-   Was passiert mit `x` und `y` aus der Funktion?\n",
"-   Verschwinden nach Rückkehr aus der Funktion!"
]
    },{
     "cell_type": "markdown",
     "metadata": {
        "slideshow": {
           "slide_type": "fragment"
         } 
     }, 
     "source": ["## Lebensdauer?<a id=\"orgheadline42\"></a>\n",
"\n",
"-   Name, an den innerhalb einer Funktion zugewiesen\n",
"    wird, ist **lokal** zu dieser Funktion\n",
"    -   Existiert nur, solange Anweisungen dieser Funktion ausgeführt\n",
"        werden\n",
"    -   Verschwindet nach Ende der Funktion\n",
"        -   (bis auf Ausnahmen, siehe später)"
]
    },{
     "cell_type": "markdown",
     "metadata": {
        "slideshow": {
           "slide_type": "slide"
         } 
     }, 
     "source": ["# Namensraum (Namespace)"
]
    },{
     "cell_type": "markdown",
     "metadata": {
        "slideshow": {
           "slide_type": "-"
         } 
     }, 
     "source": ["<div class=\"definition-head\" style=\"border:3px; border-style:solid; border-color:#5da9e9; padding: 5px; background-color:#5da9e9;  line-height:1.5em; text-align:center; border-radius: 15px 15px 0px 0px; margin-bottom: 0; width: 100%;\"><b>Definition: Namensraum (Namespace)<a id=\"orgheadline44\"></a></b></div>\n",
"\n",
"Ein *Namensraum* (oder *namespace*) ist eine Abbildung von Namen zu\n",
"Werten.  Namensräume gruppieren Namen, z.B. Namen für Werte. \n",
"\n",
"Namen in unterschiedlichen Namensräumen sind von einander isoliert;\n",
"der gleiche Name kann in unterschiedlichen Namensräumen verwendet\n",
"werden und auf unterschiedliche Objekte verweisen. \n",
"\n",
"<div class=\"definition-content\" style=\"border:3px; border-style:solid; border-color:#5da9e9; padding: 5px; margin-top: 0; border-radius: 0px 0px 15px 15px; width: 100%; text-align:left\"></div>"
]
    },{
     "cell_type": "markdown",
     "metadata": {
        "slideshow": {
           "slide_type": "slide"
         } 
     }, 
     "source": ["# Namensraum (Namespace)"
]
    },{
     "cell_type": "markdown",
     "metadata": {
        "slideshow": {
           "slide_type": "-"
         } 
     }, 
     "source": ["<div class=\"example-head\" style=\"border:3px; border-style:solid; border-color:#99d19c; padding: 5px; background-color:#99d19c;  line-height:1.5em; text-align:center; border-radius: 15px 15px 0px 0px; margin-bottom: 0; width: 100%;\"><b>Beispiel: Namespaces<a id=\"orgheadline46\"></a></b></div>\n",
"\n",
"-   Ein Funktionsaufruf erzeugt einen Namensraum für\n",
"    diese Funktion. Dieser Namensraum verschwindet wenn die Funktion\n",
"    zurückkehrt.\n",
"-   Alle vordefinierten Funktionen existieren in einem eigenen Namensraum\n",
"    (mit Namen `builtins`).\n",
"-   Alle globalen Namen existieren in einem eigenen Namensraum.\n",
"-   Namensräume können sich während der Laufzeit verändern (und tun das\n",
"    typischerweise auch).\n",
"-   Siehe [Abschnitt 9.2](https://docs.python.org/3/tutorial/classes.html) für Details.\n",
"\n",
"<div class=\"example-content\" style=\"border:3px; border-style:solid; border-color:#99d19c; padding: 5px; margin-top: 0;  line-height:1.5em; border-radius: 0px 0px 15px 15px; width: 100%; text-align:left\"></div> "
]
    },{
     "cell_type": "markdown",
     "metadata": {
        "slideshow": {
           "slide_type": "slide"
         } 
     }, 
     "source": ["# Scope"
]
    },{
     "cell_type": "markdown",
     "metadata": {
        "slideshow": {
           "slide_type": "-"
         } 
     }, 
     "source": ["<div class=\"definition-head\" style=\"border:3px; border-style:solid; border-color:#5da9e9; padding: 5px; background-color:#5da9e9;  line-height:1.5em; text-align:center; border-radius: 15px 15px 0px 0px; margin-bottom: 0; width: 100%;\"><b>Definition: Scope<a id=\"orgheadline48\"></a></b></div>\n",
"\n",
"Der *Scope* eines Namensraums sind die Zeilen des Programms, in denen\n",
"auf dessen Namen *direkt* zugegriffen werden kann. Der Scope bestimmt\n",
"die Sichtbarkeit eines Namens.\n",
"\n",
"Ein Scope ist eine statische Eigenschaft des\n",
"Programms; er entsteht *nicht* zur Laufzeit. \n",
"\n",
"Ein Name kann an einer Stelle des Programms nicht sichtbar sein, aber\n",
"durchaus zur Laufzeit existieren. Er heißt dann *out of scope*.\n",
"\n",
"Verkürzend sprechen wir auch von *Scope eines Namens* und meinen damit den\n",
"Scope des Namensraum, zu dem der Name gehört. \n",
"\n",
"<div class=\"definition-content\" style=\"border:3px; border-style:solid; border-color:#5da9e9; padding: 5px; margin-top: 0; border-radius: 0px 0px 15px 15px; width: 100%; text-align:left\"></div>"
]
    },{
     "cell_type": "markdown",
     "metadata": {
        "slideshow": {
           "slide_type": "slide"
         } 
     }, 
     "source": ["# Frame"
]
    },{
     "cell_type": "markdown",
     "metadata": {
        "slideshow": {
           "slide_type": "-"
         } 
     }, 
     "source": ["<div class=\"definition-head\" style=\"border:3px; border-style:solid; border-color:#5da9e9; padding: 5px; background-color:#5da9e9;  line-height:1.5em; text-align:center; border-radius: 15px 15px 0px 0px; margin-bottom: 0; width: 100%;\"><b>Definition: Frame<a id=\"orgheadline50\"></a></b></div>\n",
"\n",
"Der *Frame* einer Funktion beschreibt *zur Laufzeit* ihren Zustand. Er\n",
"enthält u.a. \n",
"\n",
"-   den Namensraum der Funktion\n",
"-   Information, wo das Programm nach Ende der Funktion fortgesetzt\n",
"    wird.\n",
"\n",
"<div class=\"definition-content\" style=\"border:3px; border-style:solid; border-color:#5da9e9; padding: 5px; margin-top: 0; border-radius: 0px 0px 15px 15px; width: 100%; text-align:left\"></div>"
]
    },{
     "cell_type": "markdown",
     "metadata": {
        "slideshow": {
           "slide_type": "slide"
         } 
     }, 
     "source": ["# Scope/Frame: Beispiel"
]
    },{
     "cell_type": "code",
     "metadata": {
        "slideshow": {
           "slide_type": "-"
         } 
     }, 
"outputs": [],
"execution_count": null,
     "source": ["%%tutor -t\n",
"def f():\n",
"    x = 42\n",
"    y = 17\n",
"\n",
"z = \"vorher\"\n",
"f()\n",
"z = \"dazwischen\"\n",
"f()\n",
"z = \"danach\""
]
    },{
     "cell_type": "markdown",
     "metadata": {
        "slideshow": {
           "slide_type": "slide"
         } 
     }, 
     "source": ["# Funktionen haben keinen Effekt?\n",
"\n",
"-   Wenn die Namen/Werte der Funktion nach Ende der Funktion vernichtet\n",
"    werden &#x2013; dann hat eine Funktionsausführung doch gar keinen Effekt?\n",
"    -   Oder: Verändert den Zustand nicht?\n",
"\n",
"<center>![img](./figures/facepalm.png \"Funktionen ohne Effekt?\")</center>"
]
    },{
     "cell_type": "markdown",
     "metadata": {
        "slideshow": {
           "slide_type": "slide"
         } 
     }, 
     "source": ["# Funktionen ohne Effekt: Beispiel"
]
    },{
     "cell_type": "code",
     "metadata": {
        "slideshow": {
           "slide_type": "-"
         } 
     }, 
"outputs": [],
"execution_count": null,
     "source": ["%%tutor\n",
"def f():\n",
"    x = 42\n",
"\n",
"# rufe f auf:    \n",
"f()\n",
"# greife auf x zu:\n",
"x"
]
    },{
     "cell_type": "markdown",
     "metadata": {
        "slideshow": {
           "slide_type": "-"
         } 
     }, 
     "source": ["## Pingo<a id=\"orgheadline54\"></a>"
]
    },{
     "cell_type": "code",
     "metadata": {
        "slideshow": {
           "slide_type": "-"
         } 
     }, 
"outputs": [],
"execution_count": null,
     "source": ["pingo_title = \"Was ist der Wert von x am Ende? \" \n",
"pingo_questions = [\"0\", \"nicht definiert\", \"42\"]\n",
"\n",
"%pingo"
]
    },{
     "cell_type": "markdown",
     "metadata": {
        "slideshow": {
           "slide_type": "slide"
         } 
     }, 
     "source": ["<h1>Overview</h1> \n",
"\n",
"1. Überblick\n",
"1. Wiederkehrende Anweisungen\n",
"1. Funktionen definieren\n",
"1. Aufruf\n",
"1. **<font color=\"red\">Rückgabewert</font>**\n",
"1. Parameter\n",
"1. Seiteneffekt\n",
"1. Randbemerkungen, Zusammenfassung"
]
    },{
     "cell_type": "markdown",
     "metadata": {
        "slideshow": {
           "slide_type": "slide"
         } 
     }, 
     "source": ["# Rückgabewert\n",
"\n",
"-   Benötigt: Mechanismus, um Wert aus Funktion an den aufrufenden\n",
"    Programmteil zu transportieren\n",
"    -   Geht nicht mit normalem Namen für Wert (wird ja vernichtet)"
]
    },{
     "cell_type": "markdown",
     "metadata": {
        "slideshow": {
           "slide_type": "slide"
         } 
     }, 
     "source": ["# Neue Anweisung: `return`"
]
    },{
     "cell_type": "markdown",
     "metadata": {
        "slideshow": {
           "slide_type": "-"
         } 
     }, 
     "source": ["<div class=\"definition-head\" style=\"border:3px; border-style:solid; border-color:#5da9e9; padding: 5px; background-color:#5da9e9;  line-height:1.5em; text-align:center; border-radius: 15px 15px 0px 0px; margin-bottom: 0; width: 100%;\"><b>Definition: `return`-Anweisung<a id=\"orgheadline57\"></a></b></div>\n",
"\n",
"-   Die Anweisung `return` erlaubt, einen beliebigen Wert aus einem \n",
"    Funktionsaufruf an den aufrufenden Teil zu transportieren\n",
"    -   Auf `return` darf ein beliebiger Ausdruck folgen\n",
"    -   Dessen Wert wird *zurückgegeben*\n",
"-   `return` ist ein Schlüsselwort\n",
"\n",
"<div class=\"definition-content\" style=\"border:3px; border-style:solid; border-color:#5da9e9; padding: 5px; margin-top: 0; border-radius: 0px 0px 15px 15px; width: 100%; text-align:left\"></div>"
]
    },{
     "cell_type": "markdown",
     "metadata": {
        "slideshow": {
           "slide_type": "fragment"
         } 
     }, 
     "source": ["## Beobachtung<a id=\"orgheadline58\"></a>\n",
"\n",
"-   Ausführungsmodell erweitert!"
]
    },{
     "cell_type": "markdown",
     "metadata": {
        "slideshow": {
           "slide_type": "subslide"
         } 
     }, 
     "source": ["# Python-Schlüsselworte bis jetzt\n",
"\n",
"-   `True`, `False`\n",
"-   `and`, `or`\n",
"-   `def`\n",
"-   `return`"
]
    },{
     "cell_type": "markdown",
     "metadata": {
        "slideshow": {
           "slide_type": "slide"
         } 
     }, 
     "source": ["# Aufruf einer Funktion: Semantik"
]
    },{
     "cell_type": "markdown",
     "metadata": {
        "slideshow": {
           "slide_type": "-"
         } 
     }, 
     "source": ["<div class=\"definition-head\" style=\"border:3px; border-style:solid; border-color:#5da9e9; padding: 5px; background-color:#5da9e9;  line-height:1.5em; text-align:center; border-radius: 15px 15px 0px 0px; margin-bottom: 0; width: 100%;\"><b>Definition: Aufruf einer Funktion: Semantik (v2)<a id=\"orgheadline61\"></a></b></div>\n",
"\n",
"-   Aufruf der Funktion: Programm mit den Anweisungen der Funktion\n",
"    fortsetzen\n",
"    -   Vorstellung: Der Aufruf der Funktion wird durch die Anweisungen\n",
"        der Funktion ersetzt, und dann wird ausgeführt\n",
"-   Bei der Ausführung einer Funktion wird ein neuer Namensraum für die\n",
"    Funktion angelegt\n",
"    -   Dieser Namensraum wird nach Ende der Funktion wieder vernichtet\n",
"-   Ersetze in der aufrufenden Anweisung den Aufruf der Funktion\n",
"    durch ihren Rückgabewert\n",
"    -   Rückgabewert ist der Ausdruck nach `return`\n",
"\n",
"<div class=\"definition-content\" style=\"border:3px; border-style:solid; border-color:#5da9e9; padding: 5px; margin-top: 0; border-radius: 0px 0px 15px 15px; width: 100%; text-align:left\"></div>"
]
    },{
     "cell_type": "markdown",
     "metadata": {
        "slideshow": {
           "slide_type": "slide"
         } 
     }, 
     "source": ["# Funktion mit `return`: Beispiel"
]
    },{
     "cell_type": "code",
     "metadata": {
        "slideshow": {
           "slide_type": "-"
         } 
     }, 
"outputs": [],
"execution_count": null,
     "source": ["%%tutor -t\n",
"def pi():\n",
"    return 3.14159296\n",
"\n",
"x = pi()"
]
    },{
     "cell_type": "markdown",
     "metadata": {
        "slideshow": {
           "slide_type": "slide"
         } 
     }, 
     "source": ["# Funktion ohne `return`?\n",
"\n",
"Was passiert, wenn eine Funktion keine `return` Anweisung hat? "
]
    },{
     "cell_type": "code",
     "metadata": {
        "slideshow": {
           "slide_type": "-"
         } 
     }, 
"outputs": [],
"execution_count": null,
     "source": ["%%tutor\n",
"def no_return():\n",
"    x = 17\n",
"    y = 42*x\n",
"\n",
"z = no_return()"
]
    },{
     "cell_type": "markdown",
     "metadata": {
        "slideshow": {
           "slide_type": "slide"
         } 
     }, 
     "source": ["# Aufruf einer Funktion: Semantik"
]
    },{
     "cell_type": "markdown",
     "metadata": {
        "slideshow": {
           "slide_type": "-"
         } 
     }, 
     "source": ["<div class=\"definition-head\" style=\"border:3px; border-style:solid; border-color:#5da9e9; padding: 5px; background-color:#5da9e9;  line-height:1.5em; text-align:center; border-radius: 15px 15px 0px 0px; margin-bottom: 0; width: 100%;\"><b>Definition: Aufruf einer Funktion: Semantik (v3)<a id=\"orgheadline65\"></a></b></div>\n",
"\n",
"-   Aufruf der Funktion: Programm mit den Anweisungen der Funktion\n",
"    fortsetzen\n",
"-   Bei der Ausführung einer Funktion wird ein neuer Namensraum für die\n",
"    Funktion angelegt \n",
"    -   Dieser Namensraum wird nach Ende der Funktion wieder vernichtet\n",
"-   Ersetze in der aufrufenden Anweisung den Aufruf der Funktion\n",
"    durch ihren Rückgabewert\n",
"    -   Rückgabewert ist der Ausdruck nach `return`\n",
"    -   Fehlt ein expliziter Rückgabewert, so nimm `None` als besonderen\n",
"        Wert an\n",
"\n",
"<div class=\"definition-content\" style=\"border:3px; border-style:solid; border-color:#5da9e9; padding: 5px; margin-top: 0; border-radius: 0px 0px 15px 15px; width: 100%; text-align:left\"></div>"
]
    },{
     "cell_type": "markdown",
     "metadata": {
        "slideshow": {
           "slide_type": "slide"
         } 
     }, 
     "source": ["# Funktion mit leerem `return`\n",
"\n",
"Ein `return` ohne Ausdruck? "
]
    },{
     "cell_type": "code",
     "metadata": {
        "slideshow": {
           "slide_type": "-"
         } 
     }, 
"outputs": [],
"execution_count": null,
     "source": ["%%tutor\n",
"def empty_return():\n",
"    x = 17\n",
"    y = 42*x\n",
"    return \n",
"\n",
"z = empty_return()"
]
    },{
     "cell_type": "markdown",
     "metadata": {
        "slideshow": {
           "slide_type": "subslide"
         } 
     }, 
     "source": ["# Python-Schlüsselworte bis jetzt\n",
"\n",
"-   `True`, `False`\n",
"-   `and`, `or`\n",
"-   `def`\n",
"-   `return`\n",
"-   `None`\n",
"    -   `None` wird sich an vielen Stellen als praktisch erweisen, um das\n",
"        Fehlen eines eigentlich sinnvollen Wertes darzustellen\n",
"    -   Achtung: `None`, nicht `none`!"
]
    },{
     "cell_type": "markdown",
     "metadata": {
        "slideshow": {
           "slide_type": "slide"
         } 
     }, 
     "source": ["<h1>Overview</h1> \n",
"\n",
"1. Überblick\n",
"1. Wiederkehrende Anweisungen\n",
"1. Funktionen definieren\n",
"1. Aufruf\n",
"1. Rückgabewert\n",
"1. **<font color=\"red\">Parameter</font>**\n",
"1. Seiteneffekt\n",
"1. Randbemerkungen, Zusammenfassung"
]
    },{
     "cell_type": "markdown",
     "metadata": {
        "slideshow": {
           "slide_type": "slide"
         } 
     }, 
     "source": ["# Funktionen bis jetzt: Langweilig\n",
"\n",
"-   Unsere Funktionen machen immer das gleiche\n",
"-   Nur nützlich, wenn wirklich *identischer* Code mehrfach in einem\n",
"    Programm vorkäme\n",
"-   Flexibler?\n",
"    -   Funktion in Mathematik: Abbildungen von Werten auf Werte\n",
"\n",
"-   Parameter!"
]
    },{
     "cell_type": "markdown",
     "metadata": {
        "slideshow": {
           "slide_type": "slide"
         } 
     }, 
     "source": ["# Funktion mit Parameter: Idee\n",
"\n",
"-   Funktionen können ja Namen benutzen\n",
"    -   Sind innerhalb des Scopes der Funktion\n",
"    -   Funktion weist Werte zu\n",
"-   Wie wäre es, wenn Namen der Funktion ***von außen*** mit Werten\n",
"    versorgt werden könnten?\n",
"    -   Normale Namen im Scope der Funktion\n",
"    -   Aber der Wert wird durch aufrufenden Programmteil festgelegt?"
]
    },{
     "cell_type": "markdown",
     "metadata": {
        "slideshow": {
           "slide_type": "slide"
         } 
     }, 
     "source": ["# Funktion mit Parameter: Syntax der Definition\n",
"\n",
"-   Wir machen Anleihe bei mathematischer Notation\n",
"-   Zu belegende Namen werden in Klammern nach Funktionsname\n",
"    angegeben\n",
"    -   Der sog. *formale Parameter*\n",
"-   Beispiel:"
]
    },{
     "cell_type": "code",
     "metadata": {
        "slideshow": {
           "slide_type": "-"
         } 
     }, 
"outputs": [],
"execution_count": null,
     "source": ["# Eine Funktion f mit formalem Parameter a \n",
"def f(a):\n",
"    # In Funktion: a ist ganz normaler Name\n",
"    return a+1"
]
    },{
     "cell_type": "markdown",
     "metadata": {
        "slideshow": {
           "slide_type": "slide"
         } 
     }, 
     "source": ["# Funktion mit Parameter: Aufruf\n",
"\n",
"-   Wie ruft man eine solche Funktion auf? \n",
"    -   Wie legt man den Wert für den formalen Parameter fest?\n",
"-   Einfach: bei Aufruf, in Klammern angeben\n",
"    -   Der *übergebene Wert*, der *tatsächliche Wert*, das *Argument*,\n",
"        der *actual parameter*"
]
    },{
     "cell_type": "code",
     "metadata": {
        "slideshow": {
           "slide_type": "-"
         } 
     }, 
"outputs": [],
"execution_count": null,
     "source": ["%%tutor\n",
"def f(a):\n",
"    return a+1\n",
"\n",
"x = f(2)"
]
    },{
     "cell_type": "markdown",
     "metadata": {
        "slideshow": {
           "slide_type": "slide"
         } 
     }, 
     "source": ["# Funktion mit Parameter: Semantik des Aufrufs\n",
"\n",
"-   Semantik: Formaler Parameter wird zu Namen für den übergebenen Wert"
]
    },{
     "cell_type": "markdown",
     "metadata": {
        "slideshow": {
           "slide_type": "slide"
         } 
     }, 
     "source": ["# Funktion mit Parameter: Aufruf mit Ausdruck\n",
"\n",
"-   Vorheriges Beispiel: Fester Wert übergeben\n",
"-   Geht das auch mit Ausdruck?\n",
"    -   Erwartung? Wert übergeben?"
]
    },{
     "cell_type": "code",
     "metadata": {
        "slideshow": {
           "slide_type": "-"
         } 
     }, 
"outputs": [],
"execution_count": null,
     "source": ["%%tutor\n",
"def f(a):\n",
"    return a+1\n",
"\n",
"x = f(2+2)"
]
    },{
     "cell_type": "markdown",
     "metadata": {
        "slideshow": {
           "slide_type": "slide"
         } 
     }, 
     "source": ["# Funktion mit Parameter: Aufruf mit Namen\n",
"\n",
"-   Was, wenn Name an Funktion übergeben wird?\n",
"-   Wie bisher! Formaler Parameter wird zu  Name für den verbunden\n",
"    *Wert*"
]
    },{
     "cell_type": "code",
     "metadata": {
        "slideshow": {
           "slide_type": "-"
         } 
     }, 
"outputs": [],
"execution_count": null,
     "source": ["%%tutor\n",
"def f(a):\n",
"    return a+1\n",
"\n",
"y = 5\n",
"x = f(y)"
]
    },{
     "cell_type": "markdown",
     "metadata": {
        "slideshow": {
           "slide_type": "slide"
         } 
     }, 
     "source": ["# Zuweisung an formale Parameter?\n",
"\n",
"-   Was geschieht, wenn Funktion Wert an formalen Parameter zuweist?\n",
"    -   Wert von `y` am Ende?"
]
    },{
     "cell_type": "code",
     "metadata": {
        "slideshow": {
           "slide_type": "-"
         } 
     }, 
"outputs": [],
"execution_count": null,
     "source": ["%%tutor -t\n",
"def f(a):\n",
"    a = a+1\n",
"    return a\n",
"\n",
"y = 5\n",
"x = f(y)"
]
    },{
     "cell_type": "markdown",
     "metadata": {
        "slideshow": {
           "slide_type": "fragment"
         } 
     }, 
     "source": ["## Was immer geschieht!<a id=\"orgheadline76\"></a>\n",
"\n",
"-   Der Name `a` wird zu einem Namen für den Wert 5\n",
"-   Bei Zuweisung an `a` wird `a` zu einen Namen für einen anderen Wert\n",
"    (6)\n",
"-   Warum sollte sich dadurch an der mit `y` verbundene Wert ändern??"
]
    },{
     "cell_type": "markdown",
     "metadata": {
        "slideshow": {
           "slide_type": "slide"
         } 
     }, 
     "source": ["# Aufruf: Gleicher Name mehrfach?\n",
"\n",
"Was passiert bei: "
]
    },{
     "cell_type": "code",
     "metadata": {
        "slideshow": {
           "slide_type": "-"
         } 
     }, 
"outputs": [],
"execution_count": null,
     "source": ["def f(x):\n",
"    return 2*x\n",
"\n",
"x = 17\n",
"x = f(x)"
]
    },{
     "cell_type": "markdown",
     "metadata": {
        "slideshow": {
           "slide_type": "fragment"
         } 
     }, 
     "source": ["## Nichts unerwartetes!<a id=\"orgheadline78\"></a>\n",
"\n",
"Es gibt einfach zwei Namen `x`. Die sind aber durch den jeweiligen\n",
"Namensraum eindeutig zuordenbar und haben nichts mit einander zu tun. "
]
    },{
     "cell_type": "markdown",
     "metadata": {
        "slideshow": {
           "slide_type": "slide"
         } 
     }, 
     "source": ["# Aufrufsemantik: Pass-by-assignment\n",
"\n",
"-   Formal ist die Aufrufsemantik von Python ein\n",
"    sog. *Pass-by-assignment* \n",
"    -   Den formalen Parametern werden Werte der Argumente zugewiesen"
]
    },{
     "cell_type": "markdown",
     "metadata": {
        "slideshow": {
           "slide_type": "slide"
         } 
     }, 
     "source": ["# Aufrufsemantik: Pass-by-assignment (2)"
]
    },{
     "cell_type": "markdown",
     "metadata": {
        "slideshow": {
           "slide_type": "-"
         } 
     }, 
     "source": ["## Normal<a id=\"orgheadline81\"></a>"
]
    },{
     "cell_type": "code",
     "metadata": {
        "slideshow": {
           "slide_type": "-"
         } 
     }, 
"outputs": [],
"execution_count": null,
     "source": ["def f(a):\n",
"    pass\n",
"\n",
"f(x)"
]
    },{
     "cell_type": "markdown",
     "metadata": {
        "slideshow": {
           "slide_type": "-"
         } 
     }, 
     "source": ["## Grob vergleichbar<a id=\"orgheadline82\"></a>"
]
    },{
     "cell_type": "code",
     "metadata": {
        "slideshow": {
           "slide_type": "-"
         } 
     }, 
"outputs": [],
"execution_count": null,
     "source": ["def f(a):\n",
"    a = x    \n",
"    pass\n",
"\n",
"f(x)\n",
"\n",
"(aber nur **sehr** grob) "
]
    },{
     "cell_type": "markdown",
     "metadata": {
        "slideshow": {
           "slide_type": "slide"
         } 
     }, 
     "source": ["# Funktion mit mehreren Parametern: Syntax\n",
"\n",
"-   Mehrere Parameter: Aufzählung, durch Komma getrennt\n",
"    -   Ähnlich wie bei Zuweisung\n",
"-   Beispiel:"
]
    },{
     "cell_type": "code",
     "metadata": {
        "slideshow": {
           "slide_type": "-"
         } 
     }, 
"outputs": [],
"execution_count": null,
     "source": ["def f(a, b, c):\n",
"    # In Funktion: a, b, c sind ganz normale Namen \n",
"    return a+b*c\n",
"\n",
"# Aufruf:\n",
"f(1, 2, 3)"
]
    },{
     "cell_type": "markdown",
     "metadata": {
        "slideshow": {
           "slide_type": "slide"
         } 
     }, 
     "source": ["# Funktion mit Parametern: Syntax allgemein\n",
"\n",
"Eine Funktion kann eine beliebige Anzahl an Parametern haben: "
]
    },{
     "cell_type": "code",
     "metadata": {
        "slideshow": {
           "slide_type": "-"
         } 
     }, 
"outputs": [],
"execution_count": null,
     "source": ["def f(arg1, arg2, ..., argN):\n",
"    # Folge von Anweisungen\n",
"    ... \n",
"    ... \n",
"    # Optional, aber oft sinnvoll:\n",
"    return Rueckgabewert"
]
    },{
     "cell_type": "markdown",
     "metadata": {
        "slideshow": {
           "slide_type": "slide"
         } 
     }, 
     "source": ["# Funktion mit mehreren Parametern: Semantik\n",
"\n",
"-   Pass-by-assignment wird auf alle formalen Parameter separat\n",
"    angewandt\n",
"-   Genauer:\n",
"    -   Die *Werte* aller Argumente werden bestimmt\n",
"    -   Die formalen Parameter werden zu Namen für diese Werte\n",
"    -   Ganz analog zur Mehrfachzuweisung!"
]
    },{
     "cell_type": "markdown",
     "metadata": {
        "slideshow": {
           "slide_type": "slide"
         } 
     }, 
     "source": ["# Aufruf einer Funktion: Semantik"
]
    },{
     "cell_type": "markdown",
     "metadata": {
        "slideshow": {
           "slide_type": "-"
         } 
     }, 
     "source": ["<div class=\"definition-head\" style=\"border:3px; border-style:solid; border-color:#5da9e9; padding: 5px; background-color:#5da9e9;  line-height:1.5em; text-align:center; border-radius: 15px 15px 0px 0px; margin-bottom: 0; width: 100%;\"><b>Definition: Aufruf einer Funktion: Semantik (v4)<a id=\"orgheadline87\"></a></b></div>\n",
"\n",
"-   Aufruf der Funktion: Programm mit den Anweisungen der Funktion\n",
"    fortsetzen\n",
"-   Bei der Ausführung einer Funktion wird ein neuer **Namensraum** für die\n",
"    Namen der Funktion angelegt\n",
"-   Formale Parameter sind Namen in diesem Namensraum; sie sind Namen für\n",
"    die Werte der beim Aufruf übergebenen Argumente\n",
"-   Ersetze in der aufrufenden Anweisung den Aufruf der Funktion\n",
"    durch ihren Rückgabewert\n",
"    -   Rückgabewert ist der Ausdruck nach `return`\n",
"    -   Fehlt ein expliziter Rückgabewert, so nimm `None` als besonderen\n",
"        Wert an\n",
"\n",
"<div class=\"definition-content\" style=\"border:3px; border-style:solid; border-color:#5da9e9; padding: 5px; margin-top: 0; border-radius: 0px 0px 15px 15px; width: 100%; text-align:left\"></div>"
]
    },{
     "cell_type": "markdown",
     "metadata": {
        "slideshow": {
           "slide_type": "slide"
         } 
     }, 
     "source": ["<h1>Overview</h1> \n",
"\n",
"1. Überblick\n",
"1. Wiederkehrende Anweisungen\n",
"1. Funktionen definieren\n",
"1. Aufruf\n",
"1. Rückgabewert\n",
"1. Parameter\n",
"1. **<font color=\"red\">Seiteneffekt</font>**\n",
"1. Randbemerkungen, Zusammenfassung"
]
    },{
     "cell_type": "markdown",
     "metadata": {
        "slideshow": {
           "slide_type": "slide"
         } 
     }, 
     "source": ["# Besondere Funktionen: Beispiel `print`\n",
"\n",
"Aufruf einer *vordefinierten* Funktion: "
]
    },{
     "cell_type": "code",
     "metadata": {
        "slideshow": {
           "slide_type": "-"
         } 
     }, 
"outputs": [],
"execution_count": null,
     "source": ["print(\"Hallo GP1\")\n",
"x = 42\n",
"print(x)"
]
    },{
     "cell_type": "markdown",
     "metadata": {
        "slideshow": {
           "slide_type": "slide"
         } 
     }, 
     "source": ["# `print`: Seiteneffekt, Prozedur\n",
"\n",
"`print` ist Beispiel für eine Funktion mit einem *Seiteneffekt* "
]
    },{
     "cell_type": "markdown",
     "metadata": {
        "slideshow": {
           "slide_type": "-"
         } 
     }, 
     "source": ["<div class=\"definition-head\" style=\"border:3px; border-style:solid; border-color:#5da9e9; padding: 5px; background-color:#5da9e9;  line-height:1.5em; text-align:center; border-radius: 15px 15px 0px 0px; margin-bottom: 0; width: 100%;\"><b>Definition: Seiteneffekt<a id=\"orgheadline90\"></a></b></div>\n",
"\n",
"Ein *Seiteneffekt* (Wirkung, side effect) ist eine Aktivität des\n",
"Programms, die \n",
"\n",
"-   *außerhalb* des Programms (oder Programmteils) eine Wirkung hat\n",
"-   aber den *Zustand* des Programms (Programmteils) *nicht* verändert.\n",
"\n",
"<div class=\"definition-content\" style=\"border:3px; border-style:solid; border-color:#5da9e9; padding: 5px; margin-top: 0; border-radius: 0px 0px 15px 15px; width: 100%; text-align:left\"></div>"
]
    },{
     "cell_type": "markdown",
     "metadata": {
        "slideshow": {
           "slide_type": "-"
         } 
     }, 
     "source": ["<div class=\"definition-head\" style=\"border:3px; border-style:solid; border-color:#5da9e9; padding: 5px; background-color:#5da9e9;  line-height:1.5em; text-align:center; border-radius: 15px 15px 0px 0px; margin-bottom: 0; width: 100%;\"><b>Definition: Prozedur<a id=\"orgheadline91\"></a></b></div>\n",
"\n",
"Funktionen mit Seiteneffekten werden auch *Prozeduren* genannt. Der\n",
"Begriff wird insbesondere verwendet, wenn  Funktionen keinen\n",
"Rückgabewert haben. \n",
"\n",
"<div class=\"definition-content\" style=\"border:3px; border-style:solid; border-color:#5da9e9; padding: 5px; margin-top: 0; border-radius: 0px 0px 15px 15px; width: 100%; text-align:left\"></div>"
]
    },{
     "cell_type": "markdown",
     "metadata": {
        "slideshow": {
           "slide_type": "slide"
         } 
     }, 
     "source": ["# Funktion oder Prozedur?\n",
"\n",
"Sind das Funktionen oder Prozeduren: \n",
"\n",
"-   Summe zweier Zahlen berechnen?\n",
"-   Festellen, ob eine Zahl ungerade ist?\n",
"-   Eine Tabelle der Klausurergebnisse ausgeben?"
]
    },{
     "cell_type": "markdown",
     "metadata": {
        "slideshow": {
           "slide_type": "slide"
         } 
     }, 
     "source": ["# Seiteneffekt von `print`\n",
"\n",
"Bei `print`: \n",
"\n",
"-   Gib den Wert des Arguments aus\n",
"-   Wohin? Auf die *Standard-Ausgabe*\n",
"    -   Bei Jupyter: Wird unterhalb der Zelle angezeigt\n",
"    -   Allgemein: Je nach Ausführungskontext  (Terminal, &#x2026;)"
]
    },{
     "cell_type": "markdown",
     "metadata": {
        "slideshow": {
           "slide_type": "slide"
         } 
     }, 
     "source": ["# Weitere Aspekte von `print`: Mehrere Parameter\n",
"\n",
"-   `print` kann eine *beliebige Anzahl* an Parametern verarbeiten\n",
"    -   Durch Komma\n",
"    -   Werden nach einander ausgegeben\n",
"    -   (Das geht bei allen Funktionen, siehe späteres Kapitel)\n",
"-   Beispiel:"
]
    },{
     "cell_type": "code",
     "metadata": {
        "slideshow": {
           "slide_type": "-"
         } 
     }, 
"outputs": [],
"execution_count": null,
     "source": ["print(\"Hallo\", \"GP\", 1)"
]
    },{
     "cell_type": "markdown",
     "metadata": {
        "slideshow": {
           "slide_type": "slide"
         } 
     }, 
     "source": ["# Weitere Aspekte von `print`: Benannter Parameter\n",
"\n",
"-   Beim *Aufruf* von  `print` kann ein Parameter mit einem Namen versehen\n",
"    werden\n",
"    -   (Das geht bei allen Funktionen, siehe späteres Kapitel)"
]
    },{
     "cell_type": "markdown",
     "metadata": {
        "slideshow": {
           "slide_type": "fragment"
         } 
     }, 
     "source": ["## Beispiel: `end`<a id=\"orgheadline96\"></a>\n",
"\n",
"-   Parameter von `print`: `end`\n",
"    -   Gibt Zeichen an, mit dem `print` die Ausgabe abschliesst\n",
"    -   Wird Parameter nicht angegeben, so macht `print` einen\n",
"        Zeilenumbruch\n",
"-   Brauchen wir für Beispiele in folgenden Kapiteln"
]
    },{
     "cell_type": "markdown",
     "metadata": {
        "slideshow": {
           "slide_type": "slide"
         } 
     }, 
     "source": ["# Weitere Aspekte von `print`: Benannter Parameter `end`\n",
"\n",
"Vergleiche die beiden Code-Blöcke: "
]
    },{
     "cell_type": "markdown",
     "metadata": {
        "slideshow": {
           "slide_type": "-"
         } 
     }, 
     "source": ["## Version 1<a id=\"orgheadline98\"></a>"
]
    },{
     "cell_type": "code",
     "metadata": {
        "slideshow": {
           "slide_type": "-"
         } 
     }, 
"outputs": [],
"execution_count": null,
     "source": ["print(\"Hallo\")\n",
"print(\"GP1\")"
]
    },{
     "cell_type": "markdown",
     "metadata": {
        "slideshow": {
           "slide_type": "-"
         } 
     }, 
     "source": ["## Version 2<a id=\"orgheadline99\"></a>"
]
    },{
     "cell_type": "code",
     "metadata": {
        "slideshow": {
           "slide_type": "-"
         } 
     }, 
"outputs": [],
"execution_count": null,
     "source": ["print(\"Hallo\", end=\" \")\n",
"print(\"GP1\")"
]
    },{
     "cell_type": "markdown",
     "metadata": {
        "slideshow": {
           "slide_type": "slide"
         } 
     }, 
     "source": ["# Weiteres Beispiel für Funktionen\n",
"\n",
"Was wird hier ausgegeben? "
]
    },{
     "cell_type": "code",
     "metadata": {
        "slideshow": {
           "slide_type": "-"
         } 
     }, 
"outputs": [],
"execution_count": null,
     "source": ["def m(x):\n",
"    x += 1\n",
"    return x*x\n",
"\n",
"i = 2\n",
"i = m(i) + i\n",
"print(i)\n",
"i = 2\n",
"i = m(m(i)) + m(i) + i\n",
"print(i)"
]
    },{
     "cell_type": "markdown",
     "metadata": {
        "slideshow": {
           "slide_type": "-"
         } 
     }, 
     "source": ["## Pingo<a id=\"orgheadline101\"></a>"
]
    },{
     "cell_type": "code",
     "metadata": {
        "slideshow": {
           "slide_type": "-"
         } 
     }, 
"outputs": [],
"execution_count": null,
     "source": ["pingo_title = \"Resultat?\" \n",
"pingo_questions = [\"1 und 11\", \"0 und 100\", \"10 und 1000\", \"111 und 1111\", \"11 und 111\"]\n",
"pingo_duration = \"180\"\n",
"\n",
"%pingo"
]
    },{
     "cell_type": "markdown",
     "metadata": {
        "slideshow": {
           "slide_type": "slide"
         } 
     }, 
     "source": ["<h1>Overview</h1> \n",
"\n",
"1. Überblick\n",
"1. Wiederkehrende Anweisungen\n",
"1. Funktionen definieren\n",
"1. Aufruf\n",
"1. Rückgabewert\n",
"1. Parameter\n",
"1. Seiteneffekt\n",
"1. **<font color=\"red\">Randbemerkungen, Zusammenfassung</font>**"
]
    },{
     "cell_type": "markdown",
     "metadata": {
        "slideshow": {
           "slide_type": "slide"
         } 
     }, 
     "source": ["# Funktionen finden\n",
"\n",
"Wo gibt es Funktionen? \n",
"\n",
"-   Selbst geschrieben\n",
"-   Eingebaut, z.B. `print`\n",
"    -   Siehe [Liste der eingebauten Funktionen](https://docs.python.org/3/library/functions.html)\n",
"-   In `Modulen`, zusammengestellt zu `Bibliotheken` &#x2013; siehe später"
]
    },{
     "cell_type": "markdown",
     "metadata": {
        "slideshow": {
           "slide_type": "slide"
         } 
     }, 
     "source": ["# Eingebaute Funktionen, weitere Beispiele"
]
    },{
     "cell_type": "markdown",
     "metadata": {
        "slideshow": {
           "slide_type": "-"
         } 
     }, 
     "source": ["## `type`<a id=\"orgheadline104\"></a>"
]
    },{
     "cell_type": "code",
     "metadata": {
        "slideshow": {
           "slide_type": "-"
         } 
     }, 
"outputs": [],
"execution_count": null,
     "source": ["type(42)\n",
"type(0.01)\n",
"type(\"Hallo GP1\")"
]
    },{
     "cell_type": "markdown",
     "metadata": {
        "slideshow": {
           "slide_type": "-"
         } 
     }, 
     "source": ["## `max`<a id=\"orgheadline105\"></a>"
]
    },{
     "cell_type": "code",
     "metadata": {
        "slideshow": {
           "slide_type": "-"
         } 
     }, 
"outputs": [],
"execution_count": null,
     "source": ["max(1, 2, 3)"
]
    },{
     "cell_type": "markdown",
     "metadata": {
        "slideshow": {
           "slide_type": "slide"
         } 
     }, 
     "source": ["# Funktionen und Stil: Namenskonvention\n",
"\n",
"Wie schreibt man Funktionen stilsicher?  (PEP8)\n",
"\n",
"-   Namen: Kleinbuchstaben oder Unterstrich `_`\n",
"    -   Beispiel: `dies_ist_ein_langer_funktionsname`\n",
"    -   Kein CamelCase\n",
"-   Leerzeichen:\n",
"    -   Keine Leerzeichen zwischen `funktionsname` und `(`\n",
"        -   Nicht bei Definition, nicht bei Aufruf\n",
"    -   Keine nach öffnender Klammer\n",
"    -   Nach Komma (wie üblich)"
]
    },{
     "cell_type": "markdown",
     "metadata": {
        "slideshow": {
           "slide_type": "slide"
         } 
     }, 
     "source": ["# Kommentare\n",
"\n",
"**Konvention**: Jede Funktion mit einem `docstring` versehen\n",
"\n",
"-   `docstring` : Die erste Anweisung in einer Funktion ist eine Zeichenkette\n",
"-   Erläutert Zweck und Nutzung der Funktion\n",
"-   Details: [PEP 257](https://www.python.org/dev/peps/pep-0257/)\n",
"\n",
"Konvention verletzt?  \n",
"\n",
"-   Programmierwerkzeuge versagen\n",
"-   Beispiel: [docutils](http://docutils.sourceforge.net)"
]
    },{
     "cell_type": "markdown",
     "metadata": {
        "slideshow": {
           "slide_type": "slide"
         } 
     }, 
     "source": ["# `docstring`\n",
"\n",
"-   Kurzversion, eine Zeile\n",
"    -   Befehlsform, beschreibe den Effekt der Funktion\n",
"    -   Nicht die Parameter der Funktion wiederholen; das ist\n",
"        offensichtlich\n",
"    -   \"\"\"Kommentiere Deine Funktionen ordentlich.\"\"\"\n",
"-   Langversion, mehrere Zeilen\n",
"    -   Anfang wie bei einer Zeile\n",
"    -   Dann Parameter aufzählen und *Zweck* beschreiben\n",
"    -   Ggf. Rückgabewert"
]
    },{
     "cell_type": "markdown",
     "metadata": {
        "slideshow": {
           "slide_type": "slide"
         } 
     }, 
     "source": ["# Nützliche Kommentare\n",
"\n",
"<center>![img](./figures/get_serial_number.png \"Nützliche Kommentare retten Zeit\")</center>"
]
    },{
     "cell_type": "markdown",
     "metadata": {
        "slideshow": {
           "slide_type": "slide"
         } 
     }, 
     "source": ["# `docstring`: Beispiel"
]
    },{
     "cell_type": "code",
     "metadata": {
        "slideshow": {
           "slide_type": "-"
         } 
     }, 
"outputs": [],
"execution_count": null,
     "source": ["def complex(real, imag):\n",
"    \"\"\"Form a complex number.\n",
"\n",
"    Keyword arguments:\n",
"    real -- the real part\n",
"    imag -- the imaginary part\n",
"    \"\"\"\n",
"\n",
"    # Und hier würden Anweisungen folgen"
]
    },{
     "cell_type": "markdown",
     "metadata": {
        "slideshow": {
           "slide_type": "slide"
         } 
     }, 
     "source": ["# Kommentare sind Kommunikation\n",
"\n",
"<center>![img](./figures/future_self.png \"Kommentare sind Kommunikation, möglicherweise mit sich selbst\")</center>"
]
    },{
     "cell_type": "markdown",
     "metadata": {
        "slideshow": {
           "slide_type": "slide"
         } 
     }, 
     "source": ["# Zusammenfassung\n",
"\n",
"-   Die gleichen Anweisungsfolgen wiederholen sich oft in Programmen\n",
"-   Zur einfachen Wiederverwendungen führen wir Funktionen ein\n",
"    -   Werden von einem oder mehreren Teilen des Programms *aufgerufen*\n",
"-   Interagieren mit aufrufendem Teil durch\n",
"    -   *formale Parameter*, die beim Aufruf mit  *Argumenten* versehen\n",
"        werden\n",
"    -   *Rückgabewert*, der die Stelle des Funktionsaufrufs einnimmt\n",
"-   Formale Parameter werden zu Namen für die Werte der Argumente\n",
"-   Manchmal: *Seiteneffekte*\n",
"-   Objekt: Verallgemeinert Sprechweise"
]
    },{
     "cell_type": "markdown",
     "metadata": {
        "slideshow": {
           "slide_type": "slide"
         } 
     }, 
     "source": ["# Wiederverwendung &#x2013; Die hohe Schule\n",
"\n",
"<center>![img](./figures/dilbert-reuse.png \"Die hohe Schule der Wiederverwendung\")</center>\n",
"\n",
"  "
]
 }
],
 "metadata": {
  "celltoolbar": "Slideshow",
  "livereveal": {
        "theme": "simple",
        "transition": "none"
    },
  "kernelspec": {
   "display_name": "Python 3",
   "language": "python",
   "name": "python3"
  },
  "language_info": {
   "codemirror_mode": {
    "name": "ipython",
    "version": 3
   },
   "file_extension": ".py",
   "mimetype": "text/x-python",
   "name": "python",
   "nbconvert_exporter": "python",
   "pygments_lexer": "ipython3",
   "version": "3.5.1"
  }
 },
 "nbformat": 4,
 "nbformat_minor": 0
}