{
 "cells": [
  {
   "cell_type": "markdown",
   "metadata": {
    "slideshow": {
     "slide_type": "slide"
    }
   },
   "source": [
    "<h1>Kapitel 14: Python-Installation, Shell, Werkzeuge</h1>\n",
    "<p>Grundlagen der Programmierung 1<p><h2>Holger Karl</h2>\n",
    " "
   ]
  },
  {
   "cell_type": "markdown",
   "metadata": {
    "slideshow": {
     "slide_type": "slide"
    }
   },
   "source": [
    "<h1>Overview</h1> \n",
    "\n",
    "1. Überblick\n",
    "1. Python: Installation\n",
    "1. Editoren, IDEs\n",
    "1. Debugging und Testing\n",
    "1. Testen\n",
    "1. Zusammenfassung \n",
    " \n"
   ]
  },
  {
   "cell_type": "markdown",
   "metadata": {
    "slideshow": {
     "slide_type": "slide"
    }
   },
   "source": [
    "<h1>Overview</h1> \n",
    "\n",
    "1. **<font color=\"red\">Überblick</font>**\n",
    "1. Python: Installation\n",
    "1. Editoren, IDEs\n",
    "1. Debugging und Testing\n",
    "1. Testen\n",
    "1. Zusammenfassung"
   ]
  },
  {
   "cell_type": "markdown",
   "metadata": {
    "slideshow": {
     "slide_type": "skip"
    }
   },
   "source": [
    "# Setup\n",
    "\n",
    "Main point here is to set up warnings properly for presentation and to\n",
    "load tutormagic, so that we can later on use pythontutor for code\n",
    "animations. "
   ]
  },
  {
   "cell_type": "code",
   "execution_count": null,
   "metadata": {
    "slideshow": {
     "slide_type": "skip"
    }
   },
   "outputs": [],
   "source": [
    "%load_ext tutormagic\n",
    "import warnings\n",
    "warnings.filterwarnings('ignore', category=DeprecationWarning, module='.*/IPython/.*')"
   ]
  },
  {
   "cell_type": "markdown",
   "metadata": {
    "slideshow": {
     "slide_type": "slide"
    }
   },
   "source": [
    "# Was bisher geschah\n",
    "\n",
    "-   Wir haben Python-Programme bisher in zwei Kontexten entwickelt\n",
    "    bzw. ausgeführt :\n",
    "    -   Im einem Jupyter-Notebook\n",
    "    -   Im Pythontutor\n",
    "-   Didaktisch (hoffentlich) wertvoll, aber für Produktiveinsatz nur\n",
    "    bedingt geeignet\n",
    "    -   Jupyter-Notebooks: durchaus auch produktiv!"
   ]
  },
  {
   "cell_type": "markdown",
   "metadata": {
    "slideshow": {
     "slide_type": "slide"
    }
   },
   "source": [
    "# Dieses Kapitel\n",
    "\n",
    "-   Installation von Python\n",
    "-   Installation von Modulen\n",
    "-   Werkzeuge:\n",
    "    -   Editoren, Entwicklungsumgebungen\n",
    "    -   Debugger\n",
    "-   Debugging und Test-Techniken"
   ]
  },
  {
   "cell_type": "markdown",
   "metadata": {
    "slideshow": {
     "slide_type": "slide"
    }
   },
   "source": [
    "<h1>Overview</h1> \n",
    "\n",
    "1. Überblick\n",
    "1. **<font color=\"red\">Python: Installation</font>**\n",
    "1. Editoren, IDEs\n",
    "1. Debugging und Testing\n",
    "1. Testen\n",
    "1. Zusammenfassung"
   ]
  },
  {
   "cell_type": "markdown",
   "metadata": {
    "slideshow": {
     "slide_type": "slide"
    }
   },
   "source": [
    "# Installation\n",
    "\n",
    "-   [Webseite für Download](https://www.python.org/downloads/)\n",
    "-   Ordentliches Betriebssystem: In der Regel vorhanden\n",
    "    -   Falls bestimmte Version fehlt: Bordmittel (`apt-get install ...`\n",
    "            u.ä.)\n",
    "-   Windows: [Viel Glück!](https://www.python.org/downloads/windows/)"
   ]
  },
  {
   "cell_type": "markdown",
   "metadata": {
    "slideshow": {
     "slide_type": "slide"
    }
   },
   "source": [
    "# Python im Terminal\n",
    "\n",
    "-   Der Python-Interpreter kann direkt als Programm aufgerufen werden\n",
    "-   Führt dann REPL aus \n",
    "    -   Read: Von Eingabe, Tastatur\n",
    "    -   Print: Auf Ausgabe, Bildschirm\n",
    "-   In Jupyterhub ganz einfach: New Terminal\n",
    "\n",
    "<center>![img](./figures/jhub-terminal.png \"Start eines Terminalfensters in Jupyterhub\")</center>"
   ]
  },
  {
   "cell_type": "markdown",
   "metadata": {
    "slideshow": {
     "slide_type": "slide"
    }
   },
   "source": [
    "# Packages installieren\n",
    "\n",
    "Standardwerkzeuge für weitere Packages `pip` \n",
    "\n",
    "-   [Website](https://pip.pypa.io/en/stable/quickstart/)\n",
    "-   Übersicht lokal installierter Packages: `pip list`\n",
    "-   Details zu Package: `pip show MODULNAME`\n",
    "-   Suche nach Package: `pip search MODU`\n",
    "-   Referenz: [Python Package Index](https://pypi.python.org/pypi), mit 87310 Packages (August 2016)"
   ]
  },
  {
   "cell_type": "markdown",
   "metadata": {
    "slideshow": {
     "slide_type": "slide"
    }
   },
   "source": [
    "# Gekapselte Installation\n",
    "\n",
    "-   Standardinstallation: Neue Packages werden an vordefiniertem Ort\n",
    "    gespeichert\n",
    "    -   Erfordert in der Regel Adminstrator-Rechte\n",
    "    -   Könnte andere Packages überschreiben\n",
    "    -   Verhindert, unterschiedliche Versionen auszuprobieren\n",
    "    -   Möglicherweise vertragen sich nicht alle Packages mit einander\n",
    "    -   Packages können unterschiedliche Anforderungen stellen\n",
    "-   Daher: Für Packages gekapselte Installationsorte bereitstellen\n",
    "    -   *Virtual environments*\n",
    "-   Werkzeug: [Virtualenv](https://virtualenv.pypa.io/en/stable/)"
   ]
  },
  {
   "cell_type": "markdown",
   "metadata": {
    "slideshow": {
     "slide_type": "slide"
    }
   },
   "source": [
    "# Virtualenv\n",
    "\n",
    "-   Erzeugt und verwaltet *virtuelle* Python-Installationen\n",
    "    -   Jede bekommt abgekapselten Installationsort\n",
    "    -   Eigenen Satz der installierten Packages\n",
    "    -   Ohne Adminstrator-Rechte möglich!\n",
    "-   Nutzung: einfacher mit [virtualenvwrapper](http://virtualenvwrapper.readthedocs.io/en/latest/command_ref.html)"
   ]
  },
  {
   "cell_type": "markdown",
   "metadata": {
    "slideshow": {
     "slide_type": "slide"
    }
   },
   "source": [
    "# Virtualenvwrapper\n",
    "\n",
    "-   `$> pip install virtualenvwrapper`\n",
    "-   `$> mkvirtualenv jupyter`\n",
    "-   `$> workon jupyter`\n",
    "-   `(jupyter) $> pip install jupyter`\n",
    "-   `...`\n",
    "-   `(jupyter) $> deactivate`"
   ]
  },
  {
   "cell_type": "markdown",
   "metadata": {
    "slideshow": {
     "slide_type": "slide"
    }
   },
   "source": [
    "# Nützliche Non-Standard-Module\n",
    "\n",
    "-   [bpython](https://github.com/bpython/bpython): Stark verbesserte interaktive Nutzung des Interpreters\n",
    "    -   Z.B. mit Vorschlägen verfügbarer Methoden bei Objekt, samt docstring\n",
    "-   [requests](http://docs.python-requests.org/en/master/user/install/): Package, um mit HTTP einfach umzugehen\n",
    "-   Und viele mehr:  [Liste 1](https://pythontips.com/2013/07/30/20-python-libraries-you-cant-live-without/), [Liste 2](https://wiki.python.org/moin/UsefulModules),\n",
    "    [Liste 3](http://blog.yhat.com/posts/11-python-libraries-you-might-not-know.html)"
   ]
  },
  {
   "cell_type": "code",
   "execution_count": null,
   "metadata": {
    "slideshow": {
     "slide_type": "-"
    }
   },
   "outputs": [],
   "source": [
    "import requests\n",
    "r = requests.get(\"http://www.google.de\")\n",
    "print(r.json)"
   ]
  },
  {
   "cell_type": "markdown",
   "metadata": {
    "slideshow": {
     "slide_type": "slide"
    }
   },
   "source": [
    "# Matplotlib\n",
    "\n",
    "-   [Matplotlib](#orgheadline17): Alle Arten von Plots"
   ]
  },
  {
   "cell_type": "code",
   "execution_count": null,
   "metadata": {
    "slideshow": {
     "slide_type": "-"
    }
   },
   "outputs": [],
   "source": [
    "%matplotlib notebook\n",
    "import matplotlib.pyplot as plt\n",
    "import math\n",
    "\n",
    "x = [xx/50 for xx in range(0, 600)]\n",
    "y = list(map(math.sin, x))\n",
    "\n",
    "plt.plot(x, y)"
   ]
  },
  {
   "cell_type": "markdown",
   "metadata": {
    "slideshow": {
     "slide_type": "slide"
    }
   },
   "source": [
    "<h1>Overview</h1> \n",
    "\n",
    "1. Überblick\n",
    "1. Python: Installation\n",
    "1. **<font color=\"red\">Editoren, IDEs</font>**\n",
    "1. Debugging und Testing\n",
    "1. Testen\n",
    "1. Zusammenfassung"
   ]
  },
  {
   "cell_type": "markdown",
   "metadata": {
    "slideshow": {
     "slide_type": "slide"
    }
   },
   "source": [
    "# Editoren mit Unterstützung für  Programmiersprachen\n",
    "\n",
    "-   Python-Dateien mit trivialen Editoren anfertigen? Notepad, textedit?\n",
    "-   Editor mit Unterstützung für Programmiersprachen\n",
    "    -   Syntax: Formatierung, Highlighting, Einrückungen &#x2026;\n",
    "    -   Semantik: Verfügbare Funktionen, Klassen, Methoden, &#x2026;\n",
    "        -   Schwierig in dynamisch typisierten Sprachen\n",
    "    -   Integration mit anderen Werkzeugen (Dokumentation, Debugger,\n",
    "        Tests, &#x2026;)\n",
    "-   Ideal: Plattformunabhängig"
   ]
  },
  {
   "cell_type": "markdown",
   "metadata": {
    "slideshow": {
     "slide_type": "slide"
    }
   },
   "source": [
    "# Editoren, Beispiele &#x2013; Open-source Beispiele\n",
    "\n",
    "-   [VIM](https://wiki.python.org/moin/Vim): kompakt, schnell, aber etwas kryptische Bedienung\n",
    "\n",
    "-   [Atom](https://atom.io): modern, Javascript-basiert und dadurch erweiterbar ; weniger mächtig als Emacs\n",
    "\n",
    "-   [Notepad++](https://notepad-plus-plus.org): Windows-only, aber angeblich trotzdem ganz gut\n",
    "\n",
    "-   [Emacs](https://www.gnu.org/software/emacs/): DER Editor für Erwachsene\n",
    "    -   Lisp-basiert, dadurch erweiterbar\n",
    "    \n",
    "    -   Umfangreiche Sammlung an Modulen für alles mögliche\n",
    "    \n",
    "    -   GP1 wurde durch Emacs möglich &#x2013; Org-mode\n",
    "    \n",
    "    -   Mit diversen Clones für unterschiedliche OS, z.B. [Aquamacs](http://aquamacs.org)"
   ]
  },
  {
   "cell_type": "markdown",
   "metadata": {
    "slideshow": {
     "slide_type": "slide"
    }
   },
   "source": [
    "# Emacs\n",
    "\n",
    "<center>![img](./figures/emacs-thumbs.png \"Emacs thumbs\")</center>"
   ]
  },
  {
   "cell_type": "markdown",
   "metadata": {
    "slideshow": {
     "slide_type": "slide"
    }
   },
   "source": [
    "# Editoren, Beispiele &#x2013; Kommerzielle Beispiele\n",
    "\n",
    "-   [SublimeText](https://www.sublimetext.com): OSX, aber recht bekannt\n",
    "\n",
    "-   [Smultron](https://www.peterborgapps.com/smultron/): OSX, Neuauflage, vielleicht vielversprechend\n",
    "\n",
    "Siehe auch: [Übersicht Python-Editoren](https://wiki.python.org/moin/PythonEditors)"
   ]
  },
  {
   "cell_type": "markdown",
   "metadata": {
    "slideshow": {
     "slide_type": "slide"
    }
   },
   "source": [
    "# Integrated Development Environment\n",
    "\n",
    "-   Mehr als ein Editor, vereint weitere Werkzeuge in einem User\n",
    "    Interface (nicht notwendigerweise in einem Programm)\n",
    "    -   Aber Grenze ist fließend\n",
    "-   IDEs typischerweise: sehr komplex, funktionsüberladen, komplizierter\n",
    "    Einstieg\n",
    "    -   Sie sollen Programmier, nicht IDE-Bediener werden\n",
    "    -   Hoher Einarbeitungsaufwand lohnt nur bei intensiver Nutzung\n",
    "-   Beispiele\n",
    "    -   Kommerzielle: [PyCharm](https://www.jetbrains.com/pycharm/) (mit kostenloser Community Edition)\n",
    "    -   Open-Source: [Eclipse mit PyDev](http://www.pydev.org/download.html)\n",
    "    -   Weitere Beispiele: WingIDE, KommodoIDE, KDevelop, &#x2026;"
   ]
  },
  {
   "cell_type": "markdown",
   "metadata": {
    "slideshow": {
     "slide_type": "slide"
    }
   },
   "source": [
    "<h1>Overview</h1> \n",
    "\n",
    "1. Überblick\n",
    "1. Python: Installation\n",
    "1. Editoren, IDEs\n",
    "1. **<font color=\"red\">Debugging und Testing</font>**\n",
    "1. Testen\n",
    "1. Zusammenfassung"
   ]
  },
  {
   "cell_type": "markdown",
   "metadata": {
    "slideshow": {
     "slide_type": "slide"
    }
   },
   "source": [
    "# Fehlersuche mit `print`?\n",
    "\n",
    "-   Kaum ein Programm wird fehlerfrei erschaffen\n",
    "-   Wie sucht man Fehler?\n",
    "    -   Testfälle!\n",
    "        -   Automatisiert testen?\n",
    "    -   `print` &#x2013; überall\n",
    "    -   Noch mehr `print`"
   ]
  },
  {
   "cell_type": "markdown",
   "metadata": {
    "slideshow": {
     "slide_type": "slide"
    }
   },
   "source": [
    "# Aspekte der Fehlersuche\n",
    "\n",
    "-   Strukturiert Vorgehen?\n",
    "    -   Leider wenig Literatur\n",
    "    -   Aber Ideen hier und da; siehe   z.B. [code:union blog](http://blog.codeunion.io/2014/09/03/teaching-novices-how-to-debug-code/),\n",
    "        [codementor blog](https://www.codementor.io/learn-programming/how-to-debug-code-efficiently-and-effectively),  [weitere  Blog](https://ericlippert.com/2014/03/05/how-to-debug-small-programs/)\n",
    "-   Werkzeug?"
   ]
  },
  {
   "cell_type": "markdown",
   "metadata": {
    "slideshow": {
     "slide_type": "slide"
    }
   },
   "source": [
    "# Aufwand der Fehlerbeseitigung\n",
    "\n",
    "<center>![img](./figures/dilbert-minivan.png \"Aufwand der Fehlerbeseitigung\")</center>"
   ]
  },
  {
   "cell_type": "markdown",
   "metadata": {
    "slideshow": {
     "slide_type": "slide"
    }
   },
   "source": [
    "# Vorgehen: Basics"
   ]
  },
  {
   "cell_type": "markdown",
   "metadata": {
    "slideshow": {
     "slide_type": "-"
    }
   },
   "source": [
    "## Es passiert nichts unmögliches<a id=\"orgheadline26\"></a>\n",
    "\n",
    "When you have eliminated the impossible, whatever remains, however\n",
    "improbable, must be the truth.\n",
    "\n",
    "Sherlock Holmes in *The Sign of the Four*"
   ]
  },
  {
   "cell_type": "markdown",
   "metadata": {
    "slideshow": {
     "slide_type": "slide"
    }
   },
   "source": [
    "# Vorgehen: Fragen stellen\n",
    "\n",
    "*Es geht nicht* ist nicht hilfreich\n",
    "\n",
    "-   Fragen an sich selbst:\n",
    "    -   Warum gehe ich davon aus, dass der Code nicht funktioniert?\n",
    "    -   Was habe ich eigentlich erwartet? Warum?\n",
    "        -   Auf welcher Granularitätsebene sollte ich das beantworten?\n",
    "        -   Vielleicht habe ich die Spezifikation falsch verstanden?\n",
    "    -   Was ist stattdessen passiert? Woher weiß ich das?\n",
    "-   Weitere Hilfsfragen: \n",
    "    -   Fehlerverhalten eingrenzbar?\n",
    "    -   Hat eine Änderung zu Fehlern geführt?"
   ]
  },
  {
   "cell_type": "markdown",
   "metadata": {
    "slideshow": {
     "slide_type": "slide"
    }
   },
   "source": [
    "# Vorgehen: Annahmen überprüfen\n",
    "\n",
    "Annahmen überprüfen!\n",
    "\n",
    "-   Mein Code hat keine Schreibfehler; alle Namen sind richtig geschrieben\n",
    "    -   Typische Falle in dynamischen Sprachen!\n",
    "-   Verständnis der Schnittstelle benutzten Codes; insbesondere\n",
    "    defaults\n",
    "    -   Beispiel: `list.pop` hat einen ungewöhnlichen Default-Wert!\n",
    "    -   Beispiel: Werden alle Parameter einer Funktion korrekt\n",
    "        angegeben? Fehler kann viel später im Code manifestieren"
   ]
  },
  {
   "cell_type": "markdown",
   "metadata": {
    "slideshow": {
     "slide_type": "slide"
    }
   },
   "source": [
    "# Vorgehen: Reproduzieren\n",
    "\n",
    "Was muss ich tun, um den Fehler zu reproduzieren? \n",
    "\n",
    "-   Gibt es unterschiedliche Eingaben, Zustände, die zum gleichen Fehler\n",
    "    führen?\n",
    "-   Entscheidend bei der Dokumentation von Fehlern!\n",
    "    -   Testfälle dokumentieren"
   ]
  },
  {
   "cell_type": "markdown",
   "metadata": {
    "slideshow": {
     "slide_type": "slide"
    }
   },
   "source": [
    "# Vorgehen: Erklären Sie Ihren Code!\n",
    "\n",
    "-   Erklären Sie, warum der Code funktioniert\n",
    "    -   Und der Fehler eigentlich nicht auftreten kann\n",
    "-   Einem Kommilitonen, der Großmutter, einer Quietscheente, einem Kaktus, &#x2026;"
   ]
  },
  {
   "cell_type": "markdown",
   "metadata": {
    "slideshow": {
     "slide_type": "slide"
    }
   },
   "source": [
    "# Vorgehen: Grenze zwischen eigenem Code/Bibliotheken verstehen\n",
    "\n",
    "-   Die meisten Fehler macht man selbst :-(\n",
    "-   Wo ist der Übergang von eigenem Code in Bibliotheken? Was passiert\n",
    "    an der Stelle?\n",
    "    -   Hier helfen debugger; siehe unten"
   ]
  },
  {
   "cell_type": "markdown",
   "metadata": {
    "slideshow": {
     "slide_type": "slide"
    }
   },
   "source": [
    "# Vorgehen: Annahmen sicherstellen (Assertions)\n",
    "\n",
    "-   Sie denken, Ihre Annahmen stimmen?\n",
    "-   Dann können Sie ja Test-Code einfügen, der das überprüft\n",
    "-   Einfache Möglichkeit: Assertions\n",
    "    -   Schlüsselwort: `assert(boolescher Ausdruck)`\n",
    "    -   Wenn Ausdruck wahr; weiter\n",
    "    -   Wenn falsch, Exception\n",
    "-   Kann sehr schnell Fehler eingrenzen; insbesondere \n",
    "    -   An Grenze zu Bibliothekscode: Vor und nach Aufruf\n",
    "    -   In eigenem Code: Zu Beginn jeder Methode (haben alle Parameter den\n",
    "        erwarteten Wert?)"
   ]
  },
  {
   "cell_type": "markdown",
   "metadata": {
    "slideshow": {
     "slide_type": "slide"
    }
   },
   "source": [
    "# Vorgehen: Das Wissen der Alten\n",
    "\n",
    "-   Chancen stehen gut, dass man nicht der erste mit dem Problem ist\n",
    "    -   Suchmaschine!\n",
    "    -   StackOverflow!\n",
    "        -   *I wrote this program for my assignment and it doesn’t work.*\n",
    "    -   (Richtiges Füttern von Suchmaschinen wird eine Kernkompetenz\n",
    "        werden&#x2026;)\n",
    "\n",
    "<center>![img](./figures/wisdom_of_the_ancients.png \"Wissen der Alten\")</center>"
   ]
  },
  {
   "cell_type": "markdown",
   "metadata": {
    "slideshow": {
     "slide_type": "slide"
    }
   },
   "source": [
    "# Vorgehen: Fixes\n",
    "\n",
    "-   Der Fehler ist gefunden\n",
    "-   Die Lösung ist offensichtlich\n",
    "    -   Nur leider falsch&#x2026;\n",
    "-   Mindestens: Die Testfälle wieder ausprobieren!\n",
    "    -   Und noch mehr Tests"
   ]
  },
  {
   "cell_type": "markdown",
   "metadata": {
    "slideshow": {
     "slide_type": "slide"
    }
   },
   "source": [
    "# Vorgehen: Erfahrung\n",
    "\n",
    "Debugging ist erlernt \n",
    "\n",
    "-   und braucht Übung\n",
    "-   Noch viel mehr Übung als Programmieren"
   ]
  },
  {
   "cell_type": "markdown",
   "metadata": {
    "slideshow": {
     "slide_type": "slide"
    }
   },
   "source": [
    "# Ansätze: Was kann man tun?\n",
    "\n",
    "Mit geeignetem Debugger: \n",
    "\n",
    "-   Programmablauf gezielt unterbrechen\n",
    "    -   Programmzeile, Modul, Funktion\n",
    "    -   Beim Entstehen einer Exception\n",
    "-   Welche Namen verweisen auf welche Werte  an kritischen Stellen?\n",
    "    -   Werte ändern?\n",
    "-   Programm kontrolliert ausführen?\n",
    "    -   In einzelnen Schritten?\n",
    "    -   Bis zum nächsten Fehler?\n",
    "    -   Zusätzliche Funktionen ausführen?\n",
    "    -   Ablauf modifizieren? Monkey patching?"
   ]
  },
  {
   "cell_type": "markdown",
   "metadata": {
    "slideshow": {
     "slide_type": "slide"
    }
   },
   "source": [
    "# Debugger für Python"
   ]
  },
  {
   "cell_type": "markdown",
   "metadata": {
    "slideshow": {
     "slide_type": "-"
    }
   },
   "source": [
    "## Eigenständig<a id=\"orgheadline38\"></a>\n",
    "\n",
    "-   [pdb](https://docs.python.org/3/library/pdb.html): Eingebaut in Python selbst (Standard-Package)\n",
    "-   [ipdb](https://pypi.python.org/pypi/ipdb): Ähnlich zu pdb, aber bessere Shell\n",
    "-   [pudb](https://pypi.python.org/pypi/pudb): Übersichtlich ohne GUI! Terminal/curses-basiert; schnelle\n",
    "    Tastatur-basierte Navigation\n",
    "-   [Netter Überblick](https://zapier.com/engineering/debugging-python-boss/) in einem Blog"
   ]
  },
  {
   "cell_type": "markdown",
   "metadata": {
    "slideshow": {
     "slide_type": "-"
    }
   },
   "source": [
    "## In Editoren/IDE integriert<a id=\"orgheadline39\"></a>\n",
    "\n",
    "Praktisch alle der oben genannten Editoren/IDEs können einen/mehrere\n",
    "dieser Debugger integrieren und ansteuern &#x2013; YMMV "
   ]
  },
  {
   "cell_type": "markdown",
   "metadata": {
    "slideshow": {
     "slide_type": "slide"
    }
   },
   "source": [
    "# Good debuggers help\n",
    "\n",
    "<center>![img](./figures/phd-debugging.png \"Good debuggers help\")</center>"
   ]
  },
  {
   "cell_type": "markdown",
   "metadata": {
    "slideshow": {
     "slide_type": "slide"
    }
   },
   "source": [
    "<h1>Overview</h1> \n",
    "\n",
    "1. Überblick\n",
    "1. Python: Installation\n",
    "1. Editoren, IDEs\n",
    "1. Debugging und Testing\n",
    "1. **<font color=\"red\">Testen</font>**\n",
    "1. Zusammenfassung"
   ]
  },
  {
   "cell_type": "markdown",
   "metadata": {
    "slideshow": {
     "slide_type": "slide"
    }
   },
   "source": [
    "# Testfälle\n",
    "\n",
    "-   Schon zur Fehlersuche besprochen: Überlegen Sie geeignete Testfälle\n",
    "    für ein Programm/Funktion/Klasse\n",
    "    -   Übliche Eingaben\n",
    "    -   Randfälle: Leere Eingaben, Sonderfälle, fehlerhafte Eingaben, &#x2026;\n",
    "-   Dokumentieren Sie Testfälle!"
   ]
  },
  {
   "cell_type": "markdown",
   "metadata": {
    "slideshow": {
     "slide_type": "slide"
    }
   },
   "source": [
    "# Automatisiert testen\n",
    "\n",
    "-   Von Hand testen: nützlich, aber beschränkt\n",
    "    -   Menschen sind einfach zu faul dazu\n",
    "-   Automatisiert testen!\n",
    "    -   Testfälle in einem Testprogramm festlegen\n",
    "    -   Bei Änderungen am entwickelten Programm: Tests laufen lassen\n",
    "-   Das kennen Sie von den Hausaufgaben!\n",
    "    -   Punkte werden durch ein solches automatisiertes Test-Framework\n",
    "        bestimmt"
   ]
  },
  {
   "cell_type": "markdown",
   "metadata": {
    "slideshow": {
     "slide_type": "slide"
    }
   },
   "source": [
    "# Test-driven design\n",
    "\n",
    "Professioneller Ansatz: \n",
    "\n",
    "-   Erst die Tests schreiben\n",
    "    -   Die scheitern am Anfang natürlich alle\n",
    "-   Nach und nach Funktion implementieren \n",
    "    -   Immer mehr Tests werden erfolgreich sein\n",
    "-   Programm ist fertig, wenn Tests ok"
   ]
  },
  {
   "cell_type": "markdown",
   "metadata": {
    "slideshow": {
     "slide_type": "slide"
    }
   },
   "source": [
    "<h1>Overview</h1> \n",
    "\n",
    "1. Überblick\n",
    "1. Python: Installation\n",
    "1. Editoren, IDEs\n",
    "1. Debugging und Testing\n",
    "1. Testen\n",
    "1. **<font color=\"red\">Zusammenfassung</font>**"
   ]
  },
  {
   "cell_type": "markdown",
   "metadata": {
    "slideshow": {
     "slide_type": "slide"
    }
   },
   "source": [
    "# Zusammenfassung\n",
    "\n",
    "-   Python: Installation des Interpreters und der Standard-Bibliothek\n",
    "    meist nicht schwer\n",
    "-   Für produktives Arbeiten\n",
    "    -   Editoren mit Sprachunterstützung\n",
    "    -   Debugger und Debugging-Disziplin\n",
    "    -   Test-Frameworks und Test-Disziplin\n",
    "\n",
    "  "
   ]
  }
 ],
 "metadata": {
  "celltoolbar": "Slideshow",
  "kernelspec": {
   "display_name": "Python 3",
   "language": "python",
   "name": "python3"
  },
  "language_info": {
   "codemirror_mode": {
    "name": "ipython",
    "version": 3
   },
   "file_extension": ".py",
   "mimetype": "text/x-python",
   "name": "python",
   "nbconvert_exporter": "python",
   "pygments_lexer": "ipython3",
   "version": "3.7.6"
  },
  "livereveal": {
   "theme": "simple",
   "transition": "none"
  }
 },
 "nbformat": 4,
 "nbformat_minor": 1
}
