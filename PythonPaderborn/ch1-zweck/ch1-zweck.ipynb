{
 "cells": [
  {
   "cell_type": "markdown",
   "metadata": {
    "slideshow": {
     "slide_type": "slide"
    }
   },
   "source": [
    "<h1>Kapitel 1: Zweck der Vorlesung GP1</h1>\n",
    "<p>Grundlagen der Programmierung 1<p><h2>Holger Karl</h2>\n",
    " "
   ]
  },
  {
   "cell_type": "markdown",
   "metadata": {
    "slideshow": {
     "slide_type": "slide"
    }
   },
   "source": [
    "<h1>Overview</h1> \n",
    "\n",
    "1. Überblick\n",
    "1. GP1 im Studienverlauf\n",
    "1. Denken in Algorithmen und Datenstrukturen\n",
    "1. Programmierparadigma\n",
    "1. Welche Programmiersprache?\n",
    "1. Werkzeuge\n",
    "1. Programmierung im Kontext\n",
    "1. Material\n",
    "1. Zusammenfassung \n",
    " \n"
   ]
  },
  {
   "cell_type": "markdown",
   "metadata": {
    "slideshow": {
     "slide_type": "slide"
    }
   },
   "source": [
    "<h1>Overview</h1> \n",
    "\n",
    "1. **<font color=\"red\">Überblick</font>**\n",
    "1. GP1 im Studienverlauf\n",
    "1. Denken in Algorithmen und Datenstrukturen\n",
    "1. Programmierparadigma\n",
    "1. Welche Programmiersprache?\n",
    "1. Werkzeuge\n",
    "1. Programmierung im Kontext\n",
    "1. Material\n",
    "1. Zusammenfassung"
   ]
  },
  {
   "cell_type": "markdown",
   "metadata": {
    "slideshow": {
     "slide_type": "slide"
    }
   },
   "source": [
    "# Dieses Kapitel\n",
    "\n",
    "-   Übersicht: Was beinhaltet *Programmieren*?\n",
    "-   Was macht eine gute Programmiererin aus?\n",
    "-   Was soll in dieser VL erreicht werden?\n",
    "-   Warum machen wir das so?"
   ]
  },
  {
   "cell_type": "markdown",
   "metadata": {
    "slideshow": {
     "slide_type": "skip"
    }
   },
   "source": [
    "# Setup\n",
    "\n",
    "Main point here is to set up warnings properly for presentation and to\n",
    "load tutormagic, so that we can later on use pythontutor for code\n",
    "animations. "
   ]
  },
  {
   "cell_type": "code",
   "execution_count": null,
   "metadata": {
    "slideshow": {
     "slide_type": "skip"
    }
   },
   "outputs": [],
   "source": [
    "%load_ext tutormagic\n",
    "import warnings\n",
    "warnings.filterwarnings('ignore', category=DeprecationWarning, module='.*/IPython/.*')\n",
    "\n",
    "import requests\n",
    "import webbrowser\n",
    "from IPython.core.magic import register_line_magic\n",
    "\n",
    "pingo_token = \"BRx9QJP7rjdUGBq3x4hP\"\n",
    "\n",
    "# Test-Session: \n",
    "pingo_url = \"https://pingo.upb.de/events/311055/quick_start.json\"\n",
    "# Produktiv-Session: \n",
    "# pingo_url = \"https://pingo.upb.de/events/204051/quick_start.json\"\n",
    "\n",
    "pingo_duration = '30'\n",
    "pingo_type = \"single\"\n",
    "\n",
    "\n",
    "@register_line_magic\n",
    "def pingo(line):\n",
    "    params = {'survey_name': pingo_title, \n",
    "              'predef_options': pingo_questions, \n",
    "              'q_type': pingo_type,\n",
    "              'duration': pingo_duration, \n",
    "              'auth_token': pingo_token}\n",
    "\n",
    "    r = requests.post(pingo_url, json=params)\n",
    "    webbrowser.open_new_tab(\"https://pingo.upb.de\" + r.headers['Location'])"
   ]
  },
  {
   "cell_type": "markdown",
   "metadata": {
    "slideshow": {
     "slide_type": "slide"
    }
   },
   "source": [
    "<h1>Overview</h1> \n",
    "\n",
    "1. Überblick\n",
    "1. **<font color=\"red\">GP1 im Studienverlauf</font>**\n",
    "1. Denken in Algorithmen und Datenstrukturen\n",
    "1. Programmierparadigma\n",
    "1. Welche Programmiersprache?\n",
    "1. Werkzeuge\n",
    "1. Programmierung im Kontext\n",
    "1. Material\n",
    "1. Zusammenfassung"
   ]
  },
  {
   "cell_type": "markdown",
   "metadata": {
    "slideshow": {
     "slide_type": "slide"
    }
   },
   "source": [
    "# Was ist Programmierung?\n",
    "\n",
    "<center>![img](./uml/programmieren.png \"Was ist Programmierung?\")</center>"
   ]
  },
  {
   "cell_type": "markdown",
   "metadata": {
    "slideshow": {
     "slide_type": "slide"
    }
   },
   "source": [
    "# Vorlesungsinhalt Programmierung\n",
    "\n",
    "Von allem ein bisschen, insbesondere: \n",
    "\n",
    "-   Grundlegende Programmierparadigmen\n",
    "    -   Imperativ\n",
    "    -   Objektorientiert\n",
    "    -   Dynamisch vs. statisch typisiert\n",
    "-   Coding\n",
    "    -   Entwicklung\n",
    "    -   Wiederbenutzung\n",
    "    -   Test\n",
    "    -   Werkzeuge"
   ]
  },
  {
   "cell_type": "markdown",
   "metadata": {
    "slideshow": {
     "slide_type": "notes"
    }
   },
   "source": [
    "## Programmierparadigmen<a id=\"orgheadline13\"></a>\n",
    "\n",
    "Mit dem Begriff *Programmierparadigmen* klassifiziert man\n",
    "Programmiersprachen in Familien. Innerhalb einer Familie kommen\n",
    "ähnliche Konzepte und Grundannahmen zur Geltung. Das betrifft zum\n",
    "Beispiel Annahmen über das Ausführungsmodell, über die Reihenfolgen\n",
    "von Ausführungen, und ähnliches. Andere Aspekte sind die Organisation\n",
    "des Codes in kleinere oder größere Einheiten. Stilfragen zählen\n",
    "ebenfalls dazu.  "
   ]
  },
  {
   "cell_type": "markdown",
   "metadata": {
    "slideshow": {
     "slide_type": "slide"
    }
   },
   "source": [
    "# VL Programmieren im Modulhandbuch"
   ]
  },
  {
   "cell_type": "markdown",
   "metadata": {
    "slideshow": {
     "slide_type": "-"
    }
   },
   "source": [
    "## Laut Modulhandbuch<a id=\"orgheadline15\"></a>\n",
    "\n",
    "-   Faktenwissen, unter anderem\n",
    "    -   die wesentlichen Konstrukte einer Programmiersprache (derzeit\n",
    "        Python, in geringem Umfang auch Java),\n",
    "    -   die Grundkonzepte von Komposition und Abstraktion in der Programmierung zu verstehen\n",
    "-   methodisches Wissen\n",
    "    -   die gelernten Sprachkonstrukte sinnvoll und mit Verständnis anzuwenden,\n",
    "    -   Software zu testen sowie Fehlerursachen zu finden und zu beseitigen,\n",
    "    -   objektorientierte Grundkonzepte zu verstehen und anzuwenden,\n",
    "    -   Software aus objektorientierten Bibliotheken wiederzuverwenden\n",
    "-   Transferkompetenz\n",
    "    -   praktische Erfahrungen in der Programmentwicklung auf neue Aufgaben zu übertragen\n",
    "-   normativ-bewertenden Kompetenzen\n",
    "    -   den Aufwand und die Durchführbarkeit von Programmieraufgaben zu beurteilen"
   ]
  },
  {
   "cell_type": "markdown",
   "metadata": {
    "slideshow": {
     "slide_type": "slide"
    }
   },
   "source": [
    "# VL Programmiersprachen\n",
    "\n",
    "-   Partnervorlesung (letztes Drittel dieses Semesters)"
   ]
  },
  {
   "cell_type": "markdown",
   "metadata": {
    "slideshow": {
     "slide_type": "-"
    }
   },
   "source": [
    "<div class=\"quote-head\" style=\"border:3px; border-style:solid; border-color:#d1cfcf; padding: 5px; background-color:#d1cfcf;  line-height:1.5em; text-align:center; border-radius: 15px 15px 0px 0px; margin-bottom: 0; width: 100%;\"><b>Zitat: Laut Modulhandbuch<a id=\"orgheadline17\"></a></b></div>\n",
    "\n",
    "Die Studierenden können Grundkonzepte von Programmier- und\n",
    "Anwendungssprachen erläutern. Sie können typische Eigenschaften\n",
    "nicht-imperativer Sprachen erklären. Sie sind in der Lage, einfache\n",
    "Grammatiken, Typenspezifikationen und funktionale Programme zu\n",
    "entwickeln. Sie sind in der Lage, praktische Erfahrungen in der\n",
    "Programmentwicklung auf neue Aufgaben zu übertragen. Sie besitzen die\n",
    "Fähigkeit, neue Programmier- und Anwendungssprachen selbstständig zu\n",
    "erlernen. \n",
    "\n",
    "<div class=\"quote-content\" style=\"border:3px; border-style:solid; border-color:#d1cfcf; padding: 5px; margin-top: 0;  line-height:1.5em; border-radius: 0px 0px 15px 15px; width: 100%; text-align:left\"></div> "
   ]
  },
  {
   "cell_type": "markdown",
   "metadata": {
    "slideshow": {
     "slide_type": "slide"
    }
   },
   "source": [
    "# Programmieren?\n",
    "\n",
    "-   Irgendwie dem Computer erklären was er machen soll?\n",
    "-   Irgendwie zusammen hacken&#x2026;?"
   ]
  },
  {
   "cell_type": "markdown",
   "metadata": {
    "slideshow": {
     "slide_type": "fragment"
    }
   },
   "source": [
    "## Wirklich?<a id=\"orgheadline19\"></a>\n",
    "\n",
    "<center>![img](./figures/simply-walk-programming.jpg \"One does not simply walk into programming\")</center>"
   ]
  },
  {
   "cell_type": "markdown",
   "metadata": {
    "slideshow": {
     "slide_type": "slide"
    }
   },
   "source": [
    "<h1>Overview</h1> \n",
    "\n",
    "1. Überblick\n",
    "1. GP1 im Studienverlauf\n",
    "1. **<font color=\"red\">Denken in Algorithmen und Datenstrukturen</font>**\n",
    "1. Programmierparadigma\n",
    "1. Welche Programmiersprache?\n",
    "1. Werkzeuge\n",
    "1. Programmierung im Kontext\n",
    "1. Material\n",
    "1. Zusammenfassung"
   ]
  },
  {
   "cell_type": "markdown",
   "metadata": {
    "slideshow": {
     "slide_type": "slide"
    }
   },
   "source": [
    "# Grobe Vorstellung\n",
    "\n",
    "-   Algorithmus: Was wird wie verarbeitet?\n",
    "-   Datenstruktur: Wie werden Daten repräsentiert?"
   ]
  },
  {
   "cell_type": "markdown",
   "metadata": {
    "slideshow": {
     "slide_type": "slide"
    }
   },
   "source": [
    "# Algorithmus"
   ]
  },
  {
   "cell_type": "markdown",
   "metadata": {
    "slideshow": {
     "slide_type": "-"
    }
   },
   "source": [
    "<div class=\"definition-head\" style=\"border:3px; border-style:solid; border-color:#5da9e9; padding: 5px; background-color:#5da9e9;  line-height:1.5em; text-align:center; border-radius: 15px 15px 0px 0px; margin-bottom: 0; width: 100%;\"><b>Definition: Algorithmus<a id=\"orgheadline22\"></a></b></div>\n",
    "\n",
    "Ein **Algorithmus** ist eine endliche, eindeutige, unmissverständliche\n",
    "Handlungsvorschrift zur Lösung eines Problems. \n",
    "\n",
    "<div class=\"definition-content\" style=\"border:3px; border-style:solid; border-color:#5da9e9; padding: 5px; margin-top: 0; border-radius: 0px 0px 15px 15px; width: 100%; text-align:left\"></div>"
   ]
  },
  {
   "cell_type": "markdown",
   "metadata": {
    "slideshow": {
     "slide_type": "slide"
    }
   },
   "source": [
    "# Algorithmus"
   ]
  },
  {
   "cell_type": "markdown",
   "metadata": {
    "slideshow": {
     "slide_type": "-"
    }
   },
   "source": [
    "## Historisch<a id=\"orgheadline24\"></a>\n",
    "\n",
    "-   Erste Ideen, Abu Dscha'far Muhammad ibn Musa al-Chwarizmi, ca. 825 n.u.Z.\n",
    "-   Ada Lovelace, 1843, Berechnung von Bernoullizahlen"
   ]
  },
  {
   "cell_type": "markdown",
   "metadata": {
    "slideshow": {
     "slide_type": "-"
    }
   },
   "source": [
    "## Wie?<a id=\"orgheadline25\"></a>\n",
    "\n",
    "-   Wie stellen wir das sicher?\n",
    "-   Natürliche Sprache?"
   ]
  },
  {
   "cell_type": "markdown",
   "metadata": {
    "slideshow": {
     "slide_type": "slide"
    }
   },
   "source": [
    "# Datenstruktur\n",
    "\n",
    "-   Welche Daten verwendet?\n",
    "-   Wie repräsentiert?\n",
    "-   Wie manipulierbar?\n",
    "\n",
    "Formalisiert: \n",
    "\n",
    "-   Abstrakter Datentyp\n",
    "-   Siehe VL Modellierung"
   ]
  },
  {
   "cell_type": "markdown",
   "metadata": {
    "slideshow": {
     "slide_type": "slide"
    }
   },
   "source": [
    "# Datenstruktur"
   ]
  },
  {
   "cell_type": "markdown",
   "metadata": {
    "slideshow": {
     "slide_type": "-"
    }
   },
   "source": [
    "<div class=\"definition-head\" style=\"border:3px; border-style:solid; border-color:#5da9e9; padding: 5px; background-color:#5da9e9;  line-height:1.5em; text-align:center; border-radius: 15px 15px 0px 0px; margin-bottom: 0; width: 100%;\"><b>Definition: Datenstrukur<a id=\"orgheadline28\"></a></b></div>\n",
    "\n",
    "Eine **Datenstruktur** legt fest, wie Daten in einem Rechner\n",
    "repräsentiert werden und wie sie verarbeitet oder manipuliert werden\n",
    "können. \n",
    "\n",
    "<div class=\"definition-content\" style=\"border:3px; border-style:solid; border-color:#5da9e9; padding: 5px; margin-top: 0; border-radius: 0px 0px 15px 15px; width: 100%; text-align:left\"></div>"
   ]
  },
  {
   "cell_type": "markdown",
   "metadata": {
    "slideshow": {
     "slide_type": "slide"
    }
   },
   "source": [
    "# Algorithmus/Datenstrukturen in Isolation?\n",
    "\n",
    "Kann man sich das beliebig ausdenken? "
   ]
  },
  {
   "cell_type": "markdown",
   "metadata": {
    "slideshow": {
     "slide_type": "fragment"
    }
   },
   "source": [
    "## Nein!<a id=\"orgheadline30\"></a>\n",
    "\n",
    "-   Hängt entscheidend vom **Maschinenmodell** ab\n",
    "\n",
    "Beispiele: \n",
    "\n",
    "-   Normaler Rechner\n",
    "-   Abstrakt: Turing-Maschine \n",
    "    -   Siehe VL Modellierung, VL EBKfS\n",
    "-   Quantencomputer"
   ]
  },
  {
   "cell_type": "markdown",
   "metadata": {
    "slideshow": {
     "slide_type": "slide"
    }
   },
   "source": [
    "# Maschinenmodell für diese VL?\n",
    "\n",
    "Wir gehen von *normalen* Rechnern aus: \n",
    "\n",
    "-   Speicher\n",
    "-   Verarbeitung\n",
    "-   Programm"
   ]
  },
  {
   "cell_type": "markdown",
   "metadata": {
    "slideshow": {
     "slide_type": "subslide"
    }
   },
   "source": [
    "# Speicher\n",
    "\n",
    "-   Enthält Daten\n",
    "    -   Unterteilt in kleinere Einheiten, *Speicherstellen*\n",
    "    -   Einfachster Fall: Speicherstellen durchnummeriert\n",
    "-   Inhalte der Speicherstellen zu einem Zeitpunkt: *Zustand*\n",
    "    -   **Zentraler Begriff**!"
   ]
  },
  {
   "cell_type": "markdown",
   "metadata": {
    "slideshow": {
     "slide_type": "fragment"
    }
   },
   "source": [
    "<div class=\"definition-head\" style=\"border:3px; border-style:solid; border-color:#5da9e9; padding: 5px; background-color:#5da9e9;  line-height:1.5em; text-align:center; border-radius: 15px 15px 0px 0px; margin-bottom: 0; width: 100%;\"><b>Definition: Zustand<a id=\"orgheadline33\"></a></b></div>\n",
    "\n",
    "Der **Zustand** eines Rechners ist ein Element einer diskreten Menge. Er\n",
    "wird gebildet durch den Inhalt aller (veränderlichen)\n",
    "Speicherstellen des Rechners. \n",
    "\n",
    "<div class=\"definition-content\" style=\"border:3px; border-style:solid; border-color:#5da9e9; padding: 5px; margin-top: 0; border-radius: 0px 0px 15px 15px; width: 100%; text-align:left\"></div>"
   ]
  },
  {
   "cell_type": "markdown",
   "metadata": {
    "slideshow": {
     "slide_type": "subslide"
    }
   },
   "source": [
    "# Verarbeitungseinheit\n",
    "\n",
    "-   *Central Processing Unit* (CPU)\n",
    "-   Manipuliert Daten im Speicher\n",
    "    -   Manipuliert *Zustand*\n",
    "-   Hält sich dabei an Anweisungen\n",
    "-   Es gibt nur endlich viele, wenige Anweisungen\n",
    "    -   Der *Instruktionssatz*"
   ]
  },
  {
   "cell_type": "markdown",
   "metadata": {
    "slideshow": {
     "slide_type": "subslide"
    }
   },
   "source": [
    "# Programm\n",
    "\n",
    "-   Eine Folge von Anweisungen, das *Programm*\n",
    "-   Anweisungen entstammen Instruktionssatz"
   ]
  },
  {
   "cell_type": "markdown",
   "metadata": {
    "slideshow": {
     "slide_type": "slide"
    }
   },
   "source": [
    "# Instruktionssatz: Beispiele\n",
    "\n",
    "Beispiele für Anweisungen: \n",
    "\n",
    "-   Übertrage Daten von beliebiger Stelle des  Speichers in CPU\n",
    "-   Übertrage Daten von CPU in beliebige Stelle des  Speichers\n",
    "-   Addiere zwei Daten\n",
    "-   Vergleiche zwei Daten"
   ]
  },
  {
   "cell_type": "markdown",
   "metadata": {
    "slideshow": {
     "slide_type": "slide"
    }
   },
   "source": [
    "# Ausführungsmodell\n",
    "\n",
    "Mit Speicher, CPU, Instruktionssatz ergibt sich ein\n",
    "*Ausführungsmodell*:\n",
    "\n",
    "-   CPU bearbeitet, zu jedem Zeitpunkt, eine *aktuelle Anweisung* aus\n",
    "    dem Programm\n",
    "-   Bearbeitung dieser Anweisung führt ggf. zur Veränderung der Daten\n",
    "-   Dann wird nächste Anweisung ausgeführt"
   ]
  },
  {
   "cell_type": "markdown",
   "metadata": {
    "slideshow": {
     "slide_type": "slide"
    }
   },
   "source": [
    "# Ausführungsmodell"
   ]
  },
  {
   "cell_type": "markdown",
   "metadata": {
    "slideshow": {
     "slide_type": "-"
    }
   },
   "source": [
    "<div class=\"definition-head\" style=\"border:3px; border-style:solid; border-color:#5da9e9; padding: 5px; background-color:#5da9e9;  line-height:1.5em; text-align:center; border-radius: 15px 15px 0px 0px; margin-bottom: 0; width: 100%;\"><b>Definition: Ausführungsmodell<a id=\"orgheadline39\"></a></b></div>\n",
    "\n",
    "Ein **Ausführungsmodell** legt fest, wie aus einem gegebenen Zustand der\n",
    "Folgezustand entsteht. Für jede Anweisung aus dem Instruktionssatz.  \n",
    "\n",
    "<div class=\"definition-content\" style=\"border:3px; border-style:solid; border-color:#5da9e9; padding: 5px; margin-top: 0; border-radius: 0px 0px 15px 15px; width: 100%; text-align:left\"></div>"
   ]
  },
  {
   "cell_type": "markdown",
   "metadata": {
    "slideshow": {
     "slide_type": "subslide"
    }
   },
   "source": [
    "# Ausführung\n",
    "\n",
    "-   Ausführung beginnt mit einem Zustand\n",
    "-   Jede Anweisung überführt einen Zustand in seinen *Folgezustand*\n",
    "-   Ausführung insgesamt also: *Folge von Zuständen*"
   ]
  },
  {
   "cell_type": "markdown",
   "metadata": {
    "slideshow": {
     "slide_type": "slide"
    }
   },
   "source": [
    "# Ausführungsmodell\n",
    "\n",
    "<center>![img](./uml/ausfuehrung.png \"Einfaches Ausführungsmodell\")</center>"
   ]
  },
  {
   "cell_type": "markdown",
   "metadata": {
    "slideshow": {
     "slide_type": "subslide"
    }
   },
   "source": [
    "# Langweiliges Ausführungsmodell\n",
    "\n",
    "**Immer** die nächste Anweisung? \n",
    "\n",
    "-   Langweilig&#x2026;"
   ]
  },
  {
   "cell_type": "markdown",
   "metadata": {
    "slideshow": {
     "slide_type": "fragment"
    }
   },
   "source": [
    "## Flexibel?<a id=\"orgheadline43\"></a>\n",
    "\n",
    "-   Die nächste auszuführende Anweisung kann von Vergleichen abhängen\n",
    "-   Vorstellung eines *Sprungs* in der Folge der Anweisungen"
   ]
  },
  {
   "cell_type": "markdown",
   "metadata": {
    "slideshow": {
     "slide_type": "subslide"
    }
   },
   "source": [
    "# Welcher Zustand ändert sich bei Sprung?\n",
    "\n",
    "-   Wichtiger Teil des Zustands:\n",
    "    -   Welche Anweisung wird gerade bearbeitet?\n",
    "    -   Welche Anweisung wird als nächstes bearbeitet?\n",
    "-   Normale Ausführung: Als nächstes wird die Anweisung in der folgenden\n",
    "    Zeile bearbeitet\n",
    "-   Sprung: Als nächstes wird die Anweisung in einer anderen \n",
    "    Zeile bearbeitet"
   ]
  },
  {
   "cell_type": "markdown",
   "metadata": {
    "slideshow": {
     "slide_type": "slide"
    }
   },
   "source": [
    "# Fertig?\n",
    "\n",
    "-   Im Prinzip wären wir jetzt mit der Vorlesung fertig:\n",
    "    -   Instruktionssatz genau beschreiben\n",
    "    -   Details Ausführungsmodell genau beschreiben\n",
    "-   Praktikabel? Nein!\n",
    "    -   Zu feingranular\n",
    "    -   Für Menschen schlecht verständliche Darstellung\n",
    "-   Wie programmieren?"
   ]
  },
  {
   "cell_type": "markdown",
   "metadata": {
    "slideshow": {
     "slide_type": "slide"
    }
   },
   "source": [
    "# Programmieren\n",
    "\n",
    "-   *Basteln* bis es tut??\n",
    "-   Gutes Programmieren\n",
    "    -   **Systematisches** Nachdenken, Entwurf, Planung, Verständnis\n",
    "    -   Auch: Ästhetik\n",
    "-   Systematik? &#x2013; Im Laufe der Vorlesung"
   ]
  },
  {
   "cell_type": "markdown",
   "metadata": {
    "slideshow": {
     "slide_type": "slide"
    }
   },
   "source": [
    "# Programmiersprachen\n",
    "\n",
    "-   Heben das Abstraktionsniveau\n",
    "    -   Mächtigere Anweisungen\n",
    "    -   Einfacher für Menschen\n",
    "-   Also: Definiere neuen Instruktionssatz, neue Vorstellung von\n",
    "    Zustand, &#x2026;\n",
    "-   Eine *Programmiersprache*"
   ]
  },
  {
   "cell_type": "markdown",
   "metadata": {
    "slideshow": {
     "slide_type": "subslide"
    }
   },
   "source": [
    "# Programmiersprache &#x2013; Definition\n",
    "\n",
    "-   Dient der Formulierung von\n",
    "    -   Algorithmen und\n",
    "    -   der in Algorithmen\n",
    "        benutzen Datenstrukturen\n",
    "-   Definiert ggf. Begriff des *Zustandes* und der Übergänge zwischen\n",
    "    Zuständen\n",
    "    -   *Anweisungen*\n",
    "    -   Insgesamt: *Semantik* der Sprache\n",
    "-   Vorschriften, wie Anweisungen und Daten aufgeschrieben werden\n",
    "    -   *Syntax* der Sprache"
   ]
  },
  {
   "cell_type": "markdown",
   "metadata": {
    "slideshow": {
     "slide_type": "subslide"
    }
   },
   "source": [
    "# Ausführung?\n",
    "\n",
    "-   Aber: Solche Programme sind nicht mehr  direkt durch reale Maschinen ausführbar"
   ]
  },
  {
   "cell_type": "markdown",
   "metadata": {
    "slideshow": {
     "slide_type": "fragment"
    }
   },
   "source": [
    "## Das macht nichts!<a id=\"orgheadline50\"></a>\n",
    "\n",
    "-   Wir stellen uns einfach eine irreale Maschine vor, die\n",
    "    entsprechend fähig ist\n",
    "-   Später: von irrealer Maschine zu realer Maschine?!\n",
    "    -   *Interpreter*\n",
    "    -   *Compiler*"
   ]
  },
  {
   "cell_type": "markdown",
   "metadata": {
    "slideshow": {
     "slide_type": "slide"
    }
   },
   "source": [
    "<h1>Overview</h1> \n",
    "\n",
    "1. Überblick\n",
    "1. GP1 im Studienverlauf\n",
    "1. Denken in Algorithmen und Datenstrukturen\n",
    "1. **<font color=\"red\">Programmierparadigma</font>**\n",
    "1. Welche Programmiersprache?\n",
    "1. Werkzeuge\n",
    "1. Programmierung im Kontext\n",
    "1. Material\n",
    "1. Zusammenfassung"
   ]
  },
  {
   "cell_type": "markdown",
   "metadata": {
    "slideshow": {
     "slide_type": "slide"
    }
   },
   "source": [
    "# Gute Programmiersprachen?\n",
    "\n",
    "-   Was ist das richtige Abstraktionsniveau?\n",
    "-   Wie Sprachen gestalten, damit \n",
    "    -   für Menschen einfach nutzbar?\n",
    "    -   für reale Maschinen gut umsetzbar?"
   ]
  },
  {
   "cell_type": "markdown",
   "metadata": {
    "slideshow": {
     "slide_type": "fragment"
    }
   },
   "source": [
    "## Grundlegende Ideen<a id=\"orgheadline52\"></a>\n",
    "\n",
    "-   Ideen in *Programmierparadigmen* beschreiben\n",
    "-   Gruppieren Programmiersprachen zu Familien"
   ]
  },
  {
   "cell_type": "markdown",
   "metadata": {
    "slideshow": {
     "slide_type": "slide"
    }
   },
   "source": [
    "# Programmierparadigma\n",
    "\n",
    "Sprachen eines Paradigmas gleichen sich in: \n",
    "\n",
    "-   Was sind statische Aspekte der Sprache?\n",
    "    -   Konstanten? Daten? Typen? Code? Variablen? &#x2026;?\n",
    "-   Was sind dynamische Aspekte der Sprache?\n",
    "    -   Variableninhalte? Variablen? Folge von Anweisungen?\n",
    "    -   Woher stammt Dynamik?\n",
    "        -   Eingaben? Zeitablauf? Ereignisse? Zufall? &#x2026;?"
   ]
  },
  {
   "cell_type": "markdown",
   "metadata": {
    "slideshow": {
     "slide_type": "slide"
    }
   },
   "source": [
    "# Programmierparadigmen: Beispiele\n",
    "\n",
    "<center>![img](./uml/paradigmen.png \"Beispiele für Programmierparadigmen\")</center>"
   ]
  },
  {
   "cell_type": "markdown",
   "metadata": {
    "slideshow": {
     "slide_type": "subslide"
    }
   },
   "source": [
    "# Programmierparadigma: Imperativ\n",
    "\n",
    "-   Älteste Sprachfamilie\n",
    "-   Niedrige Abstraktionsebene\n",
    "-   Sehr nahe am realen Maschinenmodell\n",
    "-   Einfach zu erlernen, aber schlecht für große Anwendungen geeignet\n",
    "\n",
    "-   Beispiele: BASIC, C, Pascal, &#x2026;"
   ]
  },
  {
   "cell_type": "markdown",
   "metadata": {
    "slideshow": {
     "slide_type": "subslide"
    }
   },
   "source": [
    "# Programmierparadigma: Objektorientiert\n",
    "\n",
    "-   Beobachtung bei imperativen Sprachen: Zusammenhang zwischen *Daten*\n",
    "      und *Anweisungen* oft schwer zu sehen\n",
    "    -   Insbesondere bei großen Programmen unübersichtlich\n",
    "-   Idee: Zusammenfassen!\n",
    "    -   Daten und der darauf anwendbare Code werden gemeinsam beschrieben\n",
    "\n",
    "-   Beispiele: Smalltalk, C++, Java, Python"
   ]
  },
  {
   "cell_type": "markdown",
   "metadata": {
    "slideshow": {
     "slide_type": "subslide"
    }
   },
   "source": [
    "# Programmierparadigma: Funktional\n",
    "\n",
    "-   Vermeidung der Vorstellung eines *Zustands*\n",
    "    -   Keine Seiteneffekte\n",
    "    -   Programm ist eigentlich nur ein große Funktion\n",
    "-   Programm selbst kann zum Gegenstand des Programms werden\n",
    "    -   Schlagwort: *Functions as first-class citizens*\n",
    "\n",
    "-   Beispiele: Lambda-Kalkül, Lisp, Haskell, F#"
   ]
  },
  {
   "cell_type": "markdown",
   "metadata": {
    "slideshow": {
     "slide_type": "subslide"
    }
   },
   "source": [
    "# Programmierparadigma: Logisch\n",
    "\n",
    "-   Ein Programm beschreibt Fakten und Schlussregeln\n",
    "-   *Maschine* konstruiert durch Anwendung der Regeln auf Fakten neue\n",
    "    Fakten\n",
    "-   Wenn eine Frage als Fakt konstruiert werden kann, ist sie wahr\n",
    "\n",
    "-   Beispiele: Prolog"
   ]
  },
  {
   "cell_type": "markdown",
   "metadata": {
    "slideshow": {
     "slide_type": "slide"
    }
   },
   "source": [
    "# Welches Paradigma für diese VL?\n",
    "\n",
    "-   Anforderungen\n",
    "    -   Leicht erlernbar\n",
    "    -   Praxisrelevant\n",
    "    -   Ausgangspunkt für weitere Ausbildung\n",
    "\n",
    "-   Hier: 30% imperativ, 60% objektorientiert, 10% funktional\n",
    "\n",
    "-   Mehr Details, Beispiele: VL  Programmiersprachen"
   ]
  },
  {
   "cell_type": "markdown",
   "metadata": {
    "slideshow": {
     "slide_type": "slide"
    }
   },
   "source": [
    "# Paradigma und Sprache?\n",
    "\n",
    "-   Meist keine 1:1 Beziehung\n",
    "    -   Kein Paradigma mit nur einer Beispielsprache\n",
    "    -   (Fast) keine Sprache folgt nur einem Paradigma exklusiv\n",
    "-   Meist Mischkonzepte, Überlappungen, &#x2026;"
   ]
  },
  {
   "cell_type": "markdown",
   "metadata": {
    "slideshow": {
     "slide_type": "slide"
    }
   },
   "source": [
    "<h1>Overview</h1> \n",
    "\n",
    "1. Überblick\n",
    "1. GP1 im Studienverlauf\n",
    "1. Denken in Algorithmen und Datenstrukturen\n",
    "1. Programmierparadigma\n",
    "1. **<font color=\"red\">Welche Programmiersprache?</font>**\n",
    "1. Werkzeuge\n",
    "1. Programmierung im Kontext\n",
    "1. Material\n",
    "1. Zusammenfassung"
   ]
  },
  {
   "cell_type": "markdown",
   "metadata": {
    "slideshow": {
     "slide_type": "slide"
    }
   },
   "source": [
    "# Anforderungen\n",
    "\n",
    "-   Leicht erlernbar, gut strukturiert\n",
    "-   Praxisrelevant\n",
    "-   Deckt wesentliche Paradigmen ab\n",
    "-   Ausgangspunkt für weitere Ausbildung\n",
    "-   Portierbar zwischen Betriebssystemen, Architekturen\n",
    "-   Spass!"
   ]
  },
  {
   "cell_type": "markdown",
   "metadata": {
    "slideshow": {
     "slide_type": "slide"
    }
   },
   "source": [
    "# Auswahl?\n",
    "\n",
    "-   Keine Sprache erfüllt alle Anforderungen :-(\n",
    "\n",
    "-   Kandidaten: C/C++, Java, Python \n",
    "    -   Alle praxisrelevant, wesentlich im weiteren Studienverlauf\n",
    "-   Oder Exoten: Javascript, Kotlin, Go, Rust, Scala, &#x2026;?"
   ]
  },
  {
   "cell_type": "markdown",
   "metadata": {
    "slideshow": {
     "slide_type": "subslide"
    }
   },
   "source": [
    "# C/C++ ?\n",
    "\n",
    "-   Nahe am Maschinenmodell\n",
    "    -   Es passiert nichts überraschendes\n",
    "-   Wenig Abstraktion\n",
    "-   Wenig fehlerverzeihend\n",
    "-   Alte Sprache: viel historischer Ballast\n",
    "    -   Durch gewünschte *Rückwärtskompatibilität*\n",
    "    -   Insbesondere bei C++\n",
    "-   (Nahezu) keine funktionalen Aspekte"
   ]
  },
  {
   "cell_type": "markdown",
   "metadata": {
    "slideshow": {
     "slide_type": "-"
    }
   },
   "source": [
    "## Rückwärtskompatibilität<a id=\"orgheadline64\"></a>\n",
    "\n",
    "*Rückwärtskompatibilität* ist eine Eigenschaft, die bei neuen\n",
    "Versionen eines Systems &#x2013; hier: einer Programmiersprache &#x2013;\n",
    "auftritt. Rückwärtskompatibilität liegt vor, wenn die neue Version in\n",
    "der Lage ist, Eingaben (hier: Programme) korrekt und unverändert zu\n",
    "verarbeiten, die für die alte Version erstellt wurden. \n",
    "\n",
    "Beispiel: Benzinmotoren sind rückwärtskompatibel zu einander, da sie\n",
    "alle Benzin verarbeiten. Mit der Einführung des Katalysators war dies\n",
    "aber nicht der Fall, da verbleites Benzin nicht mehr verarbeitet\n",
    "werden konnte. "
   ]
  },
  {
   "cell_type": "markdown",
   "metadata": {
    "slideshow": {
     "slide_type": "subslide"
    }
   },
   "source": [
    "# Java?\n",
    "\n",
    "-   Hohe Abstraktion\n",
    "-   Komplexes Ausführungsmodell\n",
    "    -   Viel *Magie*\n",
    "-   Moderne Sprache, die viele Trends integriert\n",
    "    -   Dadurch auch unübersichtlich\n",
    "    -   Beispiel: Funktional möglich, aber offensichtlich aufgepfropft\n",
    "-   Hoher Einarbeitungsaufwand zu Beginn"
   ]
  },
  {
   "cell_type": "markdown",
   "metadata": {
    "slideshow": {
     "slide_type": "subslide"
    }
   },
   "source": [
    "# Python?\n",
    "\n",
    "-   Moderne Sprache, strikt verwaltet\n",
    "-   Weniger komplex als Java\n",
    "-   Sehr gut lesbar, kompakt\n",
    "    -   Typischerweise: 1/3 &#x2013; 1/5 vergleichbaren Java-Codes\n",
    "-   Geringer Einarbeitungsaufwand\n",
    "-   Interpretiert, dadurch einfach zu experimentieren\n",
    "-   Vor-/Nachteil: Keine statischen Typen\n",
    "-   [Schnell wachsend](https://stackoverflow.blog/2017/09/06/incredible-growth-python/)"
   ]
  },
  {
   "cell_type": "markdown",
   "metadata": {
    "slideshow": {
     "slide_type": "slide"
    }
   },
   "source": [
    "# Vergleich: TIOBE Index\n",
    "\n",
    "-   [TIOBE Index](http://www.tiobe.com/tiobe_index): Welche Sprachen\n",
    "    werden am Arbeitsmarkt nachgefragt?\n",
    "\n",
    "Ranking: \n",
    "\n",
    "1.  Java\n",
    "\n",
    "2.  C, C++\n",
    "\n",
    "3.  Python"
   ]
  },
  {
   "cell_type": "markdown",
   "metadata": {
    "slideshow": {
     "slide_type": "slide"
    }
   },
   "source": [
    "# Vergleich: TIOBE Index\n",
    "\n",
    "From [Tiobe Index 2018](https://www.tiobe.com/tiobe-index/): \n",
    "\n",
    "<center>![img](./figures/tiobe-2018.png \"TIOBE Index 2018\")</center>"
   ]
  },
  {
   "cell_type": "markdown",
   "metadata": {
    "slideshow": {
     "slide_type": "slide"
    }
   },
   "source": [
    "# Ihre Erfahrung?"
   ]
  },
  {
   "cell_type": "code",
   "execution_count": null,
   "metadata": {
    "slideshow": {
     "slide_type": "-"
    }
   },
   "outputs": [],
   "source": [
    "pingo_title = \"Mit welchen Programmiersprachen haben Sie Erfahrung? (Mehrfachnennung möglich)\" \n",
    "pingo_type = \"multi\"\n",
    "pingo_questions = [\"Java\", \"C/C++\", \"Pascal\", \"Python\", \"Andere\", \"Gar keine\"]\n",
    "pingo_duration = \"30\"\n",
    "\n",
    "%pingo"
   ]
  },
  {
   "cell_type": "markdown",
   "metadata": {
    "slideshow": {
     "slide_type": "slide"
    }
   },
   "source": [
    "# Konsequenz?\n",
    "\n",
    "-   Beginn:  Python &#x2013; ca. 3/4 der Vorlesung\n",
    "    -   Grundlegende imperative, objektorientierte, funktionale Aspekte\n",
    "-   Zum Ende: Java &#x2013; ca. 1/4\n",
    "    -   Einführung statischer Typisierung\n",
    "\n",
    "(und C kommt im vierten Semester&#x2026;) "
   ]
  },
  {
   "cell_type": "markdown",
   "metadata": {
    "slideshow": {
     "slide_type": "fragment"
    }
   },
   "source": [
    "## Vorteil?<a id=\"orgheadline71\"></a>\n",
    "\n",
    "-   Einfacher Einstieg & breiter Horizont\n",
    "-   Zwei Sprachen sind kein Hexenwerk!"
   ]
  },
  {
   "cell_type": "markdown",
   "metadata": {
    "slideshow": {
     "slide_type": "slide"
    }
   },
   "source": [
    "# Alle Sprachen?\n",
    "\n",
    "<center>![img](./figures/cobolsaurus.png \"Hartnäckigkeit kann sich auszahlen\")</center>"
   ]
  },
  {
   "cell_type": "markdown",
   "metadata": {
    "slideshow": {
     "slide_type": "slide"
    }
   },
   "source": [
    "<h1>Overview</h1> \n",
    "\n",
    "1. Überblick\n",
    "1. GP1 im Studienverlauf\n",
    "1. Denken in Algorithmen und Datenstrukturen\n",
    "1. Programmierparadigma\n",
    "1. Welche Programmiersprache?\n",
    "1. **<font color=\"red\">Werkzeuge</font>**\n",
    "1. Programmierung im Kontext\n",
    "1. Material\n",
    "1. Zusammenfassung"
   ]
  },
  {
   "cell_type": "markdown",
   "metadata": {
    "slideshow": {
     "slide_type": "slide"
    }
   },
   "source": [
    "# Werkzeuge\n",
    "\n",
    "-   Programmierer brauchen Werkzeuge, je nach Sprache\n",
    "-   Wesentlich:\n",
    "    -   Editor\n",
    "    -   Debugger\n",
    "    -   Profiler\n",
    "    -   (IDE)\n",
    "    -   Dokumentation\n",
    "    -   Versionsverwaltung"
   ]
  },
  {
   "cell_type": "markdown",
   "metadata": {
    "slideshow": {
     "slide_type": "slide"
    }
   },
   "source": [
    "# Editor\n",
    "\n",
    "-   Programmtext eintippen&#x2026;\n",
    "-   Einfacher Editor\n",
    "    -   Komfortabel\n",
    "    -   Aber **keine** spezifische Unterstützung für gewählte\n",
    "        Programmiersprache\n",
    "-   Programmier-Editor\n",
    "    -   Unterstützt editieren in gewählter Sprache\n",
    "    -   Versteht Programmiersprache\n",
    "    -   Kann Vorschläge machen, Ergänzungen, &#x2026;"
   ]
  },
  {
   "cell_type": "markdown",
   "metadata": {
    "slideshow": {
     "slide_type": "subslide"
    }
   },
   "source": [
    "# Editor für diese VL?\n",
    "\n",
    "-   Prinzipiell: Nutzen Sie, was Sie wollen!\n",
    "-   Abgaben durch Browser-basiertes System\n",
    "    -   Jupyter,  [Projekt Webseiten](http://jupyter.org)\n",
    "    -   Insbesondere: Editor im Browser"
   ]
  },
  {
   "cell_type": "markdown",
   "metadata": {
    "slideshow": {
     "slide_type": "slide"
    }
   },
   "source": [
    "# Debugger\n",
    "\n",
    "-   Niemand programmiert fehlerfrei\n",
    "-   Debugger hilft bei Fehlersuche\n",
    "    -   Programm gezielt anhalten\n",
    "    -   Variablenwerte anschauen, verändern\n",
    "    -   &#x2026;"
   ]
  },
  {
   "cell_type": "markdown",
   "metadata": {
    "slideshow": {
     "slide_type": "slide"
    }
   },
   "source": [
    "# Profiler\n",
    "\n",
    "-   Laufzeit eines Programms untersuchen\n",
    "-   Wo ist es unnötig langsam?\n",
    "-   Statistiken für viele Läufe erheben"
   ]
  },
  {
   "cell_type": "markdown",
   "metadata": {
    "slideshow": {
     "slide_type": "slide"
    }
   },
   "source": [
    "# Dokumentation\n",
    "\n",
    "-   Innerhalb eines Programms: Dokumentation, Kommentare\n",
    "    -   Notizen **was**, **warum** und **wie** geschieht\n",
    "-   In Programm verteilt\n",
    "-   Werkzeug: Dokumentation extrahieren und in kompakter Form bereit\n",
    "    stellen\n",
    "\n",
    "-   Beispiele: javadoc, doxygen (mit Abarten), pydoc, autodoc, &#x2026;"
   ]
  },
  {
   "cell_type": "markdown",
   "metadata": {
    "slideshow": {
     "slide_type": "slide"
    }
   },
   "source": [
    "# Versionsverwaltung\n",
    "\n",
    "-   Kein Programm ist direkt perfekt\n",
    "    -   Verfeinert, Fehler behoben, &#x2026;\n",
    "    -   Es entstehen **Versionen** eines Programms\n",
    "-   Handhabung?\n",
    "    -   Kopien in Ordnern? `MyProgram/v17.3_after_midnight` ?"
   ]
  },
  {
   "cell_type": "markdown",
   "metadata": {
    "slideshow": {
     "slide_type": "subslide"
    }
   },
   "source": [
    "# Werkzeuge für Versionsverwaltung\n",
    "\n",
    "-   Nutzen Sie spezialisierte Werkzeuge!\n",
    "-   Nur eine Version des Programms in Bearbeitung\n",
    "-   Ältere Versionen, Alternativen zugreifbar\n",
    "\n",
    "-   Beispiele:\n",
    "    -   `svn`, `git` (mit Zusatzfunktionen wie etwa `github` )\n",
    "    -   Jupyter: einfaches Abspeichern und Wiederbenutzen älterer\n",
    "        Versionen (sog. *checkpoint*)"
   ]
  },
  {
   "cell_type": "markdown",
   "metadata": {
    "slideshow": {
     "slide_type": "notes"
    }
   },
   "source": [
    "## Versionsverwaltung &#x2013; aktueller Stand<a id=\"orgheadline81\"></a>\n",
    "\n",
    "Es gibt eine große Anzahl unterschiedlicher\n",
    "Versionsverwaltungswerkzeuge. Aktuell ist `git` vermutlich am\n",
    "weitesten verbreitet; es ist sehr flexibel und funktionsreich. \n",
    "\n",
    "In dieser VL  werden wir allerdings auf explizite\n",
    "Versionsverwaltungswerkzeuge verzichten. "
   ]
  },
  {
   "cell_type": "markdown",
   "metadata": {
    "slideshow": {
     "slide_type": "slide"
    }
   },
   "source": [
    "# Integrierte Entwicklungsumgebung\n",
    "\n",
    "-   Integrated Development Environment (IDE)\n",
    "-   Fasst viele Werkzeuge in einem Programm zusammen\n",
    "-   Problem: Meist **sehr** komplex\n",
    "    -   Bedienung, Nutzung einer IDE zu lernen ist sehr zeitaufwändig\n",
    "-   *IDE-Bedienung ist **nicht** programmieren*!"
   ]
  },
  {
   "cell_type": "markdown",
   "metadata": {
    "slideshow": {
     "slide_type": "fragment"
    }
   },
   "source": [
    "## Empfehlung<a id=\"orgheadline83\"></a>\n",
    "\n",
    "-   Tun Sie es nicht\n",
    "-   Jedenfalls nicht gleich!"
   ]
  },
  {
   "cell_type": "markdown",
   "metadata": {
    "slideshow": {
     "slide_type": "slide"
    }
   },
   "source": [
    "<h1>Overview</h1> \n",
    "\n",
    "1. Überblick\n",
    "1. GP1 im Studienverlauf\n",
    "1. Denken in Algorithmen und Datenstrukturen\n",
    "1. Programmierparadigma\n",
    "1. Welche Programmiersprache?\n",
    "1. Werkzeuge\n",
    "1. **<font color=\"red\">Programmierung im Kontext</font>**\n",
    "1. Material\n",
    "1. Zusammenfassung"
   ]
  },
  {
   "cell_type": "markdown",
   "metadata": {
    "slideshow": {
     "slide_type": "slide"
    }
   },
   "source": [
    "# Alles alleine?\n",
    "\n",
    "-   Schreiben Sie alle Programme von Grund auf (*from scratch*)?"
   ]
  },
  {
   "cell_type": "markdown",
   "metadata": {
    "slideshow": {
     "slide_type": "fragment"
    }
   },
   "source": [
    "## Natürlich nicht<a id=\"orgheadline85\"></a>\n",
    "\n",
    "-   Sie nutzen Arbeit anderer\n",
    "    -   Allgemein verfügbar\n",
    "    -   Aus Ihrem Team\n",
    "-   Sie nutzen Erfahrungen anderer"
   ]
  },
  {
   "cell_type": "markdown",
   "metadata": {
    "slideshow": {
     "slide_type": "slide"
    }
   },
   "source": [
    "# Allgemein verfügbar: Bibliotheken\n",
    "\n",
    "-   Bibliothek\n",
    "    -   Programmcode der vielen Zwecken dienen kann\n",
    "    -   Teil der Sprache: *Standard-Bibliothek*\n",
    "    -   Oder zusätzlich verfügbar\n",
    "\n",
    "-   Stark unterschiedliche Ansätze zwischen Sprachen\n",
    "    -   C: fast leere Standardbibliothek\n",
    "    -   Python: sehr umfangreich (*batteries included*)"
   ]
  },
  {
   "cell_type": "markdown",
   "metadata": {
    "slideshow": {
     "slide_type": "fragment"
    }
   },
   "source": [
    "## Effizienz des Programmierers<a id=\"orgheadline87\"></a>\n",
    "\n",
    "-   Gute Programmiersprache mit guter Bibliothek!"
   ]
  },
  {
   "cell_type": "markdown",
   "metadata": {
    "slideshow": {
     "slide_type": "slide"
    }
   },
   "source": [
    "# Technisch: Package management systems\n",
    "\n",
    "-   Wie findet man, installiert man zusätzliche Bibliotheken?\n",
    "    -   Bibliothek: *Package*\n",
    "    -   *Package management system*\n",
    "-   Stark unterschiedliche Ansätze zwischen Sprachen\n",
    "    -   C: ???\n",
    "    -   Python: [Python Package Index](https://pypi.python.org/pypi/pip) (PIP), [Conda](http://conda.pydata.org/docs/), u.a.\n",
    "-   Beispiele: Später"
   ]
  },
  {
   "cell_type": "markdown",
   "metadata": {
    "slideshow": {
     "slide_type": "slide"
    }
   },
   "source": [
    "# Team-Arbeit: Versionsverwaltung\n",
    "\n",
    "-   Versionsverwaltung auch (insbesondere) für Team-Arbeit gedacht\n",
    "-   Gemeinsame Arbeit an größerem Projekt\n",
    "-   Wiederverwendung!\n",
    "-   Beispiele: Später"
   ]
  },
  {
   "cell_type": "markdown",
   "metadata": {
    "slideshow": {
     "slide_type": "slide"
    }
   },
   "source": [
    "# Hilfe finden\n",
    "\n",
    "Wo finden Sie Hilfe? Bei allgemeinen Fragen? \n",
    "\n",
    "-   [StackExchange](http://stackexchange.com)\n",
    "    -   Mit spezialisierten Unterseiten für einzelne Gebiete\n",
    "    -   [stackOverflow](http://askubuntu.com) &#x2013; 4.7 million\n",
    "        programmers, helping each other\n",
    "    -   [AskUbuntu](http://askubuntu.com)\n",
    "    -   [System adminstration](http://serverfault.com)\n",
    "    -   [TeX/LaTex StackExchange](http://tex.stackexchange.com) &#x2013;\n",
    "        Textverarbeitung für ernsthafte Textverarbeiter\n",
    "    -   [emacs](http://emacs.stackexchange.com) &#x2013; Editor für ernsthafte Programmierer"
   ]
  },
  {
   "cell_type": "markdown",
   "metadata": {
    "slideshow": {
     "slide_type": "slide"
    }
   },
   "source": [
    "# Hilfe finden (2)\n",
    "\n",
    "-   Spezifisch: Sprache, Entwicklungsumgebung, &#x2026;\n",
    "    -   Beispiel C++: [C++ Reference Site](http://en.cppreference.com/w/)\n",
    "    -   StackExchange : Spezifische Seiten, z.B."
   ]
  },
  {
   "cell_type": "markdown",
   "metadata": {
    "slideshow": {
     "slide_type": "slide"
    }
   },
   "source": [
    "# Gute Programmierer\n",
    "\n",
    "&#x2026; wissen, wie man google/stackoverflow die richtigen Fragen stellt "
   ]
  },
  {
   "cell_type": "markdown",
   "metadata": {
    "slideshow": {
     "slide_type": "slide"
    }
   },
   "source": [
    "<h1>Overview</h1> \n",
    "\n",
    "1. Überblick\n",
    "1. GP1 im Studienverlauf\n",
    "1. Denken in Algorithmen und Datenstrukturen\n",
    "1. Programmierparadigma\n",
    "1. Welche Programmiersprache?\n",
    "1. Werkzeuge\n",
    "1. Programmierung im Kontext\n",
    "1. **<font color=\"red\">Material</font>**\n",
    "1. Zusammenfassung"
   ]
  },
  {
   "cell_type": "markdown",
   "metadata": {
    "slideshow": {
     "slide_type": "slide"
    }
   },
   "source": [
    "# Programmierung\n",
    "\n",
    "-   Programmierung allgemein\n",
    "    -   Felleisen et al., [How to design programs, An introduction to\n",
    "        programming and computing](http://htdp.org), MIT Press (online verfügbar).\n",
    "\n",
    "-   Online\n",
    "    -   [CodeCademy](https://www.codecademy.com/): Große Sammlung von\n",
    "        Kursen zu unterschiedlichen Themen; interaktiv\n",
    "    \n",
    "    -   [CodeWars](https://www.codewars.com): Lernen durch Herausforderungen\n",
    "    \n",
    "    -   s. a. [Übersichtswebsite](http://www.hongkiat.com/blog/sites-to-learn-coding-online/);\n",
    "        meist kommerzielle Angebote"
   ]
  },
  {
   "cell_type": "markdown",
   "metadata": {
    "slideshow": {
     "slide_type": "slide"
    }
   },
   "source": [
    "# Python\n",
    "\n",
    "-   Python, die Sprache \n",
    "    -   [Python Dokumentation](https://docs.python.org/3/)\n",
    "    -   Mark Lutz, Learning Python, 5th ed., O'Reilly\n",
    "        -   Auch als\n",
    "            [eBook](http://proquest.tech.safaribooksonline.de/9781449355722)\n",
    "            in der UniBib\n",
    "    -   Jason Briggs, Python for Kids\n",
    "    -   Bernd Klein, Einführung in Python 3: In einer Woche programmieren\n",
    "        lernen\n",
    "    -   Thomas Theis, Einstieg in Python"
   ]
  },
  {
   "cell_type": "markdown",
   "metadata": {
    "slideshow": {
     "slide_type": "slide"
    }
   },
   "source": [
    "# Python, Umgebungen\n",
    "\n",
    "-   Jupyter\n",
    "    -   [Jupyter Projekt Webseiten](http://jupyter.org)\n",
    "-   Texteditor\n",
    "    -   [Atom](http://atom.io)\n",
    "    -   [Emacs](https://www.gnu.org/s/emacs/)\n",
    "        -   Mit Abarten je nach Betriebssystem\n",
    "    -   und viele, viele andere &#x2026;\n",
    "-   IDEs\n",
    "    -   (Vorsicht, **sehr** komplex)\n",
    "    -   Kommerziell: [PyCharm](https://www.jetbrains.com/pycharm/)\n",
    "    -   Open Source: Eclipse, insbes. [PyDev](http://www.pydev.org)"
   ]
  },
  {
   "cell_type": "markdown",
   "metadata": {
    "slideshow": {
     "slide_type": "slide"
    }
   },
   "source": [
    "# Java\n",
    "\n",
    "-   Bücher\n",
    "    -   Hanspeter Mössenböck, Sprechen Sie Java? dpunkt Verlag\n",
    "    -   Reinhard Schiedermeier, Programmieren mit Java, Pearson Studium\n",
    "-   [Java Tutorial](http://download.oracle.com/javase/tutorial/)"
   ]
  },
  {
   "cell_type": "markdown",
   "metadata": {
    "slideshow": {
     "slide_type": "slide"
    }
   },
   "source": [
    "# Java, Umgebungen\n",
    "\n",
    "-   IDEs\n",
    "    -   (Vorsicht, **sehr** komplex)\n",
    "    -   Open Source: [Eclipse](http://www.eclipse.org)"
   ]
  },
  {
   "cell_type": "markdown",
   "metadata": {
    "slideshow": {
     "slide_type": "slide"
    }
   },
   "source": [
    "<h1>Overview</h1> \n",
    "\n",
    "1. Überblick\n",
    "1. GP1 im Studienverlauf\n",
    "1. Denken in Algorithmen und Datenstrukturen\n",
    "1. Programmierparadigma\n",
    "1. Welche Programmiersprache?\n",
    "1. Werkzeuge\n",
    "1. Programmierung im Kontext\n",
    "1. Material\n",
    "1. **<font color=\"red\">Zusammenfassung</font>**"
   ]
  },
  {
   "cell_type": "markdown",
   "metadata": {
    "slideshow": {
     "slide_type": "slide"
    }
   },
   "source": [
    "# Aber das kann ich doch alles\n",
    "\n",
    "-   Vorkenntnisse vorhanden? **Super**!\n",
    "-   Keine? Auch gut!\n",
    "-   Selbsteinschätzung &#x2013; brauche ich die Vorlesung?\n",
    "    -   Variablen: Referenztypen vs. normale Typen\n",
    "    -   Statisch vs. dynamisch typisierte Sprachen\n",
    "    -   Kontrollstrukturen: `if`, `while`, `for` mit Iteratoren\n",
    "    -   Algorithmenentwurf mit rekursiven Funktionen\n",
    "    -   Funktionen: Closures, Generatoren\n",
    "    -   Objektorientierung\n",
    "        -   Mehrfachvererbung, Method Resolution Order durch C3-Algorithmus\n",
    "        -   Einfachvererbung: Abstrakte Klassen vs. Interfaces\n",
    "    -   Debugging: Konzepte und Werkzeuge"
   ]
  },
  {
   "cell_type": "markdown",
   "metadata": {
    "slideshow": {
     "slide_type": "slide"
    }
   },
   "source": [
    "# Übung auch bei Vorkenntnissen\n",
    "\n",
    "-   Sie **müssen** selbst bei perfekten Vorkenntnissen Übungsaufgaben\n",
    "    abgeben\n",
    "-   Zulassungsvoraussetzung für Klausur!\n",
    "-   Aber das ist dann ja kein Aufwand für Sie!"
   ]
  },
  {
   "cell_type": "markdown",
   "metadata": {
    "slideshow": {
     "slide_type": "slide"
    }
   },
   "source": [
    "# Zusammenfassung\n",
    "\n",
    "-   Programmieren ist\n",
    "    -   mehr als nur *Coding*\n",
    "    -   ein systematischer Prozess\n",
    "    -   spielt sich in einem gewählten Paradigma ab\n",
    "-   Gute Programmierer\n",
    "    -   sind analytisch und stilistisch sicher\n",
    "    -   beherrschen wesentliche Werkzeuge\n",
    "    -   kennen den Entwicklungskontext\n",
    "\n",
    "  "
   ]
  }
 ],
 "metadata": {
  "celltoolbar": "Slideshow",
  "kernelspec": {
   "display_name": "Python 3",
   "language": "python",
   "name": "python3"
  },
  "language_info": {
   "codemirror_mode": {
    "name": "ipython",
    "version": 3
   },
   "file_extension": ".py",
   "mimetype": "text/x-python",
   "name": "python",
   "nbconvert_exporter": "python",
   "pygments_lexer": "ipython3",
   "version": "3.7.4"
  },
  "livereveal": {
   "theme": "simple",
   "transition": "none"
  }
 },
 "nbformat": 4,
 "nbformat_minor": 1
}
