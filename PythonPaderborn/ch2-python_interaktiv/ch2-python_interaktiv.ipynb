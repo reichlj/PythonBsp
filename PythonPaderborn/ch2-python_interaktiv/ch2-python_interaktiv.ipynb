{
"cells": [
 {
     "cell_type": "markdown",
     "metadata": {
        "slideshow": {
           "slide_type": "slide"
         } 
     }, 
     "source": ["<h1>Kapitel 2: Python: Ausdrücke und Typen</h1>\n",
"<p>Grundlagen der Programmierung 1<p><h2>Holger Karl</h2>\n",
" "
]
    },{
     "cell_type": "markdown",
     "metadata": {
        "slideshow": {
           "slide_type": "slide"
         } 
     }, 
     "source": ["<h1>Overview</h1> \n",
"\n",
"1. Überblick\n",
"1. Python interaktiv\n",
"1. Zahlen\n",
"1. Ausdrücke\n",
"1. Typen\n",
"1. Typen in Programmiersprachen\n",
"1. Zusammenfassung \n",
" \n",
""
]
    },{
     "cell_type": "markdown",
     "metadata": {
        "slideshow": {
           "slide_type": "slide"
         } 
     }, 
     "source": ["<h1>Overview</h1> \n",
"\n",
"1. **<font color=\"red\">Überblick</font>**\n",
"1. Python interaktiv\n",
"1. Zahlen\n",
"1. Ausdrücke\n",
"1. Typen\n",
"1. Typen in Programmiersprachen\n",
"1. Zusammenfassung"
]
    },{
     "cell_type": "markdown",
     "metadata": {
        "slideshow": {
           "slide_type": "slide"
         } 
     }, 
     "source": ["# Dieses Kapitel\n",
"\n",
"-   Erste Schritte mit Python\n",
"-   Interaktive Nutzung\n",
"-   Grundkonzepte: Zahlen, Ausdrücke, &#x2026;\n",
"-   Fehler"
]
    },{
     "cell_type": "markdown",
     "metadata": {
        "slideshow": {
           "slide_type": "skip"
         } 
     }, 
     "source": ["# Setup\n",
"\n",
"Main point here is to set up warnings properly for presentation and to\n",
"load tutormagic, so that we can later on use pythontutor for code\n",
"animations. "
]
    },{
     "cell_type": "code",
     "metadata": {
        "slideshow": {
           "slide_type": "skip"
         } 
     }, 
"outputs": [],
"execution_count": null,
     "source": ["%load_ext tutormagic\n",
"import warnings\n",
"warnings.filterwarnings('ignore', category=DeprecationWarning, module='.*/IPython/.*')\n",
"\n",
"import requests\n",
"import webbrowser\n",
"from IPython.core.magic import register_line_magic\n",
"\n",
"pingo_token = \"BRx9QJP7rjdUGBq3x4hP\"\n",
"\n",
"# Test-Session: \n",
"pingo_url = \"https://pingo.upb.de/events/311055/quick_start.json\"\n",
"# Produktiv-Session: \n",
"# pingo_url = \"https://pingo.upb.de/events/204051/quick_start.json\"\n",
"\n",
"pingo_duration = '120'\n",
"pingo_type = \"single\"\n",
"\n",
"\n",
"@register_line_magic\n",
"def pingo(line):\n",
"    params = {'survey_name': pingo_title, \n",
"              'predef_options': pingo_questions, \n",
"              'q_type': pingo_type,\n",
"              'duration': pingo_duration, \n",
"              'auth_token': pingo_token}\n",
"\n",
"    r = requests.post(pingo_url, json=params)\n",
"    webbrowser.open_new_tab(\"https://pingo.upb.de\" + r.headers['Location'])"
]
    },{
     "cell_type": "markdown",
     "metadata": {
        "slideshow": {
           "slide_type": "slide"
         } 
     }, 
     "source": ["<h1>Overview</h1> \n",
"\n",
"1. Überblick\n",
"1. **<font color=\"red\">Python interaktiv</font>**\n",
"1. Zahlen\n",
"1. Ausdrücke\n",
"1. Typen\n",
"1. Typen in Programmiersprachen\n",
"1. Zusammenfassung"
]
    },{
     "cell_type": "markdown",
     "metadata": {
        "slideshow": {
           "slide_type": "slide"
         } 
     }, 
     "source": ["# Interaktiv?\n",
"\n",
"-   Interaktive Software: Eingabe während der Ausführung entgegennehmen\n",
"    und verarbeiten\n",
"-   Interaktive Programmierung?\n",
"    -   Die *Sprache* wird ausgeführt?\n",
"    -   Genauer: Ein Interpreter"
]
    },{
     "cell_type": "markdown",
     "metadata": {
        "slideshow": {
           "slide_type": "fragment"
         } 
     }, 
     "source": ["<div class=\"definition-head\" style=\"border:3px; border-style:solid; border-color:#5da9e9; padding: 5px; background-color:#5da9e9;  line-height:1.5em; text-align:center; border-radius: 15px 15px 0px 0px; margin-bottom: 0; width: 100%;\"><b>Definition: Interpreter<a id=\"orgheadline10\"></a></b></div>\n",
"\n",
"Ein Interpreter ist ein Programm, das Programme (oder\n",
"Programmfragmente)  entgegennimmt und ausführt. Die Ergebnisse der\n",
"Ausführung werden unmittelbar ausgegeben. \n",
"\n",
"<div class=\"definition-content\" style=\"border:3px; border-style:solid; border-color:#5da9e9; padding: 5px; margin-top: 0; border-radius: 0px 0px 15px 15px; width: 100%; text-align:left\"></div>"
]
    },{
     "cell_type": "markdown",
     "metadata": {
        "slideshow": {
           "slide_type": "notes"
         } 
     }, 
     "source": ["## Beispiele für Interpreter<a id=\"orgheadline11\"></a>\n",
"\n",
"Beispiele für Interpreter gibt es viele, wenn man den Begriff des\n",
"*eingegebenen Programms* etwas weiter fasst. Tabellenkalkulationen\n",
"sind typische Beispiele: Man gibt ein Programm ein, das aus Formeln\n",
"besteht. Die Berechnungsergebnisse werden sofort angezeigt. \n",
"\n",
"Fasst man den Begriff noch offener, dann ist auch eine\n",
"Textverarbeitung (wie etwa OpenOffice oder Word) ein\n",
"Interpreter. Web-Browser sind ebenfalls typische Interpreter: Sie\n",
"interpretieren die Beschreibung der anzuzeigenden Seite (in HTML\n",
"aufgeschrieben) oder auch kleine, in die Web-Seite integrierte\n",
"Programme (z.B. in Javascript). "
]
    },{
     "cell_type": "markdown",
     "metadata": {
        "slideshow": {
           "slide_type": "slide"
         } 
     }, 
     "source": ["# Python als Interpreter\n",
"\n",
"-   Graue Box erwartet Eingaben: `In`\n",
"-   Result wird darunter erscheinen: `Out`\n",
"-   Mit `#` werden Kommentare markiert"
]
    },{
     "cell_type": "code",
     "metadata": {
        "slideshow": {
           "slide_type": "-"
         } 
     }, 
"outputs": [],
"execution_count": null,
     "source": ["# Ihre Anweisungen?"
]
    },{
     "cell_type": "markdown",
     "metadata": {
        "slideshow": {
           "slide_type": "slide"
         } 
     }, 
     "source": ["# Read-Evaluate-Print (REPL)\n",
"\n",
"Verhalten des Interpreters: \n",
"\n",
"-   Warte auf Eingabe, lies sie ein (*read*)\n",
"-   Werte die Eingabe aus, berechne ein Ergebnis (*evaluate*)\n",
"-   Gib das Ergebnis aus (*print*)\n",
"-   Beginne wieder von vorne (Schleife, *loop*)\n",
"\n",
"<center>![img](./uml/repl.png \"Read-Evaluate-Print-Schleife\")</center>"
]
    },{
     "cell_type": "markdown",
     "metadata": {
        "slideshow": {
           "slide_type": "slide"
         } 
     }, 
     "source": ["<h1>Overview</h1> \n",
"\n",
"1. Überblick\n",
"1. Python interaktiv\n",
"1. **<font color=\"red\">Zahlen</font>**\n",
"1. Ausdrücke\n",
"1. Typen\n",
"1. Typen in Programmiersprachen\n",
"1. Zusammenfassung"
]
    },{
     "cell_type": "markdown",
     "metadata": {
        "slideshow": {
           "slide_type": "slide"
         } 
     }, 
     "source": ["# Eingaben? Zahlen"
]
    },{
     "cell_type": "code",
     "metadata": {
        "slideshow": {
           "slide_type": "-"
         } 
     }, 
"outputs": [],
"execution_count": null,
     "source": ["# Zahlen ?"
]
    },{
     "cell_type": "markdown",
     "metadata": {
        "slideshow": {
           "slide_type": "fragment"
         } 
     }, 
     "source": ["## Gültige Zahlen (Version 1)<a id=\"orgheadline15\"></a>\n",
"\n",
"-   Jede Ziffer ist eine Zahl: 0, 1, &#x2026;, 9\n",
"-   Jede Folge von Ziffern ist eine Zahl\n",
"    -   Aber nicht mit einer Null beginnen\n",
"-   Eine Zahl darf **einen** Dezimalpunkt `.` enthalten\n",
"-   Eine Zahl darf mit einem Vorzeichen `+` oder `-` **beginnen**"
]
    },{
     "cell_type": "markdown",
     "metadata": {
        "slideshow": {
           "slide_type": "slide"
         } 
     }, 
     "source": ["# Ungültige Zahlen"
]
    },{
     "cell_type": "markdown",
     "metadata": {
        "slideshow": {
           "slide_type": "-"
         } 
     }, 
     "source": ["## Mehrere Dezimalpunkte<a id=\"orgheadline17\"></a>"
]
    },{
     "cell_type": "code",
     "metadata": {
        "slideshow": {
           "slide_type": "-"
         } 
     }, 
"outputs": [],
"execution_count": null,
     "source": ["234.3451.213"
]
    },{
     "cell_type": "markdown",
     "metadata": {
        "slideshow": {
           "slide_type": "fragment"
         } 
     }, 
     "source": ["## Fehlermeldung<a id=\"orgheadline18\"></a>\n",
"\n",
"`SyntaxError`: Eine Regel der Sprache wurde verletzt \n",
"\n",
"<center>![img](./figures/doh.png \"Syntax-Fehler\")</center>"
]
    },{
     "cell_type": "markdown",
     "metadata": {
        "slideshow": {
           "slide_type": "subslide"
         } 
     }, 
     "source": ["# Ungültige Zahlen"
]
    },{
     "cell_type": "markdown",
     "metadata": {
        "slideshow": {
           "slide_type": "-"
         } 
     }, 
     "source": ["## Führende Null<a id=\"orgheadline20\"></a>"
]
    },{
     "cell_type": "code",
     "metadata": {
        "slideshow": {
           "slide_type": "-"
         } 
     }, 
"outputs": [],
"execution_count": null,
     "source": ["0464"
]
    },{
     "cell_type": "markdown",
     "metadata": {
        "slideshow": {
           "slide_type": "subslide"
         } 
     }, 
     "source": ["# Ungültige Zahlen"
]
    },{
     "cell_type": "markdown",
     "metadata": {
        "slideshow": {
           "slide_type": "-"
         } 
     }, 
     "source": ["## Mehrere Vorzeichen<a id=\"orgheadline22\"></a>"
]
    },{
     "cell_type": "code",
     "metadata": {
        "slideshow": {
           "slide_type": "-"
         } 
     }, 
"outputs": [],
"execution_count": null,
     "source": ["1+2+3"
]
    },{
     "cell_type": "markdown",
     "metadata": {
        "slideshow": {
           "slide_type": "-"
         } 
     }, 
     "source": ["## Ungültig? Nein&#x2026; aber unerwartet?<a id=\"orgheadline23\"></a>\n",
"\n",
"-   Text wie `1+2+3` wird nicht als Zahl interpretiert\n",
"-   Sondern als `arithmetischer Ausdruck`\n",
"-   *Wert* wird ausgerechnet"
]
    },{
     "cell_type": "markdown",
     "metadata": {
        "slideshow": {
           "slide_type": "slide"
         } 
     }, 
     "source": ["<h1>Overview</h1> \n",
"\n",
"1. Überblick\n",
"1. Python interaktiv\n",
"1. Zahlen\n",
"1. **<font color=\"red\">Ausdrücke</font>**\n",
"1. Typen\n",
"1. Typen in Programmiersprachen\n",
"1. Zusammenfassung"
]
    },{
     "cell_type": "markdown",
     "metadata": {
        "slideshow": {
           "slide_type": "slide"
         } 
     }, 
     "source": ["# Arithmetischer Ausdruck  &#x2013; Syntax\n",
"\n",
"-   Jede Zahl ist ein **arithmetischer Ausdruck**\n",
"-   Verbindet man zwei arithmetische Ausdrücke durch `+`, `-`, `*` oder\n",
"    '/', so entsteht ein arithmetischer Ausdruck\n",
"-   Setzt man um einen arithmetischen Ausdruck ein Klammerpaar `(`\n",
"      &#x2026; `)`, so entsteht ein arithmetischer Ausdruck"
]
    },{
     "cell_type": "markdown",
     "metadata": {
        "slideshow": {
           "slide_type": "-"
         } 
     }, 
     "source": ["## Beispiel<a id=\"orgheadline25\"></a>"
]
    },{
     "cell_type": "code",
     "metadata": {
        "slideshow": {
           "slide_type": "-"
         } 
     }, 
"outputs": [],
"execution_count": null,
     "source": ["(5*3)+5"
]
    },{
     "cell_type": "markdown",
     "metadata": {
        "slideshow": {
           "slide_type": "subslide"
         } 
     }, 
     "source": ["# Arithmetischer Ausdruck  &#x2013; Syntax\n",
"\n",
"Was ist dann `((627)(223++-+))` ? \n",
"\n",
"-   Definition vorherige Folie: **Keine Aussage**"
]
    },{
     "cell_type": "markdown",
     "metadata": {
        "slideshow": {
           "slide_type": "fragment"
         } 
     }, 
     "source": ["## Was fehlt?<a id=\"orgheadline27\"></a>\n",
"\n",
"**Und nur das sind arithmetische Ausdrücke** \n",
"\n",
"-   Typische *rekursive Definition*\n",
"    -   Details: VL Modellierung"
]
    },{
     "cell_type": "markdown",
     "metadata": {
        "slideshow": {
           "slide_type": "subslide"
         } 
     }, 
     "source": ["# Arithmetischer Ausdruck &#x2013; Semantik?\n",
"\n",
"Bis jetzt: Nur Syntax, aber keine Bedeutung der Ausdrücke \n",
"\n",
"-   Was ist **der Wert** eines Ausdrucks?\n",
"\n",
"-   Beispiel:\n",
"    -   Ist $5+2\\cdot 3 = 21$?\n",
"    \n",
"    -   Oder $5+2\\cdot 3 = 11$?"
]
    },{
     "cell_type": "code",
     "metadata": {
        "slideshow": {
           "slide_type": "-"
         } 
     }, 
"outputs": [],
"execution_count": null,
     "source": ["5+2*3"
]
    },{
     "cell_type": "markdown",
     "metadata": {
        "slideshow": {
           "slide_type": "subslide"
         } 
     }, 
     "source": ["# Arithmetischer Ausdruck &#x2013; Semantik\n",
"\n",
"-   Klar für Zahlen: Der Wert einer Zahl ist die Zahl\n",
"-   Klar für binäre Ausdrücke\n",
"    -   Sind $a_1$ und $a_2$ arithmetische Ausdrücke und besteht der\n",
"        arithmetische Ausdruck $a$ aus $a_1 + a_2$, so ist der Wert von\n",
"        $a$ die Summe der Werte von $a_1$ und $a_2$.\n",
"    -   Und analog für `-`, `*`, `/`"
]
    },{
     "cell_type": "markdown",
     "metadata": {
        "slideshow": {
           "slide_type": "subslide"
         } 
     }, 
     "source": ["# Eindeutigkeit?\n",
"\n",
"-   Ist $5+2\\cdot 3$ ein binärer Ausdruck?\n",
"    -   Ja, mit zwei möglichen Interpretationen\n",
"        -   Einerseits: $a_1=5$, $a_2 = 2\\cdot 3$\n",
"        -   Andererseits: $a_1=5+2$, $a_2 = 3$\n",
"\n",
"-   Problem: tertiäre Ausdrücke $a_1 \\circ a_2 \\circ a_3$\n",
"    -   *Vorrangregeln*: Punkt vor Strich\n",
"        -   Also: $5+ (2\\cdot 3)$\n",
"    \n",
"    -   *Links-nach-rechts*: Bei gleichem Vorrang, von links lesen\n",
"\n",
"-   Formal durch *Vorrangregeln* festgelegt \n",
"    -   Details: Kompliziert; später"
]
    },{
     "cell_type": "markdown",
     "metadata": {
        "slideshow": {
           "slide_type": "subslide"
         } 
     }, 
     "source": ["# Arithmetischer Ausdruck &#x2013; Definition"
]
    },{
     "cell_type": "markdown",
     "metadata": {
        "slideshow": {
           "slide_type": "-"
         } 
     }, 
     "source": ["<div class=\"definition-head\" style=\"border:3px; border-style:solid; border-color:#5da9e9; padding: 5px; background-color:#5da9e9;  line-height:1.5em; text-align:center; border-radius: 15px 15px 0px 0px; margin-bottom: 0; width: 100%;\"><b>Definition: Arithmetischer Ausdruck<a id=\"orgheadline32\"></a></b></div>\n",
"\n",
"Arithmetische Ausdrücke verknüpfen Zahlen und arithmetische Ausdrücke\n",
"zu neuen arithmetischen Ausdrücken. Dazu legt  eine\n",
"Programmiersprache syntaktisch *Verknüpfungen* fest und beschreibt\n",
"semantisch den Wert eines solchen verknüpften Ausdrucks. \n",
"\n",
"Verknüpfungen werden häufig durch spezielle Zeichen wie `+`, `*`\n",
"u.ä. angegeben. Diese Zeichen heißen *Operatoren*. \n",
"\n",
"<div class=\"definition-content\" style=\"border:3px; border-style:solid; border-color:#5da9e9; padding: 5px; margin-top: 0; border-radius: 0px 0px 15px 15px; width: 100%; text-align:left\"></div>"
]
    },{
     "cell_type": "markdown",
     "metadata": {
        "slideshow": {
           "slide_type": "slide"
         } 
     }, 
     "source": ["# Nur Zahlen? Text?\n",
"\n",
"-   Zahlen sind toll, aber was ist mit Text?"
]
    },{
     "cell_type": "markdown",
     "metadata": {
        "slideshow": {
           "slide_type": "-"
         } 
     }, 
     "source": ["## Text direkt?<a id=\"orgheadline34\"></a>"
]
    },{
     "cell_type": "code",
     "metadata": {
        "slideshow": {
           "slide_type": "-"
         } 
     }, 
"outputs": [],
"execution_count": null,
     "source": ["Hallo"
]
    },{
     "cell_type": "markdown",
     "metadata": {
        "slideshow": {
           "slide_type": "-"
         } 
     }, 
     "source": ["## Text mit Anführungszeichen<a id=\"orgheadline35\"></a>"
]
    },{
     "cell_type": "code",
     "metadata": {
        "slideshow": {
           "slide_type": "-"
         } 
     }, 
"outputs": [],
"execution_count": null,
     "source": ["\"Hallo\""
]
    },{
     "cell_type": "code",
     "metadata": {
        "slideshow": {
           "slide_type": "-"
         } 
     }, 
"outputs": [],
"execution_count": null,
     "source": ["'Hallo'"
]
    },{
     "cell_type": "markdown",
     "metadata": {
        "slideshow": {
           "slide_type": "slide"
         } 
     }, 
     "source": ["# Syntaxregel: Text als Zeichenkette\n",
"\n",
"-   Text wird durch eine Kette von einzelnen Zeichen, kurz\n",
"    *Zeichenkette*, dargestellt\n",
"-   Zeichenkette muss in Anführungszeichen eingeschlossen sein"
]
    },{
     "cell_type": "markdown",
     "metadata": {
        "slideshow": {
           "slide_type": "subslide"
         } 
     }, 
     "source": ["# Ausdrücke mit Zeichenketten?\n",
"\n",
"Zahlen kann man addieren - was ist mit Zeichenketten?  Erwartung? "
]
    },{
     "cell_type": "code",
     "metadata": {
        "slideshow": {
           "slide_type": "-"
         } 
     }, 
"outputs": [],
"execution_count": null,
     "source": ["\"Hallo\" + \" GP1\""
]
    },{
     "cell_type": "markdown",
     "metadata": {
        "slideshow": {
           "slide_type": "fragment"
         } 
     }, 
     "source": ["<div class=\"definition-head\" style=\"border:3px; border-style:solid; border-color:#5da9e9; padding: 5px; background-color:#5da9e9;  line-height:1.5em; text-align:center; border-radius: 15px 15px 0px 0px; margin-bottom: 0; width: 100%;\"><b>Definition: Semantik von  `+` bei  Zeichenketten<a id=\"orgheadline38\"></a></b></div>\n",
"\n",
"Sind $t_1$ und $t_1$ Zeichenketten, so ist $t_1 + t_2$ eine\n",
"Zeichenkette. Der *Wert* von $t_1 + t_2$ ist die Zeichenkette die\n",
"entsteht, indem an $t_1$ unmittelbar $t_2$ angehängt wird.\n",
"\n",
"<div class=\"definition-content\" style=\"border:3px; border-style:solid; border-color:#5da9e9; padding: 5px; margin-top: 0; border-radius: 0px 0px 15px 15px; width: 100%; text-align:left\"></div>"
]
    },{
     "cell_type": "markdown",
     "metadata": {
        "slideshow": {
           "slide_type": "subslide"
         } 
     }, 
     "source": ["# Andere Verknüpfungen für Zeichenketten"
]
    },{
     "cell_type": "markdown",
     "metadata": {
        "slideshow": {
           "slide_type": "-"
         } 
     }, 
     "source": ["## Subtraktion?<a id=\"orgheadline40\"></a>"
]
    },{
     "cell_type": "code",
     "metadata": {
        "slideshow": {
           "slide_type": "-"
         } 
     }, 
"outputs": [],
"execution_count": null,
     "source": ["\"Hallo\" - \" GP1\""
]
    },{
     "cell_type": "markdown",
     "metadata": {
        "slideshow": {
           "slide_type": "-"
         } 
     }, 
     "source": ["## Multiplikation?<a id=\"orgheadline41\"></a>"
]
    },{
     "cell_type": "code",
     "metadata": {
        "slideshow": {
           "slide_type": "-"
         } 
     }, 
"outputs": [],
"execution_count": null,
     "source": ["\"Hallo\" * \" GP1\""
]
    },{
     "cell_type": "markdown",
     "metadata": {
        "slideshow": {
           "slide_type": "-"
         } 
     }, 
     "source": ["## Division?<a id=\"orgheadline42\"></a>"
]
    },{
     "cell_type": "code",
     "metadata": {
        "slideshow": {
           "slide_type": "-"
         } 
     }, 
"outputs": [],
"execution_count": null,
     "source": ["\"Hallo\" / \" GP1\""
]
    },{
     "cell_type": "markdown",
     "metadata": {
        "slideshow": {
           "slide_type": "fragment"
         } 
     }, 
     "source": ["## Nein, nur Addition!<a id=\"orgheadline43\"></a>\n",
"\n",
"-   Keine sinnvolle Semantik, also Fehler"
]
    },{
     "cell_type": "markdown",
     "metadata": {
        "slideshow": {
           "slide_type": "slide"
         } 
     }, 
     "source": ["<h1>Overview</h1> \n",
"\n",
"1. Überblick\n",
"1. Python interaktiv\n",
"1. Zahlen\n",
"1. Ausdrücke\n",
"1. **<font color=\"red\">Typen</font>**\n",
"1. Typen in Programmiersprachen\n",
"1. Zusammenfassung"
]
    },{
     "cell_type": "markdown",
     "metadata": {
        "slideshow": {
           "slide_type": "slide"
         } 
     }, 
     "source": ["# Fehlermeldungen: `TypeError`\n",
"\n",
"Bei den sinnlosen Kombinationen gab es die Fehlermeldung: \n",
"\n",
"-   `TypeError: unsupported operand type(s)`\n",
"-   `TypeError: can't multiply sequence by non-int`"
]
    },{
     "cell_type": "markdown",
     "metadata": {
        "slideshow": {
           "slide_type": "fragment"
         } 
     }, 
     "source": ["## Type?<a id=\"orgheadline45\"></a>\n",
"\n",
"-   Was könnte ein *Typ* bedeuten?\n",
"-   Die Fehlermeldung bei Multiplikation klingt interessant"
]
    },{
     "cell_type": "markdown",
     "metadata": {
        "slideshow": {
           "slide_type": "slide"
         } 
     }, 
     "source": ["# Datentypen\n",
"\n",
"-   Offenbar sind Zahlen und Zeichenketten ja etwas unterschiedliches\n",
"    -   Unterschiedliche Werte, unterschiedliche Verknüpfungen erlaubt,\n",
"        unterschiedliche Interpretation (`+` bei Zahlen vs. bei Zeichenketten)\n",
"-   Beobachtung formalisiert in der Vorstellung eines *Datentyps*"
]
    },{
     "cell_type": "markdown",
     "metadata": {
        "slideshow": {
           "slide_type": "-"
         } 
     }, 
     "source": ["<div class=\"definition-head\" style=\"border:3px; border-style:solid; border-color:#5da9e9; padding: 5px; background-color:#5da9e9;  line-height:1.5em; text-align:center; border-radius: 15px 15px 0px 0px; margin-bottom: 0; width: 100%;\"><b>Definition: Datentyp<a id=\"orgheadline47\"></a></b></div>\n",
"\n",
"Ein *Datentyp* oder kurz *Typ* legt eine Menge möglicher Werte\n",
"fest. *Literale* sind die konkreten Notationen möglicher Werte. \n",
"\n",
"Zusätzlich legt ein Datentyp erlaubte Verknüpfungen fest. Er erklärt\n",
"sowohl die Syntax als auch die Semantik dieser Verknüpfungen.\n",
"\n",
"<div class=\"definition-content\" style=\"border:3px; border-style:solid; border-color:#5da9e9; padding: 5px; margin-top: 0; border-radius: 0px 0px 15px 15px; width: 100%; text-align:left\"></div>"
]
    },{
     "cell_type": "markdown",
     "metadata": {
        "slideshow": {
           "slide_type": "subslide"
         } 
     }, 
     "source": ["# Datentyp: Ganze Zahlen"
]
    },{
     "cell_type": "markdown",
     "metadata": {
        "slideshow": {
           "slide_type": "-"
         } 
     }, 
     "source": ["<div class=\"example-head\" style=\"border:3px; border-style:solid; border-color:#99d19c; padding: 5px; background-color:#99d19c;  line-height:1.5em; text-align:center; border-radius: 15px 15px 0px 0px; margin-bottom: 0; width: 100%;\"><b>Beispiel: Datentyp: Ganze Zahlen<a id=\"orgheadline49\"></a></b></div>\n",
"\n",
"Ganze Zahlen haben den Wertebereich { -&infin;, \\ldots, -3, -2, -1,\n",
"0, 1, 2, 3, \\ldots + &infin; }. Die Verknüpfungen `+`, `-`, `*`\n",
"sind nach üblichen Rechenregeln erklärt. Die Verknüpfung `/` ist als\n",
"ganzzahlige Division erklärt. \n",
"\n",
"<div class=\"example-content\" style=\"border:3px; border-style:solid; border-color:#99d19c; padding: 5px; margin-top: 0;  line-height:1.5em; border-radius: 0px 0px 15px 15px; width: 100%; text-align:left\"></div> "
]
    },{
     "cell_type": "markdown",
     "metadata": {
        "slideshow": {
           "slide_type": "subslide"
         } 
     }, 
     "source": ["# Literale  für ganze Zahlen\n",
"\n",
"-   Üblicherweise bestehen  Literale für ganze Zahlen aus arabischen\n",
"    Ziffern: 0, 1, 2, &#x2026;, 42, &#x2026;, 4711, &#x2026;\n",
"\n",
"-   Denkbar wäre auch, römische Zahlen zu benutzen: I, II, III, IV,  &#x2026;"
]
    },{
     "cell_type": "markdown",
     "metadata": {
        "slideshow": {
           "slide_type": "subslide"
         } 
     }, 
     "source": ["# Datentyp: Reelle Zahlen"
]
    },{
     "cell_type": "markdown",
     "metadata": {
        "slideshow": {
           "slide_type": "fragment"
         } 
     }, 
     "source": ["<div class=\"example-head\" style=\"border:3px; border-style:solid; border-color:#99d19c; padding: 5px; background-color:#99d19c;  line-height:1.5em; text-align:center; border-radius: 15px 15px 0px 0px; margin-bottom: 0; width: 100%;\"><b>Beispiel: Datentyp: Reelle Zahlen<a id=\"orgheadline52\"></a></b></div>\n",
"\n",
"Reelle Zahlen sind die rationalen, algebraischen und transzendenten\n",
"Zahlen. Die arithmetischen Verknüpfungen sind wie üblich erklärt. \n",
"\n",
"<div class=\"example-content\" style=\"border:3px; border-style:solid; border-color:#99d19c; padding: 5px; margin-top: 0;  line-height:1.5em; border-radius: 0px 0px 15px 15px; width: 100%; text-align:left\"></div> "
]
    },{
     "cell_type": "markdown",
     "metadata": {
        "slideshow": {
           "slide_type": "subslide"
         } 
     }, 
     "source": ["# Datentypen: Zahlen in Rechnern\n",
"\n",
"Problem: Die gerade definierten Datentypen können in einem realen\n",
"Rechner nicht dargestellt werden \n",
"\n",
"-   Jeder Rechner ist endlich\n",
"-   Kann keine unendlich großen Zahlen speichern"
]
    },{
     "cell_type": "markdown",
     "metadata": {
        "slideshow": {
           "slide_type": "-"
         } 
     }, 
     "source": ["## Endliche Ausschnitte<a id=\"orgheadline54\"></a>\n",
"\n",
"Datentypen in **vielen** (nicht allen) Programmiersprachen sind immer\n",
"nur **endliche Ausschnitte** aus entsprechenden, konzeptionellen\n",
"Datentypen.\n",
"\n",
"-   Oft ist die Unterscheidung egal\n",
"-   Aber manchmal wichtig: Endliche Präzision, endliche Werte\n",
"-   Verletzung von Rechenregeln\n",
"    -   Beispiel: Assoziativitätsgesetz gilt nicht mehr!"
]
    },{
     "cell_type": "markdown",
     "metadata": {
        "slideshow": {
           "slide_type": "subslide"
         } 
     }, 
     "source": ["# Zahldarstellung\n",
"\n",
"-   Darstellung von numerischen Datentypen in Rechnern nicht trivial\n",
"    -   Vorzeichen?\n",
"    -   Genauigkeit?\n",
"    -   Platzbedarf?\n",
"    -   &#x2026;?\n",
"-   Details: Vorlesung Grundlagen technische Informatik"
]
    },{
     "cell_type": "markdown",
     "metadata": {
        "slideshow": {
           "slide_type": "subslide"
         } 
     }, 
     "source": ["# Datentyp: `str`"
]
    },{
     "cell_type": "markdown",
     "metadata": {
        "slideshow": {
           "slide_type": "-"
         } 
     }, 
     "source": ["<div class=\"example-head\" style=\"border:3px; border-style:solid; border-color:#99d19c; padding: 5px; background-color:#99d19c;  line-height:1.5em; text-align:center; border-radius: 15px 15px 0px 0px; margin-bottom: 0; width: 100%;\"><b>Beispiel: Datentyp: `str`<a id=\"orgheadline57\"></a></b></div>\n",
"\n",
"Strings (kurz: `str`) sind Aneinandereihungen einzelner Zeichen; sie\n",
"formalisieren Zeichenketten. Die leere Reihe ist ebenfalls ein\n",
"String. Zeichen sind durch eine Aufzählung definiert (a, b, c, &#x2026;).\n",
"\n",
"Zwei Strings können durch Addition miteinander verknüpft\n",
"werden.\n",
"\n",
"<div class=\"example-content\" style=\"border:3px; border-style:solid; border-color:#99d19c; padding: 5px; margin-top: 0;  line-height:1.5em; border-radius: 0px 0px 15px 15px; width: 100%; text-align:left\"></div> "
]
    },{
     "cell_type": "markdown",
     "metadata": {
        "slideshow": {
           "slide_type": "subslide"
         } 
     }, 
     "source": ["# Datentyp: `bool`"
]
    },{
     "cell_type": "markdown",
     "metadata": {
        "slideshow": {
           "slide_type": "-"
         } 
     }, 
     "source": ["<div class=\"example-head\" style=\"border:3px; border-style:solid; border-color:#99d19c; padding: 5px; background-color:#99d19c;  line-height:1.5em; text-align:center; border-radius: 15px 15px 0px 0px; margin-bottom: 0; width: 100%;\"><b>Beispiel: Datentyp: bool<a id=\"orgheadline59\"></a></b></div>\n",
"\n",
"Der Datentyp `bool` kennt nur die beiden Werte wahr und falsch,\n",
"notiert als Literale `True` bzw. `False`.\n",
"\n",
"Zwei Werte dieses Types können mit den Operatoren  `and`,\n",
"`or`, `!=` verknüpft werden; dies liefert einen Wert vom Typ\n",
"`bool`. Auf einen Wert `bool` kann `not` angewendet werden. \n",
"\n",
"Die Semantik dieser Verknüpfungen ist in den folgenden Tabellen\n",
"definiert. Siehe auch [Details](https://docs.python.org/3.5/library/stdtypes.html#). \n",
"\n",
"<div class=\"example-content\" style=\"border:3px; border-style:solid; border-color:#99d19c; padding: 5px; margin-top: 0;  line-height:1.5em; border-radius: 0px 0px 15px 15px; width: 100%; text-align:left\"></div> "
]
    },{
     "cell_type": "markdown",
     "metadata": {
        "slideshow": {
           "slide_type": "subslide"
         } 
     }, 
     "source": ["# Datentyp: `bool` &#x2013; Semantik der Verknüpfungen"
]
    },{
     "cell_type": "markdown",
     "metadata": {
        "slideshow": {
           "slide_type": "-"
         } 
     }, 
     "source": ["## Verknüpfung: `and`<a id=\"orgheadline61\"></a>\n",
"\n",
"<table border=\"2\" cellspacing=\"0\" cellpadding=\"6\" rules=\"groups\" frame=\"hsides\">\n",
"\n",
"\n",
"<colgroup>\n",
"<col  class=\"org-left\" />\n",
"\n",
"<col  class=\"org-left\" />\n",
"\n",
"<col  class=\"org-left\" />\n",
"</colgroup>\n",
"<thead>\n",
"<tr>\n",
"<th scope=\"col\" class=\"org-left\">$b_1$</th>\n",
"<th scope=\"col\" class=\"org-left\">$b_2$</th>\n",
"<th scope=\"col\" class=\"org-left\">$b_1$ `and` $b_2$</th>\n",
"</tr>\n",
"</thead>\n",
"\n",
"<tbody>\n",
"<tr>\n",
"<td class=\"org-left\">`False`</td>\n",
"<td class=\"org-left\">`False`</td>\n",
"<td class=\"org-left\">`False`</td>\n",
"</tr>\n",
"\n",
"\n",
"<tr>\n",
"<td class=\"org-left\">`False`</td>\n",
"<td class=\"org-left\">`True`</td>\n",
"<td class=\"org-left\">`False`</td>\n",
"</tr>\n",
"\n",
"\n",
"<tr>\n",
"<td class=\"org-left\">`True`</td>\n",
"<td class=\"org-left\">`False`</td>\n",
"<td class=\"org-left\">`False`</td>\n",
"</tr>\n",
"\n",
"\n",
"<tr>\n",
"<td class=\"org-left\">`True`</td>\n",
"<td class=\"org-left\">`True`</td>\n",
"<td class=\"org-left\">`True`</td>\n",
"</tr>\n",
"</tbody>\n",
"</table>\n",
"\n",
"Siehe auch Vorlesung Modellierung. "
]
    },{
     "cell_type": "markdown",
     "metadata": {
        "slideshow": {
           "slide_type": "slide"
         } 
     }, 
     "source": ["# Vergleiche zwischen Werte\n",
"\n",
"-   Viele Datentypen erlauben Vergleiche zwischen Werten\n",
"-   Meist: Gleichheit `==`, Ungleichheit `!=`\n",
"-   Oft: Kleiner/größer Vergleich\n",
"    -   Strikt: `<` , `>`\n",
"    -   Mit Gleichheit: `<=`, `>=`\n",
"-   Definition der Datentypen von oben: ergänzen!"
]
    },{
     "cell_type": "markdown",
     "metadata": {
        "slideshow": {
           "slide_type": "subslide"
         } 
     }, 
     "source": ["# Datentyp mit Vergleich"
]
    },{
     "cell_type": "markdown",
     "metadata": {
        "slideshow": {
           "slide_type": "-"
         } 
     }, 
     "source": ["<div class=\"example-head\" style=\"border:3px; border-style:solid; border-color:#99d19c; padding: 5px; background-color:#99d19c;  line-height:1.5em; text-align:center; border-radius: 15px 15px 0px 0px; margin-bottom: 0; width: 100%;\"><b>Beispiel: Datentyp: Ganze Zahlen (ergänzt)<a id=\"orgheadline64\"></a></b></div>\n",
"\n",
"Ganze Zahlen haben den Wertebereich { -&infin;, \\ldots, -3, -2, -1,\n",
"0, 1, 2, 3, \\ldots + &infin; }. Die Verknüpfungen `+`, `-`, `*`\n",
"sind nach üblichen Rechenregeln erklärt. Die Verknüpfung `/` ist als\n",
"ganzzahlige Division erklärt. \n",
"\n",
"Zwei Zahlen können mit `<`, `<=`, `>`, `>=`, `==`, `!=` miteinander\n",
"verglichen werden. Das Resultat eines Vergleichs ist ein Wert des\n",
"Datentyps `bool`. \n",
"\n",
"<div class=\"example-content\" style=\"border:3px; border-style:solid; border-color:#99d19c; padding: 5px; margin-top: 0;  line-height:1.5em; border-radius: 0px 0px 15px 15px; width: 100%; text-align:left\"></div> "
]
    },{
     "cell_type": "markdown",
     "metadata": {
        "slideshow": {
           "slide_type": "subslide"
         } 
     }, 
     "source": ["# Vereinfachen?\n",
"\n",
"-   Darf man das vereinfachen zu:"
]
    },{
     "cell_type": "code",
     "metadata": {
        "slideshow": {
           "slide_type": "-"
         } 
     }, 
"outputs": [],
"execution_count": null,
     "source": ["5+3*2 < 17-5 and 1*1 > -1"
]
    },{
     "cell_type": "markdown",
     "metadata": {
        "slideshow": {
           "slide_type": "fragment"
         } 
     }, 
     "source": ["## Was fehlt?<a id=\"orgheadline66\"></a>\n",
"\n",
"-   Welche Festlegung fehlt für so eine Vereinfachung?"
]
    },{
     "cell_type": "markdown",
     "metadata": {
        "slideshow": {
           "slide_type": "slide"
         } 
     }, 
     "source": ["# Zusammenfassung: Einfache Datentypen\n",
"\n",
"-   Numerisch: `int`, `float`, `complex`\n",
"    -   Mit üblichen arithmetischen Operationen\n",
"    -   Unterschiedliche Repräsentation im Speicher\n",
"    -   Und bit-für-bit Operationen für `int`\n",
"    -   Siehe [Details](https://docs.python.org/3.5/library/stdtypes.html#numeric-types-int-float-complex )\n",
"-   Zeichenkette: `str`\n",
"    -   Folge von Unicode-Zeichen\n",
"    -   Siehe [Details](https://docs.python.org/3.5/library/stdtypes.html#text-sequence-type-str)\n",
"-   Wahrheitswerte: `bool`\n",
"-   Folgen von Bytes, &#x2026;"
]
    },{
     "cell_type": "markdown",
     "metadata": {
        "slideshow": {
           "slide_type": "slide"
         } 
     }, 
     "source": ["# Verknüpfungen unterschiedlicher Typen?\n",
"\n",
"-   Bisher: nur *typreine* Verknüpfungen betrachtet\n",
"    -   `str` und `str`, `int` und `int`\n",
"-   Was passiert, wenn wir mischen?"
]
    },{
     "cell_type": "markdown",
     "metadata": {
        "slideshow": {
           "slide_type": "-"
         } 
     }, 
     "source": ["## Beispiel: Zeichenkette und Zahl<a id=\"orgheadline69\"></a>"
]
    },{
     "cell_type": "code",
     "metadata": {
        "slideshow": {
           "slide_type": "-"
         } 
     }, 
"outputs": [],
"execution_count": null,
     "source": ["\"Hallo GP1\" + 5"
]
    },{
     "cell_type": "markdown",
     "metadata": {
        "slideshow": {
           "slide_type": "subslide"
         } 
     }, 
     "source": ["# Sinnvolle Verknüpfungen?\n",
"\n",
"Was wären denn Verknüpfungen mit sinnvoller *Semantik*? \n",
"\n",
"-   Zeichenkette und Zahl?\n",
"    -   Multiplikation: Zeichenkette mehrfach hintereinander\n",
"-   Zeichenkette oder Zahl und `bool`?\n",
"    -   ???\n",
"-   Zahl und Zahl, genauer: unterschiedliche Zahlen?\n",
"    -   Ja&#x2026;"
]
    },{
     "cell_type": "markdown",
     "metadata": {
        "slideshow": {
           "slide_type": "subslide"
         } 
     }, 
     "source": ["# Zeichenkette und Zahl"
]
    },{
     "cell_type": "markdown",
     "metadata": {
        "slideshow": {
           "slide_type": "-"
         } 
     }, 
     "source": ["## `str` und `int`<a id=\"orgheadline72\"></a>"
]
    },{
     "cell_type": "code",
     "metadata": {
        "slideshow": {
           "slide_type": "-"
         } 
     }, 
"outputs": [],
"execution_count": null,
     "source": ["\"Hallo GP1!\" * 5"
]
    },{
     "cell_type": "markdown",
     "metadata": {
        "slideshow": {
           "slide_type": "-"
         } 
     }, 
     "source": ["## `str` und `float`<a id=\"orgheadline73\"></a>"
]
    },{
     "cell_type": "code",
     "metadata": {
        "slideshow": {
           "slide_type": "-"
         } 
     }, 
"outputs": [],
"execution_count": null,
     "source": ["\"Hallo GP1!\" * 3.1415"
]
    },{
     "cell_type": "markdown",
     "metadata": {
        "slideshow": {
           "slide_type": "fragment"
         } 
     }, 
     "source": ["## Semantik?<a id=\"orgheadline74\"></a>\n",
"\n",
"Sinnlose Semantik, also Fehler "
]
    },{
     "cell_type": "markdown",
     "metadata": {
        "slideshow": {
           "slide_type": "slide"
         } 
     }, 
     "source": ["# Operatoren: Verschiedene Semantik!"
]
    },{
     "cell_type": "markdown",
     "metadata": {
        "slideshow": {
           "slide_type": "-"
         } 
     }, 
     "source": ["<div class=\"alertblock-head\" style=\"border:3px; border-style:solid; border-color:#f96900; padding: 5px; background-color:#f96900;  line-height:1.5em; text-align:center; border-radius: 15px 15px 0px 0px; margin-bottom: 0; width: 100%;\"><b>Achtung! Semantik von Operatoren ist typabhängig<a id=\"orgheadline76\"></a></b></div>\n",
"\n",
"Der gleiche Operator kann in Kombination mit unterschiedlichen Typen\n",
"auftreten. Dadurch erhält der Operator jeweils eine andere Semantik. \n",
"\n",
"Man spricht dann von *Operator Overloading*. \n",
"\n",
"<div class=\"alertblock-content\" style=\"border:3px; border-style:solid; border-color:#f96900; padding: 5px; margin-top: 0;  line-height:1.5em; border-radius: 0px 0px 15px 15px; width: 100%; text-align:left\"></div> "
]
    },{
     "cell_type": "markdown",
     "metadata": {
        "slideshow": {
           "slide_type": "-"
         } 
     }, 
     "source": ["## Beispiel: Multiplikation<a id=\"orgheadline77\"></a>"
]
    },{
     "cell_type": "code",
     "metadata": {
        "slideshow": {
           "slide_type": "-"
         } 
     }, 
"outputs": [],
"execution_count": null,
     "source": ["3 * 5"
]
    },{
     "cell_type": "code",
     "metadata": {
        "slideshow": {
           "slide_type": "-"
         } 
     }, 
"outputs": [],
"execution_count": null,
     "source": ["\"Hallo\" * 5"
]
    },{
     "cell_type": "markdown",
     "metadata": {
        "slideshow": {
           "slide_type": "slide"
         } 
     }, 
     "source": ["# Arithmetik? `int` und `float` ?\n",
"\n",
"-   Implizite Umwandlung, weitgehend problemlos\n",
"    -   In Python3; andere Programmiersprachen hier ggf. kompliziert\n",
"-   Explizite Umwandlung: Runden u.ä. &#x2013; später"
]
    },{
     "cell_type": "code",
     "metadata": {
        "slideshow": {
           "slide_type": "-"
         } 
     }, 
"outputs": [],
"execution_count": null,
     "source": ["10 * 0.3"
]
    },{
     "cell_type": "code",
     "metadata": {
        "slideshow": {
           "slide_type": "-"
         } 
     }, 
"outputs": [],
"execution_count": null,
     "source": ["10 / 3"
]
    },{
     "cell_type": "code",
     "metadata": {
        "slideshow": {
           "slide_type": "-"
         } 
     }, 
"outputs": [],
"execution_count": null,
     "source": ["10 // 3"
]
    },{
     "cell_type": "markdown",
     "metadata": {
        "slideshow": {
           "slide_type": "slide"
         } 
     }, 
     "source": ["<h1>Overview</h1> \n",
"\n",
"1. Überblick\n",
"1. Python interaktiv\n",
"1. Zahlen\n",
"1. Ausdrücke\n",
"1. Typen\n",
"1. **<font color=\"red\">Typen in Programmiersprachen</font>**\n",
"1. Zusammenfassung"
]
    },{
     "cell_type": "markdown",
     "metadata": {
        "slideshow": {
           "slide_type": "slide"
         } 
     }, 
     "source": ["# Typen in Python 3\n",
"\n",
"**Alles** hat einen Typ in Python 3 \n",
"\n",
"-   Literale haben stets einen eindeutigen Typ\n",
"-   Verknüpfungen zwischen zwei Werten produzieren Wert mit Typ\n",
"    -   Eindeutig durch Typ der Werte und Verknüpfung bestimmt\n",
"-   Folge: Man kann nichts ohne Typ hinschreiben&#x2026;\n",
"-   Typ eines Werts wird im Interpreter explizit repräsentiert \n",
"    -   Man muss den Typ aber nicht explizit hinschreiben"
]
    },{
     "cell_type": "markdown",
     "metadata": {
        "slideshow": {
           "slide_type": "subslide"
         } 
     }, 
     "source": ["# Typisierte Programmiersprache"
]
    },{
     "cell_type": "markdown",
     "metadata": {
        "slideshow": {
           "slide_type": "-"
         } 
     }, 
     "source": ["<div class=\"definition-head\" style=\"border:3px; border-style:solid; border-color:#5da9e9; padding: 5px; background-color:#5da9e9;  line-height:1.5em; text-align:center; border-radius: 15px 15px 0px 0px; margin-bottom: 0; width: 100%;\"><b>Definition: Typisierte Programmiersprache<a id=\"orgheadline81\"></a></b></div>\n",
"\n",
"Eine Programmiersprache heißt *typisiert* wenn für jeden Wert und\n",
"Ausdruck nicht nur der Wert selbst sondern auch der Datentyp\n",
"bekannt ist. \n",
"\n",
"<div class=\"definition-content\" style=\"border:3px; border-style:solid; border-color:#5da9e9; padding: 5px; margin-top: 0; border-radius: 0px 0px 15px 15px; width: 100%; text-align:left\"></div>"
]
    },{
     "cell_type": "markdown",
     "metadata": {
        "slideshow": {
           "slide_type": "-"
         } 
     }, 
     "source": ["## Beispiel<a id=\"orgheadline82\"></a>\n",
"\n",
"-   Python (2 & 3)\n",
"-   Java\n",
"-   &#x2026;"
]
    },{
     "cell_type": "markdown",
     "metadata": {
        "slideshow": {
           "slide_type": "slide"
         } 
     }, 
     "source": ["# Konvertierung zwischen Typen\n",
"\n",
"-   Typen sind unterschiedlich, aber was, wenn das gleiche Datum\n",
"    repräsentiert wird?\n",
"-   Beispiel:\n",
"    -   `int`: 9\n",
"    -   `string`: '9'\n",
"-   Wie kommt man von string '9' zu int 9? Umgekehrt?\n",
"    -   Möglich\n",
"    -   Details: später"
]
    },{
     "cell_type": "markdown",
     "metadata": {
        "slideshow": {
           "slide_type": "slide"
         } 
     }, 
     "source": ["# Ausdrücke und Zustand?\n",
"\n",
"-   Und was ist mit Zustand? \n",
"    -   Vorheriges Kapitel: Lange Diskussion, Ausführungsmodell, &#x2026;\n",
"-   **Ausdrücke verändern den Zustand nicht**\n",
"    -   Mit einer kleinen Ausnahme (welcher?)"
]
    },{
     "cell_type": "markdown",
     "metadata": {
        "slideshow": {
           "slide_type": "slide"
         } 
     }, 
     "source": ["<h1>Overview</h1> \n",
"\n",
"1. Überblick\n",
"1. Python interaktiv\n",
"1. Zahlen\n",
"1. Ausdrücke\n",
"1. Typen\n",
"1. Typen in Programmiersprachen\n",
"1. **<font color=\"red\">Zusammenfassung</font>**"
]
    },{
     "cell_type": "markdown",
     "metadata": {
        "slideshow": {
           "slide_type": "slide"
         } 
     }, 
     "source": ["# Zusammenfassung\n",
"\n",
"-   Datentypen legen Werte und Verknüpfungen fest\n",
"    -   Werte werden durch Literale angegeben\n",
"-   Durch Verknüpfungen werden Ausdrücke gebildet\n",
"    -   Ausdrücken erzeugen neue Werte aus vorhandenen Werten\n",
"-   Python ist ein Beispiel für\n",
"    -   eine Sprache/Umgebung mit einer read-evaluate-print-Schleife\n",
"    -   eine dynamisch typisierte Programmiersprache\n",
"\n",
"  "
]
 }
],
 "metadata": {
  "celltoolbar": "Slideshow",
  "livereveal": {
        "theme": "simple",
        "transition": "none"
    },
  "kernelspec": {
   "display_name": "Python 3",
   "language": "python",
   "name": "python3"
  },
  "language_info": {
   "codemirror_mode": {
    "name": "ipython",
    "version": 3
   },
   "file_extension": ".py",
   "mimetype": "text/x-python",
   "name": "python",
   "nbconvert_exporter": "python",
   "pygments_lexer": "ipython3",
   "version": "3.5.1"
  }
 },
 "nbformat": 4,
 "nbformat_minor": 0
}