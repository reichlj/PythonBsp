{
"cells": [
 {
     "cell_type": "markdown",
     "metadata": {
        "slideshow": {
           "slide_type": "slide"
         } 
     }, 
     "source": ["<h1>Kapitel 3: Werte, Namen, Bezeichner</h1>\n",
"<p>Grundlagen der Programmierung 1<p><h2>Holger Karl</h2>\n",
" "
]
    },{
     "cell_type": "markdown",
     "metadata": {
        "slideshow": {
           "slide_type": "slide"
         } 
     }, 
     "source": ["<h1>Overview</h1> \n",
"\n",
"1. Überblick\n",
"1. Namen, Bezeichner\n",
"1. Arbeiten mit Namen und Zuweisungen\n",
"1. Zuweisungen und Typen\n",
"1. Anmerkungen zu Syntax und Stil\n",
"1. Zusammenfassung \n",
" \n",
""
]
    },{
     "cell_type": "markdown",
     "metadata": {
        "slideshow": {
           "slide_type": "slide"
         } 
     }, 
     "source": ["<h1>Overview</h1> \n",
"\n",
"1. **<font color=\"red\">Überblick</font>**\n",
"1. Namen, Bezeichner\n",
"1. Arbeiten mit Namen und Zuweisungen\n",
"1. Zuweisungen und Typen\n",
"1. Anmerkungen zu Syntax und Stil\n",
"1. Zusammenfassung"
]
    },{
     "cell_type": "markdown",
     "metadata": {
        "slideshow": {
           "slide_type": "skip"
         } 
     }, 
     "source": ["# Setup\n",
"\n",
"Main point here is to set up warnings properly for presentation and to\n",
"load tutormagic, so that we can later on use pythontutor for code\n",
"animations. "
]
    },{
     "cell_type": "code",
     "metadata": {
        "slideshow": {
           "slide_type": "skip"
         } 
     }, 
"outputs": [],
"execution_count": null,
     "source": ["%load_ext tutormagic\n",
"import warnings\n",
"warnings.filterwarnings('ignore', category=DeprecationWarning, module='.*/IPython/.*')\n",
"\n",
"\n",
"import requests\n",
"import webbrowser\n",
"from IPython.core.magic import register_line_magic\n",
"\n",
"pingo_token = \"BRx9QJP7rjdUGBq3x4hP\"\n",
"\n",
"# Test-Session: \n",
"pingo_url = \"https://pingo.upb.de/events/311055/quick_start.json\"\n",
"# Produktiv-Session: \n",
"# pingo_url = \"https://pingo.upb.de/events/204051/quick_start.json\"\n",
"\n",
"pingo_duration = '120'\n",
"pingo_type = \"single\"\n",
"\n",
"\n",
"@register_line_magic\n",
"def pingo(line):\n",
"    params = {'survey_name': pingo_title, \n",
"              'predef_options': pingo_questions, \n",
"              'q_type': pingo_type,\n",
"              'duration': pingo_duration, \n",
"              'auth_token': pingo_token}\n",
"\n",
"    r = requests.post(pingo_url, json=params)\n",
"    webbrowser.open_new_tab(\"https://pingo.upb.de\" + r.headers['Location'])"
]
    },{
     "cell_type": "markdown",
     "metadata": {
        "slideshow": {
           "slide_type": "slide"
         } 
     }, 
     "source": ["# Dieses Kapitel\n",
"\n",
"-   Bisher nur Ausdrücke, die keine Zustandsänderung bewirken\n",
"-   Dieses Kapitel: Konzept von *Namen* und *Bezeichnern* &#x2013; das Benennen eines Werts\n",
"-   Erlaubt Weiterverwendung und Manipulation von Ergebnissen eines\n",
"    Ausdrucks"
]
    },{
     "cell_type": "markdown",
     "metadata": {
        "slideshow": {
           "slide_type": "slide"
         } 
     }, 
     "source": ["<h1>Overview</h1> \n",
"\n",
"1. Überblick\n",
"1. **<font color=\"red\">Namen, Bezeichner</font>**\n",
"1. Arbeiten mit Namen und Zuweisungen\n",
"1. Zuweisungen und Typen\n",
"1. Anmerkungen zu Syntax und Stil\n",
"1. Zusammenfassung"
]
    },{
     "cell_type": "markdown",
     "metadata": {
        "slideshow": {
           "slide_type": "slide"
         } 
     }, 
     "source": ["# Ausdrücke sind vergesslich\n",
"\n",
"-   Bisher: Nur Literale und Ausdrücke\n",
"-   Wert eines Ausdrucks nach Berechnung sofort wieder vergessen\n",
"\n",
"-   Unpraktisch!"
]
    },{
     "cell_type": "markdown",
     "metadata": {
        "slideshow": {
           "slide_type": "fragment"
         } 
     }, 
     "source": ["## Aufheben?<a id=\"orgheadline9\"></a>\n",
"\n",
"-   Wie können wir den Wert eines Ausdrucks aufbewahren?\n",
"-   Wie können wir den Wert wieder benutzen?"
]
    },{
     "cell_type": "markdown",
     "metadata": {
        "slideshow": {
           "slide_type": "slide"
         } 
     }, 
     "source": ["# Namen!\n",
"\n",
"-   Wir brauchen einen **Namen** für einen Ausdruck\n",
"-   Mit Namen dann wieder benutzbar\n",
"\n",
"<center>![img](./figures/vader-ring.png \"If you like it, you should put a name on it\")</center>"
]
    },{
     "cell_type": "markdown",
     "metadata": {
        "slideshow": {
           "slide_type": "slide"
         } 
     }, 
     "source": ["# Namen &#x2013; Beispiel\n",
"\n",
"-   Wir benutzen einfachen Namen: `a`\n",
"-   Der Name `a` wird dem Wert 42 zugeordnet\n",
"-   Dazu nutzen wird das Zeichen `=`\n",
"-   **Zuweisung** (**Assignment**)"
]
    },{
     "cell_type": "code",
     "metadata": {
        "slideshow": {
           "slide_type": "-"
         } 
     }, 
"outputs": [],
"execution_count": null,
     "source": ["# a wird zu einem Namen für den Wert 42\n",
"a = 42"
]
    },{
     "cell_type": "markdown",
     "metadata": {
        "slideshow": {
           "slide_type": "slide"
         } 
     }, 
     "source": ["# Zuweisung (v1)"
]
    },{
     "cell_type": "markdown",
     "metadata": {
        "slideshow": {
           "slide_type": "-"
         } 
     }, 
     "source": ["<div class=\"definition-head\" style=\"border:3px; border-style:solid; border-color:#5da9e9; padding: 5px; background-color:#5da9e9;  line-height:1.5em; text-align:center; border-radius: 15px 15px 0px 0px; margin-bottom: 0; width: 100%;\"><b>Definition: Zuweisung (v1)<a id=\"orgheadline13\"></a></b></div>\n",
"\n",
"Bei einer **Zuweisung** wird ein **Name** mit einem **Wert** verbunden.  \n",
"\n",
"<div class=\"definition-content\" style=\"border:3px; border-style:solid; border-color:#5da9e9; padding: 5px; margin-top: 0; border-radius: 0px 0px 15px 15px; width: 100%; text-align:left\"></div>"
]
    },{
     "cell_type": "markdown",
     "metadata": {
        "slideshow": {
           "slide_type": "-"
         } 
     }, 
     "source": ["## Schreibweise<a id=\"orgheadline14\"></a>\n",
"\n",
"-   Zuweisung wird durch ein Gleichheitszeichen angegeben\n",
"-   Links davon: der Name\n",
"-   Rechts davon: der Wert"
]
    },{
     "cell_type": "markdown",
     "metadata": {
        "slideshow": {
           "slide_type": "slide"
         } 
     }, 
     "source": ["# Zuweisung: Im Detail\n",
"\n",
"-   Die Zuweisung **erzeugt** den Wert, falls er noch nicht existiert\n",
"-   Die Zuweisung **erzeugt** den Namen, falls er noch nicht existiert\n",
"-   Die Zuweisung **verbindet** Namen mit Wert\n",
"    -   Oder: **bindet** Namen an Wert, Name **ist gebunden an** Wert, Name\n",
"        **bezieht sich auf** Wert"
]
    },{
     "cell_type": "markdown",
     "metadata": {
        "slideshow": {
           "slide_type": "-"
         } 
     }, 
     "source": ["## Zustandsänderung!<a id=\"orgheadline16\"></a>\n",
"\n",
"-   Eine Zuweisung ändert den Zustand des laufenden Programms"
]
    },{
     "cell_type": "markdown",
     "metadata": {
        "slideshow": {
           "slide_type": "slide"
         } 
     }, 
     "source": ["# Zuweisung: Namen sind Schilder an Werten\n",
"\n",
"Binden: An den Wert ein Namensschild hängen "
]
    },{
     "cell_type": "markdown",
     "metadata": {
        "slideshow": {
           "slide_type": "-"
         } 
     }, 
     "source": ["## Code<a id=\"orgheadline18\"></a>"
]
    },{
     "cell_type": "code",
     "metadata": {
        "slideshow": {
           "slide_type": "-"
         } 
     }, 
"outputs": [],
"execution_count": null,
     "source": ["# a wird zu einem Namen für den Wert 42\n",
"a = 42"
]
    },{
     "cell_type": "markdown",
     "metadata": {
        "slideshow": {
           "slide_type": "-"
         } 
     }, 
     "source": ["## Konzept<a id=\"orgheadline19\"></a>\n",
"\n",
"<center>![img](figures/namesLabels.png \"Der Name a  verweist auf  den Wert 42\")</center>"
]
    },{
     "cell_type": "markdown",
     "metadata": {
        "slideshow": {
           "slide_type": "slide"
         } 
     }, 
     "source": ["# Und was ist mit Variablen?\n",
"\n",
"-   Sonst doch immer: **Variable**?\n",
"    -   Statt Wert und Name?\n",
"-   Ja, in anderen Sprachen! (z.B. C, Java, &#x2026;)\n",
"    -   Dort: Variable ist ein **Name** für eine **Speicherstelle** (eine\n",
"        **Adresse**)\n",
"        -   **Nicht** für einen Wert\n",
"    -   (plus Typ, plus Gültigkeitsbereich, plus Lebensdauer)\n",
"    -   Speicherstelle enthält dann  **Wert**\n",
"-   Eine **benannte Schuhschachtel**"
]
    },{
     "cell_type": "markdown",
     "metadata": {
        "slideshow": {
           "slide_type": "slide"
         } 
     }, 
     "source": ["# Variablen in Python?"
]
    },{
     "cell_type": "markdown",
     "metadata": {
        "slideshow": {
           "slide_type": "-"
         } 
     }, 
     "source": ["<div class=\"alertblock-head\" style=\"border:3px; border-style:solid; border-color:#f96900; padding: 5px; background-color:#f96900;  line-height:1.5em; text-align:center; border-radius: 15px 15px 0px 0px; margin-bottom: 0; width: 100%;\"><b>Achtung! KEINE Variablen in Python<a id=\"orgheadline22\"></a></b></div>\n",
"\n",
"Es gibt in Python keine Variablen \n",
"\n",
"<div class=\"alertblock-content\" style=\"border:3px; border-style:solid; border-color:#f96900; padding: 5px; margin-top: 0;  line-height:1.5em; border-radius: 0px 0px 15px 15px; width: 100%; text-align:left\"></div> "
]
    },{
     "cell_type": "markdown",
     "metadata": {
        "slideshow": {
           "slide_type": "fragment"
         } 
     }, 
     "source": ["<div class=\"alertblock-head\" style=\"border:3px; border-style:solid; border-color:#f96900; padding: 5px; background-color:#f96900;  line-height:1.5em; text-align:center; border-radius: 15px 15px 0px 0px; margin-bottom: 0; width: 100%;\"><b>Achtung! &#x2026; nur aus Versehen<a id=\"orgheadline23\"></a></b></div>\n",
"\n",
"Falls mir doch einmal *Variable* herausrutscht, ist das **falsch**!\n",
"Protestieren Sie lautstark! \n",
"\n",
"Gemeint: \n",
"\n",
"-   wenn Variable **rechts** von `=`: ein Name, der an einen Wert gebunden **ist**\n",
"-   wenn Variable **links** von `=`: ein Name, der an einen Wert gebunden **wird**\n",
"\n",
"<div class=\"alertblock-content\" style=\"border:3px; border-style:solid; border-color:#f96900; padding: 5px; margin-top: 0;  line-height:1.5em; border-radius: 0px 0px 15px 15px; width: 100%; text-align:left\"></div> "
]
    },{
     "cell_type": "markdown",
     "metadata": {
        "slideshow": {
           "slide_type": "slide"
         } 
     }, 
     "source": ["# Gültige Namen &#x2013; Bezeichner?\n",
"\n",
"-   `a` war ein Beispiel für einen Namen\n",
"-   Wie darf ein Name überhaupt aussehen?"
]
    },{
     "cell_type": "markdown",
     "metadata": {
        "slideshow": {
           "slide_type": "-"
         } 
     }, 
     "source": ["<div class=\"definition-head\" style=\"border:3px; border-style:solid; border-color:#5da9e9; padding: 5px; background-color:#5da9e9;  line-height:1.5em; text-align:center; border-radius: 15px 15px 0px 0px; margin-bottom: 0; width: 100%;\"><b>Definition: Bezeichner<a id=\"orgheadline25\"></a></b></div>\n",
"\n",
"-   Ein *Bezeichner* (oder *identifier*) ist eine nichtleere\n",
"    Zeichenkette beliebiger Länge, bestehend aus Klein- oder\n",
"    Großbuchstaben, Ziffern, oder dem Unterstrich `_`\n",
"\n",
"-   Das erste Zeichen hat Sonderrolle:\n",
"    -   Es darf keine Ziffer sein\n",
"    \n",
"    -   Unterstrich `_` als erstes Zeichen hat besondere Bedeutung\n",
"        (später)\n",
"\n",
"-   Groß-/Kleinschreibung ist wichtig\n",
"\n",
"-   Einige Zeichenketten sind für andere Zwecke *reserviert*\n",
"\n",
"<div class=\"definition-content\" style=\"border:3px; border-style:solid; border-color:#5da9e9; padding: 5px; margin-top: 0; border-radius: 0px 0px 15px 15px; width: 100%; text-align:left\"></div>"
]
    },{
     "cell_type": "markdown",
     "metadata": {
        "slideshow": {
           "slide_type": "slide"
         } 
     }, 
     "source": ["# Gültige und ungültige Bezeichner: Beispiele\n",
"\n",
"-   Gültig: `hallo`, `x1`, `_a_b`\n",
"    -   Gültig, aber unterschiedlich: `a`, `A`, `var1`, `Var1`\n",
"-   Ungültig: `1x`, `x-y`, Sonderzeichen in Namen ($, # , &#x2026;)"
]
    },{
     "cell_type": "markdown",
     "metadata": {
        "slideshow": {
           "slide_type": "slide"
         } 
     }, 
     "source": ["# Reservierte Zeichenketten\n",
"\n",
"-   Manche Zeichenketten haben Sonderrolle, dürfen nicht als Bezeichner benutzt werden\n",
"-   Beispiel: Literale `True`, `False`\n",
"    -   `True` als Name benutzbar?\n",
"        -   `True = False` ???\n",
"        -   **Nein!**"
]
    },{
     "cell_type": "markdown",
     "metadata": {
        "slideshow": {
           "slide_type": "-"
         } 
     }, 
     "source": ["<div class=\"definition-head\" style=\"border:3px; border-style:solid; border-color:#5da9e9; padding: 5px; background-color:#5da9e9;  line-height:1.5em; text-align:center; border-radius: 15px 15px 0px 0px; margin-bottom: 0; width: 100%;\"><b>Definition: Schlüsselwort<a id=\"orgheadline28\"></a></b></div>\n",
"\n",
"Ein *Schlüsselwort* (reserviertes Wort, reservierter Name, key word)\n",
"ist ein Zeichenkette, die in einer Programmiersprache eine Sonderrolle\n",
"einnimmt. Ein Schlüsselwort darf *nicht* für andere Zwecke benutzt\n",
"werden, z.B. als Bezeichner.\n",
"\n",
"Jede Programmiersprache hat eine Liste von Schlüsselworten. \n",
"\n",
"<div class=\"definition-content\" style=\"border:3px; border-style:solid; border-color:#5da9e9; padding: 5px; margin-top: 0; border-radius: 0px 0px 15px 15px; width: 100%; text-align:left\"></div>"
]
    },{
     "cell_type": "markdown",
     "metadata": {
        "slideshow": {
           "slide_type": "subslide"
         } 
     }, 
     "source": ["# Python-Schlüsselworte bis jetzt\n",
"\n",
"-   `True`, `False`\n",
"    -   Achtung: `True`, nicht `true`!\n",
"    -   Groß-/Kleinschreibung wichtig bei Schlüsselworten!\n",
"-   `and`, `or`"
]
    },{
     "cell_type": "markdown",
     "metadata": {
        "slideshow": {
           "slide_type": "slide"
         } 
     }, 
     "source": ["# Sinnvolle Namen?\n",
"\n",
"Ist `a` ein sinnvoller Name? \n",
"\n",
"-   Für eine Folie mit einem Namen: naja\n",
"-   Für ein größeres Programm: Nein!\n",
"    -   Nutzen Sie sog. **sprechende Namen**: Namen, denen man den Zweck,\n",
"        Inhalt, Benutzung leicht ansieht\n",
"        -   Gut: `eingabedatei`, `quersumme`, usw.\n",
"        -   Schlecht: `ii2`, `x_17_b`\n",
"-   Sie müssen Ihr Programm auch in drei Monaten noch selbst verstehen!"
]
    },{
     "cell_type": "markdown",
     "metadata": {
        "slideshow": {
           "slide_type": "slide"
         } 
     }, 
     "source": ["# Namenskonvention"
]
    },{
     "cell_type": "markdown",
     "metadata": {
        "slideshow": {
           "slide_type": "-"
         } 
     }, 
     "source": ["<div class=\"definition-head\" style=\"border:3px; border-style:solid; border-color:#5da9e9; padding: 5px; background-color:#5da9e9;  line-height:1.5em; text-align:center; border-radius: 15px 15px 0px 0px; margin-bottom: 0; width: 100%;\"><b>Definition: Namenskonvention<a id=\"orgheadline32\"></a></b></div>\n",
"\n",
"Eine **Namenskonvention** beschreibt übliche Vorgehensweisen zur Wahl\n",
"von Namen. Sie schränkt die möglichen Namen auf die sinnvollen Namen\n",
"ein, ist aber kein formaler Bestandteil der Sprache. \n",
"\n",
"<div class=\"definition-content\" style=\"border:3px; border-style:solid; border-color:#5da9e9; padding: 5px; margin-top: 0; border-radius: 0px 0px 15px 15px; width: 100%; text-align:left\"></div>"
]
    },{
     "cell_type": "markdown",
     "metadata": {
        "slideshow": {
           "slide_type": "fragment"
         } 
     }, 
     "source": ["<div class=\"example-head\" style=\"border:3px; border-style:solid; border-color:#99d19c; padding: 5px; background-color:#99d19c;  line-height:1.5em; text-align:center; border-radius: 15px 15px 0px 0px; margin-bottom: 0; width: 100%;\"><b>Beispiel: Pythons Namenskonvention für Werte<a id=\"orgheadline33\"></a></b></div>\n",
"\n",
"-   Kleinbuchstaben am Anfang\n",
"-   Namen aus mehreren Worten werden durch Unterstrich getrennt\n",
"-   Vermeide: kleines l, großes O und großes I &#x2013; Verwechselungsgefahr\n",
"-   (Namen für andere Zwecke, andere Konventionen &#x2013; siehe später)\n",
"\n",
"<div class=\"example-content\" style=\"border:3px; border-style:solid; border-color:#99d19c; padding: 5px; margin-top: 0;  line-height:1.5em; border-radius: 0px 0px 15px 15px; width: 100%; text-align:left\"></div> "
]
    },{
     "cell_type": "markdown",
     "metadata": {
        "slideshow": {
           "slide_type": "slide"
         } 
     }, 
     "source": ["# Namen nutzen\n",
"\n",
"-   Wie bekomme ich den mit Namen verbundenen  Wert?\n",
"-   Einfach: Namen  als Ausdruck benutzen"
]
    },{
     "cell_type": "code",
     "metadata": {
        "slideshow": {
           "slide_type": "-"
         } 
     }, 
"outputs": [],
"execution_count": null,
     "source": ["a = 5\n",
"a + 17"
]
    },{
     "cell_type": "markdown",
     "metadata": {
        "slideshow": {
           "slide_type": "slide"
         } 
     }, 
     "source": ["# Mehrere Namen"
]
    },{
     "cell_type": "markdown",
     "metadata": {
        "slideshow": {
           "slide_type": "-"
         } 
     }, 
     "source": ["## Code<a id=\"orgheadline36\"></a>"
]
    },{
     "cell_type": "code",
     "metadata": {
        "slideshow": {
           "slide_type": "-"
         } 
     }, 
"outputs": [],
"execution_count": null,
     "source": ["# a und b werden zu Namen für Wert 42 \n",
"a = 42\n",
"b = 42"
]
    },{
     "cell_type": "markdown",
     "metadata": {
        "slideshow": {
           "slide_type": "-"
         } 
     }, 
     "source": ["## Konzept<a id=\"orgheadline37\"></a>\n",
"\n",
"<center>![img](figures/TwoNamesLabels.png \"Beiden Namen a und b sind an  den Wert 42 gebunden\")</center>"
]
    },{
     "cell_type": "markdown",
     "metadata": {
        "slideshow": {
           "slide_type": "slide"
         } 
     }, 
     "source": ["# Mehrere Namen  &#x2013; Beobachtungen"
]
    },{
     "cell_type": "markdown",
     "metadata": {
        "slideshow": {
           "slide_type": "-"
         } 
     }, 
     "source": ["## Namen und Werte<a id=\"orgheadline39\"></a>\n",
"\n",
"-   Zwei unterschiedliche Namen für den gleichen Wert!\n",
"    -   Dem Wert ist das egal; die Zahl 42 ist immer die gleiche"
]
    },{
     "cell_type": "markdown",
     "metadata": {
        "slideshow": {
           "slide_type": "fragment"
         } 
     }, 
     "source": ["## Syntaxregel<a id=\"orgheadline40\"></a>\n",
"\n",
"-   Mehrere Anweisungen: **Eine Zeile, eine Anweisung**"
]
    },{
     "cell_type": "markdown",
     "metadata": {
        "slideshow": {
           "slide_type": "slide"
         } 
     }, 
     "source": ["# Weitere Zuweisung"
]
    },{
     "cell_type": "markdown",
     "metadata": {
        "slideshow": {
           "slide_type": "-"
         } 
     }, 
     "source": ["## Code<a id=\"orgheadline42\"></a>"
]
    },{
     "cell_type": "code",
     "metadata": {
        "slideshow": {
           "slide_type": "-"
         } 
     }, 
"outputs": [],
"execution_count": null,
     "source": ["a = 42\n",
"b = 42\n",
"# Name a wird an einen neuen Wert gebunden \n",
"# (sog. \"rebinding\") \n",
"a = \"Hallo\""
]
    },{
     "cell_type": "markdown",
     "metadata": {
        "slideshow": {
           "slide_type": "-"
         } 
     }, 
     "source": ["## Konzept<a id=\"orgheadline43\"></a>\n",
"\n",
"<center>![img](figures/abHallo.png \"Name a wird an  einen neuen Wert gebunden\")</center>"
]
    },{
     "cell_type": "markdown",
     "metadata": {
        "slideshow": {
           "slide_type": "slide"
         } 
     }, 
     "source": ["<h1>Overview</h1> \n",
"\n",
"1. Überblick\n",
"1. Namen, Bezeichner\n",
"1. **<font color=\"red\">Arbeiten mit Namen und Zuweisungen</font>**\n",
"1. Zuweisungen und Typen\n",
"1. Anmerkungen zu Syntax und Stil\n",
"1. Zusammenfassung"
]
    },{
     "cell_type": "markdown",
     "metadata": {
        "slideshow": {
           "slide_type": "slide"
         } 
     }, 
     "source": ["# Namen an Namen zuweisen\n",
"\n",
"Geht das? Wert von b? "
]
    },{
     "cell_type": "code",
     "metadata": {
        "slideshow": {
           "slide_type": "-"
         } 
     }, 
"outputs": [],
"execution_count": null,
     "source": ["%%tutor  \n",
"a = 42\n",
"b = a"
]
    },{
     "cell_type": "markdown",
     "metadata": {
        "slideshow": {
           "slide_type": "-"
         } 
     }, 
     "source": ["## Semantik von Zuweisung: **Wert**<a id=\"orgheadline45\"></a>\n",
"\n",
"-   Das ist nur ein Sonderfall!\n",
"-   Allgemein:\n",
"    -   Wert des Ausdrucks auf der rechten Seite bestimmen\n",
"    -   Namen links von `=` wird zu Namen für diesen Wert\n",
"    -   Egal, ob der Ausdruck rechts ein Namen, Ausdruck, &#x2026; ist &#x2013; es\n",
"        geht um **den Wert**"
]
    },{
     "cell_type": "markdown",
     "metadata": {
        "slideshow": {
           "slide_type": "slide"
         } 
     }, 
     "source": ["# Animationen von Programmen\n",
"\n",
"-   Die vorherige Folie war auch ein Beispiel für Programmanimationen\n",
"    -   Web-Anwendung: [PythonTutor](http://www.pythontutor.com/)\n",
"    -   Erlaubt Ausführung von Programmen in Einzelschritten und Anzeige\n",
"        der an Namen gebundenen Werte\n",
"-   Sie können das selbst nutzen\n",
"    -   direkt auf Webseite von PythonTutor\n",
"    -   oder aus den Jupyter-Notebooks heraus: mit `%%tutor` in\n",
"        der ersten Zeile\n",
"    -   aus dem Skript heraus: Links [(PT link)](http://www.pythontutor.com)"
]
    },{
     "cell_type": "markdown",
     "metadata": {
        "slideshow": {
           "slide_type": "slide"
         } 
     }, 
     "source": ["# Animationen von Programmen &#x2013; Quellcode"
]
    },{
     "cell_type": "markdown",
     "metadata": {
        "slideshow": {
           "slide_type": "-"
         } 
     }, 
     "source": ["<div class=\"alertblock-head\" style=\"border:3px; border-style:solid; border-color:#f96900; padding: 5px; background-color:#f96900;  line-height:1.5em; text-align:center; border-radius: 15px 15px 0px 0px; margin-bottom: 0; width: 100%;\"><b>Achtung! Kein tutor in normalen Programmen<a id=\"orgheadline48\"></a></b></div>\n",
"\n",
"Die Anweisung `%%tutor` in der ersten Zeile einiger der\n",
"Programmbeispiele hier ist eine JupyterNotebooks-Eigenheit.  Sie dient\n",
"dazu, das Notebook mit der Web-Anwendung PythonTutor zu\n",
"verknüpfen. Leider werden diese in die Ausgabe des Skriptes mit\n",
"übernommen. \n",
"\n",
"Übernehmen Sie diese Zeile **nicht**, wenn Sie das Programm ausserhalb\n",
"eines Notebooks (z.B. in einem Terminal-Fenster) ausführen wollen.\n",
"\n",
"<div class=\"alertblock-content\" style=\"border:3px; border-style:solid; border-color:#f96900; padding: 5px; margin-top: 0;  line-height:1.5em; border-radius: 0px 0px 15px 15px; width: 100%; text-align:left\"></div> "
]
    },{
     "cell_type": "markdown",
     "metadata": {
        "slideshow": {
           "slide_type": "slide"
         } 
     }, 
     "source": ["# FALSCH: Name auf Name"
]
    },{
     "cell_type": "markdown",
     "metadata": {
        "slideshow": {
           "slide_type": "-"
         } 
     }, 
     "source": ["<div class=\"alertblock-head\" style=\"border:3px; border-style:solid; border-color:#f96900; padding: 5px; background-color:#f96900;  line-height:1.5em; text-align:center; border-radius: 15px 15px 0px 0px; margin-bottom: 0; width: 100%;\"><b>Achtung! `b = a` ist kein Name für `a`<a id=\"orgheadline50\"></a></b></div>\n",
"\n",
"Durch die Zuweisung `b = a` wird **KEIN** neuer Name für `a`\n",
"vereinbart. `b` wird zu einem weiteren Namen für den Wert, der von `b`\n",
"referenziert wird. \n",
"\n",
"<div class=\"alertblock-content\" style=\"border:3px; border-style:solid; border-color:#f96900; padding: 5px; margin-top: 0;  line-height:1.5em; border-radius: 0px 0px 15px 15px; width: 100%; text-align:left\"></div> "
]
    },{
     "cell_type": "markdown",
     "metadata": {
        "slideshow": {
           "slide_type": "-"
         } 
     }, 
     "source": ["## FALSCH (**KOMPLETT ABSURD**):<a id=\"orgheadline51\"></a>\n",
"\n",
"<center>![img](figures/wrongLabels.png \"Vorsicht falsch: `b` wird **nicht** zu Namen für `a`\")</center>"
]
    },{
     "cell_type": "markdown",
     "metadata": {
        "slideshow": {
           "slide_type": "slide"
         } 
     }, 
     "source": ["# Einen Namen verändern?\n",
"\n",
"-   Genauer: Ein Name referenziert einen neuen Wert\n",
"-   Wert von `b`?"
]
    },{
     "cell_type": "code",
     "metadata": {
        "slideshow": {
           "slide_type": "-"
         } 
     }, 
"outputs": [],
"execution_count": null,
     "source": ["%%tutor  \n",
"a = 5\n",
"b = a\n",
"a = a + 2\n",
"b"
]
    },{
     "cell_type": "markdown",
     "metadata": {
        "slideshow": {
           "slide_type": "slide"
         } 
     }, 
     "source": ["# Warum hat `b` den Wert 5?\n",
"\n",
"1.  `a = 5` : Name `a` referenziert den Wert 5\n",
"2.  `b = a` : Der Wert des Ausdrucks auf der rechten Seite wird\n",
"    bestimmt. Name  `b` wird zu einem Namen für diesen Wert.\n",
"3.  `a = a + 2` : \n",
"    1.  `a + 2` ausrechnen, ergibt Wert 7\n",
"    2.  Der Wert 7 wird im Speicher repräsentiert\n",
"    3.  `a` wird zu einem Namen für diesen Wert\n",
"4.  `b` ist immer noch ein Name für 5\n",
"    1.  Warum sollte sich hier etwas geändert haben?"
]
    },{
     "cell_type": "markdown",
     "metadata": {
        "slideshow": {
           "slide_type": "slide"
         } 
     }, 
     "source": ["# Ausdrücke  mit Namen\n",
"\n",
"-   In Ausdrücken können Namen  wie Werte benutzt werden\n",
"-   Genauer: Bei Berechnung des Ausdrucks wird Name durch gebundenen Wert\n",
"    **ersetzt**\n",
"    -   Wie Beispiel oben: `b = a`\n",
"-   Name links von `=` wird zu Namen für berechneten Wert"
]
    },{
     "cell_type": "markdown",
     "metadata": {
        "slideshow": {
           "slide_type": "-"
         } 
     }, 
     "source": ["## Beispiele<a id=\"orgheadline55\"></a>"
]
    },{
     "cell_type": "code",
     "metadata": {
        "slideshow": {
           "slide_type": "-"
         } 
     }, 
"outputs": [],
"execution_count": null,
     "source": ["a = 17 + 5 \n",
"b = 3*a +5 \n",
"c = (a + b)/5"
]
    },{
     "cell_type": "markdown",
     "metadata": {
        "slideshow": {
           "slide_type": "slide"
         } 
     }, 
     "source": ["# Beispiel: Wert von `y` am Ende?"
]
    },{
     "cell_type": "code",
     "metadata": {
        "slideshow": {
           "slide_type": "-"
         } 
     }, 
"outputs": [],
"execution_count": null,
     "source": ["x = 42\n",
"y = x\n",
"x = 42 - y\n",
"y = 2*x + 17\n",
"\n",
"    17"
]
    },{
     "cell_type": "markdown",
     "metadata": {
        "slideshow": {
           "slide_type": "fragment"
         } 
     }, 
     "source": ["## Pingo<a id=\"orgheadline57\"></a>"
]
    },{
     "cell_type": "code",
     "metadata": {
        "slideshow": {
           "slide_type": "-"
         } 
     }, 
"outputs": [],
"execution_count": null,
     "source": ["pingo_title = \"Wert von y?\" \n",
"pingo_type = \"single\"\n",
"pingo_questions = [\"42\", \"0\", \"-42\", \"17\"]\n",
"\n",
"%pingo"
]
    },{
     "cell_type": "markdown",
     "metadata": {
        "slideshow": {
           "slide_type": "slide"
         } 
     }, 
     "source": ["# Beispiel: Gebundene Werte zweier Namen vertauschen\n",
"\n",
"Wie vertauschen Sie die Werte zweier Namen? "
]
    },{
     "cell_type": "code",
     "metadata": {
        "slideshow": {
           "slide_type": "-"
         } 
     }, 
"outputs": [],
"execution_count": null,
     "source": ["a = 17 \n",
"b = 42 \n",
"# Your code here \n",
"..."
]
    },{
     "cell_type": "markdown",
     "metadata": {
        "slideshow": {
           "slide_type": "slide"
         } 
     }, 
     "source": ["# Gleichzeitig Zuweisungen\n",
"\n",
"Python: **Gleichzeitige** Zuweisung an mehrere Namen möglich "
]
    },{
     "cell_type": "markdown",
     "metadata": {
        "slideshow": {
           "slide_type": "-"
         } 
     }, 
     "source": ["## Syntax<a id=\"orgheadline60\"></a>\n",
"\n",
"-   Links von `=`: Mehrere Namen, durch Komma getrennt\n",
"-   Rechts von `=`: Mehrere Ausdrücke, durch Komma getrennt\n",
"-   Anzahl stimmt überein\n",
"    -   Siehe später, *unpacking*\n",
"-   Beispiel mit drei Ausdrücken:"
]
    },{
     "cell_type": "code",
     "metadata": {
        "slideshow": {
           "slide_type": "-"
         } 
     }, 
"outputs": [],
"execution_count": null,
     "source": ["a, b, c = Ausdruck1, Ausdruck2, Ausdruck3"
]
    },{
     "cell_type": "markdown",
     "metadata": {
        "slideshow": {
           "slide_type": "slide"
         } 
     }, 
     "source": ["# Gleichzeitige Zuweisungen &#x2013; Semantik\n",
"\n",
"1.  **Alle** Ausdrücke auf der rechten Seite werden ausgewertet\n",
"    1.  Dabei werden noch die **ursprünglichen** Werte benutzt (es gibt ja\n",
"        noch keine anderen)\n",
"2.  **Danach** werden alle Zuweisungen zu den neu berechneten Werten\n",
"    hergestellt\n",
"3.  Erst wenn **alle** Zuweisungen fertig sind, geht es weiter\n",
"\n",
"Formal: **atomare** Zuweisungen "
]
    },{
     "cell_type": "markdown",
     "metadata": {
        "slideshow": {
           "slide_type": "slide"
         } 
     }, 
     "source": ["# Gleichzeitige Zuweisungen &#x2013; Beispiele"
]
    },{
     "cell_type": "code",
     "metadata": {
        "slideshow": {
           "slide_type": "-"
         } 
     }, 
"outputs": [],
"execution_count": null,
     "source": ["x, y = 17, 42\n",
"x, y = 2*x, y-5"
]
    },{
     "cell_type": "markdown",
     "metadata": {
        "slideshow": {
           "slide_type": "-"
         } 
     }, 
     "source": ["## Vertauschen zweier gebundener Werte?<a id=\"orgheadline63\"></a>"
]
    },{
     "cell_type": "code",
     "metadata": {
        "slideshow": {
           "slide_type": "-"
         } 
     }, 
"outputs": [],
"execution_count": null,
     "source": ["x, y = 17, 42\n",
"# ???"
]
    },{
     "cell_type": "markdown",
     "metadata": {
        "slideshow": {
           "slide_type": "slide"
         } 
     }, 
     "source": ["# Zuweisung (v2)"
]
    },{
     "cell_type": "markdown",
     "metadata": {
        "slideshow": {
           "slide_type": "-"
         } 
     }, 
     "source": ["<div class=\"definition-head\" style=\"border:3px; border-style:solid; border-color:#5da9e9; padding: 5px; background-color:#5da9e9;  line-height:1.5em; text-align:center; border-radius: 15px 15px 0px 0px; margin-bottom: 0; width: 100%;\"><b>Definition: Zuweisung (v2)<a id=\"orgheadline65\"></a></b></div>\n",
"\n",
"Bei einer Zuweisung werden ein oder mehrere **Namen** mit einem oder\n",
"mehreren Werten verbunden.  Der Name **bindet an** den entsprechenden\n",
"Wert. \n",
"\n",
"<div class=\"definition-content\" style=\"border:3px; border-style:solid; border-color:#5da9e9; padding: 5px; margin-top: 0; border-radius: 0px 0px 15px 15px; width: 100%; text-align:left\"></div>"
]
    },{
     "cell_type": "markdown",
     "metadata": {
        "slideshow": {
           "slide_type": "-"
         } 
     }, 
     "source": ["## Schreibweise<a id=\"orgheadline66\"></a>\n",
"\n",
"-   Zuweisung wird durch ein Gleichheitszeichen angegeben\n",
"-   Links davon: der oder die **Namen**, durch Komma getrennt\n",
"-   Rechts davon: der oder die **Asudrücke**, durch Komma getrennt"
]
    },{
     "cell_type": "markdown",
     "metadata": {
        "slideshow": {
           "slide_type": "slide"
         } 
     }, 
     "source": ["# Kurzschreibweisen bei Zuweisungen\n",
"\n",
"-   Häufig: an Namen einfachen arithmetischen Ausdruck aus diesem\n",
"    Namen zuweisen\n",
"    -   `x = x + 1`, `y = y / 2`\n",
"-   Dafür Kurzschreibweise:\n",
"    -   `Name Operator= Ausdruck`\n",
"    -   Entspricht: `Name = Name Operator Ausdruck`\n",
"-   Beispiele\n",
"    -   `x += 1`\n",
"    -   `y /= 2`"
]
    },{
     "cell_type": "markdown",
     "metadata": {
        "slideshow": {
           "slide_type": "slide"
         } 
     }, 
     "source": ["<h1>Overview</h1> \n",
"\n",
"1. Überblick\n",
"1. Namen, Bezeichner\n",
"1. Arbeiten mit Namen und Zuweisungen\n",
"1. **<font color=\"red\">Zuweisungen und Typen</font>**\n",
"1. Anmerkungen zu Syntax und Stil\n",
"1. Zusammenfassung"
]
    },{
     "cell_type": "markdown",
     "metadata": {
        "slideshow": {
           "slide_type": "slide"
         } 
     }, 
     "source": ["# Typen?\n",
"\n",
"-   Werte und Ausdrücke haben Typen\n",
"-   Name? Verweist lediglich  auf  Wert\n",
"-   **Typ des Names**: Typ des zugewiesenen Werts\n",
"    -   Welcher Typ sollte es auch sonst sein??"
]
    },{
     "cell_type": "markdown",
     "metadata": {
        "slideshow": {
           "slide_type": "slide"
         } 
     }, 
     "source": ["# Typ eines Namens veränderlich?\n",
"\n",
"Heißt das, dass sich der Typ eines Namens verändern kann? \n",
"\n",
"-   **JA**!"
]
    },{
     "cell_type": "code",
     "metadata": {
        "slideshow": {
           "slide_type": "-"
         } 
     }, 
"outputs": [],
"execution_count": null,
     "source": ["x = 42\n",
"# Typ von x: int\n",
"x = 'Hallo GP1'\n",
"# Typ von x: str"
]
    },{
     "cell_type": "markdown",
     "metadata": {
        "slideshow": {
           "slide_type": "slide"
         } 
     }, 
     "source": ["# Wo ist der Typ?\n",
"\n",
"-   Typ-Information liegt **nicht** beim Namen\n",
"    -   Für einen Namen  **muss kein Typ angegeben werden**\n",
"    -   Es wäre auch sinnlos, das zu tun\n",
"-   Typ-Information liegt beim gebundenen Wert\n",
"-   Ist dort aber **explizit bekannt**!"
]
    },{
     "cell_type": "markdown",
     "metadata": {
        "slideshow": {
           "slide_type": "slide"
         } 
     }, 
     "source": ["# Problem?\n",
"\n",
"-   Dem Interpreter ist das egal &#x2013; die Typinformation ist ja vorhanden\n",
"-   Ein Programmierer sieht einem Namen (zunächst) nicht an, auf was der\n",
"    Name verweist \n",
"    -   Das kann sich ja ändern\n",
"    -   Das erfordert Disziplin!\n",
"-   Idee: *Solange der Wert weiß, was er ist, ist alles gut*"
]
    },{
     "cell_type": "markdown",
     "metadata": {
        "slideshow": {
           "slide_type": "slide"
         } 
     }, 
     "source": ["# Dynamisch typisierte Sprache"
]
    },{
     "cell_type": "markdown",
     "metadata": {
        "slideshow": {
           "slide_type": "-"
         } 
     }, 
     "source": ["<div class=\"definition-head\" style=\"border:3px; border-style:solid; border-color:#5da9e9; padding: 5px; background-color:#5da9e9;  line-height:1.5em; text-align:center; border-radius: 15px 15px 0px 0px; margin-bottom: 0; width: 100%;\"><b>Definition: Dynamisch typisierte Programmiersprache<a id=\"orgheadline73\"></a></b></div>\n",
"\n",
"Eine Programmiersprache ist ***dynamisch typisiert***, wenn\n",
"Typen-Informationen für jeden Namen, Wert oder Ausdruck **zur Laufzeit** bekannt\n",
"sind. Diese Typen-Information ist im Programm-Code nicht explizit\n",
"repräsentiert und nicht notwendigerweise aus ihm ableitbar. \n",
"\n",
"Python ist ein Beispiel. \n",
"\n",
"<div class=\"definition-content\" style=\"border:3px; border-style:solid; border-color:#5da9e9; padding: 5px; margin-top: 0; border-radius: 0px 0px 15px 15px; width: 100%; text-align:left\"></div>"
]
    },{
     "cell_type": "markdown",
     "metadata": {
        "slideshow": {
           "slide_type": "slide"
         } 
     }, 
     "source": ["# Statisch typisierte Sprache"
]
    },{
     "cell_type": "markdown",
     "metadata": {
        "slideshow": {
           "slide_type": "-"
         } 
     }, 
     "source": ["<div class=\"definition-head\" style=\"border:3px; border-style:solid; border-color:#5da9e9; padding: 5px; background-color:#5da9e9;  line-height:1.5em; text-align:center; border-radius: 15px 15px 0px 0px; margin-bottom: 0; width: 100%;\"><b>Definition: Statisch typisierte Sprache<a id=\"orgheadline75\"></a></b></div>\n",
"\n",
"Eine Programmiersprache ist ***statisch typisiert*** wenn\n",
"Typen-Information für ***Namen*** (bzw. Variablen) explizit im\n",
"Programm-Code angegeben werden muß. Aus der Betrachtung des\n",
"Programm-Codes kann der Typ eines Wertes abgeleitet werden, bereits\n",
"bevor das Programm selbst abläuft.\n",
"\n",
"Gegebenenfalls wird in einer solchen Sprache auf die explizite\n",
"Repräsentation des Typs eines Wertes *zur Laufzeit* verzichtet, da ja\n",
"alle Informationen bereits vorab bekannt sind. (In OO-Sprachen meist\n",
"doch vorhanden.)\n",
"\n",
"Java ist ein Beispiel (aber eigentlich eine Mischform). \n",
"\n",
"<div class=\"definition-content\" style=\"border:3px; border-style:solid; border-color:#5da9e9; padding: 5px; margin-top: 0; border-radius: 0px 0px 15px 15px; width: 100%; text-align:left\"></div>"
]
    },{
     "cell_type": "markdown",
     "metadata": {
        "slideshow": {
           "slide_type": "slide"
         } 
     }, 
     "source": ["<h1>Overview</h1> \n",
"\n",
"1. Überblick\n",
"1. Namen, Bezeichner\n",
"1. Arbeiten mit Namen und Zuweisungen\n",
"1. Zuweisungen und Typen\n",
"1. **<font color=\"red\">Anmerkungen zu Syntax und Stil</font>**\n",
"1. Zusammenfassung"
]
    },{
     "cell_type": "markdown",
     "metadata": {
        "slideshow": {
           "slide_type": "slide"
         } 
     }, 
     "source": ["# Syntax\n",
"\n",
"Einige aufgetauchte Syntaxregeln: \n",
"\n",
"-   Formulierung von Literalen und Ausdrücken\n",
"-   Kommentare beginnen mit #\n",
"-   Eine Anweisung, eine Zeile\n",
"-   Anweisungen mit Gleichheitszeichen schreiben\n",
"    -   Und gleichzeitige Anweisungen mit Komma trennen"
]
    },{
     "cell_type": "markdown",
     "metadata": {
        "slideshow": {
           "slide_type": "slide"
         } 
     }, 
     "source": ["# Syntax: Formalisierung\n",
"\n",
"-   Syntaxregeln durch *formale Sprachen* und Grammatiken  formalisiert\n",
"-   Visualisiert: Syntaxdiagramme\n",
"-   Beispiele: Später"
]
    },{
     "cell_type": "markdown",
     "metadata": {
        "slideshow": {
           "slide_type": "slide"
         } 
     }, 
     "source": ["# Stil\n",
"\n",
"-   Syntax: Harte Regeln, **müssen** eingehalten werden\n",
"-   Aber mit Spielraum \n",
"    -   Beispiel: Leerzeichen vor, nach `=`, Klammern?\n",
"-   Unterschiedliche Interpretation von Spielraum? \n",
"    -   Verwirrt, senkt Lesbarkeit, erschwert Wiederbenutzung\n",
"    -   *Code wird öfter gelesen als geschrieben!*\n",
"-   Daher: **Stilregeln** (***style guides***) für ***Konsistenz***\n",
"    -   Anfänger-Code = inkonsistenter Code"
]
    },{
     "cell_type": "markdown",
     "metadata": {
        "slideshow": {
           "slide_type": "slide"
         } 
     }, 
     "source": ["# Schlechter Stil ist peinlich\n",
"\n",
"<center>![img](./figures/code_quality.png \"Code ist kein Salatrezept\")</center>"
]
    },{
     "cell_type": "markdown",
     "metadata": {
        "slideshow": {
           "slide_type": "slide"
         } 
     }, 
     "source": ["# Stilregeln Python\n",
"\n",
"-   Python: festgelegte Stilregeln\n",
"    -   Python Enhancement Proposal No. 8 ([PEP 8](https://www.python.org/dev/peps/pep-0008/))\n",
"-   Beispiele:\n",
"    -   Maximale Zeilenlänge 79 Zeichen\n",
"    -   Leerzeichen\n",
"        -   Nach Komma, nicht davor\n",
"        -   Nicht nach öffnender oder vor schließender Klammer\n",
"        -   Genau ein Leerzeichen vor und nach Zuweisung\n",
"        -   Stimmt mit Buchsatzregeln überein!"
]
    },{
     "cell_type": "markdown",
     "metadata": {
        "slideshow": {
           "slide_type": "slide"
         } 
     }, 
     "source": ["# Stilregeln in Python: Beispiel Kommentare\n",
"\n",
"-   Beginne mit #, gefolgt von einem Leerzeichen\n",
"-   Schreibe englisch\n",
"\n",
"-   Auch: Empfehlungen zu Struktur der Kommentare"
]
    },{
     "cell_type": "markdown",
     "metadata": {
        "slideshow": {
           "slide_type": "-"
         } 
     }, 
     "source": ["## Sinnlos: Offensichtliches<a id=\"orgheadline82\"></a>"
]
    },{
     "cell_type": "code",
     "metadata": {
        "slideshow": {
           "slide_type": "-"
         } 
     }, 
"outputs": [],
"execution_count": null,
     "source": ["x = x + 1   # Erhoehe x um 1"
]
    },{
     "cell_type": "markdown",
     "metadata": {
        "slideshow": {
           "slide_type": "-"
         } 
     }, 
     "source": ["## Sinnvoll: *Grund* für die Anweisung<a id=\"orgheadline83\"></a>"
]
    },{
     "cell_type": "code",
     "metadata": {
        "slideshow": {
           "slide_type": "-"
         } 
     }, 
"outputs": [],
"execution_count": null,
     "source": ["x = x + 1   # Platz am Rand lassen"
]
    },{
     "cell_type": "markdown",
     "metadata": {
        "slideshow": {
           "slide_type": "slide"
         } 
     }, 
     "source": ["# Stilregeln in Python\n",
"\n",
"-   Aber: es sind Regeln &#x2013; keine Regel ohne Ausnahme\n",
"\n",
"-   Selbst nachdenken, nachfragen, eigenes Urteil\n",
"\n",
"-   [PEP 20 &#x2013; The Zen of Python](https://www.python.org/dev/peps/pep-0020/)\n",
"    -   ***Beautiful is better than ugly.***\n",
"    \n",
"    -   ***Readability counts.***"
]
    },{
     "cell_type": "markdown",
     "metadata": {
        "slideshow": {
           "slide_type": "slide"
         } 
     }, 
     "source": ["<h1>Overview</h1> \n",
"\n",
"1. Überblick\n",
"1. Namen, Bezeichner\n",
"1. Arbeiten mit Namen und Zuweisungen\n",
"1. Zuweisungen und Typen\n",
"1. Anmerkungen zu Syntax und Stil\n",
"1. **<font color=\"red\">Zusammenfassung</font>**"
]
    },{
     "cell_type": "markdown",
     "metadata": {
        "slideshow": {
           "slide_type": "slide"
         } 
     }, 
     "source": ["# Zusammenfassung\n",
"\n",
"-   Zuweisungen geben Werten einen *Namen*, haben die Form eines *Bezeichners*\n",
"-   Damit ändert sich der *Zustand* eines laufenden Programms\n",
"-   Regeln, wie Bezeichner aussehen dürfen\n",
"-   Die Repräsentation des Typs im Programmtext/zur Laufzeit\n",
"    unterscheidet dynamisch von statisch typisierten Programmiersprachen"
]
    },{
     "cell_type": "markdown",
     "metadata": {
        "slideshow": {
           "slide_type": "slide"
         } 
     }, 
     "source": ["# Rückblick\n",
"\n",
"Waren Sie überrascht? \n",
"\n",
"-   Gute Programmiersprache: Keine Überraschungen\n",
"-   *Principle of least possible surprise*\n",
"\n",
"Hätten Sie etwas anders gemacht? \n",
"\n",
"-   Idealerweise: **Eine** offensichtliche Lösung\n",
"-   ***There should be one &#x2013; and preferably only one &#x2013; obvious way to do\n",
"    it.*** ([PEP 20 &#x2013; The Zen of Python](https://www.python.org/dev/peps/pep-0020/))\n",
"\n",
"  "
]
 }
],
 "metadata": {
  "celltoolbar": "Slideshow",
  "livereveal": {
        "theme": "simple",
        "transition": "none"
    },
  "kernelspec": {
   "display_name": "Python 3",
   "language": "python",
   "name": "python3"
  },
  "language_info": {
   "codemirror_mode": {
    "name": "ipython",
    "version": 3
   },
   "file_extension": ".py",
   "mimetype": "text/x-python",
   "name": "python",
   "nbconvert_exporter": "python",
   "pygments_lexer": "ipython3",
   "version": "3.5.1"
  }
 },
 "nbformat": 4,
 "nbformat_minor": 0
}