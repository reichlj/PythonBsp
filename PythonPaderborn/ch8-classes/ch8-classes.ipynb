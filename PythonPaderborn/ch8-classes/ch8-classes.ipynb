{
"cells": [
 {
     "cell_type": "markdown",
     "metadata": {
        "slideshow": {
           "slide_type": "slide"
         } 
     }, 
     "source": ["<h1>Kapitel 8: Klassen und Objekte</h1>\n",
"<p>Grundlagen der Programmierung 1<p><h2>Holger Karl</h2>\n",
" "
]
    },{
     "cell_type": "markdown",
     "metadata": {
        "slideshow": {
           "slide_type": "slide"
         } 
     }, 
     "source": ["<h1>Overview</h1> \n",
"\n",
"1. Überblick\n",
"1. Zusammenhang von Daten und Funktionen\n",
"1. Klassen\n",
"1. Objekte/Instanzen\n",
"1. Definition und Instantiierung einer Klasse\n",
"1. Definition und Aufruf weiterer Methoden\n",
"1. Statische Attribute und Methoden\n",
"1. Beobachtungen\n",
"1. Beispiele\n",
"1. Zusammenfassung \n",
" \n",
""
]
    },{
     "cell_type": "markdown",
     "metadata": {
        "slideshow": {
           "slide_type": "slide"
         } 
     }, 
     "source": ["<h1>Overview</h1> \n",
"\n",
"1. **<font color=\"red\">Überblick</font>**\n",
"1. Zusammenhang von Daten und Funktionen\n",
"1. Klassen\n",
"1. Objekte/Instanzen\n",
"1. Definition und Instantiierung einer Klasse\n",
"1. Definition und Aufruf weiterer Methoden\n",
"1. Statische Attribute und Methoden\n",
"1. Beobachtungen\n",
"1. Beispiele\n",
"1. Zusammenfassung"
]
    },{
     "cell_type": "markdown",
     "metadata": {
        "slideshow": {
           "slide_type": "skip"
         } 
     }, 
     "source": ["# Setup\n",
"\n",
"Main point here is to set up warnings properly for presentation and to\n",
"load tutormagic, so that we can later on use pythontutor for code\n",
"animations. "
]
    },{
     "cell_type": "code",
     "metadata": {
        "slideshow": {
           "slide_type": "skip"
         } 
     }, 
"outputs": [],
"execution_count": null,
     "source": ["%load_ext tutormagic\n",
"import warnings\n",
"warnings.filterwarnings('ignore', category=DeprecationWarning, module='.*/IPython/.*')\n",
"\n",
"import requests\n",
"import webbrowser\n",
"from IPython.core.magic import register_line_magic\n",
"\n",
"pingo_token = \"BRx9QJP7rjdUGBq3x4hP\"\n",
"\n",
"# Test-Session: \n",
"pingo_url = \"https://pingo.upb.de/events/311055/quick_start.json\"\n",
"# Produktiv-Session: \n",
"# pingo_url = \"https://pingo.upb.de/events/204051/quick_start.json\"\n",
"\n",
"pingo_duration = '120'\n",
"pingo_type = \"single\"\n",
"\n",
"\n",
"@register_line_magic\n",
"def pingo(line):\n",
"    params = {'survey_name': pingo_title, \n",
"              'predef_options': pingo_questions, \n",
"              'q_type': pingo_type,\n",
"              'duration': pingo_duration, \n",
"              'auth_token': pingo_token}\n",
"\n",
"    r = requests.post(pingo_url, json=params)\n",
"    webbrowser.open_new_tab(\"https://pingo.upb.de\" + r.headers['Location'])"
]
    },{
     "cell_type": "markdown",
     "metadata": {
        "slideshow": {
           "slide_type": "slide"
         } 
     }, 
     "source": ["# Was bisher geschah\n",
"\n",
"-   Datenstrukturen\n",
"    -   Einfach: Zahlen, Wahrheitswerte\n",
"    -   Zusammengesetzt: Zeichenketten, Listen, Tuple, Sets, Dicts\n",
"-   Programmstrukturen\n",
"    -   Schleifen, Verzweigung\n",
"    -   Funktionen: Definition und Aufruf"
]
    },{
     "cell_type": "markdown",
     "metadata": {
        "slideshow": {
           "slide_type": "slide"
         } 
     }, 
     "source": ["# Dieses Kapitel\n",
"\n",
"-   Wir erweitern die Vorstellung zusammengesetzter Datenstrukturen \n",
"    -   Definition und Nutzung eigener Strukturen\n",
"    -   Angepasst an Bedarf des Programms\n",
"-   Formalisiert als *Klassen* (*classes*)"
]
    },{
     "cell_type": "markdown",
     "metadata": {
        "slideshow": {
           "slide_type": "slide"
         } 
     }, 
     "source": ["<h1>Overview</h1> \n",
"\n",
"1. Überblick\n",
"1. **<font color=\"red\">Zusammenhang von Daten und Funktionen</font>**\n",
"1. Klassen\n",
"1. Objekte/Instanzen\n",
"1. Definition und Instantiierung einer Klasse\n",
"1. Definition und Aufruf weiterer Methoden\n",
"1. Statische Attribute und Methoden\n",
"1. Beobachtungen\n",
"1. Beispiele\n",
"1. Zusammenfassung"
]
    },{
     "cell_type": "markdown",
     "metadata": {
        "slideshow": {
           "slide_type": "slide"
         } 
     }, 
     "source": ["# Sammlung von Daten\n",
"\n",
"-   Zusammengesetzte Datenstrukturen erlauben das Sammeln\n",
"    zusammengehöriger Daten\n",
"    -   Listen, Tuple: Zugriff durch Index\n",
"    -   Dicts: Zugriff durch Name\n",
"-   Mit einfacher Funktionalität\n",
"    -   Anzahl Elemente\n",
"    -   Anfügen, Entfernen, Suchen, &#x2026;\n",
"-   Aber: *Generisch*\n",
"    -   *Eigene* Funktionen?"
]
    },{
     "cell_type": "markdown",
     "metadata": {
        "slideshow": {
           "slide_type": "slide"
         } 
     }, 
     "source": ["# Daten und Funktionen\n",
"\n",
"-   Datenstruktur be-/verarbeiten: Anwendungsspezifische Funktionen\n",
"    benötigt\n",
"-   Beispiele:\n",
"    -   Anmeldungen zur Vorlesung GP1 verwalten (in PAUL)\n",
"    -   Liste der Klausurnoten manipulieren\n",
"    -   in einem Grafikprogramm: Funktionen, um Kreise zu malen,\n",
"        verschieben, verändern, &#x2026;\n",
"    -   Kontoverwaltung einer Bank\n",
"-   Gemeinsamkeit: Spezifische Daten mit spezifischen Funktionen\n",
"    bearbeiten"
]
    },{
     "cell_type": "markdown",
     "metadata": {
        "slideshow": {
           "slide_type": "slide"
         } 
     }, 
     "source": ["# Spezifische Daten, spezifische Funktion\n",
"\n",
"-   Wie würde man das implementieren?\n",
"-   Klassisch:\n",
"    -   Wir beschreiben die Datenstruktur, z.B. als `dict` und `list`,\n",
"        Liste von Dicts, etc.\n",
"    -   Wir schreiben separat Funktionen dazu auf"
]
    },{
     "cell_type": "markdown",
     "metadata": {
        "slideshow": {
           "slide_type": "slide"
         } 
     }, 
     "source": ["# Frage: Zusammenhang?\n",
"\n",
"-   Woher weiß man, dass\n",
"    -   bestimmte Daten durch bestimmte Funktionen verarbeitet werden\n",
"        müssen?\n",
"    -   bestimmte Funktionen nur sinnvoll auf bestimmte Daten angewandt\n",
"        werden können?\n",
"-   Optionen?\n",
"    -   Namenskonvention? Für die Funktionen?\n",
"    -   Im Programmcode *nahe beinander* aufschreiben?\n",
"-   **Nicht überzeugend!**"
]
    },{
     "cell_type": "markdown",
     "metadata": {
        "slideshow": {
           "slide_type": "slide"
         } 
     }, 
     "source": ["# Zusammenhang explizit?\n",
"\n",
"-   Übliches Argument: Häufiger Fall verdient Unterstützung durch\n",
"    Programmiersprache!\n",
"-   Wunschvorstellung: Ein Konstrukt, das erlaubt:\n",
"    -   Datenstruktur zu beschreiben\n",
"    -   Zugehörige Funktionen zu definieren\n",
"        -   Funktionen, die diese Daten be-/verarbeiten können\n",
"-   Grobe Analogie: Eine Art `dict` dem man Funktionen hinzufügen kann"
]
    },{
     "cell_type": "markdown",
     "metadata": {
        "slideshow": {
           "slide_type": "slide"
         } 
     }, 
     "source": ["# Beispiel: Ellipse in einem Zeichenprogramm\n",
"\n",
"-   Kontext: Ein 2D-Zeichenprogramm\n",
"-   Was braucht man, um eine Ellipse zu beschreiben?\n",
"    -   Ort\n",
"    -   Die beiden Achsen\n",
"    -   Randfarbe, Strichdicke, &#x2026;\n",
"    -   Füllfarbe, Schraffur, &#x2026;\n",
"-   Was macht man mit einer Ellipse?\n",
"    -   Verschieben\n",
"    -   Verzerren\n",
"    -   Drehen\n",
"    -   Auf Sonderfälle testen: Ist es ein Kreis?\n",
"    -   &#x2026;"
]
    },{
     "cell_type": "markdown",
     "metadata": {
        "slideshow": {
           "slide_type": "slide"
         } 
     }, 
     "source": ["# Beispiel: Ellipse\n",
"\n",
"<center>![img](figures/ellipse.png \"Ein Beispiel für die Eigenschaften einer Ellipse\")</center>"
]
    },{
     "cell_type": "markdown",
     "metadata": {
        "slideshow": {
           "slide_type": "slide"
         } 
     }, 
     "source": ["<h1>Overview</h1> \n",
"\n",
"1. Überblick\n",
"1. Zusammenhang von Daten und Funktionen\n",
"1. **<font color=\"red\">Klassen</font>**\n",
"1. Objekte/Instanzen\n",
"1. Definition und Instantiierung einer Klasse\n",
"1. Definition und Aufruf weiterer Methoden\n",
"1. Statische Attribute und Methoden\n",
"1. Beobachtungen\n",
"1. Beispiele\n",
"1. Zusammenfassung"
]
    },{
     "cell_type": "markdown",
     "metadata": {
        "slideshow": {
           "slide_type": "slide"
         } 
     }, 
     "source": ["# Klassen\n",
"\n",
"-   Eine Klasse (`class`) dient dazu, zusammengehörende Daten und\n",
"    Funktionen zusammen aufzuschreiben\n",
"    -   (Plus weitere Eigenschaften; siehe später)\n",
"    -   Klasse beschreibt die Struktur, ist ein Bauplan"
]
    },{
     "cell_type": "markdown",
     "metadata": {
        "slideshow": {
           "slide_type": "slide"
         } 
     }, 
     "source": ["# Kreis als Klasse: Graphische Notation\n",
"\n",
"<center>![img](./uml/ellipse.png \"Eine Klasse für Ellipsen\")</center>"
]
    },{
     "cell_type": "markdown",
     "metadata": {
        "slideshow": {
           "slide_type": "slide"
         } 
     }, 
     "source": ["# Klasse: Definition"
]
    },{
     "cell_type": "markdown",
     "metadata": {
        "slideshow": {
           "slide_type": "-"
         } 
     }, 
     "source": ["<div class=\"definition-head\" style=\"border:3px; border-style:solid; border-color:#5da9e9; padding: 5px; background-color:#5da9e9;  line-height:1.5em; text-align:center; border-radius: 15px 15px 0px 0px; margin-bottom: 0; width: 100%;\"><b>Definition: Klasse<a id=\"orgheadline23\"></a></b></div>\n",
"\n",
"Eine *Klasse* definiert einen Bauplan für gleichartige Objekte. Sie\n",
"beschreibt in einer kompakten, zusammenhängenden Form\n",
"\n",
"-   Datenelemente (auch: *Attribute*, *Felder*, *fields*) und\n",
"-   Operationen auf diesen Daten (auch: *Methoden*, *methods*)\n",
"\n",
"<div class=\"definition-content\" style=\"border:3px; border-style:solid; border-color:#5da9e9; padding: 5px; margin-top: 0; border-radius: 0px 0px 15px 15px; width: 100%; text-align:left\"></div>"
]
    },{
     "cell_type": "markdown",
     "metadata": {
        "slideshow": {
           "slide_type": "slide"
         } 
     }, 
     "source": ["# Klassen &#x2013; Notation in Python\n",
"\n",
"-   Wir brauchen ein neues Schlüsselwort: `class`\n",
"    -   `class` erzeugt (ähnlich zu `def`) einen neuen Block, in dem die\n",
"        Methoden und Daten aufgeführt werden\n",
"    -   In diesem Block dürfen Anweisungen stehen\n",
"-   Einfachstes Beispiel: Eine Klasse ohne Daten, ohne Operationen  \n",
"    -   Anmerkung: `pass` ist syntaktisch notwendig; es darf keinen leeren\n",
"        Block geben. `pass` ist die Anweisung, die nichts tut."
]
    },{
     "cell_type": "code",
     "metadata": {
        "slideshow": {
           "slide_type": "-"
         } 
     }, 
"outputs": [],
"execution_count": null,
     "source": ["class Ellipse:\n",
"    pass"
]
    },{
     "cell_type": "markdown",
     "metadata": {
        "slideshow": {
           "slide_type": "slide"
         } 
     }, 
     "source": ["# Konventionen\n",
"\n",
"Namenskonventionen:\n",
"\n",
"-   Klassennamen beginnt mit Großbuchstaben\n",
"-   Methoden, Attribute klein\n",
"    -   wie Funktionsnamen und sonstige Namen auch\n",
"-   Methoden oft ein Verb: etwas tun!"
]
    },{
     "cell_type": "markdown",
     "metadata": {
        "slideshow": {
           "slide_type": "slide"
         } 
     }, 
     "source": ["<h1>Overview</h1> \n",
"\n",
"1. Überblick\n",
"1. Zusammenhang von Daten und Funktionen\n",
"1. Klassen\n",
"1. **<font color=\"red\">Objekte/Instanzen</font>**\n",
"1. Definition und Instantiierung einer Klasse\n",
"1. Definition und Aufruf weiterer Methoden\n",
"1. Statische Attribute und Methoden\n",
"1. Beobachtungen\n",
"1. Beispiele\n",
"1. Zusammenfassung"
]
    },{
     "cell_type": "markdown",
     "metadata": {
        "slideshow": {
           "slide_type": "slide"
         } 
     }, 
     "source": ["# Klassen und Instanzen\n",
"\n",
"-   Eine Klasse ist aber zunächst kein nutzbarer Wert\n",
"-   Wir nutzen den Bauplan, um einen entsprechenden Wert zu erhalten \n",
"    -   Wir *instantiieren* die Klasse um ein *Objekt* (eine *Instanz*)\n",
"        der Klasse zu erzeugen"
]
    },{
     "cell_type": "markdown",
     "metadata": {
        "slideshow": {
           "slide_type": "slide"
         } 
     }, 
     "source": ["# Erzeugen eines Objektes\n",
"\n",
"-   Typischerweise werden bei Objekterzeugung Anfangswerte an das zu\n",
"    erzeugende Objekt übergeben\n",
"-   Diese Anfangswerte werden durch eine spezielle Methode der Klasse\n",
"    verarbeitet, den *Konstruktor*\n",
"    -   In Python, per Konvention: `__init__`\n",
"-   Der Konstruktur nimmt die Anfangswerte und befüllt damit die\n",
"    Attribute der Klasse"
]
    },{
     "cell_type": "markdown",
     "metadata": {
        "slideshow": {
           "slide_type": "slide"
         } 
     }, 
     "source": ["# Objekte: Definition"
]
    },{
     "cell_type": "markdown",
     "metadata": {
        "slideshow": {
           "slide_type": "-"
         } 
     }, 
     "source": ["<div class=\"definition-head\" style=\"border:3px; border-style:solid; border-color:#5da9e9; padding: 5px; background-color:#5da9e9;  line-height:1.5em; text-align:center; border-radius: 15px 15px 0px 0px; margin-bottom: 0; width: 100%;\"><b>Definition: Objekt (oder Instanz)<a id=\"orgheadline29\"></a></b></div>\n",
"\n",
"Ein *Objekt* (oder *Instanz*) einer Klasse ist eine konkrete\n",
"Ausprägung des durch eine Klasse vorgegebenen Bauplans. Ein Objekt\n",
"enthält bestimmte Werte. Ein Objekt führt den Code nur auf Aufforderung\n",
"aus. \n",
"\n",
"Die Begriffe Objekt und Instanz sind weitgehend austauschbar. \n",
"\n",
"<div class=\"definition-content\" style=\"border:3px; border-style:solid; border-color:#5da9e9; padding: 5px; margin-top: 0; border-radius: 0px 0px 15px 15px; width: 100%; text-align:left\"></div>"
]
    },{
     "cell_type": "markdown",
     "metadata": {
        "slideshow": {
           "slide_type": "fragment"
         } 
     }, 
     "source": ["<div class=\"note-head\" style=\"border:3px; border-style:solid; border-color:#d1cfcf; padding: 5px; background-color:#d1cfcf;  line-height:1.5em; text-align:center; border-radius: 15px 15px 0px 0px; margin-bottom: 0; width: 100%;\"><b>Bemerkung: Objekt einer Klasse<a id=\"orgheadline30\"></a></b></div>\n",
"\n",
"Ein Objekt oder eine Instanz ist *immer* auf eine bestimmte Klasse\n",
"bezogen. Es ist (streng genommen) sinnlos, von einem Objekt ohne Bezug\n",
"auf *seine* Klasse zu reden.\n",
"\n",
"<div class=\"note-content\" style=\"border:3px; border-style:solid; border-color:#d1cfcf; padding: 5px; margin-top: 0;  line-height:1.5em; border-radius: 0px 0px 15px 15px; width: 100%; text-align:left\"></div> "
]
    },{
     "cell_type": "markdown",
     "metadata": {
        "slideshow": {
           "slide_type": "slide"
         } 
     }, 
     "source": ["# Objekte/Instanzen: Graphische Notation\n",
"\n",
"<center>![img](./uml/ellipse-instanz.png \"Instanz der Ellipsen-Klassen\")</center>"
]
    },{
     "cell_type": "markdown",
     "metadata": {
        "slideshow": {
           "slide_type": "slide"
         } 
     }, 
     "source": ["# Objekt: Zugriff auf die eigenen Attribute?\n",
"\n",
"-   Die Methoden einer Klasse werden wir wohl ähnlich wie Funktionen mit `def`\n",
"      aufschreiben (es **sind** schließlich Funktionen)\n",
"-   Eine solche Methode hat einen Namensraum &#x2013; analog bei einem Objekt?\n",
"    -   Sicherlich evtl. vorhandene Parameter der Methode, evtl. globale\n",
"        Namen\n",
"    -   **Zusätzlich**: die Attribute des Objektes selbst!\n",
"-   Idee: Objekte definieren einen Namensraum\n",
"    -   Ähnlich wie Funktionen"
]
    },{
     "cell_type": "markdown",
     "metadata": {
        "slideshow": {
           "slide_type": "slide"
         } 
     }, 
     "source": ["# Objekt: Notation\n",
"\n",
"-   Zugriff auf eigene Attribute ist wichtiger Fall, sollte im Code\n",
"    deutlich sichtbar sein\n",
"-   Konvention in Python: Einem Attribute wird `self.` vorangestellt\n",
"    -   Signalisiert: Zugriff auf Attribut des Objektes!"
]
    },{
     "cell_type": "markdown",
     "metadata": {
        "slideshow": {
           "slide_type": "slide"
         } 
     }, 
     "source": ["<h1>Overview</h1> \n",
"\n",
"1. Überblick\n",
"1. Zusammenhang von Daten und Funktionen\n",
"1. Klassen\n",
"1. Objekte/Instanzen\n",
"1. **<font color=\"red\">Definition und Instantiierung einer Klasse</font>**\n",
"1. Definition und Aufruf weiterer Methoden\n",
"1. Statische Attribute und Methoden\n",
"1. Beobachtungen\n",
"1. Beispiele\n",
"1. Zusammenfassung"
]
    },{
     "cell_type": "markdown",
     "metadata": {
        "slideshow": {
           "slide_type": "slide"
         } 
     }, 
     "source": ["# Konstruktur\n",
"\n",
"Fangen wir mit dem Konstruktur der Klasse `Ellipse` an: "
]
    },{
     "cell_type": "code",
     "metadata": {
        "slideshow": {
           "slide_type": "-"
         } 
     }, 
"outputs": [],
"execution_count": null,
     "source": ["class Ellipse:\n",
"    def __init__(self, x, y, a1, a2):\n",
"        self.x = x\n",
"        self.y = y\n",
"        self.achse1 = a1\n",
"        self.achse2 = a2"
]
    },{
     "cell_type": "markdown",
     "metadata": {
        "slideshow": {
           "slide_type": "slide"
         } 
     }, 
     "source": ["# Konstruktor &#x2013; Struktur\n",
"\n",
"-   Innerhalb der Klasse vereinbaren wir eine Methode mit `def`\n",
"    -   Offenbar soll das bedeuten, dass diese Methode eine Funktion ist,\n",
"        die zu dieser Klasse gehört\n",
"-   Der Name dieser Methode ist  `__init__`\n",
"    -   Und damit per Konvention der Konstruktor &#x2013; der muss so heißen\n",
"        -   In Python &#x2013; andere Sprachen haben andere Konventionen\n",
"    -   Der Konstruktor wird beim Instanziieren eines Objektes aufgerufen\n",
"        (mehr gleich)"
]
    },{
     "cell_type": "markdown",
     "metadata": {
        "slideshow": {
           "slide_type": "slide"
         } 
     }, 
     "source": ["# Konstruktor &#x2013; Struktur (2)\n",
"\n",
"-   Diese Methode hat fünf Parameter:\n",
"    -   Den besonderen Parameter `self`: repräsentiert **das Objekt selbst**\n",
"    -   `x` und `y` für den Mittelpunkt, `a1` und `a2` für die beiden\n",
"        Achsen einer Ellipse\n",
"-   Die Methode `__init__` kopiert die letzen vier Parameter in\n",
"    Attribute des Objektes\n",
"    -   Attribut des Objekts: Erkennbar durch das Voranstellen von `self.` (der Punkt ist wichtig)!\n",
"    -   Die Namen der Parameter und der Attribute müssen nicht gleich sein\n",
"    -   Kann aber praktisch sein, ähnliche Namen zu nutzen &#x2013;\n",
"        Dokumentation!"
]
    },{
     "cell_type": "markdown",
     "metadata": {
        "slideshow": {
           "slide_type": "slide"
         } 
     }, 
     "source": ["# Instanziieren und Konstruktoraufruf\n",
"\n",
"-   Wann wird diese Methode nun aufgerufen?\n",
"-   Beim Instanziieren eines Objektes!\n",
"-   Notation: den Klassennamen wie einen Funktionsnamen nutzen\n",
"    -   Und mit Parametern für `__init__` versorgen"
]
    },{
     "cell_type": "code",
     "metadata": {
        "slideshow": {
           "slide_type": "-"
         } 
     }, 
"outputs": [],
"execution_count": null,
     "source": ["e1 = Ellipse(1, 2, 17.5, 0.4)"
]
    },{
     "cell_type": "markdown",
     "metadata": {
        "slideshow": {
           "slide_type": "slide"
         } 
     }, 
     "source": ["# Klassen sind Typen\n",
"\n",
"-   Die Notation zur Instatiierung ist vertraut\n",
"-   Das entspricht etwa der Definition einer Liste, eines Sets, o.ä. \n",
"    -   Das waren Typen\n",
"    -   Ist eine Klasse also ein neuer Typ?"
]
    },{
     "cell_type": "markdown",
     "metadata": {
        "slideshow": {
           "slide_type": "fragment"
         } 
     }, 
     "source": ["## Ja!<a id=\"orgheadline39\"></a>\n",
"\n",
"-   Klassen definieren einen neuen Datentyp\n",
"-   Kann überall verwendet werden, wo auch sonst ein Typ verwendet\n",
"    werden kann"
]
    },{
     "cell_type": "markdown",
     "metadata": {
        "slideshow": {
           "slide_type": "slide"
         } 
     }, 
     "source": ["# Nur vier Parameter?\n",
"\n",
"-   Müssten das nicht fünf Parameter sein? Was ist mit dem Wert für\n",
"    `self`?\n",
"-   Überlegung: `self` kann man beim Erzeugen des Objekts gar nicht\n",
"    angeben; das Objekt gibt es ja noch nicht\n",
"    -   Also kann man das auch nicht *von Hand* an den Konstruktor\n",
"        übergeben\n",
"    -   Das muss die Programmiersprache (der Interpreter) von alleine\n",
"        erledigen!"
]
    },{
     "cell_type": "markdown",
     "metadata": {
        "slideshow": {
           "slide_type": "slide"
         } 
     }, 
     "source": ["# Instanziieren und Konstruktoraufruf (2)\n",
"\n",
"Was passiert also beim Erschaffen eines Objektes? \n",
"\n",
"1.  Beim Aufruf des Klassennamens wird Speicherplatz für das Objekt\n",
"    angelegt\n",
"2.  Eine Referenz auf diesen Speicherplatz entsteht\n",
"3.  Der Konstruktur wird aufgerufen mit\n",
"    1.  Dieser Referenz als Wert für den Parameter `self`\n",
"    2.  Der restlichen Wert für die anderen Parameter\n",
"4.  Der Konstruktur wird wie eine normale Funktion ausgeführt\n",
"    1.  Mit der zusätzlichen Besonderheit, dass durch `self.` Attribute\n",
"        innerhalb des Objektes zugegriffen werden kann"
]
    },{
     "cell_type": "markdown",
     "metadata": {
        "slideshow": {
           "slide_type": "slide"
         } 
     }, 
     "source": ["# Konstruktor &#x2013; Ablaufbeispiel"
]
    },{
     "cell_type": "code",
     "metadata": {
        "slideshow": {
           "slide_type": "-"
         } 
     }, 
"outputs": [],
"execution_count": null,
     "source": ["%%tutor\n",
"class Ellipse:\n",
"    def __init__(self, x, y, a1, a2):\n",
"        self.x = x\n",
"        self.y = y\n",
"        self.achse1 = a1\n",
"        self.achse2 = a2\n",
"\n",
"e1 = Ellipse(1, 2, 17.5, 0.4)"
]
    },{
     "cell_type": "markdown",
     "metadata": {
        "slideshow": {
           "slide_type": "slide"
         } 
     }, 
     "source": ["# Beobachtung: `self` ist ein Namensraum!\n",
"\n",
"-   Bei Ausführung des Konstruktors sind zwei Namensräume im Spiel\n",
"    -   Der übliche Namensraum des Konstruktors als Funktion: `x`, `y`, `a1`,\n",
"        `a2` und insbesondere `self`\n",
"    -   Der durch `self` **erreichbare Namensraum des Objekts**"
]
    },{
     "cell_type": "markdown",
     "metadata": {
        "slideshow": {
           "slide_type": "slide"
         } 
     }, 
     "source": ["# Instantiierung weiterer Objekte\n",
"\n",
"-   Instantiieren wir als Beispiel zwei weitere Instanzen der Klasse"
]
    },{
     "cell_type": "code",
     "metadata": {
        "slideshow": {
           "slide_type": "-"
         } 
     }, 
"outputs": [],
"execution_count": null,
     "source": ["%%tutor -t \n",
"class Ellipse:\n",
"    def __init__(self, x, y, a1, a2):\n",
"        self.x = x\n",
"        self.y = y\n",
"        self.achse1 = a1\n",
"        self.achse2 = a2\n",
"\n",
"e1 = Ellipse(1, 2, 17.5, 0.4)\n",
"e2 = Ellipse(0, -5, 3, 1)\n",
"e3 = Ellipse(17, 18, 19, 20)"
]
    },{
     "cell_type": "markdown",
     "metadata": {
        "slideshow": {
           "slide_type": "slide"
         } 
     }, 
     "source": ["# Flexible Konstruktoren\n",
"\n",
"-   Parameter eines Konstruktors sind Parameter einer Funktion\n",
"-   Also kann man hier die flexiblen Techniken für Funktionsparameter einsetzen!\n",
"    -   Default-Werte für optionale Parameter\n",
"    -   Variable Anzahl von Parametern (`*args`)\n",
"    -   Schlüsselwort-Parameter (`**kwargs`)\n",
"-   Konstruktor inspiziert seine Parameter und verhält sich entsprechend"
]
    },{
     "cell_type": "markdown",
     "metadata": {
        "slideshow": {
           "slide_type": "slide"
         } 
     }, 
     "source": ["# Flexible Konstruktoren &#x2013; Beispiel Ellipse\n",
"\n",
"-   Eine Ellipse mit nur einem Radius ist ein Kreis:"
]
    },{
     "cell_type": "code",
     "metadata": {
        "slideshow": {
           "slide_type": "-"
         } 
     }, 
"outputs": [],
"execution_count": null,
     "source": ["%%tutor -t\n",
"class Ellipse:\n",
"    def __init__(self, x, y, a1, a2=None):\n",
"        self.x = x\n",
"        self.y = y\n",
"        self.achse1 = a1\n",
"        if a2:\n",
"            self.achse2 = a2\n",
"        else:\n",
"            self.achse2 = a1\n",
"\n",
"e1 = Ellipse(1, 2, 17.5)"
]
    },{
     "cell_type": "markdown",
     "metadata": {
        "slideshow": {
           "slide_type": "slide"
         } 
     }, 
     "source": ["# Dokumentation einer Klasse: docstring\n",
"\n",
"-   Erinnerung: docstring einer Funktion"
]
    },{
     "cell_type": "code",
     "metadata": {
        "slideshow": {
           "slide_type": "-"
         } 
     }, 
"outputs": [],
"execution_count": null,
     "source": ["def complex(real, imag):\n",
"    \"\"\"Form a complex number.\n",
"\n",
"    Keyword arguments:\n",
"    real -- the real part\n",
"    imag -- the imaginary part\n",
"    \"\"\"\n",
"\n",
"    # Und hier würden Anweisungen folgen"
]
    },{
     "cell_type": "markdown",
     "metadata": {
        "slideshow": {
           "slide_type": "-"
         } 
     }, 
     "source": ["## Für Klassen?<a id=\"orgheadline48\"></a>\n",
"\n",
"-   Dokumentation einer Klasse durch docstrings?"
]
    },{
     "cell_type": "markdown",
     "metadata": {
        "slideshow": {
           "slide_type": "slide"
         } 
     }, 
     "source": ["# docstring für Klasse\n",
"\n",
"-   Analog zu Funktion: Folgt nach dem `class`-Ausdruck ein String, so\n",
"    wird dieser zum docstring der Klasse\n",
"-   Ist als vordefiniertes Attribut `__doc__`  eines Objektes zugreifbar\n",
"-   Auch: Vordefiniertes Attribut des Klassennamens selbst"
]
    },{
     "cell_type": "code",
     "metadata": {
        "slideshow": {
           "slide_type": "-"
         } 
     }, 
"outputs": [],
"execution_count": null,
     "source": ["class Ellipse:\n",
"    \"\"\"Eine Ellipsen-Klasse implementiert Datenstruktur und Verhalten\n",
"    einer Ellipse.\"\"\"\n",
"\n",
"    def __init__(self, x, y, a1, a2):\n",
"        self.x = x\n",
"        self.y = y\n",
"        self.achse1 = a1\n",
"        self.achse2 = a2\n",
"\n",
"e1 = Ellipse(1, 2, 17.5, 9.3)\n",
"print(e1.__doc__)\n",
"print(Ellipse.__doc__)"
]
    },{
     "cell_type": "markdown",
     "metadata": {
        "slideshow": {
           "slide_type": "slide"
         } 
     }, 
     "source": ["# Konvention: Paare von Unterstrichen"
]
    },{
     "cell_type": "markdown",
     "metadata": {
        "slideshow": {
           "slide_type": "-"
         } 
     }, 
     "source": ["<div class=\"definition-head\" style=\"border:3px; border-style:solid; border-color:#5da9e9; padding: 5px; background-color:#5da9e9;  line-height:1.5em; text-align:center; border-radius: 15px 15px 0px 0px; margin-bottom: 0; width: 100%;\"><b>Definition: Vordefinierte Namen<a id=\"orgheadline51\"></a></b></div>\n",
"\n",
"Vordefinierte Namen sind durch `__`-Paare markiert. Solche Namen\n",
"sollten nicht im eigenem Code definiert werden! \n",
"\n",
"<div class=\"definition-content\" style=\"border:3px; border-style:solid; border-color:#5da9e9; padding: 5px; margin-top: 0; border-radius: 0px 0px 15px 15px; width: 100%; text-align:left\"></div>"
]
    },{
     "cell_type": "markdown",
     "metadata": {
        "slideshow": {
           "slide_type": "slide"
         } 
     }, 
     "source": ["# Beispiele für weitere vordefinierte Attribute\n",
"\n",
"-   Neben `__init__`, `__doc__` existieren weitere vordefinierte\n",
"    Attribute für Klassen\n",
"-   Beispiele:\n",
"    -   `__name__` : Der Name einer Funktion oder einer Klasse\n",
"    -   `__dict__` : Das `dict`-Objekt, in dem die Attribute abgelegt sind"
]
    },{
     "cell_type": "markdown",
     "metadata": {
        "slideshow": {
           "slide_type": "slide"
         } 
     }, 
     "source": ["<h1>Overview</h1> \n",
"\n",
"1. Überblick\n",
"1. Zusammenhang von Daten und Funktionen\n",
"1. Klassen\n",
"1. Objekte/Instanzen\n",
"1. Definition und Instantiierung einer Klasse\n",
"1. **<font color=\"red\">Definition und Aufruf weiterer Methoden</font>**\n",
"1. Statische Attribute und Methoden\n",
"1. Beobachtungen\n",
"1. Beispiele\n",
"1. Zusammenfassung"
]
    },{
     "cell_type": "markdown",
     "metadata": {
        "slideshow": {
           "slide_type": "slide"
         } 
     }, 
     "source": ["# Weitere Methoden\n",
"\n",
"Weitere Methoden eines Objektes werden analog zu `__init__`\n",
"vereinbart: "
]
    },{
     "cell_type": "code",
     "metadata": {
        "slideshow": {
           "slide_type": "-"
         } 
     }, 
"outputs": [],
"execution_count": null,
     "source": ["class Ellipse:\n",
"    def __init__(self, x, y, a1, a2):\n",
"        self.x = x\n",
"        self.y = y\n",
"        self.achse1 = a1\n",
"        self.achse2 = a2\n",
"\n",
"    def verschiebe(self, deltax, deltay):\n",
"        self.x += deltax\n",
"        self.y += deltay\n",
"\n",
"    def istKreis(self):\n",
"        return self.achse1 == self.achse2"
]
    },{
     "cell_type": "markdown",
     "metadata": {
        "slideshow": {
           "slide_type": "slide"
         } 
     }, 
     "source": ["# Weitere Methoden: Auf `self` achten!\n",
"\n",
"-   Achten Sie bei der Vereinbarung einer Methode auf den ersten\n",
"    Parameter `self`\n",
"-   Ohne diesen haben Sie keinen Zugriff auf den Namensraum des Objektes,\n",
"    können also die Attribute nicht benutzen!"
]
    },{
     "cell_type": "markdown",
     "metadata": {
        "slideshow": {
           "slide_type": "slide"
         } 
     }, 
     "source": ["# Aufruf von Methoden\n",
"\n",
"-   Methoden sind auch nur Attribute eines Objekts!\n",
"-   Also durch Punkt `.` ausgewählt\n",
"    -   Ähnlich wie bei `self` in einer Methode\n",
"-   Beispiel:"
]
    },{
     "cell_type": "code",
     "metadata": {
        "slideshow": {
           "slide_type": "-"
         } 
     }, 
"outputs": [],
"execution_count": null,
     "source": ["class Simple:\n",
"    def f(self):\n",
"        print(\"f aufgerufen\")\n",
"\n",
"s = Simple()\n",
"print(s.f)"
]
    },{
     "cell_type": "markdown",
     "metadata": {
        "slideshow": {
           "slide_type": "-"
         } 
     }, 
     "source": ["## Beobachtung<a id=\"orgheadline56\"></a>\n",
"\n",
"-   `s.f` ist nur ein Name für eine Methode (als Funktion innerhalb\n",
"    eines Objekts)\n",
"-   Nebenbei: eine Klasse braucht kein `__init__`!"
]
    },{
     "cell_type": "markdown",
     "metadata": {
        "slideshow": {
           "slide_type": "slide"
         } 
     }, 
     "source": ["# Aufruf von Methoden (2)\n",
"\n",
"-   Wir müssen `s.f` also noch aufrufen!\n",
"-   Aufruf wie gewohnt durch `()`\n",
"-   Beispiel:"
]
    },{
     "cell_type": "code",
     "metadata": {
        "slideshow": {
           "slide_type": "-"
         } 
     }, 
"outputs": [],
"execution_count": null,
     "source": ["class Simple:\n",
"    def f(self):\n",
"        print(\"f aufgerufen\")\n",
"\n",
"s = Simple()\n",
"print(s.f) \n",
"s.f()"
]
    },{
     "cell_type": "markdown",
     "metadata": {
        "slideshow": {
           "slide_type": "slide"
         } 
     }, 
     "source": ["# Methodenaufruf &#x2013; Sprechweise\n",
"\n",
"-   Eine Vorstellung (bisher benutzt): Methoden sind Funktionen, die\n",
"    aufgerufen werden können\n",
"-   Andere Vorstellung:\n",
"    -   An ein Objekt können *Nachrichten geschickt* werden\n",
"    -   Nachrichten haben Namen (und tragen ggf. Daten)\n",
"    -   Die Namen der Nachrichten entsprechen den Methodennamen\n",
"    -   Empfängt ein Objekt eine Nachricht, so wird diese durch den Code\n",
"        entsprechender Methode verarbeitet\n",
"    -   Nachrichten mit unbekanntem Namen werden ignoriert\n",
"-   Weitgehend äquivalente Vorstellungen\n",
"    -   Historie Nachrichten: Smalltalk"
]
    },{
     "cell_type": "markdown",
     "metadata": {
        "slideshow": {
           "slide_type": "slide"
         } 
     }, 
     "source": ["# Was passiert bei Aufruf?\n",
"\n",
"-   Auch hier stimmen die Parameter wieder nicht?\n",
"    -   Ähnlich wie oben bei `__init__`?\n",
"-   `f` wird mit einem Parameter `self` vereinbart, beim Aufruf wird\n",
"    aber kein Wert übergeben?\n",
"    -   **Doch!**\n",
"    -   Als Wert für den Parameter `self` wird eine Referenz auf das\n",
"        Objekt übergeben, bei dem die Funktion aufgerufen wurde!"
]
    },{
     "cell_type": "markdown",
     "metadata": {
        "slideshow": {
           "slide_type": "slide"
         } 
     }, 
     "source": ["# Was passiert bei Aufruf? &#x2013; Kurzschreibweise!\n",
"\n",
"-   Tatsächlich ist `s.f()` nur eine Kurzschreibweise\n",
"-   Ausführlich könnte man schreiben:\n",
"    -   `Simple.f(s)`\n",
"-   Das bedeutet:\n",
"    -   Nimm die Klasse `Simple`\n",
"    -   Davon die Funktion `f`, die ja einen Parameter erwartet\n",
"    -   Rufe diese Funktion auf und übergebe eine Referenz auf das Objekt\n",
"        `s` an den Parameter `self`\n",
"-   Und damit ist das eigentlich **ein ganz normaler Funktionsaufruf**!!!"
]
    },{
     "cell_type": "markdown",
     "metadata": {
        "slideshow": {
           "slide_type": "slide"
         } 
     }, 
     "source": ["# Was passiert bei Aufruf? &#x2013; Kurzschreibweise auflösen"
]
    },{
     "cell_type": "code",
     "metadata": {
        "slideshow": {
           "slide_type": "-"
         } 
     }, 
"outputs": [],
"execution_count": null,
     "source": ["class Simple:\n",
"    def f(self):\n",
"        print(\"f aufgerufen mit Objekt:\", self)\n",
"\n",
"s = Simple()\n",
"s.f() \n",
"Simple.f(s)"
]
    },{
     "cell_type": "markdown",
     "metadata": {
        "slideshow": {
           "slide_type": "slide"
         } 
     }, 
     "source": ["# Konventionen für weitere Methoden\n",
"\n",
"-   `__init__` ist eine Konvention für die Konstruktor-Methode\n",
"-   Python sieht eine Reihe weiterer Konventionen vor:\n",
"    -   Eine Methode `__str__(self)` erzeugt eine Text-Repräsentation eines\n",
"        Objekts\n",
"        -   Wird automatisch aufgerufen, wenn ein String gebraucht wird,\n",
"            z.B. für `print`\n",
"    -   Methode `__eq__(self, other)` vergleicht das Objekt self mit einem\n",
"        anderen Objekt `other` der gleichen Klasse und entscheidet, ob\n",
"        die beiden Objekte gleich sind\n",
"        -   Inhaltliche Gleichheit; nicht Identität\n",
"    -   Analog: `__lt__`, `__le__`, usw.\n",
"-   Siehe <https://docs.python.org/3/reference/datamodel.html>, Abschnitt\n",
"    3.3,  für Details"
]
    },{
     "cell_type": "markdown",
     "metadata": {
        "slideshow": {
           "slide_type": "slide"
         } 
     }, 
     "source": ["# Gleichheit?\n",
"\n",
"-   Gleichheit der Referenz/Identität: Zwei Namen referenzieren das\n",
"    identische Objekt\n",
"    -   Durch `is` getestet\n",
"    -   Auch durch `==` falls kein `__eq__`\n",
"-   Inhaltliche Gleichheit: Eine Klasse kann beliebig definieren, wann\n",
"    zwei unterschiedliche Objekte als *gleich* angesehen werden sollen\n",
"    -   Hinreichend ähnlich, kongruent, &#x2026; je nach Anwendung\n",
"    -   Durch `__eq__` realisiert, durch `==` benutzt falls vorhanden"
]
    },{
     "cell_type": "markdown",
     "metadata": {
        "slideshow": {
           "slide_type": "slide"
         } 
     }, 
     "source": ["# Gleichheit &#x2013; Beispiel ohne `eq`\n",
"\n",
"Ohne `__eq__`: \n",
"\n",
"-   Nur Vergleich *referenziert gleiches Objekt*  zwischen Namen\n",
"-   Kein Unterschied zwischen `==` und `is`"
]
    },{
     "cell_type": "code",
     "metadata": {
        "slideshow": {
           "slide_type": "-"
         } 
     }, 
"outputs": [],
"execution_count": null,
     "source": ["class Ellipse:\n",
"    def __init__(self, x, y, a1, a2):\n",
"        self.x = x\n",
"        self.y = y\n",
"        self.achse1 = a1\n",
"        self.achse2 = a2\n",
"\n",
"e1 = Ellipse(0, 1, 2, 3)\n",
"e2 = e1\n",
"e3 = Ellipse(0, 1, 2, 3)\n",
"\n",
"print(\"==:\")\n",
"print(e1 == e2)\n",
"print(e1 == e3)\n",
"print(e2 == e3)\n",
"\n",
"print(\"is:\")\n",
"print(e1 is e2)\n",
"print(e1 is e3)\n",
"print(e2 is e3)"
]
    },{
     "cell_type": "markdown",
     "metadata": {
        "slideshow": {
           "slide_type": "slide"
         } 
     }, 
     "source": ["# Gleichheit &#x2013; Beispiel mit `eq`\n",
"\n",
"Mit  `__eq__`: \n",
"\n",
"-   `==` ruft `__eq__` auf und macht inhaltlichen Vergleich\n",
"-   `is` wie oben: Referenziert gleiches Objekt?"
]
    },{
     "cell_type": "code",
     "metadata": {
        "slideshow": {
           "slide_type": "-"
         } 
     }, 
"outputs": [],
"execution_count": null,
     "source": ["%%tutor -t\n",
"class Ellipse:\n",
"    def __init__(self, x, y, a1, a2):\n",
"        self.x = x\n",
"        self.y = y\n",
"        self.achse1 = a1\n",
"        self.achse2 = a2\n",
"\n",
"    def __eq__(self, otherEllipse):\n",
"        return (\n",
"            self.x == otherEllipse.x and\n",
"            self.y == otherEllipse.y and\n",
"            self.achse1 == otherEllipse.achse1 and\n",
"            self.achse2 == otherEllipse.achse2\n",
"            )\n",
"\n",
"e1 = Ellipse(0, 1, 2, 3)\n",
"e2 = e1\n",
"e3 = Ellipse(0, 1, 2, 3)\n",
"\n",
"print(\"==:\")\n",
"print(e1 == e2)\n",
"print(e1 == e3)\n",
"print(e2 == e3)\n",
"\n",
"print(\"is:\")\n",
"print(e1 is e2)\n",
"print(e1 is e3)\n",
"print(e2 is e3)"
]
    },{
     "cell_type": "markdown",
     "metadata": {
        "slideshow": {
           "slide_type": "slide"
         } 
     }, 
     "source": ["# Fallstricke bei `eq`\n",
"\n",
"-   Möglicher Fallstrick: Objekt einer Klasse `C1` hat Referenzen auf\n",
"    andere Objekte einer Klasse `C2`\n",
"-   In `C1.__eq__`: wie mit Referenzen auf `C2` umgehen?\n",
"    -   Lediglich die `C2`-Referenzen vergleichen?\n",
"    -   Oder sollte `C2` selbst ein `__eq__` haben?\n",
"    -   Anders gesagt: nimmt man `is` oder `==` für die `C2`-Objekte?"
]
    },{
     "cell_type": "code",
     "metadata": {
        "slideshow": {
           "slide_type": "-"
         } 
     }, 
"outputs": [],
"execution_count": null,
     "source": ["class C2:\n",
"    pass\n",
"\n",
"class C1:\n",
"    def __init__(self):\n",
"        self.x = 42\n",
"        self.c2 = C2()\n",
"\n",
"    def __eq__(self, otherC1):\n",
"        return ((self.x == otherC1.x) and\n",
"                    (self.c2 == otherC1.c2))\n",
"\n",
"c1a = C1()\n",
"c1b = C1()\n",
"\n",
"print(c1a is c1b)"
]
    },{
     "cell_type": "markdown",
     "metadata": {
        "slideshow": {
           "slide_type": "-"
         } 
     }, 
     "source": ["## Pingo<a id=\"orgheadline67\"></a>"
]
    },{
     "cell_type": "code",
     "metadata": {
        "slideshow": {
           "slide_type": "-"
         } 
     }, 
"outputs": [],
"execution_count": null,
     "source": ["pingo_title = \"c1a is c1b? \" \n",
"pingo_questions = [\"Wahr\", \"Falsch\", \"True\", \"False\"]\n",
"\n",
"%pingo"
]
    },{
     "cell_type": "markdown",
     "metadata": {
        "slideshow": {
           "slide_type": "slide"
         } 
     }, 
     "source": ["# Ellipse &#x2013; mit `str`"
]
    },{
     "cell_type": "code",
     "metadata": {
        "slideshow": {
           "slide_type": "-"
         } 
     }, 
"outputs": [],
"execution_count": null,
     "source": ["class Ellipse:\n",
"    def __init__(self, x, y, a1, a2):\n",
"        self.x = x\n",
"        self.y = y\n",
"        self.achse1 = a1\n",
"        self.achse2 = a2\n",
"\n",
"    def __str__(self):\n",
"        return (\"Ellipse at ({},{}) with axes {},{}\".\n",
"                format(self.x, self.y,\n",
"                       self.achse1, self.achse2))\n",
"\n",
"    def verschiebe(self, deltax, deltay):\n",
"        self.x += deltax\n",
"        self.y += deltay\n",
"\n",
"e = Ellipse(0, 1, 2, 3)\n",
"print(e)\n",
"e.verschiebe(-2, +5)\n",
"print(e)"
]
    },{
     "cell_type": "markdown",
     "metadata": {
        "slideshow": {
           "slide_type": "slide"
         } 
     }, 
     "source": ["# Flexible Methoden\n",
"\n",
"-   Ähnlich zu Konstruktoren: Wie gehen wir mit Methoden um, die\n",
"    eigentlich das gleiche tun, aber eine unterschiedliche Anzahl Parameter\n",
"    haben?\n",
"-   Optionen:\n",
"    -   Mehrere Methoden mit gleichem Namen definieren, mit\n",
"        unterschiedlicher Parameterzahl?\n",
"        -   Nein, funktioniert nicht\n",
"        -   (Häufiger Ansatz in anderen Sprachen)\n",
"    -   Flexible Parameter nutzen: defaults, `*args`, `**kwargs`\n",
"        -   Deutlich übersichtlicher; Code bleibt an einer Stelle gesammelt"
]
    },{
     "cell_type": "markdown",
     "metadata": {
        "slideshow": {
           "slide_type": "slide"
         } 
     }, 
     "source": ["<h1>Overview</h1> \n",
"\n",
"1. Überblick\n",
"1. Zusammenhang von Daten und Funktionen\n",
"1. Klassen\n",
"1. Objekte/Instanzen\n",
"1. Definition und Instantiierung einer Klasse\n",
"1. Definition und Aufruf weiterer Methoden\n",
"1. **<font color=\"red\">Statische Attribute und Methoden</font>**\n",
"1. Beobachtungen\n",
"1. Beispiele\n",
"1. Zusammenfassung"
]
    },{
     "cell_type": "markdown",
     "metadata": {
        "slideshow": {
           "slide_type": "slide"
         } 
     }, 
     "source": ["# Aufruf von Methoden bei Objekten\n",
"\n",
"-   Wir haben die Äquivalenz dieser beiden Anweisungen oben diskutiert:"
]
    },{
     "cell_type": "code",
     "metadata": {
        "slideshow": {
           "slide_type": "-"
         } 
     }, 
"outputs": [],
"execution_count": null,
     "source": ["Simple.f(s)\n",
"s.f()"
]
    },{
     "cell_type": "markdown",
     "metadata": {
        "slideshow": {
           "slide_type": "-"
         } 
     }, 
     "source": ["## Beobachtung<a id=\"orgheadline71\"></a>\n",
"\n",
"-   Offenbar definiert also eine Klasse einen Namensraum, in dem\n",
"    Funktionsnamen zugreifbar sind\n",
"-   Bisher haben wir in diesem Namensraum nur Methoden vereinbart, die\n",
"    `self` als ersten Parameter haben\n",
"-   Was, wenn kein `self`?"
]
    },{
     "cell_type": "markdown",
     "metadata": {
        "slideshow": {
           "slide_type": "slide"
         } 
     }, 
     "source": ["# `self`-lose Methoden\n",
"\n",
"-   Ist so etwas denkbar? Was wäre die Semantik?"
]
    },{
     "cell_type": "code",
     "metadata": {
        "slideshow": {
           "slide_type": "-"
         } 
     }, 
"outputs": [],
"execution_count": null,
     "source": ["class C:\n",
"    def f():\n",
"        print(\"Methode ohne self\")\n",
"\n",
"c1 = C()\n",
"print(c1)"
]
    },{
     "cell_type": "markdown",
     "metadata": {
        "slideshow": {
           "slide_type": "fragment"
         } 
     }, 
     "source": ["## Offenbar möglich<a id=\"orgheadline73\"></a>\n",
"\n",
"-   Offenbar kann so eine Klasse definiert und instanziiert werden\n",
"-   Aber was ist mit `f`? Aufruf?"
]
    },{
     "cell_type": "markdown",
     "metadata": {
        "slideshow": {
           "slide_type": "slide"
         } 
     }, 
     "source": ["# `self`-lose Methoden: Aufruf\n",
"\n",
"-   Aufruf einer `self`-losen Methode bei Objekt?"
]
    },{
     "cell_type": "code",
     "metadata": {
        "slideshow": {
           "slide_type": "-"
         } 
     }, 
"outputs": [],
"execution_count": null,
     "source": ["class C:\n",
"    def f():\n",
"        print(\"Methode ohne self\")\n",
"\n",
"c1 = C()\n",
"c1.f()"
]
    },{
     "cell_type": "markdown",
     "metadata": {
        "slideshow": {
           "slide_type": "fragment"
         } 
     }, 
     "source": ["## Aufruf scheitert<a id=\"orgheadline75\"></a>\n",
"\n",
"-   Fehlermeldung: `TypeError: f() takes 0 positional arguments but 1\n",
"      was given`\n",
"-   Das ist plausibel!\n",
"    -   Definition des Methodenaufrufs sagt ja, dass `c1.f()` das gleiche\n",
"        ist wie `C.f(c1)`\n",
"    -   Aber `f` nimmt keinen Parameter entgegen; das kann nicht gehen"
]
    },{
     "cell_type": "markdown",
     "metadata": {
        "slideshow": {
           "slide_type": "slide"
         } 
     }, 
     "source": ["# `self`-lose Methoden &#x2013; Aufruf nur bei Klasse?\n",
"\n",
"-   Wie wäre es mit Aufruf nur über die Klasse selbst?"
]
    },{
     "cell_type": "code",
     "metadata": {
        "slideshow": {
           "slide_type": "-"
         } 
     }, 
"outputs": [],
"execution_count": null,
     "source": ["class C:\n",
"    def f():\n",
"        print(\"Methode ohne self aufgerufen\")\n",
"\n",
"C.f()"
]
    },{
     "cell_type": "markdown",
     "metadata": {
        "slideshow": {
           "slide_type": "fragment"
         } 
     }, 
     "source": ["## Das geht!<a id=\"orgheadline77\"></a>\n",
"\n",
"-   Offenbar möglich: Die Funktion `f` wird als ganz normale Funktion\n",
"    ausgeführt &#x2013; ohne den Namensraum eines Objekts!\n",
"-   Aber dann hat `f` keinen Zugriff auf Attribute!?\n",
"    -   Die existieren ja im Namensraum eines jeden Objektes, separat\n",
"-   Ist das nützlich?"
]
    },{
     "cell_type": "markdown",
     "metadata": {
        "slideshow": {
           "slide_type": "slide"
         } 
     }, 
     "source": ["# Daten für `self`-lose Methoden?\n",
"\n",
"-   Methoden ohne `self` haben keinen Zugriff auf einen Namensraum eines\n",
"    Objekts\n",
"    -   Welches Objekts sollte das auch sein? Kann viele geben&#x2026;\n",
"-   Wir müssten also einen neuen Namensraum zur Verfügung stellen, der\n",
"    -   &#x2026; nicht an ein spezifisches Objekt gebunden ist\n",
"    -   &#x2026; aber mit der Klasse zu tun hat"
]
    },{
     "cell_type": "markdown",
     "metadata": {
        "slideshow": {
           "slide_type": "fragment"
         } 
     }, 
     "source": ["## Idee<a id=\"orgheadline79\"></a>\n",
"\n",
"-   **Die Klasse selbst** bekommt ebenfalls einen Namensraum, in dem\n",
"    Daten abgelegt werden können\n",
"-   Und den haben wir ja schon! Das `dict`  für Attribute bietet sich an!"
]
    },{
     "cell_type": "markdown",
     "metadata": {
        "slideshow": {
           "slide_type": "slide"
         } 
     }, 
     "source": ["# Daten im Namensraum der Klasse &#x2013; Erzeugen\n",
"\n",
"-   Erinnerung: Nach `class` folgt ein Block\n",
"-   Block: Liste von Anweisungen\n",
"-   Also darf man da z.B. Zuweisungen schreiben?"
]
    },{
     "cell_type": "markdown",
     "metadata": {
        "slideshow": {
           "slide_type": "fragment"
         } 
     }, 
     "source": ["## Ja!<a id=\"orgheadline81\"></a>"
]
    },{
     "cell_type": "code",
     "metadata": {
        "slideshow": {
           "slide_type": "-"
         } 
     }, 
"outputs": [],
"execution_count": null,
     "source": ["%%tutor\n",
"class C:\n",
"    x = 1\n",
"\n",
"c1 = C()"
]
    },{
     "cell_type": "markdown",
     "metadata": {
        "slideshow": {
           "slide_type": "slide"
         } 
     }, 
     "source": ["# Daten im Namensraum der Klasse vs. eines Objektes"
]
    },{
     "cell_type": "code",
     "metadata": {
        "slideshow": {
           "slide_type": "-"
         } 
     }, 
"outputs": [],
"execution_count": null,
     "source": ["%%tutor\n",
"class C:\n",
"    x = 1\n",
"\n",
"    def __init__(self, y):\n",
"        self.y = y\n",
"\n",
"c1 = C(17)\n",
"c2 = C(18)"
]
    },{
     "cell_type": "markdown",
     "metadata": {
        "slideshow": {
           "slide_type": "fragment"
         } 
     }, 
     "source": ["## Beobachtung<a id=\"orgheadline83\"></a>\n",
"\n",
"-   `class` führt Anweisungen im Block direkt aus!\n",
"-   Anders als `def`!"
]
    },{
     "cell_type": "markdown",
     "metadata": {
        "slideshow": {
           "slide_type": "slide"
         } 
     }, 
     "source": ["# Daten im Namensraum der Klasse &#x2013; Zugriff\n",
"\n",
"Erster Versuch: "
]
    },{
     "cell_type": "code",
     "metadata": {
        "slideshow": {
           "slide_type": "-"
         } 
     }, 
"outputs": [],
"execution_count": null,
     "source": ["class C:\n",
"    x = 17\n",
"    def f():\n",
"        print(\"f kennt Wert von x:\", x)\n",
"\n",
"C.f()"
]
    },{
     "cell_type": "markdown",
     "metadata": {
        "slideshow": {
           "slide_type": "fragment"
         } 
     }, 
     "source": ["## Fehler<a id=\"orgheadline85\"></a>\n",
"\n",
"-   Fehlermeldung: `NameError: global name 'x' is not defined`\n",
"-   Plausibel!\n",
"    -   Nach bisherigen Regeln für Scopes von Funktionen (`f` ist eine\n",
"        Funktion!) ist `x` einen lokalen Namen von `f`\n",
"        -   Und es gibt kein **globales** `x`\n",
"    -   Also funktioniert der Zugriff von `x` in Zeile 4 nicht\n",
"-   Aber **wir** wissen doch, wo `x` existiert! Im Namensraum von `C`!"
]
    },{
     "cell_type": "markdown",
     "metadata": {
        "slideshow": {
           "slide_type": "slide"
         } 
     }, 
     "source": ["# Daten im Namensraum der Klasse &#x2013; Optionen für Zugriff?\n",
"\n",
"-   Option 1: Wir ändern die Regeln, nach denen Scopes auf Namen hin\n",
"    durchsucht werden\n",
"    -   Könnte gehen, wird aber problematisch mit Vererbung (siehe nächste\n",
"        Kapitel)\n",
"-   Option 2: Wir ermöglichen, einen Namensraum **explizit** anzugeben, in dem\n",
"    ein Name gesucht werden soll\n",
"    -   Das geht und erweist sich auch später als praktisch\n",
"    -   [Zen](https://www.python.org/dev/peps/pep-0020/): **Explicit is better than implicit**"
]
    },{
     "cell_type": "markdown",
     "metadata": {
        "slideshow": {
           "slide_type": "slide"
         } 
     }, 
     "source": ["# Expliziter Namensraum für Zugriff\n",
"\n",
"-   Notation: Wir stellen den **Namen des Namensraums** dem zu benutzenden\n",
"    Namen voran, mit  `.` getrennt\n",
"    -   Genauso wie bei Zugriff auf Funktion!\n",
"-   Beispiel:"
]
    },{
     "cell_type": "code",
     "metadata": {
        "slideshow": {
           "slide_type": "-"
         } 
     }, 
"outputs": [],
"execution_count": null,
     "source": ["class C:\n",
"    x = 17\n",
"    def f():\n",
"        print(\"f kennt Wert von x:\", C.x)\n",
"        C.x += 1\n",
"\n",
"C.f() \n",
"C.f()"
]
    },{
     "cell_type": "markdown",
     "metadata": {
        "slideshow": {
           "slide_type": "slide"
         } 
     }, 
     "source": ["# Klassenname  als Namensraum\n",
"\n",
"-   Notation für Zugriff auf Namensraum also  ganz analog zu `self`!\n",
"-   Damit: Klassenname ist ebenso der Name eines Namensraums!"
]
    },{
     "cell_type": "markdown",
     "metadata": {
        "slideshow": {
           "slide_type": "slide"
         } 
     }, 
     "source": ["# Terminologie\n",
"\n",
"-   Bei Objekten: **dynamische** Methoden und Attribute\n",
"-   Bei Klassen: **statische** Methoden und Attribute (*static methods*)\n",
"\n",
"Anmerkung: Python kennt noch sogenannte *class methods* &#x2013; lassen wir\n",
"hier weg. "
]
    },{
     "cell_type": "markdown",
     "metadata": {
        "slideshow": {
           "slide_type": "slide"
         } 
     }, 
     "source": ["# Beispiel: Anzahl der erzeugten Objekte zählen\n",
"\n",
"-   Idee: statisches Attribut als Zähler\n",
"    -   In Klasse mit 0 initialisieren\n",
"    -   In `__init__` hochzählen\n",
"    -   Mit statischer Methode ausgeben\n",
"\n",
"-   Siehe [ebook](http://proquest.tech.safaribooksonline.de/9781449355722/ch03_html#X2ludGVybmFsX0h0bWxWaWV3P3htbGlkPTk3ODE0NDkzNTU3MjIlMkZjaDMyczA1X2h0bWwmcXVlcnk9Y2xhc3NtZXRob2Q=) für weitere Optionen"
]
    },{
     "cell_type": "markdown",
     "metadata": {
        "slideshow": {
           "slide_type": "slide"
         } 
     }, 
     "source": ["# Beispiel: Anzahl der erzeugten Objekte zählen &#x2013; Code"
]
    },{
     "cell_type": "code",
     "metadata": {
        "slideshow": {
           "slide_type": "-"
         } 
     }, 
"outputs": [],
"execution_count": null,
     "source": ["class Counted:\n",
"    zaehler = 0\n",
"\n",
"    def __init__(self):\n",
"        Counted.zaehler += 1\n",
"\n",
"    def printInstances():\n",
"        print(\"Erzeugt: {}\".format(\n",
"            Counted.zaehler))\n",
"\n",
"c1 = Counted()\n",
"c2 = Counted()\n",
"Counted.printInstances()"
]
    },{
     "cell_type": "markdown",
     "metadata": {
        "slideshow": {
           "slide_type": "slide"
         } 
     }, 
     "source": ["# Beispiel: MP3Player\n",
"\n",
"-   Für eine Klasse `MP3Player`, was sind dynamische, was statische\n",
"    Attribute/Methoden?\n",
"-   Attribute: farbe, preis, verkaufteExemplare, songs\n",
"-   Methoden: batterieLaden(), playSong(), lauter(), rueckruf(),\n",
"    chooseSong()"
]
    },{
     "cell_type": "markdown",
     "metadata": {
        "slideshow": {
           "slide_type": "slide"
         } 
     }, 
     "source": ["# Zusammenfassung: Dynamisch vs. statisch Attribute\n",
"\n",
"<table border=\"2\" cellspacing=\"0\" cellpadding=\"6\" rules=\"groups\" frame=\"hsides\">\n",
"\n",
"\n",
"<colgroup>\n",
"<col  class=\"org-left\" />\n",
"\n",
"<col  class=\"org-left\" />\n",
"\n",
"<col  class=\"org-left\" />\n",
"</colgroup>\n",
"<thead>\n",
"<tr>\n",
"<th scope=\"col\" class=\"org-left\">&#xa0;</th>\n",
"<th scope=\"col\" class=\"org-left\">Dynamisches Attribute</th>\n",
"<th scope=\"col\" class=\"org-left\">Statische Attribute</th>\n",
"</tr>\n",
"</thead>\n",
"\n",
"<tbody>\n",
"<tr>\n",
"<td class=\"org-left\">Erzeugen</td>\n",
"<td class=\"org-left\">Durch Zuweisung in Objekt-Methode (ins. `__init__`)</td>\n",
"<td class=\"org-left\">Durch Zuweisung in `Class` Block oder mit explizitem Namensraum</td>\n",
"</tr>\n",
"\n",
"\n",
"<tr>\n",
"<td class=\"org-left\">Existenz</td>\n",
"<td class=\"org-left\">in jedem Objekt</td>\n",
"<td class=\"org-left\">einmal pro Klasse</td>\n",
"</tr>\n",
"\n",
"\n",
"<tr>\n",
"<td class=\"org-left\">Daten ansprechen</td>\n",
"<td class=\"org-left\">self.attributname</td>\n",
"<td class=\"org-left\">Klassenname.attributname</td>\n",
"</tr>\n",
"\n",
"\n",
"<tr>\n",
"<td class=\"org-left\">Methoden aufrufen</td>\n",
"<td class=\"org-left\">obj.method()</td>\n",
"<td class=\"org-left\">Class.method()</td>\n",
"</tr>\n",
"\n",
"\n",
"<tr>\n",
"<td class=\"org-left\">&#xa0;</td>\n",
"<td class=\"org-left\">Class.method(obj)</td>\n",
"<td class=\"org-left\">&#xa0;</td>\n",
"</tr>\n",
"</tbody>\n",
"</table>"
]
    },{
     "cell_type": "markdown",
     "metadata": {
        "slideshow": {
           "slide_type": "slide"
         } 
     }, 
     "source": ["<h1>Overview</h1> \n",
"\n",
"1. Überblick\n",
"1. Zusammenhang von Daten und Funktionen\n",
"1. Klassen\n",
"1. Objekte/Instanzen\n",
"1. Definition und Instantiierung einer Klasse\n",
"1. Definition und Aufruf weiterer Methoden\n",
"1. Statische Attribute und Methoden\n",
"1. **<font color=\"red\">Beobachtungen</font>**\n",
"1. Beispiele\n",
"1. Zusammenfassung"
]
    },{
     "cell_type": "markdown",
     "metadata": {
        "slideshow": {
           "slide_type": "slide"
         } 
     }, 
     "source": ["# Überrascht?\n",
"\n",
"-   Eigentlich sollte Sie das alles nicht überrascht haben\n",
"-   Namen/Werte-Paare werden in einem `dict` abgelegt\n",
"    -   egal ob Klasse oder Objekt\n",
"    -   egal ob \"normaler\" Wert oder eine Funktion\n",
"-   Namensräume können explizit angegeben werden\n",
"    -   Egal ob Namensraum der Klasse oder des Objekts\n",
"    -   Man braucht nur einen Namen dafür: die Klasse, oder `self`\n",
"-   Alles recht einheitlich; wie sollte es anders sein?"
]
    },{
     "cell_type": "markdown",
     "metadata": {
        "slideshow": {
           "slide_type": "slide"
         } 
     }, 
     "source": ["# Principle of least astonishment\n",
"\n",
"-   Neue Eigenschaften sollten nicht überraschend sein\n",
"-   Auch: Principle of least surprise\n",
"-   Eigentlich für Nutzerschnittstellen gedacht\n",
"-   Auch für Programmiersprachen/-paradigmen sinnvoll!\n",
"-   Siehe auch: Occams Messer"
]
    },{
     "cell_type": "markdown",
     "metadata": {
        "slideshow": {
           "slide_type": "slide"
         } 
     }, 
     "source": ["# Analogien zwischen Klassen und Objekten?\n",
"\n",
"-   Objekte:\n",
"    -   Haben ein `dict` für Attribute\n",
"    -   Gehören zu einer Klasse, um dort Methoden zu finden\n",
"-   Klassen:\n",
"    -   Haben ein `dict` für Attribute\n",
"    -   &#x2026; ?"
]
    },{
     "cell_type": "markdown",
     "metadata": {
        "slideshow": {
           "slide_type": "slide"
         } 
     }, 
     "source": ["# Klasse als Objekt?\n",
"\n",
"-   Kann man eine Klasse als ein Objekt auffassen?\n",
"-   Was wäre denn dann die \"Klasse der Klasse\"?\n",
"-   Was wären die Methoden für diese \"Klasse als Objekt\"?"
]
    },{
     "cell_type": "markdown",
     "metadata": {
        "slideshow": {
           "slide_type": "slide"
         } 
     }, 
     "source": ["# Klasse als Objekt!\n",
"\n",
"Ja! \n",
"\n",
"-   Eine Klasse selbst ist auch nur ein Objekt der speziellen Klasse\n",
"    `type`\n",
"-   Damit: Jede Klasse ist ein Type\n",
"    -   Wie `int`, `list`, etc."
]
    },{
     "cell_type": "markdown",
     "metadata": {
        "slideshow": {
           "slide_type": "slide"
         } 
     }, 
     "source": ["# Erinnerung: Typkonvertierung\n",
"\n",
"-   Damit wird auch die Syntax der Typkonvertierung verständlich (vgl. Kapitel 5)!\n",
"-   Bei Typkonvertierung wird, ganz normal, der Konstruktur der Klasse\n",
"    des gewünschten Typs aufgerufen\n",
"    -   Mit dem zu konvertierenden Objekt als Parameter\n",
"    -   Ergebnis: Objekt des gewünschten Typs mit entsprechendem Inhalt\n",
"        (oder Fehler)\n",
"-   Beispiel:\n",
"    -   `int(\"12\")` vs.  `int(\"12.34\")`"
]
    },{
     "cell_type": "markdown",
     "metadata": {
        "slideshow": {
           "slide_type": "slide"
         } 
     }, 
     "source": ["# Python: Everything is an Object\n",
"\n",
"-   Tatsächlich ist Python konsequent auf Objekte hin orientiert\n",
"-   **Alles** ist ein Objekt: Listen, Dicts, Funktionen, Klassen, selbst\n",
"    einfache Literale wie Integers und Zeichenketten\n",
"-   Das hat Vor- und Nachteile\n",
"    -   Vorteil: Konsistente Sprache, least astonishment, keine\n",
"        Widersprüche\n",
"        -   Gegenbeispiel Java: Viele Ausnahmen und Sonderfälle\n",
"    -   Nachteil: Aufwändig zur Laufzeit"
]
    },{
     "cell_type": "markdown",
     "metadata": {
        "slideshow": {
           "slide_type": "slide"
         } 
     }, 
     "source": ["# Wie verschwinden Objekte?\n",
"\n",
"-   Wir haben Objekte explizit erzeugt durch Aufruf des Klassennamens\n",
"    -   Objekt samt seines Namensraums entsteht\n",
"    -   Belegt Platz im Speicher\n",
"-   Wie verschwindet ein Objekt wieder?\n",
"    -   Hoffnung: Nicht, so lange es noch gebraucht werden könnte\n",
"    -   Woher weiß man, dass ein Objekt noch gebraucht wird?"
]
    },{
     "cell_type": "markdown",
     "metadata": {
        "slideshow": {
           "slide_type": "slide"
         } 
     }, 
     "source": ["# Zählen: Referenzen auf Objekte\n",
"\n",
"-   Ein Objekt *könnte* noch gebraucht werden, so lange man es noch\n",
"    benutzen *kann*\n",
"-   Um es zu benutzen, muss man darauf zeigen können &#x2013; es muss einen\n",
"    Namen geben, der das Objekt referenziert\n",
"-   Wenn es keinen referenzierenden Namen mehr gibt, ist das Objekt\n",
"    verloren\n",
"-   Dann kann man es vernichten\n",
"\n",
"Also: Referenzen zählen "
]
    },{
     "cell_type": "markdown",
     "metadata": {
        "slideshow": {
           "slide_type": "slide"
         } 
     }, 
     "source": ["# Referenzen zählen"
]
    },{
     "cell_type": "markdown",
     "metadata": {
        "slideshow": {
           "slide_type": "-"
         } 
     }, 
     "source": ["## Referenzen erzeugen<a id=\"orgheadline104\"></a>\n",
"\n",
"-   Referenz auf Objekt entsteht im Moment der Konstruktion \n",
"    -   Oft: einem Namen zugewiesen `c = C()`\n",
"-   Referenz kann kopiert werden\n",
"    -   Zuweisung an anderen Namen: `c1 = c`\n",
"    -   Aufruf als Funktionsparameter: `f(c)`"
]
    },{
     "cell_type": "markdown",
     "metadata": {
        "slideshow": {
           "slide_type": "fragment"
         } 
     }, 
     "source": ["## Referenzen verlieren<a id=\"orgheadline105\"></a>\n",
"\n",
"-   Referenzen gehen verloren, wenn Namensraum des referenzierenden Namens verschwindet!\n",
"    -   Z.B. Funktion kehrt zurück\n",
"    -   Z.B. ein anderes Objekt mit Referenz verschwindet"
]
    },{
     "cell_type": "markdown",
     "metadata": {
        "slideshow": {
           "slide_type": "slide"
         } 
     }, 
     "source": ["# Referenzen zählen &#x2013; Beispiel\n",
"\n",
"Wieviele Referenzen existieren auf das Objekt der Klasse `C` am Ende des Programms? "
]
    },{
     "cell_type": "code",
     "metadata": {
        "slideshow": {
           "slide_type": "-"
         } 
     }, 
"outputs": [],
"execution_count": null,
     "source": ["import copy\n",
"\n",
"class C:\n",
"    Clist = []\n",
"    def __init__(self):\n",
"        C.Clist.append(self)\n",
"\n",
"def f(obj):\n",
"    newobj = copy.copy(obj)\n",
"    objlink = obj \n",
"    return objlink\n",
"\n",
"c = C()\n",
"c = f(c)"
]
    },{
     "cell_type": "markdown",
     "metadata": {
        "slideshow": {
           "slide_type": "fragment"
         } 
     }, 
     "source": ["## Pingo<a id=\"orgheadline107\"></a>"
]
    },{
     "cell_type": "code",
     "metadata": {
        "slideshow": {
           "slide_type": "-"
         } 
     }, 
"outputs": [],
"execution_count": null,
     "source": ["pingo_title = \"Wieviele Referenzen?\" \n",
"pingo_questions = [\"0\", \"1\", \"2\", \"3\"]\n",
"\n",
"%pingo"
]
    },{
     "cell_type": "markdown",
     "metadata": {
        "slideshow": {
           "slide_type": "slide"
         } 
     }, 
     "source": ["# Garbage Collection\n",
"\n",
"-   Wenn ein Objekt nicht mehr referenziert wird, dann vernichten \n",
"    -   Das Objekt ist dann Müll (Garbage): Garbage Collection\n",
"-   Automatischer Prozess!\n",
"    -   Einer der *großen* Vorteile moderner Programmiersprachen bzw. Laufzeitsysteme\n",
"    -   Vermeidet erhebliche Fehlerquellen\n",
"-   Man kann auch Objekte explizit löschen (mit `del`), aber selten\n",
"    notwendig"
]
    },{
     "cell_type": "markdown",
     "metadata": {
        "slideshow": {
           "slide_type": "slide"
         } 
     }, 
     "source": ["<h1>Overview</h1> \n",
"\n",
"1. Überblick\n",
"1. Zusammenhang von Daten und Funktionen\n",
"1. Klassen\n",
"1. Objekte/Instanzen\n",
"1. Definition und Instantiierung einer Klasse\n",
"1. Definition und Aufruf weiterer Methoden\n",
"1. Statische Attribute und Methoden\n",
"1. Beobachtungen\n",
"1. **<font color=\"red\">Beispiele</font>**\n",
"1. Zusammenfassung"
]
    },{
     "cell_type": "markdown",
     "metadata": {
        "slideshow": {
           "slide_type": "slide"
         } 
     }, 
     "source": ["# Vordefinierte Klasse: `string`\n",
"\n",
"-   Der Typ `string` für Zeichenketten ist als eine Klasse definiert\n",
"-   Er stellt reichhaltige Methoden zur Verfügung; Beispiele: \n",
"    -   `count`: Anzahl Vorkommen eines Teilstrings\n",
"    -   `find`: Teilstring finden\n",
"    -   `format`: Siehe folgende Folie\n",
"    -   `isnumeric`: Ist das eine Zahl?\n",
"    -   `join`: Siehe folgende Folie\n",
"    -   `endswith`, `startswith`\n",
"    -   `splitlines`: Zerteile den String in einzelne Zeilen; ergibt eine\n",
"        Liste\n",
"-   Siehe auch [Python Dokumentation zu string](https://docs.python.org/3/library/string.html)"
]
    },{
     "cell_type": "markdown",
     "metadata": {
        "slideshow": {
           "slide_type": "slide"
         } 
     }, 
     "source": ["# Methoden von `string`: `format`\n",
"\n",
"-   Ausgabe von Werten: Meist mit Text drum herum\n",
"-   Einfache Methode:\n",
"    -   In einer Zeichenkette {} für einzufügende Werte vorsehen\n",
"    -   Auf diesen Zeichenkette Methode `format` anwenden, mit einem\n",
"        Parameter pro {}-Paar\n",
"    -   Ersetzt {} mit übergebenen Werten\n",
"-   `format` kann Werte auch unterschiedlich formatieren\n",
"    -   Siehe [Dokumentation zu Formatting-Syntax](https://docs.python.org/3/library/string.html#format-specification-mini-language) und Übung\n",
"\n",
"Beispiel: "
]
    },{
     "cell_type": "code",
     "metadata": {
        "slideshow": {
           "slide_type": "-"
         } 
     }, 
"outputs": [],
"execution_count": null,
     "source": ["s = \"Dies {} ein {} für {}!\".format(\"ist\", \"Beispiel\", \"GP1\")\n",
"print(s)\n",
"\n",
"coord = (3.14, 2.71)\n",
"s = \"Der Punkt ist bei ({p[0]}, {p[1]})\".format(p=coord)\n",
"print(s)"
]
    },{
     "cell_type": "markdown",
     "metadata": {
        "slideshow": {
           "slide_type": "slide"
         } 
     }, 
     "source": ["# Methoden von `string`: `join`\n",
"\n",
"-   Nimmt eine Liste von Strings als Parameter, *verbindet* die Liste\n",
"    mit dem gegebenen String\n",
"    -   Nur zwischen Elementen, nicht vor erstem oder nach letztem Element\n",
"        der Liste\n",
"-   Sehr nützlich, um Listen kompakt auszugeben"
]
    },{
     "cell_type": "code",
     "metadata": {
        "slideshow": {
           "slide_type": "-"
         } 
     }, 
"outputs": [],
"execution_count": null,
     "source": ["l = [\"17\", \"42\", \"abc\"]\n",
"print(l)\n",
"print(\" -- \".join(l))"
]
    },{
     "cell_type": "markdown",
     "metadata": {
        "slideshow": {
           "slide_type": "slide"
         } 
     }, 
     "source": ["# Stack\n",
"\n",
"Ein *Stack* ist ein *Last-In-First-Out* (LiFo) Speicher:\n",
"\n",
"-   Beliebige viele Objekte können gespeichert werden\n",
"-   Man kann ein Objekt *von oben* auf den Stack legen: ein `push`\n",
"-   Man kann ein Objekt *von oben* wieder entnehmen: ein `pop`\n",
"-   Man kann nach der Anzahl der Objekte fragen\n",
"-   Man kann *nicht* irgendein Objekt von unten oder aus der Mitte\n",
"    entnehmen"
]
    },{
     "cell_type": "markdown",
     "metadata": {
        "slideshow": {
           "slide_type": "subslide"
         } 
     }, 
     "source": ["# Stack &#x2013; UML\n",
"\n",
"<center>![img](./uml/stack.png \"Eine Stack-Klasse als UML-Diagramm\")</center>"
]
    },{
     "cell_type": "markdown",
     "metadata": {
        "slideshow": {
           "slide_type": "subslide"
         } 
     }, 
     "source": ["# Stack &#x2013; Idee\n",
"\n",
"-   Die Daten legen wir in einer Liste ab\n",
"    -   Erfüllt Anforderungen: beliebig groß, beliebige Objekte\n",
"-   Die Stack-Methoden sind einfach auf Listen-Operationen abzubilden\n",
"    -   Dank List-Slicing!"
]
    },{
     "cell_type": "markdown",
     "metadata": {
        "slideshow": {
           "slide_type": "subslide"
         } 
     }, 
     "source": ["# Stack &#x2013; Code"
]
    },{
     "cell_type": "code",
     "metadata": {
        "slideshow": {
           "slide_type": "-"
         } 
     }, 
"outputs": [],
"execution_count": null,
     "source": ["class Stack:\n",
"    def __init__(self):\n",
"        self.daten=[]\n",
"\n",
"    def push(self, d):\n",
"        self.daten.append(d)\n",
"\n",
"    def pop(self):\n",
"        if len(self.daten) > 0:\n",
"            r, self.daten = self.daten[-1], self.daten[:-1]\n",
"        else:\n",
"            r = None\n",
"        return r\n",
"\n",
"    def len(self):\n",
"        return len(self.daten)"
]
    },{
     "cell_type": "markdown",
     "metadata": {
        "slideshow": {
           "slide_type": "slide"
         } 
     }, 
     "source": ["# Nochmal Ellipse\n",
"\n",
"-   Klasse Ellipse hat den Mittelpunkt explizit repräsentiert\n",
"    -   Als x und y Koordinaten\n",
"-   Aber ein *Punkt* ist doch auch ein Objekt?\n",
"    -   Das in unterschiedlichen Kontexten vorkommt?\n",
"    -   Ein Rechteck: zwei Eckpunkte\n",
"    -   Ein Dreieck: drei Punkte\n",
"-   Als eigene Klasse darstellen?\n",
"    -   Ellipse nutzt diese Klasse?"
]
    },{
     "cell_type": "markdown",
     "metadata": {
        "slideshow": {
           "slide_type": "subslide"
         } 
     }, 
     "source": ["# Punkt als Klasse"
]
    },{
     "cell_type": "code",
     "metadata": {
        "slideshow": {
           "slide_type": "-"
         } 
     }, 
"outputs": [],
"execution_count": null,
     "source": ["class Punkt:\n",
"    def __init__(self, x, y):\n",
"        self.x = x\n",
"        self.y = y\n",
"\n",
"    def verschiebe(self, deltax, deltay):\n",
"        self.x += deltax\n",
"        self.y += deltay"
]
    },{
     "cell_type": "markdown",
     "metadata": {
        "slideshow": {
           "slide_type": "subslide"
         } 
     }, 
     "source": ["# Ellipse nutzt Punkt"
]
    },{
     "cell_type": "code",
     "metadata": {
        "slideshow": {
           "slide_type": "-"
         } 
     }, 
"outputs": [],
"execution_count": null,
     "source": ["class Punkt:\n",
"    ... # siehe oben\n",
"\n",
"class Ellipse:\n",
"    def __init__(self, mittelpunkt, a1, a2):\n",
"        self.mittelpunkt = mittelpunkt\n",
"        self.achse1 = a1\n",
"        self.achse2 = a2\n",
"\n",
"    def verschiebe(self, deltax, deltay):\n",
"        self.mittelpunkt.verschiebe(deltax, deltay)"
]
    },{
     "cell_type": "markdown",
     "metadata": {
        "slideshow": {
           "slide_type": "subslide"
         } 
     }, 
     "source": ["# Muster: Delegation\n",
"\n",
"-   Klasse Ellipse *delegiert* Aufgaben an die Klasse Punkt\n",
"-   Delegation erzielt *Wiederverwendung* von Funktionen\n",
"    -   Eine Klasse Rechteck ist mit Klasse Punkt einfacher zu schreiben\n",
"        als ohne"
]
    },{
     "cell_type": "markdown",
     "metadata": {
        "slideshow": {
           "slide_type": "subslide"
         } 
     }, 
     "source": ["# Ellipse mit Punkt: Erzeugen"
]
    },{
     "cell_type": "code",
     "metadata": {
        "slideshow": {
           "slide_type": "-"
         } 
     }, 
"outputs": [],
"execution_count": null,
     "source": ["%%tutor\n",
"class Punkt:\n",
"    def __init__(self, x, y):\n",
"        self.x = x\n",
"        self.y = y\n",
"\n",
"    def verschiebe(self, deltax, deltay):\n",
"        self.x += deltax\n",
"        self.y += deltay\n",
"\n",
"class Ellipse:\n",
"    def __init__(self, mittelpunkt, a1, a2):\n",
"        self.mittelpunkt = mittelpunkt\n",
"        self.achse1 = a1\n",
"        self.achse2 = a2\n",
"\n",
"    def verschiebe(self, deltax, deltay):\n",
"        self.mittelpunkt.verschiebe(deltax, deltay)\n",
"\n",
"p = Punkt(1,2)\n",
"e1 = Ellipse(p, 3, 4)\n",
"e2 = Ellipse(Punkt(-2,3), 0.5, 7)"
]
    },{
     "cell_type": "markdown",
     "metadata": {
        "slideshow": {
           "slide_type": "subslide"
         } 
     }, 
     "source": ["# Punkt: Abstand bestimmen\n",
"\n",
"Abstand zwischen zwei Punkten bestimmen\n",
"\n",
"-   Option 1: Statische Methode der Klasse, bekommt zwei Parameter\n",
"-   Option 2: Normale Methode, hat `self` und ein anderes Objekt als\n",
"    Parameter\n",
"\n",
"Beispiel: Definition ähnlich; Benutzung unterschiedlich! "
]
    },{
     "cell_type": "code",
     "metadata": {
        "slideshow": {
           "slide_type": "-"
         } 
     }, 
"outputs": [],
"execution_count": null,
     "source": ["class Punkt:\n",
"    def __init__(self, x, y):\n",
"        self.x = x\n",
"        self.y = y\n",
"\n",
"    def abstand(self, other):\n",
"        return (\n",
"            (self.x - other.x)**2 +\n",
"            (self.y - other.y)**2             \n",
"            )**0.5\n",
"\n",
"    def abstand2(o1, o2):\n",
"        return (\n",
"            (o1.x - o2.x)**2 +\n",
"            (o1.y - o2.y)**2             \n",
"            )**0.5"
]
    },{
     "cell_type": "markdown",
     "metadata": {
        "slideshow": {
           "slide_type": "slide"
         } 
     }, 
     "source": ["# Telefonbuch\n",
"\n",
"-   Telefonbuch besteht aus Einträgen\n",
"    -   Operationen: Hinzufügen, löschen, ändern, suchen\n",
"-   Eintrag:\n",
"    -   Name und Telefonnummer"
]
    },{
     "cell_type": "markdown",
     "metadata": {
        "slideshow": {
           "slide_type": "subslide"
         } 
     }, 
     "source": ["# Telefonbuch &#x2013; UML\n",
"\n",
"<center>![img](./uml/telefonbuch.png \"Ein Telefonbuch-Klasse als UML-Diagramm\")</center>"
]
    },{
     "cell_type": "markdown",
     "metadata": {
        "slideshow": {
           "slide_type": "subslide"
         } 
     }, 
     "source": ["# Telefonbuch &#x2013; Code"
]
    },{
     "cell_type": "code",
     "metadata": {
        "slideshow": {
           "slide_type": "-"
         } 
     }, 
"outputs": [],
"execution_count": null,
     "source": ["class Telefonbuch:\n",
"    def __init__(self):\n",
"        eintraege = []\n",
"\n",
"    def enter(self, name, phone):\n",
"        self.eintraege.append({'name': name,\n",
"                            'phone': phone})\n",
"\n",
"    def lookup(self, name=None, phone=None):\n",
"        if name:\n",
"            key, val = 'name', name\n",
"        elif phone:\n",
"            key, val = 'phone', phone \n",
"        else:\n",
"            return None\n",
"\n",
"        for e in self.eintraege:\n",
"            if e[key] == val:\n",
"                return e\n",
"\n",
"        return None"
]
    },{
     "cell_type": "markdown",
     "metadata": {
        "slideshow": {
           "slide_type": "subslide"
         } 
     }, 
     "source": ["# Lineare Liste durchsuchen?\n",
"\n",
"-   Telefonbuch sucht linear die Liste der Einträge ab\n",
"    -   Alternativlos, da nicht sortiert\n",
"-   Schneller? Einträge sortieren\n",
"    -   Selection sort bei `enter`?\n",
"    -   Möglich, aber mit linearer Liste nicht ideal\n",
"-   Bessere Datenstruktur nötig!"
]
    },{
     "cell_type": "markdown",
     "metadata": {
        "slideshow": {
           "slide_type": "slide"
         } 
     }, 
     "source": ["# Binärer Suchbaum\n",
"\n",
"-   Datenstruktur in Form eines Baums\n",
"-   Ein Knoten eines Baums enthält\n",
"    -   Ein eigentliches Datum (z.B. einen Telefonbucheintrag)\n",
"    -   Einen Baum, in dem alle *kleineren* Einträge abgelegt werden &#x2013;\n",
"        *linker Teilbaum*\n",
"    -   Einen Baum, in dem alle *größeren* Einträge abgelegt werden &#x2013;\n",
"        *rechter Teilbaum*\n",
"-   Also: eine *rekursive* Datenstruktur\n",
"-   Darstellung hier folgt in etwa [Interactive Python Beispiel](http://interactivepython.org/runestone/static/pythonds/Trees/SearchTreeImplementation.html)"
]
    },{
     "cell_type": "markdown",
     "metadata": {
        "slideshow": {
           "slide_type": "subslide"
         } 
     }, 
     "source": ["# Binärer Suchbaum &#x2013; Illustration\n",
"\n",
"Vereinfachung: Hier nur Zahlen als Einträge, keine Telefonbucheinträge \n",
"\n",
"<center>![img](figures/binary-tree.png \"Ein binärer Suchbaum\")</center>"
]
    },{
     "cell_type": "markdown",
     "metadata": {
        "slideshow": {
           "slide_type": "subslide"
         } 
     }, 
     "source": ["# Binärer Suchbaum &#x2013; Operationen\n",
"\n",
"Wesentlich: \n",
"\n",
"-   Einfügen\n",
"-   Suchen\n",
"-   Löschen\n",
"-   In Reihenfolge durchlaufen"
]
    },{
     "cell_type": "markdown",
     "metadata": {
        "slideshow": {
           "slide_type": "subslide"
         } 
     }, 
     "source": ["# Knoten eines Baums?\n",
"\n",
"Was müssen wir über den Knoten eines Baumes wissen? \n",
"\n",
"-   Den Suchschlüssel\n",
"    -   Um größer, kleiner, gleich zu entscheiden\n",
"-   Den eigentlichen Wert\n",
"-   Den linken und rechten Teilbaum (falls existent)"
]
    },{
     "cell_type": "markdown",
     "metadata": {
        "slideshow": {
           "slide_type": "subslide"
         } 
     }, 
     "source": ["# Binärer Suchbaum &#x2013; Klassen\n",
"\n",
"-   Es bieten sich also hier **zwei** Klassen an:\n",
"    -   Eine Klasse für die Knoten\n",
"    -   Eine Klasse für den Baum als ganzes, der diese Knoten enthält"
]
    },{
     "cell_type": "markdown",
     "metadata": {
        "slideshow": {
           "slide_type": "subslide"
         } 
     }, 
     "source": ["# Binärer Suchbaum &#x2013; UML\n",
"\n",
"<center>![img](./uml/tree.png \"Suchbaum und Knoten als UML-Diagramm\")</center>"
]
    },{
     "cell_type": "markdown",
     "metadata": {
        "slideshow": {
           "slide_type": "subslide"
         } 
     }, 
     "source": ["# Klasse TreeNode\n",
"\n",
"Eine insgesamt recht einfache Klasse: "
]
    },{
     "cell_type": "code",
     "metadata": {
        "slideshow": {
           "slide_type": "-"
         } 
     }, 
"outputs": [],
"execution_count": null,
     "source": ["class TreeNode:\n",
"    def __init__(self, key, val):\n",
"        self.key = key\n",
"        self.value = val\n",
"        self.leftChild = None\n",
"        self.rightChild = None\n",
"\n",
"    def isLeaf(self):\n",
"        return ((self.leftChild is None) and\n",
"                (self.rightChild is None))"
]
    },{
     "cell_type": "markdown",
     "metadata": {
        "slideshow": {
           "slide_type": "subslide"
         } 
     }, 
     "source": ["# Binärbaum &#x2013; Grundgerüst\n",
"\n",
"Der Konstruktor des Binärbaums ist auch einfach: "
]
    },{
     "cell_type": "code",
     "metadata": {
        "slideshow": {
           "slide_type": "-"
         } 
     }, 
"outputs": [],
"execution_count": null,
     "source": ["class BinaryTree:\n",
"    def __init__(self):\n",
"        self.root = None\n",
"        self.size = 0\n",
"\n",
"    def add(self, key, value):\n",
"        \"\"\"Füge einen Eintrag unter key an die richtige Stelle ein\"\"\"\n",
"        ???\n",
"\n",
"    def search(self, key):\n",
"        \"\"\"Suche nach key; gib None falls nicht gefunden,\n",
"        sonst den TreeNode\"\"\"\n",
"        ???\n",
"\n",
"    def remove(self, key):\n",
"        \"\"\"Entferne Eintrag unter key falls vorhanden;\n",
"        erhalte Baumstruktur!\"\"\"\n",
"        ???\n",
"\n",
"    def iterate(self):\n",
"        \"\"\"Laufe den Baum in aufsteigender Reihenfolge\n",
"        der Knoten ab.\"\"\"\n",
"        ???"
]
    },{
     "cell_type": "markdown",
     "metadata": {
        "slideshow": {
           "slide_type": "subslide"
         } 
     }, 
     "source": ["# Suchen\n",
"\n",
"-   Angenommen, wir haben schon einen Baum\n",
"-   Wie suchen wir darin?\n",
"-   Rekursives Vorgehen:\n",
"    -   Beginne bei der Wurzel &#x2013; Ist das der gesuchte Schlüssel?\n",
"        -   Ja? Fertig\n",
"        -   Nein?\n",
"            -   Gesuchter Schlüssel kleiner? Suche links weiter\n",
"            -   Sonst rechts"
]
    },{
     "cell_type": "markdown",
     "metadata": {
        "slideshow": {
           "slide_type": "subslide"
         } 
     }, 
     "source": ["# Suchen &#x2013; Code"
]
    },{
     "cell_type": "code",
     "metadata": {
        "slideshow": {
           "slide_type": "-"
         } 
     }, 
"outputs": [],
"execution_count": null,
     "source": ["class BinaryTree:\n",
"    def search(self, key):\n",
"        # Wir benutzen intern eine etwas andere Funktion:\n",
"        # fuehre den aktuell zu untersuchenden Knoten als\n",
"        # Parameter mit \n",
"        return self._search(key, self.root)\n",
"\n",
"    def _search(self, key, currentNode):\n",
"        \"\"\"Hilfsfunktion: currentNode ist Zustand der Suche\"\"\"\n",
"        # Sonderfall abfangen: nicht gefunden: \n",
"        if currentNode is None:\n",
"            return None\n",
"\n",
"        if key == currentNode.key:\n",
"            return currentNode\n",
"        elif key < currentNode.key:\n",
"            # suche im linken Teil weiter:\n",
"            return self._search(key, currentNode.leftChild)\n",
"        else:\n",
"            return self._search(key, currentNode.rightChild)"
]
    },{
     "cell_type": "markdown",
     "metadata": {
        "slideshow": {
           "slide_type": "subslide"
         } 
     }, 
     "source": ["# Python Konvention: Unterstrich\n",
"\n",
"-   Die Methode `_search` ist eine ganz normale Methode\n",
"-   Der Nutzer der Klasse kann diese genauso gut aufrufen wie die Methode\n",
"    `search`; daran ist nicht falsch\n",
"-   Aber Konvention: Vorangestellter Unterstrich `_` signalisiert, dass\n",
"    diese Methode eher zum internen Gebrauch der Klasse gedacht ist\n",
"-   Siehe [PEP8](https://www.python.org/dev/peps/pep-0008/)"
]
    },{
     "cell_type": "markdown",
     "metadata": {
        "slideshow": {
           "slide_type": "subslide"
         } 
     }, 
     "source": ["# Einfügen &#x2013; Rekursives Vorgehen\n",
"\n",
"-   Erinnerung: Bei rekursiven Datenstrukturen bieten sich rekursive\n",
"    Algorithmen an\n",
"-   Einfügen rekursiv?\n",
"    -   Einfacher Fall: Der Baum ist leer &#x2013; direkt erzeugen\n",
"    -   Wenn nicht leer: Ist das entsprechende Kind vorhanden?\n",
"        -   Wenn nein: Einfügen als Kind, fertig\n",
"        -   Wenn ja: Rekursiv ab Kind einfügen!"
]
    },{
     "cell_type": "markdown",
     "metadata": {
        "slideshow": {
           "slide_type": "subslide"
         } 
     }, 
     "source": ["# Einfügen &#x2013; Spezialfall"
]
    },{
     "cell_type": "code",
     "metadata": {
        "slideshow": {
           "slide_type": "-"
         } 
     }, 
"outputs": [],
"execution_count": null,
     "source": ["class BinaryTree:\n",
"    #.... wie oben\n",
"\n",
"    def add(self, key, value):\n",
"        if self.root is None:\n",
"            # Baum ist leer, wir erzeugen den ersten Eintrag\n",
"            self.root = TreeNode(key, val)\n",
"        else:\n",
"            # Versuche, den Eintrag unter dem Knoten self.root einzufuegen\n",
"            # das wird laenger; also eigene Methode \n",
"            self._add(key, val, self.root)\n",
"\n",
"        self.size += 1"
]
    },{
     "cell_type": "markdown",
     "metadata": {
        "slideshow": {
           "slide_type": "subslide"
         } 
     }, 
     "source": ["# Einfügen &#x2013; Illustration\n",
"\n",
"<center>![img](figures/binary-tree-insert.png \"Einfügen in einen binärer Suchbaum\")</center>"
]
    },{
     "cell_type": "markdown",
     "metadata": {
        "slideshow": {
           "slide_type": "subslide"
         } 
     }, 
     "source": ["# Einfügen &#x2013; allgemeiner Fall"
]
    },{
     "cell_type": "code",
     "metadata": {
        "slideshow": {
           "slide_type": "-"
         } 
     }, 
"outputs": [],
"execution_count": null,
     "source": ["class BinaryTree:\n",
"    def _add(self, key, value, currentNode):\n",
"        if key < currentNode.key:\n",
"            # fuege im linken Teil ein\n",
"            if currentNode.leftChild is None:\n",
"                # hier muss der neue Knoten hin!\n",
"                currentNode.leftChild = TreeNode(key, value)\n",
"            else:\n",
"                # es gibt schon Kinder, suche dort weiter: \n",
"                self._add(key, value, currentNode.leftChild)\n",
"        elif key > currentNode.key:\n",
"            # der Fall is ganz symmetrisch\n",
"            if currentNode.rightChild is None:\n",
"                currentNode.rightChild = TreeNode(key, value)\n",
"            else:\n",
"                self._add(key, value, currentNode.rightChild)\n",
"        else:\n",
"            # wenn key schon existiert: aktualisiere Wert\n",
"            currentNode.value = value"
]
    },{
     "cell_type": "markdown",
     "metadata": {
        "slideshow": {
           "slide_type": "subslide"
         } 
     }, 
     "source": ["# Löschen &#x2013; rekursiv\n",
"\n",
"-   Auch Löschen eines Eintrags geht rekursiv vor\n",
"-   Spezialfälle suchen\n",
"    -   Der einzige Knoten des Baums wird gelöscht\n",
"    -   Ein Blatt wird gelöscht\n",
"    -   Ein Knoten mit einem oder zwei Kindern wird gelöscht\n",
"-   Allgemeinen Fall zusammensetzen"
]
    },{
     "cell_type": "markdown",
     "metadata": {
        "slideshow": {
           "slide_type": "slide"
         } 
     }, 
     "source": ["# Hotel &#x2013; Entwurfsdiskussion\n",
"\n",
"Wie würde eine Klasse für eine Hotelverwaltung aussehen? \n",
"\n",
"-   Welche weiteren Klassen würden Sie für Delegation nutzen?\n",
"-   Welche Variabeln, Methoden brauchen Sie"
]
    },{
     "cell_type": "markdown",
     "metadata": {
        "slideshow": {
           "slide_type": "slide"
         } 
     }, 
     "source": ["<h1>Overview</h1> \n",
"\n",
"1. Überblick\n",
"1. Zusammenhang von Daten und Funktionen\n",
"1. Klassen\n",
"1. Objekte/Instanzen\n",
"1. Definition und Instantiierung einer Klasse\n",
"1. Definition und Aufruf weiterer Methoden\n",
"1. Statische Attribute und Methoden\n",
"1. Beobachtungen\n",
"1. Beispiele\n",
"1. **<font color=\"red\">Zusammenfassung</font>**"
]
    },{
     "cell_type": "markdown",
     "metadata": {
        "slideshow": {
           "slide_type": "slide"
         } 
     }, 
     "source": ["# Zusammenfassung\n",
"\n",
"-   Klassen\n",
"    -   sind ein Bauplan für Objekte\n",
"    -   beschreiben Daten und Methoden für diese Daten *an einer\n",
"        Stelle*\n",
"-   Objekte repräsentieren Dinge aus dem Kontext der Anschauung\n",
"    -   Oft sehr anschaulich: Student, Punkt, Ellipse, Hotel, Hotelzimmer, Buchung\n",
"    -   Manchmal abstrakt: Binärer Suchbaum\n",
"-   Objekte entstehen durch Konstruktion (meist mit Initialisierung)"
]
    },{
     "cell_type": "markdown",
     "metadata": {
        "slideshow": {
           "slide_type": "slide"
         } 
     }, 
     "source": ["# Begriffsüberblick: Klassen, Attribute\n",
"\n",
"<center>![img](./uml/oo-tree.png \"Begriffsüberlick der wesentlichen Begriff zu Klassen\")</center>"
]
    },{
     "cell_type": "markdown",
     "metadata": {
        "slideshow": {
           "slide_type": "slide"
         } 
     }, 
     "source": ["# Wie gehts es weiter?\n",
"\n",
"-   Klassen und Objekte in bisheriger Form sind schon recht nützlich \n",
"    -   Kapseln Daten und Methoden zusammen an einer Stelle\n",
"    -   Können direkt von anderem Code benutzt werden\n",
"-   Aber was, wenn man nicht **genau** die richtige Klasse, aber eine\n",
"    ähnliche findet?\n",
"    -   Adaptieren?"
]
    },{
     "cell_type": "markdown",
     "metadata": {
        "slideshow": {
           "slide_type": "slide"
         } 
     }, 
     "source": ["# Python-Keywords: Liste bis jetzt\n",
"\n",
"-   Bis jetzt:\n",
"    -   `True`, `False`, `and`, `or`,  `def`,  `return`, `None`\n",
"    -   `in`\n",
"    -   `if`, `else`, `pass`, `elif`, `while`, `for`, `break`, `continue`, `assert`\n",
"    -   `global`\n",
"-   Neu:\n",
"    -   `class`\n",
"\n",
"  "
]
 }
],
 "metadata": {
  "celltoolbar": "Slideshow",
  "livereveal": {
        "theme": "simple",
        "transition": "none"
    },
  "kernelspec": {
   "display_name": "Python 3",
   "language": "python",
   "name": "python3"
  },
  "language_info": {
   "codemirror_mode": {
    "name": "ipython",
    "version": 3
   },
   "file_extension": ".py",
   "mimetype": "text/x-python",
   "name": "python",
   "nbconvert_exporter": "python",
   "pygments_lexer": "ipython3",
   "version": "3.5.1"
  }
 },
 "nbformat": 4,
 "nbformat_minor": 0
}