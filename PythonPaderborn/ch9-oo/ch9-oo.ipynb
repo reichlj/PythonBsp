{
"cells": [
 {
     "cell_type": "markdown",
     "metadata": {
        "slideshow": {
           "slide_type": "slide"
         } 
     }, 
     "source": ["<h1>Kapitel 9: Objektorientierung, Vererbung</h1>\n",
"<p>Grundlagen der Programmierung 1<p><h2>Holger Karl</h2>\n",
" "
]
    },{
     "cell_type": "markdown",
     "metadata": {
        "slideshow": {
           "slide_type": "slide"
         } 
     }, 
     "source": ["<h1>Overview</h1> \n",
"\n",
"1. Überblick\n",
"1. Verwandtschaft zwischen Dingen/Konzepten\n",
"1. Verwandtschaft zwischen Klassen\n",
"1. Vererbung in Python\n",
"1. Reflektion\n",
"1. Sichtbarkeit\n",
"1. getter/setter\n",
"1. Fehlerhafte Nutzung?\n",
"1. Gute Nutzung? Entwurf mit Klassen?\n",
"1. Zusammenfassung \n",
" \n",
""
]
    },{
     "cell_type": "markdown",
     "metadata": {
        "slideshow": {
           "slide_type": "slide"
         } 
     }, 
     "source": ["<h1>Overview</h1> \n",
"\n",
"1. **<font color=\"red\">Überblick</font>**\n",
"1. Verwandtschaft zwischen Dingen/Konzepten\n",
"1. Verwandtschaft zwischen Klassen\n",
"1. Vererbung in Python\n",
"1. Reflektion\n",
"1. Sichtbarkeit\n",
"1. getter/setter\n",
"1. Fehlerhafte Nutzung?\n",
"1. Gute Nutzung? Entwurf mit Klassen?\n",
"1. Zusammenfassung"
]
    },{
     "cell_type": "markdown",
     "metadata": {
        "slideshow": {
           "slide_type": "skip"
         } 
     }, 
     "source": ["# Setup\n",
"\n",
"Main point here is to set up warnings properly for presentation and to\n",
"load tutormagic, so that we can later on use pythontutor for code\n",
"animations. "
]
    },{
     "cell_type": "code",
     "metadata": {
        "slideshow": {
           "slide_type": "skip"
         } 
     }, 
"outputs": [],
"execution_count": null,
     "source": ["%load_ext tutormagic\n",
"import warnings\n",
"warnings.filterwarnings('ignore', category=DeprecationWarning, module='.*/IPython/.*')\n",
"\n",
"import requests\n",
"import webbrowser\n",
"from IPython.core.magic import register_line_magic\n",
"\n",
"pingo_token = \"BRx9QJP7rjdUGBq3x4hP\"\n",
"\n",
"# Test-Session: \n",
"pingo_url = \"https://pingo.upb.de/events/311055/quick_start.json\"\n",
"# Produktiv-Session: \n",
"# pingo_url = \"https://pingo.upb.de/events/204051/quick_start.json\"\n",
"\n",
"pingo_duration = '120'\n",
"pingo_type = \"single\"\n",
"\n",
"\n",
"@register_line_magic\n",
"def pingo(line):\n",
"    params = {'survey_name': pingo_title, \n",
"              'predef_options': pingo_questions, \n",
"              'q_type': pingo_type,\n",
"              'duration': pingo_duration, \n",
"              'auth_token': pingo_token}\n",
"\n",
"    r = requests.post(pingo_url, json=params)\n",
"    webbrowser.open_new_tab(\"https://pingo.upb.de\" + r.headers['Location'])"
]
    },{
     "cell_type": "markdown",
     "metadata": {
        "slideshow": {
           "slide_type": "slide"
         } 
     }, 
     "source": ["# Was bisher geschah\n",
"\n",
"-   Funktionen und Klassen erlauben die Wiederverwendung von\n",
"    Programmcode\n",
"-   Aber es gibt keine Möglichkeit, vorhandene Funktionen/Klassen\n",
"    abzuwandeln, auf Spezialfälle zuzuschneiden"
]
    },{
     "cell_type": "markdown",
     "metadata": {
        "slideshow": {
           "slide_type": "slide"
         } 
     }, 
     "source": ["# Dieses Kapitel\n",
"\n",
"-   Wir entwicklen Klassen weiter und erlauben Modifikation\n",
"    und Adaption der Funktionalität\n",
"    -   *Vererbung* von Klassen und *Polymorphie*\n",
"    -   Erfordert *Überschreiben* von Methoden\n",
"-   Dies resultiert in *Hierarchien* von Klassen\n",
"-   Insgesamt: Konzept der *objektorientierten Programmierung*\n",
"    -   Ohne Vererbung: nur *objektbasiert*"
]
    },{
     "cell_type": "markdown",
     "metadata": {
        "slideshow": {
           "slide_type": "slide"
         } 
     }, 
     "source": ["<h1>Overview</h1> \n",
"\n",
"1. Überblick\n",
"1. **<font color=\"red\">Verwandtschaft zwischen Dingen/Konzepten</font>**\n",
"1. Verwandtschaft zwischen Klassen\n",
"1. Vererbung in Python\n",
"1. Reflektion\n",
"1. Sichtbarkeit\n",
"1. getter/setter\n",
"1. Fehlerhafte Nutzung?\n",
"1. Gute Nutzung? Entwurf mit Klassen?\n",
"1. Zusammenfassung"
]
    },{
     "cell_type": "markdown",
     "metadata": {
        "slideshow": {
           "slide_type": "slide"
         } 
     }, 
     "source": ["# Programme reflektieren die Wirklichkeit\n",
"\n",
"-   Viele Programme haben etwas mit der Wirklichkeit zu tun\n",
"    -   Be-/verarbeiten Daten, die *tatsächliche Dinge* beschreiben\n",
"-   Tatsächliche Dinge sind oft klassifizierbar\n",
"    -   Möglicherweise mit verschiedenen Sichtweisen\n",
"-   Vorstellungen: *ähnliche Dinge*, *allgemeinere Dinge*, *speziellere\n",
"    Dinge*"
]
    },{
     "cell_type": "markdown",
     "metadata": {
        "slideshow": {
           "slide_type": "slide"
         } 
     }, 
     "source": ["# Ähnlich, allgemeiner, spezieller\n",
"\n",
"Vorüberlegungen: \n",
"\n",
"-   Zwei Dinge sind ähnlich wenn sie\n",
"    -   ähnliche Daten haben; mit gleicher Struktur\n",
"    -   ähnlich verarbeitet werden können\n",
"-   Ein Ding ist spezieller als ein anderes Ding, wenn\n",
"    -   mehr Wissen über das speziellere Ding gibt\n",
"    -   besondere Verarbeitung möglich ist\n",
"    -   besondere Fähigkeiten vorliegen"
]
    },{
     "cell_type": "markdown",
     "metadata": {
        "slideshow": {
           "slide_type": "slide"
         } 
     }, 
     "source": ["# Allgemeiner/spezieller und Hierarchien\n",
"\n",
"-   Wenn Dinge in einer allgemeiner/spezieller Beziehung stehen, dann in\n",
"    eine Hierarchie einordnen?\n",
"-   Je allgemeiner, desto weiter oben\n",
"-   Je spezieller, desto weiter unten"
]
    },{
     "cell_type": "markdown",
     "metadata": {
        "slideshow": {
           "slide_type": "slide"
         } 
     }, 
     "source": ["# Hierarchien: Beispiel Lebewesen\n",
"\n",
"Beispiel:  Linnesche Taxonomy \n",
"\n",
"<center>![img](figures/linne-tree.png \"Linne'sche Klassifikation\")</center>"
]
    },{
     "cell_type": "markdown",
     "metadata": {
        "slideshow": {
           "slide_type": "slide"
         } 
     }, 
     "source": ["# Hierarchien: Waren bei Online-Buchhändler\n",
"\n",
"<center>![img](figures/artikel-tree.png \"Artikel-Klassifikation\")</center>"
]
    },{
     "cell_type": "markdown",
     "metadata": {
        "slideshow": {
           "slide_type": "slide"
         } 
     }, 
     "source": ["# Hierarchien: Personen an einer Uni\n",
"\n",
"<center>![img](figures/personen-tree.png \"Personen-Klassifikation\")</center>"
]
    },{
     "cell_type": "markdown",
     "metadata": {
        "slideshow": {
           "slide_type": "slide"
         } 
     }, 
     "source": ["# Klassifikation: Gemeinsamkeiten\n",
"\n",
"-   Klassifikation ist nützlich\n",
"-   Aber entscheidend: Gemeinsamkeiten identifizieren!\n",
"    -   Zwischen Hominiden?\n",
"    -   Geräten?\n",
"    -   Werken?"
]
    },{
     "cell_type": "markdown",
     "metadata": {
        "slideshow": {
           "slide_type": "slide"
         } 
     }, 
     "source": ["# Beispiel: Gemeinsamkeiten von Artikel, Werk, Buch, &#x2026;\n",
"\n",
"-   Alle Artikel haben\n",
"    -   Artikelnummer\n",
"    -   Preis\n",
"-   Alle Werke haben *zusätzlich* zu Artikel: \n",
"    -   Ersteller\n",
"    -   Titel\n",
"-   Alle Bücher haben  *zusätzlich* zu Werk: \n",
"    -   Autor\n",
"    -   Verlag\n",
"    -   ISBN\n",
"-   Alle Musikträger haben *zusätzlich* zu Werk: \n",
"    -   Interpret\n",
"    -   Liste von Musikstücken"
]
    },{
     "cell_type": "markdown",
     "metadata": {
        "slideshow": {
           "slide_type": "slide"
         } 
     }, 
     "source": ["# Beispiel: Gemeinsamkeiten von Artikel, Werk, Buch, &#x2026; (2)\n",
"\n",
"Aber: \n",
"\n",
"-   Hat jeder Artikel einen Autor?\n",
"-   Hat jedes Werk einen Interpret?\n",
"-   &#x2026; ?\n",
"\n",
"Nein! \n",
"\n",
"-   Manche Daten nur ab einer bestimmten Spezialisierung sinnvoll"
]
    },{
     "cell_type": "markdown",
     "metadata": {
        "slideshow": {
           "slide_type": "slide"
         } 
     }, 
     "source": ["<h1>Overview</h1> \n",
"\n",
"1. Überblick\n",
"1. Verwandtschaft zwischen Dingen/Konzepten\n",
"1. **<font color=\"red\">Verwandtschaft zwischen Klassen</font>**\n",
"1. Vererbung in Python\n",
"1. Reflektion\n",
"1. Sichtbarkeit\n",
"1. getter/setter\n",
"1. Fehlerhafte Nutzung?\n",
"1. Gute Nutzung? Entwurf mit Klassen?\n",
"1. Zusammenfassung"
]
    },{
     "cell_type": "markdown",
     "metadata": {
        "slideshow": {
           "slide_type": "slide"
         } 
     }, 
     "source": ["# Gemeinsamkeiten in Klassen fassen\n",
"\n",
"Bisher wäre möglich: \n",
"\n",
"-   Je eine Klasse für Kinderbuch, Fachbuch, CD, DVD, &#x2026;\n",
"    -   Die Blätter der Hierarchie\n",
"-   In jeder Klasse alle gemeinsamen Daten jeweils wieder neu\n",
"    aufschreiben\n",
"\n",
"Nicht schön! Redundant! Fehleranfällig! \n",
"\n",
"-   Besser: Gemeinsamkeiten nur einmal aufschreiben!"
]
    },{
     "cell_type": "markdown",
     "metadata": {
        "slideshow": {
           "slide_type": "slide"
         } 
     }, 
     "source": ["# Gemeinsamkeiten in Klassen fassen (2)\n",
"\n",
"Also Idee: \n",
"\n",
"-   Eine Klasse, die `Artikel` darstellt\n",
"-   Eine weitere Klasse, die die **zusätzliche** Information für ein Buch \n",
"    **hinzufügt**, Ausgangsdaten von Artikel übernimmt\n",
"-   Eine weitere Klasse, die die **zusätzliche** Information für ein\n",
"    Hardcover **hinzufügt**, Ausgangsdaten von Buch übernimmt\n",
"-   usw&#x2026;"
]
    },{
     "cell_type": "markdown",
     "metadata": {
        "slideshow": {
           "slide_type": "slide"
         } 
     }, 
     "source": ["# Gemeinsamkeiten &#x2013; Darstellung in UML\n",
"\n",
"-   Klasse `B` **übernimmt** Daten von Klasse `A`: Linie von `B` nach `A`\n",
"      mit Pfeil bei `A`\n",
"    -   Genauer: Ein Objekt der Klasse `B` hat alle Attribute, die auch\n",
"        ein Objekt der Klasse `A` hat\n",
"    -   Plus ggf. weitere"
]
    },{
     "cell_type": "markdown",
     "metadata": {
        "slideshow": {
           "slide_type": "slide"
         } 
     }, 
     "source": ["# Gemeinsamkeiten &#x2013; Darstellung in UML allgemein\n",
"\n",
"<center>![img](./uml/uml-inheritance.png \"Klassenhierarchie in UML: Darstellung der `is-a` Relation\")</center>"
]
    },{
     "cell_type": "markdown",
     "metadata": {
        "slideshow": {
           "slide_type": "slide"
         } 
     }, 
     "source": ["# Gemeinsamkeiten &#x2013; Darstellung in UML für Artikel\n",
"\n",
"<center>![img](./uml/artikel-data.png \"Klassenhierarchie für Artikel: Daten in UML\")</center>"
]
    },{
     "cell_type": "markdown",
     "metadata": {
        "slideshow": {
           "slide_type": "slide"
         } 
     }, 
     "source": ["# Vererbung, `is-a`-Beziehung\n",
"\n",
"-   Terminologie: **Vererbung**\n",
"    -   Die allgemeinere Klasse **vererbt** ihre Daten und Methoden an die\n",
"        **speziellere** Klasse\n",
"-   Weil Objekte der spezielleren Klasse alle Attribute der\n",
"    allgemeineren Klasse haben, **IST** ein spezielleres Objekt auch ein\n",
"    allgemeineres Objekt\n",
"    -   Das speziellere Objekt kann an Stelle eines allgemeineren Objekts\n",
"        verwendet werden; das fällt nicht auf\n",
"    -   Die sog. **`is-a`** Beziehung"
]
    },{
     "cell_type": "markdown",
     "metadata": {
        "slideshow": {
           "slide_type": "slide"
         } 
     }, 
     "source": ["# `is-a` &#x2013; Mengenbeziehung\n",
"\n",
"Die spezielleren *Objekte* bilden eine Teilmenge der allgemeineren\n",
"Objekte.\n",
"\n",
"<center>![img](figures/venn.png \"Speziellere Objekte sind eine Teilmenge der allgemeineren Objekte\")</center>"
]
    },{
     "cell_type": "markdown",
     "metadata": {
        "slideshow": {
           "slide_type": "slide"
         } 
     }, 
     "source": ["# Warum nur Daten? Methoden!\n",
"\n",
"-   Klassen haben Methoden\n",
"-   Die werden natürlich auch übernommen\n",
"    -   Wenn Daten hinzukommen, werden die vorhandenen Methoden ja noch\n",
"        funktionieren!\n",
"-   Methoden hinzufügen?\n",
"    -   Warum nicht!\n",
"    -   Die `is-a`-Beziehung ist dadurch nicht verletzt"
]
    },{
     "cell_type": "markdown",
     "metadata": {
        "slideshow": {
           "slide_type": "slide"
         } 
     }, 
     "source": ["# Neue, speziellere Methoden im Artikel-Beispiel\n",
"\n",
"Was können diese Klassen? \n",
"\n",
"-   Jeder Artikel kann:\n",
"    -   Information anzeigen\n",
"    -   Preis um festen Prozentsatz verändern\n",
"-   Jedes Buch kann zusätzlich:\n",
"    -   Leseprobe anzeigen\n",
"-   Jeder Musikträger kann zusätzlich:\n",
"    -   Liste der Musikstücke ausgeben\n",
"    -   Jeweils Hörprobe ausgeben"
]
    },{
     "cell_type": "markdown",
     "metadata": {
        "slideshow": {
           "slide_type": "slide"
         } 
     }, 
     "source": ["# Allgemeinere Methoden im Artikel-Beispiel\n",
"\n",
"Was ist mit den allgemeineren Methoden? \n",
"\n",
"-   Kann man den Preis eines Buches verändern?\n",
"-   Die Informationen eines Musikstückes anzeigen?\n",
"\n",
"Warum nicht! \n",
"\n",
"-   Das Buch ist ein Artikel, also sollten diese Methoden anwendbar sein"
]
    },{
     "cell_type": "markdown",
     "metadata": {
        "slideshow": {
           "slide_type": "slide"
         } 
     }, 
     "source": ["# Neue Methoden &#x2013; UML\n",
"\n",
"<center>![img](./uml/artikel-new-methods.png \"Klassenhierarchie für Artikel: Neue Methoden\")</center>"
]
    },{
     "cell_type": "markdown",
     "metadata": {
        "slideshow": {
           "slide_type": "slide"
         } 
     }, 
     "source": ["# Methoden an Klasse anpassen?\n",
"\n",
"-   Die Information für ein Werk sollte den Titel enthalten? Für ein\n",
"    Gerät den Hersteller?\n",
"-   Das könnte man mit neuen Methoden machen:\n",
"    -   `show_info_werk()` in der Klasse `Werk`\n",
"    -   `show_info_geraet()` in der Klasse `Geraet`"
]
    },{
     "cell_type": "markdown",
     "metadata": {
        "slideshow": {
           "slide_type": "fragment"
         } 
     }, 
     "source": ["## Nicht schön!<a id=\"orgheadline34\"></a>\n",
"\n",
"-   Wird schnell unübersichtlich\n",
"-   Eigentlich will man doch auch von einem Gerät die Information?"
]
    },{
     "cell_type": "markdown",
     "metadata": {
        "slideshow": {
           "slide_type": "slide"
         } 
     }, 
     "source": ["# Methoden verändern?\n",
"\n",
"-   Idee: Könnte die Klasse `Werk`, `Geraet` die Methode `show_info()`\n",
"      der Klasse `Artikel` **verändern** oder **anpassen**? \n",
"    -   Eine abgewandelte Version der Methode, mit **gleichem Namen** angeben?\n",
"-   Klassen (nicht nur Objekte) bilden Namensräume!\n",
"    -   D.h., die Namen der Methoden der verschiedenen Klassen existieren\n",
"        ohnehin in verschiedenen Namensräumen\n",
"    -   Also ist es kein Problem, mehrere Methoden mit gleichem\n",
"        Namen in unterschiedlichen Klassen zu haben\n",
"    -   Also eigentlich: langweilig!"
]
    },{
     "cell_type": "markdown",
     "metadata": {
        "slideshow": {
           "slide_type": "slide"
         } 
     }, 
     "source": ["# Veränderte Methoden &#x2013; Aufruf\n",
"\n",
"-   Angenommen, wird implementieren eine andere Methode `show_info()` in\n",
"    Klasse `Werk`\n",
"-   Was passiert bei Aufruf der Methode?\n",
"    -   Bei Aufruf bei einem Objekt von `Artikel`: Die einfache Methode\n",
"        wird aufgerufen\n",
"    -   Bei Aufruf bei einem Objekt von `Werk`: Die neue Methode\n",
"        wird aufgerufen\n",
"\n",
"Was soll auch sonst passieren?? "
]
    },{
     "cell_type": "markdown",
     "metadata": {
        "slideshow": {
           "slide_type": "slide"
         } 
     }, 
     "source": ["# Veränderte Methoden &#x2013; UML\n",
"\n",
"Verändert eine Klasse eine Methode der allgemeineren Klasse, wird\n",
"diese Methode explizit im UML-Diagramm gezeigt \n",
"\n",
"<center>![img](./uml/artikel-override.png \"Klassenhierarchie für Artikel: Veränderte Methoden\")</center>"
]
    },{
     "cell_type": "markdown",
     "metadata": {
        "slideshow": {
           "slide_type": "slide"
         } 
     }, 
     "source": ["# Terminologie"
]
    },{
     "cell_type": "markdown",
     "metadata": {
        "slideshow": {
           "slide_type": "-"
         } 
     }, 
     "source": ["<div class=\"definition-head\" style=\"border:3px; border-style:solid; border-color:#5da9e9; padding: 5px; background-color:#5da9e9;  line-height:1.5em; text-align:center; border-radius: 15px 15px 0px 0px; margin-bottom: 0; width: 100%;\"><b>Definition: Vererbung: Terminologie<a id=\"orgheadline39\"></a></b></div>\n",
"\n",
"-   Eine Klasse *vererbt* Daten oder Methoden an eine andere Klasse\n",
"    -   Daten, Methoden stehen in Objekten der erbenden Klasse zur\n",
"        Verfügung\n",
"-   Die vererbende Klasse heißt *Oberklasse* (*super class*) oder\n",
"    *Basisklasse* (*base class*)\n",
"-   Die erbende Klasse heißt *Unterklasse* (*sub class*) oder\n",
"    *abgeleitete Klasse* (*derived class*)\n",
"-   Wird bei Vererbung eine Methode verändert, so sagt man die Methode\n",
"    wird *überschrieben*\n",
"-   Vererbung kann iterativ erfolgen\n",
"    -   Eine Unterklasse kann Oberklasse einer weiteren Klasse sein\n",
"\n",
"<div class=\"definition-content\" style=\"border:3px; border-style:solid; border-color:#5da9e9; padding: 5px; margin-top: 0; border-radius: 0px 0px 15px 15px; width: 100%; text-align:left\"></div>"
]
    },{
     "cell_type": "markdown",
     "metadata": {
        "slideshow": {
           "slide_type": "slide"
         } 
     }, 
     "source": ["# `is-a`, Kompatibilität, Substitution\n",
"\n",
"Zur Betonung: "
]
    },{
     "cell_type": "markdown",
     "metadata": {
        "slideshow": {
           "slide_type": "-"
         } 
     }, 
     "source": ["<div class=\"definition-head\" style=\"border:3px; border-style:solid; border-color:#5da9e9; padding: 5px; background-color:#5da9e9;  line-height:1.5em; text-align:center; border-radius: 15px 15px 0px 0px; margin-bottom: 0; width: 100%;\"><b>Definition: Substitionsprinzip (Liskov)<a id=\"orgheadline41\"></a></b></div>\n",
"\n",
"Jedes Objekt einer Oberklasse kann durch ein Objekt einer Unterklasse\n",
"ersetzt werden &#x2013; das sog. *Substitionsprinzip*. Objekte einer\n",
"Unterklasse können den Platz von Objekten der Oberklasse\n",
"einnehmen. Sie können dabei durch überschriebene Methoden adaptiertes\n",
"Verhalten zeigen.\n",
"\n",
"Oder anders gesagt: Kann ein Programm mit Objekten einer Oberklasse\n",
"arbeiten, kann es auch **ohne Änderung** mit Objekten einer Unterklasse\n",
"arbeiten. Es wird diese Objekte als Instanzen der Oberklasse ansehen;\n",
"durch Überschreiben von Methoden kann trotzdem Funktionalität\n",
"angepasst werden.\n",
"\n",
"Umgekehrt funktioniert dies in der Regel nicht! Ein allgemeineres\n",
"Objekt kann im allgemeinen nicht benutzt werden, wenn ein spezielleres\n",
"erwartet wird.\n",
"\n",
"<div class=\"definition-content\" style=\"border:3px; border-style:solid; border-color:#5da9e9; padding: 5px; margin-top: 0; border-radius: 0px 0px 15px 15px; width: 100%; text-align:left\"></div>"
]
    },{
     "cell_type": "markdown",
     "metadata": {
        "slideshow": {
           "slide_type": "slide"
         } 
     }, 
     "source": ["# `is-a`, Kompatibilität (2)\n",
"\n",
"-   Die `is-a` Beziehung und Nutzung von Unterklasse-Objekten ist der\n",
"    **entscheidende Punkt** der Vererbung\n",
"    -   Schreibersparnis bei Definition ist nett, aber nicht so wichtig\n",
"-   Durch Schaffung neuer Klassen kann einem Programm Funktionalität\n",
"    hinzugefügt werden, ohne dass der Rest des Programms geändert werden\n",
"    muss\n",
"-   Beispiel:\n",
"    -   Kommen neue Artikelkategorien (Videospiele? Hausschuhe?) hinzu,\n",
"        können die ohne Änderung mit verarbeitet werden"
]
    },{
     "cell_type": "markdown",
     "metadata": {
        "slideshow": {
           "slide_type": "slide"
         } 
     }, 
     "source": ["<h1>Overview</h1> \n",
"\n",
"1. Überblick\n",
"1. Verwandtschaft zwischen Dingen/Konzepten\n",
"1. Verwandtschaft zwischen Klassen\n",
"1. **<font color=\"red\">Vererbung in Python</font>**\n",
"1. Reflektion\n",
"1. Sichtbarkeit\n",
"1. getter/setter\n",
"1. Fehlerhafte Nutzung?\n",
"1. Gute Nutzung? Entwurf mit Klassen?\n",
"1. Zusammenfassung"
]
    },{
     "cell_type": "markdown",
     "metadata": {
        "slideshow": {
           "slide_type": "slide"
         } 
     }, 
     "source": ["# Konkret: Vererbung in Python\n",
"\n",
"-   Schauen wir uns an, wie wir die Konzepte oben in Python umsetzen\n",
"    können"
]
    },{
     "cell_type": "markdown",
     "metadata": {
        "slideshow": {
           "slide_type": "slide"
         } 
     }, 
     "source": ["# Zunächst: Die Basisklasse `Artikel`\n",
"\n",
"Eine ganz normale Klasse: "
]
    },{
     "cell_type": "code",
     "metadata": {
        "slideshow": {
           "slide_type": "-"
         } 
     }, 
"outputs": [],
"execution_count": null,
     "source": ["class Artikel:\n",
"    def __init__(self, artikelnummer, preis):\n",
"        self.artikelnummer = artikelnummer\n",
"        self.preis = preis\n",
"\n",
"    def markup(self, percentage):\n",
"        \"\"\"Konvention: Percentage == 1 lässt Preis unverändert\"\"\"\n",
"        self.preis *= percentage\n",
"\n",
"    def show_info(self):\n",
"        return \"Artikel {} zu {}€\".format(self.artikelnummer,\n",
"                                  self.preis)\n",
"\n",
"    def __str__(self):\n",
"        return self.show_info()\n",
"\n",
"a = Artikel(\"1234\", 42.17)\n",
"print(a)\n",
"a.markup(1.1)\n",
"print(a)"
]
    },{
     "cell_type": "markdown",
     "metadata": {
        "slideshow": {
           "slide_type": "slide"
         } 
     }, 
     "source": ["# Unterklasse `Werk`\n",
"\n",
"-   Ableiten: Unterklasse definieren, Oberklasse in Parameter angeben\n",
"-   Im Beispiel: `Werk` und `Artikel` identisch"
]
    },{
     "cell_type": "code",
     "metadata": {
        "slideshow": {
           "slide_type": "-"
         } 
     }, 
"outputs": [],
"execution_count": null,
     "source": ["class Werk(Artikel):\n",
"    pass"
]
    },{
     "cell_type": "markdown",
     "metadata": {
        "slideshow": {
           "slide_type": "slide"
         } 
     }, 
     "source": ["# Unterklasse `Werk`: Konstruktor"
]
    },{
     "cell_type": "code",
     "metadata": {
        "slideshow": {
           "slide_type": "-"
         } 
     }, 
"outputs": [],
"execution_count": null,
     "source": ["class Artikel:\n",
"    def __init__(self, artikelnummer, preis):\n",
"        self.artikelnummer = artikelnummer\n",
"        self.preis = preis\n",
"\n",
"    def show_info(self):\n",
"        return \"Artikel {} zu {}€\".format(self.artikelnummer,\n",
"                                  self.preis)\n",
"\n",
"class Werk(Artikel):\n",
"    def __init__(self, ersteller, titel):\n",
"        self.ersteller = ersteller\n",
"        self.titel = titel\n",
"\n",
"# Ein Werk wird mit vier Parametern initialisiert\n",
"w = Werk(\"1234\", 42.17, \"Peter Müller\", \"Zur Bedeutung von GP1\")"
]
    },{
     "cell_type": "markdown",
     "metadata": {
        "slideshow": {
           "slide_type": "fragment"
         } 
     }, 
     "source": ["## Fehler<a id=\"orgheadline47\"></a>\n",
"\n",
"-   `TypeError: __init__() takes 3 positional arguments but 5 were given`\n",
"-   Das konnte nicht gehen: Konstruktor von `Werk` hat nicht genug\n",
"    Parameter"
]
    },{
     "cell_type": "markdown",
     "metadata": {
        "slideshow": {
           "slide_type": "slide"
         } 
     }, 
     "source": ["# Unterklasse `Werk`: Konstruktor (2)\n",
"\n",
"Fix: Parameter hinzufügen"
]
    },{
     "cell_type": "code",
     "metadata": {
        "slideshow": {
           "slide_type": "-"
         } 
     }, 
"outputs": [],
"execution_count": null,
     "source": ["class Artikel:\n",
"    def __init__(self, artikelnummer, preis):\n",
"        self.artikelnummer = artikelnummer\n",
"        self.preis = preis\n",
"\n",
"    def show_info(self):\n",
"        return \"Artikel {} zu {}€\".format(self.artikelnummer,\n",
"                                  self.preis)\n",
"\n",
"class Werk(Artikel):\n",
"    def __init__(self, artikelnummer, preis, ersteller, titel):\n",
"        self.ersteller = ersteller\n",
"        self.titel = titel\n",
"\n",
"# Ein Werk wird mit vier Parametern initialisiert\n",
"w = Werk(\"1234\", 42.17, \"Peter Müller\", \"Zur Bedeutung von GP1\")\n",
"print(w.show_info())"
]
    },{
     "cell_type": "markdown",
     "metadata": {
        "slideshow": {
           "slide_type": "slide"
         } 
     }, 
     "source": ["# Fehler??\n",
"\n",
"-   AttributeError: 'Werk' object has no attribute 'artikelnummer'\n",
"-   Das geht immer noch nicht? Das Attribute `artikelnummer` wird nicht\n",
"    gesetzt?\n",
"-   Na, wie auch??\n",
"    -   Der Konstruktor von `Artikel` würde das machen, aber den rufen wir\n",
"        ja nirgends auf"
]
    },{
     "cell_type": "markdown",
     "metadata": {
        "slideshow": {
           "slide_type": "fragment"
         } 
     }, 
     "source": ["## Remember<a id=\"orgheadline50\"></a>\n",
"\n",
"Explicit is better than implicit!\n",
"\n",
"<center>![img](../ch4-funct1/figures/facepalm.png \"Kein Konstruktoraufruf der Oberklasse\")</center>"
]
    },{
     "cell_type": "markdown",
     "metadata": {
        "slideshow": {
           "slide_type": "slide"
         } 
     }, 
     "source": ["# Unterklasse `Werk`: Konstruktor der Oberklasse aufrufen\n",
"\n",
"Wie kommen wir an Konstruktor von `Artikel`?\n",
"\n",
"-   Zugriff über Namensraum der **Klasse**!\n",
"-   Mit `self` als explizitem Parameter!"
]
    },{
     "cell_type": "code",
     "metadata": {
        "slideshow": {
           "slide_type": "-"
         } 
     }, 
"outputs": [],
"execution_count": null,
     "source": ["class Artikel:\n",
"    def __init__(self, artikelnummer, preis):\n",
"        self.artikelnummer = artikelnummer\n",
"        self.preis = preis\n",
"\n",
"    def show_info(self):\n",
"        return \"Artikel {} zu {}€\".format(self.artikelnummer,\n",
"                                  self.preis)\n",
"\n",
"class Werk(Artikel):\n",
"    def __init__(self, artikelnummer, preis, ersteller, titel):\n",
"        # Oberklassen-Konstruktor aufrufen: \n",
"        Artikel.__init__(self, artikelnummer, preis)\n",
"        self.ersteller = ersteller\n",
"        self.titel = titel\n",
"\n",
"# Ein Werk wird mit vier Parametern initialisiert\n",
"w = Werk(\"1234\", 42.17, \"Peter Müller\", \"Zur Bedeutung von GP1\")\n",
"print(w.show_info())"
]
    },{
     "cell_type": "markdown",
     "metadata": {
        "slideshow": {
           "slide_type": "slide"
         } 
     }, 
     "source": ["# Unterklasse `Werk`: Konstruktor der Oberklasse mit `super` aufrufen\n",
"\n",
"-   Das funktioniert, aber ist nicht so schön: Der Klassenname `Artikel`\n",
"      wird mehrfach aufgeschrieben\n",
"    -   Fehleranfällig, z.B. wenn man sich entscheidet, die Basisklasse zu\n",
"        wechseln\n",
"    -   Generell: **Don't repeat yourself** (DRY)!\n",
"    -   (Und funktioniert nicht bei multiple inheritance, siehe später)\n",
"-   Daher neues Konstrukt: `super()`\n",
"    -   Funktion, die Objekt der Oberklasse einer abgeleiteten Klasse\n",
"        liefert\n",
"    -   Zum Aufruf der entsprechenden Methoden\n",
"    -   Nicht nur in `__init__` nützlich (siehe z.B. [Blog post](https://rhettinger.wordpress.com/2011/05/26/super-considered-super/))"
]
    },{
     "cell_type": "markdown",
     "metadata": {
        "slideshow": {
           "slide_type": "slide"
         } 
     }, 
     "source": ["# Unterklasse `Werk`: Konstruktor der Oberklasse mit `super` aufrufen (2)"
]
    },{
     "cell_type": "code",
     "metadata": {
        "slideshow": {
           "slide_type": "-"
         } 
     }, 
"outputs": [],
"execution_count": null,
     "source": ["%%tutor -t \n",
"class Artikel:\n",
"    def __init__(self, artikelnummer, preis):\n",
"        self.artikelnummer = artikelnummer\n",
"        self.preis = preis\n",
"\n",
"    def show_info(self):\n",
"        return \"Artikel {} zu {}€\".format(self.artikelnummer,\n",
"                                  self.preis)\n",
"\n",
"class Werk(Artikel):\n",
"    def __init__(self, ersteller, titel, artikelnummer, preis):\n",
"        # Oberklassen-Konstruktor aufrufen: \n",
"        super().__init__(artikelnummer, preis)\n",
"        self.ersteller = ersteller\n",
"        self.titel = titel\n",
"\n",
"# Ein Werk wird mit vier Parametern initialisiert\n",
"w = Werk(\"Peter Müller\", \"Zur Bedeutung von GP1\", \"1234\", 42.17)\n",
"print(w.show_info())"
]
    },{
     "cell_type": "markdown",
     "metadata": {
        "slideshow": {
           "slide_type": "slide"
         } 
     }, 
     "source": ["# Unterklasse `Werk`: Parameter des Oberklasse-Konstruktors merken?\n",
"\n",
"-   Auch unschön: Im Konstruktor der Unterklasse muss man die Parameter\n",
"    der Oberklasse aufführen\n",
"    -   Woher weiß ich das; fehleranfällig bei Änderung, &#x2026;\n",
"    -   **Don't repeat yourself**!\n",
"-   Besser: Nur eigene Parameter aufführen, Parameter der Basisklasse\n",
"    nur anonym durchreichen; egal wie beschaffen \n",
"    -   `*args` und `**kwargs`!\n",
"-   Typischer Programmierstil: `*args` und `**kwargs` durchreichen!"
]
    },{
     "cell_type": "markdown",
     "metadata": {
        "slideshow": {
           "slide_type": "slide"
         } 
     }, 
     "source": ["# Unterklasse `Werk`: Parameter des Oberklasse-Konstruktors durchreichen"
]
    },{
     "cell_type": "code",
     "metadata": {
        "slideshow": {
           "slide_type": "-"
         } 
     }, 
"outputs": [],
"execution_count": null,
     "source": ["class Artikel:\n",
"    def __init__(self, artikelnummer, preis):\n",
"        self.artikelnummer = artikelnummer\n",
"        self.preis = preis\n",
"\n",
"    def show_info(self):\n",
"        return \"Artikel {} zu {}€\".format(self.artikelnummer,\n",
"                                  self.preis)\n",
"\n",
"class Werk(Artikel):\n",
"    def __init__(self, ersteller, titel, *args, **kwargs):\n",
"        # Oberklassen-Konstruktor aufrufen: \n",
"        super().__init__(*args, **kwargs)\n",
"        self.ersteller = ersteller\n",
"        self.titel = titel\n",
"\n",
"# Ein Werk wird mit vier Parametern initialisiert\n",
"w = Werk(\"Peter Müller\", \"Zur Bedeutung von GP1\", \"1234\", 42.17, )\n",
"print(w.show_info())"
]
    },{
     "cell_type": "markdown",
     "metadata": {
        "slideshow": {
           "slide_type": "slide"
         } 
     }, 
     "source": ["# Unterklasse `Werk`: Parameter des Oberklasse-Konstruktors durchreichen (2)\n",
"\n",
"Oder noch schöner beim Instanziieren: Mit keyword-Argumenten \n",
"\n",
"-   Dann ist Reihenfolge egal!"
]
    },{
     "cell_type": "code",
     "metadata": {
        "slideshow": {
           "slide_type": "-"
         } 
     }, 
"outputs": [],
"execution_count": null,
     "source": ["class Artikel:\n",
"    def __init__(self, artikelnummer, preis):\n",
"        self.artikelnummer = artikelnummer\n",
"        self.preis = preis\n",
"\n",
"    def show_info(self):\n",
"        return \"Artikel {} zu {}€\".format(self.artikelnummer,\n",
"                                  self.preis)\n",
"\n",
"class Werk(Artikel):\n",
"    def __init__(self, ersteller, titel, *args, **kwargs):\n",
"        # Oberklassen-Konstruktor aufrufen: \n",
"        super().__init__(*args, **kwargs)\n",
"        self.ersteller = ersteller\n",
"        self.titel = titel\n",
"\n",
"# Ein Werk wird mit vier Parametern initialisiert\n",
"w = Werk(artikelnummer=\"1234\", preis=42.17,\n",
"         ersteller=\"Peter Mueller\", titel=\"Zur Bedeutung von GP1\",)\n",
"print(w.show_info())"
]
    },{
     "cell_type": "markdown",
     "metadata": {
        "slideshow": {
           "slide_type": "slide"
         } 
     }, 
     "source": ["# Unterklasse `Werk`: `show_info`\n",
"\n",
"-   Objekt wird jetzt wohl richtig initialisiert\n",
"-   Aber nicht richtig ausgegeben\n",
"-   Wir müssen die Methode `show_info` noch überschreiben!"
]
    },{
     "cell_type": "code",
     "metadata": {
        "slideshow": {
           "slide_type": "-"
         } 
     }, 
"outputs": [],
"execution_count": null,
     "source": ["class Artikel:\n",
"    def __init__(self, artikelnummer, preis):\n",
"        self.artikelnummer = artikelnummer\n",
"        self.preis = preis\n",
"\n",
"    def show_info(self):\n",
"        return \"Artikel {} zu {}€\".format(self.artikelnummer,\n",
"                                  self.preis)\n",
"\n",
"class Werk(Artikel):\n",
"    def __init__(self, ersteller, titel, *args, **kwargs):\n",
"        # Oberklassen-Konstruktor aufrufen: \n",
"        super().__init__(*args, **kwargs)\n",
"        self.ersteller = ersteller\n",
"        self.titel = titel\n",
"\n",
"    def show_info(self):\n",
"        return \"'{}' von {} (Artikel {} zu {} €)\".format(\n",
"            self.titel,\n",
"            self.ersteller,\n",
"            self.artikelnummer,\n",
"            self.preis)\n",
"\n",
"# Ein Werk wird mit vier Parametern initialisiert\n",
"w = Werk(artikelnummer=\"1234\", preis=42.17,\n",
"         ersteller=\"Peter Mueller\", titel=\"Zur Bedeutung von GP1\",)\n",
"print(w.show_info())"
]
    },{
     "cell_type": "markdown",
     "metadata": {
        "slideshow": {
           "slide_type": "slide"
         } 
     }, 
     "source": ["# Unterklasse `Werk`: `show_info` &#x2013; Oberklasse mitbenutzen\n",
"\n",
"-   Oder in `Werk.show_info` Methode `Artikel.show_info` nutzen\n",
"    -   **Don't repeat yourself!**"
]
    },{
     "cell_type": "code",
     "metadata": {
        "slideshow": {
           "slide_type": "-"
         } 
     }, 
"outputs": [],
"execution_count": null,
     "source": ["class Artikel:\n",
"    def __init__(self, artikelnummer, preis):\n",
"        self.artikelnummer = artikelnummer\n",
"        self.preis = preis\n",
"\n",
"    def show_info(self):\n",
"        return \"Artikel {} zu {}€\".format(self.artikelnummer,\n",
"                                  self.preis)\n",
"\n",
"class Werk(Artikel):\n",
"    def __init__(self, ersteller, titel, *args, **kwargs):\n",
"        # Oberklassen-Konstruktor aufrufen: \n",
"        super().__init__(*args, **kwargs)\n",
"        self.ersteller = ersteller\n",
"        self.titel = titel\n",
"\n",
"    def show_info(self):\n",
"        return \"'{}' von {} ({})\".format(\n",
"            self.titel,\n",
"            self.ersteller,\n",
"            super().show_info())\n",
"\n",
"# Ein Werk wird mit vier Parametern initialisiert\n",
"w = Werk(artikelnummer=\"1234\", preis=42.17,\n",
"         ersteller=\"Peter Mueller\", titel=\"Zur Bedeutung von GP1\",)\n",
"print(w.show_info())"
]
    },{
     "cell_type": "markdown",
     "metadata": {
        "slideshow": {
           "slide_type": "slide"
         } 
     }, 
     "source": ["# Don't repeat yourself"
]
    },{
     "cell_type": "markdown",
     "metadata": {
        "slideshow": {
           "slide_type": "-"
         } 
     }, 
     "source": ["<div class=\"definition-head\" style=\"border:3px; border-style:solid; border-color:#5da9e9; padding: 5px; background-color:#5da9e9;  line-height:1.5em; text-align:center; border-radius: 15px 15px 0px 0px; margin-bottom: 0; width: 100%;\"><b>Definition: Don't repeat yourself (DRY)<a id=\"orgheadline60\"></a></b></div>\n",
"\n",
"Ein Prinzip der Software-Entwicklung: Every piece of knowledge must\n",
"have a single, unambiguous, authoritative representation within a\n",
"system. (Hunt & Thomas, Practical Programmer)\n",
"\n",
"Bezieht sich auf viele Arten von Dokumenten: Quellcode, Dokumentation,\n",
"Tests, Übersetzungssysteme, &#x2026; \n",
"\n",
"Gegensatz: Write everything twice (WET) (auch: we enjoy typing, waste\n",
"everybody's time). \n",
"\n",
"<div class=\"definition-content\" style=\"border:3px; border-style:solid; border-color:#5da9e9; padding: 5px; margin-top: 0; border-radius: 0px 0px 15px 15px; width: 100%; text-align:left\"></div>"
]
    },{
     "cell_type": "markdown",
     "metadata": {
        "slideshow": {
           "slide_type": "slide"
         } 
     }, 
     "source": ["# str mitbenutzen?\n",
"\n",
"Was wird hier ausgeben? Warum? "
]
    },{
     "cell_type": "code",
     "metadata": {
        "slideshow": {
           "slide_type": "-"
         } 
     }, 
"outputs": [],
"execution_count": null,
     "source": ["%%tutor -t\n",
"class Artikel:\n",
"    def __init__(self, artikelnummer, preis):\n",
"        self.artikelnummer = artikelnummer\n",
"        self.preis = preis\n",
"\n",
"    def show_info(self):\n",
"        return \"Artikel {} zu {}€\".format(self.artikelnummer,\n",
"                                  self.preis)\n",
"\n",
"    def __str__(self):\n",
"        return self.show_info()\n",
"\n",
"class Werk(Artikel):\n",
"    def __init__(self, ersteller, titel, *args, **kwargs):\n",
"        # Oberklassen-Konstruktor aufrufen: \n",
"        super().__init__(*args, **kwargs)\n",
"        self.ersteller = ersteller\n",
"        self.titel = titel\n",
"\n",
"    def show_info(self):\n",
"        return \"'{}' von {} ({})\".format(\n",
"            self.titel,\n",
"            self.ersteller,\n",
"            super().show_info())\n",
"\n",
"# Ein Werk wird mit vier Parametern initialisiert\n",
"w = Werk(artikelnummer=\"1234\", preis=42.17,\n",
"         ersteller=\"Peter Mueller\", titel=\"Zur Bedeutung von GP1\",)\n",
"print(w)"
]
    },{
     "cell_type": "markdown",
     "metadata": {
        "slideshow": {
           "slide_type": "slide"
         } 
     }, 
     "source": ["# Beispiel: `is-a`, Kompatibilität\n",
"\n",
"Funktioniert das? "
]
    },{
     "cell_type": "code",
     "metadata": {
        "slideshow": {
           "slide_type": "-"
         } 
     }, 
"outputs": [],
"execution_count": null,
     "source": ["class A():\n",
"    pass\n",
"\n",
"class B(A):\n",
"    def f():\n",
"        print(\"f in B\")\n",
"\n",
"a = A()\n",
"a.f()"
]
    },{
     "cell_type": "markdown",
     "metadata": {
        "slideshow": {
           "slide_type": "fragment"
         } 
     }, 
     "source": ["## Pingo!<a id=\"orgheadline63\"></a>"
]
    },{
     "cell_type": "code",
     "metadata": {
        "slideshow": {
           "slide_type": "-"
         } 
     }, 
"outputs": [],
"execution_count": null,
     "source": ["pingo_title = \"Funktioniert das?\" \n",
"pingo_questions = [\"Ja\", \"Nein\"]\n",
"\n",
"%pingo"
]
    },{
     "cell_type": "markdown",
     "metadata": {
        "slideshow": {
           "slide_type": "slide"
         } 
     }, 
     "source": ["# Anmerkung: Dynamische Bindung\n",
"\n",
"-   Vorherige Folie zeigt Beispiel, wie die richtige Methode\n",
"    **dynamisch**, passierend auf dem vorliegenden Objekt, ausgewählt wird\n",
"    -   Bindung: Auswahl der richtigen Methodenimplementation für\n",
"        Methodenaufruf\n",
"-   In Python ist das der natürlich Vorgang\n",
"-   Andere Programmiersprachen kennen noch *statische Bindung*, was in\n",
"    der Regel zu Verwirrung führt"
]
    },{
     "cell_type": "markdown",
     "metadata": {
        "slideshow": {
           "slide_type": "slide"
         } 
     }, 
     "source": ["# Beispiel: Dynamische Bindung in Klassenhierarchie\n",
"\n",
"Was ist die Ausgabe? "
]
    },{
     "cell_type": "code",
     "metadata": {
        "slideshow": {
           "slide_type": "-"
         } 
     }, 
"outputs": [],
"execution_count": null,
     "source": ["class A:\n",
"    def __str__(self):\n",
"        return \"A\"\n",
"\n",
"class B(A):\n",
"    pass\n",
"\n",
"class B1(B):\n",
"    def __str__(self):\n",
"        return \"B1\"\n",
"\n",
"class B2(B):\n",
"    pass\n",
"\n",
"class C(A):\n",
"    def __str__(self):\n",
"        return \"C\"\n",
"\n",
"class C1(C):\n",
"    def __str__(self):\n",
"        return \"C1\"\n",
"\n",
"class C2(C):\n",
"    pass\n",
"\n",
"class C3(C):\n",
"    def __str__(self):\n",
"        return super().__str__()\n",
"\n",
"for l in [A(), B(), B1(), B2(), C(), C1(), C2(), C3()]:\n",
"    print(l, end=\", \")"
]
    },{
     "cell_type": "code",
     "metadata": {
        "slideshow": {
           "slide_type": "-"
         } 
     }, 
"outputs": [],
"execution_count": null,
     "source": ["pingo_title = \"Was ist die Ausgabe?\" \n",
"pingo_questions = [\"A, A, B1, A, C, C1, C, C, \", \"A, B, B1, B2, C, C1, C2, C2, \", \"A, A, B1, B2, C, C1, C1, C3, \",\n",
"]\n",
"pingo_duration = \"180\"\n",
"\n",
"%pingo"
]
    },{
     "cell_type": "markdown",
     "metadata": {
        "slideshow": {
           "slide_type": "slide"
         } 
     }, 
     "source": ["<h1>Overview</h1> \n",
"\n",
"1. Überblick\n",
"1. Verwandtschaft zwischen Dingen/Konzepten\n",
"1. Verwandtschaft zwischen Klassen\n",
"1. Vererbung in Python\n",
"1. **<font color=\"red\">Reflektion</font>**\n",
"1. Sichtbarkeit\n",
"1. getter/setter\n",
"1. Fehlerhafte Nutzung?\n",
"1. Gute Nutzung? Entwurf mit Klassen?\n",
"1. Zusammenfassung"
]
    },{
     "cell_type": "markdown",
     "metadata": {
        "slideshow": {
           "slide_type": "slide"
         } 
     }, 
     "source": ["# Veranschaulichung: `isinstance` und `__class__`, `__name__`\n",
"\n",
"Zur Veranschalichung und Fehlersuche: \n",
"\n",
"-   Eingebaute Funktion `isinstance`\n",
"    -   Argumente: Objekt und Klasse\n",
"    -   Wahr, wenn Objekt ein Objekt der Klasse ist oder einer seiner\n",
"        Unterklassen\n",
"-   Vordefiniertes Attribut `__class__` eines Objektes\n",
"    -   Liefert eine Referenz auf die Klasse (als ein Klassenobjekt)\n",
"-   Vordefiniertes Attribut `__name__` einer Klasse\n",
"    -   Liefert den Namen der Klasse als String\n",
"    -   Also: `c.__class__.__name__` ist Name der Klasse des Objektes `c`"
]
    },{
     "cell_type": "markdown",
     "metadata": {
        "slideshow": {
           "slide_type": "slide"
         } 
     }, 
     "source": ["# Veranschaulichung: `isinstance` und `__class__`, `__name__` &#x2013; Beispiel"
]
    },{
     "cell_type": "code",
     "metadata": {
        "slideshow": {
           "slide_type": "-"
         } 
     }, 
"outputs": [],
"execution_count": null,
     "source": ["class A: pass\n",
"\n",
"class B(A): pass \n",
"\n",
"class B1(B): pass\n",
"\n",
"class B2(B): pass\n",
"\n",
"class C(A): pass\n",
"\n",
"class C1(C): pass \n",
"\n",
"class C2(C): pass \n",
"\n",
"class C3(C): pass \n",
"\n",
"for l in [A(), B(), B1(), B2(), C(), C1(), C2(), C3()]:\n",
"    print(\"{} von Klasse {}: \".format(l,\n",
"                                      l.__class__.__name__),\n",
"                                      end=\"\")\n",
"    print(\"is-a A: {}; \". format(isinstance(l, A)), end=\"\") \n",
"    print(\"is-a B: {}; \". format(isinstance(l, B)), end=\"\") \n",
"    print(\"is-a C: {}\". format(isinstance(l, C)))"
]
    },{
     "cell_type": "markdown",
     "metadata": {
        "slideshow": {
           "slide_type": "slide"
         } 
     }, 
     "source": ["# Veranschaulichung: `isinstance` und `__class__`, `__name__` &#x2013; Beispiel mit `__str__`\n",
"\n",
"Mit einer `__str()__`-Methode in `A`: "
]
    },{
     "cell_type": "code",
     "metadata": {
        "slideshow": {
           "slide_type": "-"
         } 
     }, 
"outputs": [],
"execution_count": null,
     "source": ["class A:\n",
"    def __str__(self):\n",
"        return \"Objekt von {}; \".format(self.__class__.__name__)\n",
"\n",
"class B(A): pass \n",
"\n",
"class B1(B): pass\n",
"\n",
"class B2(B): pass\n",
"\n",
"class C(A): pass\n",
"\n",
"class C1(C): pass \n",
"\n",
"class C2(C): pass \n",
"\n",
"class C3(C): pass \n",
"\n",
"for l in [A(), B(), B1(), B2(), C(), C1(), C2(), C3()]:\n",
"    print(l, end=\"\")\n",
"    print(\"is-a A: {}; \". format(isinstance(l, A)), end=\"\") \n",
"    print(\"is-a B: {}; \". format(isinstance(l, B)), end=\"\") \n",
"    print(\"is-a C: {}\". format(isinstance(l, C)))"
]
    },{
     "cell_type": "markdown",
     "metadata": {
        "slideshow": {
           "slide_type": "slide"
         } 
     }, 
     "source": ["# Beginn der Klassenhierarchie: `object`\n",
"\n",
"Wo kommen  die Methoden wie `__str__`, `__eq__` etc. her? \n",
"\n",
"-   Waren bei jedem Objekt verfügbar\n",
"-   Müssten die nicht aus einer Oberklasse kommen?"
]
    },{
     "cell_type": "markdown",
     "metadata": {
        "slideshow": {
           "slide_type": "fragment"
         } 
     }, 
     "source": ["## Oberste Oberklasse: `object`<a id=\"orgheadline70\"></a>\n",
"\n",
"Ja! \n",
"\n",
"-   Jede Klasse hat eine Oberklasse `object`\n",
"-   Es muss nicht explizit von dieser ererbt werden\n",
"    -   (Explicit is better than implicit&#x2026; ??)\n",
"-   Damit: `isinstance(o, object) == True` für jedes Objekt"
]
    },{
     "cell_type": "markdown",
     "metadata": {
        "slideshow": {
           "slide_type": "slide"
         } 
     }, 
     "source": ["# Methoden, Attribute von `object` ?\n",
"\n",
"Und was kann `object`? Wie findet man die Methoden heraus?\n",
"\n",
"-   Option 1: Dokumentation lesen\n",
"-   Option 2: Die Klasse fragen!\n",
"\n",
"<center>![img](./figures/toaster.png \"Dokumentation lesen rettet Leben\")</center>"
]
    },{
     "cell_type": "markdown",
     "metadata": {
        "slideshow": {
           "slide_type": "slide"
         } 
     }, 
     "source": ["# `dir` einer Klasse, eines Objektes\n",
"\n",
"-   Eingebaute Funktion: `dir`\n",
"-   Anwendbar auf Klassen, Objekte\n",
"-   Gibt die bekannten Attribute als Liste zurück"
]
    },{
     "cell_type": "code",
     "metadata": {
        "slideshow": {
           "slide_type": "-"
         } 
     }, 
"outputs": [],
"execution_count": null,
     "source": ["print(\"Verzeichnis der Klasse object:\")\n",
"print(dir(object))\n",
"\n",
"class C:\n",
"    def bla(): pass\n",
"\n",
"c = C()\n",
"# Verzeichnis eins Objekts der Klasse C\n",
"print(dir(c))\n",
"# Gibt es eine Methode hallo in Klasse C? \n",
"print(\"hallo\" in dir(C))"
]
    },{
     "cell_type": "markdown",
     "metadata": {
        "slideshow": {
           "slide_type": "slide"
         } 
     }, 
     "source": ["# Attribute inspizieren: `getattr`\n",
"\n",
"Was wissen wir über `bla`? \n",
"\n",
"-   Eingebaute Funktion `getattr` liefert Information über Attribute\n",
"    einer Klasse, eines Objektes"
]
    },{
     "cell_type": "code",
     "metadata": {
        "slideshow": {
           "slide_type": "-"
         } 
     }, 
"outputs": [],
"execution_count": null,
     "source": ["class C:\n",
"    def bla(): pass\n",
"\n",
"c = C()\n",
"print(getattr(C, 'bla'))\n",
"print(getattr(c, 'bla'))"
]
    },{
     "cell_type": "markdown",
     "metadata": {
        "slideshow": {
           "slide_type": "slide"
         } 
     }, 
     "source": ["# Attribut hinzufügen: `setattr`\n",
"\n",
"Angenommen, wir möchten einer Klasse nachträglich eine Methode\n",
"hinzufügen:  "
]
    },{
     "cell_type": "code",
     "metadata": {
        "slideshow": {
           "slide_type": "-"
         } 
     }, 
"outputs": [],
"execution_count": null,
     "source": ["class C: pass \n",
"\n",
"def f(self):\n",
"    print(\"Hallo\")\n",
"\n",
"setattr(C, \"hallo\", f)\n",
"# oder auch knapper: C.hallo = f\n",
"c = C()\n",
"c.hallo()"
]
    },{
     "cell_type": "markdown",
     "metadata": {
        "slideshow": {
           "slide_type": "slide"
         } 
     }, 
     "source": ["# Insgesamt: Reflektion\n",
"\n",
"Hier betrachtete Funktionen, Attribute sind Beispiele für *Reflektion* "
]
    },{
     "cell_type": "markdown",
     "metadata": {
        "slideshow": {
           "slide_type": "-"
         } 
     }, 
     "source": ["<div class=\"definition-head\" style=\"border:3px; border-style:solid; border-color:#5da9e9; padding: 5px; background-color:#5da9e9;  line-height:1.5em; text-align:center; border-radius: 15px 15px 0px 0px; margin-bottom: 0; width: 100%;\"><b>Definition: Reflektion        (*Reflection*)<a id=\"orgheadline76\"></a></b></div>\n",
"\n",
"Reflektion ist die Fähigkeit eines Programms, seine eigene Struktur\n",
"und die Struktur seiner Daten zur Laufzeit zu untersuchen\n",
"(*introspection*) und ggf. zu\n",
"modifizieren (*modification*). \n",
"\n",
"Reflektion wird häufig zur Fehlersuche, Testen, Bewertung der\n",
"Leistungsfähigkeit, Integration ungünstig entworfener\n",
"Klassenhierachien, oder automatischer Dokumentationserstellung\n",
"benutzt. \n",
"\n",
"Introspection steht in vielen objektorientierten Programmiersprachen\n",
"zur Verfügung. Modification ist meist nur in dynamischen,\n",
"interpretierten Sprachen vollständig vorhanden. \n",
"\n",
"Mehr Details in VL GP2. \n",
"\n",
"<div class=\"definition-content\" style=\"border:3px; border-style:solid; border-color:#5da9e9; padding: 5px; margin-top: 0; border-radius: 0px 0px 15px 15px; width: 100%; text-align:left\"></div>"
]
    },{
     "cell_type": "markdown",
     "metadata": {
        "slideshow": {
           "slide_type": "slide"
         } 
     }, 
     "source": ["<h1>Overview</h1> \n",
"\n",
"1. Überblick\n",
"1. Verwandtschaft zwischen Dingen/Konzepten\n",
"1. Verwandtschaft zwischen Klassen\n",
"1. Vererbung in Python\n",
"1. Reflektion\n",
"1. **<font color=\"red\">Sichtbarkeit</font>**\n",
"1. getter/setter\n",
"1. Fehlerhafte Nutzung?\n",
"1. Gute Nutzung? Entwurf mit Klassen?\n",
"1. Zusammenfassung"
]
    },{
     "cell_type": "markdown",
     "metadata": {
        "slideshow": {
           "slide_type": "slide"
         } 
     }, 
     "source": ["# Zugriff auf Attribute, Methoden?\n",
"\n",
"-   Wer darf auf Attribute und Methoden eines Objektes zugreifen?\n",
"-   Einfach: Jeder, der eine Referenz auf das Objekt hat!\n",
"-   Sinnvoll?\n",
"    -   Sollte jeder Nutzer einer Klasse beliebig Daten ändern?\n",
"-   Beispiel: Binärbaum\n",
"    -   Nicht-triviale Struktur\n",
"    -   Vertrauen wir dem Nutzer des Binärbaums, die Struktur richtig zu\n",
"        behandeln?"
]
    },{
     "cell_type": "markdown",
     "metadata": {
        "slideshow": {
           "slide_type": "slide"
         } 
     }, 
     "source": ["# Optionen? Öffentlich vs. privat\n",
"\n",
"-   Option 1:\n",
"    -   Nur manche Methoden, Attribute einer Klasse *öffentlich* zugänglich machen\n",
"    -   Andere Methoden, Attribute können nur von Methoden der Klasse\n",
"        selbst benutzt werden (*private* Methoden, Attribute)\n",
"-   Option 2:\n",
"    -   Alles öffentlich zugänglich\n",
"    -   We are all consenting adults\n",
"-   Option 3 (Zwischenweg):\n",
"    -   Im Prinzip öffentlich, aber mit Hinweisen an Nutzer"
]
    },{
     "cell_type": "markdown",
     "metadata": {
        "slideshow": {
           "slide_type": "slide"
         } 
     }, 
     "source": ["# Python:  Hinweise an Nutzer durch Namenskonvention\n",
"\n",
"-   Python wählt Option 3\n",
"-   Hinweise durch Konvention bei Namensgebung\n",
"-   Konvention: Führender Unterstrich\n",
"    -   Methoden, Attribute mit `_` zu Beginn *sollten* vom Nutzer einer\n",
"        Klasse nicht direkt aufgerufen, gelesen, verändert werden\n",
"    -   Aber der Nutzer *kann* das schon, wenn er denkt, er weiß was er\n",
"        tut &#x2026;"
]
    },{
     "cell_type": "markdown",
     "metadata": {
        "slideshow": {
           "slide_type": "slide"
         } 
     }, 
     "source": ["# With great power comes great responsibility\n",
"\n",
"<center>![img](./figures/greatpower.png \"With great power comes great responsibility\")</center>"
]
    },{
     "cell_type": "markdown",
     "metadata": {
        "slideshow": {
           "slide_type": "slide"
         } 
     }, 
     "source": ["# Sichtbarkeit\n",
"\n",
"-   Formal: Programmiersprachen haben unterschiedliche Ansätze zu\n",
"    *Sichtbarkeit* von Methoden, Attributen"
]
    },{
     "cell_type": "markdown",
     "metadata": {
        "slideshow": {
           "slide_type": "fragment"
         } 
     }, 
     "source": ["<div class=\"note-head\" style=\"border:3px; border-style:solid; border-color:#d1cfcf; padding: 5px; background-color:#d1cfcf;  line-height:1.5em; text-align:center; border-radius: 15px 15px 0px 0px; margin-bottom: 0; width: 100%;\"><b>Bemerkung: Sichtbarkeit<a id=\"orgheadline82\"></a></b></div>\n",
"\n",
"Python hat ein sehr offenes Modell von Sichtbarkeit &#x2013; der\n",
"Programmierer hat hier die Verantwortung, sinnvoll mit diesen\n",
"Möglichkeiten umzugehen. \n",
"\n",
"Andere Programmiersprachen haben ein elaboriertes System\n",
"eingeschränkten Zugriffs auf Attribute und Methoden. Das ist manchmal\n",
"nützlich, macht die Sprachen und das Objektmodell aber *deutlich*\n",
"komplizierter. \n",
"\n",
"Wir schauen uns das bei Java noch genauer an. \n",
"\n",
"<div class=\"note-content\" style=\"border:3px; border-style:solid; border-color:#d1cfcf; padding: 5px; margin-top: 0;  line-height:1.5em; border-radius: 0px 0px 15px 15px; width: 100%; text-align:left\"></div> "
]
    },{
     "cell_type": "markdown",
     "metadata": {
        "slideshow": {
           "slide_type": "slide"
         } 
     }, 
     "source": ["<h1>Overview</h1> \n",
"\n",
"1. Überblick\n",
"1. Verwandtschaft zwischen Dingen/Konzepten\n",
"1. Verwandtschaft zwischen Klassen\n",
"1. Vererbung in Python\n",
"1. Reflektion\n",
"1. Sichtbarkeit\n",
"1. **<font color=\"red\">getter/setter</font>**\n",
"1. Fehlerhafte Nutzung?\n",
"1. Gute Nutzung? Entwurf mit Klassen?\n",
"1. Zusammenfassung"
]
    },{
     "cell_type": "markdown",
     "metadata": {
        "slideshow": {
           "slide_type": "slide"
         } 
     }, 
     "source": ["# Zugriff auf Attribute\n",
"\n",
"Frage: Gibt es Attribute eines Objektes, die an sich für den Nutzer\n",
"einer Klasse nicht unmittelbar nützlich  sind? \n",
"\n",
"-   Bei lesendem Zugriff:\n",
"    -   Die aufbereitet werden müssen?\n",
"    -   Für die Statistiken geführt werden sollen? (Z.B. Anzahl Zugriff)\n",
"-   Bei schreibendem Zugriff:\n",
"    -   Auf sinnvolle Werte prüfen?\n",
"    -   Bei denen mehrere Werte zueinander konsistent gehalten werden\n",
"        müssen?\n",
"    -   Für die Statistiken geführt werden sollen? (Z.B. Anzahl Zugriff)"
]
    },{
     "cell_type": "markdown",
     "metadata": {
        "slideshow": {
           "slide_type": "slide"
         } 
     }, 
     "source": ["# Zugriff auf Attribute: Beispiele\n",
"\n",
"-   Beispiel: Klasse Studenten\n",
"    -   Attribut Matrikelnummer (neben Name, Vorname, &#x2026;)\n",
"    -   Matrikelnummer hat Prüfziffer &#x2013; nur korrekte Matrikelnummer\n",
"        akzeptieren\n",
"-   Beispiel: Klasse Datum\n",
"    -   Attribute: Tag, Monat, Jahr\n",
"    -   Schreibender Zugriff: Tag=31 nicht in allen Monaten sinnvoll;\n",
"        Konsistenz prüfen\n",
"-   Beispiel: Klasse Temperatur\n",
"    -   Attribut: Temperatur, in Kelvin\n",
"    -   Lesender/schreibender Zugriff auf Temperatur, in Grad Celsius\n",
"    -   Ist das ein neues Attribut? Oder nur umrechnen? Gleiche Syntax?"
]
    },{
     "cell_type": "markdown",
     "metadata": {
        "slideshow": {
           "slide_type": "slide"
         } 
     }, 
     "source": ["# Naiver Ansatz: Nach Attribut-Zugriff, Methodenaufruf vorschreiben\n",
"\n",
"-   Eine naive Idee: Nutzer der Klasse aufgefordert, nach\n",
"    Attributzugriff eine Methode aufzurufen\n",
"    -   Die dann ggf. Fehlermeldungen liefert"
]
    },{
     "cell_type": "code",
     "metadata": {
        "slideshow": {
           "slide_type": "-"
         } 
     }, 
"outputs": [],
"execution_count": null,
     "source": ["class C:\n",
"    \"\"\"Invariante: Attribut x darf nur ungerade Zahlen enthalten\"\"\"\n",
"    def __init__(self):\n",
"        self.x = 17\n",
"\n",
"    def repair(self):\n",
"        # check x is odd\n",
"        if x % 2:\n",
"            return \"Fehler\"\n",
"\n",
"c = C()        \n",
"c.x = 2\n",
"c.repair()"
]
    },{
     "cell_type": "markdown",
     "metadata": {
        "slideshow": {
           "slide_type": "fragment"
         } 
     }, 
     "source": ["## Absurd!<a id=\"orgheadline86\"></a>\n",
"\n",
"-   Zu eingeschränkt\n",
"-   Fehleranfällig wegen vergesslicher Programmierer"
]
    },{
     "cell_type": "markdown",
     "metadata": {
        "slideshow": {
           "slide_type": "slide"
         } 
     }, 
     "source": ["# Nötig: Attribute hinter Methoden verbergen\n",
"\n",
"-   Per Konvention: Attribut bekommt einen Unterstrich vorangestellt\n",
"    -   Sollte also nicht direkt benutzt werden\n",
"-   Dann aber (typischerweise) nötig:\n",
"    -   Methode zum Lesen des Attributs (*get*)\n",
"    -   Methode zum Schreiben des Attributs (*set*)"
]
    },{
     "cell_type": "markdown",
     "metadata": {
        "slideshow": {
           "slide_type": "fragment"
         } 
     }, 
     "source": ["## Pro Attribute: *getter* und *setter*<a id=\"orgheadline88\"></a>\n",
"\n",
"-   Pro solch geschütztem Attribut: eine sog. *getter*, eine *setter*\n",
"      Methode\n",
"-   Ggf. auch eine *delete*-Methode"
]
    },{
     "cell_type": "markdown",
     "metadata": {
        "slideshow": {
           "slide_type": "slide"
         } 
     }, 
     "source": ["# *getter* und *setter* &#x2013; Beispiel Student"
]
    },{
     "cell_type": "code",
     "metadata": {
        "slideshow": {
           "slide_type": "-"
         } 
     }, 
"outputs": [],
"execution_count": null,
     "source": ["class Student:\n",
"    def __init__(self):\n",
"        # Achten Sie auf Unterstrich: \n",
"        self._matrikelnummer = None\n",
"\n",
"    def get_matrikelnummer(self):\n",
"        # Keine besonderen Vorkehrungen beim Lesen nötig \n",
"        return self._matrikelnummer\n",
"\n",
"    def set_matrikelnummer(self, value):\n",
"        if value hat richtige Pruefziffer:\n",
"            self._matrikelnummer = value\n",
"            return None\n",
"        else:\n",
"            return \"Error\"\n",
"\n",
"s = Student()\n",
"# So: \n",
"s.set_matrikelnummer(1234)\n",
"# Nicht so - möglich, aber dringend abgeraten:\n",
"s._matrikelnummer = 1234"
]
    },{
     "cell_type": "markdown",
     "metadata": {
        "slideshow": {
           "slide_type": "fragment"
         } 
     }, 
     "source": ["## Anmerkung: Fehlerbehandlung<a id=\"orgheadline90\"></a>\n",
"\n",
"Vorsicht, die Fehlerbehandlung in diesen Beispiel ist nicht\n",
"praktikabel. Wir brauchen dazu noch das Konzept der *Exceptions* &#x2013;\n",
"siehe nächstes Kapitel! "
]
    },{
     "cell_type": "markdown",
     "metadata": {
        "slideshow": {
           "slide_type": "slide"
         } 
     }, 
     "source": ["# *getter* und *setter* &#x2013; Beispiel Temperatur\n",
"\n",
"Temperatur-Beispiel folgt grob  [dieser Webseite](http://www.programiz.com/python-programming/property). "
]
    },{
     "cell_type": "code",
     "metadata": {
        "slideshow": {
           "slide_type": "-"
         } 
     }, 
"outputs": [],
"execution_count": null,
     "source": ["class Temperature:\n",
"    def __init__(self, temp=0):\n",
"        # rufe setter auch uns Methode der Klasse auf: \n",
"        self.set_temperature(temp)\n",
"\n",
"    def get_temperature(self):\n",
"        return self._temperature\n",
"\n",
"    def set_temperature(self, value):\n",
"        if value < 0:\n",
"            return \"Error\"\n",
"        else:\n",
"            self._temperature = value\n",
"\n",
"t1 = Temperature(17)\n",
"print(t1.get_temperature())\n",
"t1.set_temperature(4242)\n",
"print(t1.get_temperature())\n",
"t1.set_temperature(-99)\n",
"print(t1.get_temperature())"
]
    },{
     "cell_type": "markdown",
     "metadata": {
        "slideshow": {
           "slide_type": "slide"
         } 
     }, 
     "source": ["# *getter* und *setter* &#x2013; Beispiel Temperatur: Scheinattribute hinzufügen\n",
"\n",
"-   Grad Celsius zusätzlich zu Kelvin?\n",
"-   Getter und setter für Celsius\n",
"    -   Aber wir nutzen nur *ein* Temperatur-Attribut!"
]
    },{
     "cell_type": "code",
     "metadata": {
        "slideshow": {
           "slide_type": "-"
         } 
     }, 
"outputs": [],
"execution_count": null,
     "source": ["class Temperature:\n",
"    def __init__(self, temp=0):\n",
"        # rufe setter auch uns Methode der Klasse auf: \n",
"        self.set_temperature(temp)\n",
"\n",
"    def get_temperature(self):\n",
"        return self._temperature\n",
"\n",
"    def set_temperature(self, value):\n",
"        if value < 0:\n",
"            return \"Error\"\n",
"        else:\n",
"            self._temperature = value\n",
"\n",
"    # Ein weiteres getter/setter-Paar:\n",
"    def get_celsius(self):\n",
"        return self.get_temperature() - 273\n",
"\n",
"    def set_celsius(self, value):\n",
"        return self.set_temperature(value + 273)\n",
"\n",
"t1 = Temperature(17)\n",
"print(t1.get_temperature())\n",
"t1.set_celsius(100)\n",
"print(\"In Kelvin:\",  t1.get_temperature())\n",
"print(\"In Celsius:\", t1.get_celsius())"
]
    },{
     "cell_type": "markdown",
     "metadata": {
        "slideshow": {
           "slide_type": "slide"
         } 
     }, 
     "source": ["# Getter und Setter &#x2013; syntaktisch schöner?\n",
"\n",
"-   Getter und Setter-Methoden sind extrem praktisch für\n",
"    Klassenentwickler\n",
"-   Aber für Klassennutzer nicht schön zu benutzen\n",
"    -   Eigentlich will man die Attribute wie gewohnt nutzen **ohne**\n",
"            Methoden aufzurufen\n",
"    -   Beispiel:\n",
"        -   `t1.temperature = 17`\n",
"        -   `print(t1.temperature)`\n",
"-   Wie üblich: wichtige Sonderfälle verdienen Unterstützung durch\n",
"    Sprache"
]
    },{
     "cell_type": "markdown",
     "metadata": {
        "slideshow": {
           "slide_type": "slide"
         } 
     }, 
     "source": ["# Getter und Setter: *Property*\n",
"\n",
"-   Python unterstützt das getter/setter-Konzept explizit durch den\n",
"    *Property*-Mechanismus\n",
"    -   Zen: Explicit is better than implicit!\n",
"-   Idee:\n",
"    -   Wir koppeln explizit ein Attribut einer Klasse an eine Methode zum\n",
"        Lesen, eine andere Methode zum Schreiben\n",
"    -   Wird dann lesen/schreibend auf Attribute zugegriffen, werden\n",
"        stattdessen diese Methoden aufgerufen\n",
"-   Damit: Nutzung des Attributs syntaktisch wie zuvor; getter/setter\n",
"    für Nutzer *nicht sichtbar* (transparent)!"
]
    },{
     "cell_type": "markdown",
     "metadata": {
        "slideshow": {
           "slide_type": "slide"
         } 
     }, 
     "source": ["# Getter und Setter: *Property* &#x2013; Beispiel Temperature"
]
    },{
     "cell_type": "code",
     "metadata": {
        "slideshow": {
           "slide_type": "-"
         } 
     }, 
"outputs": [],
"execution_count": null,
     "source": ["class Temperature:\n",
"    def __init__(self, temp=0):\n",
"        # auch Methoden der Klasse greifen normal auf das Attribut zu: \n",
"        self._temperature = temp\n",
"\n",
"    def get_temperature(self):\n",
"        print(\"Lesender Zugriff\")\n",
"        return self._temperature\n",
"\n",
"    def set_temperature(self, value):\n",
"        print(\"Schreibender Zugriff\")\n",
"        if value < 0:\n",
"            return \"Error\"\n",
"        else:\n",
"            self._temperature = value\n",
"\n",
"    # Vereinbare Attribut temperature als eine Property:\n",
"    temperature = property(get_temperature,\n",
"                           set_temperature)\n",
"\n",
"t1 = Temperature(17)\n",
"print(t1.temperature) \n",
"t1.temperature = 42\n",
"print(t1.temperature)"
]
    },{
     "cell_type": "markdown",
     "metadata": {
        "slideshow": {
           "slide_type": "slide"
         } 
     }, 
     "source": ["# Weitere getter/setter: Celsius"
]
    },{
     "cell_type": "code",
     "metadata": {
        "slideshow": {
           "slide_type": "-"
         } 
     }, 
"outputs": [],
"execution_count": null,
     "source": ["class Temperature:\n",
"    def __init__(self, temp=0):\n",
"        # auch Methoden der Klasse greifen normal auf das Attribut zu: \n",
"        self._temperature = temp\n",
"\n",
"    def get_temperature(self):\n",
"        print(\"Lesender Zugriff\")\n",
"        return self._temperature\n",
"\n",
"    def set_temperature(self, value):\n",
"        print(\"Schreibender Zugriff\")\n",
"        if value < 0:\n",
"            return \"Error\"\n",
"        else:\n",
"            self._temperature = value\n",
"\n",
"    # Vereinbare Attribut temperature als eine Property:\n",
"    temperature = property(get_temperature,\n",
"                           set_temperature)\n",
"\n",
"    # Eine zweite Property:\n",
"    def get_celsius(self):\n",
"        return self._temperature - 273\n",
"\n",
"    def set_celsius(self, val):\n",
"        self._temperature = val + 273\n",
"\n",
"    celsius = property(get_celsius, set_celsius) \n",
"\n",
"t1 = Temperature(273)\n",
"print(t1.celsius)"
]
    },{
     "cell_type": "markdown",
     "metadata": {
        "slideshow": {
           "slide_type": "slide"
         } 
     }, 
     "source": ["# Ablauf &#x2013; Verständnisfrage\n",
"\n",
"Was passiert hier, warum? "
]
    },{
     "cell_type": "code",
     "metadata": {
        "slideshow": {
           "slide_type": "-"
         } 
     }, 
"outputs": [],
"execution_count": null,
     "source": ["class Temperature:\n",
"    def __init__(self, temp=0):\n",
"        # auch Methoden der Klasse greifen normal auf das Attribut zu: \n",
"        self._temperature = temp\n",
"\n",
"    # Vereinbare Attribut temperature als eine Property:\n",
"    temperature = property(get_temperature,\n",
"                           set_temperature)\n",
"\n",
"    def get_temperature(self):\n",
"        print(\"Lesender Zugriff\")\n",
"        return self._temperature\n",
"\n",
"    def set_temperature(self, value):\n",
"        print(\"Schreibender Zugriff\")\n",
"        if value < 0:\n",
"            return \"Error\"\n",
"        else:\n",
"            self._temperature = value\n",
"\n",
"t1 = Temperature(273)"
]
    },{
     "cell_type": "markdown",
     "metadata": {
        "slideshow": {
           "slide_type": "slide"
         } 
     }, 
     "source": ["# Diskussion: Getter/setter vs. Property\n",
"\n",
"-   Inhaltlich erreicht man mit beiden Ansätzen im wesentlichen das\n",
"    gleiche\n",
"-   Properties mögen netter ausschauen, aber ist es das wert?"
]
    },{
     "cell_type": "markdown",
     "metadata": {
        "slideshow": {
           "slide_type": "fragment"
         } 
     }, 
     "source": ["## Vorteil von Properties: Legacy Code!<a id=\"orgheadline99\"></a>\n",
"\n",
"-   Mit Properties können Sie getter/setter-Funktionalität einer Klasse\n",
"    hinzufügen **ohne nutzenden Code zu ändern**!\n",
"-   Das ist mit bloßen getter/setter nicht möglich; Sie müssten alle\n",
"    Programme ändern, die Ihre Klasse nutzen\n",
"-   Formal: Wir mussten die *Schnittstelle* der Klasse nicht ändern und\n",
"    konnten trotzdem Funktionalität hinzufügen!"
]
    },{
     "cell_type": "markdown",
     "metadata": {
        "slideshow": {
           "slide_type": "slide"
         } 
     }, 
     "source": ["# Schnittstelle  (Interface)\n",
"\n",
"Allgemeiner: Durch die Nutzung von Properties mussten wir die\n",
"***Schnittstelle*** der Klasse nicht ändern. "
]
    },{
     "cell_type": "markdown",
     "metadata": {
        "slideshow": {
           "slide_type": "-"
         } 
     }, 
     "source": ["<div class=\"definition-head\" style=\"border:3px; border-style:solid; border-color:#5da9e9; padding: 5px; background-color:#5da9e9;  line-height:1.5em; text-align:center; border-radius: 15px 15px 0px 0px; margin-bottom: 0; width: 100%;\"><b>Definition: Schnittstelle (Interface)<a id=\"orgheadline101\"></a></b></div>\n",
"\n",
"Die *Schnittstelle* (das *Interface*) einer Klasse sind die allgemein\n",
"zugreifbaren Methoden (samt ihrer Signaturen) und Datenattribute der\n",
"Klasse.  Dies beinhaltet die Methoden/Daten evtl. benutzter\n",
"Oberklassen. \n",
"\n",
"Allgemein zugreifbar heißt hier: vom Zugriff wird nicht durch die\n",
"Konvention `_`  abgeraten. \n",
"\n",
"<div class=\"definition-content\" style=\"border:3px; border-style:solid; border-color:#5da9e9; padding: 5px; margin-top: 0; border-radius: 0px 0px 15px 15px; width: 100%; text-align:left\"></div>"
]
    },{
     "cell_type": "markdown",
     "metadata": {
        "slideshow": {
           "slide_type": "slide"
         } 
     }, 
     "source": ["<h1>Overview</h1> \n",
"\n",
"1. Überblick\n",
"1. Verwandtschaft zwischen Dingen/Konzepten\n",
"1. Verwandtschaft zwischen Klassen\n",
"1. Vererbung in Python\n",
"1. Reflektion\n",
"1. Sichtbarkeit\n",
"1. getter/setter\n",
"1. **<font color=\"red\">Fehlerhafte Nutzung?</font>**\n",
"1. Gute Nutzung? Entwurf mit Klassen?\n",
"1. Zusammenfassung"
]
    },{
     "cell_type": "markdown",
     "metadata": {
        "slideshow": {
           "slide_type": "slide"
         } 
     }, 
     "source": ["# Fehler in Methoden?\n",
"\n",
"Fehlerszenario: In Methode tritt Fehler auf \n",
"\n",
"-   Die Fehlerbehandlung in den Beispielen oben war sehr seltsam\n",
"-   Rückgabe eines Strings im Fehlerfall?\n",
"-   Keine Rückgabe wenn kein Fehler?"
]
    },{
     "cell_type": "code",
     "metadata": {
        "slideshow": {
           "slide_type": "-"
         } 
     }, 
"outputs": [],
"execution_count": null,
     "source": ["def set_temperature(self, value):\n",
"    if value < 0:\n",
"        return \"Error\"\n",
"    else:\n",
"        self._temperature = value"
]
    },{
     "cell_type": "markdown",
     "metadata": {
        "slideshow": {
           "slide_type": "slide"
         } 
     }, 
     "source": ["# Fehler bei falschen Methoden?\n",
"\n",
"Anderes Fehlerszenario:  Eine nicht vorhandene Methode wird aufgerufen \n",
"\n",
"Optionen? \n",
"\n",
"-   Ignorieren &#x2013; denkbar, aber gefährlich\n",
"    -   Viel Spaß bei Fählersuche!\n",
"-   Rückgabewert mit Fehlercode?\n",
"    -   Aber wie sollte die Rückgabe aussehen?\n",
"    -   Was, wenn der Aufrufer den zurückgegebenen Wert gar nicht\n",
"        auswertet?"
]
    },{
     "cell_type": "markdown",
     "metadata": {
        "slideshow": {
           "slide_type": "slide"
         } 
     }, 
     "source": ["# Fehlermechanismus\n",
"\n",
"Wir brauchen einen leistungsfähigeren Mechanismus, um mit Fehlern\n",
"umzugehen! \n",
"\n",
"Nächstes Kapitel: Exceptions! "
]
    },{
     "cell_type": "markdown",
     "metadata": {
        "slideshow": {
           "slide_type": "slide"
         } 
     }, 
     "source": ["<h1>Overview</h1> \n",
"\n",
"1. Überblick\n",
"1. Verwandtschaft zwischen Dingen/Konzepten\n",
"1. Verwandtschaft zwischen Klassen\n",
"1. Vererbung in Python\n",
"1. Reflektion\n",
"1. Sichtbarkeit\n",
"1. getter/setter\n",
"1. Fehlerhafte Nutzung?\n",
"1. **<font color=\"red\">Gute Nutzung? Entwurf mit Klassen?</font>**\n",
"1. Zusammenfassung"
]
    },{
     "cell_type": "markdown",
     "metadata": {
        "slideshow": {
           "slide_type": "slide"
         } 
     }, 
     "source": ["# Was gehört in eine Klasse?\n",
"\n",
"-   Bisher: Mechanismen, wie Klassen realisiert, umgesetzt werden\n",
"-   Spannende Frage:\n",
"    -   Wie nutzt man Klassen sinnvoll?\n",
"    -   Was ist eine *gute* Klassenhierarchie?\n",
"-   Hier: Nur ein paar Anhaltspunkte, Daumenregeln \n",
"    -   Siehe\n",
"        z.B. [Blog zu Software-Entwurf](http://blog.cleancoder.com/uncle-bob/2015/01/08/InterfaceConsideredHarmful.html)\n",
"    -   Details: VL Software-Entwurf"
]
    },{
     "cell_type": "markdown",
     "metadata": {
        "slideshow": {
           "slide_type": "slide"
         } 
     }, 
     "source": ["# Prinzip: Single Responsibility\n",
"\n",
"-   Eine Klasse sollte genau für einen Aspekt des Gesamtsystems\n",
"    verantwortlich sein \n",
"    -   Genauer: Es sollte nur einen Aspekt geben, dessen Veränderung eine\n",
"        Veränderung der Klasse erfordern könnte\n",
"-   Wenn nein: Teile die Klasse in Teilklassen auf\n",
"-   Beispiel: Ein Spiel, mit Regeln für Spielzüge und Regeln für Punkte\n",
"    -   Option 1: Eine Klasse, die beides macht\n",
"    -   Option 2:\n",
"        -   Eine Klasse für Zustand des Spiels und Züge\n",
"        -   Eine Klasse um Punkte zu berechnen"
]
    },{
     "cell_type": "markdown",
     "metadata": {
        "slideshow": {
           "slide_type": "slide"
         } 
     }, 
     "source": ["# Prinzip: Open-Closed (Meyer, 1988)\n",
"\n",
"-   Eine Klasse sollte offen für Erweiterungen sein, aber abgeschlossen\n",
"    gegenüber Veränderungen\n",
"    -   Grund: Eine Veränderung im Code einer Basisklasse könnte eine Kaskade\n",
"        an Änderungen in abgeleiteten Klassen erfordern\n",
"-   Kernpunkt: Wie wählt man die richtige Abstraktion für Basisklassen?\n",
"    -   Was ist Teil der Signatur der Basisklasse?"
]
    },{
     "cell_type": "markdown",
     "metadata": {
        "slideshow": {
           "slide_type": "slide"
         } 
     }, 
     "source": ["# Prinzip: Abhängigkeiten\n",
"\n",
"-   Abstraktionen sollten nicht von Details abhängen"
]
    },{
     "cell_type": "markdown",
     "metadata": {
        "slideshow": {
           "slide_type": "slide"
         } 
     }, 
     "source": ["# Wie ererbt man?\n",
"\n",
"-   Parameter sinnvoll durchreichen\n",
"    -   Siehe `*args` und `**kwargs` bei Konstruktor\n",
"-   Sorgfältig überlegen, wo Methoden der Oberklasse aufgerufen werden\n",
"    sollen/müssen"
]
    },{
     "cell_type": "markdown",
     "metadata": {
        "slideshow": {
           "slide_type": "slide"
         } 
     }, 
     "source": ["# Wie bereitet man Klasse auf Ableitung vor?\n",
"\n",
"-   Geeignete Methoden zum Überschreiben vorsehen\n",
"    -   Komplexe Methoden in Teilmethoden aufbrechen\n",
"    -   Lieber zu viele als zu wenige\n",
"    -   Leere Methoden!"
]
    },{
     "cell_type": "code",
     "metadata": {
        "slideshow": {
           "slide_type": "-"
         } 
     }, 
"outputs": [],
"execution_count": null,
     "source": ["class C():\n",
"    def k(self):\n",
"        # does not do anything\n",
"        # slot for subclasses to overwrite\n",
"        return \n",
"\n",
"    def m(self):\n",
"        #... do something\n",
"        self.k()\n",
"        #... do something"
]
    },{
     "cell_type": "markdown",
     "metadata": {
        "slideshow": {
           "slide_type": "slide"
         } 
     }, 
     "source": ["# Erben oder Besitzen? `is-a` oder `has-a`?\n",
"\n",
"-   Vererben (`is-a`): Wiederbenutzung, Adaption von Spezialfällen\n",
"-   Komposition (`has-a`, Aggregation): Zusammenfügen unterschiedlicher\n",
"    Objekte zu einem neuen Ganzen\n",
"-   Unterschiedliche Entwurfsaspekte!\n",
"    -   Ein Koch ist ein Spezialfall eines Angestellten\n",
"    -   Eine Pizzeria hat einen Koch (ein Koch ist keine Pizzeria)"
]
    },{
     "cell_type": "markdown",
     "metadata": {
        "slideshow": {
           "slide_type": "slide"
         } 
     }, 
     "source": ["<h1>Overview</h1> \n",
"\n",
"1. Überblick\n",
"1. Verwandtschaft zwischen Dingen/Konzepten\n",
"1. Verwandtschaft zwischen Klassen\n",
"1. Vererbung in Python\n",
"1. Reflektion\n",
"1. Sichtbarkeit\n",
"1. getter/setter\n",
"1. Fehlerhafte Nutzung?\n",
"1. Gute Nutzung? Entwurf mit Klassen?\n",
"1. **<font color=\"red\">Zusammenfassung</font>**"
]
    },{
     "cell_type": "markdown",
     "metadata": {
        "slideshow": {
           "slide_type": "slide"
         } 
     }, 
     "source": ["# Zusammenfassung\n",
"\n",
"-   Vererbung ist ein Kernmechanismus, um Software-Entwurf mit Klassen\n",
"    und Objekten leistungsfähig zu machen\n",
"    -   Wiederbenutzung von Code *mit Adaption und Erweiterung*\n",
"    -   Kapseln von Funktionalität in Basisklassen, schrittweise\n",
"        Spezialisierung\n",
"-   Unterklassen können Methoden der Oberklasse überschrieben und\n",
"    dadurch Funktionalität adaptieren oder ergänzen\n",
"-   Durch Vererbung entstehen Klassenhierarchien mit fortschreitender\n",
"    Spezialisierung und Adaptierung der Funktionalität\n",
"-   Konvention für die Nutzen von Attributen (Property)\n",
"-   Reflection als erweiterte Möglichkeit"
]
    },{
     "cell_type": "markdown",
     "metadata": {
        "slideshow": {
           "slide_type": "slide"
         } 
     }, 
     "source": ["# Spezialisierung und Generalisierung\n",
"\n",
"<center>![img](./figures/XKCD_The_General_Problem.png \"Klassen erlauben auch eine Verallgemeinerung\")</center>\n",
"\n",
"  "
]
 }
],
 "metadata": {
  "celltoolbar": "Slideshow",
  "livereveal": {
        "theme": "simple",
        "transition": "none"
    },
  "kernelspec": {
   "display_name": "Python 3",
   "language": "python",
   "name": "python3"
  },
  "language_info": {
   "codemirror_mode": {
    "name": "ipython",
    "version": 3
   },
   "file_extension": ".py",
   "mimetype": "text/x-python",
   "name": "python",
   "nbconvert_exporter": "python",
   "pygments_lexer": "ipython3",
   "version": "3.5.1"
  }
 },
 "nbformat": 4,
 "nbformat_minor": 0
}