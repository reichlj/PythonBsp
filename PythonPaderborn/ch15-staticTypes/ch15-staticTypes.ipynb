{
"cells": [
 {
     "cell_type": "markdown",
     "metadata": {
        "slideshow": {
           "slide_type": "slide"
         } 
     }, 
     "source": ["<h1>Kapitel 15: Von dynamischen zu statischen Typen</h1>\n",
"<p>Grundlagen der Programmierung 1<p><h2>Holger Karl</h2>\n",
" "
]
    },{
     "cell_type": "markdown",
     "metadata": {
        "slideshow": {
           "slide_type": "slide"
         } 
     }, 
     "source": ["<h1>Overview</h1> \n",
"\n",
"1. Überblick\n",
"1. Fehlerquellen in Python-Programmen\n",
"1. Erinnerung: Typsysteme\n",
"1. Statisch typisierte Sprachen -- Grundkonzepte\n",
"1. Vergleich: Dynamisch vs. statisch typisierte Sprachen\n",
"1. Zusammenfassung \n",
" \n",
""
]
    },{
     "cell_type": "markdown",
     "metadata": {
        "slideshow": {
           "slide_type": "slide"
         } 
     }, 
     "source": ["<h1>Overview</h1> \n",
"\n",
"1. **<font color=\"red\">Überblick</font>**\n",
"1. Fehlerquellen in Python-Programmen\n",
"1. Erinnerung: Typsysteme\n",
"1. Statisch typisierte Sprachen -- Grundkonzepte\n",
"1. Vergleich: Dynamisch vs. statisch typisierte Sprachen\n",
"1. Zusammenfassung"
]
    },{
     "cell_type": "markdown",
     "metadata": {
        "slideshow": {
           "slide_type": "skip"
         } 
     }, 
     "source": ["# Setup\n",
"\n",
"Main point here is to set up warnings properly for presentation and to\n",
"load tutormagic, so that we can later on use pythontutor for code\n",
"animations. "
]
    },{
     "cell_type": "code",
     "metadata": {
        "slideshow": {
           "slide_type": "skip"
         } 
     }, 
"outputs": [],
"execution_count": null,
     "source": ["%load_ext tutormagic\n",
"import warnings\n",
"warnings.filterwarnings('ignore', category=DeprecationWarning, module='.*/IPython/.*')"
]
    },{
     "cell_type": "markdown",
     "metadata": {
        "slideshow": {
           "slide_type": "slide"
         } 
     }, 
     "source": ["# Was bisher geschah\n",
"\n",
"-   Bisher haben wir mit Python ein Beispiel für eine *dynamisch und\n",
"    stark* typisierte Sprache angeschaut\n",
"-   Dies hatte erhebliche Vorteile: einfaches, elegantes Sprach-Design, \n",
"    kompakter Code, &#x2026;\n",
"-   Aber es hat auch Nachteile, insbes. kann es zur Laufzeit zu\n",
"    unnötigen Fehler führen"
]
    },{
     "cell_type": "markdown",
     "metadata": {
        "slideshow": {
           "slide_type": "slide"
         } 
     }, 
     "source": ["# Dieses Kapitel\n",
"\n",
"-   Wir legen den Grundstein für statisch typisierte Sprachen\n",
"-   Vor- und Nachteil zwischen dynamischen und statischen Typen\n",
"-   Wir nehmen hier Anlauf, um nicht in der Diskussion  von\n",
"    Java-Details den Blick für das Wesentliche zu verlieren\n",
"\n",
"-   Wesentliche Quellen:\n",
"    [L. Tratt, Dynamically  Typed Languages](http://tratt.net/laurie/research/pubs/html/tratt__dynamically_typed_languages/)\n",
"    und [Appeal of  dynamically-typed languages](https://gist.github.com/non/ec48b0a7343db8291b92)"
]
    },{
     "cell_type": "markdown",
     "metadata": {
        "slideshow": {
           "slide_type": "slide"
         } 
     }, 
     "source": ["<h1>Overview</h1> \n",
"\n",
"1. Überblick\n",
"1. **<font color=\"red\">Fehlerquellen in Python-Programmen</font>**\n",
"1. Erinnerung: Typsysteme\n",
"1. Statisch typisierte Sprachen -- Grundkonzepte\n",
"1. Vergleich: Dynamisch vs. statisch typisierte Sprachen\n",
"1. Zusammenfassung"
]
    },{
     "cell_type": "markdown",
     "metadata": {
        "slideshow": {
           "slide_type": "slide"
         } 
     }, 
     "source": ["# Vergleich inkompatibler Typen"
]
    },{
     "cell_type": "code",
     "metadata": {
        "slideshow": {
           "slide_type": "-"
         } 
     }, 
"outputs": [],
"execution_count": null,
     "source": ["import random \n",
"geheim = random.randint(1,11)\n",
"zahl = input(\"Rate meine geheime Zahl:\")\n",
"\n",
"if zahl == geheim:\n",
"    print(\"Richtig\")\n",
"elif zahl < geheim:\n",
"    print(\"Zu klein!\")\n",
"else:\n",
"    print(\"Zu groß!\")"
]
    },{
     "cell_type": "markdown",
     "metadata": {
        "slideshow": {
           "slide_type": "slide"
         } 
     }, 
     "source": ["# Operationen auf inkompatiblen Typen"
]
    },{
     "cell_type": "code",
     "metadata": {
        "slideshow": {
           "slide_type": "-"
         } 
     }, 
"outputs": [],
"execution_count": null,
     "source": ["x = 5\n",
"y = \"3\" \n",
"print(x-y)"
]
    },{
     "cell_type": "markdown",
     "metadata": {
        "slideshow": {
           "slide_type": "slide"
         } 
     }, 
     "source": ["# Aufruf nicht vorhandener Methoden"
]
    },{
     "cell_type": "code",
     "metadata": {
        "slideshow": {
           "slide_type": "-"
         } 
     }, 
"outputs": [],
"execution_count": null,
     "source": ["l = [1, 2, 3]\n",
"print(l.no_such_method())"
]
    },{
     "cell_type": "markdown",
     "metadata": {
        "slideshow": {
           "slide_type": "slide"
         } 
     }, 
     "source": ["# Aufruf von Methoden bei falschem Objekt"
]
    },{
     "cell_type": "code",
     "metadata": {
        "slideshow": {
           "slide_type": "-"
         } 
     }, 
"outputs": [],
"execution_count": null,
     "source": ["class C: pass\n",
"class D(C): \n",
"    def f(): pass\n",
"\n",
"c = C()\n",
"c.f()"
]
    },{
     "cell_type": "code",
     "metadata": {
        "slideshow": {
           "slide_type": "-"
         } 
     }, 
"outputs": [],
"execution_count": null,
     "source": ["Traceback (most recent call last):\n",
"  File \"<stdin>\", line 6, in <module>\n",
"AttributeError: 'C' object has no attribute 'f'"
]
    },{
     "cell_type": "markdown",
     "metadata": {
        "slideshow": {
           "slide_type": "slide"
         } 
     }, 
     "source": ["# Vermeidbar?\n",
"\n",
"-   Wären diese Fehler nicht vermeidbar gewesen?\n",
"    -   Mit einer besseren GP1-Vorlesung: Vielleicht!\n",
"-   Oder zumindest entdeckbar?\n",
"    -   Man muss ja nur den Programmcode anschauen um zu sehen, dass das\n",
"        nicht funktionieren kann\n",
"    -   Damit muss man doch nicht bis zur Laufzeit waren?"
]
    },{
     "cell_type": "markdown",
     "metadata": {
        "slideshow": {
           "slide_type": "slide"
         } 
     }, 
     "source": ["# Allgemeiner: Fehler vor Laufzeit aufdecken?\n",
"\n",
"-   Kann man Fehler in einem Programm bereits vor dem Start entdecken?\n",
"-   Während der Übersetzung?\n",
"-   Während das Programm noch beim Entwickler ist?\n",
"-   Fehler zur Laufzeit riskant!\n",
"    -   In einem Atomkraftwerk: `AttributeError: 'Reaktor' Object has no\n",
"            attribute emergency_shuddown`\n",
"    -   Millionen Tote wegen eines Tippfehlers (`shutdown`)??"
]
    },{
     "cell_type": "markdown",
     "metadata": {
        "slideshow": {
           "slide_type": "slide"
         } 
     }, 
     "source": ["# Problem bei dynamischen Sprachen: Fehlende Information\n",
"\n",
"Bei dynamischen Sprachen: Bei Übersetzung liegt noch nicht\n",
"(zwangsläufig)  genügend Information vor! \n",
"\n",
"-   Beispiele oben: Ja, das könnte man fehlende Information finden\n",
"-   Was ist mit diesem Beispiel &#x2013; Funktion in einem Modul definiert"
]
    },{
     "cell_type": "code",
     "metadata": {
        "slideshow": {
           "slide_type": "-"
         } 
     }, 
"outputs": [],
"execution_count": null,
     "source": ["def f(a, b):\n",
"    return a + b"
]
    },{
     "cell_type": "markdown",
     "metadata": {
        "slideshow": {
           "slide_type": "slide"
         } 
     }, 
     "source": ["<h1>Overview</h1> \n",
"\n",
"1. Überblick\n",
"1. Fehlerquellen in Python-Programmen\n",
"1. **<font color=\"red\">Erinnerung: Typsysteme</font>**\n",
"1. Statisch typisierte Sprachen -- Grundkonzepte\n",
"1. Vergleich: Dynamisch vs. statisch typisierte Sprachen\n",
"1. Zusammenfassung"
]
    },{
     "cell_type": "markdown",
     "metadata": {
        "slideshow": {
           "slide_type": "slide"
         } 
     }, 
     "source": ["# Stark typisierte Sprachen\n",
"\n",
"-   Zu jedem Wert gibt es einen Typ\n",
"-   Typ bestimmt die Menge der darauf durchführbaren Operationen\n",
"-   Nicht alle Operationen auf beliebige Kombinationen von Typen anwendbar\n",
"    -   Beispiel: 4 + '5' oder 17 > '18'  scheitert"
]
    },{
     "cell_type": "markdown",
     "metadata": {
        "slideshow": {
           "slide_type": "slide"
         } 
     }, 
     "source": ["# Erinnerung (Kapitel 3): Dynamisch typisierte Sprachen"
]
    },{
     "cell_type": "markdown",
     "metadata": {
        "slideshow": {
           "slide_type": "-"
         } 
     }, 
     "source": ["<div class=\"definition-head\" style=\"border:3px; border-style:solid; border-color:#5da9e9; padding: 5px; background-color:#5da9e9;  line-height:1.5em; text-align:center; border-radius: 15px 15px 0px 0px; margin-bottom: 0; width: 100%;\"><b>Definition: Dynamisch typisierte Programmiersprache<a id=\"orgheadline18\"></a></b></div>\n",
"\n",
"Eine Programmiersprache ist ***dynamisch typisiert***, wenn\n",
"Typen-Informationen für jeden Wert oder Ausdruck **zur Laufzeit** bekannt\n",
"sind. Diese Typen-Information ist im Programm-Code nicht explizit\n",
"repräsentiert und nicht  notwendigerweise aus ihm ableitbar. \n",
"\n",
"Python ist ein Beispiel. \n",
"\n",
"<div class=\"definition-content\" style=\"border:3px; border-style:solid; border-color:#5da9e9; padding: 5px; margin-top: 0; border-radius: 0px 0px 15px 15px; width: 100%; text-align:left\"></div>"
]
    },{
     "cell_type": "markdown",
     "metadata": {
        "slideshow": {
           "slide_type": "slide"
         } 
     }, 
     "source": ["# Erinnerung (Kapitel 3): Statisch typisierte Sprache"
]
    },{
     "cell_type": "markdown",
     "metadata": {
        "slideshow": {
           "slide_type": "-"
         } 
     }, 
     "source": ["<div class=\"definition-head\" style=\"border:3px; border-style:solid; border-color:#5da9e9; padding: 5px; background-color:#5da9e9;  line-height:1.5em; text-align:center; border-radius: 15px 15px 0px 0px; margin-bottom: 0; width: 100%;\"><b>Definition: Statisch typisierte Sprache<a id=\"orgheadline20\"></a></b></div>\n",
"\n",
"Eine Programmiersprache ist ***statisch typisiert*** wenn\n",
"Typen-Informationen für ***Variablen*** explizit im Programm-Code\n",
"angegeben werden müssen. Aus der Betrachtung des Programm-Codes kann\n",
"der Typ eines Wertes abgeleitet werden, bereits bevor das Programm\n",
"selbst abläuft.\n",
"\n",
"Meist (aber nicht unbedingt) wird in einer solchen Sprache auf die\n",
"explizite Repräsentation des Typs eines Wertes *zur Laufzeit*\n",
"verzichtet, da ja alle Informationen bereits vorab bekannt sind. \n",
"\n",
"Java ist ein Beispiel. \n",
"\n",
"<div class=\"definition-content\" style=\"border:3px; border-style:solid; border-color:#5da9e9; padding: 5px; margin-top: 0; border-radius: 0px 0px 15px 15px; width: 100%; text-align:left\"></div>"
]
    },{
     "cell_type": "markdown",
     "metadata": {
        "slideshow": {
           "slide_type": "slide"
         } 
     }, 
     "source": ["# Erinnerung: Compiler vs. Interpreter\n",
"\n",
"-   Ausführung: \n",
"    -   Anweisung ausführen:\n",
"        -   Die Zustandsänderung bestimmen, die die\n",
"            Anweisung bewirken soll\n",
"        -   Diese Zustandsänderung im Speicher durchführen\n",
"    -   Programm ausführen: Die Anweisungen des Programm ausführen\n",
"-   Interpreter: ein Programm in einer gegebenen Sprache Anweisung für\n",
"    Anweisung ausführen\n",
"    -   Ein Mikroprozessor ist ein Interpreter für Maschinensprache\n",
"-   Compiler: Ein Programm in einer Sprache in ein semantisch\n",
"    äquivalentes Programm in einer anderen Sprache überführen"
]
    },{
     "cell_type": "markdown",
     "metadata": {
        "slideshow": {
           "slide_type": "slide"
         } 
     }, 
     "source": ["# Erinnerung: Compiler vs. Interpreter\n",
"\n",
"-   Viele modernen Sprachen haben einen Compiler und einen\n",
"    Interpreter\n",
"    -   Überführung in Zwischensprache\n",
"    -   Interpretation dieser Zwischensprache\n",
"        -   (Oder auch: weitere Compilationsschritte, Just-in-Time\n",
"            Compilation)\n",
"    -   Beispiel: Java, Python, &#x2026;\n",
"-   Das ist orthogonal zu statisch vs. dynamisch typisiert!"
]
    },{
     "cell_type": "markdown",
     "metadata": {
        "slideshow": {
           "slide_type": "slide"
         } 
     }, 
     "source": ["<h1>Overview</h1> \n",
"\n",
"1. Überblick\n",
"1. Fehlerquellen in Python-Programmen\n",
"1. Erinnerung: Typsysteme\n",
"1. Statisch typisierte Sprachen -- Grundkonzepte\n",
"1. Vergleich: Dynamisch vs. statisch typisierte Sprachen\n",
"1. Zusammenfassung"
]
    },{
     "cell_type": "markdown",
     "metadata": {
        "slideshow": {
           "slide_type": "slide"
         } 
     }, 
     "source": ["# Grundidee\n",
"\n",
"-   *Variablen* bekommen einen Typ, nicht nur Werte\n",
"    -   Wir reden hier also nicht mehr (nur) von *Namen*\n",
"-   Damit ändert sich Interpretation:\n",
"    -   Nicht mehr nur  Namensschilder an  einem Wert\n",
"    -   Sondern: Eine Schachtel mit einer bestimmten Form\n",
"-   Der *Typ des Werts* muss mit dem *Typ der Variable* zusammenpassen\n",
"    -   Sozusagen: Wert muss in Form der Schachtel passen"
]
    },{
     "cell_type": "markdown",
     "metadata": {
        "slideshow": {
           "slide_type": "slide"
         } 
     }, 
     "source": ["# Variable"
]
    },{
     "cell_type": "markdown",
     "metadata": {
        "slideshow": {
           "slide_type": "-"
         } 
     }, 
     "source": ["<div class=\"definition-head\" style=\"border:3px; border-style:solid; border-color:#5da9e9; padding: 5px; background-color:#5da9e9;  line-height:1.5em; text-align:center; border-radius: 15px 15px 0px 0px; margin-bottom: 0; width: 100%;\"><b>Definition: Variable<a id=\"orgheadline25\"></a></b></div>\n",
"\n",
"Eine **Variable** besteht aus: \n",
"\n",
"-   Eine **Name** für eine Speicherstelle\n",
"-   Eine **Adresse**, um die Speicherstelle zu finden\n",
"-   Ein **Typ**\n",
"-   Ein **Wert**, der Inhalt der Speicherstelle\n",
"-   Ein **Gültigkeitsbereich** (Scope)\n",
"-   Eine **Lebensdauer**\n",
"\n",
"<div class=\"definition-content\" style=\"border:3px; border-style:solid; border-color:#5da9e9; padding: 5px; margin-top: 0; border-radius: 0px 0px 15px 15px; width: 100%; text-align:left\"></div>"
]
    },{
     "cell_type": "markdown",
     "metadata": {
        "slideshow": {
           "slide_type": "-"
         } 
     }, 
     "source": ["## Details<a id=\"orgheadline26\"></a>\n",
"\n",
"Siehe Vorlesung **Programmiersprachen** "
]
    },{
     "cell_type": "markdown",
     "metadata": {
        "slideshow": {
           "slide_type": "slide"
         } 
     }, 
     "source": ["# Zuweisungen an typisierte Variablen\n",
"\n",
"-   Also neu: auf der *linken* Seite einer Zuweisung steht nun eine\n",
"    Variable *mit Typ*\n",
"    -   Bisher: links steht nur ein Name *ohne* Typ\n",
"-   In beiden Fällen: rechts ein Ausdruck/Wert mit Typ"
]
    },{
     "cell_type": "markdown",
     "metadata": {
        "slideshow": {
           "slide_type": "fragment"
         } 
     }, 
     "source": ["## Zuweisungsregel: Typgerecht<a id=\"orgheadline28\"></a>\n",
"\n",
"Kernpunkt typisierter Sprachen: Zuweisungen müssen *typgerecht*\n",
"erfolgen \n",
"\n",
"-   Beispiele siehe unten"
]
    },{
     "cell_type": "markdown",
     "metadata": {
        "slideshow": {
           "slide_type": "slide"
         } 
     }, 
     "source": ["# Schachteln mit Form\n",
"\n",
"Visualisierung von Typen: \n",
"\n",
"-   Typ: Schachteln einer bestimmten Form\n",
"-   Variablen: prägt Speicherstelle eine Form auf\n",
"-   Werte als Boxen, Kreise\n",
"-   Werte müssen in Schachtel passen, sonst Zuweisung nicht erlaubt"
]
    },{
     "cell_type": "markdown",
     "metadata": {
        "slideshow": {
           "slide_type": "slide"
         } 
     }, 
     "source": ["# Zuweisung gleichen Typs\n",
"\n",
"-   Typ von Wert und Variable gleich: Kein Problem, Zuweisung erlaubt\n",
"\n",
"<center>![img](./uml/boxshapes-0.png \"Zuweisung von Wert an Variable gleichen Typs\")</center>"
]
    },{
     "cell_type": "markdown",
     "metadata": {
        "slideshow": {
           "slide_type": "slide"
         } 
     }, 
     "source": ["# Zuweisung inkompatibler Typen\n",
"\n",
"-   Versucht man Wert an Variable mit nicht passendem Typ zuzuweisen:\n",
"    Compiler erkennt das; Code wird nicht übersetzt\n",
"-   Beispiel: An eine Variable mit Typ `integer` eine Zeichenkette\n",
"    zuweisen\n",
"\n",
"<center>![img](./uml/boxshapes-1.png \"Zuweisung von Wert an Variable inkompatiblen Typs\")</center>"
]
    },{
     "cell_type": "markdown",
     "metadata": {
        "slideshow": {
           "slide_type": "slide"
         } 
     }, 
     "source": ["# Zuweisung inkompatibler Typen: Größe\n",
"\n",
"Was ist mit ähnlichen Typen, die aber unterschiedlich groß sind? \n",
"\n",
"-   Wesentliches Beispiel: Unterschiedliche Darstellungen von ganzen\n",
"    Zahlen\n",
"\n",
"<center>![img](./uml/boxshapes-6.png \"Wert kleinen Typs an  Variable großen Typs zuweisen gelingt\")</center>\n",
"\n",
"<center>![img](./uml/boxshapes-7.png \"Wert großen Typs an  Variable kleinen Typs zuweisen scheitert\")</center>"
]
    },{
     "cell_type": "markdown",
     "metadata": {
        "slideshow": {
           "slide_type": "slide"
         } 
     }, 
     "source": ["# Zuweisung inkompatibler Typen: Wert umbauen\n",
"\n",
"-   Aber wenn in der Zeichenkette eine Zahl enthalten ist?\n",
"    -   Wert umbauen in einen semantisch äquivalenten Wert eines anderen\n",
"        Typs?\n",
"    -   *Typumwandlung* (*type cast*)!\n",
"    -   Also: Aus Zeichenkette `42` (Buchstabe 4 und Buchstabe 2)  mache\n",
"        die Zahl 42"
]
    },{
     "cell_type": "markdown",
     "metadata": {
        "slideshow": {
           "slide_type": "slide"
         } 
     }, 
     "source": ["# Zuweisung inkompatibler Typen: Wert umbauen (2)\n",
"\n",
"<center>![img](./uml/boxshapes-2.png \"Umwandlung eines Wertes in einen entsprechenden Wert eines anderen Typs\")</center>"
]
    },{
     "cell_type": "markdown",
     "metadata": {
        "slideshow": {
           "slide_type": "slide"
         } 
     }, 
     "source": ["# Typumwandlung (type cast): Explizit oder implizit\n",
"\n",
"Type casts können explizit oder implizit sein: \n",
"\n",
"-   *Explizite* Type casts: Im Programm steht ausdrücklich, dass ein\n",
"    Wert in einen anderen Wert umgewandelt werden soll\n",
"-   *Implizite* Type casts:\n",
"    -   Rechts und links der Zuweisung gibt es (unterschiedliche) Typen\n",
"    -   Compiler sieht das bei Analyse des Programms\n",
"    -   Compiler versucht, selbst eine Funktion zur Umwandlung des\n",
"        gegebenen Typs in den Wunschtyp zu finden\n",
"    -   Kann kompliziert, überraschend sein!"
]
    },{
     "cell_type": "markdown",
     "metadata": {
        "slideshow": {
           "slide_type": "-"
         } 
     }, 
     "source": ["## Implizite Type-Casts, Beispiel<a id=\"orgheadline36\"></a>\n",
"\n",
"Was sollte hier wie umgewandelt werden?"
]
    },{
     "cell_type": "code",
     "metadata": {
        "slideshow": {
           "slide_type": "-"
         } 
     }, 
"outputs": [],
"execution_count": null,
     "source": ["print(\"Hallo \" + 1)"
]
    },{
     "cell_type": "markdown",
     "metadata": {
        "slideshow": {
           "slide_type": "fragment"
         } 
     }, 
     "source": ["## Typumwandlung in Ausdrücken<a id=\"orgheadline37\"></a>\n",
"\n",
"-   Ausdrücke: Zerlegen in Teilausdrücke; wie Zuweisung vorstellen"
]
    },{
     "cell_type": "markdown",
     "metadata": {
        "slideshow": {
           "slide_type": "slide"
         } 
     }, 
     "source": ["# Type cast bei Python"
]
    },{
     "cell_type": "markdown",
     "metadata": {
        "slideshow": {
           "slide_type": "-"
         } 
     }, 
     "source": ["## Explizit<a id=\"orgheadline39\"></a>\n",
"\n",
"Explizite type casts gibt es  auch bei Python\n",
"\n",
"-   Keine spezielle Eigenschaft einer statisch typisierten Sprache!\n",
"-   Notation:\n",
"    -   Ziel-Typ als Konstruktor benutzen\n",
"    -   Ausgangswert als Parameter des Konstruktors\n",
"-   Geht natürlich nur bei passenden Werten!"
]
    },{
     "cell_type": "code",
     "metadata": {
        "slideshow": {
           "slide_type": "-"
         } 
     }, 
"outputs": [],
"execution_count": null,
     "source": ["x = 42 + int(\"42\")\n",
"y = 42 + int(\"abc\")\n",
"print(\"Hallo \" + 1)"
]
    },{
     "cell_type": "markdown",
     "metadata": {
        "slideshow": {
           "slide_type": "-"
         } 
     }, 
     "source": ["## Implizit<a id=\"orgheadline40\"></a>\n",
"\n",
"-   Implizite Type casts haben allerdings kaum Sinn\n",
"    -   Lediglich bei numerischen Typen zwischen floats und ints\n",
"-   Und generell: *explicit is better than implicit*"
]
    },{
     "cell_type": "code",
     "metadata": {
        "slideshow": {
           "slide_type": "-"
         } 
     }, 
"outputs": [],
"execution_count": null,
     "source": ["print(type(5 + 6.5))"
]
    },{
     "cell_type": "markdown",
     "metadata": {
        "slideshow": {
           "slide_type": "slide"
         } 
     }, 
     "source": ["# Typen und Klassen?\n",
"\n",
"-   Klassen sind Typen!\n",
"-   Für Werte und Variablen, je nach Sprache"
]
    },{
     "cell_type": "markdown",
     "metadata": {
        "slideshow": {
           "slide_type": "slide"
         } 
     }, 
     "source": ["# Typen, Klassen und Vererbung?\n",
"\n",
"-   Verhältnis von Klassenhierarchien und typisierten Variablen?\n",
"-   Insbesondere: Wie schlägt sich das `is-a`-Prinzip nieder?"
]
    },{
     "cell_type": "markdown",
     "metadata": {
        "slideshow": {
           "slide_type": "slide"
         } 
     }, 
     "source": ["# Unterklasse und Oberklasse mit zusätzlicher Eigenschaft\n",
"\n",
"Zunächst: Visualisieren wir das Verhältnis von Ober- und Unterklasse \n",
"\n",
"-   Unterklasse ist Oberklasse mit zusätzlicher Eigenschaft\n",
"\n",
"<center>![img](./uml/boxshapes-3.png \"Verhältnis von Ober- und Unterklasse als Typen\")</center>"
]
    },{
     "cell_type": "markdown",
     "metadata": {
        "slideshow": {
           "slide_type": "slide"
         } 
     }, 
     "source": ["# Wert einer Oberklasse an Variable vom Typ Unterklasse zuweisen\n",
"\n",
"Was würde das bedeutet? \n",
"\n",
"-   Variable vom Typ Unterklasse verspricht: Ich enthalte ein Objekt dieser\n",
"    Unterklasse\n",
"    -   Alle Attribute (Methoden, Daten) der Unterklasse verfügbar\n",
"-   Ein Objekt der Oberklasse hat diese Attribute aber nicht!\n",
"-   Versprechen des Variablentyps würde gebrochen!\n",
"\n",
"Also: So eine Zuweisung **darf nicht** gelingen! \n",
"\n",
"<center>![img](./uml/boxshapes-4.png \"Zuweisung Oberklasenobjekt an Unterklasse-Variable scheitert\")</center>"
]
    },{
     "cell_type": "markdown",
     "metadata": {
        "slideshow": {
           "slide_type": "slide"
         } 
     }, 
     "source": ["# Wert einer Unterklasse an Variable vom Typ Oberklasse zuweisen\n",
"\n",
"-   Das Objekt der Unterklasse `is-a` Objekt der Oberklasse!\n",
"    -   Substitutionsprinzip: Objekte Unterklasse immer dort verwendbar,\n",
"        wo auch Objekt Oberklasse verwendbar\n",
"-   Also sollte das gelingen!\n",
"-   Variable vom Typ Oberklasse macht schwächere Versprechen!"
]
    },{
     "cell_type": "markdown",
     "metadata": {
        "slideshow": {
           "slide_type": "slide"
         } 
     }, 
     "source": ["# Wert einer Unterklasse an Variable vom Typ Oberklasse zuweisen (2)\n",
"\n",
"<center>![img](./uml/boxshapes-5.png \"Zuweisung Unterklassenobjekt an Oberklassen-Variable gelingt\")</center>"
]
    },{
     "cell_type": "markdown",
     "metadata": {
        "slideshow": {
           "slide_type": "slide"
         } 
     }, 
     "source": ["# Funktionsaufrufe: Parameter, Rückgabewerte\n",
"\n",
"-   Funktionen:\n",
"    -   Parameter bekommen einen Typ\n",
"    -   Rückgabewert bekommt Typ (ggf. den *leeren Typ*)\n",
"-   Aufruf einer Funktion:\n",
"    -   Zuweisung von Werten an die formalen Parameter\n",
"    -   Rückgabewert wird an Variable zugewiesen\n",
"    -   Unterliegt obigen Regeln\n",
"-   Und Methoden sind sowieso nur Funktionen"
]
    },{
     "cell_type": "markdown",
     "metadata": {
        "slideshow": {
           "slide_type": "slide"
         } 
     }, 
     "source": ["<h1>Overview</h1> \n",
"\n",
"1. Überblick\n",
"1. Fehlerquellen in Python-Programmen\n",
"1. Erinnerung: Typsysteme\n",
"1. Statisch typisierte Sprachen -- Grundkonzepte\n",
"1. **<font color=\"red\">Vergleich: Dynamisch vs. statisch typisierte Sprachen</font>**\n",
"1. Zusammenfassung"
]
    },{
     "cell_type": "markdown",
     "metadata": {
        "slideshow": {
           "slide_type": "slide"
         } 
     }, 
     "source": ["# Vorteile statischer Typsysteme\n",
"\n",
"Typische Vorteile: \n",
"\n",
"-   Fehlerdetektion: Compiler kann manche Fehler finden\n",
"-   Dokumentation durch Typen\n",
"-   Optimierung:\n",
"    -   Keine Prüfung der Typen zur Laufzeit nötig!\n",
"    -   Compiler kann Information über Typen nutzen, um besseren Code zu\n",
"        erzeugen\n",
"-   Werkzeuge:\n",
"    -   Können Typinformationen nutzen\n",
"    -   Beispiel IDE: die verfügbaren Methoden für eine Variable\n",
"        vorschlagen"
]
    },{
     "cell_type": "markdown",
     "metadata": {
        "slideshow": {
           "slide_type": "slide"
         } 
     }, 
     "source": ["# Nachteile statischer Typsysteme\n",
"\n",
"-   Komplizierte Typspezifikation\n",
"    -   Eigentlich: eine zweite Sprache, um Datentypen zu beschreiben\n",
"    -   Kann extrem kompliziert werden (Java: geht so; C++: Alptraum)\n",
"-   Korrektheit nicht unbedingt klar\n",
"    -   Typsystem kann sinnlose Zuweisungen erlauben\n",
"-   *Ossification*\n",
"\n",
"Siehe [Detail](http://tratt.net/laurie/research/pubs/html/tratt__dynamically_typed_languages/)s"
]
    },{
     "cell_type": "markdown",
     "metadata": {
        "slideshow": {
           "slide_type": "slide"
         } 
     }, 
     "source": ["# Das Beste zweier Welten?\n",
"\n",
"-   Kombinationen der Ansätze?\n",
"-   Einer dynamisch typisierten Sprache etwas mehr statische\n",
"    Typinformation beibringen?\n",
"    -   [Ansätze dazu für Python](https://www.python.org/dev/peps/pep-0484/)\n",
"-   Eine statisch typisierte Sprache dynamischer machen?\n",
"    -   Schwierig\n",
"    -   In gewissem Sinne: Reflection"
]
    },{
     "cell_type": "markdown",
     "metadata": {
        "slideshow": {
           "slide_type": "slide"
         } 
     }, 
     "source": ["<h1>Overview</h1> \n",
"\n",
"1. Überblick\n",
"1. Fehlerquellen in Python-Programmen\n",
"1. Erinnerung: Typsysteme\n",
"1. Statisch typisierte Sprachen -- Grundkonzepte\n",
"1. Vergleich: Dynamisch vs. statisch typisierte Sprachen\n",
"1. **<font color=\"red\">Zusammenfassung</font>**"
]
    },{
     "cell_type": "markdown",
     "metadata": {
        "slideshow": {
           "slide_type": "slide"
         } 
     }, 
     "source": ["# Zusammenfassung\n",
"\n",
"-   Dynamische und statisch typisierte Sprachen haben Berechtigung und\n",
"    Einsatzgebiet\n",
"-   Statisch typisiert in der Regel erheblich komplexere Syntax und\n",
"    Semantik\n",
"-   Dafür unter Umständen bessere Garantien, Verlässlichkeit der\n",
"    Programme"
]
    },{
     "cell_type": "markdown",
     "metadata": {
        "slideshow": {
           "slide_type": "slide"
         } 
     }, 
     "source": ["# Und nun?\n",
"\n",
"<center>![img](./figures/java-coming.png \"Java is coming!\")</center>\n",
"\n",
"  "
]
 }
],
 "metadata": {
  "celltoolbar": "Slideshow",
  "livereveal": {
        "theme": "simple",
        "transition": "none"
    },
  "kernelspec": {
   "display_name": "Python 3",
   "language": "python",
   "name": "python3"
  },
  "language_info": {
   "codemirror_mode": {
    "name": "ipython",
    "version": 3
   },
   "file_extension": ".py",
   "mimetype": "text/x-python",
   "name": "python",
   "nbconvert_exporter": "python",
   "pygments_lexer": "ipython3",
   "version": "3.5.1"
  }
 },
 "nbformat": 4,
 "nbformat_minor": 0
}